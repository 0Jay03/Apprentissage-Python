{
 "cells": [
  {
   "metadata": {},
   "cell_type": "markdown",
   "source": "* Notes sur les fonctions recursives",
   "id": "697d48e0c2ca2cfb"
  },
  {
   "cell_type": "code",
   "id": "initial_id",
   "metadata": {
    "collapsed": true,
    "ExecuteTime": {
     "end_time": "2025-03-05T03:38:51.529107Z",
     "start_time": "2025-03-05T03:38:51.523175Z"
    }
   },
   "source": [
    " def somme_liste(une_liste):\n",
    "     output = 0\n",
    "     for element in une_liste:\n",
    "         output += element\n",
    "     return output\n",
    " somme_liste([1, 2, 3])"
   ],
   "outputs": [
    {
     "data": {
      "text/plain": [
       "6"
      ]
     },
     "execution_count": 7,
     "metadata": {},
     "output_type": "execute_result"
    }
   ],
   "execution_count": 7
  },
  {
   "metadata": {
    "ExecuteTime": {
     "end_time": "2025-03-05T03:50:38.518375Z",
     "start_time": "2025-03-05T03:50:38.513328Z"
    }
   },
   "cell_type": "code",
   "source": [
    " def somme_liste(une_liste):\n",
    "     if une_liste == []:\n",
    "         return 0\n",
    "     return somme_liste + element,  for element in une_liste # Voici l erreur pour gerer ka recursion\n",
    "     "
   ],
   "id": "9a1415bdec5ef947",
   "outputs": [
    {
     "ename": "SyntaxError",
     "evalue": "invalid syntax (4130864215.py, line 4)",
     "output_type": "error",
     "traceback": [
      "\u001B[1;36m  Cell \u001B[1;32mIn[10], line 4\u001B[1;36m\u001B[0m\n\u001B[1;33m    return somme_liste + element,  for element in une_liste\u001B[0m\n\u001B[1;37m                                   ^\u001B[0m\n\u001B[1;31mSyntaxError\u001B[0m\u001B[1;31m:\u001B[0m invalid syntax\n"
     ]
    }
   ],
   "execution_count": 10
  },
  {
   "metadata": {
    "ExecuteTime": {
     "end_time": "2025-03-05T03:57:05.576230Z",
     "start_time": "2025-03-05T03:57:05.571911Z"
    }
   },
   "cell_type": "code",
   "source": [
    "def somme_liste(une_liste):\n",
    "     if une_liste == []:\n",
    "         return 0\n",
    "     return une_liste[0] + somme_liste(une_liste[1:]) # correction de syntaxe Somme du premier élément et du reste\n",
    "print(somme_liste([1, 2, 3]))\n",
    "print(somme_liste([]))"
   ],
   "id": "e7bc8b9f6d759933",
   "outputs": [
    {
     "name": "stdout",
     "output_type": "stream",
     "text": [
      "6\n",
      "0\n",
      "0\n"
     ]
    }
   ],
   "execution_count": 15
  },
  {
   "metadata": {
    "ExecuteTime": {
     "end_time": "2025-03-05T04:20:35.003852Z",
     "start_time": "2025-03-05T04:20:35.000073Z"
    }
   },
   "cell_type": "code",
   "source": [
    "                            # Exercice sur le factoriel\n",
    "# Définir une fonction récursive factorielle qui à un nombre n calcule sa factorielle n! = 1 × 2 ×...× n :\n",
    "\n",
    "def factorielle(n):\n",
    "    if n < 0:\n",
    "        return \"Nombre negatif\"\n",
    "    if n == 0:\n",
    "        return 1\n",
    "    return n * factorielle(n-1)\n",
    "\n",
    "factorielle(-5)"
   ],
   "id": "239205ff1fbead30",
   "outputs": [
    {
     "data": {
      "text/plain": [
       "'Nombre negatif'"
      ]
     },
     "execution_count": 45,
     "metadata": {},
     "output_type": "execute_result"
    }
   ],
   "execution_count": 45
  },
  {
   "metadata": {
    "ExecuteTime": {
     "end_time": "2025-03-25T13:10:07.227747Z",
     "start_time": "2025-03-25T13:05:51.999845Z"
    }
   },
   "cell_type": "code",
   "source": [
    "# Exercice\n",
    "import pandas as pd\n",
    "import seaborn as sns\n",
    "import matplotlib.pyplot as plt\n",
    "link = 'https://raw.githubusercontent.com/QuantikDataStudio/dataset/main/kickstarter.csv'\n",
    "\n",
    "df = pd.read_csv(link, on_bad_lines='skip', index_col = 0)\n",
    "\n",
    "print(df.info())\n",
    "print(df.describe())\n",
    "\n",
    "sns.pairplot(df)\n",
    "plt.show()\n"
   ],
   "id": "66e7e57ac50fc9a6",
   "outputs": [
    {
     "name": "stdout",
     "output_type": "stream",
     "text": [
      "<class 'pandas.core.frame.DataFrame'>\n",
      "Index: 88243 entries, 1000002330 to 1448719328\n",
      "Data columns (total 14 columns):\n",
      " #   Column            Non-Null Count  Dtype  \n",
      "---  ------            --------------  -----  \n",
      " 0   name              77589 non-null  object \n",
      " 1   category          77589 non-null  object \n",
      " 2   main_category     77589 non-null  object \n",
      " 3   currency          77589 non-null  object \n",
      " 4   deadline          77589 non-null  object \n",
      " 5   goal              77589 non-null  object \n",
      " 6   launched          77589 non-null  object \n",
      " 7   pledged           77589 non-null  object \n",
      " 8   state             77589 non-null  object \n",
      " 9   backers           77589 non-null  object \n",
      " 10  country           77589 non-null  object \n",
      " 11  usd pledged       77589 non-null  float64\n",
      " 12  usd_pledged_real  77589 non-null  object \n",
      " 13  usd_goal_real;;   77573 non-null  object \n",
      "dtypes: float64(1), object(13)\n",
      "memory usage: 10.1+ MB\n",
      "None\n",
      "        usd pledged\n",
      "count  7.758900e+04\n",
      "mean   7.111468e+03\n",
      "std    6.833390e+04\n",
      "min    0.000000e+00\n",
      "25%    1.500000e+01\n",
      "50%    3.750000e+02\n",
      "75%    3.008000e+03\n",
      "max    8.596475e+06\n"
     ]
    },
    {
     "data": {
      "text/plain": [
       "<Figure size 250x250 with 2 Axes>"
      ],
      "image/png": "[encoded data removed]"
     },
     "metadata": {},
     "output_type": "display_data"
    }
   ],
   "execution_count": 4
  },
  {
   "metadata": {
    "ExecuteTime": {
     "end_time": "2025-03-05T04:18:56.265419Z",
     "start_time": "2025-03-05T04:18:56.263361Z"
    }
   },
   "cell_type": "code",
   "source": "",
   "id": "cd8fa9f6409bd084",
   "outputs": [],
   "execution_count": null
  },
  {
   "metadata": {
    "ExecuteTime": {
     "end_time": "2025-03-05T04:28:41.056195Z",
     "start_time": "2025-03-05T04:28:41.053549Z"
    }
   },
   "cell_type": "code",
   "source": "",
   "id": "6f16eb5732a1abe9",
   "outputs": [],
   "execution_count": null
  },
  {
   "metadata": {
    "ExecuteTime": {
     "end_time": "2025-03-05T04:28:39.847593Z",
     "start_time": "2025-03-05T04:28:39.845465Z"
    }
   },
   "cell_type": "code",
   "source": "",
   "id": "8b726c3329cc34d7",
   "outputs": [],
   "execution_count": null
  },
  {
   "metadata": {},
   "cell_type": "code",
   "outputs": [],
   "execution_count": null,
   "source": "",
   "id": "9be68d3bc9417cdf"
  }
 ],
 "metadata": {
  "kernelspec": {
   "display_name": "Python 3",
   "language": "python",
   "name": "python3"
  },
  "language_info": {
   "codemirror_mode": {
    "name": "ipython",
    "version": 2
   },
   "file_extension": ".py",
   "mimetype": "text/x-python",
   "name": "python",
   "nbconvert_exporter": "python",
   "pygments_lexer": "ipython2",
   "version": "2.7.6"
  }
 },
 "nbformat": 4,
 "nbformat_minor": 5
}
