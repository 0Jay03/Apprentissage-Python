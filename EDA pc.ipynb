{
 "cells": [
  {
   "metadata": {},
   "cell_type": "markdown",
   "source": "# INTRODUCTION",
   "id": "f5b762503e1b5499"
  },
  {
   "metadata": {
    "ExecuteTime": {
     "end_time": "2025-03-29T03:32:32.921079Z",
     "start_time": "2025-03-29T03:32:05.036969Z"
    }
   },
   "cell_type": "code",
   "source": [
    "import pandas as pd\n",
    "import numpy as np\n",
    "\n",
    "link = 'https://raw.githubusercontent.com/QuantikDataStudio/dataset/main/kickstarter.csv'\n",
    "\n",
    "data = pd.read_csv(link, on_bad_lines='skip', index_col = 0)\n",
    "data.head()"
   ],
   "id": "5f7097fc050b3f7c",
   "outputs": [
    {
     "data": {
      "text/plain": [
       "                                                         name        category  \\\n",
       "ID                                                                              \n",
       "1000002330                    The Songs of Adelaide & Abullah          Poetry   \n",
       "1000003930      Greeting From Earth: ZGAC Arts Capsule For ET  Narrative Film   \n",
       "1000004038                                     Where is Hank?  Narrative Film   \n",
       "1000007540  ToshiCapital Rekordz Needs Help to Complete Album           Music   \n",
       "1000011046  Community Film Project: The Art of Neighborhoo...    Film & Video   \n",
       "\n",
       "           main_category currency    deadline      goal             launched  \\\n",
       "ID                                                                             \n",
       "1000002330    Publishing      GBP  2015-10-09   1000.00  2015-08-11 12:12:28   \n",
       "1000003930  Film & Video      USD  2017-11-01  30000.00  2017-09-02 04:43:57   \n",
       "1000004038  Film & Video      USD  2013-02-26  45000.00  2013-01-12 00:20:50   \n",
       "1000007540         Music      USD  2012-04-16   5000.00  2012-03-17 03:24:11   \n",
       "1000011046  Film & Video      USD  2015-08-29  19500.00  2015-07-04 08:35:03   \n",
       "\n",
       "            pledged     state backers country  usd pledged usd_pledged_real  \\\n",
       "ID                                                                            \n",
       "1000002330     0.00    failed       0      GB          0.0             0.00   \n",
       "1000003930  2421.00    failed      15      US        100.0          2421.00   \n",
       "1000004038   220.00    failed       3      US        220.0           220.00   \n",
       "1000007540     1.00    failed       1      US          1.0             1.00   \n",
       "1000011046  1283.00  canceled      14      US       1283.0          1283.00   \n",
       "\n",
       "           usd_goal_real;;  \n",
       "ID                          \n",
       "1000002330       1533.95;;  \n",
       "1000003930      30000.00;;  \n",
       "1000004038      45000.00;;  \n",
       "1000007540       5000.00;;  \n",
       "1000011046      19500.00;;  "
      ],
      "text/html": [
       "<div>\n",
       "<style scoped>\n",
       "    .dataframe tbody tr th:only-of-type {\n",
       "        vertical-align: middle;\n",
       "    }\n",
       "\n",
       "    .dataframe tbody tr th {\n",
       "        vertical-align: top;\n",
       "    }\n",
       "\n",
       "    .dataframe thead th {\n",
       "        text-align: right;\n",
       "    }\n",
       "</style>\n",
       "<table border=\"1\" class=\"dataframe\">\n",
       "  <thead>\n",
       "    <tr style=\"text-align: right;\">\n",
       "      <th></th>\n",
       "      <th>name</th>\n",
       "      <th>category</th>\n",
       "      <th>main_category</th>\n",
       "      <th>currency</th>\n",
       "      <th>deadline</th>\n",
       "      <th>goal</th>\n",
       "      <th>launched</th>\n",
       "      <th>pledged</th>\n",
       "      <th>state</th>\n",
       "      <th>backers</th>\n",
       "      <th>country</th>\n",
       "      <th>usd pledged</th>\n",
       "      <th>usd_pledged_real</th>\n",
       "      <th>usd_goal_real;;</th>\n",
       "    </tr>\n",
       "    <tr>\n",
       "      <th>ID</th>\n",
       "      <th></th>\n",
       "      <th></th>\n",
       "      <th></th>\n",
       "      <th></th>\n",
       "      <th></th>\n",
       "      <th></th>\n",
       "      <th></th>\n",
       "      <th></th>\n",
       "      <th></th>\n",
       "      <th></th>\n",
       "      <th></th>\n",
       "      <th></th>\n",
       "      <th></th>\n",
       "      <th></th>\n",
       "    </tr>\n",
       "  </thead>\n",
       "  <tbody>\n",
       "    <tr>\n",
       "      <th>1000002330</th>\n",
       "      <td>The Songs of Adelaide &amp; Abullah</td>\n",
       "      <td>Poetry</td>\n",
       "      <td>Publishing</td>\n",
       "      <td>GBP</td>\n",
       "      <td>2015-10-09</td>\n",
       "      <td>1000.00</td>\n",
       "      <td>2015-08-11 12:12:28</td>\n",
       "      <td>0.00</td>\n",
       "      <td>failed</td>\n",
       "      <td>0</td>\n",
       "      <td>GB</td>\n",
       "      <td>0.0</td>\n",
       "      <td>0.00</td>\n",
       "      <td>1533.95;;</td>\n",
       "    </tr>\n",
       "    <tr>\n",
       "      <th>1000003930</th>\n",
       "      <td>Greeting From Earth: ZGAC Arts Capsule For ET</td>\n",
       "      <td>Narrative Film</td>\n",
       "      <td>Film &amp; Video</td>\n",
       "      <td>USD</td>\n",
       "      <td>2017-11-01</td>\n",
       "      <td>30000.00</td>\n",
       "      <td>2017-09-02 04:43:57</td>\n",
       "      <td>2421.00</td>\n",
       "      <td>failed</td>\n",
       "      <td>15</td>\n",
       "      <td>US</td>\n",
       "      <td>100.0</td>\n",
       "      <td>2421.00</td>\n",
       "      <td>30000.00;;</td>\n",
       "    </tr>\n",
       "    <tr>\n",
       "      <th>1000004038</th>\n",
       "      <td>Where is Hank?</td>\n",
       "      <td>Narrative Film</td>\n",
       "      <td>Film &amp; Video</td>\n",
       "      <td>USD</td>\n",
       "      <td>2013-02-26</td>\n",
       "      <td>45000.00</td>\n",
       "      <td>2013-01-12 00:20:50</td>\n",
       "      <td>220.00</td>\n",
       "      <td>failed</td>\n",
       "      <td>3</td>\n",
       "      <td>US</td>\n",
       "      <td>220.0</td>\n",
       "      <td>220.00</td>\n",
       "      <td>45000.00;;</td>\n",
       "    </tr>\n",
       "    <tr>\n",
       "      <th>1000007540</th>\n",
       "      <td>ToshiCapital Rekordz Needs Help to Complete Album</td>\n",
       "      <td>Music</td>\n",
       "      <td>Music</td>\n",
       "      <td>USD</td>\n",
       "      <td>2012-04-16</td>\n",
       "      <td>5000.00</td>\n",
       "      <td>2012-03-17 03:24:11</td>\n",
       "      <td>1.00</td>\n",
       "      <td>failed</td>\n",
       "      <td>1</td>\n",
       "      <td>US</td>\n",
       "      <td>1.0</td>\n",
       "      <td>1.00</td>\n",
       "      <td>5000.00;;</td>\n",
       "    </tr>\n",
       "    <tr>\n",
       "      <th>1000011046</th>\n",
       "      <td>Community Film Project: The Art of Neighborhoo...</td>\n",
       "      <td>Film &amp; Video</td>\n",
       "      <td>Film &amp; Video</td>\n",
       "      <td>USD</td>\n",
       "      <td>2015-08-29</td>\n",
       "      <td>19500.00</td>\n",
       "      <td>2015-07-04 08:35:03</td>\n",
       "      <td>1283.00</td>\n",
       "      <td>canceled</td>\n",
       "      <td>14</td>\n",
       "      <td>US</td>\n",
       "      <td>1283.0</td>\n",
       "      <td>1283.00</td>\n",
       "      <td>19500.00;;</td>\n",
       "    </tr>\n",
       "  </tbody>\n",
       "</table>\n",
       "</div>"
      ]
     },
     "execution_count": 38,
     "metadata": {},
     "output_type": "execute_result"
    }
   ],
   "execution_count": 38
  },
  {
   "metadata": {
    "ExecuteTime": {
     "end_time": "2025-03-25T11:44:13.250489Z",
     "start_time": "2025-03-25T11:44:13.226822Z"
    }
   },
   "cell_type": "code",
   "source": [
    "columns_to_drop = ['usd pledged', 'usd_pledged_real', 'usd_goal_real;;'] # Nous permet de supprimer les trois 03 dernieres colonnes qui ne nous servent a rien \n",
    "data = data.drop(columns=columns_to_drop)"
   ],
   "id": "77a9c7dd437e5021",
   "outputs": [],
   "execution_count": 25
  },
  {
   "metadata": {
    "ExecuteTime": {
     "end_time": "2025-03-25T11:44:14.980493Z",
     "start_time": "2025-03-25T11:44:14.787620Z"
    }
   },
   "cell_type": "code",
   "source": "data = data.dropna()  # Enleve les lignes qui contiennent au moins une valeur manquante",
   "id": "c512660e6b6e3584",
   "outputs": [],
   "execution_count": 26
  },
  {
   "metadata": {
    "ExecuteTime": {
     "end_time": "2025-03-25T11:44:16.362128Z",
     "start_time": "2025-03-25T11:44:16.350175Z"
    }
   },
   "cell_type": "code",
   "source": "print(data['goal']) # Le type ici est Object ce qui n'est pas bon car on veut des Float. pour se faire en mettant data['goal'].astype(float) on a une erreur car contient des element de la forme '2014-05-01 17:36:59' . On cherche alors par la suite a supprimer ces elements qui contiennent des \"tirets < - > \"",
   "id": "2d0ec78427838948",
   "outputs": [
    {
     "name": "stdout",
     "output_type": "stream",
     "text": [
      "ID\n",
      "1000002330      1000.00\n",
      "1000003930     30000.00\n",
      "1000004038     45000.00\n",
      "1000007540      5000.00\n",
      "1000011046     19500.00\n",
      "                ...    \n",
      "1448687698      1800.00\n",
      "1448688798       600.00\n",
      "1448696449      5000.00\n",
      "1448702836     15000.00\n",
      "1448719328    195000.00\n",
      "Name: goal, Length: 77589, dtype: object\n"
     ]
    }
   ],
   "execution_count": 27
  },
  {
   "metadata": {
    "ExecuteTime": {
     "end_time": "2025-03-25T11:44:19.240243Z",
     "start_time": "2025-03-25T11:44:19.027327Z"
    }
   },
   "cell_type": "code",
   "source": [
    "data = data[~data['goal'].str.contains('-')].copy()    # Cette syntaxe est utilisée pour supp les lignes ave c des tirets on assigne ensuite a data['goal'] puis on connvertit en float. ON    ajoute apes notre code .copy() pour eviter les erreurs et ne pas ecraser la valeur de data['goal'] initiale\n",
    "data['goal'] = data['goal'].astype(float)"
   ],
   "id": "287fb8ea460d07b8",
   "outputs": [],
   "execution_count": 28
  },
  {
   "metadata": {
    "ExecuteTime": {
     "end_time": "2025-03-25T11:46:06.410184Z",
     "start_time": "2025-03-25T11:46:06.353283Z"
    }
   },
   "cell_type": "code",
   "source": [
    "# On fait la meme chose avec les deux autres colonnes 'pledged' et 'backers' devant chacun etre respectivement des decimaux et des entiers N\n",
    "\n",
    "data['pledged'] = data['pledged'].astype(float) # Argent promis qui peut avoir des centimes 19,99 euros et backers qui decompte le nombre de personne \n",
    "data['backers'] = data['backers'].astype(int)"
   ],
   "id": "aad0dae367c006b4",
   "outputs": [],
   "execution_count": 29
  },
  {
   "metadata": {
    "ExecuteTime": {
     "end_time": "2025-03-25T11:48:31.723676Z",
     "start_time": "2025-03-25T11:48:30.781356Z"
    }
   },
   "cell_type": "code",
   "source": [
    "masque = data['goal'] < 600000  # On cree un dataset plus petit avc des chiffres gerables \n",
    "data = data.loc[masque].copy()"
   ],
   "id": "f06c308673031942",
   "outputs": [],
   "execution_count": 30
  },
  {
   "metadata": {
    "ExecuteTime": {
     "end_time": "2025-03-25T11:53:31.163935Z",
     "start_time": "2025-03-25T11:53:31.147078Z"
    }
   },
   "cell_type": "code",
   "source": [
    "# Pour connaitre les valeurs de \"state\"\n",
    "  \n",
    "'''Failed pour les projets qui n'ont pas atteint le quota d'argent requis\n",
    "canceled pour les projets annulés\n",
    "successful pour les projets qui ont atteints le montant requis\n",
    "live pour les projets en cours \n",
    "suspended pour les projets suspendu\n",
    "'''\n",
    "\n",
    "data.state.unique()"
   ],
   "id": "62624558dd0d067c",
   "outputs": [
    {
     "data": {
      "text/plain": [
       "array(['failed', 'canceled', 'successful', 'live', 'suspended'],\n",
       "      dtype=object)"
      ]
     },
     "execution_count": 33,
     "metadata": {},
     "output_type": "execute_result"
    }
   ],
   "execution_count": 33
  },
  {
   "cell_type": "code",
   "id": "initial_id",
   "metadata": {
    "collapsed": true,
    "ExecuteTime": {
     "end_time": "2025-03-25T12:00:36.508976Z",
     "start_time": "2025-03-25T12:00:36.324539Z"
    }
   },
   "source": [
    "# On ne s'interesse qu'aux projets succesful et failed\n",
    "\n",
    "masque = (data['state'] == 'failed') | (data['state'] == 'successful')  # Ici on veu soit les projets qui ont soit echou\", soit reussi\n",
    "data = data.loc[masque].copy()\n",
    "data = data.head(20000) # Lorsqu'on a de milliers de lignes on peut prendre un nombre de ligne au hasard parce que dans ce cas les 20000 premieres lignes peuvent avoir la meme syntaxe et par exple a partir de 40000 la syntaxe change on emploit donc la methode 'SAMPLE'\n"
   ],
   "outputs": [],
   "execution_count": 35
  },
  {
   "metadata": {
    "ExecuteTime": {
     "end_time": "2025-03-25T12:00:40.795861Z",
     "start_time": "2025-03-25T12:00:40.163856Z"
    }
   },
   "cell_type": "code",
   "source": "data.info();\n",
   "id": "b8d78d0ffd1ee38c",
   "outputs": [
    {
     "name": "stdout",
     "output_type": "stream",
     "text": [
      "<class 'pandas.core.frame.DataFrame'>\n",
      "Index: 20000 entries, 1000002330 to 113204057\n",
      "Data columns (total 11 columns):\n",
      " #   Column         Non-Null Count  Dtype  \n",
      "---  ------         --------------  -----  \n",
      " 0   name           20000 non-null  object \n",
      " 1   category       20000 non-null  object \n",
      " 2   main_category  20000 non-null  object \n",
      " 3   currency       20000 non-null  object \n",
      " 4   deadline       20000 non-null  object \n",
      " 5   goal           20000 non-null  float64\n",
      " 6   launched       20000 non-null  object \n",
      " 7   pledged        20000 non-null  float64\n",
      " 8   state          20000 non-null  object \n",
      " 9   backers        20000 non-null  int64  \n",
      " 10  country        20000 non-null  object \n",
      "dtypes: float64(2), int64(1), object(8)\n",
      "memory usage: 1.8+ MB\n"
     ]
    },
    {
     "data": {
      "text/plain": [
       "                                                         name        category  \\\n",
       "ID                                                                              \n",
       "1000002330                    The Songs of Adelaide & Abullah          Poetry   \n",
       "1000003930      Greeting From Earth: ZGAC Arts Capsule For ET  Narrative Film   \n",
       "1000004038                                     Where is Hank?  Narrative Film   \n",
       "1000007540  ToshiCapital Rekordz Needs Help to Complete Album           Music   \n",
       "1000014025                               Monarch Espresso Bar     Restaurants   \n",
       "\n",
       "           main_category currency    deadline     goal             launched  \\\n",
       "ID                                                                            \n",
       "1000002330    Publishing      GBP  2015-10-09   1000.0  2015-08-11 12:12:28   \n",
       "1000003930  Film & Video      USD  2017-11-01  30000.0  2017-09-02 04:43:57   \n",
       "1000004038  Film & Video      USD  2013-02-26  45000.0  2013-01-12 00:20:50   \n",
       "1000007540         Music      USD  2012-04-16   5000.0  2012-03-17 03:24:11   \n",
       "1000014025          Food      USD  2016-04-01  50000.0  2016-02-26 13:38:27   \n",
       "\n",
       "            pledged       state  backers country  \n",
       "ID                                                \n",
       "1000002330      0.0      failed        0      GB  \n",
       "1000003930   2421.0      failed       15      US  \n",
       "1000004038    220.0      failed        3      US  \n",
       "1000007540      1.0      failed        1      US  \n",
       "1000014025  52375.0  successful      224      US  "
      ],
      "text/html": [
       "<div>\n",
       "<style scoped>\n",
       "    .dataframe tbody tr th:only-of-type {\n",
       "        vertical-align: middle;\n",
       "    }\n",
       "\n",
       "    .dataframe tbody tr th {\n",
       "        vertical-align: top;\n",
       "    }\n",
       "\n",
       "    .dataframe thead th {\n",
       "        text-align: right;\n",
       "    }\n",
       "</style>\n",
       "<table border=\"1\" class=\"dataframe\">\n",
       "  <thead>\n",
       "    <tr style=\"text-align: right;\">\n",
       "      <th></th>\n",
       "      <th>name</th>\n",
       "      <th>category</th>\n",
       "      <th>main_category</th>\n",
       "      <th>currency</th>\n",
       "      <th>deadline</th>\n",
       "      <th>goal</th>\n",
       "      <th>launched</th>\n",
       "      <th>pledged</th>\n",
       "      <th>state</th>\n",
       "      <th>backers</th>\n",
       "      <th>country</th>\n",
       "    </tr>\n",
       "    <tr>\n",
       "      <th>ID</th>\n",
       "      <th></th>\n",
       "      <th></th>\n",
       "      <th></th>\n",
       "      <th></th>\n",
       "      <th></th>\n",
       "      <th></th>\n",
       "      <th></th>\n",
       "      <th></th>\n",
       "      <th></th>\n",
       "      <th></th>\n",
       "      <th></th>\n",
       "    </tr>\n",
       "  </thead>\n",
       "  <tbody>\n",
       "    <tr>\n",
       "      <th>1000002330</th>\n",
       "      <td>The Songs of Adelaide &amp; Abullah</td>\n",
       "      <td>Poetry</td>\n",
       "      <td>Publishing</td>\n",
       "      <td>GBP</td>\n",
       "      <td>2015-10-09</td>\n",
       "      <td>1000.0</td>\n",
       "      <td>2015-08-11 12:12:28</td>\n",
       "      <td>0.0</td>\n",
       "      <td>failed</td>\n",
       "      <td>0</td>\n",
       "      <td>GB</td>\n",
       "    </tr>\n",
       "    <tr>\n",
       "      <th>1000003930</th>\n",
       "      <td>Greeting From Earth: ZGAC Arts Capsule For ET</td>\n",
       "      <td>Narrative Film</td>\n",
       "      <td>Film &amp; Video</td>\n",
       "      <td>USD</td>\n",
       "      <td>2017-11-01</td>\n",
       "      <td>30000.0</td>\n",
       "      <td>2017-09-02 04:43:57</td>\n",
       "      <td>2421.0</td>\n",
       "      <td>failed</td>\n",
       "      <td>15</td>\n",
       "      <td>US</td>\n",
       "    </tr>\n",
       "    <tr>\n",
       "      <th>1000004038</th>\n",
       "      <td>Where is Hank?</td>\n",
       "      <td>Narrative Film</td>\n",
       "      <td>Film &amp; Video</td>\n",
       "      <td>USD</td>\n",
       "      <td>2013-02-26</td>\n",
       "      <td>45000.0</td>\n",
       "      <td>2013-01-12 00:20:50</td>\n",
       "      <td>220.0</td>\n",
       "      <td>failed</td>\n",
       "      <td>3</td>\n",
       "      <td>US</td>\n",
       "    </tr>\n",
       "    <tr>\n",
       "      <th>1000007540</th>\n",
       "      <td>ToshiCapital Rekordz Needs Help to Complete Album</td>\n",
       "      <td>Music</td>\n",
       "      <td>Music</td>\n",
       "      <td>USD</td>\n",
       "      <td>2012-04-16</td>\n",
       "      <td>5000.0</td>\n",
       "      <td>2012-03-17 03:24:11</td>\n",
       "      <td>1.0</td>\n",
       "      <td>failed</td>\n",
       "      <td>1</td>\n",
       "      <td>US</td>\n",
       "    </tr>\n",
       "    <tr>\n",
       "      <th>1000014025</th>\n",
       "      <td>Monarch Espresso Bar</td>\n",
       "      <td>Restaurants</td>\n",
       "      <td>Food</td>\n",
       "      <td>USD</td>\n",
       "      <td>2016-04-01</td>\n",
       "      <td>50000.0</td>\n",
       "      <td>2016-02-26 13:38:27</td>\n",
       "      <td>52375.0</td>\n",
       "      <td>successful</td>\n",
       "      <td>224</td>\n",
       "      <td>US</td>\n",
       "    </tr>\n",
       "  </tbody>\n",
       "</table>\n",
       "</div>"
      ]
     },
     "execution_count": 36,
     "metadata": {},
     "output_type": "execute_result"
    }
   ],
   "execution_count": 36
  },
  {
   "metadata": {
    "ExecuteTime": {
     "end_time": "2025-03-25T12:01:35.968148Z",
     "start_time": "2025-03-25T12:01:35.939816Z"
    }
   },
   "cell_type": "code",
   "source": "data.head()         # Rendu final",
   "id": "938651a2331ed97c",
   "outputs": [
    {
     "data": {
      "text/plain": [
       "                                                         name        category  \\\n",
       "ID                                                                              \n",
       "1000002330                    The Songs of Adelaide & Abullah          Poetry   \n",
       "1000003930      Greeting From Earth: ZGAC Arts Capsule For ET  Narrative Film   \n",
       "1000004038                                     Where is Hank?  Narrative Film   \n",
       "1000007540  ToshiCapital Rekordz Needs Help to Complete Album           Music   \n",
       "1000014025                               Monarch Espresso Bar     Restaurants   \n",
       "\n",
       "           main_category currency    deadline     goal             launched  \\\n",
       "ID                                                                            \n",
       "1000002330    Publishing      GBP  2015-10-09   1000.0  2015-08-11 12:12:28   \n",
       "1000003930  Film & Video      USD  2017-11-01  30000.0  2017-09-02 04:43:57   \n",
       "1000004038  Film & Video      USD  2013-02-26  45000.0  2013-01-12 00:20:50   \n",
       "1000007540         Music      USD  2012-04-16   5000.0  2012-03-17 03:24:11   \n",
       "1000014025          Food      USD  2016-04-01  50000.0  2016-02-26 13:38:27   \n",
       "\n",
       "            pledged       state  backers country  \n",
       "ID                                                \n",
       "1000002330      0.0      failed        0      GB  \n",
       "1000003930   2421.0      failed       15      US  \n",
       "1000004038    220.0      failed        3      US  \n",
       "1000007540      1.0      failed        1      US  \n",
       "1000014025  52375.0  successful      224      US  "
      ],
      "text/html": [
       "<div>\n",
       "<style scoped>\n",
       "    .dataframe tbody tr th:only-of-type {\n",
       "        vertical-align: middle;\n",
       "    }\n",
       "\n",
       "    .dataframe tbody tr th {\n",
       "        vertical-align: top;\n",
       "    }\n",
       "\n",
       "    .dataframe thead th {\n",
       "        text-align: right;\n",
       "    }\n",
       "</style>\n",
       "<table border=\"1\" class=\"dataframe\">\n",
       "  <thead>\n",
       "    <tr style=\"text-align: right;\">\n",
       "      <th></th>\n",
       "      <th>name</th>\n",
       "      <th>category</th>\n",
       "      <th>main_category</th>\n",
       "      <th>currency</th>\n",
       "      <th>deadline</th>\n",
       "      <th>goal</th>\n",
       "      <th>launched</th>\n",
       "      <th>pledged</th>\n",
       "      <th>state</th>\n",
       "      <th>backers</th>\n",
       "      <th>country</th>\n",
       "    </tr>\n",
       "    <tr>\n",
       "      <th>ID</th>\n",
       "      <th></th>\n",
       "      <th></th>\n",
       "      <th></th>\n",
       "      <th></th>\n",
       "      <th></th>\n",
       "      <th></th>\n",
       "      <th></th>\n",
       "      <th></th>\n",
       "      <th></th>\n",
       "      <th></th>\n",
       "      <th></th>\n",
       "    </tr>\n",
       "  </thead>\n",
       "  <tbody>\n",
       "    <tr>\n",
       "      <th>1000002330</th>\n",
       "      <td>The Songs of Adelaide &amp; Abullah</td>\n",
       "      <td>Poetry</td>\n",
       "      <td>Publishing</td>\n",
       "      <td>GBP</td>\n",
       "      <td>2015-10-09</td>\n",
       "      <td>1000.0</td>\n",
       "      <td>2015-08-11 12:12:28</td>\n",
       "      <td>0.0</td>\n",
       "      <td>failed</td>\n",
       "      <td>0</td>\n",
       "      <td>GB</td>\n",
       "    </tr>\n",
       "    <tr>\n",
       "      <th>1000003930</th>\n",
       "      <td>Greeting From Earth: ZGAC Arts Capsule For ET</td>\n",
       "      <td>Narrative Film</td>\n",
       "      <td>Film &amp; Video</td>\n",
       "      <td>USD</td>\n",
       "      <td>2017-11-01</td>\n",
       "      <td>30000.0</td>\n",
       "      <td>2017-09-02 04:43:57</td>\n",
       "      <td>2421.0</td>\n",
       "      <td>failed</td>\n",
       "      <td>15</td>\n",
       "      <td>US</td>\n",
       "    </tr>\n",
       "    <tr>\n",
       "      <th>1000004038</th>\n",
       "      <td>Where is Hank?</td>\n",
       "      <td>Narrative Film</td>\n",
       "      <td>Film &amp; Video</td>\n",
       "      <td>USD</td>\n",
       "      <td>2013-02-26</td>\n",
       "      <td>45000.0</td>\n",
       "      <td>2013-01-12 00:20:50</td>\n",
       "      <td>220.0</td>\n",
       "      <td>failed</td>\n",
       "      <td>3</td>\n",
       "      <td>US</td>\n",
       "    </tr>\n",
       "    <tr>\n",
       "      <th>1000007540</th>\n",
       "      <td>ToshiCapital Rekordz Needs Help to Complete Album</td>\n",
       "      <td>Music</td>\n",
       "      <td>Music</td>\n",
       "      <td>USD</td>\n",
       "      <td>2012-04-16</td>\n",
       "      <td>5000.0</td>\n",
       "      <td>2012-03-17 03:24:11</td>\n",
       "      <td>1.0</td>\n",
       "      <td>failed</td>\n",
       "      <td>1</td>\n",
       "      <td>US</td>\n",
       "    </tr>\n",
       "    <tr>\n",
       "      <th>1000014025</th>\n",
       "      <td>Monarch Espresso Bar</td>\n",
       "      <td>Restaurants</td>\n",
       "      <td>Food</td>\n",
       "      <td>USD</td>\n",
       "      <td>2016-04-01</td>\n",
       "      <td>50000.0</td>\n",
       "      <td>2016-02-26 13:38:27</td>\n",
       "      <td>52375.0</td>\n",
       "      <td>successful</td>\n",
       "      <td>224</td>\n",
       "      <td>US</td>\n",
       "    </tr>\n",
       "  </tbody>\n",
       "</table>\n",
       "</div>"
      ]
     },
     "execution_count": 37,
     "metadata": {},
     "output_type": "execute_result"
    }
   ],
   "execution_count": 37
  },
  {
   "metadata": {},
   "cell_type": "code",
   "outputs": [],
   "execution_count": null,
   "source": "",
   "id": "a2777709563f7b37"
  },
  {
   "metadata": {},
   "cell_type": "markdown",
   "source": [
    "# Moyenne, médiane et quantiles\n",
    "\n",
    "\n",
    "+ Déterminer les variables numériques et les stocker dans un tableau num_data"
   ],
   "id": "537f3de4d5cedefc"
  },
  {
   "metadata": {
    "ExecuteTime": {
     "end_time": "2025-03-25T13:10:10.881834Z",
     "start_time": "2025-03-25T13:10:10.854449Z"
    }
   },
   "cell_type": "code",
   "source": [
    "num_data = data.select_dtypes(include=['int64','float64'])  # SELECT_DTYPES est une methode. On ne peut calculer la moyenne que sur les valeurs num\n",
    "num_data"
   ],
   "id": "713f8c0db47fb5f7",
   "outputs": [
    {
     "data": {
      "text/plain": [
       "               goal   pledged  backers\n",
       "ID                                    \n",
       "1000002330   1000.0       0.0        0\n",
       "1000003930  30000.0    2421.0       15\n",
       "1000004038  45000.0     220.0        3\n",
       "1000007540   5000.0       1.0        1\n",
       "1000014025  50000.0   52375.0      224\n",
       "...             ...       ...      ...\n",
       "1132019813   4000.0    4550.0       55\n",
       "1132026580   1500.0      15.0        1\n",
       "1132035662  35000.0   35912.0      367\n",
       "1132037267  20000.0       6.0        2\n",
       "113204057   50000.0  117192.0      980\n",
       "\n",
       "[20000 rows x 3 columns]"
      ],
      "text/html": [
       "<div>\n",
       "<style scoped>\n",
       "    .dataframe tbody tr th:only-of-type {\n",
       "        vertical-align: middle;\n",
       "    }\n",
       "\n",
       "    .dataframe tbody tr th {\n",
       "        vertical-align: top;\n",
       "    }\n",
       "\n",
       "    .dataframe thead th {\n",
       "        text-align: right;\n",
       "    }\n",
       "</style>\n",
       "<table border=\"1\" class=\"dataframe\">\n",
       "  <thead>\n",
       "    <tr style=\"text-align: right;\">\n",
       "      <th></th>\n",
       "      <th>goal</th>\n",
       "      <th>pledged</th>\n",
       "      <th>backers</th>\n",
       "    </tr>\n",
       "    <tr>\n",
       "      <th>ID</th>\n",
       "      <th></th>\n",
       "      <th></th>\n",
       "      <th></th>\n",
       "    </tr>\n",
       "  </thead>\n",
       "  <tbody>\n",
       "    <tr>\n",
       "      <th>1000002330</th>\n",
       "      <td>1000.0</td>\n",
       "      <td>0.0</td>\n",
       "      <td>0</td>\n",
       "    </tr>\n",
       "    <tr>\n",
       "      <th>1000003930</th>\n",
       "      <td>30000.0</td>\n",
       "      <td>2421.0</td>\n",
       "      <td>15</td>\n",
       "    </tr>\n",
       "    <tr>\n",
       "      <th>1000004038</th>\n",
       "      <td>45000.0</td>\n",
       "      <td>220.0</td>\n",
       "      <td>3</td>\n",
       "    </tr>\n",
       "    <tr>\n",
       "      <th>1000007540</th>\n",
       "      <td>5000.0</td>\n",
       "      <td>1.0</td>\n",
       "      <td>1</td>\n",
       "    </tr>\n",
       "    <tr>\n",
       "      <th>1000014025</th>\n",
       "      <td>50000.0</td>\n",
       "      <td>52375.0</td>\n",
       "      <td>224</td>\n",
       "    </tr>\n",
       "    <tr>\n",
       "      <th>...</th>\n",
       "      <td>...</td>\n",
       "      <td>...</td>\n",
       "      <td>...</td>\n",
       "    </tr>\n",
       "    <tr>\n",
       "      <th>1132019813</th>\n",
       "      <td>4000.0</td>\n",
       "      <td>4550.0</td>\n",
       "      <td>55</td>\n",
       "    </tr>\n",
       "    <tr>\n",
       "      <th>1132026580</th>\n",
       "      <td>1500.0</td>\n",
       "      <td>15.0</td>\n",
       "      <td>1</td>\n",
       "    </tr>\n",
       "    <tr>\n",
       "      <th>1132035662</th>\n",
       "      <td>35000.0</td>\n",
       "      <td>35912.0</td>\n",
       "      <td>367</td>\n",
       "    </tr>\n",
       "    <tr>\n",
       "      <th>1132037267</th>\n",
       "      <td>20000.0</td>\n",
       "      <td>6.0</td>\n",
       "      <td>2</td>\n",
       "    </tr>\n",
       "    <tr>\n",
       "      <th>113204057</th>\n",
       "      <td>50000.0</td>\n",
       "      <td>117192.0</td>\n",
       "      <td>980</td>\n",
       "    </tr>\n",
       "  </tbody>\n",
       "</table>\n",
       "<p>20000 rows × 3 columns</p>\n",
       "</div>"
      ]
     },
     "execution_count": 38,
     "metadata": {},
     "output_type": "execute_result"
    }
   ],
   "execution_count": 38
  },
  {
   "metadata": {},
   "cell_type": "markdown",
   "source": [
    "+ Calculer la moyenne de chaque variable contenue dans num_data et les stocker dans un DataFrame stats avec comme unique colonne moyenne.\n",
    "+ Comparer la moyenne des collectes (pledged) avec celle des objectifs fixés (goal). Que constatez-vous ?\n",
    "\n",
    "> Pour la création du DataFrame stats, on pourra utiliser `pd.DataFrame` et l'attribut columns.\n",
    ">\n",
    "> Pour le calcul des moyennes, on pourra s'aider de `pandas.DataFrame.mean()`."
   ],
   "id": "8b8d550a2a7e5a29"
  },
  {
   "metadata": {
    "ExecuteTime": {
     "end_time": "2025-03-25T13:13:04.232077Z",
     "start_time": "2025-03-25T13:13:04.215873Z"
    }
   },
   "cell_type": "code",
   "source": [
    "# Calcul de la moyenne de chaque variable contenue dans num_data\n",
    "num_data.mean()"
   ],
   "id": "c9d8ebdf5269dd84",
   "outputs": [
    {
     "data": {
      "text/plain": [
       "goal       17944.893169\n",
       "pledged    10514.226824\n",
       "backers      116.169950\n",
       "dtype: float64"
      ]
     },
     "execution_count": 39,
     "metadata": {},
     "output_type": "execute_result"
    }
   ],
   "execution_count": 39
  },
  {
   "metadata": {
    "ExecuteTime": {
     "end_time": "2025-03-25T13:18:21.556612Z",
     "start_time": "2025-03-25T13:18:21.538403Z"
    }
   },
   "cell_type": "code",
   "source": [
    "# Creation du DataFrame\n",
    "\n",
    "stats = pd.DataFrame(num_data.mean(), columns=['moyenne'])\n",
    "stats"
   ],
   "id": "e20c4e758f8d929a",
   "outputs": [
    {
     "data": {
      "text/plain": [
       "              moyenne\n",
       "goal     17944.893169\n",
       "pledged  10514.226824\n",
       "backers    116.169950"
      ],
      "text/html": [
       "<div>\n",
       "<style scoped>\n",
       "    .dataframe tbody tr th:only-of-type {\n",
       "        vertical-align: middle;\n",
       "    }\n",
       "\n",
       "    .dataframe tbody tr th {\n",
       "        vertical-align: top;\n",
       "    }\n",
       "\n",
       "    .dataframe thead th {\n",
       "        text-align: right;\n",
       "    }\n",
       "</style>\n",
       "<table border=\"1\" class=\"dataframe\">\n",
       "  <thead>\n",
       "    <tr style=\"text-align: right;\">\n",
       "      <th></th>\n",
       "      <th>moyenne</th>\n",
       "    </tr>\n",
       "  </thead>\n",
       "  <tbody>\n",
       "    <tr>\n",
       "      <th>goal</th>\n",
       "      <td>17944.893169</td>\n",
       "    </tr>\n",
       "    <tr>\n",
       "      <th>pledged</th>\n",
       "      <td>10514.226824</td>\n",
       "    </tr>\n",
       "    <tr>\n",
       "      <th>backers</th>\n",
       "      <td>116.169950</td>\n",
       "    </tr>\n",
       "  </tbody>\n",
       "</table>\n",
       "</div>"
      ]
     },
     "execution_count": 41,
     "metadata": {},
     "output_type": "execute_result"
    }
   ],
   "execution_count": 41
  },
  {
   "metadata": {
    "ExecuteTime": {
     "end_time": "2025-03-25T13:18:49.658861Z",
     "start_time": "2025-03-25T13:18:49.645224Z"
    }
   },
   "cell_type": "code",
   "source": [
    "# Afficher seulement 2 chiffres significatifs.\n",
    "stats.round(2)"
   ],
   "id": "6a3fdffe15fd443f",
   "outputs": [
    {
     "data": {
      "text/plain": [
       "          moyenne\n",
       "goal     17944.89\n",
       "pledged  10514.23\n",
       "backers    116.17"
      ],
      "text/html": [
       "<div>\n",
       "<style scoped>\n",
       "    .dataframe tbody tr th:only-of-type {\n",
       "        vertical-align: middle;\n",
       "    }\n",
       "\n",
       "    .dataframe tbody tr th {\n",
       "        vertical-align: top;\n",
       "    }\n",
       "\n",
       "    .dataframe thead th {\n",
       "        text-align: right;\n",
       "    }\n",
       "</style>\n",
       "<table border=\"1\" class=\"dataframe\">\n",
       "  <thead>\n",
       "    <tr style=\"text-align: right;\">\n",
       "      <th></th>\n",
       "      <th>moyenne</th>\n",
       "    </tr>\n",
       "  </thead>\n",
       "  <tbody>\n",
       "    <tr>\n",
       "      <th>goal</th>\n",
       "      <td>17944.89</td>\n",
       "    </tr>\n",
       "    <tr>\n",
       "      <th>pledged</th>\n",
       "      <td>10514.23</td>\n",
       "    </tr>\n",
       "    <tr>\n",
       "      <th>backers</th>\n",
       "      <td>116.17</td>\n",
       "    </tr>\n",
       "  </tbody>\n",
       "</table>\n",
       "</div>"
      ]
     },
     "execution_count": 42,
     "metadata": {},
     "output_type": "execute_result"
    }
   ],
   "execution_count": 42
  },
  {
   "metadata": {
    "ExecuteTime": {
     "end_time": "2025-03-25T13:39:36.607076Z",
     "start_time": "2025-03-25T13:39:36.594592Z"
    }
   },
   "cell_type": "code",
   "source": [
    "moyenne_depart = np.mean([1,2,3,4,5,6,7,8,9,10])\n",
    "moyenne_depart_exageree = np.mean([1,2,3,4,5,6,7,8,9,10,1000])\n",
    "print('moyenne_depart', moyenne_depart)\n",
    "print('moyenne_depart_exageree', moyenne_depart_exageree)\n",
    "mediane_depart = np.median([1,2,3,4,5,6,7,8,9,10])\n",
    "mediane_depart_exageree = np.median([1,2,3,4,5,6,7,8,9,10,1000])\n",
    "print('mediane_depart', mediane_depart)\n",
    "print('mediane_depart_exageree', mediane_depart_exageree)"
   ],
   "id": "3a6d107a452daec2",
   "outputs": [
    {
     "name": "stdout",
     "output_type": "stream",
     "text": [
      "moyenne_depart 5.5\n",
      "moyenne_depart_exageree 95.9090909090909\n",
      "mediane_depart 5.5\n",
      "mediane_depart_exageree 6.0\n"
     ]
    }
   ],
   "execution_count": 46
  },
  {
   "metadata": {},
   "cell_type": "markdown",
   "source": [
    "La moyenne est une bonne entrée en matière, cependant elle ne permet pas d'avoir une répartition précise des données. Pour cela, la médiane est un indicateur plus précis.\n",
    "\n",
    "Elle se définit ainsi : la médiane d'un ensemble de valeurs est la valeur x qui permet de couper l'ensemble des valeurs en deux parties égales : mettant d'un côté une moitié des valeurs, qui sont toutes inférieures ou égales à x et de l'autre côté l'autre moitié des valeurs, qui sont toutes supérieures ou égales à x (s'il y a un nombre impair de valeurs, la valeur centrale sera mise des deux côtés)."
   ],
   "id": "19e028423a058e0d"
  },
  {
   "metadata": {
    "ExecuteTime": {
     "end_time": "2025-03-25T13:41:57.328222Z",
     "start_time": "2025-03-25T13:41:57.294699Z"
    }
   },
   "cell_type": "code",
   "source": "pd.DataFrame(num_data.median(), columns = ['median'])",
   "id": "33a16188ed8fad1d",
   "outputs": [
    {
     "data": {
      "text/plain": [
       "         median\n",
       "goal     5000.0\n",
       "pledged   757.0\n",
       "backers    15.0"
      ],
      "text/html": [
       "<div>\n",
       "<style scoped>\n",
       "    .dataframe tbody tr th:only-of-type {\n",
       "        vertical-align: middle;\n",
       "    }\n",
       "\n",
       "    .dataframe tbody tr th {\n",
       "        vertical-align: top;\n",
       "    }\n",
       "\n",
       "    .dataframe thead th {\n",
       "        text-align: right;\n",
       "    }\n",
       "</style>\n",
       "<table border=\"1\" class=\"dataframe\">\n",
       "  <thead>\n",
       "    <tr style=\"text-align: right;\">\n",
       "      <th></th>\n",
       "      <th>median</th>\n",
       "    </tr>\n",
       "  </thead>\n",
       "  <tbody>\n",
       "    <tr>\n",
       "      <th>goal</th>\n",
       "      <td>5000.0</td>\n",
       "    </tr>\n",
       "    <tr>\n",
       "      <th>pledged</th>\n",
       "      <td>757.0</td>\n",
       "    </tr>\n",
       "    <tr>\n",
       "      <th>backers</th>\n",
       "      <td>15.0</td>\n",
       "    </tr>\n",
       "  </tbody>\n",
       "</table>\n",
       "</div>"
      ]
     },
     "execution_count": 48,
     "metadata": {},
     "output_type": "execute_result"
    }
   ],
   "execution_count": 48
  },
  {
   "metadata": {
    "ExecuteTime": {
     "end_time": "2025-03-25T13:44:09.731792Z",
     "start_time": "2025-03-25T13:44:09.707188Z"
    }
   },
   "cell_type": "code",
   "source": [
    "stats['median'] = num_data.median()\n",
    "stats"
   ],
   "id": "8349fc290fe92c6d",
   "outputs": [
    {
     "data": {
      "text/plain": [
       "              moyenne  median\n",
       "goal     17944.893169  5000.0\n",
       "pledged  10514.226824   757.0\n",
       "backers    116.169950    15.0"
      ],
      "text/html": [
       "<div>\n",
       "<style scoped>\n",
       "    .dataframe tbody tr th:only-of-type {\n",
       "        vertical-align: middle;\n",
       "    }\n",
       "\n",
       "    .dataframe tbody tr th {\n",
       "        vertical-align: top;\n",
       "    }\n",
       "\n",
       "    .dataframe thead th {\n",
       "        text-align: right;\n",
       "    }\n",
       "</style>\n",
       "<table border=\"1\" class=\"dataframe\">\n",
       "  <thead>\n",
       "    <tr style=\"text-align: right;\">\n",
       "      <th></th>\n",
       "      <th>moyenne</th>\n",
       "      <th>median</th>\n",
       "    </tr>\n",
       "  </thead>\n",
       "  <tbody>\n",
       "    <tr>\n",
       "      <th>goal</th>\n",
       "      <td>17944.893169</td>\n",
       "      <td>5000.0</td>\n",
       "    </tr>\n",
       "    <tr>\n",
       "      <th>pledged</th>\n",
       "      <td>10514.226824</td>\n",
       "      <td>757.0</td>\n",
       "    </tr>\n",
       "    <tr>\n",
       "      <th>backers</th>\n",
       "      <td>116.169950</td>\n",
       "      <td>15.0</td>\n",
       "    </tr>\n",
       "  </tbody>\n",
       "</table>\n",
       "</div>"
      ]
     },
     "execution_count": 49,
     "metadata": {},
     "output_type": "execute_result"
    }
   ],
   "execution_count": 49
  },
  {
   "metadata": {},
   "cell_type": "markdown",
   "source": [
    "Malgré une moyenne élevée, **on constate que la moitié des objectifs fixés ne dépassent pas 5500€**.\n",
    "\n",
    "De même pour les dons récoltés et le nombre de contributeurs qui ont respectivement la moitié en dessous de 600€ et 12 personnes.\n",
    "\n",
    "**Cela laisse apparaître la présence de valeurs extrêmes qui tirent vers le haut la moyenne.**\n",
    "\n",
    "+ On observe déjà la faiblesse d'un indicateur comme la moyenne qui est fortement influencée par les valeurs extrêmes."
   ],
   "id": "7de77b00c1b0bd5d"
  },
  {
   "metadata": {
    "ExecuteTime": {
     "end_time": "2025-03-25T13:52:26.197872Z",
     "start_time": "2025-03-25T13:52:26.173041Z"
    }
   },
   "cell_type": "code",
   "source": [
    "stats['mean_med_diff'] = abs( stats['moyenne'] - stats['median'])\n",
    "stats.round(2)\n"
   ],
   "id": "9d94a2b29bd7b39b",
   "outputs": [
    {
     "data": {
      "text/plain": [
       "          moyenne  median  mean_med_diff\n",
       "goal     17944.89  5000.0       12944.89\n",
       "pledged  10514.23   757.0        9757.23\n",
       "backers    116.17    15.0         101.17"
      ],
      "text/html": [
       "<div>\n",
       "<style scoped>\n",
       "    .dataframe tbody tr th:only-of-type {\n",
       "        vertical-align: middle;\n",
       "    }\n",
       "\n",
       "    .dataframe tbody tr th {\n",
       "        vertical-align: top;\n",
       "    }\n",
       "\n",
       "    .dataframe thead th {\n",
       "        text-align: right;\n",
       "    }\n",
       "</style>\n",
       "<table border=\"1\" class=\"dataframe\">\n",
       "  <thead>\n",
       "    <tr style=\"text-align: right;\">\n",
       "      <th></th>\n",
       "      <th>moyenne</th>\n",
       "      <th>median</th>\n",
       "      <th>mean_med_diff</th>\n",
       "    </tr>\n",
       "  </thead>\n",
       "  <tbody>\n",
       "    <tr>\n",
       "      <th>goal</th>\n",
       "      <td>17944.89</td>\n",
       "      <td>5000.0</td>\n",
       "      <td>12944.89</td>\n",
       "    </tr>\n",
       "    <tr>\n",
       "      <th>pledged</th>\n",
       "      <td>10514.23</td>\n",
       "      <td>757.0</td>\n",
       "      <td>9757.23</td>\n",
       "    </tr>\n",
       "    <tr>\n",
       "      <th>backers</th>\n",
       "      <td>116.17</td>\n",
       "      <td>15.0</td>\n",
       "      <td>101.17</td>\n",
       "    </tr>\n",
       "  </tbody>\n",
       "</table>\n",
       "</div>"
      ]
     },
     "execution_count": 51,
     "metadata": {},
     "output_type": "execute_result"
    }
   ],
   "execution_count": 51
  },
  {
   "metadata": {},
   "cell_type": "markdown",
   "source": [
    "Pour donner une interprétation de cette nouvelle variable, il faut bien avoir en tête les ordres de grandeur de chaque variable. Dans notre cas, on constate à travers la variable nouvellement créée que la médiane et la moyenne sont systématiquement très éloignées. Cela nous renseigne sur **l'hétérogénéité** des variables dont nous disposons. Il semble clairement qu'on dispose d'un nombre important de campagne de financement avec de petits montants et d'un nombre moindre de campagne avec de gros montants.\n",
    "\n",
    "  \n",
    "\n",
    "---\n",
    "\n",
    "\n",
    "\n",
    "Pour confirmer notre analyse, il est nécessaire de regarder les **quantiles** de chaque variable.\n",
    "\n",
    "  \n",
    "\n",
    "> Les **quantiles** sont les valeurs qui divisent un jeu de données en intervalles contenant le même nombre de données.\n",
    "De manière générale, on divise le jeu de données en 4 de telle sorte que le premier quantile renvoie la valeur à partir de laquelle on retrouve 25% des valeurs et ainsi de suite pour les autres quantiles."
   ],
   "id": "fce5d918907bee72"
  },
  {
   "metadata": {
    "ExecuteTime": {
     "end_time": "2025-03-25T14:00:28.473313Z",
     "start_time": "2025-03-25T14:00:28.447672Z"
    }
   },
   "cell_type": "code",
   "source": "num_data.quantile(q = [0.25,0.5,0.75]).transpose()",
   "id": "ff45b6c6b1b762fb",
   "outputs": [
    {
     "data": {
      "text/plain": [
       "           0.25    0.50      0.75\n",
       "goal     2000.0  5000.0  15000.00\n",
       "pledged    50.0   757.0   4652.75\n",
       "backers     2.0    15.0     62.00"
      ],
      "text/html": [
       "<div>\n",
       "<style scoped>\n",
       "    .dataframe tbody tr th:only-of-type {\n",
       "        vertical-align: middle;\n",
       "    }\n",
       "\n",
       "    .dataframe tbody tr th {\n",
       "        vertical-align: top;\n",
       "    }\n",
       "\n",
       "    .dataframe thead th {\n",
       "        text-align: right;\n",
       "    }\n",
       "</style>\n",
       "<table border=\"1\" class=\"dataframe\">\n",
       "  <thead>\n",
       "    <tr style=\"text-align: right;\">\n",
       "      <th></th>\n",
       "      <th>0.25</th>\n",
       "      <th>0.50</th>\n",
       "      <th>0.75</th>\n",
       "    </tr>\n",
       "  </thead>\n",
       "  <tbody>\n",
       "    <tr>\n",
       "      <th>goal</th>\n",
       "      <td>2000.0</td>\n",
       "      <td>5000.0</td>\n",
       "      <td>15000.00</td>\n",
       "    </tr>\n",
       "    <tr>\n",
       "      <th>pledged</th>\n",
       "      <td>50.0</td>\n",
       "      <td>757.0</td>\n",
       "      <td>4652.75</td>\n",
       "    </tr>\n",
       "    <tr>\n",
       "      <th>backers</th>\n",
       "      <td>2.0</td>\n",
       "      <td>15.0</td>\n",
       "      <td>62.00</td>\n",
       "    </tr>\n",
       "  </tbody>\n",
       "</table>\n",
       "</div>"
      ]
     },
     "execution_count": 58,
     "metadata": {},
     "output_type": "execute_result"
    }
   ],
   "execution_count": 58
  },
  {
   "metadata": {
    "ExecuteTime": {
     "end_time": "2025-03-25T14:00:34.520670Z",
     "start_time": "2025-03-25T14:00:34.505155Z"
    }
   },
   "cell_type": "code",
   "source": "num_data['goal'].quantile(q = [0.25,0.5,0.75]).transpose()",
   "id": "f673270bbac89498",
   "outputs": [
    {
     "data": {
      "text/plain": [
       "0.25     2000.0\n",
       "0.50     5000.0\n",
       "0.75    15000.0\n",
       "Name: goal, dtype: float64"
      ]
     },
     "execution_count": 59,
     "metadata": {},
     "output_type": "execute_result"
    }
   ],
   "execution_count": 59
  },
  {
   "metadata": {
    "ExecuteTime": {
     "end_time": "2025-03-25T13:58:48.576002Z",
     "start_time": "2025-03-25T13:58:48.461826Z"
    }
   },
   "cell_type": "code",
   "source": [
    "stats[['q1', 'q2', 'q3']] = num_data.quantile(q = [0.25,0.5,0.75]).transpose()\n",
    "stats"
   ],
   "id": "2173d9b9ec9af7ae",
   "outputs": [
    {
     "data": {
      "text/plain": [
       "              moyenne  median  mean_med_diff      q1      q2        q3\n",
       "goal     17944.893169  5000.0   12944.893169  2000.0  5000.0  15000.00\n",
       "pledged  10514.226824   757.0    9757.226824    50.0   757.0   4652.75\n",
       "backers    116.169950    15.0     101.169950     2.0    15.0     62.00"
      ],
      "text/html": [
       "<div>\n",
       "<style scoped>\n",
       "    .dataframe tbody tr th:only-of-type {\n",
       "        vertical-align: middle;\n",
       "    }\n",
       "\n",
       "    .dataframe tbody tr th {\n",
       "        vertical-align: top;\n",
       "    }\n",
       "\n",
       "    .dataframe thead th {\n",
       "        text-align: right;\n",
       "    }\n",
       "</style>\n",
       "<table border=\"1\" class=\"dataframe\">\n",
       "  <thead>\n",
       "    <tr style=\"text-align: right;\">\n",
       "      <th></th>\n",
       "      <th>moyenne</th>\n",
       "      <th>median</th>\n",
       "      <th>mean_med_diff</th>\n",
       "      <th>q1</th>\n",
       "      <th>q2</th>\n",
       "      <th>q3</th>\n",
       "    </tr>\n",
       "  </thead>\n",
       "  <tbody>\n",
       "    <tr>\n",
       "      <th>goal</th>\n",
       "      <td>17944.893169</td>\n",
       "      <td>5000.0</td>\n",
       "      <td>12944.893169</td>\n",
       "      <td>2000.0</td>\n",
       "      <td>5000.0</td>\n",
       "      <td>15000.00</td>\n",
       "    </tr>\n",
       "    <tr>\n",
       "      <th>pledged</th>\n",
       "      <td>10514.226824</td>\n",
       "      <td>757.0</td>\n",
       "      <td>9757.226824</td>\n",
       "      <td>50.0</td>\n",
       "      <td>757.0</td>\n",
       "      <td>4652.75</td>\n",
       "    </tr>\n",
       "    <tr>\n",
       "      <th>backers</th>\n",
       "      <td>116.169950</td>\n",
       "      <td>15.0</td>\n",
       "      <td>101.169950</td>\n",
       "      <td>2.0</td>\n",
       "      <td>15.0</td>\n",
       "      <td>62.00</td>\n",
       "    </tr>\n",
       "  </tbody>\n",
       "</table>\n",
       "</div>"
      ]
     },
     "execution_count": 57,
     "metadata": {},
     "output_type": "execute_result"
    }
   ],
   "execution_count": 57
  },
  {
   "metadata": {},
   "cell_type": "code",
   "outputs": [],
   "execution_count": null,
   "source": "",
   "id": "5ec4a20a7830b39b"
  },
  {
   "metadata": {},
   "cell_type": "markdown",
   "source": [
    "> On peut compléter notre analyse en s'intéressant au min, max de chaque variable.  \n",
    "> La différence des deux nous donnera une idée de l'étendue sur laquelle se répartissent les valeurs.\n",
    "\n",
    "-   Ajouter au tableau  **`stats`**  3 colonnes  **`min`**,  **`max`**  et  **`min_max_diff`**  renseignant le min,le max et la différence des deux.\n",
    "\n",
    "-  Que remarquez-vous sur la différence des deux ?"
   ],
   "id": "85724a5dd1c42020"
  },
  {
   "metadata": {
    "ExecuteTime": {
     "end_time": "2025-03-25T14:04:06.928258Z",
     "start_time": "2025-03-25T14:04:06.844931Z"
    }
   },
   "cell_type": "code",
   "source": [
    "stats['min'] = num_data.min()\n",
    "stats['max'] = num_data.max()\n",
    "stats['min_max_diff'] = stats['max'] - stats['min']\n",
    "stats"
   ],
   "id": "c06ca731e41528d9",
   "outputs": [
    {
     "data": {
      "text/plain": [
       "              moyenne  median  mean_med_diff      q1      q2        q3  min  \\\n",
       "goal     17944.893169  5000.0   12944.893169  2000.0  5000.0  15000.00  1.0   \n",
       "pledged  10514.226824   757.0    9757.226824    50.0   757.0   4652.75  0.0   \n",
       "backers    116.169950    15.0     101.169950     2.0    15.0     62.00  0.0   \n",
       "\n",
       "               max  min_max_diff  \n",
       "goal      575000.0      574999.0  \n",
       "pledged  5545991.7     5545991.7  \n",
       "backers    85581.0       85581.0  "
      ],
      "text/html": [
       "<div>\n",
       "<style scoped>\n",
       "    .dataframe tbody tr th:only-of-type {\n",
       "        vertical-align: middle;\n",
       "    }\n",
       "\n",
       "    .dataframe tbody tr th {\n",
       "        vertical-align: top;\n",
       "    }\n",
       "\n",
       "    .dataframe thead th {\n",
       "        text-align: right;\n",
       "    }\n",
       "</style>\n",
       "<table border=\"1\" class=\"dataframe\">\n",
       "  <thead>\n",
       "    <tr style=\"text-align: right;\">\n",
       "      <th></th>\n",
       "      <th>moyenne</th>\n",
       "      <th>median</th>\n",
       "      <th>mean_med_diff</th>\n",
       "      <th>q1</th>\n",
       "      <th>q2</th>\n",
       "      <th>q3</th>\n",
       "      <th>min</th>\n",
       "      <th>max</th>\n",
       "      <th>min_max_diff</th>\n",
       "    </tr>\n",
       "  </thead>\n",
       "  <tbody>\n",
       "    <tr>\n",
       "      <th>goal</th>\n",
       "      <td>17944.893169</td>\n",
       "      <td>5000.0</td>\n",
       "      <td>12944.893169</td>\n",
       "      <td>2000.0</td>\n",
       "      <td>5000.0</td>\n",
       "      <td>15000.00</td>\n",
       "      <td>1.0</td>\n",
       "      <td>575000.0</td>\n",
       "      <td>574999.0</td>\n",
       "    </tr>\n",
       "    <tr>\n",
       "      <th>pledged</th>\n",
       "      <td>10514.226824</td>\n",
       "      <td>757.0</td>\n",
       "      <td>9757.226824</td>\n",
       "      <td>50.0</td>\n",
       "      <td>757.0</td>\n",
       "      <td>4652.75</td>\n",
       "      <td>0.0</td>\n",
       "      <td>5545991.7</td>\n",
       "      <td>5545991.7</td>\n",
       "    </tr>\n",
       "    <tr>\n",
       "      <th>backers</th>\n",
       "      <td>116.169950</td>\n",
       "      <td>15.0</td>\n",
       "      <td>101.169950</td>\n",
       "      <td>2.0</td>\n",
       "      <td>15.0</td>\n",
       "      <td>62.00</td>\n",
       "      <td>0.0</td>\n",
       "      <td>85581.0</td>\n",
       "      <td>85581.0</td>\n",
       "    </tr>\n",
       "  </tbody>\n",
       "</table>\n",
       "</div>"
      ]
     },
     "execution_count": 60,
     "metadata": {},
     "output_type": "execute_result"
    }
   ],
   "execution_count": 60
  },
  {
   "metadata": {},
   "cell_type": "code",
   "outputs": [],
   "execution_count": null,
   "source": "",
   "id": "a027c61fe3600650"
  },
  {
   "metadata": {},
   "cell_type": "markdown",
   "source": [
    "# VARIANCE, ECART TYPE ET OUTLIERS\n",
    "\n"
   ],
   "id": "2922cf484b286c4a"
  },
  {
   "metadata": {},
   "cell_type": "code",
   "outputs": [],
   "execution_count": null,
   "source": "",
   "id": "ad782423539b5e10"
  },
  {
   "metadata": {},
   "cell_type": "markdown",
   "source": [
    "> Deux derniers indicateurs nous permettent d'avoir un bon aperçu :  **la variance**  et  **l'écart-type**.  \n",
    "> Ils font partie de la famille des indicateurs de dispersion :\n",
    ">\n",
    "> > -   La variance, qui mesure la dispersion autour de la moyenne, c'est à dire à quel point les valeurs présentes dans une liste numérique sont écartées de la moyenne.\n",
    "> >\n",
    "> > -   L'écart type, qui se définit mathématiquement comme la racine carrée de la variance. De par sa construction,  **l’écart type**  est également une mesure de la dispersion des valeurs.\n",
    ">\n",
    ">   On peut calculer facilement l'écart type d'une variable en utilisant  `pandas.Series.std()`\n",
    "\n",
    "-     Calculer  **l'écart type**  de la variable  **`backers`**.\n",
    "\n",
    "-    Afficher l'intervalle  **moyenne**  +/-  **ecart type**  de la variable  **`backers`**."
   ],
   "id": "3022e1b92cccb6f1"
  },
  {
   "metadata": {
    "ExecuteTime": {
     "end_time": "2025-03-25T14:37:05.285233Z",
     "start_time": "2025-03-25T14:37:05.250094Z"
    }
   },
   "cell_type": "code",
   "source": [
    "ecart_type = num_data['backers'].std()  # STD est ce qui permet de calculer l'ecart type\n",
    "\n",
    "intervalle = [num_data['backers'].mean() - ecart_type, num_data['backers'].mean() + ecart_type] # creer un intervalle qui est celui de la moyenne moins \n",
    "print(intervalle)"
   ],
   "id": "f48d17bd37673007",
   "outputs": [
    {
     "name": "stdout",
     "output_type": "stream",
     "text": [
      "[np.float64(-860.1421576446683), np.float64(1092.4820576446682)]\n"
     ]
    }
   ],
   "execution_count": 61
  },
  {
   "metadata": {},
   "cell_type": "code",
   "outputs": [],
   "execution_count": null,
   "source": "",
   "id": "724d6b3f9b09e12"
  },
  {
   "metadata": {},
   "cell_type": "markdown",
   "source": [
    ">  On peut tout à fait tronquer l'intervalle à 0. Le nombre de backers est toujours positif.\n",
    "\n",
    "-    Ajouter une nouvelle colonne intitulée  **`backers_in`**  à  **`num_data`**  contenant 1 si la valeur de  **`backers`**  appartiennent à l'intervalle calculé précédemment et 0 sinon.\n",
    "\n",
    "Pour déterminer les valeurs qui appartiennent à l'intervalle calculé précédemment, on pourra s'aider de  `pandas.Series.between(int1,int2).astype(int)`.\n",
    "\n",
    "Pour afficher les proportions on pourra s'aider de  `pandas.Series.value_counts(normalize = True)`."
   ],
   "id": "9d7f90c7884c7476"
  },
  {
   "metadata": {
    "ExecuteTime": {
     "end_time": "2025-03-25T14:45:47.966824Z",
     "start_time": "2025-03-25T14:45:47.939396Z"
    }
   },
   "cell_type": "code",
   "source": [
    "num_data['backers_in'] = num_data['backers'].between(intervalle[0], intervalle[1]).astype(int)\n",
    "\n",
    "num_data['backers_in'].value_counts(normalize=True)\n",
    "# Tout ce qui est  al interieur de notre intervalle est a 98 pour cent et on a 0.1 pour cent hors de l\"intervalle\n"
   ],
   "id": "205091a1f2017d41",
   "outputs": [
    {
     "data": {
      "text/plain": [
       "backers_in\n",
       "1    0.98365\n",
       "0    0.01635\n",
       "Name: proportion, dtype: float64"
      ]
     },
     "execution_count": 63,
     "metadata": {},
     "output_type": "execute_result"
    }
   ],
   "execution_count": 63
  },
  {
   "metadata": {
    "ExecuteTime": {
     "end_time": "2025-03-25T14:45:53.216296Z",
     "start_time": "2025-03-25T14:45:53.175027Z"
    }
   },
   "cell_type": "code",
   "source": "num_data.head(10)",
   "id": "ddea46af35edec0b",
   "outputs": [
    {
     "data": {
      "text/plain": [
       "               goal  pledged  backers  backers_in\n",
       "ID                                               \n",
       "1000002330   1000.0      0.0        0           1\n",
       "1000003930  30000.0   2421.0       15           1\n",
       "1000004038  45000.0    220.0        3           1\n",
       "1000007540   5000.0      1.0        1           1\n",
       "1000014025  50000.0  52375.0      224           1\n",
       "1000023410   1000.0   1205.0       16           1\n",
       "1000030581  25000.0    453.0       40           1\n",
       "100004721    2500.0      0.0        0           1\n",
       "100005484   12500.0  12700.0      100           1\n",
       "1000055792   5000.0      0.0        0           1"
      ],
      "text/html": [
       "<div>\n",
       "<style scoped>\n",
       "    .dataframe tbody tr th:only-of-type {\n",
       "        vertical-align: middle;\n",
       "    }\n",
       "\n",
       "    .dataframe tbody tr th {\n",
       "        vertical-align: top;\n",
       "    }\n",
       "\n",
       "    .dataframe thead th {\n",
       "        text-align: right;\n",
       "    }\n",
       "</style>\n",
       "<table border=\"1\" class=\"dataframe\">\n",
       "  <thead>\n",
       "    <tr style=\"text-align: right;\">\n",
       "      <th></th>\n",
       "      <th>goal</th>\n",
       "      <th>pledged</th>\n",
       "      <th>backers</th>\n",
       "      <th>backers_in</th>\n",
       "    </tr>\n",
       "    <tr>\n",
       "      <th>ID</th>\n",
       "      <th></th>\n",
       "      <th></th>\n",
       "      <th></th>\n",
       "      <th></th>\n",
       "    </tr>\n",
       "  </thead>\n",
       "  <tbody>\n",
       "    <tr>\n",
       "      <th>1000002330</th>\n",
       "      <td>1000.0</td>\n",
       "      <td>0.0</td>\n",
       "      <td>0</td>\n",
       "      <td>1</td>\n",
       "    </tr>\n",
       "    <tr>\n",
       "      <th>1000003930</th>\n",
       "      <td>30000.0</td>\n",
       "      <td>2421.0</td>\n",
       "      <td>15</td>\n",
       "      <td>1</td>\n",
       "    </tr>\n",
       "    <tr>\n",
       "      <th>1000004038</th>\n",
       "      <td>45000.0</td>\n",
       "      <td>220.0</td>\n",
       "      <td>3</td>\n",
       "      <td>1</td>\n",
       "    </tr>\n",
       "    <tr>\n",
       "      <th>1000007540</th>\n",
       "      <td>5000.0</td>\n",
       "      <td>1.0</td>\n",
       "      <td>1</td>\n",
       "      <td>1</td>\n",
       "    </tr>\n",
       "    <tr>\n",
       "      <th>1000014025</th>\n",
       "      <td>50000.0</td>\n",
       "      <td>52375.0</td>\n",
       "      <td>224</td>\n",
       "      <td>1</td>\n",
       "    </tr>\n",
       "    <tr>\n",
       "      <th>1000023410</th>\n",
       "      <td>1000.0</td>\n",
       "      <td>1205.0</td>\n",
       "      <td>16</td>\n",
       "      <td>1</td>\n",
       "    </tr>\n",
       "    <tr>\n",
       "      <th>1000030581</th>\n",
       "      <td>25000.0</td>\n",
       "      <td>453.0</td>\n",
       "      <td>40</td>\n",
       "      <td>1</td>\n",
       "    </tr>\n",
       "    <tr>\n",
       "      <th>100004721</th>\n",
       "      <td>2500.0</td>\n",
       "      <td>0.0</td>\n",
       "      <td>0</td>\n",
       "      <td>1</td>\n",
       "    </tr>\n",
       "    <tr>\n",
       "      <th>100005484</th>\n",
       "      <td>12500.0</td>\n",
       "      <td>12700.0</td>\n",
       "      <td>100</td>\n",
       "      <td>1</td>\n",
       "    </tr>\n",
       "    <tr>\n",
       "      <th>1000055792</th>\n",
       "      <td>5000.0</td>\n",
       "      <td>0.0</td>\n",
       "      <td>0</td>\n",
       "      <td>1</td>\n",
       "    </tr>\n",
       "  </tbody>\n",
       "</table>\n",
       "</div>"
      ]
     },
     "execution_count": 64,
     "metadata": {},
     "output_type": "execute_result"
    }
   ],
   "execution_count": 64
  },
  {
   "metadata": {},
   "cell_type": "code",
   "outputs": [],
   "execution_count": null,
   "source": "",
   "id": "ef8f35d4dd89f881"
  },
  {
   "metadata": {},
   "cell_type": "markdown",
   "source": "",
   "id": "6a438f24e193bbe9"
  },
  {
   "metadata": {
    "ExecuteTime": {
     "end_time": "2025-03-25T14:51:40.267983Z",
     "start_time": "2025-03-25T14:51:36.833124Z"
    }
   },
   "cell_type": "code",
   "source": "data[(data['state'] == \"successful\" ) & (data.backers<1000)].groupby('backers').size().plot()",
   "id": "e0eaf92cba728966",
   "outputs": [
    {
     "data": {
      "text/plain": [
       "<Axes: xlabel='backers'>"
      ]
     },
     "execution_count": 67,
     "metadata": {},
     "output_type": "execute_result"
    },
    {
     "data": {
      "text/plain": [
       "<Figure size 640x480 with 1 Axes>"
      ],
      "image/png": "[encoded data removed]"
     },
     "metadata": {},
     "output_type": "display_data"
    }
   ],
   "execution_count": 67
  },
  {
   "metadata": {},
   "cell_type": "code",
   "outputs": [],
   "execution_count": null,
   "source": "",
   "id": "6768f9af25ed5958"
  },
  {
   "metadata": {},
   "cell_type": "markdown",
   "source": "## Analyse descriptive des variables qualitatives",
   "id": "3b97417d2451242a"
  },
  {
   "metadata": {},
   "cell_type": "markdown",
   "source": [
    "\n",
    "L'analyse des variables qualitatives est une étape importante dans la compréhension des données.  \n",
    "Elles sont souvent plus difficiles à manipuler et il est important d'observer leur relation avec les variables numériques.  \n",
    "Elles livrent souvent des informations précieuses sur l'interaction entre les variables dans le jeu de données.\n",
    "\n",
    "L'objectif de ce module est d'arriver à déterminer les modalités d'une variable qualitative et l'importance de chacune.  \n",
    "Ce module vous permettra également de vous familiariser avec des méthodes simples de gestion de données."
   ],
   "id": "5285e3753f68934b"
  },
  {
   "metadata": {},
   "cell_type": "markdown",
   "source": "> On repart de zéro",
   "id": "8ac31422e632208d"
  },
  {
   "metadata": {
    "ExecuteTime": {
     "end_time": "2025-03-29T03:43:55.611535Z",
     "start_time": "2025-03-29T03:43:39.863180Z"
    }
   },
   "cell_type": "code",
   "source": [
    "import pandas as pd\n",
    "import numpy as np\n",
    "\n",
    "link = 'https://raw.githubusercontent.com/QuantikDataStudio/dataset/main/kickstarter.csv'\n",
    "\n",
    "data = pd.read_csv(link, on_bad_lines='skip', index_col = 0)\n",
    "columns_to_drop = ['usd pledged', 'usd_pledged_real', 'usd_goal_real;;']\n",
    "data = data.drop(columns=columns_to_drop)\n",
    "data = data.dropna()\n",
    "data = data[~data['goal'].str.contains('-')]\n",
    "data['goal'] = data['goal'].astype(float)\n",
    "data['pledged'] = data['pledged'].astype(float)\n",
    "data['backers'] = data['backers'].astype(int)\n",
    "values_to_remove = ['canceled', 'live', 'suspended']\n",
    "data = data[~data['state'].isin(values_to_remove)]\n",
    "data = data.head(20000)\n",
    "masque = data['goal'] < 600000\n",
    "data = data.loc[masque]\n",
    "data.info()"
   ],
   "id": "fcccd3c4286a16a8",
   "outputs": [
    {
     "name": "stdout",
     "output_type": "stream",
     "text": [
      "<class 'pandas.core.frame.DataFrame'>\n",
      "Index: 19882 entries, 1000002330 to 1131376350\n",
      "Data columns (total 11 columns):\n",
      " #   Column         Non-Null Count  Dtype  \n",
      "---  ------         --------------  -----  \n",
      " 0   name           19882 non-null  object \n",
      " 1   category       19882 non-null  object \n",
      " 2   main_category  19882 non-null  object \n",
      " 3   currency       19882 non-null  object \n",
      " 4   deadline       19882 non-null  object \n",
      " 5   goal           19882 non-null  float64\n",
      " 6   launched       19882 non-null  object \n",
      " 7   pledged        19882 non-null  float64\n",
      " 8   state          19882 non-null  object \n",
      " 9   backers        19882 non-null  int64  \n",
      " 10  country        19882 non-null  object \n",
      "dtypes: float64(2), int64(1), object(8)\n",
      "memory usage: 1.8+ MB\n"
     ]
    }
   ],
   "execution_count": 52
  },
  {
   "metadata": {},
   "cell_type": "code",
   "outputs": [],
   "execution_count": null,
   "source": "",
   "id": "1fd7561fea9288a5"
  },
  {
   "metadata": {},
   "cell_type": "markdown",
   "source": [
    "\n",
    "-    Déterminer les variables catégorielles et les stocker dans un tableau  **`cat_data`**.\n",
    "\n",
    "  On pourra s'aider de la fonction  `pandas.DataFrame.select_dtypes()`  et de l'attribut  `include`  auquel on renseignera une liste du ou des type(s) qu'on souhaite garder (ici 'O')."
   ],
   "id": "f442b6b06c668bf8"
  },
  {
   "metadata": {
    "ExecuteTime": {
     "end_time": "2025-03-29T03:44:03.409332Z",
     "start_time": "2025-03-29T03:44:03.397702Z"
    }
   },
   "cell_type": "code",
   "source": [
    "cat_data = data.select_dtypes(include= 'O') # La fonction include = 'o' permet der recuperer de facon auto les var categorielle\n",
    "cat_data.head()"
   ],
   "id": "b6794ff19499f1a",
   "outputs": [
    {
     "data": {
      "text/plain": [
       "                                                         name        category  \\\n",
       "ID                                                                              \n",
       "1000002330                    The Songs of Adelaide & Abullah          Poetry   \n",
       "1000003930      Greeting From Earth: ZGAC Arts Capsule For ET  Narrative Film   \n",
       "1000004038                                     Where is Hank?  Narrative Film   \n",
       "1000007540  ToshiCapital Rekordz Needs Help to Complete Album           Music   \n",
       "1000014025                               Monarch Espresso Bar     Restaurants   \n",
       "\n",
       "           main_category currency    deadline             launched  \\\n",
       "ID                                                                   \n",
       "1000002330    Publishing      GBP  2015-10-09  2015-08-11 12:12:28   \n",
       "1000003930  Film & Video      USD  2017-11-01  2017-09-02 04:43:57   \n",
       "1000004038  Film & Video      USD  2013-02-26  2013-01-12 00:20:50   \n",
       "1000007540         Music      USD  2012-04-16  2012-03-17 03:24:11   \n",
       "1000014025          Food      USD  2016-04-01  2016-02-26 13:38:27   \n",
       "\n",
       "                 state country  \n",
       "ID                              \n",
       "1000002330      failed      GB  \n",
       "1000003930      failed      US  \n",
       "1000004038      failed      US  \n",
       "1000007540      failed      US  \n",
       "1000014025  successful      US  "
      ],
      "text/html": [
       "<div>\n",
       "<style scoped>\n",
       "    .dataframe tbody tr th:only-of-type {\n",
       "        vertical-align: middle;\n",
       "    }\n",
       "\n",
       "    .dataframe tbody tr th {\n",
       "        vertical-align: top;\n",
       "    }\n",
       "\n",
       "    .dataframe thead th {\n",
       "        text-align: right;\n",
       "    }\n",
       "</style>\n",
       "<table border=\"1\" class=\"dataframe\">\n",
       "  <thead>\n",
       "    <tr style=\"text-align: right;\">\n",
       "      <th></th>\n",
       "      <th>name</th>\n",
       "      <th>category</th>\n",
       "      <th>main_category</th>\n",
       "      <th>currency</th>\n",
       "      <th>deadline</th>\n",
       "      <th>launched</th>\n",
       "      <th>state</th>\n",
       "      <th>country</th>\n",
       "    </tr>\n",
       "    <tr>\n",
       "      <th>ID</th>\n",
       "      <th></th>\n",
       "      <th></th>\n",
       "      <th></th>\n",
       "      <th></th>\n",
       "      <th></th>\n",
       "      <th></th>\n",
       "      <th></th>\n",
       "      <th></th>\n",
       "    </tr>\n",
       "  </thead>\n",
       "  <tbody>\n",
       "    <tr>\n",
       "      <th>1000002330</th>\n",
       "      <td>The Songs of Adelaide &amp; Abullah</td>\n",
       "      <td>Poetry</td>\n",
       "      <td>Publishing</td>\n",
       "      <td>GBP</td>\n",
       "      <td>2015-10-09</td>\n",
       "      <td>2015-08-11 12:12:28</td>\n",
       "      <td>failed</td>\n",
       "      <td>GB</td>\n",
       "    </tr>\n",
       "    <tr>\n",
       "      <th>1000003930</th>\n",
       "      <td>Greeting From Earth: ZGAC Arts Capsule For ET</td>\n",
       "      <td>Narrative Film</td>\n",
       "      <td>Film &amp; Video</td>\n",
       "      <td>USD</td>\n",
       "      <td>2017-11-01</td>\n",
       "      <td>2017-09-02 04:43:57</td>\n",
       "      <td>failed</td>\n",
       "      <td>US</td>\n",
       "    </tr>\n",
       "    <tr>\n",
       "      <th>1000004038</th>\n",
       "      <td>Where is Hank?</td>\n",
       "      <td>Narrative Film</td>\n",
       "      <td>Film &amp; Video</td>\n",
       "      <td>USD</td>\n",
       "      <td>2013-02-26</td>\n",
       "      <td>2013-01-12 00:20:50</td>\n",
       "      <td>failed</td>\n",
       "      <td>US</td>\n",
       "    </tr>\n",
       "    <tr>\n",
       "      <th>1000007540</th>\n",
       "      <td>ToshiCapital Rekordz Needs Help to Complete Album</td>\n",
       "      <td>Music</td>\n",
       "      <td>Music</td>\n",
       "      <td>USD</td>\n",
       "      <td>2012-04-16</td>\n",
       "      <td>2012-03-17 03:24:11</td>\n",
       "      <td>failed</td>\n",
       "      <td>US</td>\n",
       "    </tr>\n",
       "    <tr>\n",
       "      <th>1000014025</th>\n",
       "      <td>Monarch Espresso Bar</td>\n",
       "      <td>Restaurants</td>\n",
       "      <td>Food</td>\n",
       "      <td>USD</td>\n",
       "      <td>2016-04-01</td>\n",
       "      <td>2016-02-26 13:38:27</td>\n",
       "      <td>successful</td>\n",
       "      <td>US</td>\n",
       "    </tr>\n",
       "  </tbody>\n",
       "</table>\n",
       "</div>"
      ]
     },
     "execution_count": 53,
     "metadata": {},
     "output_type": "execute_result"
    }
   ],
   "execution_count": 53
  },
  {
   "metadata": {},
   "cell_type": "code",
   "outputs": [],
   "execution_count": null,
   "source": "",
   "id": "434b3a6a1dc18a33"
  },
  {
   "metadata": {},
   "cell_type": "markdown",
   "source": [
    "\n",
    "+ L'analyse descriptive des variables qualitatives fait appel à d'autres outils de  **`pandas`**.  \n",
    "+ Une première question qu'on doit se poser quand on fait face à ce type de données est : Quelles sont les modalités de chaque variable et comment se répartissent elles ?\n",
    "\n",
    "-     Afficher les modalités de la variable  **`main_category`**  avec leurs fréquences respectives.\n",
    "\n",
    "-    Quelle est la variable la plus fréquente ?\n",
    "\n",
    "  On pourra s'aider de  `pandas.Series.value_counts()`.\n",
    "\n",
    "   `value_counts`  ne s'utilise pas sur des objets de type DataFrame."
   ],
   "id": "ceeb2bbc095f31fc"
  },
  {
   "metadata": {
    "ExecuteTime": {
     "end_time": "2025-03-29T03:44:06.505540Z",
     "start_time": "2025-03-29T03:44:06.500080Z"
    }
   },
   "cell_type": "code",
   "source": "cat_data['main_category'].value_counts() # Value counts nous donne les frequences par donnees.. on peut egalement y accedeer directement avec mode()\n",
   "id": "6f300258cebb56a2",
   "outputs": [
    {
     "data": {
      "text/plain": [
       "main_category\n",
       "Film & Video    3365\n",
       "Music           2519\n",
       "Publishing      2087\n",
       "Games           1850\n",
       "Technology      1674\n",
       "Art             1612\n",
       "Design          1483\n",
       "Food            1340\n",
       "Fashion         1191\n",
       "Comics           622\n",
       "Photography      611\n",
       "Theater          581\n",
       "Crafts           498\n",
       "Journalism       241\n",
       "Dance            208\n",
       "Name: count, dtype: int64"
      ]
     },
     "execution_count": 54,
     "metadata": {},
     "output_type": "execute_result"
    }
   ],
   "execution_count": 54
  },
  {
   "metadata": {
    "ExecuteTime": {
     "end_time": "2025-03-29T03:44:08.663750Z",
     "start_time": "2025-03-29T03:44:08.657682Z"
    }
   },
   "cell_type": "code",
   "source": "cat_data['main_category'].value_counts(normalize= True) # normalize = true donne les frequence et valuecounts simple donne  le nombre exact",
   "id": "3f78d1d16e63b498",
   "outputs": [
    {
     "data": {
      "text/plain": [
       "main_category\n",
       "Film & Video    0.169249\n",
       "Music           0.126698\n",
       "Publishing      0.104969\n",
       "Games           0.093049\n",
       "Technology      0.084197\n",
       "Art             0.081078\n",
       "Design          0.074590\n",
       "Food            0.067398\n",
       "Fashion         0.059903\n",
       "Comics          0.031285\n",
       "Photography     0.030731\n",
       "Theater         0.029222\n",
       "Crafts          0.025048\n",
       "Journalism      0.012122\n",
       "Dance           0.010462\n",
       "Name: proportion, dtype: float64"
      ]
     },
     "execution_count": 55,
     "metadata": {},
     "output_type": "execute_result"
    }
   ],
   "execution_count": 55
  },
  {
   "metadata": {
    "ExecuteTime": {
     "end_time": "2025-03-28T00:25:10.996951Z",
     "start_time": "2025-03-28T00:25:10.994311Z"
    }
   },
   "cell_type": "code",
   "source": "",
   "id": "5ea1fb5da5b7bcb1",
   "outputs": [],
   "execution_count": null
  },
  {
   "metadata": {},
   "cell_type": "markdown",
   "source": [
    "\n",
    " **`value_counts`**  est couramment utilisé pour visualiser très rapidement les modalités d'une variable qualitative.  \n",
    " On peut également retrouver très facilement la modalité la plus fréquente d'une variable qualitative : la méthode  **`mode`**  permet de récupérer l'élément le plus fréquent à l'intérieur d'une  **`pandas.Series`**.\n",
    "\n",
    "-    Utiliser la méthode  **`mode`**  pour récupérer la modalité la plus fréquente de  **`main_category`**.\n",
    "\n",
    "-    Vérifier que cela correspond bien avec le  **`value_counts`**  exécuté précédemment."
   ],
   "id": "fc74bd1f4fc72429"
  },
  {
   "metadata": {
    "ExecuteTime": {
     "end_time": "2025-03-29T03:44:11.757920Z",
     "start_time": "2025-03-29T03:44:11.745752Z"
    }
   },
   "cell_type": "code",
   "source": "cat_data['main_category'].mode()",
   "id": "6f83ba556d34b3c6",
   "outputs": [
    {
     "data": {
      "text/plain": [
       "0    Film & Video\n",
       "Name: main_category, dtype: object"
      ]
     },
     "execution_count": 56,
     "metadata": {},
     "output_type": "execute_result"
    }
   ],
   "execution_count": 56
  },
  {
   "metadata": {},
   "cell_type": "markdown",
   "source": [
    "\n",
    "+ Dans ce jeu de données, nous disposons d'une variable binaire  **`state`**  qui renseigne sur la réussite ou l'échec de la collecte.  \n",
    "+ Ces variables sont généralement très intéressantes à étudier et livrent des informations précieuses sur les jeux de données. Il est important de bien les identifier et d'étudier dans un premier temps la fréquence des modalités.\n",
    "\n",
    "-  Afficher les fréquences des modalités de la variable  **`state`**."
   ],
   "id": "97065234b0647f50"
  },
  {
   "metadata": {
    "ExecuteTime": {
     "end_time": "2025-03-28T00:29:05.063139Z",
     "start_time": "2025-03-28T00:29:05.057226Z"
    }
   },
   "cell_type": "code",
   "source": [
    "#Afficher les fréquences des modalités de la variable  **`state`**.\n",
    "cat_data['state'].value_counts(normalize= True)"
   ],
   "id": "dea03e62430ecdad",
   "outputs": [
    {
     "data": {
      "text/plain": [
       "state\n",
       "failed        0.594457\n",
       "successful    0.405543\n",
       "Name: proportion, dtype: float64"
      ]
     },
     "execution_count": 15,
     "metadata": {},
     "output_type": "execute_result"
    }
   ],
   "execution_count": 15
  },
  {
   "metadata": {},
   "cell_type": "code",
   "outputs": [],
   "execution_count": null,
   "source": "",
   "id": "ca66423ea88ccd68"
  },
  {
   "metadata": {},
   "cell_type": "markdown",
   "source": [
    "\n",
    "> On constate que 60% des collectes ont échouées.  \n",
    "> Ce chiffre a peu d'intérêt si on ne le met pas en perspective avec le montant des objectifs fixés.  \n",
    "> L'objectif est de faire une sorte de cartographie : 60% des collectes ont échoué mais quelles collectes sont concernées ? Les grosses ? Les petites ? Les deux ?\n",
    ">\n",
    "> Pour avoir une première idée, il est nécessaire de se munir du jeu de données complet  **`data`**  et d'utiliser les outils  **`groupby`**  et  **`agg`**  qui s'utilisent aussi bien sur les DataFrames que sur les Series.\n",
    ">\n",
    "> Tout d'abord dans une nouvelle variable  **`goal_classes`**, découpez les montants cibles (**`goal`**) en 4 classes distinctes avec pour labels 0, 1, 2, 3 selon les 3 quantiles de la nouvelle variable créée.\n",
    ">\n",
    ">   Il est fortement conseillé d'utiliser  `pandas.qcut()` ."
   ],
   "id": "b41ec7e5008f42eb"
  },
  {
   "metadata": {
    "ExecuteTime": {
     "end_time": "2025-03-29T03:44:15.093068Z",
     "start_time": "2025-03-29T03:44:15.073266Z"
    }
   },
   "cell_type": "code",
   "source": [
    "data['goal_classes'] = pd.qcut(data['goal'], labels=[0,1,2,3,], q=4)\n",
    "data['goal_classes']"
   ],
   "id": "261cf7bc084ea78",
   "outputs": [
    {
     "data": {
      "text/plain": [
       "ID\n",
       "1000002330    0\n",
       "1000003930    3\n",
       "1000004038    3\n",
       "1000007540    1\n",
       "1000014025    3\n",
       "             ..\n",
       "1131350525    1\n",
       "1131353743    2\n",
       "1131355704    0\n",
       "1131356728    1\n",
       "1131376350    3\n",
       "Name: goal_classes, Length: 19882, dtype: category\n",
       "Categories (4, int64): [0 < 1 < 2 < 3]"
      ]
     },
     "execution_count": 57,
     "metadata": {},
     "output_type": "execute_result"
    }
   ],
   "execution_count": 57
  },
  {
   "metadata": {},
   "cell_type": "markdown",
   "source": [
    "\n",
    "En utilisant  **`groupby`**  et  **`agg`**, stocker dans  **`state_summary`**  le nombre de projets en fonction des variables  **`goal_classes`**  et  **`state`**.\n",
    "\n",
    "   _Exemple d'utilisation_  :  `df.groupby(['Age','sex']).size()`."
   ],
   "id": "1cb34f8751406589"
  },
  {
   "metadata": {
    "ExecuteTime": {
     "end_time": "2025-03-29T03:44:17.622731Z",
     "start_time": "2025-03-29T03:44:17.609208Z"
    }
   },
   "cell_type": "code",
   "source": [
    "state_summary = data.groupby(['goal_classes', 'state']).size()\n",
    "state_summary"
   ],
   "id": "6c22db9aab854807",
   "outputs": [
    {
     "name": "stderr",
     "output_type": "stream",
     "text": [
      "C:\\Users\\Sergi\\AppData\\Local\\Temp\\ipykernel_23712\\958343485.py:1: FutureWarning: The default of observed=False is deprecated and will be changed to True in a future version of pandas. Pass observed=False to retain current behavior or observed=True to adopt the future default and silence this warning.\n",
      "  state_summary = data.groupby(['goal_classes', 'state']).size()\n"
     ]
    },
    {
     "data": {
      "text/plain": [
       "goal_classes  state     \n",
       "0             failed        2691\n",
       "              successful    2872\n",
       "1             failed        2684\n",
       "              successful    2092\n",
       "2             failed        2930\n",
       "              successful    1930\n",
       "3             failed        3514\n",
       "              successful    1169\n",
       "dtype: int64"
      ]
     },
     "execution_count": 58,
     "metadata": {},
     "output_type": "execute_result"
    }
   ],
   "execution_count": 58
  },
  {
   "metadata": {},
   "cell_type": "markdown",
   "source": [
    "> Le montant en lui-même ne nous apporte aucune information.\n",
    "Il faut l'affiner en le présentant par exemple sous forme de pourcentage."
   ],
   "id": "7920821da6a5bd43"
  },
  {
   "metadata": {
    "ExecuteTime": {
     "end_time": "2025-03-29T03:44:20.213811Z",
     "start_time": "2025-03-29T03:44:20.204693Z"
    }
   },
   "cell_type": "code",
   "source": [
    "# Exécuter la cellule de code suivante (**une seule fois**). ⬇️\n",
    "state_summary = data.groupby(['goal_classes', 'state']).size() / data.groupby(['goal_classes']).size() \n",
    "# Ou encore state_summary = state_summary/data.groupby(\"goal_classes\").size() mais ca met une erreur \n",
    "state_summary"
   ],
   "id": "80b354724ab555b9",
   "outputs": [
    {
     "name": "stderr",
     "output_type": "stream",
     "text": [
      "C:\\Users\\Sergi\\AppData\\Local\\Temp\\ipykernel_23712\\3516512124.py:2: FutureWarning: The default of observed=False is deprecated and will be changed to True in a future version of pandas. Pass observed=False to retain current behavior or observed=True to adopt the future default and silence this warning.\n",
      "  state_summary = data.groupby(['goal_classes', 'state']).size() / data.groupby(['goal_classes']).size()\n",
      "C:\\Users\\Sergi\\AppData\\Local\\Temp\\ipykernel_23712\\3516512124.py:2: FutureWarning: The default of observed=False is deprecated and will be changed to True in a future version of pandas. Pass observed=False to retain current behavior or observed=True to adopt the future default and silence this warning.\n",
      "  state_summary = data.groupby(['goal_classes', 'state']).size() / data.groupby(['goal_classes']).size()\n"
     ]
    },
    {
     "data": {
      "text/plain": [
       "goal_classes  state     \n",
       "0             failed        0.483732\n",
       "              successful    0.516268\n",
       "1             failed        0.561977\n",
       "              successful    0.438023\n",
       "2             failed        0.602881\n",
       "              successful    0.397119\n",
       "3             failed        0.750374\n",
       "              successful    0.249626\n",
       "dtype: float64"
      ]
     },
     "execution_count": 59,
     "metadata": {},
     "output_type": "execute_result"
    }
   ],
   "execution_count": 59
  },
  {
   "metadata": {},
   "cell_type": "markdown",
   "source": [
    "> state_summary affiche désormais les pourcentages de réussite ou d'échec suivant les quartiles où on se place.\n",
    "\n",
    "+ Que remarquez-vous ?\n",
    "\n",
    "+ Ajouter à state_summary l'information relative au champ backers."
   ],
   "id": "4501b7635294df3d"
  },
  {
   "metadata": {
    "ExecuteTime": {
     "end_time": "2025-03-29T03:44:24.582445Z",
     "start_time": "2025-03-29T03:44:24.571868Z"
    }
   },
   "cell_type": "code",
   "source": [
    "# On remarque que la proba\n",
    "backers_summary = data.groupby(['goal_classes', 'state']).agg({'backers': 'mean'})\n",
    "backers_summary"
   ],
   "id": "e5e5f6b94ebb3620",
   "outputs": [
    {
     "name": "stderr",
     "output_type": "stream",
     "text": [
      "C:\\Users\\Sergi\\AppData\\Local\\Temp\\ipykernel_23712\\6501405.py:2: FutureWarning: The default of observed=False is deprecated and will be changed to True in a future version of pandas. Pass observed=False to retain current behavior or observed=True to adopt the future default and silence this warning.\n",
      "  backers_summary = data.groupby(['goal_classes', 'state']).agg({'backers': 'mean'})\n"
     ]
    },
    {
     "data": {
      "text/plain": [
       "                            backers\n",
       "goal_classes state                 \n",
       "0            failed        3.952434\n",
       "             successful   51.481546\n",
       "1            failed        8.514158\n",
       "             successful  123.885277\n",
       "2            failed       15.953584\n",
       "             successful  328.988083\n",
       "3            failed       27.540694\n",
       "             successful  938.322498"
      ],
      "text/html": [
       "<div>\n",
       "<style scoped>\n",
       "    .dataframe tbody tr th:only-of-type {\n",
       "        vertical-align: middle;\n",
       "    }\n",
       "\n",
       "    .dataframe tbody tr th {\n",
       "        vertical-align: top;\n",
       "    }\n",
       "\n",
       "    .dataframe thead th {\n",
       "        text-align: right;\n",
       "    }\n",
       "</style>\n",
       "<table border=\"1\" class=\"dataframe\">\n",
       "  <thead>\n",
       "    <tr style=\"text-align: right;\">\n",
       "      <th></th>\n",
       "      <th></th>\n",
       "      <th>backers</th>\n",
       "    </tr>\n",
       "    <tr>\n",
       "      <th>goal_classes</th>\n",
       "      <th>state</th>\n",
       "      <th></th>\n",
       "    </tr>\n",
       "  </thead>\n",
       "  <tbody>\n",
       "    <tr>\n",
       "      <th rowspan=\"2\" valign=\"top\">0</th>\n",
       "      <th>failed</th>\n",
       "      <td>3.952434</td>\n",
       "    </tr>\n",
       "    <tr>\n",
       "      <th>successful</th>\n",
       "      <td>51.481546</td>\n",
       "    </tr>\n",
       "    <tr>\n",
       "      <th rowspan=\"2\" valign=\"top\">1</th>\n",
       "      <th>failed</th>\n",
       "      <td>8.514158</td>\n",
       "    </tr>\n",
       "    <tr>\n",
       "      <th>successful</th>\n",
       "      <td>123.885277</td>\n",
       "    </tr>\n",
       "    <tr>\n",
       "      <th rowspan=\"2\" valign=\"top\">2</th>\n",
       "      <th>failed</th>\n",
       "      <td>15.953584</td>\n",
       "    </tr>\n",
       "    <tr>\n",
       "      <th>successful</th>\n",
       "      <td>328.988083</td>\n",
       "    </tr>\n",
       "    <tr>\n",
       "      <th rowspan=\"2\" valign=\"top\">3</th>\n",
       "      <th>failed</th>\n",
       "      <td>27.540694</td>\n",
       "    </tr>\n",
       "    <tr>\n",
       "      <th>successful</th>\n",
       "      <td>938.322498</td>\n",
       "    </tr>\n",
       "  </tbody>\n",
       "</table>\n",
       "</div>"
      ]
     },
     "execution_count": 60,
     "metadata": {},
     "output_type": "execute_result"
    }
   ],
   "execution_count": 60
  },
  {
   "metadata": {
    "ExecuteTime": {
     "end_time": "2025-03-29T03:44:26.976802Z",
     "start_time": "2025-03-29T03:44:26.968270Z"
    }
   },
   "cell_type": "code",
   "source": [
    "# pour le quantile de 0 on remarque que les prejets qui ont echoué ont recu moins de soutient par rapport aux projets qui ont reussi et au fur et a mesure par quantile.\n",
    "# On veut coller les deux dt on a :\n",
    "pd.merge(\n",
    "    state_summary.rename('state_percentage'),  # Sans mettre .rename() on obtine tune erreur car statesum est une serie et  et backsum nont  est un df \n",
    "    backers_summary,\n",
    "    left_index=True,\n",
    "    right_index=True\n",
    ")\n"
   ],
   "id": "ecebe79735fb3164",
   "outputs": [
    {
     "data": {
      "text/plain": [
       "                         state_percentage     backers\n",
       "goal_classes state                                   \n",
       "0            failed              0.483732    3.952434\n",
       "             successful          0.516268   51.481546\n",
       "1            failed              0.561977    8.514158\n",
       "             successful          0.438023  123.885277\n",
       "2            failed              0.602881   15.953584\n",
       "             successful          0.397119  328.988083\n",
       "3            failed              0.750374   27.540694\n",
       "             successful          0.249626  938.322498"
      ],
      "text/html": [
       "<div>\n",
       "<style scoped>\n",
       "    .dataframe tbody tr th:only-of-type {\n",
       "        vertical-align: middle;\n",
       "    }\n",
       "\n",
       "    .dataframe tbody tr th {\n",
       "        vertical-align: top;\n",
       "    }\n",
       "\n",
       "    .dataframe thead th {\n",
       "        text-align: right;\n",
       "    }\n",
       "</style>\n",
       "<table border=\"1\" class=\"dataframe\">\n",
       "  <thead>\n",
       "    <tr style=\"text-align: right;\">\n",
       "      <th></th>\n",
       "      <th></th>\n",
       "      <th>state_percentage</th>\n",
       "      <th>backers</th>\n",
       "    </tr>\n",
       "    <tr>\n",
       "      <th>goal_classes</th>\n",
       "      <th>state</th>\n",
       "      <th></th>\n",
       "      <th></th>\n",
       "    </tr>\n",
       "  </thead>\n",
       "  <tbody>\n",
       "    <tr>\n",
       "      <th rowspan=\"2\" valign=\"top\">0</th>\n",
       "      <th>failed</th>\n",
       "      <td>0.483732</td>\n",
       "      <td>3.952434</td>\n",
       "    </tr>\n",
       "    <tr>\n",
       "      <th>successful</th>\n",
       "      <td>0.516268</td>\n",
       "      <td>51.481546</td>\n",
       "    </tr>\n",
       "    <tr>\n",
       "      <th rowspan=\"2\" valign=\"top\">1</th>\n",
       "      <th>failed</th>\n",
       "      <td>0.561977</td>\n",
       "      <td>8.514158</td>\n",
       "    </tr>\n",
       "    <tr>\n",
       "      <th>successful</th>\n",
       "      <td>0.438023</td>\n",
       "      <td>123.885277</td>\n",
       "    </tr>\n",
       "    <tr>\n",
       "      <th rowspan=\"2\" valign=\"top\">2</th>\n",
       "      <th>failed</th>\n",
       "      <td>0.602881</td>\n",
       "      <td>15.953584</td>\n",
       "    </tr>\n",
       "    <tr>\n",
       "      <th>successful</th>\n",
       "      <td>0.397119</td>\n",
       "      <td>328.988083</td>\n",
       "    </tr>\n",
       "    <tr>\n",
       "      <th rowspan=\"2\" valign=\"top\">3</th>\n",
       "      <th>failed</th>\n",
       "      <td>0.750374</td>\n",
       "      <td>27.540694</td>\n",
       "    </tr>\n",
       "    <tr>\n",
       "      <th>successful</th>\n",
       "      <td>0.249626</td>\n",
       "      <td>938.322498</td>\n",
       "    </tr>\n",
       "  </tbody>\n",
       "</table>\n",
       "</div>"
      ]
     },
     "execution_count": 61,
     "metadata": {},
     "output_type": "execute_result"
    }
   ],
   "execution_count": 61
  },
  {
   "metadata": {
    "ExecuteTime": {
     "end_time": "2025-03-29T03:44:29.402032Z",
     "start_time": "2025-03-29T03:44:29.398883Z"
    }
   },
   "cell_type": "code",
   "source": [
    "print(type(state_summary))\n",
    "print(type(backers_summary))"
   ],
   "id": "bc1ba657c69e0b36",
   "outputs": [
    {
     "name": "stdout",
     "output_type": "stream",
     "text": [
      "<class 'pandas.core.series.Series'>\n",
      "<class 'pandas.core.frame.DataFrame'>\n"
     ]
    }
   ],
   "execution_count": 62
  },
  {
   "metadata": {},
   "cell_type": "markdown",
   "source": [
    "> De manière purement analytique, nous avons décelé une information importante pour réussir son objectif de cagnotte : statistiquement, il semble qu'il ne faille pas fixer un objectif trop élevé à atteindre. Également, on remarquera que les campagnes qui sont un succès semblent réunir un nombre plus important de contributeurs.\n",
    ">\n",
    "> On peut poser une question légitime : Peut-on avoir une idée du montant objectif (**`goal`**) à fixer pour optimiser ses chances de réussir ?\n",
    "\n",
    "-     Reprendre  **`data`**  et toujours en utilisant  **`groupby`**,**`agg`**  exprimer les montants cibles (**`goal`**) médians, moyens, minimum et maximum en fonction de  **`state`**  dans un DataFrame  **`target_goal`**."
   ],
   "id": "d4feec388e277179"
  },
  {
   "metadata": {
    "ExecuteTime": {
     "end_time": "2025-03-29T03:44:31.723162Z",
     "start_time": "2025-03-29T03:44:31.710352Z"
    }
   },
   "cell_type": "code",
   "source": "data.groupby('state').agg({'goal':['median', 'mean', 'min', 'max']})          ",
   "id": "c888f128b7469f1c",
   "outputs": [
    {
     "data": {
      "text/plain": [
       "              goal                             \n",
       "            median          mean  min       max\n",
       "state                                          \n",
       "failed      7000.0  23468.877064  1.0  575000.0\n",
       "successful  4000.0   9776.168840  1.0  500000.0"
      ],
      "text/html": [
       "<div>\n",
       "<style scoped>\n",
       "    .dataframe tbody tr th:only-of-type {\n",
       "        vertical-align: middle;\n",
       "    }\n",
       "\n",
       "    .dataframe tbody tr th {\n",
       "        vertical-align: top;\n",
       "    }\n",
       "\n",
       "    .dataframe thead tr th {\n",
       "        text-align: left;\n",
       "    }\n",
       "\n",
       "    .dataframe thead tr:last-of-type th {\n",
       "        text-align: right;\n",
       "    }\n",
       "</style>\n",
       "<table border=\"1\" class=\"dataframe\">\n",
       "  <thead>\n",
       "    <tr>\n",
       "      <th></th>\n",
       "      <th colspan=\"4\" halign=\"left\">goal</th>\n",
       "    </tr>\n",
       "    <tr>\n",
       "      <th></th>\n",
       "      <th>median</th>\n",
       "      <th>mean</th>\n",
       "      <th>min</th>\n",
       "      <th>max</th>\n",
       "    </tr>\n",
       "    <tr>\n",
       "      <th>state</th>\n",
       "      <th></th>\n",
       "      <th></th>\n",
       "      <th></th>\n",
       "      <th></th>\n",
       "    </tr>\n",
       "  </thead>\n",
       "  <tbody>\n",
       "    <tr>\n",
       "      <th>failed</th>\n",
       "      <td>7000.0</td>\n",
       "      <td>23468.877064</td>\n",
       "      <td>1.0</td>\n",
       "      <td>575000.0</td>\n",
       "    </tr>\n",
       "    <tr>\n",
       "      <th>successful</th>\n",
       "      <td>4000.0</td>\n",
       "      <td>9776.168840</td>\n",
       "      <td>1.0</td>\n",
       "      <td>500000.0</td>\n",
       "    </tr>\n",
       "  </tbody>\n",
       "</table>\n",
       "</div>"
      ]
     },
     "execution_count": 63,
     "metadata": {},
     "output_type": "execute_result"
    }
   ],
   "execution_count": 63
  },
  {
   "metadata": {},
   "cell_type": "code",
   "outputs": [],
   "execution_count": null,
   "source": "",
   "id": "c9afb95d62e7325a"
  },
  {
   "metadata": {},
   "cell_type": "markdown",
   "source": "+  En vous appuyant sur le module précédent (hétérogénéité, étendue des variables), est-il possible selon vous d'avoir une idée précise à priori du montant objectif à fixer pour réussir une collecte ?",
   "id": "133e937d2b33befd"
  },
  {
   "metadata": {},
   "cell_type": "code",
   "outputs": [],
   "execution_count": null,
   "source": "# a faire",
   "id": "4e274719423fd348"
  },
  {
   "metadata": {},
   "cell_type": "code",
   "outputs": [],
   "execution_count": null,
   "source": "",
   "id": "2b99e392c1f4bf9e"
  },
  {
   "metadata": {},
   "cell_type": "markdown",
   "source": [
    "\n",
    "> Il reste une dernière question importante à traiter : vers quelle(s) catégorie(s) dois-je me tourner si je souhaite maximiser ma collecte indépendamment de la réussir ou non ?  \n",
    "> Pour répondre à cette question on utilisera les variables  **`main_category`**,**`pledged`**,**`backers`**.\n",
    "\n",
    "-   En vous servant du module précédent et de ce qu'on a vu dans celui actuel, proposez une solution pour répondre à la question.\n",
    "\n",
    "  On pourra regarder la collecte versée par les contributeurs pour chaque catégorie."
   ],
   "id": "76deb4ec55046a8"
  },
  {
   "metadata": {
    "ExecuteTime": {
     "end_time": "2025-03-29T03:44:35.218229Z",
     "start_time": "2025-03-29T03:44:35.207570Z"
    }
   },
   "cell_type": "code",
   "source": [
    "# @title\n",
    "soluce = data.groupby(['main_category']).agg({'pledged': 'sum','backers': 'sum'})\n",
    "soluce['pledged_per_backers'] = soluce['pledged']/soluce['backers']\n",
    "soluce"
   ],
   "id": "88dc79f559636ebd",
   "outputs": [
    {
     "data": {
      "text/plain": [
       "                   pledged  backers  pledged_per_backers\n",
       "main_category                                           \n",
       "Art             6518040.39    76716            84.963246\n",
       "Comics          4588331.35    88215            52.013052\n",
       "Crafts          1533321.62    16310            94.011135\n",
       "Dance            722251.92     9639            74.930171\n",
       "Design         40228418.14   406229            99.028918\n",
       "Fashion         9505557.72   105912            89.749582\n",
       "Film & Video   23541958.63   217314           108.331532\n",
       "Food            9112744.99    90459           100.738953\n",
       "Games          52164955.00   708048            73.674320\n",
       "Journalism       600220.27    12270            48.917707\n",
       "Music          10499001.55   142416            73.720660\n",
       "Photography     2079372.62    24679            84.256762\n",
       "Publishing      7826470.06   117981            66.336699\n",
       "Technology     38448983.34   272385           141.156757\n",
       "Theater         2127485.15    27306            77.912735"
      ],
      "text/html": [
       "<div>\n",
       "<style scoped>\n",
       "    .dataframe tbody tr th:only-of-type {\n",
       "        vertical-align: middle;\n",
       "    }\n",
       "\n",
       "    .dataframe tbody tr th {\n",
       "        vertical-align: top;\n",
       "    }\n",
       "\n",
       "    .dataframe thead th {\n",
       "        text-align: right;\n",
       "    }\n",
       "</style>\n",
       "<table border=\"1\" class=\"dataframe\">\n",
       "  <thead>\n",
       "    <tr style=\"text-align: right;\">\n",
       "      <th></th>\n",
       "      <th>pledged</th>\n",
       "      <th>backers</th>\n",
       "      <th>pledged_per_backers</th>\n",
       "    </tr>\n",
       "    <tr>\n",
       "      <th>main_category</th>\n",
       "      <th></th>\n",
       "      <th></th>\n",
       "      <th></th>\n",
       "    </tr>\n",
       "  </thead>\n",
       "  <tbody>\n",
       "    <tr>\n",
       "      <th>Art</th>\n",
       "      <td>6518040.39</td>\n",
       "      <td>76716</td>\n",
       "      <td>84.963246</td>\n",
       "    </tr>\n",
       "    <tr>\n",
       "      <th>Comics</th>\n",
       "      <td>4588331.35</td>\n",
       "      <td>88215</td>\n",
       "      <td>52.013052</td>\n",
       "    </tr>\n",
       "    <tr>\n",
       "      <th>Crafts</th>\n",
       "      <td>1533321.62</td>\n",
       "      <td>16310</td>\n",
       "      <td>94.011135</td>\n",
       "    </tr>\n",
       "    <tr>\n",
       "      <th>Dance</th>\n",
       "      <td>722251.92</td>\n",
       "      <td>9639</td>\n",
       "      <td>74.930171</td>\n",
       "    </tr>\n",
       "    <tr>\n",
       "      <th>Design</th>\n",
       "      <td>40228418.14</td>\n",
       "      <td>406229</td>\n",
       "      <td>99.028918</td>\n",
       "    </tr>\n",
       "    <tr>\n",
       "      <th>Fashion</th>\n",
       "      <td>9505557.72</td>\n",
       "      <td>105912</td>\n",
       "      <td>89.749582</td>\n",
       "    </tr>\n",
       "    <tr>\n",
       "      <th>Film &amp; Video</th>\n",
       "      <td>23541958.63</td>\n",
       "      <td>217314</td>\n",
       "      <td>108.331532</td>\n",
       "    </tr>\n",
       "    <tr>\n",
       "      <th>Food</th>\n",
       "      <td>9112744.99</td>\n",
       "      <td>90459</td>\n",
       "      <td>100.738953</td>\n",
       "    </tr>\n",
       "    <tr>\n",
       "      <th>Games</th>\n",
       "      <td>52164955.00</td>\n",
       "      <td>708048</td>\n",
       "      <td>73.674320</td>\n",
       "    </tr>\n",
       "    <tr>\n",
       "      <th>Journalism</th>\n",
       "      <td>600220.27</td>\n",
       "      <td>12270</td>\n",
       "      <td>48.917707</td>\n",
       "    </tr>\n",
       "    <tr>\n",
       "      <th>Music</th>\n",
       "      <td>10499001.55</td>\n",
       "      <td>142416</td>\n",
       "      <td>73.720660</td>\n",
       "    </tr>\n",
       "    <tr>\n",
       "      <th>Photography</th>\n",
       "      <td>2079372.62</td>\n",
       "      <td>24679</td>\n",
       "      <td>84.256762</td>\n",
       "    </tr>\n",
       "    <tr>\n",
       "      <th>Publishing</th>\n",
       "      <td>7826470.06</td>\n",
       "      <td>117981</td>\n",
       "      <td>66.336699</td>\n",
       "    </tr>\n",
       "    <tr>\n",
       "      <th>Technology</th>\n",
       "      <td>38448983.34</td>\n",
       "      <td>272385</td>\n",
       "      <td>141.156757</td>\n",
       "    </tr>\n",
       "    <tr>\n",
       "      <th>Theater</th>\n",
       "      <td>2127485.15</td>\n",
       "      <td>27306</td>\n",
       "      <td>77.912735</td>\n",
       "    </tr>\n",
       "  </tbody>\n",
       "</table>\n",
       "</div>"
      ]
     },
     "execution_count": 64,
     "metadata": {},
     "output_type": "execute_result"
    }
   ],
   "execution_count": 64
  },
  {
   "metadata": {},
   "cell_type": "code",
   "outputs": [],
   "execution_count": null,
   "source": "# Resume a faire",
   "id": "f22ef42455286be3"
  },
  {
   "metadata": {},
   "cell_type": "markdown",
   "source": [
    "# Corrélation\n",
    "\n",
    "**Analyse des liaisons entre les variables d'un jeu de données**"
   ],
   "id": "abc335371213faef"
  },
  {
   "metadata": {},
   "cell_type": "code",
   "outputs": [],
   "execution_count": null,
   "source": "",
   "id": "c253927475dae91e"
  },
  {
   "metadata": {},
   "cell_type": "markdown",
   "source": [
    "L'analyse des liaisons entre variables passe par l'étude des corrélations entre elles.  \n",
    "Il faut distinguer 3 niveaux d'analyse :\n",
    "\n",
    "> -   entre les variables quantitatives,\n",
    ">\n",
    "> -   entre les variables qualitatives,\n",
    ">\n",
    "> -   entre les variables qualitatives et quantitatives.\n",
    "\n",
    "Pour chaque niveau d'analyse, il faut répondre à cette question : y a-t-il dépendance ou indépendance entre les variables et dans quelle mesure ?\n",
    "\n",
    "L'objectif de ce module est d'arriver à déterminer et mesurer les niveaux de corrélation entre les variables d'un jeu de données.\n",
    "\n",
    "Commençons par la phase d'importation des packages."
   ],
   "id": "f4e070e34dd4809c"
  },
  {
   "metadata": {
    "ExecuteTime": {
     "end_time": "2025-03-29T03:44:56.578601Z",
     "start_time": "2025-03-29T03:44:39.723456Z"
    }
   },
   "cell_type": "code",
   "source": [
    "import pandas as pd\n",
    "import numpy as np\n",
    "\n",
    "link = 'https://raw.githubusercontent.com/QuantikDataStudio/dataset/main/kickstarter.csv'\n",
    "\n",
    "df = pd.read_csv(link, on_bad_lines='skip' , index_col = 0)\n",
    "columns_to_drop = ['usd pledged', 'usd_pledged_real', 'usd_goal_real;;']\n",
    "df = df.drop(columns=columns_to_drop)\n",
    "df = df.dropna()\n",
    "df = df[~df['goal'].str.contains('-')]\n",
    "df['goal'] = df['goal'].astype(float)\n",
    "df['pledged'] = df['pledged'].astype(float)\n",
    "df['backers'] = df['backers'].astype(int)\n",
    "masque = (df['state'] == 'failed') | (df['state'] == 'successful')\n",
    "df = df.loc[masque]\n",
    "df = df.head(20000)\n",
    "df.info();"
   ],
   "id": "a768a65d18d8970b",
   "outputs": [
    {
     "name": "stdout",
     "output_type": "stream",
     "text": [
      "<class 'pandas.core.frame.DataFrame'>\n",
      "Index: 20000 entries, 1000002330 to 1131376350\n",
      "Data columns (total 11 columns):\n",
      " #   Column         Non-Null Count  Dtype  \n",
      "---  ------         --------------  -----  \n",
      " 0   name           20000 non-null  object \n",
      " 1   category       20000 non-null  object \n",
      " 2   main_category  20000 non-null  object \n",
      " 3   currency       20000 non-null  object \n",
      " 4   deadline       20000 non-null  object \n",
      " 5   goal           20000 non-null  float64\n",
      " 6   launched       20000 non-null  object \n",
      " 7   pledged        20000 non-null  float64\n",
      " 8   state          20000 non-null  object \n",
      " 9   backers        20000 non-null  int64  \n",
      " 10  country        20000 non-null  object \n",
      "dtypes: float64(2), int64(1), object(8)\n",
      "memory usage: 1.8+ MB\n"
     ]
    }
   ],
   "execution_count": 65
  },
  {
   "metadata": {},
   "cell_type": "markdown",
   "source": [
    "### 1. Variables Quantitatives\n",
    "\n",
    "\n",
    "----------\n",
    "\n",
    "> Lorsque l'on parle de tests d'indépendance entre variables, il faut avoir en tête que les tests sont différents suivant que l'on dispose de variables qualitatives ou quantitatives.\n",
    ">\n",
    "> Pour tester l'indépendance de variables lorsque les variables sont quantitatives, le test de corrélation de  **Pearson**  s'impose.\n",
    ">\n",
    "> Un test statistique est une procédure de décision entre deux hypothèses. Il s'agit d'une démarche consistant à rejeter ou à ne pas rejeter une hypothèse statistique, appelée hypothèse nulle  H<sub>0</sub>, en fonction d'un jeu de données.\n",
    ">\n",
    ">   **Attention nuance ! Ne pas rejeter une hypothèse ne signifie pas l'accepter.**\n",
    ">\n",
    "> Dans le cas du test de corrélation de  **Pearson**, l'hypothèse nulle est la suivante :\n",
    ">\n",
    "> H<sub>0</sub>  : \"Les deux variables testées sont indépendantes\"\n",
    ">\n",
    "> Pour rejeter ou non cette hypothèse, on regarde la  **p-value**  du test : i cette dernière est en dessous de 5%, on rejette  H<sub>0</sub>.  \n",
    "> Le seuil de 5% est un usage de praticien. On peut mettre des seuils plus strictes (quand on teste un anti-missile) ou plus souple, pour de la publicité de masse.\n",
    ">\n",
    "> Il convient de définir la notion de  **p-value**  : la  **p-value**  est la probabilité, sous  H<sub>0</sub> , d’obtenir une statistique aussi extrême (pour ne pas dire aussi grande) que la valeur observée sur l’échantillon.  \n",
    "> Elle représente la probabilité de rejeter l'hypothèse nulle si elle est vraie. Plus la  **p-value**  est petite, plus la probabilité de faire une erreur en rejetant l'hypothèse nulle est faible.\n",
    ">\n",
    "> Pour mesurer la corrélation entre les deux variables, on s'appuiera sur le coefficient de corrélation de  **Pearson**.\n",
    ">\n",
    "> Le coefficient de corrélation de  **Pearson**  est une formule qui permet de quantifier la relation linéaire entre deux variables : le coefficient est un réel entre  `-1`  et  `1`  avec :\n",
    ">\n",
    "> > -   `1`  les variables sont corrélées\n",
    "> >\n",
    "> > -   `0`  les variables sont décorrélées\n",
    "> >\n",
    "> > -   `-1`  les variables sont corrélées négativement\n",
    ">\n",
    "> Des corrélations positives impliquent qu'à mesure que x augmente, il en va de même pour y. Les corrélations négatives impliquent que lorsque x augmente, y diminue.\n",
    ">\n",
    "> Le coefficient de  **Pearson**  est obtenu par la formule :\n",
    ">\n",
    "> Pearson correlation coefficient (ρ) = cov(X, Y) / (σX * σY)\n",
    "\n",
    ">\n",
    "> où :\n",
    ">\n",
    "> > -   cov(X,Y)  est la covariance entre  X  et  Y.\n",
    "> >\n",
    "> > -   σX  est l'écart type de  X.\n",
    "> >\n",
    "> > -   σY  est l'écart type de  Y.\n",
    ">\n",
    "> On peut récapituler le test de Pearson sous forme de tableau :\n",
    ">\n",
    "| Test              | p-value     | Décision         | Quantifieur      |\n",
    "| ----------------- | ----------- | ---------------- | ---------------- |\n",
    "| Test de Pearson   | < 5%        | On rejette H₀    | coefficient de Pearson |\n",
    "\n",
    ">\n",
    "> **`scipy.stats.pearsonr`**  permet de réaliser le test sur deux variables quantitatives. Il renvoie le  **coefficient**  et la  **p-value**  du test.\n",
    "\n",
    "-   **(a)**  Importer de  **`scipy.stats`**  la fonction  **`pearsonr`**  .\n",
    "\n",
    "-   **(b)**  Effectuer le test de corrélation de Pearson entre les deux variables  **`backers`**  et  **`pledged`**, afficher le  **`coefficient`**  et la  **`p-value`**  du test.\n",
    "\n",
    "-   **(c)**  Les deux variables sont-elles corrélées ? Si oui, dans quelle mesure ?"
   ],
   "id": "fce55483997a7dfd"
  },
  {
   "metadata": {
    "ExecuteTime": {
     "end_time": "2025-03-29T03:45:42.020993Z",
     "start_time": "2025-03-29T03:45:42.012436Z"
    }
   },
   "cell_type": "code",
   "source": [
    "# Import la fonction scipy\n",
    "from scipy.stats import pearsonr\n",
    "\n",
    "pearsonr(df['backers'], df['pledged'])"
   ],
   "id": "ba199fe24a7de120",
   "outputs": [
    {
     "data": {
      "text/plain": [
       "PearsonRResult(statistic=np.float64(0.7728630182807681), pvalue=np.float64(0.0))"
      ]
     },
     "execution_count": 66,
     "metadata": {},
     "output_type": "execute_result"
    }
   ],
   "execution_count": 66
  },
  {
   "metadata": {
    "ExecuteTime": {
     "end_time": "2025-03-29T03:45:43.910318Z",
     "start_time": "2025-03-29T03:45:43.903161Z"
    }
   },
   "cell_type": "code",
   "source": "pd.DataFrame(pearsonr(df['backers'], df['pledged']), index=['pearson_coeff','p-value'], columns=['resultat_test'])",
   "id": "76bed80a81ebf38",
   "outputs": [
    {
     "data": {
      "text/plain": [
       "               resultat_test\n",
       "pearson_coeff       0.772863\n",
       "p-value             0.000000"
      ],
      "text/html": [
       "<div>\n",
       "<style scoped>\n",
       "    .dataframe tbody tr th:only-of-type {\n",
       "        vertical-align: middle;\n",
       "    }\n",
       "\n",
       "    .dataframe tbody tr th {\n",
       "        vertical-align: top;\n",
       "    }\n",
       "\n",
       "    .dataframe thead th {\n",
       "        text-align: right;\n",
       "    }\n",
       "</style>\n",
       "<table border=\"1\" class=\"dataframe\">\n",
       "  <thead>\n",
       "    <tr style=\"text-align: right;\">\n",
       "      <th></th>\n",
       "      <th>resultat_test</th>\n",
       "    </tr>\n",
       "  </thead>\n",
       "  <tbody>\n",
       "    <tr>\n",
       "      <th>pearson_coeff</th>\n",
       "      <td>0.772863</td>\n",
       "    </tr>\n",
       "    <tr>\n",
       "      <th>p-value</th>\n",
       "      <td>0.000000</td>\n",
       "    </tr>\n",
       "  </tbody>\n",
       "</table>\n",
       "</div>"
      ]
     },
     "execution_count": 67,
     "metadata": {},
     "output_type": "execute_result"
    }
   ],
   "execution_count": 67
  },
  {
   "metadata": {},
   "cell_type": "markdown",
   "source": [
    "\n",
    "> On peut vérifier cette relation également graphiquement.\n",
    "\n",
    "-   **(d)**  Exécuter la cellule suivante."
   ],
   "id": "df3bca71f926d306"
  },
  {
   "metadata": {
    "ExecuteTime": {
     "end_time": "2025-03-29T03:45:46.979582Z",
     "start_time": "2025-03-29T03:45:46.813055Z"
    }
   },
   "cell_type": "code",
   "source": [
    "from pandas.plotting import scatter_matrix\n",
    "%matplotlib inline\n",
    "\n",
    "df[df['pledged']<10000].plot(kind='scatter', x='pledged', y='backers', alpha=0.1);"
   ],
   "id": "31ce1b28a73fc874",
   "outputs": [
    {
     "data": {
      "text/plain": [
       "<Figure size 640x480 with 1 Axes>"
      ],
      "image/png": "[encoded data removed]"
     },
     "metadata": {},
     "output_type": "display_data"
    }
   ],
   "execution_count": 68
  },
  {
   "metadata": {},
   "cell_type": "code",
   "outputs": [],
   "execution_count": null,
   "source": "",
   "id": "f662491316699215"
  },
  {
   "metadata": {},
   "cell_type": "markdown",
   "source": [
    "\n",
    "> La matrice de corrélation déjà implémentée dans python renvoie un dataframe contenant les coefficients de corrélation de pearson entre chaque variable quantitative et les autres.\n",
    ">\n",
    "> Elle est facilement calculable à l'aide de la méthode  **`corr`**.\n",
    "\n",
    "-   **(e)**  Afficher la matrice de corrélation de  **`df`**.\n",
    "\n",
    "-   **(f)**  Que pouvez-dire des corrélations entre  **`pledged`**  et  **`goal`**  ? Entre  **`backers`**  et  **`goal`**  ?"
   ],
   "id": "689c7d9b8c148bd"
  },
  {
   "metadata": {
    "ExecuteTime": {
     "end_time": "2025-03-29T03:48:24.194425Z",
     "start_time": "2025-03-29T03:48:24.159856Z"
    }
   },
   "cell_type": "code",
   "source": "df.corr()",
   "id": "f7810fbf4bc4ff8b",
   "outputs": [
    {
     "ename": "ValueError",
     "evalue": "could not convert string to float: 'The Songs of Adelaide & Abullah'",
     "output_type": "error",
     "traceback": [
      "\u001B[1;31m---------------------------------------------------------------------------\u001B[0m",
      "\u001B[1;31mValueError\u001B[0m                                Traceback (most recent call last)",
      "Cell \u001B[1;32mIn[73], line 1\u001B[0m\n\u001B[1;32m----> 1\u001B[0m \u001B[43mdf\u001B[49m\u001B[38;5;241;43m.\u001B[39;49m\u001B[43mcorr\u001B[49m\u001B[43m(\u001B[49m\u001B[43m)\u001B[49m\n",
      "File \u001B[1;32m~\\AppData\\Roaming\\Python\\Python313\\site-packages\\pandas\\core\\frame.py:11049\u001B[0m, in \u001B[0;36mDataFrame.corr\u001B[1;34m(self, method, min_periods, numeric_only)\u001B[0m\n\u001B[0;32m  11047\u001B[0m cols \u001B[38;5;241m=\u001B[39m data\u001B[38;5;241m.\u001B[39mcolumns\n\u001B[0;32m  11048\u001B[0m idx \u001B[38;5;241m=\u001B[39m cols\u001B[38;5;241m.\u001B[39mcopy()\n\u001B[1;32m> 11049\u001B[0m mat \u001B[38;5;241m=\u001B[39m \u001B[43mdata\u001B[49m\u001B[38;5;241;43m.\u001B[39;49m\u001B[43mto_numpy\u001B[49m\u001B[43m(\u001B[49m\u001B[43mdtype\u001B[49m\u001B[38;5;241;43m=\u001B[39;49m\u001B[38;5;28;43mfloat\u001B[39;49m\u001B[43m,\u001B[49m\u001B[43m \u001B[49m\u001B[43mna_value\u001B[49m\u001B[38;5;241;43m=\u001B[39;49m\u001B[43mnp\u001B[49m\u001B[38;5;241;43m.\u001B[39;49m\u001B[43mnan\u001B[49m\u001B[43m,\u001B[49m\u001B[43m \u001B[49m\u001B[43mcopy\u001B[49m\u001B[38;5;241;43m=\u001B[39;49m\u001B[38;5;28;43;01mFalse\u001B[39;49;00m\u001B[43m)\u001B[49m\n\u001B[0;32m  11051\u001B[0m \u001B[38;5;28;01mif\u001B[39;00m method \u001B[38;5;241m==\u001B[39m \u001B[38;5;124m\"\u001B[39m\u001B[38;5;124mpearson\u001B[39m\u001B[38;5;124m\"\u001B[39m:\n\u001B[0;32m  11052\u001B[0m     correl \u001B[38;5;241m=\u001B[39m libalgos\u001B[38;5;241m.\u001B[39mnancorr(mat, minp\u001B[38;5;241m=\u001B[39mmin_periods)\n",
      "File \u001B[1;32m~\\AppData\\Roaming\\Python\\Python313\\site-packages\\pandas\\core\\frame.py:1993\u001B[0m, in \u001B[0;36mDataFrame.to_numpy\u001B[1;34m(self, dtype, copy, na_value)\u001B[0m\n\u001B[0;32m   1991\u001B[0m \u001B[38;5;28;01mif\u001B[39;00m dtype \u001B[38;5;129;01mis\u001B[39;00m \u001B[38;5;129;01mnot\u001B[39;00m \u001B[38;5;28;01mNone\u001B[39;00m:\n\u001B[0;32m   1992\u001B[0m     dtype \u001B[38;5;241m=\u001B[39m np\u001B[38;5;241m.\u001B[39mdtype(dtype)\n\u001B[1;32m-> 1993\u001B[0m result \u001B[38;5;241m=\u001B[39m \u001B[38;5;28;43mself\u001B[39;49m\u001B[38;5;241;43m.\u001B[39;49m\u001B[43m_mgr\u001B[49m\u001B[38;5;241;43m.\u001B[39;49m\u001B[43mas_array\u001B[49m\u001B[43m(\u001B[49m\u001B[43mdtype\u001B[49m\u001B[38;5;241;43m=\u001B[39;49m\u001B[43mdtype\u001B[49m\u001B[43m,\u001B[49m\u001B[43m \u001B[49m\u001B[43mcopy\u001B[49m\u001B[38;5;241;43m=\u001B[39;49m\u001B[43mcopy\u001B[49m\u001B[43m,\u001B[49m\u001B[43m \u001B[49m\u001B[43mna_value\u001B[49m\u001B[38;5;241;43m=\u001B[39;49m\u001B[43mna_value\u001B[49m\u001B[43m)\u001B[49m\n\u001B[0;32m   1994\u001B[0m \u001B[38;5;28;01mif\u001B[39;00m result\u001B[38;5;241m.\u001B[39mdtype \u001B[38;5;129;01mis\u001B[39;00m \u001B[38;5;129;01mnot\u001B[39;00m dtype:\n\u001B[0;32m   1995\u001B[0m     result \u001B[38;5;241m=\u001B[39m np\u001B[38;5;241m.\u001B[39masarray(result, dtype\u001B[38;5;241m=\u001B[39mdtype)\n",
      "File \u001B[1;32m~\\AppData\\Roaming\\Python\\Python313\\site-packages\\pandas\\core\\internals\\managers.py:1694\u001B[0m, in \u001B[0;36mBlockManager.as_array\u001B[1;34m(self, dtype, copy, na_value)\u001B[0m\n\u001B[0;32m   1692\u001B[0m         arr\u001B[38;5;241m.\u001B[39mflags\u001B[38;5;241m.\u001B[39mwriteable \u001B[38;5;241m=\u001B[39m \u001B[38;5;28;01mFalse\u001B[39;00m\n\u001B[0;32m   1693\u001B[0m \u001B[38;5;28;01melse\u001B[39;00m:\n\u001B[1;32m-> 1694\u001B[0m     arr \u001B[38;5;241m=\u001B[39m \u001B[38;5;28;43mself\u001B[39;49m\u001B[38;5;241;43m.\u001B[39;49m\u001B[43m_interleave\u001B[49m\u001B[43m(\u001B[49m\u001B[43mdtype\u001B[49m\u001B[38;5;241;43m=\u001B[39;49m\u001B[43mdtype\u001B[49m\u001B[43m,\u001B[49m\u001B[43m \u001B[49m\u001B[43mna_value\u001B[49m\u001B[38;5;241;43m=\u001B[39;49m\u001B[43mna_value\u001B[49m\u001B[43m)\u001B[49m\n\u001B[0;32m   1695\u001B[0m     \u001B[38;5;66;03m# The underlying data was copied within _interleave, so no need\u001B[39;00m\n\u001B[0;32m   1696\u001B[0m     \u001B[38;5;66;03m# to further copy if copy=True or setting na_value\u001B[39;00m\n\u001B[0;32m   1698\u001B[0m \u001B[38;5;28;01mif\u001B[39;00m na_value \u001B[38;5;129;01mis\u001B[39;00m lib\u001B[38;5;241m.\u001B[39mno_default:\n",
      "File \u001B[1;32m~\\AppData\\Roaming\\Python\\Python313\\site-packages\\pandas\\core\\internals\\managers.py:1753\u001B[0m, in \u001B[0;36mBlockManager._interleave\u001B[1;34m(self, dtype, na_value)\u001B[0m\n\u001B[0;32m   1751\u001B[0m     \u001B[38;5;28;01melse\u001B[39;00m:\n\u001B[0;32m   1752\u001B[0m         arr \u001B[38;5;241m=\u001B[39m blk\u001B[38;5;241m.\u001B[39mget_values(dtype)\n\u001B[1;32m-> 1753\u001B[0m     \u001B[43mresult\u001B[49m\u001B[43m[\u001B[49m\u001B[43mrl\u001B[49m\u001B[38;5;241;43m.\u001B[39;49m\u001B[43mindexer\u001B[49m\u001B[43m]\u001B[49m \u001B[38;5;241m=\u001B[39m arr\n\u001B[0;32m   1754\u001B[0m     itemmask[rl\u001B[38;5;241m.\u001B[39mindexer] \u001B[38;5;241m=\u001B[39m \u001B[38;5;241m1\u001B[39m\n\u001B[0;32m   1756\u001B[0m \u001B[38;5;28;01mif\u001B[39;00m \u001B[38;5;129;01mnot\u001B[39;00m itemmask\u001B[38;5;241m.\u001B[39mall():\n",
      "\u001B[1;31mValueError\u001B[0m: could not convert string to float: 'The Songs of Adelaide & Abullah'"
     ]
    }
   ],
   "execution_count": 73
  },
  {
   "metadata": {
    "ExecuteTime": {
     "end_time": "2025-03-29T03:46:16.102081Z",
     "start_time": "2025-03-29T03:46:16.063053Z"
    }
   },
   "cell_type": "code",
   "source": [
    "# Calcul des corrélations de Pearson sur les variables quantitatives\n",
    "corr = df.corr()\n",
    "\n",
    "# Affichage de la heatmap de ces corrélations\n",
    "corr.style.background_gradient(cmap='Reds')"
   ],
   "id": "23781983b52f89e8",
   "outputs": [
    {
     "ename": "ValueError",
     "evalue": "could not convert string to float: 'The Songs of Adelaide & Abullah'",
     "output_type": "error",
     "traceback": [
      "\u001B[1;31m---------------------------------------------------------------------------\u001B[0m",
      "\u001B[1;31mValueError\u001B[0m                                Traceback (most recent call last)",
      "Cell \u001B[1;32mIn[70], line 2\u001B[0m\n\u001B[0;32m      1\u001B[0m \u001B[38;5;66;03m# Calcul des corrélations de Pearson sur les variables quantitatives\u001B[39;00m\n\u001B[1;32m----> 2\u001B[0m corr \u001B[38;5;241m=\u001B[39m \u001B[43mdf\u001B[49m\u001B[38;5;241;43m.\u001B[39;49m\u001B[43mcorr\u001B[49m\u001B[43m(\u001B[49m\u001B[43m)\u001B[49m\n\u001B[0;32m      4\u001B[0m \u001B[38;5;66;03m# Affichage de la heatmap de ces corrélations\u001B[39;00m\n\u001B[0;32m      5\u001B[0m corr\u001B[38;5;241m.\u001B[39mstyle\u001B[38;5;241m.\u001B[39mbackground_gradient(cmap\u001B[38;5;241m=\u001B[39m\u001B[38;5;124m'\u001B[39m\u001B[38;5;124mReds\u001B[39m\u001B[38;5;124m'\u001B[39m)\n",
      "File \u001B[1;32m~\\AppData\\Roaming\\Python\\Python313\\site-packages\\pandas\\core\\frame.py:11049\u001B[0m, in \u001B[0;36mDataFrame.corr\u001B[1;34m(self, method, min_periods, numeric_only)\u001B[0m\n\u001B[0;32m  11047\u001B[0m cols \u001B[38;5;241m=\u001B[39m data\u001B[38;5;241m.\u001B[39mcolumns\n\u001B[0;32m  11048\u001B[0m idx \u001B[38;5;241m=\u001B[39m cols\u001B[38;5;241m.\u001B[39mcopy()\n\u001B[1;32m> 11049\u001B[0m mat \u001B[38;5;241m=\u001B[39m \u001B[43mdata\u001B[49m\u001B[38;5;241;43m.\u001B[39;49m\u001B[43mto_numpy\u001B[49m\u001B[43m(\u001B[49m\u001B[43mdtype\u001B[49m\u001B[38;5;241;43m=\u001B[39;49m\u001B[38;5;28;43mfloat\u001B[39;49m\u001B[43m,\u001B[49m\u001B[43m \u001B[49m\u001B[43mna_value\u001B[49m\u001B[38;5;241;43m=\u001B[39;49m\u001B[43mnp\u001B[49m\u001B[38;5;241;43m.\u001B[39;49m\u001B[43mnan\u001B[49m\u001B[43m,\u001B[49m\u001B[43m \u001B[49m\u001B[43mcopy\u001B[49m\u001B[38;5;241;43m=\u001B[39;49m\u001B[38;5;28;43;01mFalse\u001B[39;49;00m\u001B[43m)\u001B[49m\n\u001B[0;32m  11051\u001B[0m \u001B[38;5;28;01mif\u001B[39;00m method \u001B[38;5;241m==\u001B[39m \u001B[38;5;124m\"\u001B[39m\u001B[38;5;124mpearson\u001B[39m\u001B[38;5;124m\"\u001B[39m:\n\u001B[0;32m  11052\u001B[0m     correl \u001B[38;5;241m=\u001B[39m libalgos\u001B[38;5;241m.\u001B[39mnancorr(mat, minp\u001B[38;5;241m=\u001B[39mmin_periods)\n",
      "File \u001B[1;32m~\\AppData\\Roaming\\Python\\Python313\\site-packages\\pandas\\core\\frame.py:1993\u001B[0m, in \u001B[0;36mDataFrame.to_numpy\u001B[1;34m(self, dtype, copy, na_value)\u001B[0m\n\u001B[0;32m   1991\u001B[0m \u001B[38;5;28;01mif\u001B[39;00m dtype \u001B[38;5;129;01mis\u001B[39;00m \u001B[38;5;129;01mnot\u001B[39;00m \u001B[38;5;28;01mNone\u001B[39;00m:\n\u001B[0;32m   1992\u001B[0m     dtype \u001B[38;5;241m=\u001B[39m np\u001B[38;5;241m.\u001B[39mdtype(dtype)\n\u001B[1;32m-> 1993\u001B[0m result \u001B[38;5;241m=\u001B[39m \u001B[38;5;28;43mself\u001B[39;49m\u001B[38;5;241;43m.\u001B[39;49m\u001B[43m_mgr\u001B[49m\u001B[38;5;241;43m.\u001B[39;49m\u001B[43mas_array\u001B[49m\u001B[43m(\u001B[49m\u001B[43mdtype\u001B[49m\u001B[38;5;241;43m=\u001B[39;49m\u001B[43mdtype\u001B[49m\u001B[43m,\u001B[49m\u001B[43m \u001B[49m\u001B[43mcopy\u001B[49m\u001B[38;5;241;43m=\u001B[39;49m\u001B[43mcopy\u001B[49m\u001B[43m,\u001B[49m\u001B[43m \u001B[49m\u001B[43mna_value\u001B[49m\u001B[38;5;241;43m=\u001B[39;49m\u001B[43mna_value\u001B[49m\u001B[43m)\u001B[49m\n\u001B[0;32m   1994\u001B[0m \u001B[38;5;28;01mif\u001B[39;00m result\u001B[38;5;241m.\u001B[39mdtype \u001B[38;5;129;01mis\u001B[39;00m \u001B[38;5;129;01mnot\u001B[39;00m dtype:\n\u001B[0;32m   1995\u001B[0m     result \u001B[38;5;241m=\u001B[39m np\u001B[38;5;241m.\u001B[39masarray(result, dtype\u001B[38;5;241m=\u001B[39mdtype)\n",
      "File \u001B[1;32m~\\AppData\\Roaming\\Python\\Python313\\site-packages\\pandas\\core\\internals\\managers.py:1694\u001B[0m, in \u001B[0;36mBlockManager.as_array\u001B[1;34m(self, dtype, copy, na_value)\u001B[0m\n\u001B[0;32m   1692\u001B[0m         arr\u001B[38;5;241m.\u001B[39mflags\u001B[38;5;241m.\u001B[39mwriteable \u001B[38;5;241m=\u001B[39m \u001B[38;5;28;01mFalse\u001B[39;00m\n\u001B[0;32m   1693\u001B[0m \u001B[38;5;28;01melse\u001B[39;00m:\n\u001B[1;32m-> 1694\u001B[0m     arr \u001B[38;5;241m=\u001B[39m \u001B[38;5;28;43mself\u001B[39;49m\u001B[38;5;241;43m.\u001B[39;49m\u001B[43m_interleave\u001B[49m\u001B[43m(\u001B[49m\u001B[43mdtype\u001B[49m\u001B[38;5;241;43m=\u001B[39;49m\u001B[43mdtype\u001B[49m\u001B[43m,\u001B[49m\u001B[43m \u001B[49m\u001B[43mna_value\u001B[49m\u001B[38;5;241;43m=\u001B[39;49m\u001B[43mna_value\u001B[49m\u001B[43m)\u001B[49m\n\u001B[0;32m   1695\u001B[0m     \u001B[38;5;66;03m# The underlying data was copied within _interleave, so no need\u001B[39;00m\n\u001B[0;32m   1696\u001B[0m     \u001B[38;5;66;03m# to further copy if copy=True or setting na_value\u001B[39;00m\n\u001B[0;32m   1698\u001B[0m \u001B[38;5;28;01mif\u001B[39;00m na_value \u001B[38;5;129;01mis\u001B[39;00m lib\u001B[38;5;241m.\u001B[39mno_default:\n",
      "File \u001B[1;32m~\\AppData\\Roaming\\Python\\Python313\\site-packages\\pandas\\core\\internals\\managers.py:1753\u001B[0m, in \u001B[0;36mBlockManager._interleave\u001B[1;34m(self, dtype, na_value)\u001B[0m\n\u001B[0;32m   1751\u001B[0m     \u001B[38;5;28;01melse\u001B[39;00m:\n\u001B[0;32m   1752\u001B[0m         arr \u001B[38;5;241m=\u001B[39m blk\u001B[38;5;241m.\u001B[39mget_values(dtype)\n\u001B[1;32m-> 1753\u001B[0m     \u001B[43mresult\u001B[49m\u001B[43m[\u001B[49m\u001B[43mrl\u001B[49m\u001B[38;5;241;43m.\u001B[39;49m\u001B[43mindexer\u001B[49m\u001B[43m]\u001B[49m \u001B[38;5;241m=\u001B[39m arr\n\u001B[0;32m   1754\u001B[0m     itemmask[rl\u001B[38;5;241m.\u001B[39mindexer] \u001B[38;5;241m=\u001B[39m \u001B[38;5;241m1\u001B[39m\n\u001B[0;32m   1756\u001B[0m \u001B[38;5;28;01mif\u001B[39;00m \u001B[38;5;129;01mnot\u001B[39;00m itemmask\u001B[38;5;241m.\u001B[39mall():\n",
      "\u001B[1;31mValueError\u001B[0m: could not convert string to float: 'The Songs of Adelaide & Abullah'"
     ]
    }
   ],
   "execution_count": 70
  },
  {
   "metadata": {},
   "cell_type": "code",
   "outputs": [],
   "execution_count": null,
   "source": "",
   "id": "3150cd8aa57f5751"
  },
  {
   "metadata": {},
   "cell_type": "code",
   "outputs": [],
   "execution_count": null,
   "source": "",
   "id": "37032e00eadede48"
  },
  {
   "metadata": {},
   "cell_type": "markdown",
   "source": [
    "### 2. Variables Qualitatives\n",
    "\n",
    "----------\n",
    "\n",
    "> Lorsque les variables sont qualitatives, un test de corrélation de Pearson n'est alors pas adapté. Pour cela, on commence par utiliser la  **table de contingence**. On appelle une table de contingence, la table croisée contenant les différentes catégories des deux variables en question.\n",
    ">\n",
    "> Pour afficher une table de contingence, il faut utiliser la fonction  **`crosstab`**  avec les deux variables en argument.\n",
    ">\n",
    ">    _Exemple d'utilisation_  :  `pandas.crosstab(var1,var2)`\n",
    ">\n",
    "> Cette table de contingence permet de visualiser comment se distribuent les catégories de la variable 1 au sein de la variable 2. Pour des variables totalement indépendantes, la distribution doit être proportionnelle entre chaque ligne et entre chaque colonne.\n",
    "\n",
    "-   (a) Afficher la table de contingence de  **`main_category`**  par rapport à  **`state`**."
   ],
   "id": "d4709c345786196f"
  },
  {
   "metadata": {
    "ExecuteTime": {
     "end_time": "2025-03-29T03:55:54.534714Z",
     "start_time": "2025-03-29T03:55:54.520818Z"
    }
   },
   "cell_type": "code",
   "source": [
    "table = pd.crosstab(df['main_category'], df['state'])\n",
    "table"
   ],
   "id": "3638c36fb1a8ac9c",
   "outputs": [
    {
     "data": {
      "text/plain": [
       "state          failed  successful\n",
       "main_category                    \n",
       "Art               881         735\n",
       "Comics            250         373\n",
       "Crafts            356         142\n",
       "Dance              82         126\n",
       "Design            883         613\n",
       "Fashion           853         340\n",
       "Film & Video     1938        1458\n",
       "Food              969         379\n",
       "Games            1035         824\n",
       "Journalism        190          54\n",
       "Music            1208        1322\n",
       "Photography       415         197\n",
       "Publishing       1390         700\n",
       "Technology       1274         430\n",
       "Theater           210         373"
      ],
      "text/html": [
       "<div>\n",
       "<style scoped>\n",
       "    .dataframe tbody tr th:only-of-type {\n",
       "        vertical-align: middle;\n",
       "    }\n",
       "\n",
       "    .dataframe tbody tr th {\n",
       "        vertical-align: top;\n",
       "    }\n",
       "\n",
       "    .dataframe thead th {\n",
       "        text-align: right;\n",
       "    }\n",
       "</style>\n",
       "<table border=\"1\" class=\"dataframe\">\n",
       "  <thead>\n",
       "    <tr style=\"text-align: right;\">\n",
       "      <th>state</th>\n",
       "      <th>failed</th>\n",
       "      <th>successful</th>\n",
       "    </tr>\n",
       "    <tr>\n",
       "      <th>main_category</th>\n",
       "      <th></th>\n",
       "      <th></th>\n",
       "    </tr>\n",
       "  </thead>\n",
       "  <tbody>\n",
       "    <tr>\n",
       "      <th>Art</th>\n",
       "      <td>881</td>\n",
       "      <td>735</td>\n",
       "    </tr>\n",
       "    <tr>\n",
       "      <th>Comics</th>\n",
       "      <td>250</td>\n",
       "      <td>373</td>\n",
       "    </tr>\n",
       "    <tr>\n",
       "      <th>Crafts</th>\n",
       "      <td>356</td>\n",
       "      <td>142</td>\n",
       "    </tr>\n",
       "    <tr>\n",
       "      <th>Dance</th>\n",
       "      <td>82</td>\n",
       "      <td>126</td>\n",
       "    </tr>\n",
       "    <tr>\n",
       "      <th>Design</th>\n",
       "      <td>883</td>\n",
       "      <td>613</td>\n",
       "    </tr>\n",
       "    <tr>\n",
       "      <th>Fashion</th>\n",
       "      <td>853</td>\n",
       "      <td>340</td>\n",
       "    </tr>\n",
       "    <tr>\n",
       "      <th>Film &amp; Video</th>\n",
       "      <td>1938</td>\n",
       "      <td>1458</td>\n",
       "    </tr>\n",
       "    <tr>\n",
       "      <th>Food</th>\n",
       "      <td>969</td>\n",
       "      <td>379</td>\n",
       "    </tr>\n",
       "    <tr>\n",
       "      <th>Games</th>\n",
       "      <td>1035</td>\n",
       "      <td>824</td>\n",
       "    </tr>\n",
       "    <tr>\n",
       "      <th>Journalism</th>\n",
       "      <td>190</td>\n",
       "      <td>54</td>\n",
       "    </tr>\n",
       "    <tr>\n",
       "      <th>Music</th>\n",
       "      <td>1208</td>\n",
       "      <td>1322</td>\n",
       "    </tr>\n",
       "    <tr>\n",
       "      <th>Photography</th>\n",
       "      <td>415</td>\n",
       "      <td>197</td>\n",
       "    </tr>\n",
       "    <tr>\n",
       "      <th>Publishing</th>\n",
       "      <td>1390</td>\n",
       "      <td>700</td>\n",
       "    </tr>\n",
       "    <tr>\n",
       "      <th>Technology</th>\n",
       "      <td>1274</td>\n",
       "      <td>430</td>\n",
       "    </tr>\n",
       "    <tr>\n",
       "      <th>Theater</th>\n",
       "      <td>210</td>\n",
       "      <td>373</td>\n",
       "    </tr>\n",
       "  </tbody>\n",
       "</table>\n",
       "</div>"
      ]
     },
     "execution_count": 76,
     "metadata": {},
     "output_type": "execute_result"
    }
   ],
   "execution_count": 76
  },
  {
   "metadata": {},
   "cell_type": "code",
   "outputs": [],
   "execution_count": null,
   "source": "",
   "id": "fa7f3d7224c5d313"
  },
  {
   "metadata": {},
   "cell_type": "markdown",
   "source": [
    "\n",
    "> Le test qu'on effectue alors est un  **test du  χ2  par table de contingence**.  \n",
    "> Pour chaque case d'un tableau, il effectue un test du  χ2  (test de proportions) entre l'effectif de la case et l'effectif total de la colonne.  \n",
    "> La statistique de test est alors obtenue en faisant la somme de toutes ces statistiques.\n",
    ">\n",
    "> Pour ce test, on pose comme hypothèse nulle :\n",
    ">\n",
    "> H<sub>0  : \"les variables main_category et state sont indépendantes\"  \n",
    ">\n",
    "> Ce test peut s'effectuer tout simplement grâce à la fonction  **chi2_contingency**  de  **scipy**  appliquée à la table de contingence.  \n",
    "> Elle renvoie un array de 4 éléments : la statistique du test, la p-value, le degré de liberté et la liste des fréquences attendues. Pour rejeter l'hypothèse nulle, il est nécessaire que la  **p-value**  soit inférieure à 5%.\n",
    ">\n",
    "> Vous trouverez le test plus détaillé  [ici](https://fr.wikipedia.org/wiki/Test_du_%CF%87%C2%B2).\n",
    "\n",
    "-   **(b)**  Importer la fonction  **`chi2_contingency`**.\n",
    "\n",
    "-   **(c)**  Réaliser le test du  χ2  sur la table de contingence déterminée précédemment.\n",
    "\n",
    "-   **(d)**  Afficher la statistique du test, la p-value et le degré de liberté.\n",
    "\n",
    "-   **(e)**  Les variables sont-elles indépendantes ?"
   ],
   "id": "aed9c943c3c7c202"
  },
  {
   "metadata": {
    "ExecuteTime": {
     "end_time": "2025-03-29T03:59:43.252509Z",
     "start_time": "2025-03-29T03:59:43.247692Z"
    }
   },
   "cell_type": "code",
   "source": [
    "from scipy.stats import chi2_contingency\n",
    "chi2_contingency(table)"
   ],
   "id": "ab719f38e292bbca",
   "outputs": [
    {
     "data": {
      "text/plain": [
       "Chi2ContingencyResult(statistic=np.float64(893.4442516445133), pvalue=np.float64(1.0959666774863444e-181), dof=14, expected_freq=array([[ 964.2672,  651.7328],\n",
       "       [ 371.7441,  251.2559],\n",
       "       [ 297.1566,  200.8434],\n",
       "       [ 124.1136,   83.8864],\n",
       "       [ 892.6632,  603.3368],\n",
       "       [ 711.8631,  481.1369],\n",
       "       [2026.3932, 1369.6068],\n",
       "       [ 804.3516,  543.6484],\n",
       "       [1109.2653,  749.7347],\n",
       "       [ 145.5948,   98.4052],\n",
       "       [1509.651 , 1020.349 ],\n",
       "       [ 365.1804,  246.8196],\n",
       "       [1247.103 ,  842.897 ],\n",
       "       [1016.7768,  687.2232],\n",
       "       [ 347.8761,  235.1239]]))"
      ]
     },
     "execution_count": 79,
     "metadata": {},
     "output_type": "execute_result"
    }
   ],
   "execution_count": 79
  },
  {
   "metadata": {
    "ExecuteTime": {
     "end_time": "2025-03-29T04:01:21.100435Z",
     "start_time": "2025-03-29T04:01:21.095842Z"
    }
   },
   "cell_type": "code",
   "source": [
    "statistique, pvalue, dof, liste_freq = chi2_contingency(table)\n",
    "print('statistique =', statistique,',' ,'pvalue = ', pvalue,',' , 'dof =', dof,',' , 'liste_freq =', liste_freq)"
   ],
   "id": "6ddebb9de4a1837e",
   "outputs": [
    {
     "name": "stdout",
     "output_type": "stream",
     "text": [
      "statistique = 893.4442516445133 , pvalue =  1.0959666774863444e-181 , dof = 14 , liste_freq = [[ 964.2672  651.7328]\n",
      " [ 371.7441  251.2559]\n",
      " [ 297.1566  200.8434]\n",
      " [ 124.1136   83.8864]\n",
      " [ 892.6632  603.3368]\n",
      " [ 711.8631  481.1369]\n",
      " [2026.3932 1369.6068]\n",
      " [ 804.3516  543.6484]\n",
      " [1109.2653  749.7347]\n",
      " [ 145.5948   98.4052]\n",
      " [1509.651  1020.349 ]\n",
      " [ 365.1804  246.8196]\n",
      " [1247.103   842.897 ]\n",
      " [1016.7768  687.2232]\n",
      " [ 347.8761  235.1239]]\n"
     ]
    }
   ],
   "execution_count": 82
  },
  {
   "metadata": {},
   "cell_type": "code",
   "outputs": [],
   "execution_count": null,
   "source": "# la pvalue est pratiqement egale a 0 et la pvalue ets bien inf a 5 pourcent donc elles sont bien independantes",
   "id": "8b846ede03c5c830"
  },
  {
   "metadata": {
    "ExecuteTime": {
     "end_time": "2025-03-29T04:05:55.470787Z",
     "start_time": "2025-03-29T04:05:55.466388Z"
    }
   },
   "cell_type": "code",
   "source": [
    "# Autre methode\n",
    "from scipy.stats import chi2_contingency\n",
    "\n",
    "resultats_test = chi2_contingency(table)\n",
    "statistique = resultats_test[0]\n",
    "p_valeur = resultats_test[1]\n",
    "degre_liberte = resultats_test[2]\n",
    "\n",
    "print('statistique =', statistique,'p_valeur = ', p_valeur,'degre_liberte = ', degre_liberte)\n"
   ],
   "id": "5ac2d01ca24f4e97",
   "outputs": [
    {
     "name": "stdout",
     "output_type": "stream",
     "text": [
      "statistique = 893.4442516445133 p_valeur =  1.0959666774863444e-181 degre_liberte =  14\n"
     ]
    }
   ],
   "execution_count": 85
  },
  {
   "metadata": {},
   "cell_type": "markdown",
   "source": [
    "\n",
    "Comme pour les variables quantitatives, on peut mesurer le niveau de corrélation entre deux variables qualitatives. Pour cela, on utilise le V de Cramer corrigé pour contrer le biais qui utilise les résultats du test du χ2. Il renvoie une valeur entre 0 et 1.\n",
    "\n",
    "où :\n",
    "\n",
    "> -   χ2  est la statistique du test du  χ2.\n",
    ">\n",
    "> -   N est le nombre d'observations du jeu de données.\n",
    ">\n",
    "> -   k est le nombre de lignes du tableau de contingence.\n",
    ">\n",
    "> -   r est le nombre de colonnes du tableau de contingence.\n",
    "\n",
    "On peut récapituler le test du  χ2 sous forme de tableau :\n",
    "\n",
    "| Test         | p-value | Décision          | Quantifieur   |\n",
    "| ------------ | ------- | ----------------- | ------------- |\n",
    "| Test du khi2 | < 5%    | On rejette H0     |  V de Cramer  |\n",
    "\n",
    "-   **(f)**  Définir une fonction  **`V_Cramer`**  qui prend en argument un tableau de contingence, le nombre d'observations et renvoie la valeur du V de Cramer. Voir la définition du V de Cramer corrigé pour le biais [ici](https://en.wikipedia.org/wiki/Cram%C3%A9r%27s_V)\n",
    "\n",
    "-   **(g)**  Appliquer  **`V_cramer`**  à  **`table`**  avec le nombre d'observations égale à  `df.shape[0]`."
   ],
   "id": "13d8b49a62036932"
  },
  {
   "metadata": {
    "ExecuteTime": {
     "end_time": "2025-03-29T04:06:26.610110Z",
     "start_time": "2025-03-29T04:06:26.605514Z"
    }
   },
   "cell_type": "code",
   "source": [
    "# @title\n",
    "\n",
    "def V_Cramer(table, N):\n",
    "    stat_chi2 = chi2_contingency(table)[0]\n",
    "    k = table.shape[0]\n",
    "    r = table.shape[1]\n",
    "    phi = max(0,(stat_chi2/N)-((k-1)*(r-1)/(N-1)))\n",
    "    k_corr = k - (np.square(k-1)/(N-1))\n",
    "    r_corr = r - (np.square(r-1)/(N-1))\n",
    "    return np.sqrt(phi/min(k_corr - 1,r_corr - 1))\n",
    "\n",
    "print(V_Cramer(table, df.shape[0]))"
   ],
   "id": "9267f490dbf6784",
   "outputs": [
    {
     "name": "stdout",
     "output_type": "stream",
     "text": [
      "0.2097006829012187\n"
     ]
    }
   ],
   "execution_count": 87
  },
  {
   "metadata": {},
   "cell_type": "code",
   "outputs": [],
   "execution_count": null,
   "source": "",
   "id": "275abb021a4670bc"
  },
  {
   "metadata": {},
   "cell_type": "markdown",
   "source": [
    "**Le V_Cramer n'est pas très élevé.**\n",
    "\n",
    "On en déduit qu'il n'y a pas une forte corrélation entre les deux variables mais qu'elle n'est pas non plus négligeable."
   ],
   "id": "124e9956927005b5"
  },
  {
   "metadata": {},
   "cell_type": "code",
   "outputs": [],
   "execution_count": null,
   "source": "# meme si la valeur nest pas tres grande il ya quand meme une correlation entre la categorie principale de votre  et la proba de reusssite",
   "id": "64ef91fa7f7875da"
  },
  {
   "metadata": {},
   "cell_type": "code",
   "outputs": [],
   "execution_count": null,
   "source": "",
   "id": "d0b56bf6ed4424aa"
  },
  {
   "metadata": {},
   "cell_type": "markdown",
   "source": [
    "\n",
    "### 3. Variables Quantitatives et Qualitatives\n",
    "\n",
    "----------\n",
    "\n",
    "> Une dernière étape consiste à étudier les relations entre variables quantitatives et qualitatives.\n",
    ">\n",
    "> Dans ce but, on utilisera l'analyse de la variance (**ANOVA**) à un facteur qui permet de comparer les moyennes d'échantillon. L'objectif de ce test est de conclure sur l'influence d'une variable explicative catégorielle sur la loi d'une variable continue à expliquer.\n",
    ">\n",
    "> Considérons la variable catégorielle  **`main_category`**  et la variable numérique  **`pledge`**.  **`main_category`**  compte 15 modalités différentes. On définit les moyennes   μ₁, μ₂, ..., μ₁₅ qui correspondent à la moyenne des sommes collectées (**`pledged`**) pour chacune des 15 modalités. Le raisonnement simple que l'on fait avec ANOVA est que si la variable  **`main_category`**  n'a pas d'incidence sur  **`pledged`**, la moyenne devrait être identique pour les 15 modalités soient   μ₁ = μ₂ = ... = μ₁₅.\n",
    ">\n",
    "> On définit donc l'hypothèse nulle :\n",
    ">\n",
    "> H<sub>0</sub> : μ₁ = μ₂ = ... = μ₁₅\n",
    ">\n",
    "> Dans la pratique la méthode  **ANOVA**  s'intéresse à la variation interclasse, intraclasse et à la variation totale notées respectivement SCE, SCR et SCT.\n",
    ">\n",
    "> > Il est connu que cette statistique suit une loi de Fisher de paramètre (k-1, n-k). En s'appuyant sur la valeur de cette statistique et de la  **p-value**  associé, on peut conclure sur l'influence ou non de la variable  **`main_category`**  sur la variable  **`pledged`**.\n",
    ">\n",
    "> On rejette  H<sub>0</sub> si la p-value est inférieure à 5%. Rejeter  H<sub>0</sub>  signifie ici rejeter l'hypothèse selon laquelle  **`main_category`**  n'influe pas sur  **`pledged`**.\n",
    ">\n",
    "> On peut effectuer une analyse de la variance (**ANOVA**) à un facteur via le module  **`statsmodels`**  et visualiser la  **p-value**  et la statistique de Fisher dans un DataFrame.\n",
    ">\n",
    "+  **(a)**  Importer le module  **`statsmodels.api`**.\n",
    "\n",
    "-   **(b)**  Via l'utilisation d'ANOVA étudier la relation entre  **`pledged`**  et  **`main_category`**.\n",
    "\n",
    "-   **(c)**  Afficher les résultats, observer la p_value (PR>F) et conclure.\n",
    "\n",
    "\n",
    "*Exemple d'utilisation :  `result = statsmodels.formula.api.ols('var_num ~ var_cat', data = df).fit()  table = statsmodels.api.stats.anova_lm(result)`*"
   ],
   "id": "dbcbefadb125acca"
  },
  {
   "metadata": {
    "ExecuteTime": {
     "end_time": "2025-03-29T04:37:11.469553Z",
     "start_time": "2025-03-29T04:37:11.453647Z"
    }
   },
   "cell_type": "code",
   "source": [
    "'''Faire des recherches par rapport sur cela\n",
    ".....\n",
    "rechercher statstmodels et ANOVA\n",
    "'''\n",
    "import statsmodels.api\n",
    "\n",
    "result = statsmodels.formula.api.ols('pledged ~ main_category', data=df).fit()\n",
    "table = statsmodels.api.stats.anova_lm(result)\n",
    "\n",
    "table"
   ],
   "id": "e312e1ddb5391a74",
   "outputs": [
    {
     "ename": "ModuleNotFoundError",
     "evalue": "No module named 'statsmodels'",
     "output_type": "error",
     "traceback": [
      "\u001B[1;31m---------------------------------------------------------------------------\u001B[0m",
      "\u001B[1;31mModuleNotFoundError\u001B[0m                       Traceback (most recent call last)",
      "Cell \u001B[1;32mIn[92], line 1\u001B[0m\n\u001B[1;32m----> 1\u001B[0m \u001B[38;5;28;01mimport\u001B[39;00m\u001B[38;5;250m \u001B[39m\u001B[38;5;21;01mstatsmodels\u001B[39;00m\u001B[38;5;21;01m.\u001B[39;00m\u001B[38;5;21;01mapi\u001B[39;00m\n\u001B[0;32m      3\u001B[0m result \u001B[38;5;241m=\u001B[39m statsmodels\u001B[38;5;241m.\u001B[39mformula\u001B[38;5;241m.\u001B[39mapi\u001B[38;5;241m.\u001B[39mols(\u001B[38;5;124m'\u001B[39m\u001B[38;5;124mpledged ~ main_category\u001B[39m\u001B[38;5;124m'\u001B[39m, data\u001B[38;5;241m=\u001B[39mdf)\u001B[38;5;241m.\u001B[39mfit()\n\u001B[0;32m      4\u001B[0m table \u001B[38;5;241m=\u001B[39m statsmodels\u001B[38;5;241m.\u001B[39mapi\u001B[38;5;241m.\u001B[39mstats\u001B[38;5;241m.\u001B[39manova_lm(result)\n",
      "\u001B[1;31mModuleNotFoundError\u001B[0m: No module named 'statsmodels'"
     ]
    }
   ],
   "execution_count": 92
  },
  {
   "metadata": {},
   "cell_type": "markdown",
   "source": [
    "\n",
    "Récapitulons dans un tableau les différents outils :\n",
    "\n",
    "| Cas                        | Test/Méthode     | p-value | Décision           | Quantifieur         |\n",
    "| -------------------------- | ---------------- | ------- | ------------------ | ------------------- |\n",
    "| 2 variables continues      | Test de Pearson  | < 5%    | Pas indépendantes  | Coefficient de Pearson |\n",
    "| 2 variables catégorielles  | Test du khi2     | < 5%    | Pas indépendantes  | V de Cramer          |\n",
    "| variable catégorielle et continue | ANOVA    | < 5%    | Pas indépendantes  |                     |\n",
    "\n",
    "\n",
    "\n",
    "Afin de conclure lors d'une analyse d'un test ANOVA, nous préfèrerons dire que  **\"les modalités testées ont un effet statistique significatif sur la variable cible\"**  plutôt que \"pas indépendantes\"."
   ],
   "id": "52fc6c5e4f3c6364"
  },
  {
   "metadata": {},
   "cell_type": "code",
   "outputs": [],
   "execution_count": null,
   "source": "",
   "id": "2937d8e115dce23d"
  },
  {
   "metadata": {},
   "cell_type": "markdown",
   "source": [
    "# L'EDA en Low Code\n",
    "-----\n",
    "Tout ce qui va suivre n'est pas disponible sur la version 3.13 de python mais au MAX la version 3.12"
   ],
   "id": "73744e2ed153fb15"
  },
  {
   "metadata": {
    "ExecuteTime": {
     "end_time": "2025-03-29T04:47:21.583159Z",
     "start_time": "2025-03-29T04:47:19.149871Z"
    }
   },
   "cell_type": "code",
   "source": "!pip install ydata_profiling",
   "id": "1713cd00a8f9721f",
   "outputs": [
    {
     "name": "stdout",
     "output_type": "stream",
     "text": [
      "Defaulting to user installation because normal site-packages is not writeable\n"
     ]
    },
    {
     "name": "stderr",
     "output_type": "stream",
     "text": [
      "ERROR: Ignored the following versions that require a different python version: 4.0.0 Requires-Python >=3.7, <3.11; 4.1.0 Requires-Python >=3.7, <3.12; 4.1.1 Requires-Python >=3.7, <3.12; 4.1.2 Requires-Python >=3.7, <3.12; 4.10.0 Requires-Python <3.13,>=3.7; 4.11.0 Requires-Python <3.13,>=3.7; 4.12.0 Requires-Python <3.13,>=3.7; 4.12.1 Requires-Python <3.13,>=3.7; 4.12.2 Requires-Python <3.13,>=3.7; 4.13.0 Requires-Python <3.13,>=3.7; 4.14.0 Requires-Python <3.13,>=3.7; 4.15.0 Requires-Python <3.13,>=3.7; 4.15.1 Requires-Python <3.13,>=3.7; 4.16.0 Requires-Python <3.13,>=3.7; 4.16.1 Requires-Python <3.13,>=3.7; 4.2.0 Requires-Python >=3.7, <3.12; 4.3.0 Requires-Python >=3.7, <3.12; 4.3.1 Requires-Python >=3.7, <3.12; 4.3.2 Requires-Python >=3.7, <3.12; 4.4.0 Requires-Python >=3.7, <3.12; 4.5.0 Requires-Python >=3.7, <3.12; 4.5.1 Requires-Python >=3.7, <3.12; 4.6.0 Requires-Python >=3.7, <3.12; 4.6.1 Requires-Python >=3.7, <3.12; 4.6.2 Requires-Python >=3.7, <3.12; 4.6.3 Requires-Python >=3.7, <3.12; 4.6.4 Requires-Python >=3.7, <3.12; 4.6.5 Requires-Python >=3.7, <3.12; 4.7.0 Requires-Python >=3.7, <3.13; 4.8.3 Requires-Python <3.13,>=3.7; 4.9.0 Requires-Python <3.13,>=3.7\n",
      "ERROR: Could not find a version that satisfies the requirement ydata_profiling (from versions: none)\n",
      "\n",
      "[notice] A new release of pip is available: 24.3.1 -> 25.0.1\n",
      "[notice] To update, run: python.exe -m pip install --upgrade pip\n",
      "ERROR: No matching distribution found for ydata_profiling\n"
     ]
    }
   ],
   "execution_count": 101
  },
  {
   "metadata": {
    "ExecuteTime": {
     "end_time": "2025-03-29T04:44:03.026492Z",
     "start_time": "2025-03-29T04:44:03.014839Z"
    }
   },
   "cell_type": "code",
   "source": "!pip install --upgrade typing-extensions",
   "id": "1eae46c2c980f6ac",
   "outputs": [
    {
     "ename": "ModuleNotFoundError",
     "evalue": "No module named 'ydata_profiling'",
     "output_type": "error",
     "traceback": [
      "\u001B[1;31m---------------------------------------------------------------------------\u001B[0m",
      "\u001B[1;31mModuleNotFoundError\u001B[0m                       Traceback (most recent call last)",
      "Cell \u001B[1;32mIn[97], line 1\u001B[0m\n\u001B[1;32m----> 1\u001B[0m \u001B[38;5;28;01mfrom\u001B[39;00m\u001B[38;5;250m \u001B[39m\u001B[38;5;21;01mydata_profiling\u001B[39;00m\u001B[38;5;250m \u001B[39m\u001B[38;5;28;01mimport\u001B[39;00m ProfileReport\n",
      "\u001B[1;31mModuleNotFoundError\u001B[0m: No module named 'ydata_profiling'"
     ]
    }
   ],
   "execution_count": 97
  },
  {
   "metadata": {
    "ExecuteTime": {
     "end_time": "2025-03-29T04:48:19.536866Z",
     "start_time": "2025-03-29T04:48:19.533363Z"
    }
   },
   "cell_type": "code",
   "source": "from ydata_profiling import ProfileReport\n",
   "id": "e4f8fb9ecd55e3d1",
   "outputs": [
    {
     "name": "stdout",
     "output_type": "stream",
     "text": [
      "3.13.2 (tags/v3.13.2:4f8bb39, Feb  4 2025, 15:23:48) [MSC v.1942 64 bit (AMD64)]\n"
     ]
    }
   ],
   "execution_count": 102
  },
  {
   "metadata": {
    "ExecuteTime": {
     "end_time": "2025-03-29T05:10:26.908950Z",
     "start_time": "2025-03-29T05:10:26.889694Z"
    }
   },
   "cell_type": "code",
   "source": "profile = ProfileReport(df, title=\"Report Kickstarter\")",
   "id": "20889c44c5d2c7a6",
   "outputs": [
    {
     "ename": "NameError",
     "evalue": "name 'ProfileReport' is not defined",
     "output_type": "error",
     "traceback": [
      "\u001B[1;31m---------------------------------------------------------------------------\u001B[0m",
      "\u001B[1;31mNameError\u001B[0m                                 Traceback (most recent call last)",
      "Cell \u001B[1;32mIn[108], line 1\u001B[0m\n\u001B[1;32m----> 1\u001B[0m profile \u001B[38;5;241m=\u001B[39m \u001B[43mProfileReport\u001B[49m(df, title\u001B[38;5;241m=\u001B[39m\u001B[38;5;124m\"\u001B[39m\u001B[38;5;124mReport Kickstarter\u001B[39m\u001B[38;5;124m\"\u001B[39m)\n",
      "\u001B[1;31mNameError\u001B[0m: name 'ProfileReport' is not defined"
     ]
    }
   ],
   "execution_count": 108
  },
  {
   "metadata": {
    "ExecuteTime": {
     "end_time": "2025-03-29T05:10:50.229154Z",
     "start_time": "2025-03-29T05:10:50.205441Z"
    }
   },
   "cell_type": "code",
   "source": "profile.to_widgets()",
   "id": "66ff574304e2b6e2",
   "outputs": [
    {
     "ename": "NameError",
     "evalue": "name 'profile' is not defined",
     "output_type": "error",
     "traceback": [
      "\u001B[1;31m---------------------------------------------------------------------------\u001B[0m",
      "\u001B[1;31mNameError\u001B[0m                                 Traceback (most recent call last)",
      "Cell \u001B[1;32mIn[109], line 1\u001B[0m\n\u001B[1;32m----> 1\u001B[0m \u001B[43mprofile\u001B[49m\u001B[38;5;241m.\u001B[39mto_widgets()\n",
      "\u001B[1;31mNameError\u001B[0m: name 'profile' is not defined"
     ]
    }
   ],
   "execution_count": 109
  },
  {
   "metadata": {},
   "cell_type": "code",
   "outputs": [],
   "execution_count": null,
   "source": "profile.to_notebook_iframe()",
   "id": "fe5546cc45250682"
  },
  {
   "metadata": {
    "ExecuteTime": {
     "end_time": "2025-03-29T05:15:25.408951Z",
     "start_time": "2025-03-29T05:15:25.379933Z"
    }
   },
   "cell_type": "code",
   "source": "profile.to_file(\"Report Kickstarter.html\")",
   "id": "bdbbd352c319742e",
   "outputs": [
    {
     "ename": "NameError",
     "evalue": "name 'profile' is not defined",
     "output_type": "error",
     "traceback": [
      "\u001B[1;31m---------------------------------------------------------------------------\u001B[0m",
      "\u001B[1;31mNameError\u001B[0m                                 Traceback (most recent call last)",
      "Cell \u001B[1;32mIn[110], line 1\u001B[0m\n\u001B[1;32m----> 1\u001B[0m \u001B[43mprofile\u001B[49m\u001B[38;5;241m.\u001B[39mto_file(\u001B[38;5;124m\"\u001B[39m\u001B[38;5;124mReport Kickstarter.html\u001B[39m\u001B[38;5;124m\"\u001B[39m)\n",
      "\u001B[1;31mNameError\u001B[0m: name 'profile' is not defined"
     ]
    }
   ],
   "execution_count": 110
  },
  {
   "metadata": {
    "ExecuteTime": {
     "end_time": "2025-03-29T05:15:28.004380Z",
     "start_time": "2025-03-29T05:15:27.979170Z"
    }
   },
   "cell_type": "code",
   "source": [
    "from google.colab import files\n",
    "\n",
    "# Télécharger le fichier HTML localement\n",
    "files.download(\"Report Kickstarter.html\")"
   ],
   "id": "160af328d816e766",
   "outputs": [
    {
     "ename": "ModuleNotFoundError",
     "evalue": "No module named 'google'",
     "output_type": "error",
     "traceback": [
      "\u001B[1;31m---------------------------------------------------------------------------\u001B[0m",
      "\u001B[1;31mModuleNotFoundError\u001B[0m                       Traceback (most recent call last)",
      "Cell \u001B[1;32mIn[111], line 1\u001B[0m\n\u001B[1;32m----> 1\u001B[0m \u001B[38;5;28;01mfrom\u001B[39;00m\u001B[38;5;250m \u001B[39m\u001B[38;5;21;01mgoogle\u001B[39;00m\u001B[38;5;21;01m.\u001B[39;00m\u001B[38;5;21;01mcolab\u001B[39;00m\u001B[38;5;250m \u001B[39m\u001B[38;5;28;01mimport\u001B[39;00m files\n\u001B[0;32m      3\u001B[0m \u001B[38;5;66;03m# Télécharger le fichier HTML localement\u001B[39;00m\n\u001B[0;32m      4\u001B[0m files\u001B[38;5;241m.\u001B[39mdownload(\u001B[38;5;124m\"\u001B[39m\u001B[38;5;124mReport Kickstarter.html\u001B[39m\u001B[38;5;124m\"\u001B[39m)\n",
      "\u001B[1;31mModuleNotFoundError\u001B[0m: No module named 'google'"
     ]
    }
   ],
   "execution_count": 111
  }
 ],
 "metadata": {
  "kernelspec": {
   "display_name": "Python 3",
   "language": "python",
   "name": "python3"
  },
  "language_info": {
   "codemirror_mode": {
    "name": "ipython",
    "version": 2
   },
   "file_extension": ".py",
   "mimetype": "text/x-python",
   "name": "python",
   "nbconvert_exporter": "python",
   "pygments_lexer": "ipython2",
   "version": "2.7.6"
  }
 },
 "nbformat": 4,
 "nbformat_minor": 5
}
