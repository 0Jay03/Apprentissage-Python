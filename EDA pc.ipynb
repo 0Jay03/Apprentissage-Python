{
 "cells": [
  {
   "metadata": {},
   "cell_type": "markdown",
   "source": "# INTRODUCTION",
   "id": "f5b762503e1b5499"
  },
  {
   "metadata": {
    "ExecuteTime": {
     "end_time": "2025-03-25T11:44:10.442899Z",
     "start_time": "2025-03-25T11:43:51.282319Z"
    }
   },
   "cell_type": "code",
   "source": [
    "import pandas as pd\n",
    "import numpy as np\n",
    "\n",
    "link = 'https://raw.githubusercontent.com/QuantikDataStudio/dataset/main/kickstarter.csv'\n",
    "\n",
    "data = pd.read_csv(link, on_bad_lines='skip', index_col = 0)\n",
    "data.head()"
   ],
   "id": "5f7097fc050b3f7c",
   "outputs": [
    {
     "data": {
      "text/plain": [
       "                                                         name        category  \\\n",
       "ID                                                                              \n",
       "1000002330                    The Songs of Adelaide & Abullah          Poetry   \n",
       "1000003930      Greeting From Earth: ZGAC Arts Capsule For ET  Narrative Film   \n",
       "1000004038                                     Where is Hank?  Narrative Film   \n",
       "1000007540  ToshiCapital Rekordz Needs Help to Complete Album           Music   \n",
       "1000011046  Community Film Project: The Art of Neighborhoo...    Film & Video   \n",
       "\n",
       "           main_category currency    deadline      goal             launched  \\\n",
       "ID                                                                             \n",
       "1000002330    Publishing      GBP  2015-10-09   1000.00  2015-08-11 12:12:28   \n",
       "1000003930  Film & Video      USD  2017-11-01  30000.00  2017-09-02 04:43:57   \n",
       "1000004038  Film & Video      USD  2013-02-26  45000.00  2013-01-12 00:20:50   \n",
       "1000007540         Music      USD  2012-04-16   5000.00  2012-03-17 03:24:11   \n",
       "1000011046  Film & Video      USD  2015-08-29  19500.00  2015-07-04 08:35:03   \n",
       "\n",
       "            pledged     state backers country  usd pledged usd_pledged_real  \\\n",
       "ID                                                                            \n",
       "1000002330     0.00    failed       0      GB          0.0             0.00   \n",
       "1000003930  2421.00    failed      15      US        100.0          2421.00   \n",
       "1000004038   220.00    failed       3      US        220.0           220.00   \n",
       "1000007540     1.00    failed       1      US          1.0             1.00   \n",
       "1000011046  1283.00  canceled      14      US       1283.0          1283.00   \n",
       "\n",
       "           usd_goal_real;;  \n",
       "ID                          \n",
       "1000002330       1533.95;;  \n",
       "1000003930      30000.00;;  \n",
       "1000004038      45000.00;;  \n",
       "1000007540       5000.00;;  \n",
       "1000011046      19500.00;;  "
      ],
      "text/html": [
       "<div>\n",
       "<style scoped>\n",
       "    .dataframe tbody tr th:only-of-type {\n",
       "        vertical-align: middle;\n",
       "    }\n",
       "\n",
       "    .dataframe tbody tr th {\n",
       "        vertical-align: top;\n",
       "    }\n",
       "\n",
       "    .dataframe thead th {\n",
       "        text-align: right;\n",
       "    }\n",
       "</style>\n",
       "<table border=\"1\" class=\"dataframe\">\n",
       "  <thead>\n",
       "    <tr style=\"text-align: right;\">\n",
       "      <th></th>\n",
       "      <th>name</th>\n",
       "      <th>category</th>\n",
       "      <th>main_category</th>\n",
       "      <th>currency</th>\n",
       "      <th>deadline</th>\n",
       "      <th>goal</th>\n",
       "      <th>launched</th>\n",
       "      <th>pledged</th>\n",
       "      <th>state</th>\n",
       "      <th>backers</th>\n",
       "      <th>country</th>\n",
       "      <th>usd pledged</th>\n",
       "      <th>usd_pledged_real</th>\n",
       "      <th>usd_goal_real;;</th>\n",
       "    </tr>\n",
       "    <tr>\n",
       "      <th>ID</th>\n",
       "      <th></th>\n",
       "      <th></th>\n",
       "      <th></th>\n",
       "      <th></th>\n",
       "      <th></th>\n",
       "      <th></th>\n",
       "      <th></th>\n",
       "      <th></th>\n",
       "      <th></th>\n",
       "      <th></th>\n",
       "      <th></th>\n",
       "      <th></th>\n",
       "      <th></th>\n",
       "      <th></th>\n",
       "    </tr>\n",
       "  </thead>\n",
       "  <tbody>\n",
       "    <tr>\n",
       "      <th>1000002330</th>\n",
       "      <td>The Songs of Adelaide &amp; Abullah</td>\n",
       "      <td>Poetry</td>\n",
       "      <td>Publishing</td>\n",
       "      <td>GBP</td>\n",
       "      <td>2015-10-09</td>\n",
       "      <td>1000.00</td>\n",
       "      <td>2015-08-11 12:12:28</td>\n",
       "      <td>0.00</td>\n",
       "      <td>failed</td>\n",
       "      <td>0</td>\n",
       "      <td>GB</td>\n",
       "      <td>0.0</td>\n",
       "      <td>0.00</td>\n",
       "      <td>1533.95;;</td>\n",
       "    </tr>\n",
       "    <tr>\n",
       "      <th>1000003930</th>\n",
       "      <td>Greeting From Earth: ZGAC Arts Capsule For ET</td>\n",
       "      <td>Narrative Film</td>\n",
       "      <td>Film &amp; Video</td>\n",
       "      <td>USD</td>\n",
       "      <td>2017-11-01</td>\n",
       "      <td>30000.00</td>\n",
       "      <td>2017-09-02 04:43:57</td>\n",
       "      <td>2421.00</td>\n",
       "      <td>failed</td>\n",
       "      <td>15</td>\n",
       "      <td>US</td>\n",
       "      <td>100.0</td>\n",
       "      <td>2421.00</td>\n",
       "      <td>30000.00;;</td>\n",
       "    </tr>\n",
       "    <tr>\n",
       "      <th>1000004038</th>\n",
       "      <td>Where is Hank?</td>\n",
       "      <td>Narrative Film</td>\n",
       "      <td>Film &amp; Video</td>\n",
       "      <td>USD</td>\n",
       "      <td>2013-02-26</td>\n",
       "      <td>45000.00</td>\n",
       "      <td>2013-01-12 00:20:50</td>\n",
       "      <td>220.00</td>\n",
       "      <td>failed</td>\n",
       "      <td>3</td>\n",
       "      <td>US</td>\n",
       "      <td>220.0</td>\n",
       "      <td>220.00</td>\n",
       "      <td>45000.00;;</td>\n",
       "    </tr>\n",
       "    <tr>\n",
       "      <th>1000007540</th>\n",
       "      <td>ToshiCapital Rekordz Needs Help to Complete Album</td>\n",
       "      <td>Music</td>\n",
       "      <td>Music</td>\n",
       "      <td>USD</td>\n",
       "      <td>2012-04-16</td>\n",
       "      <td>5000.00</td>\n",
       "      <td>2012-03-17 03:24:11</td>\n",
       "      <td>1.00</td>\n",
       "      <td>failed</td>\n",
       "      <td>1</td>\n",
       "      <td>US</td>\n",
       "      <td>1.0</td>\n",
       "      <td>1.00</td>\n",
       "      <td>5000.00;;</td>\n",
       "    </tr>\n",
       "    <tr>\n",
       "      <th>1000011046</th>\n",
       "      <td>Community Film Project: The Art of Neighborhoo...</td>\n",
       "      <td>Film &amp; Video</td>\n",
       "      <td>Film &amp; Video</td>\n",
       "      <td>USD</td>\n",
       "      <td>2015-08-29</td>\n",
       "      <td>19500.00</td>\n",
       "      <td>2015-07-04 08:35:03</td>\n",
       "      <td>1283.00</td>\n",
       "      <td>canceled</td>\n",
       "      <td>14</td>\n",
       "      <td>US</td>\n",
       "      <td>1283.0</td>\n",
       "      <td>1283.00</td>\n",
       "      <td>19500.00;;</td>\n",
       "    </tr>\n",
       "  </tbody>\n",
       "</table>\n",
       "</div>"
      ]
     },
     "execution_count": 24,
     "metadata": {},
     "output_type": "execute_result"
    }
   ],
   "execution_count": 24
  },
  {
   "metadata": {
    "ExecuteTime": {
     "end_time": "2025-03-25T11:44:13.250489Z",
     "start_time": "2025-03-25T11:44:13.226822Z"
    }
   },
   "cell_type": "code",
   "source": [
    "columns_to_drop = ['usd pledged', 'usd_pledged_real', 'usd_goal_real;;'] # Nous permet de supprimer les trois 03 dernieres colonnes qui ne nous servent a rien \n",
    "data = data.drop(columns=columns_to_drop)"
   ],
   "id": "77a9c7dd437e5021",
   "outputs": [],
   "execution_count": 25
  },
  {
   "metadata": {
    "ExecuteTime": {
     "end_time": "2025-03-25T11:44:14.980493Z",
     "start_time": "2025-03-25T11:44:14.787620Z"
    }
   },
   "cell_type": "code",
   "source": "data = data.dropna()  # Enleve les ligne qui contiennent au moins une valeur manquante",
   "id": "c512660e6b6e3584",
   "outputs": [],
   "execution_count": 26
  },
  {
   "metadata": {
    "ExecuteTime": {
     "end_time": "2025-03-25T11:44:16.362128Z",
     "start_time": "2025-03-25T11:44:16.350175Z"
    }
   },
   "cell_type": "code",
   "source": "print(data['goal']) # Le type ici est un Object ce qui n'est pas bon car on veut des Float. pour se faire en mettant data['goal'].astype(float) on a une erreur car contient des element de la forme '2014-05-01 17:36:59' . On cherche alors par la suite a supprimer ces elements qui contiennent des \"tirets < - > \"",
   "id": "2d0ec78427838948",
   "outputs": [
    {
     "name": "stdout",
     "output_type": "stream",
     "text": [
      "ID\n",
      "1000002330      1000.00\n",
      "1000003930     30000.00\n",
      "1000004038     45000.00\n",
      "1000007540      5000.00\n",
      "1000011046     19500.00\n",
      "                ...    \n",
      "1448687698      1800.00\n",
      "1448688798       600.00\n",
      "1448696449      5000.00\n",
      "1448702836     15000.00\n",
      "1448719328    195000.00\n",
      "Name: goal, Length: 77589, dtype: object\n"
     ]
    }
   ],
   "execution_count": 27
  },
  {
   "metadata": {
    "ExecuteTime": {
     "end_time": "2025-03-25T11:44:19.240243Z",
     "start_time": "2025-03-25T11:44:19.027327Z"
    }
   },
   "cell_type": "code",
   "source": [
    "data = data[~data['goal'].str.contains('-')].copy()    # Cette syntaxe est utilisée pour supp les lignes ave c des tirets on assigne ensuite a data['goal'] puis on connvertit en float. ON    ajoute apes notre code .copy() pour eviter les erreurs et ne pas ecraser la valeur de data['goal'] initiale\n",
    "data['goal'] = data['goal'].astype(float)"
   ],
   "id": "287fb8ea460d07b8",
   "outputs": [],
   "execution_count": 28
  },
  {
   "metadata": {
    "ExecuteTime": {
     "end_time": "2025-03-25T11:46:06.410184Z",
     "start_time": "2025-03-25T11:46:06.353283Z"
    }
   },
   "cell_type": "code",
   "source": [
    "# On fait la meme chose avec les deux autres colonnes 'pledged' et 'backers' devant chacun etre respectivement des decimaux et des entiers N\n",
    "\n",
    "data['pledged'] = data['pledged'].astype(float) # Argent promis qui peut avoir des centimes 19,99 euros et backers qui decompte le nombre de personne \n",
    "data['backers'] = data['backers'].astype(int)"
   ],
   "id": "aad0dae367c006b4",
   "outputs": [],
   "execution_count": 29
  },
  {
   "metadata": {
    "ExecuteTime": {
     "end_time": "2025-03-25T11:48:31.723676Z",
     "start_time": "2025-03-25T11:48:30.781356Z"
    }
   },
   "cell_type": "code",
   "source": [
    "masque = data['goal'] < 600000  # On cree un dataset plus petit avc des chiffres gerables \n",
    "data = data.loc[masque].copy()"
   ],
   "id": "f06c308673031942",
   "outputs": [],
   "execution_count": 30
  },
  {
   "metadata": {
    "ExecuteTime": {
     "end_time": "2025-03-25T11:53:31.163935Z",
     "start_time": "2025-03-25T11:53:31.147078Z"
    }
   },
   "cell_type": "code",
   "source": [
    "# Pour connaitre les valeurs de \"state\"\n",
    "  \n",
    "'''Failed pour les projets qui n'ont pas atteint le quota d'argent requis\n",
    "canceled pour les projets annulés\n",
    "successful pour les projets qui ont atteints le montant requis\n",
    "live pour les projets en cours \n",
    "suspended pour les projets suspendu\n",
    "'''\n",
    "\n",
    "data.state.unique()"
   ],
   "id": "62624558dd0d067c",
   "outputs": [
    {
     "data": {
      "text/plain": [
       "array(['failed', 'canceled', 'successful', 'live', 'suspended'],\n",
       "      dtype=object)"
      ]
     },
     "execution_count": 33,
     "metadata": {},
     "output_type": "execute_result"
    }
   ],
   "execution_count": 33
  },
  {
   "cell_type": "code",
   "id": "initial_id",
   "metadata": {
    "collapsed": true,
    "ExecuteTime": {
     "end_time": "2025-03-25T12:00:36.508976Z",
     "start_time": "2025-03-25T12:00:36.324539Z"
    }
   },
   "source": [
    "# On ne s'interesse qu'aux projets succesful et failed\n",
    "\n",
    "masque = (data['state'] == 'failed') | (data['state'] == 'successful')  # Ici on veu soit les projets qui ont soit echou\", soit reussi\n",
    "data = data.loc[masque].copy()\n",
    "data = data.head(20000) # Lorsqu'on a de milliers de lignes on peut prendre un nombre de ligne au hasard parce que dans ce cas les 20000 premieres lignes peuvent avoir la meme syntaxe et par exple a partir de 40000 la syntaxe change on emploit donc la methode 'SAMPLE'\n"
   ],
   "outputs": [],
   "execution_count": 35
  },
  {
   "metadata": {
    "ExecuteTime": {
     "end_time": "2025-03-25T12:00:40.795861Z",
     "start_time": "2025-03-25T12:00:40.163856Z"
    }
   },
   "cell_type": "code",
   "source": "data.info();\n",
   "id": "b8d78d0ffd1ee38c",
   "outputs": [
    {
     "name": "stdout",
     "output_type": "stream",
     "text": [
      "<class 'pandas.core.frame.DataFrame'>\n",
      "Index: 20000 entries, 1000002330 to 113204057\n",
      "Data columns (total 11 columns):\n",
      " #   Column         Non-Null Count  Dtype  \n",
      "---  ------         --------------  -----  \n",
      " 0   name           20000 non-null  object \n",
      " 1   category       20000 non-null  object \n",
      " 2   main_category  20000 non-null  object \n",
      " 3   currency       20000 non-null  object \n",
      " 4   deadline       20000 non-null  object \n",
      " 5   goal           20000 non-null  float64\n",
      " 6   launched       20000 non-null  object \n",
      " 7   pledged        20000 non-null  float64\n",
      " 8   state          20000 non-null  object \n",
      " 9   backers        20000 non-null  int64  \n",
      " 10  country        20000 non-null  object \n",
      "dtypes: float64(2), int64(1), object(8)\n",
      "memory usage: 1.8+ MB\n"
     ]
    },
    {
     "data": {
      "text/plain": [
       "                                                         name        category  \\\n",
       "ID                                                                              \n",
       "1000002330                    The Songs of Adelaide & Abullah          Poetry   \n",
       "1000003930      Greeting From Earth: ZGAC Arts Capsule For ET  Narrative Film   \n",
       "1000004038                                     Where is Hank?  Narrative Film   \n",
       "1000007540  ToshiCapital Rekordz Needs Help to Complete Album           Music   \n",
       "1000014025                               Monarch Espresso Bar     Restaurants   \n",
       "\n",
       "           main_category currency    deadline     goal             launched  \\\n",
       "ID                                                                            \n",
       "1000002330    Publishing      GBP  2015-10-09   1000.0  2015-08-11 12:12:28   \n",
       "1000003930  Film & Video      USD  2017-11-01  30000.0  2017-09-02 04:43:57   \n",
       "1000004038  Film & Video      USD  2013-02-26  45000.0  2013-01-12 00:20:50   \n",
       "1000007540         Music      USD  2012-04-16   5000.0  2012-03-17 03:24:11   \n",
       "1000014025          Food      USD  2016-04-01  50000.0  2016-02-26 13:38:27   \n",
       "\n",
       "            pledged       state  backers country  \n",
       "ID                                                \n",
       "1000002330      0.0      failed        0      GB  \n",
       "1000003930   2421.0      failed       15      US  \n",
       "1000004038    220.0      failed        3      US  \n",
       "1000007540      1.0      failed        1      US  \n",
       "1000014025  52375.0  successful      224      US  "
      ],
      "text/html": [
       "<div>\n",
       "<style scoped>\n",
       "    .dataframe tbody tr th:only-of-type {\n",
       "        vertical-align: middle;\n",
       "    }\n",
       "\n",
       "    .dataframe tbody tr th {\n",
       "        vertical-align: top;\n",
       "    }\n",
       "\n",
       "    .dataframe thead th {\n",
       "        text-align: right;\n",
       "    }\n",
       "</style>\n",
       "<table border=\"1\" class=\"dataframe\">\n",
       "  <thead>\n",
       "    <tr style=\"text-align: right;\">\n",
       "      <th></th>\n",
       "      <th>name</th>\n",
       "      <th>category</th>\n",
       "      <th>main_category</th>\n",
       "      <th>currency</th>\n",
       "      <th>deadline</th>\n",
       "      <th>goal</th>\n",
       "      <th>launched</th>\n",
       "      <th>pledged</th>\n",
       "      <th>state</th>\n",
       "      <th>backers</th>\n",
       "      <th>country</th>\n",
       "    </tr>\n",
       "    <tr>\n",
       "      <th>ID</th>\n",
       "      <th></th>\n",
       "      <th></th>\n",
       "      <th></th>\n",
       "      <th></th>\n",
       "      <th></th>\n",
       "      <th></th>\n",
       "      <th></th>\n",
       "      <th></th>\n",
       "      <th></th>\n",
       "      <th></th>\n",
       "      <th></th>\n",
       "    </tr>\n",
       "  </thead>\n",
       "  <tbody>\n",
       "    <tr>\n",
       "      <th>1000002330</th>\n",
       "      <td>The Songs of Adelaide &amp; Abullah</td>\n",
       "      <td>Poetry</td>\n",
       "      <td>Publishing</td>\n",
       "      <td>GBP</td>\n",
       "      <td>2015-10-09</td>\n",
       "      <td>1000.0</td>\n",
       "      <td>2015-08-11 12:12:28</td>\n",
       "      <td>0.0</td>\n",
       "      <td>failed</td>\n",
       "      <td>0</td>\n",
       "      <td>GB</td>\n",
       "    </tr>\n",
       "    <tr>\n",
       "      <th>1000003930</th>\n",
       "      <td>Greeting From Earth: ZGAC Arts Capsule For ET</td>\n",
       "      <td>Narrative Film</td>\n",
       "      <td>Film &amp; Video</td>\n",
       "      <td>USD</td>\n",
       "      <td>2017-11-01</td>\n",
       "      <td>30000.0</td>\n",
       "      <td>2017-09-02 04:43:57</td>\n",
       "      <td>2421.0</td>\n",
       "      <td>failed</td>\n",
       "      <td>15</td>\n",
       "      <td>US</td>\n",
       "    </tr>\n",
       "    <tr>\n",
       "      <th>1000004038</th>\n",
       "      <td>Where is Hank?</td>\n",
       "      <td>Narrative Film</td>\n",
       "      <td>Film &amp; Video</td>\n",
       "      <td>USD</td>\n",
       "      <td>2013-02-26</td>\n",
       "      <td>45000.0</td>\n",
       "      <td>2013-01-12 00:20:50</td>\n",
       "      <td>220.0</td>\n",
       "      <td>failed</td>\n",
       "      <td>3</td>\n",
       "      <td>US</td>\n",
       "    </tr>\n",
       "    <tr>\n",
       "      <th>1000007540</th>\n",
       "      <td>ToshiCapital Rekordz Needs Help to Complete Album</td>\n",
       "      <td>Music</td>\n",
       "      <td>Music</td>\n",
       "      <td>USD</td>\n",
       "      <td>2012-04-16</td>\n",
       "      <td>5000.0</td>\n",
       "      <td>2012-03-17 03:24:11</td>\n",
       "      <td>1.0</td>\n",
       "      <td>failed</td>\n",
       "      <td>1</td>\n",
       "      <td>US</td>\n",
       "    </tr>\n",
       "    <tr>\n",
       "      <th>1000014025</th>\n",
       "      <td>Monarch Espresso Bar</td>\n",
       "      <td>Restaurants</td>\n",
       "      <td>Food</td>\n",
       "      <td>USD</td>\n",
       "      <td>2016-04-01</td>\n",
       "      <td>50000.0</td>\n",
       "      <td>2016-02-26 13:38:27</td>\n",
       "      <td>52375.0</td>\n",
       "      <td>successful</td>\n",
       "      <td>224</td>\n",
       "      <td>US</td>\n",
       "    </tr>\n",
       "  </tbody>\n",
       "</table>\n",
       "</div>"
      ]
     },
     "execution_count": 36,
     "metadata": {},
     "output_type": "execute_result"
    }
   ],
   "execution_count": 36
  },
  {
   "metadata": {
    "ExecuteTime": {
     "end_time": "2025-03-25T12:01:35.968148Z",
     "start_time": "2025-03-25T12:01:35.939816Z"
    }
   },
   "cell_type": "code",
   "source": "data.head()         # Rendu final",
   "id": "938651a2331ed97c",
   "outputs": [
    {
     "data": {
      "text/plain": [
       "                                                         name        category  \\\n",
       "ID                                                                              \n",
       "1000002330                    The Songs of Adelaide & Abullah          Poetry   \n",
       "1000003930      Greeting From Earth: ZGAC Arts Capsule For ET  Narrative Film   \n",
       "1000004038                                     Where is Hank?  Narrative Film   \n",
       "1000007540  ToshiCapital Rekordz Needs Help to Complete Album           Music   \n",
       "1000014025                               Monarch Espresso Bar     Restaurants   \n",
       "\n",
       "           main_category currency    deadline     goal             launched  \\\n",
       "ID                                                                            \n",
       "1000002330    Publishing      GBP  2015-10-09   1000.0  2015-08-11 12:12:28   \n",
       "1000003930  Film & Video      USD  2017-11-01  30000.0  2017-09-02 04:43:57   \n",
       "1000004038  Film & Video      USD  2013-02-26  45000.0  2013-01-12 00:20:50   \n",
       "1000007540         Music      USD  2012-04-16   5000.0  2012-03-17 03:24:11   \n",
       "1000014025          Food      USD  2016-04-01  50000.0  2016-02-26 13:38:27   \n",
       "\n",
       "            pledged       state  backers country  \n",
       "ID                                                \n",
       "1000002330      0.0      failed        0      GB  \n",
       "1000003930   2421.0      failed       15      US  \n",
       "1000004038    220.0      failed        3      US  \n",
       "1000007540      1.0      failed        1      US  \n",
       "1000014025  52375.0  successful      224      US  "
      ],
      "text/html": [
       "<div>\n",
       "<style scoped>\n",
       "    .dataframe tbody tr th:only-of-type {\n",
       "        vertical-align: middle;\n",
       "    }\n",
       "\n",
       "    .dataframe tbody tr th {\n",
       "        vertical-align: top;\n",
       "    }\n",
       "\n",
       "    .dataframe thead th {\n",
       "        text-align: right;\n",
       "    }\n",
       "</style>\n",
       "<table border=\"1\" class=\"dataframe\">\n",
       "  <thead>\n",
       "    <tr style=\"text-align: right;\">\n",
       "      <th></th>\n",
       "      <th>name</th>\n",
       "      <th>category</th>\n",
       "      <th>main_category</th>\n",
       "      <th>currency</th>\n",
       "      <th>deadline</th>\n",
       "      <th>goal</th>\n",
       "      <th>launched</th>\n",
       "      <th>pledged</th>\n",
       "      <th>state</th>\n",
       "      <th>backers</th>\n",
       "      <th>country</th>\n",
       "    </tr>\n",
       "    <tr>\n",
       "      <th>ID</th>\n",
       "      <th></th>\n",
       "      <th></th>\n",
       "      <th></th>\n",
       "      <th></th>\n",
       "      <th></th>\n",
       "      <th></th>\n",
       "      <th></th>\n",
       "      <th></th>\n",
       "      <th></th>\n",
       "      <th></th>\n",
       "      <th></th>\n",
       "    </tr>\n",
       "  </thead>\n",
       "  <tbody>\n",
       "    <tr>\n",
       "      <th>1000002330</th>\n",
       "      <td>The Songs of Adelaide &amp; Abullah</td>\n",
       "      <td>Poetry</td>\n",
       "      <td>Publishing</td>\n",
       "      <td>GBP</td>\n",
       "      <td>2015-10-09</td>\n",
       "      <td>1000.0</td>\n",
       "      <td>2015-08-11 12:12:28</td>\n",
       "      <td>0.0</td>\n",
       "      <td>failed</td>\n",
       "      <td>0</td>\n",
       "      <td>GB</td>\n",
       "    </tr>\n",
       "    <tr>\n",
       "      <th>1000003930</th>\n",
       "      <td>Greeting From Earth: ZGAC Arts Capsule For ET</td>\n",
       "      <td>Narrative Film</td>\n",
       "      <td>Film &amp; Video</td>\n",
       "      <td>USD</td>\n",
       "      <td>2017-11-01</td>\n",
       "      <td>30000.0</td>\n",
       "      <td>2017-09-02 04:43:57</td>\n",
       "      <td>2421.0</td>\n",
       "      <td>failed</td>\n",
       "      <td>15</td>\n",
       "      <td>US</td>\n",
       "    </tr>\n",
       "    <tr>\n",
       "      <th>1000004038</th>\n",
       "      <td>Where is Hank?</td>\n",
       "      <td>Narrative Film</td>\n",
       "      <td>Film &amp; Video</td>\n",
       "      <td>USD</td>\n",
       "      <td>2013-02-26</td>\n",
       "      <td>45000.0</td>\n",
       "      <td>2013-01-12 00:20:50</td>\n",
       "      <td>220.0</td>\n",
       "      <td>failed</td>\n",
       "      <td>3</td>\n",
       "      <td>US</td>\n",
       "    </tr>\n",
       "    <tr>\n",
       "      <th>1000007540</th>\n",
       "      <td>ToshiCapital Rekordz Needs Help to Complete Album</td>\n",
       "      <td>Music</td>\n",
       "      <td>Music</td>\n",
       "      <td>USD</td>\n",
       "      <td>2012-04-16</td>\n",
       "      <td>5000.0</td>\n",
       "      <td>2012-03-17 03:24:11</td>\n",
       "      <td>1.0</td>\n",
       "      <td>failed</td>\n",
       "      <td>1</td>\n",
       "      <td>US</td>\n",
       "    </tr>\n",
       "    <tr>\n",
       "      <th>1000014025</th>\n",
       "      <td>Monarch Espresso Bar</td>\n",
       "      <td>Restaurants</td>\n",
       "      <td>Food</td>\n",
       "      <td>USD</td>\n",
       "      <td>2016-04-01</td>\n",
       "      <td>50000.0</td>\n",
       "      <td>2016-02-26 13:38:27</td>\n",
       "      <td>52375.0</td>\n",
       "      <td>successful</td>\n",
       "      <td>224</td>\n",
       "      <td>US</td>\n",
       "    </tr>\n",
       "  </tbody>\n",
       "</table>\n",
       "</div>"
      ]
     },
     "execution_count": 37,
     "metadata": {},
     "output_type": "execute_result"
    }
   ],
   "execution_count": 37
  },
  {
   "metadata": {},
   "cell_type": "code",
   "outputs": [],
   "execution_count": null,
   "source": "",
   "id": "a2777709563f7b37"
  },
  {
   "metadata": {},
   "cell_type": "markdown",
   "source": [
    "# Moyenne, médiane et quantiles\n",
    "\n",
    "\n",
    "+ Déterminer les variables numériques et les stocker dans un tableau num_data"
   ],
   "id": "537f3de4d5cedefc"
  },
  {
   "metadata": {
    "ExecuteTime": {
     "end_time": "2025-03-25T13:10:10.881834Z",
     "start_time": "2025-03-25T13:10:10.854449Z"
    }
   },
   "cell_type": "code",
   "source": [
    "num_data = data.select_dtypes(include=['int64','float64'])  # SELECT_DTYPES est une methode. On ne peut calculer la moyenne que sur les valeurs num\n",
    "num_data"
   ],
   "id": "713f8c0db47fb5f7",
   "outputs": [
    {
     "data": {
      "text/plain": [
       "               goal   pledged  backers\n",
       "ID                                    \n",
       "1000002330   1000.0       0.0        0\n",
       "1000003930  30000.0    2421.0       15\n",
       "1000004038  45000.0     220.0        3\n",
       "1000007540   5000.0       1.0        1\n",
       "1000014025  50000.0   52375.0      224\n",
       "...             ...       ...      ...\n",
       "1132019813   4000.0    4550.0       55\n",
       "1132026580   1500.0      15.0        1\n",
       "1132035662  35000.0   35912.0      367\n",
       "1132037267  20000.0       6.0        2\n",
       "113204057   50000.0  117192.0      980\n",
       "\n",
       "[20000 rows x 3 columns]"
      ],
      "text/html": [
       "<div>\n",
       "<style scoped>\n",
       "    .dataframe tbody tr th:only-of-type {\n",
       "        vertical-align: middle;\n",
       "    }\n",
       "\n",
       "    .dataframe tbody tr th {\n",
       "        vertical-align: top;\n",
       "    }\n",
       "\n",
       "    .dataframe thead th {\n",
       "        text-align: right;\n",
       "    }\n",
       "</style>\n",
       "<table border=\"1\" class=\"dataframe\">\n",
       "  <thead>\n",
       "    <tr style=\"text-align: right;\">\n",
       "      <th></th>\n",
       "      <th>goal</th>\n",
       "      <th>pledged</th>\n",
       "      <th>backers</th>\n",
       "    </tr>\n",
       "    <tr>\n",
       "      <th>ID</th>\n",
       "      <th></th>\n",
       "      <th></th>\n",
       "      <th></th>\n",
       "    </tr>\n",
       "  </thead>\n",
       "  <tbody>\n",
       "    <tr>\n",
       "      <th>1000002330</th>\n",
       "      <td>1000.0</td>\n",
       "      <td>0.0</td>\n",
       "      <td>0</td>\n",
       "    </tr>\n",
       "    <tr>\n",
       "      <th>1000003930</th>\n",
       "      <td>30000.0</td>\n",
       "      <td>2421.0</td>\n",
       "      <td>15</td>\n",
       "    </tr>\n",
       "    <tr>\n",
       "      <th>1000004038</th>\n",
       "      <td>45000.0</td>\n",
       "      <td>220.0</td>\n",
       "      <td>3</td>\n",
       "    </tr>\n",
       "    <tr>\n",
       "      <th>1000007540</th>\n",
       "      <td>5000.0</td>\n",
       "      <td>1.0</td>\n",
       "      <td>1</td>\n",
       "    </tr>\n",
       "    <tr>\n",
       "      <th>1000014025</th>\n",
       "      <td>50000.0</td>\n",
       "      <td>52375.0</td>\n",
       "      <td>224</td>\n",
       "    </tr>\n",
       "    <tr>\n",
       "      <th>...</th>\n",
       "      <td>...</td>\n",
       "      <td>...</td>\n",
       "      <td>...</td>\n",
       "    </tr>\n",
       "    <tr>\n",
       "      <th>1132019813</th>\n",
       "      <td>4000.0</td>\n",
       "      <td>4550.0</td>\n",
       "      <td>55</td>\n",
       "    </tr>\n",
       "    <tr>\n",
       "      <th>1132026580</th>\n",
       "      <td>1500.0</td>\n",
       "      <td>15.0</td>\n",
       "      <td>1</td>\n",
       "    </tr>\n",
       "    <tr>\n",
       "      <th>1132035662</th>\n",
       "      <td>35000.0</td>\n",
       "      <td>35912.0</td>\n",
       "      <td>367</td>\n",
       "    </tr>\n",
       "    <tr>\n",
       "      <th>1132037267</th>\n",
       "      <td>20000.0</td>\n",
       "      <td>6.0</td>\n",
       "      <td>2</td>\n",
       "    </tr>\n",
       "    <tr>\n",
       "      <th>113204057</th>\n",
       "      <td>50000.0</td>\n",
       "      <td>117192.0</td>\n",
       "      <td>980</td>\n",
       "    </tr>\n",
       "  </tbody>\n",
       "</table>\n",
       "<p>20000 rows × 3 columns</p>\n",
       "</div>"
      ]
     },
     "execution_count": 38,
     "metadata": {},
     "output_type": "execute_result"
    }
   ],
   "execution_count": 38
  },
  {
   "metadata": {},
   "cell_type": "markdown",
   "source": [
    "+ Calculer la moyenne de chaque variable contenue dans num_data et les stocker dans un DataFrame stats avec comme unique colonne moyenne.\n",
    "+ Comparer la moyenne des collectes (pledged) avec celle des objectifs fixés (goal). Que constatez-vous ?\n",
    "\n",
    "> Pour la création du DataFrame stats, on pourra utiliser `pd.DataFrame` et l'attribut columns.\n",
    ">\n",
    "> Pour le calcul des moyennes, on pourra s'aider de `pandas.DataFrame.mean()`."
   ],
   "id": "8b8d550a2a7e5a29"
  },
  {
   "metadata": {
    "ExecuteTime": {
     "end_time": "2025-03-25T13:13:04.232077Z",
     "start_time": "2025-03-25T13:13:04.215873Z"
    }
   },
   "cell_type": "code",
   "source": [
    "# Calcul de la moyenne de chaque variable contenue dans num_data\n",
    "num_data.mean()"
   ],
   "id": "c9d8ebdf5269dd84",
   "outputs": [
    {
     "data": {
      "text/plain": [
       "goal       17944.893169\n",
       "pledged    10514.226824\n",
       "backers      116.169950\n",
       "dtype: float64"
      ]
     },
     "execution_count": 39,
     "metadata": {},
     "output_type": "execute_result"
    }
   ],
   "execution_count": 39
  },
  {
   "metadata": {
    "ExecuteTime": {
     "end_time": "2025-03-25T13:18:21.556612Z",
     "start_time": "2025-03-25T13:18:21.538403Z"
    }
   },
   "cell_type": "code",
   "source": [
    "# Creation du DataFrame\n",
    "\n",
    "stats = pd.DataFrame(num_data.mean(), columns=['moyenne'])\n",
    "stats"
   ],
   "id": "e20c4e758f8d929a",
   "outputs": [
    {
     "data": {
      "text/plain": [
       "              moyenne\n",
       "goal     17944.893169\n",
       "pledged  10514.226824\n",
       "backers    116.169950"
      ],
      "text/html": [
       "<div>\n",
       "<style scoped>\n",
       "    .dataframe tbody tr th:only-of-type {\n",
       "        vertical-align: middle;\n",
       "    }\n",
       "\n",
       "    .dataframe tbody tr th {\n",
       "        vertical-align: top;\n",
       "    }\n",
       "\n",
       "    .dataframe thead th {\n",
       "        text-align: right;\n",
       "    }\n",
       "</style>\n",
       "<table border=\"1\" class=\"dataframe\">\n",
       "  <thead>\n",
       "    <tr style=\"text-align: right;\">\n",
       "      <th></th>\n",
       "      <th>moyenne</th>\n",
       "    </tr>\n",
       "  </thead>\n",
       "  <tbody>\n",
       "    <tr>\n",
       "      <th>goal</th>\n",
       "      <td>17944.893169</td>\n",
       "    </tr>\n",
       "    <tr>\n",
       "      <th>pledged</th>\n",
       "      <td>10514.226824</td>\n",
       "    </tr>\n",
       "    <tr>\n",
       "      <th>backers</th>\n",
       "      <td>116.169950</td>\n",
       "    </tr>\n",
       "  </tbody>\n",
       "</table>\n",
       "</div>"
      ]
     },
     "execution_count": 41,
     "metadata": {},
     "output_type": "execute_result"
    }
   ],
   "execution_count": 41
  },
  {
   "metadata": {
    "ExecuteTime": {
     "end_time": "2025-03-25T13:18:49.658861Z",
     "start_time": "2025-03-25T13:18:49.645224Z"
    }
   },
   "cell_type": "code",
   "source": [
    "# Afficher seulement 2 chiffres significatifs.\n",
    "stats.round(2)"
   ],
   "id": "6a3fdffe15fd443f",
   "outputs": [
    {
     "data": {
      "text/plain": [
       "          moyenne\n",
       "goal     17944.89\n",
       "pledged  10514.23\n",
       "backers    116.17"
      ],
      "text/html": [
       "<div>\n",
       "<style scoped>\n",
       "    .dataframe tbody tr th:only-of-type {\n",
       "        vertical-align: middle;\n",
       "    }\n",
       "\n",
       "    .dataframe tbody tr th {\n",
       "        vertical-align: top;\n",
       "    }\n",
       "\n",
       "    .dataframe thead th {\n",
       "        text-align: right;\n",
       "    }\n",
       "</style>\n",
       "<table border=\"1\" class=\"dataframe\">\n",
       "  <thead>\n",
       "    <tr style=\"text-align: right;\">\n",
       "      <th></th>\n",
       "      <th>moyenne</th>\n",
       "    </tr>\n",
       "  </thead>\n",
       "  <tbody>\n",
       "    <tr>\n",
       "      <th>goal</th>\n",
       "      <td>17944.89</td>\n",
       "    </tr>\n",
       "    <tr>\n",
       "      <th>pledged</th>\n",
       "      <td>10514.23</td>\n",
       "    </tr>\n",
       "    <tr>\n",
       "      <th>backers</th>\n",
       "      <td>116.17</td>\n",
       "    </tr>\n",
       "  </tbody>\n",
       "</table>\n",
       "</div>"
      ]
     },
     "execution_count": 42,
     "metadata": {},
     "output_type": "execute_result"
    }
   ],
   "execution_count": 42
  },
  {
   "metadata": {
    "ExecuteTime": {
     "end_time": "2025-03-25T13:39:36.607076Z",
     "start_time": "2025-03-25T13:39:36.594592Z"
    }
   },
   "cell_type": "code",
   "source": [
    "moyenne_depart = np.mean([1,2,3,4,5,6,7,8,9,10])\n",
    "moyenne_depart_exageree = np.mean([1,2,3,4,5,6,7,8,9,10,1000])\n",
    "print('moyenne_depart', moyenne_depart)\n",
    "print('moyenne_depart_exageree', moyenne_depart_exageree)\n",
    "mediane_depart = np.median([1,2,3,4,5,6,7,8,9,10])\n",
    "mediane_depart_exageree = np.median([1,2,3,4,5,6,7,8,9,10,1000])\n",
    "print('mediane_depart', mediane_depart)\n",
    "print('mediane_depart_exageree', mediane_depart_exageree)"
   ],
   "id": "3a6d107a452daec2",
   "outputs": [
    {
     "name": "stdout",
     "output_type": "stream",
     "text": [
      "moyenne_depart 5.5\n",
      "moyenne_depart_exageree 95.9090909090909\n",
      "mediane_depart 5.5\n",
      "mediane_depart_exageree 6.0\n"
     ]
    }
   ],
   "execution_count": 46
  },
  {
   "metadata": {},
   "cell_type": "markdown",
   "source": [
    "La moyenne est une bonne entrée en matière, cependant elle ne permet pas d'avoir une répartition précise des données. Pour cela, la médiane est un indicateur plus précis.\n",
    "\n",
    "Elle se définit ainsi : la médiane d'un ensemble de valeurs est la valeur x qui permet de couper l'ensemble des valeurs en deux parties égales : mettant d'un côté une moitié des valeurs, qui sont toutes inférieures ou égales à x et de l'autre côté l'autre moitié des valeurs, qui sont toutes supérieures ou égales à x (s'il y a un nombre impair de valeurs, la valeur centrale sera mise des deux côtés)."
   ],
   "id": "19e028423a058e0d"
  },
  {
   "metadata": {
    "ExecuteTime": {
     "end_time": "2025-03-25T13:41:57.328222Z",
     "start_time": "2025-03-25T13:41:57.294699Z"
    }
   },
   "cell_type": "code",
   "source": "pd.DataFrame(num_data.median(), columns = ['median'])",
   "id": "33a16188ed8fad1d",
   "outputs": [
    {
     "data": {
      "text/plain": [
       "         median\n",
       "goal     5000.0\n",
       "pledged   757.0\n",
       "backers    15.0"
      ],
      "text/html": [
       "<div>\n",
       "<style scoped>\n",
       "    .dataframe tbody tr th:only-of-type {\n",
       "        vertical-align: middle;\n",
       "    }\n",
       "\n",
       "    .dataframe tbody tr th {\n",
       "        vertical-align: top;\n",
       "    }\n",
       "\n",
       "    .dataframe thead th {\n",
       "        text-align: right;\n",
       "    }\n",
       "</style>\n",
       "<table border=\"1\" class=\"dataframe\">\n",
       "  <thead>\n",
       "    <tr style=\"text-align: right;\">\n",
       "      <th></th>\n",
       "      <th>median</th>\n",
       "    </tr>\n",
       "  </thead>\n",
       "  <tbody>\n",
       "    <tr>\n",
       "      <th>goal</th>\n",
       "      <td>5000.0</td>\n",
       "    </tr>\n",
       "    <tr>\n",
       "      <th>pledged</th>\n",
       "      <td>757.0</td>\n",
       "    </tr>\n",
       "    <tr>\n",
       "      <th>backers</th>\n",
       "      <td>15.0</td>\n",
       "    </tr>\n",
       "  </tbody>\n",
       "</table>\n",
       "</div>"
      ]
     },
     "execution_count": 48,
     "metadata": {},
     "output_type": "execute_result"
    }
   ],
   "execution_count": 48
  },
  {
   "metadata": {
    "ExecuteTime": {
     "end_time": "2025-03-25T13:44:09.731792Z",
     "start_time": "2025-03-25T13:44:09.707188Z"
    }
   },
   "cell_type": "code",
   "source": [
    "stats['median'] = num_data.median()\n",
    "stats"
   ],
   "id": "8349fc290fe92c6d",
   "outputs": [
    {
     "data": {
      "text/plain": [
       "              moyenne  median\n",
       "goal     17944.893169  5000.0\n",
       "pledged  10514.226824   757.0\n",
       "backers    116.169950    15.0"
      ],
      "text/html": [
       "<div>\n",
       "<style scoped>\n",
       "    .dataframe tbody tr th:only-of-type {\n",
       "        vertical-align: middle;\n",
       "    }\n",
       "\n",
       "    .dataframe tbody tr th {\n",
       "        vertical-align: top;\n",
       "    }\n",
       "\n",
       "    .dataframe thead th {\n",
       "        text-align: right;\n",
       "    }\n",
       "</style>\n",
       "<table border=\"1\" class=\"dataframe\">\n",
       "  <thead>\n",
       "    <tr style=\"text-align: right;\">\n",
       "      <th></th>\n",
       "      <th>moyenne</th>\n",
       "      <th>median</th>\n",
       "    </tr>\n",
       "  </thead>\n",
       "  <tbody>\n",
       "    <tr>\n",
       "      <th>goal</th>\n",
       "      <td>17944.893169</td>\n",
       "      <td>5000.0</td>\n",
       "    </tr>\n",
       "    <tr>\n",
       "      <th>pledged</th>\n",
       "      <td>10514.226824</td>\n",
       "      <td>757.0</td>\n",
       "    </tr>\n",
       "    <tr>\n",
       "      <th>backers</th>\n",
       "      <td>116.169950</td>\n",
       "      <td>15.0</td>\n",
       "    </tr>\n",
       "  </tbody>\n",
       "</table>\n",
       "</div>"
      ]
     },
     "execution_count": 49,
     "metadata": {},
     "output_type": "execute_result"
    }
   ],
   "execution_count": 49
  },
  {
   "metadata": {},
   "cell_type": "markdown",
   "source": [
    "Malgré une moyenne élevée, **on constate que la moitié des objectifs fixés ne dépassent pas 5500€**.\n",
    "\n",
    "De même pour les dons récoltés et le nombre de contributeurs qui ont respectivement la moitié en dessous de 600€ et 12 personnes.\n",
    "\n",
    "**Cela laisse apparaître la présence de valeurs extrêmes qui tirent vers le haut la moyenne.**\n",
    "\n",
    "+ On observe déjà la faiblesse d'un indicateur comme la moyenne qui est fortement influencée par les valeurs extrêmes."
   ],
   "id": "7de77b00c1b0bd5d"
  },
  {
   "metadata": {
    "ExecuteTime": {
     "end_time": "2025-03-25T13:52:26.197872Z",
     "start_time": "2025-03-25T13:52:26.173041Z"
    }
   },
   "cell_type": "code",
   "source": [
    "stats['mean_med_diff'] = abs( stats['moyenne'] - stats['median'])\n",
    "stats.round(2)\n"
   ],
   "id": "9d94a2b29bd7b39b",
   "outputs": [
    {
     "data": {
      "text/plain": [
       "          moyenne  median  mean_med_diff\n",
       "goal     17944.89  5000.0       12944.89\n",
       "pledged  10514.23   757.0        9757.23\n",
       "backers    116.17    15.0         101.17"
      ],
      "text/html": [
       "<div>\n",
       "<style scoped>\n",
       "    .dataframe tbody tr th:only-of-type {\n",
       "        vertical-align: middle;\n",
       "    }\n",
       "\n",
       "    .dataframe tbody tr th {\n",
       "        vertical-align: top;\n",
       "    }\n",
       "\n",
       "    .dataframe thead th {\n",
       "        text-align: right;\n",
       "    }\n",
       "</style>\n",
       "<table border=\"1\" class=\"dataframe\">\n",
       "  <thead>\n",
       "    <tr style=\"text-align: right;\">\n",
       "      <th></th>\n",
       "      <th>moyenne</th>\n",
       "      <th>median</th>\n",
       "      <th>mean_med_diff</th>\n",
       "    </tr>\n",
       "  </thead>\n",
       "  <tbody>\n",
       "    <tr>\n",
       "      <th>goal</th>\n",
       "      <td>17944.89</td>\n",
       "      <td>5000.0</td>\n",
       "      <td>12944.89</td>\n",
       "    </tr>\n",
       "    <tr>\n",
       "      <th>pledged</th>\n",
       "      <td>10514.23</td>\n",
       "      <td>757.0</td>\n",
       "      <td>9757.23</td>\n",
       "    </tr>\n",
       "    <tr>\n",
       "      <th>backers</th>\n",
       "      <td>116.17</td>\n",
       "      <td>15.0</td>\n",
       "      <td>101.17</td>\n",
       "    </tr>\n",
       "  </tbody>\n",
       "</table>\n",
       "</div>"
      ]
     },
     "execution_count": 51,
     "metadata": {},
     "output_type": "execute_result"
    }
   ],
   "execution_count": 51
  },
  {
   "metadata": {},
   "cell_type": "markdown",
   "source": [
    "Pour donner une interprétation de cette nouvelle variable, il faut bien avoir en tête les ordres de grandeur de chaque variable. Dans notre cas, on constate à travers la variable nouvellement créée que la médiane et la moyenne sont systématiquement très éloignées. Cela nous renseigne sur **l'hétérogénéité** des variables dont nous disposons. Il semble clairement qu'on dispose d'un nombre important de campagne de financement avec de petits montants et d'un nombre moindre de campagne avec de gros montants.\n",
    "\n",
    "  \n",
    "\n",
    "---\n",
    "\n",
    "\n",
    "\n",
    "Pour confirmer notre analyse, il est nécessaire de regarder les **quantiles** de chaque variable.\n",
    "\n",
    "  \n",
    "\n",
    "> Les **quantiles** sont les valeurs qui divisent un jeu de données en intervalles contenant le même nombre de données.\n",
    "De manière générale, on divise le jeu de données en 4 de telle sorte que le premier quantile renvoie la valeur à partir de laquelle on retrouve 25% des valeurs et ainsi de suite pour les autres quantiles."
   ],
   "id": "fce5d918907bee72"
  },
  {
   "metadata": {
    "ExecuteTime": {
     "end_time": "2025-03-25T14:00:28.473313Z",
     "start_time": "2025-03-25T14:00:28.447672Z"
    }
   },
   "cell_type": "code",
   "source": "num_data.quantile(q = [0.25,0.5,0.75]).transpose()",
   "id": "ff45b6c6b1b762fb",
   "outputs": [
    {
     "data": {
      "text/plain": [
       "           0.25    0.50      0.75\n",
       "goal     2000.0  5000.0  15000.00\n",
       "pledged    50.0   757.0   4652.75\n",
       "backers     2.0    15.0     62.00"
      ],
      "text/html": [
       "<div>\n",
       "<style scoped>\n",
       "    .dataframe tbody tr th:only-of-type {\n",
       "        vertical-align: middle;\n",
       "    }\n",
       "\n",
       "    .dataframe tbody tr th {\n",
       "        vertical-align: top;\n",
       "    }\n",
       "\n",
       "    .dataframe thead th {\n",
       "        text-align: right;\n",
       "    }\n",
       "</style>\n",
       "<table border=\"1\" class=\"dataframe\">\n",
       "  <thead>\n",
       "    <tr style=\"text-align: right;\">\n",
       "      <th></th>\n",
       "      <th>0.25</th>\n",
       "      <th>0.50</th>\n",
       "      <th>0.75</th>\n",
       "    </tr>\n",
       "  </thead>\n",
       "  <tbody>\n",
       "    <tr>\n",
       "      <th>goal</th>\n",
       "      <td>2000.0</td>\n",
       "      <td>5000.0</td>\n",
       "      <td>15000.00</td>\n",
       "    </tr>\n",
       "    <tr>\n",
       "      <th>pledged</th>\n",
       "      <td>50.0</td>\n",
       "      <td>757.0</td>\n",
       "      <td>4652.75</td>\n",
       "    </tr>\n",
       "    <tr>\n",
       "      <th>backers</th>\n",
       "      <td>2.0</td>\n",
       "      <td>15.0</td>\n",
       "      <td>62.00</td>\n",
       "    </tr>\n",
       "  </tbody>\n",
       "</table>\n",
       "</div>"
      ]
     },
     "execution_count": 58,
     "metadata": {},
     "output_type": "execute_result"
    }
   ],
   "execution_count": 58
  },
  {
   "metadata": {
    "ExecuteTime": {
     "end_time": "2025-03-25T14:00:34.520670Z",
     "start_time": "2025-03-25T14:00:34.505155Z"
    }
   },
   "cell_type": "code",
   "source": "num_data['goal'].quantile(q = [0.25,0.5,0.75]).transpose()",
   "id": "f673270bbac89498",
   "outputs": [
    {
     "data": {
      "text/plain": [
       "0.25     2000.0\n",
       "0.50     5000.0\n",
       "0.75    15000.0\n",
       "Name: goal, dtype: float64"
      ]
     },
     "execution_count": 59,
     "metadata": {},
     "output_type": "execute_result"
    }
   ],
   "execution_count": 59
  },
  {
   "metadata": {
    "ExecuteTime": {
     "end_time": "2025-03-25T13:58:48.576002Z",
     "start_time": "2025-03-25T13:58:48.461826Z"
    }
   },
   "cell_type": "code",
   "source": [
    "stats[['q1', 'q2', 'q3']] = num_data.quantile(q = [0.25,0.5,0.75]).transpose()\n",
    "stats"
   ],
   "id": "2173d9b9ec9af7ae",
   "outputs": [
    {
     "data": {
      "text/plain": [
       "              moyenne  median  mean_med_diff      q1      q2        q3\n",
       "goal     17944.893169  5000.0   12944.893169  2000.0  5000.0  15000.00\n",
       "pledged  10514.226824   757.0    9757.226824    50.0   757.0   4652.75\n",
       "backers    116.169950    15.0     101.169950     2.0    15.0     62.00"
      ],
      "text/html": [
       "<div>\n",
       "<style scoped>\n",
       "    .dataframe tbody tr th:only-of-type {\n",
       "        vertical-align: middle;\n",
       "    }\n",
       "\n",
       "    .dataframe tbody tr th {\n",
       "        vertical-align: top;\n",
       "    }\n",
       "\n",
       "    .dataframe thead th {\n",
       "        text-align: right;\n",
       "    }\n",
       "</style>\n",
       "<table border=\"1\" class=\"dataframe\">\n",
       "  <thead>\n",
       "    <tr style=\"text-align: right;\">\n",
       "      <th></th>\n",
       "      <th>moyenne</th>\n",
       "      <th>median</th>\n",
       "      <th>mean_med_diff</th>\n",
       "      <th>q1</th>\n",
       "      <th>q2</th>\n",
       "      <th>q3</th>\n",
       "    </tr>\n",
       "  </thead>\n",
       "  <tbody>\n",
       "    <tr>\n",
       "      <th>goal</th>\n",
       "      <td>17944.893169</td>\n",
       "      <td>5000.0</td>\n",
       "      <td>12944.893169</td>\n",
       "      <td>2000.0</td>\n",
       "      <td>5000.0</td>\n",
       "      <td>15000.00</td>\n",
       "    </tr>\n",
       "    <tr>\n",
       "      <th>pledged</th>\n",
       "      <td>10514.226824</td>\n",
       "      <td>757.0</td>\n",
       "      <td>9757.226824</td>\n",
       "      <td>50.0</td>\n",
       "      <td>757.0</td>\n",
       "      <td>4652.75</td>\n",
       "    </tr>\n",
       "    <tr>\n",
       "      <th>backers</th>\n",
       "      <td>116.169950</td>\n",
       "      <td>15.0</td>\n",
       "      <td>101.169950</td>\n",
       "      <td>2.0</td>\n",
       "      <td>15.0</td>\n",
       "      <td>62.00</td>\n",
       "    </tr>\n",
       "  </tbody>\n",
       "</table>\n",
       "</div>"
      ]
     },
     "execution_count": 57,
     "metadata": {},
     "output_type": "execute_result"
    }
   ],
   "execution_count": 57
  },
  {
   "metadata": {},
   "cell_type": "code",
   "outputs": [],
   "execution_count": null,
   "source": "",
   "id": "5ec4a20a7830b39b"
  },
  {
   "metadata": {},
   "cell_type": "markdown",
   "source": [
    "> On peut compléter notre analyse en s'intéressant au min, max de chaque variable.  \n",
    "> La différence des deux nous donnera une idée de l'étendue sur laquelle se répartissent les valeurs.\n",
    "\n",
    "-   Ajouter au tableau  **`stats`**  3 colonnes  **`min`**,  **`max`**  et  **`min_max_diff`**  renseignant le min,le max et la différence des deux.\n",
    "\n",
    "-  Que remarquez-vous sur la différence des deux ?"
   ],
   "id": "85724a5dd1c42020"
  },
  {
   "metadata": {
    "ExecuteTime": {
     "end_time": "2025-03-25T14:04:06.928258Z",
     "start_time": "2025-03-25T14:04:06.844931Z"
    }
   },
   "cell_type": "code",
   "source": [
    "stats['min'] = num_data.min()\n",
    "stats['max'] = num_data.max()\n",
    "stats['min_max_diff'] = stats['max'] - stats['min']\n",
    "stats"
   ],
   "id": "c06ca731e41528d9",
   "outputs": [
    {
     "data": {
      "text/plain": [
       "              moyenne  median  mean_med_diff      q1      q2        q3  min  \\\n",
       "goal     17944.893169  5000.0   12944.893169  2000.0  5000.0  15000.00  1.0   \n",
       "pledged  10514.226824   757.0    9757.226824    50.0   757.0   4652.75  0.0   \n",
       "backers    116.169950    15.0     101.169950     2.0    15.0     62.00  0.0   \n",
       "\n",
       "               max  min_max_diff  \n",
       "goal      575000.0      574999.0  \n",
       "pledged  5545991.7     5545991.7  \n",
       "backers    85581.0       85581.0  "
      ],
      "text/html": [
       "<div>\n",
       "<style scoped>\n",
       "    .dataframe tbody tr th:only-of-type {\n",
       "        vertical-align: middle;\n",
       "    }\n",
       "\n",
       "    .dataframe tbody tr th {\n",
       "        vertical-align: top;\n",
       "    }\n",
       "\n",
       "    .dataframe thead th {\n",
       "        text-align: right;\n",
       "    }\n",
       "</style>\n",
       "<table border=\"1\" class=\"dataframe\">\n",
       "  <thead>\n",
       "    <tr style=\"text-align: right;\">\n",
       "      <th></th>\n",
       "      <th>moyenne</th>\n",
       "      <th>median</th>\n",
       "      <th>mean_med_diff</th>\n",
       "      <th>q1</th>\n",
       "      <th>q2</th>\n",
       "      <th>q3</th>\n",
       "      <th>min</th>\n",
       "      <th>max</th>\n",
       "      <th>min_max_diff</th>\n",
       "    </tr>\n",
       "  </thead>\n",
       "  <tbody>\n",
       "    <tr>\n",
       "      <th>goal</th>\n",
       "      <td>17944.893169</td>\n",
       "      <td>5000.0</td>\n",
       "      <td>12944.893169</td>\n",
       "      <td>2000.0</td>\n",
       "      <td>5000.0</td>\n",
       "      <td>15000.00</td>\n",
       "      <td>1.0</td>\n",
       "      <td>575000.0</td>\n",
       "      <td>574999.0</td>\n",
       "    </tr>\n",
       "    <tr>\n",
       "      <th>pledged</th>\n",
       "      <td>10514.226824</td>\n",
       "      <td>757.0</td>\n",
       "      <td>9757.226824</td>\n",
       "      <td>50.0</td>\n",
       "      <td>757.0</td>\n",
       "      <td>4652.75</td>\n",
       "      <td>0.0</td>\n",
       "      <td>5545991.7</td>\n",
       "      <td>5545991.7</td>\n",
       "    </tr>\n",
       "    <tr>\n",
       "      <th>backers</th>\n",
       "      <td>116.169950</td>\n",
       "      <td>15.0</td>\n",
       "      <td>101.169950</td>\n",
       "      <td>2.0</td>\n",
       "      <td>15.0</td>\n",
       "      <td>62.00</td>\n",
       "      <td>0.0</td>\n",
       "      <td>85581.0</td>\n",
       "      <td>85581.0</td>\n",
       "    </tr>\n",
       "  </tbody>\n",
       "</table>\n",
       "</div>"
      ]
     },
     "execution_count": 60,
     "metadata": {},
     "output_type": "execute_result"
    }
   ],
   "execution_count": 60
  },
  {
   "metadata": {},
   "cell_type": "code",
   "outputs": [],
   "execution_count": null,
   "source": "",
   "id": "a027c61fe3600650"
  },
  {
   "metadata": {},
   "cell_type": "markdown",
   "source": [
    "# VARIANCE, ECART TYPE ET OUTLIERS\n",
    "\n"
   ],
   "id": "2922cf484b286c4a"
  },
  {
   "metadata": {},
   "cell_type": "code",
   "outputs": [],
   "execution_count": null,
   "source": "",
   "id": "ad782423539b5e10"
  },
  {
   "metadata": {},
   "cell_type": "markdown",
   "source": [
    "> Deux derniers indicateurs nous permettent d'avoir un bon aperçu :  **la variance**  et  **l'écart-type**.  \n",
    "> Ils font partie de la famille des indicateurs de dispersion :\n",
    ">\n",
    "> > -   La variance, qui mesure la dispersion autour de la moyenne, c'est à dire à quel point les valeurs présentes dans une liste numérique sont écartées de la moyenne.\n",
    "> >\n",
    "> > -   L'écart type, qui se définit mathématiquement comme la racine carrée de la variance. De par sa construction,  **l’écart type**  est également une mesure de la dispersion des valeurs.\n",
    ">\n",
    ">   On peut calculer facilement l'écart type d'une variable en utilisant  `pandas.Series.std()`\n",
    "\n",
    "-     Calculer  **l'écart type**  de la variable  **`backers`**.\n",
    "\n",
    "-    Afficher l'intervalle  **moyenne**  +/-  **ecart type**  de la variable  **`backers`**."
   ],
   "id": "3022e1b92cccb6f1"
  },
  {
   "metadata": {
    "ExecuteTime": {
     "end_time": "2025-03-25T14:37:05.285233Z",
     "start_time": "2025-03-25T14:37:05.250094Z"
    }
   },
   "cell_type": "code",
   "source": [
    "ecart_type = num_data['backers'].std()  # STD est ce qui permet de calculer l'ecart type\n",
    "\n",
    "intervalle = [num_data['backers'].mean() - ecart_type, num_data['backers'].mean() + ecart_type] # creer un intervalle qui est celui de la moyenne moins \n",
    "print(intervalle)"
   ],
   "id": "f48d17bd37673007",
   "outputs": [
    {
     "name": "stdout",
     "output_type": "stream",
     "text": [
      "[np.float64(-860.1421576446683), np.float64(1092.4820576446682)]\n"
     ]
    }
   ],
   "execution_count": 61
  },
  {
   "metadata": {},
   "cell_type": "code",
   "outputs": [],
   "execution_count": null,
   "source": "",
   "id": "724d6b3f9b09e12"
  },
  {
   "metadata": {},
   "cell_type": "markdown",
   "source": [
    ">  On peut tout à fait tronquer l'intervalle à 0. Le nombre de backers est toujours positif.\n",
    "\n",
    "-    Ajouter une nouvelle colonne intitulée  **`backers_in`**  à  **`num_data`**  contenant 1 si la valeur de  **`backers`**  appartiennent à l'intervalle calculé précédemment et 0 sinon.\n",
    "\n",
    "Pour déterminer les valeurs qui appartiennent à l'intervalle calculé précédemment, on pourra s'aider de  `pandas.Series.between(int1,int2).astype(int)`.\n",
    "\n",
    "Pour afficher les proportions on pourra s'aider de  `pandas.Series.value_counts(normalize = True)`."
   ],
   "id": "9d7f90c7884c7476"
  },
  {
   "metadata": {
    "ExecuteTime": {
     "end_time": "2025-03-25T14:45:47.966824Z",
     "start_time": "2025-03-25T14:45:47.939396Z"
    }
   },
   "cell_type": "code",
   "source": [
    "num_data['backers_in'] = num_data['backers'].between(intervalle[0], intervalle[1]).astype(int)\n",
    "\n",
    "num_data['backers_in'].value_counts(normalize=True)\n",
    "# Tout ce qui est  al interieur de notre intervalle est a 98 pour cent et on a 0.1 pour cent hors de l\"intervalle\n"
   ],
   "id": "205091a1f2017d41",
   "outputs": [
    {
     "data": {
      "text/plain": [
       "backers_in\n",
       "1    0.98365\n",
       "0    0.01635\n",
       "Name: proportion, dtype: float64"
      ]
     },
     "execution_count": 63,
     "metadata": {},
     "output_type": "execute_result"
    }
   ],
   "execution_count": 63
  },
  {
   "metadata": {
    "ExecuteTime": {
     "end_time": "2025-03-25T14:45:53.216296Z",
     "start_time": "2025-03-25T14:45:53.175027Z"
    }
   },
   "cell_type": "code",
   "source": "num_data.head(10)",
   "id": "ddea46af35edec0b",
   "outputs": [
    {
     "data": {
      "text/plain": [
       "               goal  pledged  backers  backers_in\n",
       "ID                                               \n",
       "1000002330   1000.0      0.0        0           1\n",
       "1000003930  30000.0   2421.0       15           1\n",
       "1000004038  45000.0    220.0        3           1\n",
       "1000007540   5000.0      1.0        1           1\n",
       "1000014025  50000.0  52375.0      224           1\n",
       "1000023410   1000.0   1205.0       16           1\n",
       "1000030581  25000.0    453.0       40           1\n",
       "100004721    2500.0      0.0        0           1\n",
       "100005484   12500.0  12700.0      100           1\n",
       "1000055792   5000.0      0.0        0           1"
      ],
      "text/html": [
       "<div>\n",
       "<style scoped>\n",
       "    .dataframe tbody tr th:only-of-type {\n",
       "        vertical-align: middle;\n",
       "    }\n",
       "\n",
       "    .dataframe tbody tr th {\n",
       "        vertical-align: top;\n",
       "    }\n",
       "\n",
       "    .dataframe thead th {\n",
       "        text-align: right;\n",
       "    }\n",
       "</style>\n",
       "<table border=\"1\" class=\"dataframe\">\n",
       "  <thead>\n",
       "    <tr style=\"text-align: right;\">\n",
       "      <th></th>\n",
       "      <th>goal</th>\n",
       "      <th>pledged</th>\n",
       "      <th>backers</th>\n",
       "      <th>backers_in</th>\n",
       "    </tr>\n",
       "    <tr>\n",
       "      <th>ID</th>\n",
       "      <th></th>\n",
       "      <th></th>\n",
       "      <th></th>\n",
       "      <th></th>\n",
       "    </tr>\n",
       "  </thead>\n",
       "  <tbody>\n",
       "    <tr>\n",
       "      <th>1000002330</th>\n",
       "      <td>1000.0</td>\n",
       "      <td>0.0</td>\n",
       "      <td>0</td>\n",
       "      <td>1</td>\n",
       "    </tr>\n",
       "    <tr>\n",
       "      <th>1000003930</th>\n",
       "      <td>30000.0</td>\n",
       "      <td>2421.0</td>\n",
       "      <td>15</td>\n",
       "      <td>1</td>\n",
       "    </tr>\n",
       "    <tr>\n",
       "      <th>1000004038</th>\n",
       "      <td>45000.0</td>\n",
       "      <td>220.0</td>\n",
       "      <td>3</td>\n",
       "      <td>1</td>\n",
       "    </tr>\n",
       "    <tr>\n",
       "      <th>1000007540</th>\n",
       "      <td>5000.0</td>\n",
       "      <td>1.0</td>\n",
       "      <td>1</td>\n",
       "      <td>1</td>\n",
       "    </tr>\n",
       "    <tr>\n",
       "      <th>1000014025</th>\n",
       "      <td>50000.0</td>\n",
       "      <td>52375.0</td>\n",
       "      <td>224</td>\n",
       "      <td>1</td>\n",
       "    </tr>\n",
       "    <tr>\n",
       "      <th>1000023410</th>\n",
       "      <td>1000.0</td>\n",
       "      <td>1205.0</td>\n",
       "      <td>16</td>\n",
       "      <td>1</td>\n",
       "    </tr>\n",
       "    <tr>\n",
       "      <th>1000030581</th>\n",
       "      <td>25000.0</td>\n",
       "      <td>453.0</td>\n",
       "      <td>40</td>\n",
       "      <td>1</td>\n",
       "    </tr>\n",
       "    <tr>\n",
       "      <th>100004721</th>\n",
       "      <td>2500.0</td>\n",
       "      <td>0.0</td>\n",
       "      <td>0</td>\n",
       "      <td>1</td>\n",
       "    </tr>\n",
       "    <tr>\n",
       "      <th>100005484</th>\n",
       "      <td>12500.0</td>\n",
       "      <td>12700.0</td>\n",
       "      <td>100</td>\n",
       "      <td>1</td>\n",
       "    </tr>\n",
       "    <tr>\n",
       "      <th>1000055792</th>\n",
       "      <td>5000.0</td>\n",
       "      <td>0.0</td>\n",
       "      <td>0</td>\n",
       "      <td>1</td>\n",
       "    </tr>\n",
       "  </tbody>\n",
       "</table>\n",
       "</div>"
      ]
     },
     "execution_count": 64,
     "metadata": {},
     "output_type": "execute_result"
    }
   ],
   "execution_count": 64
  },
  {
   "metadata": {},
   "cell_type": "code",
   "outputs": [],
   "execution_count": null,
   "source": "",
   "id": "ef8f35d4dd89f881"
  },
  {
   "metadata": {},
   "cell_type": "markdown",
   "source": "",
   "id": "6a438f24e193bbe9"
  },
  {
   "metadata": {
    "ExecuteTime": {
     "end_time": "2025-03-25T14:51:40.267983Z",
     "start_time": "2025-03-25T14:51:36.833124Z"
    }
   },
   "cell_type": "code",
   "source": "data[(data['state'] == \"successful\" ) & (data.backers<1000)].groupby('backers').size().plot()",
   "id": "e0eaf92cba728966",
   "outputs": [
    {
     "data": {
      "text/plain": [
       "<Axes: xlabel='backers'>"
      ]
     },
     "execution_count": 67,
     "metadata": {},
     "output_type": "execute_result"
    },
    {
     "data": {
      "text/plain": [
       "<Figure size 640x480 with 1 Axes>"
      ],
      "image/png": "[encoded data removed]"
     },
     "metadata": {},
     "output_type": "display_data"
    }
   ],
   "execution_count": 67
  },
  {
   "metadata": {},
   "cell_type": "code",
   "outputs": [],
   "execution_count": null,
   "source": "",
   "id": "6768f9af25ed5958"
  },
  {
   "metadata": {},
   "cell_type": "markdown",
   "source": "## Analyse descriptive des variables qualitatives",
   "id": "3b97417d2451242a"
  },
  {
   "metadata": {},
   "cell_type": "markdown",
   "source": [
    "\n",
    "L'analyse des variables qualitatives est une étape importante dans la compréhension des données.  \n",
    "Elles sont souvent plus difficiles à manipuler et il est important d'observer leur relation avec les variables numériques.  \n",
    "Elles livrent souvent des informations précieuses sur l'interaction entre les variables dans le jeu de données.\n",
    "\n",
    "L'objectif de ce module est d'arriver à déterminer les modalités d'une variable qualitative et l'importance de chacune.  \n",
    "Ce module vous permettra également de vous familiariser avec des méthodes simples de gestion de données."
   ],
   "id": "5285e3753f68934b"
  },
  {
   "metadata": {},
   "cell_type": "code",
   "outputs": [],
   "execution_count": null,
   "source": "",
   "id": "fcccd3c4286a16a8"
  },
  {
   "metadata": {},
   "cell_type": "code",
   "outputs": [],
   "execution_count": null,
   "source": "",
   "id": "1fd7561fea9288a5"
  },
  {
   "metadata": {},
   "cell_type": "code",
   "outputs": [],
   "execution_count": null,
   "source": "",
   "id": "b6794ff19499f1a"
  },
  {
   "metadata": {},
   "cell_type": "code",
   "outputs": [],
   "execution_count": null,
   "source": "",
   "id": "434b3a6a1dc18a33"
  },
  {
   "metadata": {},
   "cell_type": "code",
   "outputs": [],
   "execution_count": null,
   "source": "",
   "id": "6f300258cebb56a2"
  },
  {
   "metadata": {},
   "cell_type": "code",
   "outputs": [],
   "execution_count": null,
   "source": "",
   "id": "3f78d1d16e63b498"
  },
  {
   "metadata": {},
   "cell_type": "code",
   "outputs": [],
   "execution_count": null,
   "source": "",
   "id": "5ea1fb5da5b7bcb1"
  },
  {
   "metadata": {},
   "cell_type": "code",
   "outputs": [],
   "execution_count": null,
   "source": "",
   "id": "6f83ba556d34b3c6"
  },
  {
   "metadata": {},
   "cell_type": "code",
   "outputs": [],
   "execution_count": null,
   "source": "",
   "id": "dea03e62430ecdad"
  },
  {
   "metadata": {},
   "cell_type": "code",
   "outputs": [],
   "execution_count": null,
   "source": "",
   "id": "ca66423ea88ccd68"
  },
  {
   "metadata": {},
   "cell_type": "code",
   "outputs": [],
   "execution_count": null,
   "source": "",
   "id": "261cf7bc084ea78"
  },
  {
   "metadata": {},
   "cell_type": "code",
   "outputs": [],
   "execution_count": null,
   "source": "",
   "id": "6c22db9aab854807"
  },
  {
   "metadata": {},
   "cell_type": "code",
   "outputs": [],
   "execution_count": null,
   "source": "",
   "id": "80b354724ab555b9"
  },
  {
   "metadata": {},
   "cell_type": "code",
   "outputs": [],
   "execution_count": null,
   "source": "",
   "id": "e5e5f6b94ebb3620"
  }
 ],
 "metadata": {
  "kernelspec": {
   "display_name": "Python 3",
   "language": "python",
   "name": "python3"
  },
  "language_info": {
   "codemirror_mode": {
    "name": "ipython",
    "version": 2
   },
   "file_extension": ".py",
   "mimetype": "text/x-python",
   "name": "python",
   "nbconvert_exporter": "python",
   "pygments_lexer": "ipython2",
   "version": "2.7.6"
  }
 },
 "nbformat": 4,
 "nbformat_minor": 5
}
