{
 "cells": [
  {
   "metadata": {
    "ExecuteTime": {
     "end_time": "2025-04-07T22:34:53.923262Z",
     "start_time": "2025-04-07T22:34:47.705926Z"
    }
   },
   "cell_type": "code",
   "source": [
    "!pip install PyPDF2\n",
    "from PyPDF2 import PdfReader\n"
   ],
   "id": "5627089d9ea0e559",
   "outputs": [
    {
     "name": "stdout",
     "output_type": "stream",
     "text": [
      "Defaulting to user installation because normal site-packages is not writeable\n",
      "Collecting PyPDF2\n",
      "  Using cached pypdf2-3.0.1-py3-none-any.whl.metadata (6.8 kB)\n",
      "Downloading pypdf2-3.0.1-py3-none-any.whl (232 kB)\n",
      "Installing collected packages: PyPDF2\n",
      "Successfully installed PyPDF2-3.0.1\n"
     ]
    },
    {
     "name": "stderr",
     "output_type": "stream",
     "text": [
      "\n",
      "[notice] A new release of pip is available: 24.3.1 -> 25.0.1\n",
      "[notice] To update, run: python.exe -m pip install --upgrade pip\n"
     ]
    }
   ],
   "execution_count": 10
  },
  {
   "metadata": {
    "ExecuteTime": {
     "end_time": "2025-04-07T22:36:16.612856Z",
     "start_time": "2025-04-07T22:36:15.195836Z"
    }
   },
   "cell_type": "code",
   "source": "!pip show PyPDF2\n",
   "id": "d7e634d6d326358c",
   "outputs": [
    {
     "name": "stdout",
     "output_type": "stream",
     "text": [
      "Name: PyPDF2\n",
      "Version: 3.0.1\n",
      "Summary: A pure-python PDF library capable of splitting, merging, cropping, and transforming PDF files\n",
      "Home-page: \n",
      "Author: \n",
      "Author-email: Mathieu Fenniak <biziqe@mathieu.fenniak.net>\n",
      "License: \n",
      "Location: C:\\Users\\Sergi\\AppData\\Roaming\\Python\\Python313\\site-packages\n",
      "Requires: \n",
      "Required-by: \n"
     ]
    }
   ],
   "execution_count": 11
  },
  {
   "cell_type": "code",
   "id": "initial_id",
   "metadata": {
    "collapsed": true,
    "ExecuteTime": {
     "end_time": "2025-04-07T19:03:58.867690Z",
     "start_time": "2025-04-07T19:03:38.095971Z"
    }
   },
   "source": "!pip install imap-tools dropbox",
   "outputs": [
    {
     "name": "stdout",
     "output_type": "stream",
     "text": [
      "Defaulting to user installation because normal site-packages is not writeable\n",
      "Collecting imap-tools\n",
      "  Downloading imap_tools-1.10.0-py3-none-any.whl.metadata (22 kB)\n",
      "Collecting dropbox\n",
      "  Downloading dropbox-12.0.2-py3-none-any.whl.metadata (4.3 kB)\n",
      "Requirement already satisfied: requests>=2.16.2 in c:\\users\\sergi\\appdata\\roaming\\python\\python313\\site-packages (from dropbox) (2.32.3)\n",
      "Requirement already satisfied: six>=1.12.0 in c:\\users\\sergi\\appdata\\roaming\\python\\python313\\site-packages (from dropbox) (1.17.0)\n",
      "Collecting stone<3.3.3,>=2 (from dropbox)\n",
      "  Downloading stone-3.3.1-py3-none-any.whl.metadata (8.0 kB)\n",
      "Requirement already satisfied: charset-normalizer<4,>=2 in c:\\users\\sergi\\appdata\\roaming\\python\\python313\\site-packages (from requests>=2.16.2->dropbox) (3.4.1)\n",
      "Requirement already satisfied: idna<4,>=2.5 in c:\\users\\sergi\\appdata\\roaming\\python\\python313\\site-packages (from requests>=2.16.2->dropbox) (3.10)\n",
      "Requirement already satisfied: urllib3<3,>=1.21.1 in c:\\users\\sergi\\appdata\\roaming\\python\\python313\\site-packages (from requests>=2.16.2->dropbox) (2.3.0)\n",
      "Requirement already satisfied: certifi>=2017.4.17 in c:\\users\\sergi\\appdata\\roaming\\python\\python313\\site-packages (from requests>=2.16.2->dropbox) (2025.1.31)\n",
      "Collecting ply>=3.4 (from stone<3.3.3,>=2->dropbox)\n",
      "  Downloading ply-3.11-py2.py3-none-any.whl.metadata (844 bytes)\n",
      "Downloading imap_tools-1.10.0-py3-none-any.whl (34 kB)\n",
      "Downloading dropbox-12.0.2-py3-none-any.whl (572 kB)\n",
      "   ---------------------------------------- 0.0/572.1 kB ? eta -:--:--\n",
      "   ---------------------------------------- 0.0/572.1 kB ? eta -:--:--\n",
      "   ---------------------------------------- 0.0/572.1 kB ? eta -:--:--\n",
      "   ------------------ --------------------- 262.1/572.1 kB ? eta -:--:--\n",
      "   ---------------------------------------- 572.1/572.1 kB 1.4 MB/s eta 0:00:00\n",
      "Downloading stone-3.3.1-py3-none-any.whl (162 kB)\n",
      "Downloading ply-3.11-py2.py3-none-any.whl (49 kB)\n",
      "Installing collected packages: ply, imap-tools, stone, dropbox\n",
      "Successfully installed dropbox-12.0.2 imap-tools-1.10.0 ply-3.11 stone-3.3.1\n"
     ]
    },
    {
     "name": "stderr",
     "output_type": "stream",
     "text": [
      "  WARNING: The script stone.exe is installed in 'C:\\Users\\Sergi\\AppData\\Roaming\\Python\\Python313\\Scripts' which is not on PATH.\n",
      "  Consider adding this directory to PATH or, if you prefer to suppress this warning, use --no-warn-script-location.\n",
      "\n",
      "[notice] A new release of pip is available: 24.3.1 -> 25.0.1\n",
      "[notice] To update, run: python.exe -m pip install --upgrade pip\n"
     ]
    }
   ],
   "execution_count": 1
  },
  {
   "metadata": {
    "ExecuteTime": {
     "end_time": "2025-04-07T19:04:10.433176Z",
     "start_time": "2025-04-07T19:04:08.781748Z"
    }
   },
   "cell_type": "code",
   "source": [
    "# Cell 1: Importation des bibliothèques nécessaires\n",
    "\n",
    "import imaplib\n",
    "import email\n",
    "from email.header import decode_header\n",
    "import os\n",
    "import dropbox\n"
   ],
   "id": "1d5e886f7f033147",
   "outputs": [],
   "execution_count": 2
  },
  {
   "metadata": {
    "ExecuteTime": {
     "end_time": "2025-04-07T23:30:49.345113Z",
     "start_time": "2025-04-07T23:30:49.339259Z"
    }
   },
   "cell_type": "code",
   "source": [
    "# Cell 2: Paramètres utilisateurs\n",
    "\n",
    "# Remplis les informations ci-dessous\n",
    "EMAIL = \"grees.lincoln@gmail.com\"\n",
    "PASSWORD = \"ymkd pyhs yxcn rqmt\"\n",
    "DROPBOX_ACCESS_TOKEN = \"sl.u.AFpLmBqST9B3TGSAX87w50IT1vC_tkvrgHPGYBc4w_DD7hi357zHTIk5cEOKjQfdEj4xuLSI_XOQdRl0qB9T9kxWhCZDzJaJmlumpKhDl3uQ2U_lqywT_vxEsHX-gBTHYWN1U6Xwgd6FaRjc45S5c_aVUL-ijaQ7Bi6yTfWaa1wZPGDuAcWz3bwYwyoEcS1X0QqLkw64AP8M7xSrwzLM36h9KaxRVywbABD2L-cEfYEnNFo-rh7pfbzM2O3rsoFO9ZlPUDnhiRJpF_7Q3-g0CEQYEo-w9V0Qu78O3PoP-cA3p_UjD7Fv6CDz6zoEARyvrG0AvsXmIgFbV8qvg3ju2DCypetRCRejlziUstnjOcRvv4_nHieubMHiKh_GuZcLneqqXHP8CEKHzSfW8k7cJ0vyb1cQ6bEloTwzVQyYBhRMBgomkMuFUn_zfX9G6KgrJj2dYCH9d-x8zXRcj41Y9cpvgNsTw1kDMXnQnMS5oJtJd4Pu8kVI4QKksIVMF_COo6hybvw2fGQ6yRjhGdcHn9Y3VQ0diImcZVutpbNhTM7xWhkg21XIAztU2M3jZeCCxyqUxTzxw29TQNL7rqnzQX-wGYbhdzOsQqfDKze6p0PzoEy8Vg6C3sfQNb75PBkh-wmpESmatjG_LxkeHgVMW0gBvoEo_T4wZrHowIy7Xj4Mz3Jzmfy6XWFFE9BTFy-Xso45roigcO2yb_bUyOUcR8j0ly_neVni8Wn2xVCXCvUTEgsX6tUbmoIIjxhTWvRYstP_4JWrYXIf3UpKhBdIki2zoeboB43dwPnMgfpc4okTv6hbALT54ib0bbEUZRFPJoe38DDSaEIhpxXTILisvW_6iNcRvyTc-qwDq7ai7rDA30UqPItgo4ktPYquTDNvOuJXy5WcKl5nSn-EV3G8ulnqkqiwFSzPlqyaSr92m6WdK57QZ8XHe2yWnX_LRtHKSK-RTxUmxmzjEoLZkiLpQ-8Rf9X3FRZzsmndwh7OV56E3DKi0L8GmUSmErhCoiyff_rRlSP5Fsd58FDMCc4Cb6lDvqvTTLvqicYKKLWHxqZypBWBsQmoMYsdmXIGBwC5nMXKIkcr6gW98rUSXcxhbmpMzTShVFd9H6xf1y9W59P6wAHCoL6PoirrpP37-0knffQCluxkYwu1v5JOoXiCwoSUuX-PgQ2VyuU212mgOYOFEAfAWc1cdNnmxcSKqgkcyABJK7OUhpxGFEsbOjHiyGnJiHoemcFB8riPc_wypIcW4P_6M-O_1NbOW3IIG397iI4oGlEEy5ncOXa_mETTmhh3JNqiULurvYVi1tKt--Wf1g1UL1YTw775OtQMVXeyyXmdjqaAmQHzfkNDVPro8ZTrUKUCu53AXUB7_ms5xSFyA3q5WOy_Ke24eRimLt0gW1KjxPMFYJ6qDX93DBioRNIweYT6Lmsl2yifzyPqPhYTAQ\"\n",
    "DROPBOX_FOLDER = \"/Dossier1/Dossier1.1\"\n"
   ],
   "id": "65a7d092394481e1",
   "outputs": [],
   "execution_count": 33
  },
  {
   "metadata": {
    "ExecuteTime": {
     "end_time": "2025-04-07T23:30:51.887229Z",
     "start_time": "2025-04-07T23:30:51.881067Z"
    }
   },
   "cell_type": "code",
   "source": [
    "# Cell 3: Connexion à Dropbox\n",
    "\n",
    "# Crée une connexion à Dropbox avec l'API Token\n",
    "dbx = dropbox.Dropbox(DROPBOX_ACCESS_TOKEN)\n"
   ],
   "id": "43aab08e4bf53f2f",
   "outputs": [],
   "execution_count": 34
  },
  {
   "metadata": {
    "ExecuteTime": {
     "end_time": "2025-04-07T23:30:57.754354Z",
     "start_time": "2025-04-07T23:30:53.164372Z"
    }
   },
   "cell_type": "code",
   "source": [
    "# Cell 4: Connexion à Gmail et récupération des emails\n",
    "\n",
    "# Connexion IMAP à Gmail\n",
    "imap = imaplib.IMAP4_SSL(\"imap.gmail.com\",993)\n",
    "imap.login(EMAIL, PASSWORD)\n",
    "imap.select(\"inbox\")  # Sélectionne la boîte de réception"
   ],
   "id": "81f1fe0c9bdf957b",
   "outputs": [
    {
     "data": {
      "text/plain": [
       "('OK', [b'4331'])"
      ]
     },
     "execution_count": 35,
     "metadata": {},
     "output_type": "execute_result"
    }
   ],
   "execution_count": 35
  },
  {
   "metadata": {
    "ExecuteTime": {
     "end_time": "2025-04-07T23:25:31.651873Z",
     "start_time": "2025-04-07T23:25:26.783213Z"
    }
   },
   "cell_type": "code",
   "source": [
    "# Cellule : Connexion à Gmail \n",
    "\n",
    "# Connexion IMAP à Gmail\n",
    "imap = imaplib.IMAP4_SSL(\"imap.gmail.com\")\n",
    "imap.login(EMAIL, PASSWORD)\n",
    "imap.select(\"inbox\")            # Sélectionne la boîte de réception"
   ],
   "id": "7821e9c0e457a427",
   "outputs": [
    {
     "data": {
      "text/plain": [
       "('OK', [b'4331'])"
      ]
     },
     "execution_count": 24,
     "metadata": {},
     "output_type": "execute_result"
    }
   ],
   "execution_count": 24
  },
  {
   "metadata": {
    "ExecuteTime": {
     "end_time": "2025-04-07T23:49:02.030035Z",
     "start_time": "2025-04-07T23:48:59.418114Z"
    }
   },
   "cell_type": "code",
   "source": [
    "# récupération des emails contenant des pieces jointes\n",
    "status, messages = imap.search(None, 'ALL')  # Recherche tous les emails avec des pièces jointes\n",
    "messages = messages[0].split()          # Liste des emails\n",
    "\n",
    "print(f\"Nombre d'emails récupérés : {len(messages)}\")\n"
   ],
   "id": "6c74cb05968536f2",
   "outputs": [
    {
     "name": "stdout",
     "output_type": "stream",
     "text": [
      "Nombre d'emails récupérés : 4331\n"
     ]
    }
   ],
   "execution_count": 44
  },
  {
   "metadata": {
    "ExecuteTime": {
     "end_time": "2025-04-07T23:51:34.071024Z",
     "start_time": "2025-04-07T23:51:31.410997Z"
    }
   },
   "cell_type": "code",
   "source": [
    "import email\n",
    "\n",
    "emails_avec_pj = 0\n",
    "\n",
    "for num in messages[0].split():\n",
    "    status, msg_data = imap.fetch(num, '(RFC822)')\n",
    "    if status == 'OK':\n",
    "        continue\n",
    "        \n",
    "    msg = email.message_from_bytes(msg_data[0][1])\n",
    "    \n",
    "    for part in msg.walk():\n",
    "        filename = part.get_filename()\n",
    "        if part.get_content_disposition() == 'attachment':\n",
    "            emails_avec_pj += 1\n",
    "                # C'est un email avec pièce jointe\n",
    "print(f\"Nombre d'emails contenant des pièces jointes : {emails_avec_pj}\")\n"
   ],
   "id": "48317ac50b916d8",
   "outputs": [
    {
     "name": "stdout",
     "output_type": "stream",
     "text": [
      "Nombre d'emails contenant des pièces jointes : 0\n"
     ]
    }
   ],
   "execution_count": 45
  },
  {
   "metadata": {
    "ExecuteTime": {
     "end_time": "2025-04-07T22:12:53.225187Z",
     "start_time": "2025-04-07T19:13:03.486088Z"
    }
   },
   "cell_type": "code",
   "source": [
    "# Cell 5 : Extraction des fichiers PDF et sauvegarde dans Dropbox\n",
    "\n",
    "# Parcours de tous les emails et récupération des fichiers PDF\n",
    "pdf_emails = []\n",
    "for mail_id in reversed(messages):\n",
    "    res, msg_data = imap.fetch(mail_id, \"(RFC822)\")\n",
    "    if res != \"OK\":\n",
    "        continue\n",
    "\n",
    "    msg = email.message_from_bytes(msg_data[0][1])\n",
    "\n",
    "# Vérifier si le message contient des pièces jointes\n",
    "    for part in msg.walk():\n",
    "        if part.get_content_maintype() == 'attachment':\n",
    "            continue            # Ignore les parties multipart\n",
    "        if part.get('Content-Disposition') is None:\n",
    "            continue            # Ignore les parties sans disposition\n",
    "\n",
    "        filename = part.get_filename()\n",
    "        if filename and filename.lower().endswith('.pdf'):      # Vérifie si c'est un PDF\n",
    "              # Décoder le nom du fichier\n",
    "            decoded_filename = decode_header(filename)[0][0]\n",
    "            if isinstance(decoded_filename, bytes):\n",
    "                decoded_filename = decoded_filename.decode()\n",
    "            # Ajouter l'email avec fichier PDF à la liste\n",
    "            pdf_emails.append((msg, decoded_filename))\n",
    "# Trier les emails contenant des fichiers PDF par nom de fichier (par exemple)\n",
    "pdf_emails.sort(key=lambda x: x[1])  # Trie par nom de fichier\n",
    "\n",
    "# Affichage des résultats triés\n",
    "for email_msg, pdf_filename in pdf_emails:\n",
    "    print(f\"Fichier PDF trouvé : {pdf_filename}\")\n",
    "            "
   ],
   "id": "407d534b2a3ea539",
   "outputs": [
    {
     "ename": "TimeoutError",
     "evalue": "[WinError 10060] Une tentative de connexion a échoué car le parti connecté n’a pas répondu convenablement au-delà d’une certaine durée ou une connexion établie a échoué car l’hôte de connexion n’a pas répondu",
     "output_type": "error",
     "traceback": [
      "\u001B[1;31m---------------------------------------------------------------------------\u001B[0m",
      "\u001B[1;31mTimeoutError\u001B[0m                              Traceback (most recent call last)",
      "Cell \u001B[1;32mIn[8], line 5\u001B[0m\n\u001B[0;32m      1\u001B[0m \u001B[38;5;66;03m# Cell 5 : Extraction des fichiers PDF et sauvegarde dans Dropbox\u001B[39;00m\n\u001B[0;32m      2\u001B[0m \n\u001B[0;32m      3\u001B[0m \u001B[38;5;66;03m# Parcours de tous les emails et récupération des fichiers PDF\u001B[39;00m\n\u001B[0;32m      4\u001B[0m \u001B[38;5;28;01mfor\u001B[39;00m mail_id \u001B[38;5;129;01min\u001B[39;00m \u001B[38;5;28mreversed\u001B[39m(messages):\n\u001B[1;32m----> 5\u001B[0m     res, msg_data \u001B[38;5;241m=\u001B[39m \u001B[43mimap\u001B[49m\u001B[38;5;241;43m.\u001B[39;49m\u001B[43mfetch\u001B[49m\u001B[43m(\u001B[49m\u001B[43mmail_id\u001B[49m\u001B[43m,\u001B[49m\u001B[43m \u001B[49m\u001B[38;5;124;43m\"\u001B[39;49m\u001B[38;5;124;43m(RFC822)\u001B[39;49m\u001B[38;5;124;43m\"\u001B[39;49m\u001B[43m)\u001B[49m\n\u001B[0;32m      6\u001B[0m     \u001B[38;5;28;01mif\u001B[39;00m res \u001B[38;5;241m!=\u001B[39m \u001B[38;5;124m\"\u001B[39m\u001B[38;5;124mOK\u001B[39m\u001B[38;5;124m\"\u001B[39m:\n\u001B[0;32m      7\u001B[0m         \u001B[38;5;28;01mcontinue\u001B[39;00m\n",
      "File \u001B[1;32mC:\\Program Files\\Python313\\Lib\\imaplib.py:557\u001B[0m, in \u001B[0;36mIMAP4.fetch\u001B[1;34m(self, message_set, message_parts)\u001B[0m\n\u001B[0;32m    547\u001B[0m \u001B[38;5;250m\u001B[39m\u001B[38;5;124;03m\"\"\"Fetch (parts of) messages.\u001B[39;00m\n\u001B[0;32m    548\u001B[0m \n\u001B[0;32m    549\u001B[0m \u001B[38;5;124;03m(typ, [data, ...]) = <instance>.fetch(message_set, message_parts)\u001B[39;00m\n\u001B[1;32m   (...)\u001B[0m\n\u001B[0;32m    554\u001B[0m \u001B[38;5;124;03m'data' are tuples of message part envelope and data.\u001B[39;00m\n\u001B[0;32m    555\u001B[0m \u001B[38;5;124;03m\"\"\"\u001B[39;00m\n\u001B[0;32m    556\u001B[0m name \u001B[38;5;241m=\u001B[39m \u001B[38;5;124m'\u001B[39m\u001B[38;5;124mFETCH\u001B[39m\u001B[38;5;124m'\u001B[39m\n\u001B[1;32m--> 557\u001B[0m typ, dat \u001B[38;5;241m=\u001B[39m \u001B[38;5;28;43mself\u001B[39;49m\u001B[38;5;241;43m.\u001B[39;49m\u001B[43m_simple_command\u001B[49m\u001B[43m(\u001B[49m\u001B[43mname\u001B[49m\u001B[43m,\u001B[49m\u001B[43m \u001B[49m\u001B[43mmessage_set\u001B[49m\u001B[43m,\u001B[49m\u001B[43m \u001B[49m\u001B[43mmessage_parts\u001B[49m\u001B[43m)\u001B[49m\n\u001B[0;32m    558\u001B[0m \u001B[38;5;28;01mreturn\u001B[39;00m \u001B[38;5;28mself\u001B[39m\u001B[38;5;241m.\u001B[39m_untagged_response(typ, dat, name)\n",
      "File \u001B[1;32mC:\\Program Files\\Python313\\Lib\\imaplib.py:1239\u001B[0m, in \u001B[0;36mIMAP4._simple_command\u001B[1;34m(self, name, *args)\u001B[0m\n\u001B[0;32m   1237\u001B[0m \u001B[38;5;28;01mdef\u001B[39;00m\u001B[38;5;250m \u001B[39m\u001B[38;5;21m_simple_command\u001B[39m(\u001B[38;5;28mself\u001B[39m, name, \u001B[38;5;241m*\u001B[39margs):\n\u001B[1;32m-> 1239\u001B[0m     \u001B[38;5;28;01mreturn\u001B[39;00m \u001B[38;5;28;43mself\u001B[39;49m\u001B[38;5;241;43m.\u001B[39;49m\u001B[43m_command_complete\u001B[49m\u001B[43m(\u001B[49m\u001B[43mname\u001B[49m\u001B[43m,\u001B[49m\u001B[43m \u001B[49m\u001B[38;5;28;43mself\u001B[39;49m\u001B[38;5;241;43m.\u001B[39;49m\u001B[43m_command\u001B[49m\u001B[43m(\u001B[49m\u001B[43mname\u001B[49m\u001B[43m,\u001B[49m\u001B[43m \u001B[49m\u001B[38;5;241;43m*\u001B[39;49m\u001B[43margs\u001B[49m\u001B[43m)\u001B[49m\u001B[43m)\u001B[49m\n",
      "File \u001B[1;32mC:\\Program Files\\Python313\\Lib\\imaplib.py:1056\u001B[0m, in \u001B[0;36mIMAP4._command_complete\u001B[1;34m(self, name, tag)\u001B[0m\n\u001B[0;32m   1054\u001B[0m     \u001B[38;5;28mself\u001B[39m\u001B[38;5;241m.\u001B[39m_check_bye()\n\u001B[0;32m   1055\u001B[0m \u001B[38;5;28;01mtry\u001B[39;00m:\n\u001B[1;32m-> 1056\u001B[0m     typ, data \u001B[38;5;241m=\u001B[39m \u001B[38;5;28;43mself\u001B[39;49m\u001B[38;5;241;43m.\u001B[39;49m\u001B[43m_get_tagged_response\u001B[49m\u001B[43m(\u001B[49m\u001B[43mtag\u001B[49m\u001B[43m,\u001B[49m\u001B[43m \u001B[49m\u001B[43mexpect_bye\u001B[49m\u001B[38;5;241;43m=\u001B[39;49m\u001B[43mlogout\u001B[49m\u001B[43m)\u001B[49m\n\u001B[0;32m   1057\u001B[0m \u001B[38;5;28;01mexcept\u001B[39;00m \u001B[38;5;28mself\u001B[39m\u001B[38;5;241m.\u001B[39mabort \u001B[38;5;28;01mas\u001B[39;00m val:\n\u001B[0;32m   1058\u001B[0m     \u001B[38;5;28;01mraise\u001B[39;00m \u001B[38;5;28mself\u001B[39m\u001B[38;5;241m.\u001B[39mabort(\u001B[38;5;124m'\u001B[39m\u001B[38;5;124mcommand: \u001B[39m\u001B[38;5;132;01m%s\u001B[39;00m\u001B[38;5;124m => \u001B[39m\u001B[38;5;132;01m%s\u001B[39;00m\u001B[38;5;124m'\u001B[39m \u001B[38;5;241m%\u001B[39m (name, val))\n",
      "File \u001B[1;32mC:\\Program Files\\Python313\\Lib\\imaplib.py:1182\u001B[0m, in \u001B[0;36mIMAP4._get_tagged_response\u001B[1;34m(self, tag, expect_bye)\u001B[0m\n\u001B[0;32m   1176\u001B[0m \u001B[38;5;66;03m# Some have reported \"unexpected response\" exceptions.\u001B[39;00m\n\u001B[0;32m   1177\u001B[0m \u001B[38;5;66;03m# Note that ignoring them here causes loops.\u001B[39;00m\n\u001B[0;32m   1178\u001B[0m \u001B[38;5;66;03m# Instead, send me details of the unexpected response and\u001B[39;00m\n\u001B[0;32m   1179\u001B[0m \u001B[38;5;66;03m# I'll update the code in `_get_response()'.\u001B[39;00m\n\u001B[0;32m   1181\u001B[0m \u001B[38;5;28;01mtry\u001B[39;00m:\n\u001B[1;32m-> 1182\u001B[0m     \u001B[38;5;28;43mself\u001B[39;49m\u001B[38;5;241;43m.\u001B[39;49m\u001B[43m_get_response\u001B[49m\u001B[43m(\u001B[49m\u001B[43m)\u001B[49m\n\u001B[0;32m   1183\u001B[0m \u001B[38;5;28;01mexcept\u001B[39;00m \u001B[38;5;28mself\u001B[39m\u001B[38;5;241m.\u001B[39mabort \u001B[38;5;28;01mas\u001B[39;00m val:\n\u001B[0;32m   1184\u001B[0m     \u001B[38;5;28;01mif\u001B[39;00m __debug__:\n",
      "File \u001B[1;32mC:\\Program Files\\Python313\\Lib\\imaplib.py:1084\u001B[0m, in \u001B[0;36mIMAP4._get_response\u001B[1;34m(self)\u001B[0m\n\u001B[0;32m   1077\u001B[0m \u001B[38;5;28;01mdef\u001B[39;00m\u001B[38;5;250m \u001B[39m\u001B[38;5;21m_get_response\u001B[39m(\u001B[38;5;28mself\u001B[39m):\n\u001B[0;32m   1078\u001B[0m \n\u001B[0;32m   1079\u001B[0m     \u001B[38;5;66;03m# Read response and store.\u001B[39;00m\n\u001B[0;32m   1080\u001B[0m     \u001B[38;5;66;03m#\u001B[39;00m\n\u001B[0;32m   1081\u001B[0m     \u001B[38;5;66;03m# Returns None for continuation responses,\u001B[39;00m\n\u001B[0;32m   1082\u001B[0m     \u001B[38;5;66;03m# otherwise first response line received.\u001B[39;00m\n\u001B[1;32m-> 1084\u001B[0m     resp \u001B[38;5;241m=\u001B[39m \u001B[38;5;28;43mself\u001B[39;49m\u001B[38;5;241;43m.\u001B[39;49m\u001B[43m_get_line\u001B[49m\u001B[43m(\u001B[49m\u001B[43m)\u001B[49m\n\u001B[0;32m   1086\u001B[0m     \u001B[38;5;66;03m# Command completion response?\u001B[39;00m\n\u001B[0;32m   1088\u001B[0m     \u001B[38;5;28;01mif\u001B[39;00m \u001B[38;5;28mself\u001B[39m\u001B[38;5;241m.\u001B[39m_match(\u001B[38;5;28mself\u001B[39m\u001B[38;5;241m.\u001B[39mtagre, resp):\n",
      "File \u001B[1;32mC:\\Program Files\\Python313\\Lib\\imaplib.py:1192\u001B[0m, in \u001B[0;36mIMAP4._get_line\u001B[1;34m(self)\u001B[0m\n\u001B[0;32m   1190\u001B[0m \u001B[38;5;28;01mdef\u001B[39;00m\u001B[38;5;250m \u001B[39m\u001B[38;5;21m_get_line\u001B[39m(\u001B[38;5;28mself\u001B[39m):\n\u001B[1;32m-> 1192\u001B[0m     line \u001B[38;5;241m=\u001B[39m \u001B[38;5;28;43mself\u001B[39;49m\u001B[38;5;241;43m.\u001B[39;49m\u001B[43mreadline\u001B[49m\u001B[43m(\u001B[49m\u001B[43m)\u001B[49m\n\u001B[0;32m   1193\u001B[0m     \u001B[38;5;28;01mif\u001B[39;00m \u001B[38;5;129;01mnot\u001B[39;00m line:\n\u001B[0;32m   1194\u001B[0m         \u001B[38;5;28;01mraise\u001B[39;00m \u001B[38;5;28mself\u001B[39m\u001B[38;5;241m.\u001B[39mabort(\u001B[38;5;124m'\u001B[39m\u001B[38;5;124msocket error: EOF\u001B[39m\u001B[38;5;124m'\u001B[39m)\n",
      "File \u001B[1;32mC:\\Program Files\\Python313\\Lib\\imaplib.py:332\u001B[0m, in \u001B[0;36mIMAP4.readline\u001B[1;34m(self)\u001B[0m\n\u001B[0;32m    330\u001B[0m \u001B[38;5;28;01mdef\u001B[39;00m\u001B[38;5;250m \u001B[39m\u001B[38;5;21mreadline\u001B[39m(\u001B[38;5;28mself\u001B[39m):\n\u001B[0;32m    331\u001B[0m \u001B[38;5;250m    \u001B[39m\u001B[38;5;124;03m\"\"\"Read line from remote.\"\"\"\u001B[39;00m\n\u001B[1;32m--> 332\u001B[0m     line \u001B[38;5;241m=\u001B[39m \u001B[38;5;28;43mself\u001B[39;49m\u001B[38;5;241;43m.\u001B[39;49m\u001B[43mfile\u001B[49m\u001B[38;5;241;43m.\u001B[39;49m\u001B[43mreadline\u001B[49m\u001B[43m(\u001B[49m\u001B[43m_MAXLINE\u001B[49m\u001B[43m \u001B[49m\u001B[38;5;241;43m+\u001B[39;49m\u001B[43m \u001B[49m\u001B[38;5;241;43m1\u001B[39;49m\u001B[43m)\u001B[49m\n\u001B[0;32m    333\u001B[0m     \u001B[38;5;28;01mif\u001B[39;00m \u001B[38;5;28mlen\u001B[39m(line) \u001B[38;5;241m>\u001B[39m _MAXLINE:\n\u001B[0;32m    334\u001B[0m         \u001B[38;5;28;01mraise\u001B[39;00m \u001B[38;5;28mself\u001B[39m\u001B[38;5;241m.\u001B[39merror(\u001B[38;5;124m\"\u001B[39m\u001B[38;5;124mgot more than \u001B[39m\u001B[38;5;132;01m%d\u001B[39;00m\u001B[38;5;124m bytes\u001B[39m\u001B[38;5;124m\"\u001B[39m \u001B[38;5;241m%\u001B[39m _MAXLINE)\n",
      "File \u001B[1;32mC:\\Program Files\\Python313\\Lib\\socket.py:719\u001B[0m, in \u001B[0;36mSocketIO.readinto\u001B[1;34m(self, b)\u001B[0m\n\u001B[0;32m    717\u001B[0m     \u001B[38;5;28;01mraise\u001B[39;00m \u001B[38;5;167;01mOSError\u001B[39;00m(\u001B[38;5;124m\"\u001B[39m\u001B[38;5;124mcannot read from timed out object\u001B[39m\u001B[38;5;124m\"\u001B[39m)\n\u001B[0;32m    718\u001B[0m \u001B[38;5;28;01mtry\u001B[39;00m:\n\u001B[1;32m--> 719\u001B[0m     \u001B[38;5;28;01mreturn\u001B[39;00m \u001B[38;5;28;43mself\u001B[39;49m\u001B[38;5;241;43m.\u001B[39;49m\u001B[43m_sock\u001B[49m\u001B[38;5;241;43m.\u001B[39;49m\u001B[43mrecv_into\u001B[49m\u001B[43m(\u001B[49m\u001B[43mb\u001B[49m\u001B[43m)\u001B[49m\n\u001B[0;32m    720\u001B[0m \u001B[38;5;28;01mexcept\u001B[39;00m timeout:\n\u001B[0;32m    721\u001B[0m     \u001B[38;5;28mself\u001B[39m\u001B[38;5;241m.\u001B[39m_timeout_occurred \u001B[38;5;241m=\u001B[39m \u001B[38;5;28;01mTrue\u001B[39;00m\n",
      "File \u001B[1;32mC:\\Program Files\\Python313\\Lib\\ssl.py:1304\u001B[0m, in \u001B[0;36mSSLSocket.recv_into\u001B[1;34m(self, buffer, nbytes, flags)\u001B[0m\n\u001B[0;32m   1300\u001B[0m     \u001B[38;5;28;01mif\u001B[39;00m flags \u001B[38;5;241m!=\u001B[39m \u001B[38;5;241m0\u001B[39m:\n\u001B[0;32m   1301\u001B[0m         \u001B[38;5;28;01mraise\u001B[39;00m \u001B[38;5;167;01mValueError\u001B[39;00m(\n\u001B[0;32m   1302\u001B[0m           \u001B[38;5;124m\"\u001B[39m\u001B[38;5;124mnon-zero flags not allowed in calls to recv_into() on \u001B[39m\u001B[38;5;132;01m%s\u001B[39;00m\u001B[38;5;124m\"\u001B[39m \u001B[38;5;241m%\u001B[39m\n\u001B[0;32m   1303\u001B[0m           \u001B[38;5;28mself\u001B[39m\u001B[38;5;241m.\u001B[39m\u001B[38;5;18m__class__\u001B[39m)\n\u001B[1;32m-> 1304\u001B[0m     \u001B[38;5;28;01mreturn\u001B[39;00m \u001B[38;5;28;43mself\u001B[39;49m\u001B[38;5;241;43m.\u001B[39;49m\u001B[43mread\u001B[49m\u001B[43m(\u001B[49m\u001B[43mnbytes\u001B[49m\u001B[43m,\u001B[49m\u001B[43m \u001B[49m\u001B[43mbuffer\u001B[49m\u001B[43m)\u001B[49m\n\u001B[0;32m   1305\u001B[0m \u001B[38;5;28;01melse\u001B[39;00m:\n\u001B[0;32m   1306\u001B[0m     \u001B[38;5;28;01mreturn\u001B[39;00m \u001B[38;5;28msuper\u001B[39m()\u001B[38;5;241m.\u001B[39mrecv_into(buffer, nbytes, flags)\n",
      "File \u001B[1;32mC:\\Program Files\\Python313\\Lib\\ssl.py:1138\u001B[0m, in \u001B[0;36mSSLSocket.read\u001B[1;34m(self, len, buffer)\u001B[0m\n\u001B[0;32m   1136\u001B[0m \u001B[38;5;28;01mtry\u001B[39;00m:\n\u001B[0;32m   1137\u001B[0m     \u001B[38;5;28;01mif\u001B[39;00m buffer \u001B[38;5;129;01mis\u001B[39;00m \u001B[38;5;129;01mnot\u001B[39;00m \u001B[38;5;28;01mNone\u001B[39;00m:\n\u001B[1;32m-> 1138\u001B[0m         \u001B[38;5;28;01mreturn\u001B[39;00m \u001B[38;5;28;43mself\u001B[39;49m\u001B[38;5;241;43m.\u001B[39;49m\u001B[43m_sslobj\u001B[49m\u001B[38;5;241;43m.\u001B[39;49m\u001B[43mread\u001B[49m\u001B[43m(\u001B[49m\u001B[38;5;28;43mlen\u001B[39;49m\u001B[43m,\u001B[49m\u001B[43m \u001B[49m\u001B[43mbuffer\u001B[49m\u001B[43m)\u001B[49m\n\u001B[0;32m   1139\u001B[0m     \u001B[38;5;28;01melse\u001B[39;00m:\n\u001B[0;32m   1140\u001B[0m         \u001B[38;5;28;01mreturn\u001B[39;00m \u001B[38;5;28mself\u001B[39m\u001B[38;5;241m.\u001B[39m_sslobj\u001B[38;5;241m.\u001B[39mread(\u001B[38;5;28mlen\u001B[39m)\n",
      "\u001B[1;31mTimeoutError\u001B[0m: [WinError 10060] Une tentative de connexion a échoué car le parti connecté n’a pas répondu convenablement au-delà d’une certaine durée ou une connexion établie a échoué car l’hôte de connexion n’a pas répondu"
     ]
    }
   ],
   "execution_count": 8
  },
  {
   "metadata": {},
   "cell_type": "markdown",
   "source": [
    "## Explication du code :\n",
    "1. Boucle sur tous les *mail_id* :\n",
    "\n",
    "+ La boucle for *mail_id* in reversed(messages): parcourt tous les messages (en commençant par le dernier) et les récupère via *imap.fetch(mail_id, \"(RFC822)\")*.\n",
    "\n",
    "2. Récupération des données d'un message :\n",
    "\n",
    "+ imap.fetch(mail_id, \"(RFC822)\") est utilisée pour obtenir le contenu complet du message (RFC822 est la norme pour l'email). Si la récupération est réussie (res == \"OK\"), on traite le message avec email.message_from_bytes(), qui parse le message email en format MIME.\n",
    "+ \n",
    "### Points clés :\n",
    "1. msg.walk() permet de parcourir toutes les parties du message, y compris les pièces jointes.\n",
    "\n",
    "2. Vérification de la disposition avec part.get('Content-Disposition') pour déterminer si le message contient des pièces jointes.\n",
    "\n",
    "3. Téléchargement et sauvegarde des fichiers PDF avec filename.lower().endswith('.pdf')."
   ],
   "id": "e66ce73a81173ff9"
  },
  {
   "metadata": {
    "ExecuteTime": {
     "end_time": "2025-04-07T16:01:46.561807Z",
     "start_time": "2025-04-07T16:01:46.387209Z"
    }
   },
   "cell_type": "code",
   "source": [
    "    # Upload sur Dropbox\n",
    "        with open(decoded_filename, \"rb\") as f:\n",
    "        dbx.files_upload(f.read(), f\"{DROPBOX_FOLDER}/{decoded_filename}\", mode=dropbox.files.WriteMode.overwrite)\n",
    "\n",
    "    print(f\"Fichier PDF '{decoded_filename}' sauvegardé dans Dropbox.\")"
   ],
   "id": "4aee6b169594e8be",
   "outputs": [
    {
     "ename": "FileNotFoundError",
     "evalue": "[Errno 2] No such file or directory: 'fiche de paie mai-juillet24 NL - Extracted pages_4.pdf'",
     "output_type": "error",
     "traceback": [
      "\u001B[1;31m---------------------------------------------------------------------------\u001B[0m",
      "\u001B[1;31mFileNotFoundError\u001B[0m                         Traceback (most recent call last)",
      "Cell \u001B[1;32mIn[46], line 2\u001B[0m\n\u001B[0;32m      1\u001B[0m \u001B[38;5;66;03m# Upload sur Dropbox\u001B[39;00m\n\u001B[1;32m----> 2\u001B[0m \u001B[38;5;28;01mwith\u001B[39;00m \u001B[38;5;28;43mopen\u001B[39;49m\u001B[43m(\u001B[49m\u001B[43mdecoded_filename\u001B[49m\u001B[43m,\u001B[49m\u001B[43m \u001B[49m\u001B[38;5;124;43m\"\u001B[39;49m\u001B[38;5;124;43mrb\u001B[39;49m\u001B[38;5;124;43m\"\u001B[39;49m\u001B[43m)\u001B[49m \u001B[38;5;28;01mas\u001B[39;00m f:\n\u001B[0;32m      3\u001B[0m     dbx\u001B[38;5;241m.\u001B[39mfiles_upload(f\u001B[38;5;241m.\u001B[39mread(), \u001B[38;5;124mf\u001B[39m\u001B[38;5;124m\"\u001B[39m\u001B[38;5;132;01m{\u001B[39;00mDROPBOX_FOLDER\u001B[38;5;132;01m}\u001B[39;00m\u001B[38;5;124m/\u001B[39m\u001B[38;5;132;01m{\u001B[39;00mdecoded_filename\u001B[38;5;132;01m}\u001B[39;00m\u001B[38;5;124m\"\u001B[39m, mode\u001B[38;5;241m=\u001B[39mdropbox\u001B[38;5;241m.\u001B[39mfiles\u001B[38;5;241m.\u001B[39mWriteMode\u001B[38;5;241m.\u001B[39moverwrite)\n\u001B[0;32m      5\u001B[0m     \u001B[38;5;28mprint\u001B[39m(\u001B[38;5;124mf\u001B[39m\u001B[38;5;124m\"\u001B[39m\u001B[38;5;124mFichier PDF \u001B[39m\u001B[38;5;124m'\u001B[39m\u001B[38;5;132;01m{\u001B[39;00mdecoded_filename\u001B[38;5;132;01m}\u001B[39;00m\u001B[38;5;124m'\u001B[39m\u001B[38;5;124m sauvegardé dans Dropbox.\u001B[39m\u001B[38;5;124m\"\u001B[39m)\n",
      "File \u001B[1;32m~\\AppData\\Roaming\\Python\\Python313\\site-packages\\IPython\\core\\interactiveshell.py:324\u001B[0m, in \u001B[0;36m_modified_open\u001B[1;34m(file, *args, **kwargs)\u001B[0m\n\u001B[0;32m    317\u001B[0m \u001B[38;5;28;01mif\u001B[39;00m file \u001B[38;5;129;01min\u001B[39;00m {\u001B[38;5;241m0\u001B[39m, \u001B[38;5;241m1\u001B[39m, \u001B[38;5;241m2\u001B[39m}:\n\u001B[0;32m    318\u001B[0m     \u001B[38;5;28;01mraise\u001B[39;00m \u001B[38;5;167;01mValueError\u001B[39;00m(\n\u001B[0;32m    319\u001B[0m         \u001B[38;5;124mf\u001B[39m\u001B[38;5;124m\"\u001B[39m\u001B[38;5;124mIPython won\u001B[39m\u001B[38;5;124m'\u001B[39m\u001B[38;5;124mt let you open fd=\u001B[39m\u001B[38;5;132;01m{\u001B[39;00mfile\u001B[38;5;132;01m}\u001B[39;00m\u001B[38;5;124m by default \u001B[39m\u001B[38;5;124m\"\u001B[39m\n\u001B[0;32m    320\u001B[0m         \u001B[38;5;124m\"\u001B[39m\u001B[38;5;124mas it is likely to crash IPython. If you know what you are doing, \u001B[39m\u001B[38;5;124m\"\u001B[39m\n\u001B[0;32m    321\u001B[0m         \u001B[38;5;124m\"\u001B[39m\u001B[38;5;124myou can use builtins\u001B[39m\u001B[38;5;124m'\u001B[39m\u001B[38;5;124m open.\u001B[39m\u001B[38;5;124m\"\u001B[39m\n\u001B[0;32m    322\u001B[0m     )\n\u001B[1;32m--> 324\u001B[0m \u001B[38;5;28;01mreturn\u001B[39;00m \u001B[43mio_open\u001B[49m\u001B[43m(\u001B[49m\u001B[43mfile\u001B[49m\u001B[43m,\u001B[49m\u001B[43m \u001B[49m\u001B[38;5;241;43m*\u001B[39;49m\u001B[43margs\u001B[49m\u001B[43m,\u001B[49m\u001B[43m \u001B[49m\u001B[38;5;241;43m*\u001B[39;49m\u001B[38;5;241;43m*\u001B[39;49m\u001B[43mkwargs\u001B[49m\u001B[43m)\u001B[49m\n",
      "\u001B[1;31mFileNotFoundError\u001B[0m: [Errno 2] No such file or directory: 'fiche de paie mai-juillet24 NL - Extracted pages_4.pdf'"
     ]
    }
   ],
   "execution_count": 46
  },
  {
   "metadata": {},
   "cell_type": "code",
   "outputs": [],
   "execution_count": null,
   "source": [
    "# Cell 6: Déconnexion de Gmail\n",
    "\n",
    "imap.logout()\n",
    "print(\"Déconnexion de Gmail terminée.\")\n"
   ],
   "id": "96953142c1cf4d0c"
  },
  {
   "metadata": {
    "ExecuteTime": {
     "end_time": "2025-04-07T15:06:28.056886Z",
     "start_time": "2025-04-07T15:06:28.049746Z"
    }
   },
   "cell_type": "code",
   "source": "",
   "id": "835df697ed4289b7",
   "outputs": [],
   "execution_count": null
  },
  {
   "metadata": {},
   "cell_type": "markdown",
   "source": [
    "# Etapes d'excecution\n",
    "Cellule 1 : Charge les bibliothèques nécessaires.\n",
    "\n",
    "Cellule 2 : Insère tes informations personnelles (adresse Gmail, mot de passe d'application, token Dropbox).\n",
    "\n",
    "Cellule 3 : Se connecte à Dropbox en utilisant le token d'API.\n",
    "\n",
    "Cellule 4 : Se connecte à Gmail et récupère la liste des emails.\n",
    "\n",
    "Cellule 5 : Télécharge les fichiers PDF attachés et les envoie à Dropbox.\n",
    "\n",
    "Cellule 6 : Se déconnecte proprement de Gmail.\n",
    "\n",
    "# Securité\n",
    "Utilise des mots de passe d'application pour une sécurité renforcée avec Gmail.\n",
    "\n",
    "Stocke le token Dropbox et le mot de passe de manière sécurisée (via des variables d'environnement ou un fichier .env).\n",
    "\n",
    "Si tu veux, je peux t’aider à configurer ces options dans un environnement sécurisé !\n"
   ],
   "id": "6c18b763f0512677"
  },
  {
   "metadata": {},
   "cell_type": "code",
   "outputs": [],
   "execution_count": null,
   "source": [
    "import imaplib\n",
    "import email\n",
    "from email.header import decode_header\n",
    "import os\n",
    "import dropbox\n",
    "\n",
    "# --- Paramètres utilisateur ---\n",
    "EMAIL = \"votre_adresse@gmail.com\"\n",
    "PASSWORD = \"votre_mot_de_passe_application\"\n",
    "DROPBOX_ACCESS_TOKEN = \"votre_token_dropbox\"\n",
    "DROPBOX_FOLDER = \"/MesPDFs\"\n",
    "\n",
    "# Connexion Dropbox\n",
    "dbx = dropbox.Dropbox(DROPBOX_ACCESS_TOKEN)\n",
    "\n",
    "# Connexion Gmail\n",
    "imap = imaplib.IMAP4_SSL(\"imap.gmail.com\")\n",
    "imap.login(EMAIL, PASSWORD)\n",
    "imap.select(\"inbox\")\n",
    "\n",
    "# Recherche des emails avec pièce jointe\n",
    "status, messages = imap.search(None, 'ALL')\n",
    "messages = messages[0].split()\n",
    "\n",
    "for mail_id in reversed(messages):\n",
    "    res, msg_data = imap.fetch(mail_id, \"(RFC822)\")\n",
    "    if res != \"OK\":\n",
    "        continue\n",
    "\n",
    "    msg = email.message_from_bytes(msg_data[0][1])\n",
    "\n",
    "    for part in msg.walk():\n",
    "        if part.get_content_maintype() == 'multipart':\n",
    "            continue\n",
    "        if part.get('Content-Disposition') is None:\n",
    "            continue\n",
    "\n",
    "        filename = part.get_filename()\n",
    "        if filename and filename.lower().endswith('.pdf'):\n",
    "            decoded_filename = decode_header(filename)[0][0]\n",
    "            if isinstance(decoded_filename, bytes):\n",
    "                decoded_filename = decoded_filename.decode()\n",
    "            \n",
    "            # Enregistrement local\n",
    "            with open(decoded_filename, \"wb\") as f:\n",
    "                f.write(part.get_payload(decode=True))\n",
    "            \n",
    "            # Upload Dropbox\n",
    "            with open(decoded_filename, \"rb\") as f:\n",
    "                dbx.files_upload(f.read(), f\"{DROPBOX_FOLDER}/{decoded_filename}\", mode=dropbox.files.WriteMode.overwrite)\n",
    "\n",
    "            print(f\"Fichier PDF '{decoded_filename}' sauvegardé dans Dropbox.\")\n",
    "\n",
    "imap.logout()\n"
   ],
   "id": "421cf8d12fe836c4"
  },
  {
   "metadata": {},
   "cell_type": "code",
   "outputs": [],
   "execution_count": null,
   "source": "",
   "id": "8a9279e7cd369fa9"
  }
 ],
 "metadata": {
  "kernelspec": {
   "display_name": "Python 3",
   "language": "python",
   "name": "python3"
  },
  "language_info": {
   "codemirror_mode": {
    "name": "ipython",
    "version": 2
   },
   "file_extension": ".py",
   "mimetype": "text/x-python",
   "name": "python",
   "nbconvert_exporter": "python",
   "pygments_lexer": "ipython2",
   "version": "2.7.6"
  }
 },
 "nbformat": 4,
 "nbformat_minor": 5
}
