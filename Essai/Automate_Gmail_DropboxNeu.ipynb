{
 "cells": [
  {
   "cell_type": "code",
   "id": "initial_id",
   "metadata": {
    "collapsed": true,
    "ExecuteTime": {
     "end_time": "2025-04-09T08:50:26.469044Z",
     "start_time": "2025-04-09T08:49:58.737379Z"
    }
   },
   "source": [
    "# Cellule 0: Importation des librairies nécessaires\n",
    "\n",
    "import imapclient\n",
    "import mail\n",
    "!pip install PyPDF2\n",
    "from PyPDF2 import PdfReader\n",
    "!pip show PyPDF2\n",
    "!pip install imap-tools dropbox\n",
    "!pip install imapclient"
   ],
   "outputs": [
    {
     "name": "stdout",
     "output_type": "stream",
     "text": [
      "Defaulting to user installation because normal site-packages is not writeable\n",
      "Requirement already satisfied: PyPDF2 in c:\\users\\user\\appdata\\roaming\\python\\python313\\site-packages (3.0.1)\n"
     ]
    },
    {
     "name": "stderr",
     "output_type": "stream",
     "text": [
      "\n",
      "[notice] A new release of pip is available: 24.3.1 -> 25.0.1\n",
      "[notice] To update, run: python.exe -m pip install --upgrade pip\n"
     ]
    },
    {
     "name": "stdout",
     "output_type": "stream",
     "text": [
      "Name: PyPDF2\n",
      "Version: 3.0.1\n",
      "Summary: A pure-python PDF library capable of splitting, merging, cropping, and transforming PDF files\n",
      "Home-page: \n",
      "Author: \n",
      "Author-email: Mathieu Fenniak <biziqe@mathieu.fenniak.net>\n",
      "License: \n",
      "Location: C:\\Users\\user\\AppData\\Roaming\\Python\\Python313\\site-packages\n",
      "Requires: \n",
      "Required-by: \n",
      "Defaulting to user installation because normal site-packages is not writeable\n",
      "Requirement already satisfied: imap-tools in c:\\users\\user\\appdata\\roaming\\python\\python313\\site-packages (1.10.0)\n",
      "Requirement already satisfied: dropbox in c:\\users\\user\\appdata\\roaming\\python\\python313\\site-packages (12.0.2)\n",
      "Requirement already satisfied: requests>=2.16.2 in c:\\users\\user\\appdata\\roaming\\python\\python313\\site-packages (from dropbox) (2.32.3)\n",
      "Requirement already satisfied: six>=1.12.0 in c:\\users\\user\\appdata\\roaming\\python\\python313\\site-packages (from dropbox) (1.17.0)\n",
      "Requirement already satisfied: stone<3.3.3,>=2 in c:\\users\\user\\appdata\\roaming\\python\\python313\\site-packages (from dropbox) (3.3.1)\n",
      "Requirement already satisfied: charset-normalizer<4,>=2 in c:\\users\\user\\appdata\\roaming\\python\\python313\\site-packages (from requests>=2.16.2->dropbox) (3.4.1)\n",
      "Requirement already satisfied: idna<4,>=2.5 in c:\\users\\user\\appdata\\roaming\\python\\python313\\site-packages (from requests>=2.16.2->dropbox) (3.10)\n",
      "Requirement already satisfied: urllib3<3,>=1.21.1 in c:\\users\\user\\appdata\\roaming\\python\\python313\\site-packages (from requests>=2.16.2->dropbox) (2.3.0)\n",
      "Requirement already satisfied: certifi>=2017.4.17 in c:\\users\\user\\appdata\\roaming\\python\\python313\\site-packages (from requests>=2.16.2->dropbox) (2025.1.31)\n",
      "Requirement already satisfied: ply>=3.4 in c:\\users\\user\\appdata\\roaming\\python\\python313\\site-packages (from stone<3.3.3,>=2->dropbox) (3.11)\n"
     ]
    },
    {
     "name": "stderr",
     "output_type": "stream",
     "text": [
      "\n",
      "[notice] A new release of pip is available: 24.3.1 -> 25.0.1\n",
      "[notice] To update, run: python.exe -m pip install --upgrade pip\n",
      "\n",
      "[notice] A new release of pip is available: 24.3.1 -> 25.0.1\n",
      "[notice] To update, run: python.exe -m pip install --upgrade pip\n"
     ]
    },
    {
     "name": "stdout",
     "output_type": "stream",
     "text": [
      "Defaulting to user installation because normal site-packages is not writeable\n",
      "Requirement already satisfied: imapclient in c:\\program files\\python313\\lib\\site-packages (3.0.1)\n"
     ]
    }
   ],
   "execution_count": 1
  },
  {
   "metadata": {
    "ExecuteTime": {
     "end_time": "2025-04-09T09:30:28.669465Z",
     "start_time": "2025-04-09T09:30:20.745102Z"
    }
   },
   "cell_type": "code",
   "source": [
    "# Cellule 1 : Importation des bibliothèques nécessaires\n",
    "\n",
    "import imaplib\n",
    "import email\n",
    "from email.header import decode_header\n",
    "import os\n",
    "import dropbox"
   ],
   "id": "7ea6a7396cb00d28",
   "outputs": [],
   "execution_count": 2
  },
  {
   "metadata": {
    "ExecuteTime": {
     "end_time": "2025-04-09T10:38:06.856265Z",
     "start_time": "2025-04-09T10:38:06.846582Z"
    }
   },
   "cell_type": "code",
   "source": [
    "# Cellule 2 : Paramètres utilisateurs\n",
    "\n",
    "# Remplis les informations ci-dessous\n",
    "EMAIL = \"sergealexai@gmail.com\"\n",
    "\n",
    "PASSWORD = \"fdli szqv wtqj uwyu\" # Il s'agit ici du mot de passe des applications\n",
    "\n",
    "DROPBOX_ACCESS_TOKEN = \"sl.u.AFo9z0CrAzJ3D82XrrqT4nCdSHLx-XmaqL4OC2ZHt76HUnjcA08NEA7XlYpPmEfJX17tTDeyrn6h2glEgiYNSjb7HLFQ6wSfiTlZMuSE1VTpihJDEmq_VJA80-Kjqz1DptSWul5AkpwaymXzwtFezmCueid8yq0fT1XEvFHPscSOA9Y7TmAQJopcMvU4QWjX22tz1OKOwFzIzQm6Oajt7OY2wSQJ6hY37OJS5od94yVJrYDxvZxNUnKC6O11uiWcP8kqUVUJ0BKU0E09b359PjRkUAmSw-pRAQ24Bvkj_l8NTG87j8PRxeSz9DSXdhlSlYxxxJD5epV_TKBxsMURE1G6E7B-8r4Gi7Mq7hdN-aEFab6vGI5iipWoFtxVzYQn_w5isb2AIcAPnjUoiVyYMvxsTIerOwoZKlYS1iA6NYfj6y7yR5585kbWLu9DCK--VlKNhI8mPpR4SNnf4z9YpZWh4Kk_gcbYsIs18m6iqVOhzmqqIDNu-OkR5g1HS2ZMhfxW27CgcKnG3zlmev9aLhnSmxfQD5wvrbbz1ydG4kNLZIBWzJqGNwB3pLlnLX7Z1ydoZuy7HM7_BtwRm3dIwElSBmeE8ecqNqkowaRp0Xdu0rCCnRCaJA8MuLDp0D4sWmE1WypLlfTuLeINR5YPn31NmLuMMd-cUIB2Pqf7RrOEakd7_x_sKHGxVJvOSqUFB6vAZvsvFsRp5GB9ubRzfXPwMLMti8omdONGjZ19zrGkO678SRSrtUX-gXKB8Mc0kpoJ18yrGQLVKuiOEy4oUv033S8jX2KWLcTK8g_vFbNyx_BpFSeo3pqd_Zr3Jesxu96PhOrCgJK8wOxwMA_eml4LyrUMmClrzxephzHFuLU3wrV_vQuiVskiRE5T-vEp2Ex0BPsq1nHc4rXJP16hILazt-TNx4gQJoU66ObLHTxIQHTjOKuJ-G-Jpd8vB48xi8skyw404XmE0-PS3hYGOrigiwuNuxIDoafTwvmIMu3bdGllkSWw_P9qrSmQAklH-ZtuSmpQ-87bx5Y14KoF88OXwAfQTo505YoDaP6HxHN-ipQeEN5okYYNcMpRCmch_PBTFMrwQY2AaxwQKnMpgnNdnhwU6raVg_UJ0KKQUj1ycKICCknk4Mv1A5UfbJECT5pLPNlSMzQVDdHu9MO1OfZBW9ypP0OpXrBZX7x1V2iaf9xrwRFq7wGyXab0s24m29FmL9465Y76xInOpQLAJjnLcZnatQCb4m8n4p3umc2ISNveoS4yAsaLlBtlwwwUg8sqPIgfOy_9xaV0-GgNNaNNdW8iDP1bu3E9-AgF-fuzXLqrQwpdgVU4xrM3wP9e9m6gOtrZqo5NyDfBOqGNBjGhhmucsttyEwJdtUW0SPMIae1U31O6ruFFXtTdOmVlxbBQEcET7mwSpXE0YDJawWb5mCfQeXIPHNfk-OsCNXPwtQ\"\n",
    "\n",
    "DROPBOX_FOLDER = \"/Dossier1/Dossier1.1\""
   ],
   "id": "524838fa29d6f4b7",
   "outputs": [],
   "execution_count": 24
  },
  {
   "metadata": {
    "ExecuteTime": {
     "end_time": "2025-04-09T10:38:10.465222Z",
     "start_time": "2025-04-09T10:38:10.457604Z"
    }
   },
   "cell_type": "code",
   "source": [
    "# Cellule 3 : Connexion à Dropbox\n",
    "\n",
    "# Crée une connexion à Dropbox avec l'API Token / création d'un client DBX\n",
    "dbx = dropbox.Dropbox(DROPBOX_ACCESS_TOKEN)"
   ],
   "id": "2ae81520da3020d7",
   "outputs": [],
   "execution_count": 25
  },
  {
   "metadata": {
    "ExecuteTime": {
     "end_time": "2025-04-09T10:38:13.073289Z",
     "start_time": "2025-04-09T10:38:13.057192Z"
    }
   },
   "cell_type": "code",
   "source": [
    "# Cellule 3.1 : Générer le Refresh Token via un script\n",
    "APP_KEY = 'al5ocuvjwjua885'\n",
    "APP_SECRET = 'sng2v6rnp1tvuyp'\n",
    "# Étape 1 – Génération du lien avec les bons scopes\n",
    "auth_flow = dropbox.DropboxOAuth2FlowNoRedirect(\n",
    "    APP_KEY,\n",
    "    APP_SECRET,\n",
    "    token_access_type='offline',\n",
    "    scope=['files.metadata.read', 'files.content.write']\n",
    ")\n",
    "\n",
    "authorize_url = auth_flow.start()\n",
    "print(\"👉 Va sur ce lien, autorise l’accès, et copie le code affiché :\")\n",
    "print(authorize_url)"
   ],
   "id": "cfd092f3ca3b332f",
   "outputs": [
    {
     "name": "stdout",
     "output_type": "stream",
     "text": [
      "👉 Va sur ce lien, autorise l’accès, et copie le code affiché :\n",
      "https://www.dropbox.com/oauth2/authorize?response_type=code&client_id=al5ocuvjwjua885&token_access_type=offline&scope=files.metadata.read+files.content.write\n"
     ]
    }
   ],
   "execution_count": 26
  },
  {
   "metadata": {
    "ExecuteTime": {
     "end_time": "2025-04-09T10:38:55.497236Z",
     "start_time": "2025-04-09T10:38:53.988106Z"
    }
   },
   "cell_type": "code",
   "source": [
    "# Cellule 3.2 : Utilisation du refresh_token affiché comme nouveau token permanent\n",
    "# Étape 2 – Coller ici le code affiché après l'autorisation Dropbox\n",
    "auth_code = \"dUYhAQDQ-o4AAAAAAAAAHjDv3oAF_FjZl_chapuUhnk\"\n",
    "\n",
    "oauth_result = auth_flow.finish(auth_code)\n",
    "\n",
    "print(\"✅ Access Token :\", oauth_result.access_token)\n",
    "print(\"🔁 Refresh Token :\", oauth_result.refresh_token)\n",
    "print(\"🧑 Compte :\", oauth_result.account_id)\n"
   ],
   "id": "6d0c4b5f3a7b4766",
   "outputs": [
    {
     "name": "stdout",
     "output_type": "stream",
     "text": [
      "✅ Access Token : sl.u.AFqlXTFhHlDgLd_Wge15mca7VYhoG106MypOc-ruiluz1MUnxsvnIKZr3WWtyDqHqemLsE5RktGz3tLNivlRbIXOmCgNEZnetJ9dZXn6X6Bxfb887K8NenRY2n5QAauVOV54mmRSLM6BTzcBEE1fMueFmIA549raZnEBt-EyhbaCEVAa3TaaC-K14_IbXQg_9nw17gQPrAhKNxsjoITj_MOCEphicWmd7R9cqNlw6zLQRRSyYFYavNXlmqiQpt0d4PWelQcqvmPVwRGxvVmzdSKBgOgL5e-bcSR4-ZXLmsH5krby_MdH4aWD3sLaD2lB5AsooaNxTgo8U_1pLAQVbqWmnVQq5MWO8bib3QMLSn9H0GA3b4C9Qbo-YDtypfk3XTlx7XeGRRi4mGQAg7awgumDbcTeOJDLaTQ4SV85_La1lSrhxqFkmmz1tQiDkw0UPjXZw-aYZDpPolc87fUy3JeKwSlr91B3P72d2ptJROWvE1JAzajdCpNGA8sfEUiHjXRAV2PYdXobM9JeM6Sqezaujc3HpsbQDMIzYvYP2QMF6QtCTPRuLoMCyIuOQx4NpZRPSXjtYNgMmKZQw3DiXHqa4EzMdx25wqAHlwtZ4iimtctHBpoPMB9TQ_bSsLGTuAkgOUsNQcxxmfojKAT2ECOi6c94UJH3puokoVKs9QxB24npoceGSexeVzU1iHZPjsCSXaktbWTR06V5jDrVSZfn35GGHMWFk8FFCcbhAltfiY5GF7RC4NHizQc0KA-nUHS5oC8wCCq_0P0Ba_UFr4Lx7oA-fYzbnScr-jzFBlNmeAizIl0iR2aC2HKvWh0_k_80x5dAmmBVog8RCc9-JcbdoOsrZN8RfseSv99NxGLNf2rd7mWndD560MPv4WcoHoLTVK6U36hpCVMVEYqNi5LTJExXBbMsT1zop3SbL6FbX9j0ji3Hxmge3IXKrdlFGsOfUfv3E5EVZvoHDUXVlRfrQfFeTR_K45RwSYsI4W-_xmo1AqLyEOgJLitbD2ApmRhtgTzQIr_DlzlbbaH8kJoeaKzx13w-Y6BvwZp-CIM1c8IwZ_LaWNV1EXZHztNP4pp9SwdbczOw4P8nGhPGWLcdFzc4nm1UxNAW-v_eQNdOI8TroboDdyRGQ_qjuJx-1av0N2TQlacoqgdr_EUxpxQMsVltG0n_tJOIP6o5nvz8ww01ABr4KZDQHBg2V50mPMEanwM25PptVwnbAFBCX104kx1C0DNAwem1ue6YddLry3QMoIDwQTQoGyl-nFu16cZQ13ajc_d2qmcjVUnIAjdKsHzbOMD5ZljHFDYHevbLL_YrReLe-ifx-wWAEVUFF_mC36xwRWDA1zKyOrhkvqSQs46X0ugl6KeMFEhV0b2W21YdvcRLm7v9pVMSVfF7_REBiNXXcl4cJkoVazUAYVmJqIwRKKPk1Fh8d0uGpXXDDA\n",
      "🔁 Refresh Token : utDbwJ9oaGEAAAAAAAAAAckah7kX42u23fUE2JYKtu2PjOETm2rKB4UaQBeHoKTR\n",
      "🧑 Compte : dbid:AADYo5nc_0xGXNqaFidNngcYRyVdzz4uAhQ\n"
     ]
    }
   ],
   "execution_count": 27
  },
  {
   "metadata": {
    "ExecuteTime": {
     "end_time": "2025-04-09T10:39:12.992353Z",
     "start_time": "2025-04-09T10:39:09.453498Z"
    }
   },
   "cell_type": "code",
   "source": [
    "# Cellule 4 : Connexion à Gmail \n",
    "\n",
    "# Connexion IMAP à Gmail\n",
    "imap = imaplib.IMAP4_SSL(\"imap.gmail.com\")\n",
    "imap.login(EMAIL, PASSWORD)\n",
    "imap.select(\"inbox\")            # Sélectionne la boîte de réception"
   ],
   "id": "2ee25d03aeec39af",
   "outputs": [
    {
     "data": {
      "text/plain": [
       "('OK', [b'6'])"
      ]
     },
     "execution_count": 28,
     "metadata": {},
     "output_type": "execute_result"
    }
   ],
   "execution_count": 28
  },
  {
   "metadata": {
    "ExecuteTime": {
     "end_time": "2025-04-09T10:39:25.563502Z",
     "start_time": "2025-04-09T10:39:15.816106Z"
    }
   },
   "cell_type": "code",
   "source": [
    "# Cellule 5 : Enregistrement local, récupération de tous les emails, trie pour stocker les mails avec des pieces jointes(PDF).\n",
    "import email\n",
    "from email.header import decode_header\n",
    "import os\n",
    "\n",
    "# Dossier local pour enregistrer les PDF\n",
    "pdf_folder = \"pdf_attachments\"\n",
    "os.makedirs(pdf_folder, exist_ok=True)\n",
    "\n",
    "# Recherche tous les emails dans la boîte\n",
    "status, messages = imap.search(None, \"ALL\")\n",
    "mail_ids = messages[0].split()\n",
    "\n",
    "count_mails_with_pdf = 0\n",
    "\n",
    "for num in mail_ids:\n",
    "    status, data = imap.fetch(num, \"(RFC822)\")\n",
    "    if status != \"OK\":\n",
    "        continue\n",
    "\n",
    "    msg = email.message_from_bytes(data[0][1])\n",
    "    has_pdf = False\n",
    "\n",
    "    # Parcours des parties du mail\n",
    "    for part in msg.walk():\n",
    "        content_disposition = part.get(\"Content-Disposition\", \"\")\n",
    "        if part.get_content_maintype() == \"multipart\":\n",
    "            continue\n",
    "            \n",
    "        if \"attachment\" in content_disposition:\n",
    "            filename = part.get_filename()\n",
    "            \n",
    "            if filename:\n",
    "                decoded_name, encoding = decode_header(filename)[0]\n",
    "                \n",
    "                if isinstance(decoded_name, bytes):\n",
    "                    decoded_name = decoded_name.decode(encoding or \"utf-8\")\n",
    "                if decoded_name.lower().endswith(\".pdf\"):\n",
    "                    has_pdf = True\n",
    "                    \n",
    "                    filepath = os.path.join(pdf_folder, decoded_name.replace(\"/\", \"_\"))\n",
    "                    \n",
    "                    with open(filepath, \"wb\") as f:\n",
    "                        f.write(part.get_payload(decode=True))\n",
    "    \n",
    "    if has_pdf:\n",
    "        count_mails_with_pdf += 1\n",
    "\n",
    "print(f\"📩 Nombre de mails avec au moins un fichier PDF : {count_mails_with_pdf}\")\n"
   ],
   "id": "adaeb0f6549570e4",
   "outputs": [
    {
     "name": "stdout",
     "output_type": "stream",
     "text": [
      "📩 Nombre de mails avec au moins un fichier PDF : 4\n"
     ]
    }
   ],
   "execution_count": 29
  },
  {
   "metadata": {
    "ExecuteTime": {
     "end_time": "2025-04-09T10:40:13.242902Z",
     "start_time": "2025-04-09T10:39:30.613336Z"
    }
   },
   "cell_type": "code",
   "source": [
    "# Cellule 6 : Importation vers Dropbox \n",
    "APP_KEY = 'al5ocuvjwjua885'\n",
    "APP_SECRET = 'sng2v6rnp1tvuyp'\n",
    "REFRESH_TOKEN = \"8qNzZKJPdMMAAAAAAAAAAac8CxxyPBITY7JOPOCLAmsD3c0AW7W_qCc8-RjVA4dX\"\n",
    "\n",
    "# Connexion avec refresh token\n",
    "dbx = dropbox.Dropbox(\n",
    "    oauth2_refresh_token=REFRESH_TOKEN,\n",
    "    app_key=APP_KEY,\n",
    "    app_secret=APP_SECRET\n",
    ")\n",
    "\n",
    "# Dossier local où sont les fichiers PDF\n",
    "local_pdf_folder = \"pdf_attachments\"\n",
    "\n",
    "# Dossier cible dans Dropbox (par exemple \"/MailsPDF\")\n",
    "dropbox_target_folder = \"/Dossier1/Dossier1.1\"\n",
    "\n",
    "# Parcourt tous les fichiers PDF enregistrés localement\n",
    "for filename in os.listdir(local_pdf_folder):\n",
    "    if filename.lower().endswith(\".pdf\"):\n",
    "        local_path = os.path.join(local_pdf_folder, filename)\n",
    "        dropbox_path = f\"{dropbox_target_folder}/{filename}\"\n",
    "\n",
    "        with open(local_path, \"rb\") as f:\n",
    "            dbx.files_upload(f.read(), dropbox_path, mode=dropbox.files.WriteMode.overwrite)\n",
    "        print(f\"✅ Fichier envoyé sur Dropbox : {filename}\")"
   ],
   "id": "46443ec3d6da5f53",
   "outputs": [
    {
     "name": "stdout",
     "output_type": "stream",
     "text": [
      "✅ Fichier envoyé sur Dropbox : Factures M. AMBASSA.pdf\n",
      "✅ Fichier envoyé sur Dropbox : fiche de paie mai-juillet24 NL - Extracted pages.pdf\n",
      "✅ Fichier envoyé sur Dropbox : fiche de paie mai-juillet24 NL - Extracted pages_2.pdf\n",
      "✅ Fichier envoyé sur Dropbox : fiche de paie mai-juillet24 NL - Extracted pages_3.pdf\n",
      "✅ Fichier envoyé sur Dropbox : fiche de paie mai-juillet24 NL - Extracted pages_4.pdf\n",
      "✅ Fichier envoyé sur Dropbox : fiche de paie mai-juillet24 NL - Extracted pages_5.pdf\n",
      "✅ Fichier envoyé sur Dropbox : fiche de paie mai-juillet24 NL - Extracted pages_6 fr.pdf\n",
      "✅ Fichier envoyé sur Dropbox : fiche de paie mai-juillet24 NL - Extracted pages_6.pdf\n",
      "✅ Fichier envoyé sur Dropbox : Nouvellenoticeoffice2021proplus.pdf\n",
      "✅ Fichier envoyé sur Dropbox : OPIS GEC FR MADEX -TP.pdf\n"
     ]
    }
   ],
   "execution_count": 30
  },
  {
   "metadata": {},
   "cell_type": "code",
   "outputs": [],
   "execution_count": null,
   "source": "",
   "id": "3efc20d61b5862e8"
  },
  {
   "metadata": {},
   "cell_type": "code",
   "outputs": [],
   "execution_count": null,
   "source": "",
   "id": "972329baf0349b1a"
  },
  {
   "metadata": {},
   "cell_type": "code",
   "outputs": [],
   "execution_count": null,
   "source": "",
   "id": "a7d1cce510d5e524"
  },
  {
   "metadata": {},
   "cell_type": "code",
   "outputs": [],
   "execution_count": null,
   "source": "",
   "id": "3f29b20bcbda4a84"
  },
  {
   "metadata": {},
   "cell_type": "code",
   "outputs": [],
   "execution_count": null,
   "source": "",
   "id": "f9fa0d49f46b0803"
  },
  {
   "metadata": {},
   "cell_type": "code",
   "outputs": [],
   "execution_count": null,
   "source": "",
   "id": "11415243a0fc27f"
  }
 ],
 "metadata": {
  "kernelspec": {
   "display_name": "Python 3",
   "language": "python",
   "name": "python3"
  },
  "language_info": {
   "codemirror_mode": {
    "name": "ipython",
    "version": 2
   },
   "file_extension": ".py",
   "mimetype": "text/x-python",
   "name": "python",
   "nbconvert_exporter": "python",
   "pygments_lexer": "ipython2",
   "version": "2.7.6"
  }
 },
 "nbformat": 4,
 "nbformat_minor": 5
}
