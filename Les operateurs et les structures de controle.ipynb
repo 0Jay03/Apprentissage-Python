{
 "cells": [
  {
   "metadata": {},
   "cell_type": "markdown",
   "source": [
    "**Exercice 1 : Manipulation sur les operateurs**\n",
    "\n",
    "Dans une classe, les élèves ont obtenu les notes suivantes dans un cours :\n",
    "\n",
    "+ Pierre : 14/20\n",
    "+ Julie : 16/20\n",
    "+ Thomas : 18/20\n",
    "+ Emma : 12/20\n",
    "+ Lucas : 19/20\n",
    "\n",
    "Votre tâche consiste à calculer la moyenne des notes de la classe sur 20.\n",
    "\n",
    "+ Créez les variables note_pierre, note_julie, note_thomas, note_emma et note_lucas et assignez-leur respectivement les notes correspondantes.\n",
    "+ Calculez la somme des notes en additionnant les variables des notes et assignez le résultat à une variable somme_notes.\n",
    "+ Calculez la moyenne de la classe en divisant la somme des notes par le nombre d'élèves (dans ce cas, 5) et assignez le résultat à une variable moyenne_classe.\n",
    "+ Affichez le résultat avec une phrase formatée du type \"La moyenne de la classe est de XX/20\", en remplaçant XX par la valeur de la variable moyenne_classe."
   ],
   "id": "d5a44ad447123fd3"
  },
  {
   "metadata": {},
   "cell_type": "markdown",
   "source": "",
   "id": "93b31e5a1651304b"
  },
  {
   "cell_type": "code",
   "id": "initial_id",
   "metadata": {
    "collapsed": true,
    "ExecuteTime": {
     "end_time": "2025-02-22T09:05:09.845659Z",
     "start_time": "2025-02-22T09:05:09.836410Z"
    }
   },
   "source": "#Créez les variables note_pierre, note_julie, note_thomas, note_emma et note_lucas et assignez-leur respectivement les notes correspondantes.\n",
   "outputs": [],
   "execution_count": 14
  },
  {
   "metadata": {
    "ExecuteTime": {
     "end_time": "2025-02-22T08:51:23.980987Z",
     "start_time": "2025-02-22T08:51:23.972846Z"
    }
   },
   "cell_type": "code",
   "source": [
    "from prompt_toolkit.key_binding.bindings.named_commands import print_last_kbd_macro\n",
    "\n",
    "note_pierre, note_julie, note_thomas, note_lucas,  note_emma = 14, 16, 18, 19, 12\n",
    "print(note_pierre, note_julie, note_thomas, note_lucas,  note_emma)"
   ],
   "id": "3704a0d47b79d1e9",
   "outputs": [
    {
     "name": "stdout",
     "output_type": "stream",
     "text": [
      "14 16 18 19 12\n"
     ]
    }
   ],
   "execution_count": 8
  },
  {
   "metadata": {
    "ExecuteTime": {
     "end_time": "2025-02-22T08:58:36.224860Z",
     "start_time": "2025-02-22T08:58:36.218082Z"
    }
   },
   "cell_type": "code",
   "source": [
    "#Calcul de la somme des notes\n",
    "somme_notes = note_pierre + note_julie + note_thomas + note_emma + note_lucas\n",
    "print(\"La somme des notes egale à :\", somme_notes)"
   ],
   "id": "2522b81eb6af2a65",
   "outputs": [
    {
     "name": "stdout",
     "output_type": "stream",
     "text": [
      "La somme des notes egale à : 79\n"
     ]
    }
   ],
   "execution_count": 11
  },
  {
   "metadata": {
    "ExecuteTime": {
     "end_time": "2025-02-22T09:00:33.349041Z",
     "start_time": "2025-02-22T09:00:33.341374Z"
    }
   },
   "cell_type": "code",
   "source": [
    "#Calcul de la moyenne de la classe\n",
    "moyenne_classe = somme_notes/5\n",
    "print(\"La moyenne de la classe est de :\", moyenne_classe)"
   ],
   "id": "b7c6fd75f3f95cad",
   "outputs": [
    {
     "name": "stdout",
     "output_type": "stream",
     "text": [
      "La moyenne de la classe est de : 15.8\n"
     ]
    }
   ],
   "execution_count": 13
  },
  {
   "metadata": {
    "ExecuteTime": {
     "end_time": "2025-02-22T09:08:13.461789Z",
     "start_time": "2025-02-22T09:08:13.454239Z"
    }
   },
   "cell_type": "code",
   "source": "print(\"La moyenne de la classe est de\", moyenne_classe,\"/20\")",
   "id": "1ecfcd8e9b41e674",
   "outputs": [
    {
     "name": "stdout",
     "output_type": "stream",
     "text": [
      "La moyenne de la classe est de 15.8 /20\n"
     ]
    }
   ],
   "execution_count": 19
  },
  {
   "metadata": {},
   "cell_type": "code",
   "outputs": [],
   "execution_count": null,
   "source": "",
   "id": "994faa722a6156af"
  },
  {
   "metadata": {},
   "cell_type": "markdown",
   "source": [
    "**Exercice 2 : Consolidation**\n",
    "\n",
    "+ (a) Créer la variable distance et lui assigner la valeur 750 (distance Paris-Marseille en km).\n",
    "+ (b) Créer la variable vitesse et lui assigner la valeur 4.8 (vitesse moyenne d'un marcheur en km/h).\n",
    "+ (c) Créer une nouvelle variable temps qui correspond au quotient des deux variables précédentes.\n",
    "  + La variable temps nous donne le temps en heures qu'il faudrait à un marcheur pour voyager de Paris à Marseille sans s'arrêter.\n",
    "\n",
    "+ (d) Combien de jours et d'heures faudrait-il à notre marcheur pour aller de Paris à Marseille sans s'arrêter ? L'affichage de votre réponse doit être sous la forme \"Il faudrait au marcheur 4.0 jours et 14.1 heures.\".\n"
   ],
   "id": "8dfd7d4f742e5022"
  },
  {
   "metadata": {
    "ExecuteTime": {
     "end_time": "2025-02-22T09:30:17.270498Z",
     "start_time": "2025-02-22T09:30:17.260647Z"
    }
   },
   "cell_type": "code",
   "source": [
    "# Creation de la variable distance et vitesse\n",
    "distance = 750 #distance Douala-Yaounde\n",
    "vitesse = 4.8 #vitesse moyenne d un marcheur en km/h"
   ],
   "id": "eea83ee2775bc0fb",
   "outputs": [],
   "execution_count": 33
  },
  {
   "metadata": {
    "ExecuteTime": {
     "end_time": "2025-02-22T09:41:42.404398Z",
     "start_time": "2025-02-22T09:41:42.395454Z"
    }
   },
   "cell_type": "code",
   "source": [
    "#calcul de la variable temps\n",
    "temps = distance/vitesse\n",
    "print(\"le temps en heures est de:\", temps, \"h\")"
   ],
   "id": "5b3439e4e39da446",
   "outputs": [
    {
     "name": "stdout",
     "output_type": "stream",
     "text": [
      "le temps en heures est de: 156.25 h\n"
     ]
    }
   ],
   "execution_count": 37
  },
  {
   "metadata": {
    "ExecuteTime": {
     "end_time": "2025-02-22T10:38:22.321557Z",
     "start_time": "2025-02-22T10:38:22.312176Z"
    }
   },
   "cell_type": "code",
   "source": [
    "# Calcul du nombre de jours et d'heures pour le marcheur \n",
    "jours = int(temps // 24)  # Partie entière du quotient pour les jours\n",
    "heures = temps % 24  # Reste de la division pour les heures\n",
    "print(jours, heures)"
   ],
   "id": "c0f92d4f9bb28403",
   "outputs": [
    {
     "name": "stdout",
     "output_type": "stream",
     "text": [
      "6 12.25\n"
     ]
    }
   ],
   "execution_count": 40
  },
  {
   "metadata": {},
   "cell_type": "code",
   "outputs": [],
   "execution_count": null,
   "source": " ",
   "id": "789a4db3376c211e"
  },
  {
   "metadata": {},
   "cell_type": "markdown",
   "source": [
    "**Exercice : Manipulation**\n",
    "\n",
    "Un magicien dit que si :\n",
    "\n",
    "> + On choisit un nombre premier différent de 2 et 3.\n",
    "> + On l'élève au carré.\n",
    "> + On lui ajoute 17.\n",
    "> + On le divise par 12 et on garde le reste de cette division, alors le reste de cette division vaut 6.\n",
    "\n",
    "+ Le magicien a-t-il raison ?\n",
    "\n",
    "*On rappelle qu'un nombre premier est un nombre qui n'admet que deux diviseurs distincts : 1 et lui-même. Les 10 nombres premiers les plus petits différents de 2 et 3 sont 5, 7, 11, 13, 17, 19, 23, 29, 31, 37.*"
   ],
   "id": "4b515ea805898dfc"
  },
  {
   "metadata": {
    "ExecuteTime": {
     "end_time": "2025-02-24T09:11:43.461319Z",
     "start_time": "2025-02-24T09:11:43.447272Z"
    }
   },
   "cell_type": "code",
   "source": "nombres_premiers = [5, 7, 11, 13, 17, 19, 23, 29, 31, 37]",
   "id": "f067c76e16781e75",
   "outputs": [],
   "execution_count": 41
  },
  {
   "metadata": {
    "ExecuteTime": {
     "end_time": "2025-02-24T09:17:35.095253Z",
     "start_time": "2025-02-24T09:17:35.085168Z"
    }
   },
   "cell_type": "code",
   "source": "nombre = 13",
   "id": "e7f86ba15433a0dc",
   "outputs": [],
   "execution_count": 53
  },
  {
   "metadata": {
    "ExecuteTime": {
     "end_time": "2025-02-24T09:17:53.561255Z",
     "start_time": "2025-02-24T09:17:53.554741Z"
    }
   },
   "cell_type": "code",
   "source": "carre = nombre**2",
   "id": "c5d41f7cfbbffbf1",
   "outputs": [],
   "execution_count": 54
  },
  {
   "metadata": {
    "ExecuteTime": {
     "end_time": "2025-02-24T09:18:01.141515Z",
     "start_time": "2025-02-24T09:18:01.134777Z"
    }
   },
   "cell_type": "code",
   "source": "print(carre)",
   "id": "87b7e73d97453ed5",
   "outputs": [
    {
     "name": "stdout",
     "output_type": "stream",
     "text": [
      "169\n"
     ]
    }
   ],
   "execution_count": 55
  },
  {
   "metadata": {
    "ExecuteTime": {
     "end_time": "2025-02-24T09:22:47.678618Z",
     "start_time": "2025-02-24T09:22:47.671993Z"
    }
   },
   "cell_type": "code",
   "source": [
    "addition = carre+17\n",
    "print(addition)"
   ],
   "id": "902b6e49d20742ea",
   "outputs": [
    {
     "name": "stdout",
     "output_type": "stream",
     "text": [
      "186\n"
     ]
    }
   ],
   "execution_count": 61
  },
  {
   "metadata": {
    "ExecuteTime": {
     "end_time": "2025-02-24T09:26:38.442234Z",
     "start_time": "2025-02-24T09:26:38.436037Z"
    }
   },
   "cell_type": "code",
   "source": [
    "division = addition //12\n",
    "print(division)"
   ],
   "id": "a269ad2b49b279a4",
   "outputs": [
    {
     "name": "stdout",
     "output_type": "stream",
     "text": [
      "15\n"
     ]
    }
   ],
   "execution_count": 68
  },
  {
   "metadata": {
    "ExecuteTime": {
     "end_time": "2025-02-24T09:26:08.019712Z",
     "start_time": "2025-02-24T09:26:08.012145Z"
    }
   },
   "cell_type": "code",
   "source": "reste = addition %12",
   "id": "5093bab61450669e",
   "outputs": [],
   "execution_count": 65
  },
  {
   "metadata": {
    "ExecuteTime": {
     "end_time": "2025-02-24T09:26:11.717865Z",
     "start_time": "2025-02-24T09:26:11.707585Z"
    }
   },
   "cell_type": "code",
   "source": "reste",
   "id": "99327314e4c3d3ac",
   "outputs": [
    {
     "data": {
      "text/plain": [
       "6"
      ]
     },
     "execution_count": 66,
     "metadata": {},
     "output_type": "execute_result"
    }
   ],
   "execution_count": 66
  },
  {
   "metadata": {
    "ExecuteTime": {
     "end_time": "2025-02-24T09:27:43.156479Z",
     "start_time": "2025-02-24T09:27:43.145283Z"
    }
   },
   "cell_type": "code",
   "source": [
    "# On prend le premier nombre premier\n",
    "x = nombres_premiers[0]\n",
    "\n",
    "# On élève au carré\n",
    "x **= 2\n",
    "\n",
    "# On ajoute 17\n",
    "x += 17\n",
    "\n",
    "# On divise par 12 et on garde le reste\n",
    "x %= 12\n",
    "\n",
    "# On affiche le résultat\n",
    "print(x)"
   ],
   "id": "f170d1590465bab5",
   "outputs": [
    {
     "name": "stdout",
     "output_type": "stream",
     "text": [
      "6\n"
     ]
    }
   ],
   "execution_count": 69
  },
  {
   "metadata": {
    "ExecuteTime": {
     "end_time": "2025-02-24T09:40:12.019838Z",
     "start_time": "2025-02-24T09:40:12.012718Z"
    }
   },
   "cell_type": "code",
   "source": [
    "x = 7\n",
    "y = 3\n",
    "z = 2\n",
    "y**=7\n",
    "z**=14\n",
    "print(y)\n",
    "print(z)"
   ],
   "id": "22ef3bf2f47c5e6f",
   "outputs": [
    {
     "name": "stdout",
     "output_type": "stream",
     "text": [
      "2187\n",
      "16384\n"
     ]
    }
   ],
   "execution_count": 72
  },
  {
   "metadata": {
    "ExecuteTime": {
     "end_time": "2025-02-24T09:46:05.966589Z",
     "start_time": "2025-02-24T09:46:05.957168Z"
    }
   },
   "cell_type": "code",
   "source": "print((3**7 + 2**14)%7 ==0)",
   "id": "98811e620c12a6b6",
   "outputs": [
    {
     "name": "stdout",
     "output_type": "stream",
     "text": [
      "True\n"
     ]
    }
   ],
   "execution_count": 73
  },
  {
   "metadata": {
    "ExecuteTime": {
     "end_time": "2025-02-24T09:51:53.229229Z",
     "start_time": "2025-02-24T09:51:53.222468Z"
    }
   },
   "cell_type": "code",
   "source": [
    "n = 4\n",
    "print((3**(2*n+1)+2**(4*n+2))%7 ==0)"
   ],
   "id": "c380da7d1b474221",
   "outputs": [
    {
     "name": "stdout",
     "output_type": "stream",
     "text": [
      "True\n"
     ]
    }
   ],
   "execution_count": 79
  },
  {
   "metadata": {
    "ExecuteTime": {
     "end_time": "2025-02-24T09:52:14.248582Z",
     "start_time": "2025-02-24T09:52:14.239520Z"
    }
   },
   "cell_type": "code",
   "source": [
    "n=10\n",
    "print((3**(2*n+1)+2**(4*n+2))%7 ==0)"
   ],
   "id": "28c1b66b2cad530b",
   "outputs": [
    {
     "name": "stdout",
     "output_type": "stream",
     "text": [
      "True\n"
     ]
    }
   ],
   "execution_count": 80
  },
  {
   "metadata": {
    "ExecuteTime": {
     "end_time": "2025-02-24T09:52:22.290058Z",
     "start_time": "2025-02-24T09:52:22.281729Z"
    }
   },
   "cell_type": "code",
   "source": [
    "n=5\n",
    "print((3**(2*n+1)+2**(4*n+2))%7 ==0)"
   ],
   "id": "7104e7b353822644",
   "outputs": [
    {
     "name": "stdout",
     "output_type": "stream",
     "text": [
      "True\n"
     ]
    }
   ],
   "execution_count": 81
  },
  {
   "metadata": {},
   "cell_type": "markdown",
   "source": [
    "**Exercice: France vs Croatie**\n",
    "\n",
    "\n"
   ],
   "id": "83db56b663c58ef"
  },
  {
   "metadata": {},
   "cell_type": "markdown",
   "source": "",
   "id": "ab88df55b2e28421"
  },
  {
   "metadata": {
    "ExecuteTime": {
     "end_time": "2025-02-24T10:14:57.395854Z",
     "start_time": "2025-02-24T10:14:57.383669Z"
    }
   },
   "cell_type": "code",
   "source": [
    "extrait = ['Le', 'Brésil,', 'seule', 'équipe', 'à', 'avoir', 'disputé', 'toutes',\n",
    "           'les', 'phases', 'finales', 'de', 'la', 'compétition,', 'détient', 'le', 'record',\n",
    "           'avec', 'cinq', 'titres', 'mondiaux', 'et', \"s'est\", 'acquis', 'le', 'droit', 'de',\n",
    "           'conserver', 'la', 'Coupe', 'Jules-Rimet', 'en', '1970', 'après', 'sa', '3e',\n",
    "           'victoire', 'finale', 'dans', 'la', 'compétition,', 'avec', 'Pelé', 'seul',\n",
    "           'joueur', 'triple', 'champion', 'du', 'monde.', \"l'\", \"Italie\", 'et',\n",
    "           \"l'\", \"Allemagne\", 'comptent', 'quatre', 'trophées.', \"l'\", \"Uruguay,\", 'vainqueur',\n",
    "           'à', 'domicile', 'de', 'la', 'première', 'édition,', \"l'\", \"Argentine\", 'et',\n",
    "           'la', 'France', 'ont', 'gagné', 'chacune', 'deux', 'fois', 'la', 'Coupe,',\n",
    "           \"l'\", \"Angleterre\", 'et', \"l'\", \"Espagne\", 'une', 'fois.', 'La', 'dernière', 'édition',\n",
    "           \"s'est\", 'déroulée', 'en', 'Russie', 'en', '2018,', 'la', 'prochaine', 'doit',\n",
    "           'avoir', 'lieu', 'au', 'Qatar', 'en', '2022.', 'Celle', 'de', '2026,', 'aux',\n",
    "           'États-Unis,', 'au', 'Canada', 'et', 'au', 'Mexique)', 'sera', 'la', 'première',\n",
    "           'édition', 'à', '48', 'équipes', 'participantes.', 'La', 'Coupe', 'du', 'monde',\n",
    "           'de', 'football', 'est', \"l'\", \"événement\", 'sportif', 'le', 'plus', 'regardé', 'à',\n",
    "           'la', 'télévision', 'dans', 'le', 'monde', 'avec', 'les', 'Jeux', 'olympiques',\n",
    "           'et', 'la', 'Coupe', 'du', 'monde', 'de', 'cricket.']\n",
    "           "
   ],
   "id": "70e127b5bf1244cf",
   "outputs": [],
   "execution_count": 94
  },
  {
   "metadata": {
    "ExecuteTime": {
     "end_time": "2025-02-24T10:04:10.138996Z",
     "start_time": "2025-02-24T10:04:10.124345Z"
    }
   },
   "cell_type": "code",
   "source": [
    "pays = \"France\"\n",
    "if print(\"France\" in extrait):\n",
    "    print(\"La France est dans cette liste de mots\")\n",
    "else: print(\"La France n'est pas dans cette liste\")"
   ],
   "id": "13c2ed7a93ee6fc2",
   "outputs": [
    {
     "name": "stdout",
     "output_type": "stream",
     "text": [
      "True\n",
      "La France n'est pas dans cette liste\n"
     ]
    }
   ],
   "execution_count": 91
  },
  {
   "metadata": {
    "ExecuteTime": {
     "end_time": "2025-02-24T10:05:44.129267Z",
     "start_time": "2025-02-24T10:05:44.122919Z"
    }
   },
   "cell_type": "code",
   "source": [
    "x = \"France\"\n",
    "print(x in extrait)"
   ],
   "id": "5e96e58b8719da05",
   "outputs": [
    {
     "name": "stdout",
     "output_type": "stream",
     "text": [
      "True\n"
     ]
    }
   ],
   "execution_count": 93
  },
  {
   "metadata": {
    "ExecuteTime": {
     "end_time": "2025-02-24T10:18:20.878585Z",
     "start_time": "2025-02-24T10:18:20.857794Z"
    }
   },
   "cell_type": "code",
   "source": [
    "y = \"Croatie\"\n",
    "print(y not in extrait)"
   ],
   "id": "c8732eb590b1e4dc",
   "outputs": [
    {
     "name": "stdout",
     "output_type": "stream",
     "text": [
      "True\n"
     ]
    }
   ],
   "execution_count": 96
  },
  {
   "metadata": {
    "ExecuteTime": {
     "end_time": "2025-02-24T10:20:37.727925Z",
     "start_time": "2025-02-24T10:20:37.720197Z"
    }
   },
   "cell_type": "code",
   "source": "print(\"France\" in extrait and \"Croatie\" not in extrait)",
   "id": "589fac2260afd98e",
   "outputs": [
    {
     "name": "stdout",
     "output_type": "stream",
     "text": [
      "True\n"
     ]
    }
   ],
   "execution_count": 97
  },
  {
   "metadata": {},
   "cell_type": "code",
   "outputs": [],
   "execution_count": null,
   "source": "",
   "id": "c709e6fc9f44b976"
  },
  {
   "metadata": {},
   "cell_type": "markdown",
   "source": [
    "**Exercice**\n",
    "\n",
    "Le gouvernement a décidé d'offrir une prime de 300€ à certains fonctionnaires en fonction de leur salaire et de leur ancienneté. Comme toutes les autres mesures prises par le gouvernement, il est difficile de comprendre à qui cette mesure s'applique.\n",
    "\n",
    "De ce que vous avez compris, une personne peut toucher à la prime si :\n",
    "\n",
    ">* Critère 1 : Elle a **moins de 5 ans d'ancienneté et son salaire est strictement inférieur à 1500 euros.**\n",
    "* Critère 2 : Elle a **entre 5 et 10 ans d'ancienneté et son salaire est compris entre 1500 et 2300 euros.**\n",
    "* Critère 3 : Elle a **plus de 10 ans d'ancienneté** et son salaire est **strictement inférieur à 1500 euros ou supérieur à 2300 euros.** C'est à dire qu'une personne ayant plus de 10 ans d'ancienneté et un salaire entre 1500 et 2300 euros ne peut pas toucher à cette prime.\n",
    "\n",
    "\n",
    "Christophe a 12 ans d'ancienneté et un salaire de 2400 euros.\n",
    "\n",
    "Adam a 6 ans d'ancienneté et un salaire de 1490 euros.\n",
    "\n",
    "* (a) Déterminer à l'aide des mêmes expressions logiques qui parmi Christophe et Adam peut toucher à cette prime. Pour cela vous pourrez :\n",
    ">* Créer deux variables anciennete et salaire.\n",
    ">* Évaluer les 3 critères de décision en fonction des variables anciennete et salaire.\n",
    ">* Vérifier si au moins un des critères est satisfait.\n",
    "\n",
    "Pour tester si une valeur x est entre deux valeurs a et b, vous pouvez au choix :\n",
    ">* Faire deux comparaisons en deux expressions avec un ET logique : x > a and x < b.\n",
    "* Faire deux comparaisons en une unique expression : a < x < b."
   ],
   "id": "24c0204096238d39"
  },
  {
   "metadata": {},
   "cell_type": "code",
   "outputs": [],
   "execution_count": null,
   "source": "",
   "id": "5585af88085aa03"
  },
  {
   "metadata": {},
   "cell_type": "code",
   "outputs": [],
   "execution_count": null,
   "source": "",
   "id": "f955d33163b3f2d9"
  },
  {
   "metadata": {},
   "cell_type": "code",
   "outputs": [],
   "execution_count": null,
   "source": "",
   "id": "3f658348fe400b91"
  },
  {
   "metadata": {},
   "cell_type": "code",
   "outputs": [],
   "execution_count": null,
   "source": "",
   "id": "387fd9396b32bd57"
  },
  {
   "metadata": {},
   "cell_type": "code",
   "outputs": [],
   "execution_count": null,
   "source": "",
   "id": "bd470c8d14482684"
  }
 ],
 "metadata": {
  "kernelspec": {
   "display_name": "Python 3",
   "language": "python",
   "name": "python3"
  },
  "language_info": {
   "codemirror_mode": {
    "name": "ipython",
    "version": 2
   },
   "file_extension": ".py",
   "mimetype": "text/x-python",
   "name": "python",
   "nbconvert_exporter": "python",
   "pygments_lexer": "ipython2",
   "version": "2.7.6"
  }
 },
 "nbformat": 4,
 "nbformat_minor": 5
}
