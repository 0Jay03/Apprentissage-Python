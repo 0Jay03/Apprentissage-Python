{
 "cells": [
  {
   "cell_type": "code",
   "id": "initial_id",
   "metadata": {
    "collapsed": true,
    "ExecuteTime": {
     "end_time": "2025-02-26T11:08:50.068281Z",
     "start_time": "2025-02-26T11:08:50.058042Z"
    }
   },
   "source": [
    "liste_de_prenoms = [\"Adam\", \"Christophe\", \"Florian\"]\n",
    "liste_de_langues = [ \"Français\", \"Anglais\", \"Espagnol\"]\n",
    "for prenom in liste_de_prenoms:\n",
    "    for langues in liste_de_langues:\n",
    "        print(prenom, \":\", langues)"
   ],
   "outputs": [
    {
     "name": "stdout",
     "output_type": "stream",
     "text": [
      "Adam : Français\n",
      "Adam : Anglais\n",
      "Adam : Espagnol\n",
      "Christophe : Français\n",
      "Christophe : Anglais\n",
      "Christophe : Espagnol\n",
      "Florian : Français\n",
      "Florian : Anglais\n",
      "Florian : Espagnol\n"
     ]
    }
   ],
   "execution_count": 1
  },
  {
   "metadata": {
    "ExecuteTime": {
     "end_time": "2025-02-26T11:15:08.423146Z",
     "start_time": "2025-02-26T11:15:08.417969Z"
    }
   },
   "cell_type": "code",
   "source": "",
   "id": "a8d3f0f18f57c33a",
   "outputs": [],
   "execution_count": null
  },
  {
   "metadata": {
    "ExecuteTime": {
     "end_time": "2025-02-26T11:14:56.708758Z",
     "start_time": "2025-02-26T11:14:56.699631Z"
    }
   },
   "cell_type": "code",
   "source": [
    "liste_de_langues = [\n",
    "    [\"Français\", \"Espagnol\", \"Italien\"],\n",
    "    [\"Néerlandais\", \"Allemand\", \"Anglais\"]\n",
    "]\n",
    "for groupe_de_langues in liste_de_langues:\n",
    "    for langues in groupe_de_langues:\n",
    "        print(langues)"
   ],
   "id": "7a6d53f7306d170c",
   "outputs": [
    {
     "name": "stdout",
     "output_type": "stream",
     "text": [
      "Français\n",
      "Espagnol\n",
      "Italien\n",
      "Néerlandais\n",
      "Allemand\n",
      "Anglais\n"
     ]
    }
   ],
   "execution_count": 10
  },
  {
   "metadata": {
    "ExecuteTime": {
     "end_time": "2025-02-26T15:13:55.734866Z",
     "start_time": "2025-02-26T15:13:55.722193Z"
    }
   },
   "cell_type": "code",
   "source": [
    "text = ['Le', 'Brésil,', 'seule', 'équipe', 'à', 'avoir', 'disputé', 'toutes',\n",
    "        'les', 'phases', 'finales', 'de', 'la', 'compétition,', 'détient', 'le', 'record',\n",
    "        'avec', 'cinq', 'titres', 'mondiaux', 'et', \"s'est\", 'acquis', 'le', 'droit', 'de',\n",
    "        'conserver', 'la', 'Coupe', 'Jules-Rimet', 'en', '1970', 'après', 'sa', '3e',\n",
    "        'victoire', 'finale', 'dans', 'la', 'compétition,', 'avec', 'Pelé', 'seul',\n",
    "        'joueur', 'triple', 'champion', 'du', 'monde.', \"l'\", \"Italie\", 'et',\n",
    "        \"l'\", \"Allemagne\", 'comptent', 'quatre', 'trophées.', \"l'\", \"Uruguay,\", 'vainqueur',\n",
    "        'à', 'domicile', 'de', 'la', 'première', 'édition,', \"l'\", \"Argentine\", 'et',\n",
    "        'la', 'France', 'ont', 'gagné', 'chacune', 'deux', 'fois', 'la', 'Coupe,',\n",
    "        \"l'\", \"Angleterre\", 'et', \"l'\", \"Espagne\", 'une', 'fois.', 'La', 'dernière', 'édition',\n",
    "        \"s'est\", 'déroulée', 'en', 'Russie', 'en', '2018,', 'la', 'prochaine', 'doit',\n",
    "        'avoir', 'lieu', 'au', 'Qatar', 'en', '2022.', 'Celle', 'de', '2026,', 'aux',\n",
    "        'États-Unis,', 'au', 'Canada', 'et', 'au', 'Mexique)', 'sera', 'la', 'première',\n",
    "        'édition', 'à', '48', 'équipes', 'participantes.', 'La', 'Coupe', 'du', 'monde',\n",
    "        'de', 'football', 'est', \"l'\", \"événement\", 'sportif', 'le', 'plus', 'regardé', 'à',\n",
    "        'la', 'télévision', 'dans', 'le', 'monde', 'avec', 'les', 'Jeux', 'olympiques',\n",
    "        'et', 'la', 'Coupe', 'du', 'monde', 'de', 'cricket.']\n",
    "\n",
    "cardinalite_lettre_a = 0\n",
    "for mot in text:\n",
    "  for lettre in mot:\n",
    "      if lettre == \"a\":\n",
    "          cardinalite_lettre_a += 1\n",
    "print(cardinalite_lettre_a)"
   ],
   "id": "b633822d5206c696",
   "outputs": [
    {
     "name": "stdout",
     "output_type": "stream",
     "text": [
      "52\n"
     ]
    }
   ],
   "execution_count": 50
  },
  {
   "metadata": {
    "ExecuteTime": {
     "end_time": "2025-02-27T10:05:55.187996Z",
     "start_time": "2025-02-27T10:05:55.178554Z"
    }
   },
   "cell_type": "code",
   "source": [
    "# (a) Stocker dans une liste nommée puissances_trois les 10 premières puissances de 3.\n",
    "puissances_trois = [3**k for k in range(10)]\n",
    "print(puissances_trois)"
   ],
   "id": "3aab8688bb098743",
   "outputs": [
    {
     "name": "stdout",
     "output_type": "stream",
     "text": [
      "[1, 3, 9, 27, 81, 243, 729, 2187, 6561, 19683]\n"
     ]
    }
   ],
   "execution_count": 3
  },
  {
   "metadata": {
    "ExecuteTime": {
     "end_time": "2025-02-27T10:15:53.985857Z",
     "start_time": "2025-02-27T10:15:53.973613Z"
    }
   },
   "cell_type": "code",
   "source": [
    "# (b) Une liste liste_nombres vous est donnée. Créer une nouvelle liste liste_double contenant le double de chacun de ses éléments.\n",
    "liste_nombres = [10, 12, 7, 3, 26, 2, 19]\n",
    "liste_double = [nombres*2 for nombres in liste_nombres]\n",
    "print(liste_double)"
   ],
   "id": "697ceabd2b6b2412",
   "outputs": [
    {
     "name": "stdout",
     "output_type": "stream",
     "text": [
      "[20, 24, 14, 6, 52, 4, 38]\n"
     ]
    }
   ],
   "execution_count": 5
  },
  {
   "metadata": {},
   "cell_type": "code",
   "outputs": [],
   "execution_count": null,
   "source": "# (c) À partir de liste_nombres, créer une liste liste_pairs qui pour chaque nombre de liste_nombres indique \"pair\" si le nombre est pair, et \"impair\" sinon. La parité peut être testée à l'aide de l'opérateur modulo %",
   "id": "664fce271db04321"
  },
  {
   "metadata": {
    "ExecuteTime": {
     "end_time": "2025-02-27T13:31:02.900638Z",
     "start_time": "2025-02-27T13:31:02.893212Z"
    }
   },
   "cell_type": "code",
   "source": [
    "liste_pairs = [\"pair\" if nombres %2 ==0 else \"impair\" for  nombres in liste_nombres ]\n",
    "print(liste_pairs)"
   ],
   "id": "217b5b7ed76983c",
   "outputs": [
    {
     "name": "stdout",
     "output_type": "stream",
     "text": [
      "['pair', 'pair', 'impair', 'impair', 'pair', 'pair', 'impair']\n"
     ]
    }
   ],
   "execution_count": 10
  },
  {
   "metadata": {},
   "cell_type": "code",
   "outputs": [],
   "execution_count": null,
   "source": "",
   "id": "d039811ae092eee3"
  },
  {
   "metadata": {},
   "cell_type": "code",
   "outputs": [],
   "execution_count": null,
   "source": "",
   "id": "13f35d22c9ee09ab"
  },
  {
   "metadata": {},
   "cell_type": "code",
   "outputs": [],
   "execution_count": null,
   "source": "",
   "id": "df6fd42704014aae"
  },
  {
   "metadata": {},
   "cell_type": "code",
   "outputs": [],
   "execution_count": null,
   "source": "",
   "id": "4c82c8c1ebd32c6a"
  },
  {
   "metadata": {},
   "cell_type": "code",
   "outputs": [],
   "execution_count": null,
   "source": "",
   "id": "275faa3fbdbcf5a"
  },
  {
   "metadata": {},
   "cell_type": "code",
   "outputs": [],
   "execution_count": null,
   "source": "",
   "id": "f8bb191a4de58fae"
  },
  {
   "metadata": {},
   "cell_type": "code",
   "outputs": [],
   "execution_count": null,
   "source": "",
   "id": "8930c337be15fc5e"
  },
  {
   "metadata": {},
   "cell_type": "code",
   "outputs": [],
   "execution_count": null,
   "source": "",
   "id": "451a3b5793741682"
  },
  {
   "metadata": {},
   "cell_type": "code",
   "outputs": [],
   "execution_count": null,
   "source": "",
   "id": "ed5f3cd1620d319f"
  },
  {
   "metadata": {},
   "cell_type": "code",
   "outputs": [],
   "execution_count": null,
   "source": "",
   "id": "1f434590360d4c6e"
  }
 ],
 "metadata": {
  "kernelspec": {
   "display_name": "Python 3",
   "language": "python",
   "name": "python3"
  },
  "language_info": {
   "codemirror_mode": {
    "name": "ipython",
    "version": 2
   },
   "file_extension": ".py",
   "mimetype": "text/x-python",
   "name": "python",
   "nbconvert_exporter": "python",
   "pygments_lexer": "ipython2",
   "version": "2.7.6"
  }
 },
 "nbformat": 4,
 "nbformat_minor": 5
}
