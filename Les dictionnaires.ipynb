{
 "cells": [
  {
   "cell_type": "code",
   "id": "initial_id",
   "metadata": {
    "collapsed": true,
    "ExecuteTime": {
     "end_time": "2025-02-18T10:05:45.953757Z",
     "start_time": "2025-02-18T10:05:45.938239Z"
    }
   },
   "source": [
    "#Exercice 1: Exploration des méthodes des dictionnaires\n",
    "\n",
    "#Definition du dictionnaire client\n",
    "client = {\n",
    "    'identifiant': '29dmk5d',\n",
    "    'premiere_inscription': '2023-02-03',\n",
    "    'email': 'example@companie.com'\n",
    "}\n",
    "# Commande pour afficher la valeur de l identifiant de client\n",
    "client['identifiant']\n",
    "\n",
    "#Resultat pour la clé non existante nombre_achat\n",
    "\n",
    "client.get('nombre_achat', 0)\n",
    "\n",
    "#Ajout du dictionnaire supplementaire\n",
    "info_supplementaire={\n",
    "    'identifiant': '29dmk5d',\n",
    "    'date_de_naissance': '1992-02-23',\n",
    "    'ville': 'Montpellier'\n",
    "}\n",
    "client.update(info_supplementaire)\n",
    "cles = client.keys()\n",
    "print('les clés du dictionnaire client sont:', cles)\n",
    "client.copy()"
   ],
   "outputs": [
    {
     "name": "stdout",
     "output_type": "stream",
     "text": [
      "les clés du dictionnaire client sont: dict_keys(['identifiant', 'premiere_inscription', 'email', 'date_de_naissance', 'ville'])\n"
     ]
    },
    {
     "data": {
      "text/plain": [
       "{'identifiant': '29dmk5d',\n",
       " 'premiere_inscription': '2023-02-03',\n",
       " 'email': 'example@companie.com',\n",
       " 'date_de_naissance': '1992-02-23',\n",
       " 'ville': 'Montpellier'}"
      ]
     },
     "execution_count": 13,
     "metadata": {},
     "output_type": "execute_result"
    }
   ],
   "execution_count": 13
  },
  {
   "metadata": {
    "ExecuteTime": {
     "end_time": "2025-02-18T10:09:01.630240Z",
     "start_time": "2025-02-18T10:09:01.620431Z"
    }
   },
   "cell_type": "code",
   "source": [
    "client.update({'identifiant':'nouvel_identifiant'})\n",
    "print(client)"
   ],
   "id": "6d824a5eb57ed5a3",
   "outputs": [
    {
     "name": "stdout",
     "output_type": "stream",
     "text": [
      "{'identifiant': 'nouvel_identifiant', 'premiere_inscription': '2023-02-03', 'email': 'example@companie.com', 'date_de_naissance': '1992-02-23', 'ville': 'Montpellier', 'identifant': 'nouvel_identifiant'}\n"
     ]
    }
   ],
   "execution_count": 18
  },
  {
   "metadata": {
    "ExecuteTime": {
     "end_time": "2025-02-18T10:11:31.530871Z",
     "start_time": "2025-02-18T10:11:31.522664Z"
    }
   },
   "cell_type": "code",
   "source": [
    "client.pop('identifant')\n",
    "client.items()"
   ],
   "id": "cab6582581105c3",
   "outputs": [
    {
     "data": {
      "text/plain": [
       "dict_items([('identifiant', 'nouvel_identifiant'), ('premiere_inscription', '2023-02-03'), ('email', 'example@companie.com'), ('date_de_naissance', '1992-02-23'), ('ville', 'Montpellier')])"
      ]
     },
     "execution_count": 20,
     "metadata": {},
     "output_type": "execute_result"
    }
   ],
   "execution_count": 20
  },
  {
   "metadata": {
    "ExecuteTime": {
     "end_time": "2025-02-18T10:12:31.354824Z",
     "start_time": "2025-02-18T10:12:31.345139Z"
    }
   },
   "cell_type": "code",
   "source": "list(client.items())",
   "id": "69cb2d0551017297",
   "outputs": [
    {
     "data": {
      "text/plain": [
       "[('identifiant', 'nouvel_identifiant'),\n",
       " ('premiere_inscription', '2023-02-03'),\n",
       " ('email', 'example@companie.com'),\n",
       " ('date_de_naissance', '1992-02-23'),\n",
       " ('ville', 'Montpellier')]"
      ]
     },
     "execution_count": 21,
     "metadata": {},
     "output_type": "execute_result"
    }
   ],
   "execution_count": 21
  },
  {
   "metadata": {},
   "cell_type": "code",
   "outputs": [],
   "execution_count": null,
   "source": "",
   "id": "277042ac4a473d67"
  },
  {
   "metadata": {},
   "cell_type": "code",
   "outputs": [],
   "execution_count": null,
   "source": "",
   "id": "cf3a989f40ba5833"
  },
  {
   "metadata": {},
   "cell_type": "code",
   "outputs": [],
   "execution_count": null,
   "source": "",
   "id": "b48505ff7574bae9"
  }
 ],
 "metadata": {
  "kernelspec": {
   "display_name": "Python 3",
   "language": "python",
   "name": "python3"
  },
  "language_info": {
   "codemirror_mode": {
    "name": "ipython",
    "version": 2
   },
   "file_extension": ".py",
   "mimetype": "text/x-python",
   "name": "python",
   "nbconvert_exporter": "python",
   "pygments_lexer": "ipython2",
   "version": "2.7.6"
  }
 },
 "nbformat": 4,
 "nbformat_minor": 5
}
