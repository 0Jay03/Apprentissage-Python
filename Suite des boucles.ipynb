{
 "cells": [
  {
   "cell_type": "code",
   "id": "initial_id",
   "metadata": {
    "collapsed": true,
    "ExecuteTime": {
     "end_time": "2025-02-26T01:37:04.207617Z",
     "start_time": "2025-02-26T01:37:04.203637Z"
    }
   },
   "source": [
    "notes = [8, 12, 15, 9, 10, 18, 7, 13, 11, 14, 5, 19, 6]\n",
    "i = 0\n",
    "while i < len(notes):\n",
    "    if notes[i] >= 10:\n",
    "        print(notes[i])\n",
    "    i += 1\n",
    "print(f\"Le nombre de moyenne est de {i}\")"
   ],
   "outputs": [
    {
     "name": "stdout",
     "output_type": "stream",
     "text": [
      "12\n",
      "15\n",
      "10\n",
      "18\n",
      "13\n",
      "11\n",
      "14\n",
      "19\n",
      "Le nombre de moyenne est de 13\n"
     ]
    }
   ],
   "execution_count": 10
  },
  {
   "metadata": {
    "ExecuteTime": {
     "end_time": "2025-02-26T01:35:52.238663Z",
     "start_time": "2025-02-26T01:35:52.235297Z"
    }
   },
   "cell_type": "code",
   "source": [
    "notes = [8, 12, 15, 9, 10, 18, 7, 13, 11, 14, 5, 19, 6]\n",
    "i = 0\n",
    "\n",
    "while i < len(notes):  # Vérifier que i ne dépasse pas la taille de la liste\n",
    "    if notes[i] >= 10:  \n",
    "        print(notes[i])\n",
    "    i += 1  # Passer à l'élément suivant\n"
   ],
   "id": "a7850193d6ee6e5e",
   "outputs": [
    {
     "name": "stdout",
     "output_type": "stream",
     "text": [
      "12\n",
      "15\n",
      "10\n",
      "18\n",
      "13\n",
      "11\n",
      "14\n",
      "19\n"
     ]
    }
   ],
   "execution_count": 7
  },
  {
   "metadata": {
    "ExecuteTime": {
     "end_time": "2025-02-26T02:15:39.779675Z",
     "start_time": "2025-02-26T02:15:39.776576Z"
    }
   },
   "cell_type": "code",
   "source": [
    "# Exercice: Trouver les temperatures negatives\n",
    "# Une liste de températures a été relevée sur un mois. Affiche toutes les températures négatives et compte combien il y en a.\n",
    "temperatures = [3, -2, 7, -5, 0, -1, 6, 8, -7, -3, 12, 14]\n",
    "\n",
    "# TODO: Afficher toutes les températures négatives\n",
    "# TODO: Compter le nombre de températures négatives\n",
    "i = 0\n",
    "nombre = 0\n",
    "while i < len(temperatures):\n",
    "     temperatures[i] < 0:\n",
    "        print(temperatures[i])\n",
    "        nombre += 1\n",
    "    i += 1\n"
   ],
   "id": "1c57a18012539d53",
   "outputs": [
    {
     "ename": "IndentationError",
     "evalue": "unindent does not match any outer indentation level (<string>, line 13)",
     "output_type": "error",
     "traceback": [
      "\u001B[1;36m  File \u001B[1;32m<string>:13\u001B[1;36m\u001B[0m\n\u001B[1;33m    i += 1\u001B[0m\n\u001B[1;37m          ^\u001B[0m\n\u001B[1;31mIndentationError\u001B[0m\u001B[1;31m:\u001B[0m unindent does not match any outer indentation level\n"
     ]
    }
   ],
   "execution_count": 5
  },
  {
   "metadata": {},
   "cell_type": "code",
   "outputs": [],
   "execution_count": null,
   "source": "",
   "id": "4b889dfa49bfd97d"
  },
  {
   "metadata": {},
   "cell_type": "markdown",
   "source": [
    "**Exercice :**\n",
    "\n",
    "Un professeur a sous-évalué ses élèves, et souhaite réhausser les notes de ceux-ci pour obtenir une moyenne de classe supérieure à 10/20.\n",
    "\n",
    "Les notes des élèves ont été intégrées à la liste suivante :\n",
    "\n",
    "`bad_marks = [0, 2, 3, 3, 3, 3, 4, 5, 5, 5, 6, 6, 6, 6, 6, 7, 7, 8, 8, 8, 8, 8, 8, 9, 10, 10, 10, 11, 12, 14]`\n",
    "\n",
    "A l'aide de boucles for :\n",
    "\n",
    "* Calculer et afficher la moyenne de la classe. Il y a 30 élèves dans la classe.\n",
    "* Créer une liste good_marks où vous stockerez les notes augmentées de 4 points. Pour cela, vous pouvez créer une liste vide puis ajouter les notes une par une.\n",
    "* Vérifier que la nouvelle moyenne est supérieure à 10."
   ],
   "id": "73953f8c89f8e5f"
  },
  {
   "metadata": {
    "ExecuteTime": {
     "end_time": "2025-02-26T02:50:10.971779Z",
     "start_time": "2025-02-26T02:50:10.968684Z"
    }
   },
   "cell_type": "code",
   "source": "bad_marks = [0, 2, 3, 3, 3, 3, 4, 5, 5, 5, 6, 6, 6, 6, 6, 7, 7, 8, 8, 8, 8, 8, 8, 9, 10, 10, 10, 11, 12, 14]",
   "id": "b9015799b8826d9b",
   "outputs": [],
   "execution_count": 6
  },
  {
   "metadata": {
    "ExecuteTime": {
     "end_time": "2025-02-26T02:52:26.417068Z",
     "start_time": "2025-02-26T02:52:26.413568Z"
    }
   },
   "cell_type": "code",
   "source": [
    "# Calcul et Affiche la moyenne\n",
    "moyenne = sum(bad_marks)/30\n",
    "print(f\"La moyenne de la classe est de {moyenne}\")"
   ],
   "id": "806d1fa524a56d49",
   "outputs": [
    {
     "name": "stdout",
     "output_type": "stream",
     "text": [
      "La moyenne de la classe est de 6.7\n"
     ]
    }
   ],
   "execution_count": 10
  },
  {
   "metadata": {},
   "cell_type": "code",
   "outputs": [],
   "execution_count": null,
   "source": "",
   "id": "ebf78ae0bd471218"
  },
  {
   "metadata": {},
   "cell_type": "code",
   "outputs": [],
   "execution_count": null,
   "source": "",
   "id": "63c60a42979bdda0"
  },
  {
   "metadata": {},
   "cell_type": "code",
   "outputs": [],
   "execution_count": null,
   "source": "",
   "id": "9666de38797033e2"
  },
  {
   "metadata": {},
   "cell_type": "code",
   "outputs": [],
   "execution_count": null,
   "source": "",
   "id": "fddbfe043850cd24"
  },
  {
   "metadata": {},
   "cell_type": "code",
   "outputs": [],
   "execution_count": null,
   "source": "",
   "id": "20066b4f4fb726a0"
  },
  {
   "metadata": {},
   "cell_type": "code",
   "outputs": [],
   "execution_count": null,
   "source": "",
   "id": "152758b86a43b1b1"
  }
 ],
 "metadata": {
  "kernelspec": {
   "display_name": "Python 3",
   "language": "python",
   "name": "python3"
  },
  "language_info": {
   "codemirror_mode": {
    "name": "ipython",
    "version": 2
   },
   "file_extension": ".py",
   "mimetype": "text/x-python",
   "name": "python",
   "nbconvert_exporter": "python",
   "pygments_lexer": "ipython2",
   "version": "2.7.6"
  }
 },
 "nbformat": 4,
 "nbformat_minor": 5
}
