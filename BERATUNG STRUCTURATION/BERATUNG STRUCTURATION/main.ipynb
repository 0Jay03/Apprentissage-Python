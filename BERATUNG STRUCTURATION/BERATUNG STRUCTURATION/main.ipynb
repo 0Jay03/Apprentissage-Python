{
 "cells": [
  {
   "cell_type": "code",
   "id": "initial_id",
   "metadata": {
    "collapsed": true,
    "ExecuteTime": {
     "end_time": "2025-04-04T11:33:40.081768Z",
     "start_time": "2025-04-04T11:33:37.132310Z"
    }
   },
   "source": [
    "import os\n",
    "import time\n",
    "import logging\n",
    "from watchdog.observers import Observer\n",
    "from watchdog.events import FileSystemEventHandler\n",
    "from add_new_products import add_new_products_to_database\n",
    "import traceback\n",
    "\n",
    "# Configuration du logger\n",
    "log_file = \"log.txt\"\n",
    "logging.basicConfig(\n",
    "    filename=log_file,\n",
    "    level=logging.INFO,\n",
    "    format=\"%(asctime)s - %(levelname)s - %(message)s\",\n",
    "    filemode=\"a\"\n",
    ")\n",
    "\n",
    "# Fichier Excel à surveiller\n",
    "excel_file = \"Eingabehilfe.xlsx\"  # Assurez-vous que le chemin est correct et accessible\n",
    "\n",
    "def process_data():\n",
    "    \"\"\"Lance le traitement des nouveaux produits à partir du fichier Excel.\"\"\"\n",
    "    logging.info(f\"🔄 Lancement du traitement des produits à partir de {excel_file}...\")\n",
    "    try:\n",
    "        add_new_products_to_database()\n",
    "        logging.info(\"✅ Traitement des produits terminé avec succès.\")\n",
    "    except Exception as e:\n",
    "        logging.error(f\"🚨 Erreur pendant le traitement des produits : {e}\")\n",
    "        logging.error(traceback.format_exc())  # 🔥 Ce log montre la ligne exacte de l’erreur\n",
    "\n",
    "class ExcelFileHandler(FileSystemEventHandler):\n",
    "    \"\"\"Classe pour gérer les événements de modification du fichier Excel.\"\"\"\n",
    "\n",
    "    def on_modified(self, event):\n",
    "        if os.path.abspath(event.src_path) == os.path.abspath(excel_file):\n",
    "            logging.info(f\"📂 Modification détectée sur {excel_file}, relance du traitement...\")\n",
    "            process_data()\n",
    "\n",
    "# 🔹 Exécution initiale au démarrage\n",
    "process_data()\n",
    "\n",
    "# 🔹 Initialisation de l'observateur de fichiers\n",
    "event_handler = ExcelFileHandler()\n",
    "observer = Observer()\n",
    "observer.schedule(event_handler, path=os.path.dirname(os.path.abspath(excel_file)), recursive=False)\n",
    "\n",
    "logging.info(f\"👀 Surveillance du fichier {excel_file} en cours...\")\n",
    "observer.start()\n",
    "\n",
    "try:\n",
    "    while True:\n",
    "        time.sleep(1)  # Garde le programme actif\n",
    "except KeyboardInterrupt:\n",
    "    logging.info(\"🛑 Arrêt du programme...\")\n",
    "    observer.stop()\n",
    "    observer.join()\n"
   ],
   "outputs": [
    {
     "ename": "ModuleNotFoundError",
     "evalue": "No module named 'utils.params'",
     "output_type": "error",
     "traceback": [
      "\u001B[1;31m---------------------------------------------------------------------------\u001B[0m",
      "\u001B[1;31mModuleNotFoundError\u001B[0m                       Traceback (most recent call last)",
      "Cell \u001B[1;32mIn[1], line 6\u001B[0m\n\u001B[0;32m      4\u001B[0m \u001B[38;5;28;01mfrom\u001B[39;00m\u001B[38;5;250m \u001B[39m\u001B[38;5;21;01mwatchdog\u001B[39;00m\u001B[38;5;21;01m.\u001B[39;00m\u001B[38;5;21;01mobservers\u001B[39;00m\u001B[38;5;250m \u001B[39m\u001B[38;5;28;01mimport\u001B[39;00m Observer\n\u001B[0;32m      5\u001B[0m \u001B[38;5;28;01mfrom\u001B[39;00m\u001B[38;5;250m \u001B[39m\u001B[38;5;21;01mwatchdog\u001B[39;00m\u001B[38;5;21;01m.\u001B[39;00m\u001B[38;5;21;01mevents\u001B[39;00m\u001B[38;5;250m \u001B[39m\u001B[38;5;28;01mimport\u001B[39;00m FileSystemEventHandler\n\u001B[1;32m----> 6\u001B[0m \u001B[38;5;28;01mfrom\u001B[39;00m\u001B[38;5;250m \u001B[39m\u001B[38;5;21;01madd_new_products\u001B[39;00m\u001B[38;5;250m \u001B[39m\u001B[38;5;28;01mimport\u001B[39;00m add_new_products_to_database\n\u001B[0;32m      7\u001B[0m \u001B[38;5;28;01mimport\u001B[39;00m\u001B[38;5;250m \u001B[39m\u001B[38;5;21;01mtraceback\u001B[39;00m\n\u001B[0;32m      9\u001B[0m \u001B[38;5;66;03m# Configuration du logger\u001B[39;00m\n",
      "File \u001B[1;32m~\\Desktop\\Apprentissage Python\\BERATUNG STRUCTURATION\\BERATUNG STRUCTURATION\\add_new_products.py:5\u001B[0m\n\u001B[0;32m      3\u001B[0m \u001B[38;5;28;01mfrom\u001B[39;00m\u001B[38;5;250m \u001B[39m\u001B[38;5;21;01mmodels\u001B[39;00m\u001B[38;5;21;01m.\u001B[39;00m\u001B[38;5;21;01mimage_files_requests\u001B[39;00m\u001B[38;5;250m \u001B[39m\u001B[38;5;28;01mimport\u001B[39;00m update_files_image_requests_response\n\u001B[0;32m      4\u001B[0m \u001B[38;5;28;01mfrom\u001B[39;00m\u001B[38;5;250m \u001B[39m\u001B[38;5;21;01mmodels\u001B[39;00m\u001B[38;5;21;01m.\u001B[39;00m\u001B[38;5;21;01mupdate_image_only\u001B[39;00m\u001B[38;5;250m \u001B[39m\u001B[38;5;28;01mimport\u001B[39;00m process_and_update_image\n\u001B[1;32m----> 5\u001B[0m \u001B[38;5;28;01mfrom\u001B[39;00m\u001B[38;5;250m \u001B[39m\u001B[38;5;21;01mservices\u001B[39;00m\u001B[38;5;21;01m.\u001B[39;00m\u001B[38;5;21;01mcheck_image\u001B[39;00m\u001B[38;5;250m \u001B[39m\u001B[38;5;28;01mimport\u001B[39;00m find_images_in_directory\n\u001B[0;32m      6\u001B[0m \u001B[38;5;28;01mfrom\u001B[39;00m\u001B[38;5;250m \u001B[39m\u001B[38;5;21;01mservices\u001B[39;00m\u001B[38;5;21;01m.\u001B[39;00m\u001B[38;5;21;01mextract_excel_encoding_brandl\u001B[39;00m\u001B[38;5;250m \u001B[39m\u001B[38;5;28;01mimport\u001B[39;00m process_excel_to_json\n\u001B[0;32m      7\u001B[0m \u001B[38;5;28;01mfrom\u001B[39;00m\u001B[38;5;250m \u001B[39m\u001B[38;5;21;01mservices\u001B[39;00m\u001B[38;5;21;01m.\u001B[39;00m\u001B[38;5;21;01mfiltered_db_beratung\u001B[39;00m\u001B[38;5;250m \u001B[39m\u001B[38;5;28;01mimport\u001B[39;00m process_filtered_db_materials\n",
      "File \u001B[1;32m~\\Desktop\\Apprentissage Python\\BERATUNG STRUCTURATION\\BERATUNG STRUCTURATION\\services\\check_image.py:6\u001B[0m\n\u001B[0;32m      3\u001B[0m \u001B[38;5;28;01mimport\u001B[39;00m\u001B[38;5;250m \u001B[39m\u001B[38;5;21;01mglob\u001B[39;00m\n\u001B[0;32m      4\u001B[0m \u001B[38;5;28;01mfrom\u001B[39;00m\u001B[38;5;250m \u001B[39m\u001B[38;5;21;01mrapidfuzz\u001B[39;00m\u001B[38;5;250m \u001B[39m\u001B[38;5;28;01mimport\u001B[39;00m process, fuzz\n\u001B[1;32m----> 6\u001B[0m \u001B[38;5;28;01mfrom\u001B[39;00m\u001B[38;5;250m \u001B[39m\u001B[38;5;21;01mutils\u001B[39;00m\u001B[38;5;21;01m.\u001B[39;00m\u001B[38;5;21;01mparams\u001B[39;00m\u001B[38;5;250m \u001B[39m\u001B[38;5;28;01mimport\u001B[39;00m IMAGE_EXTENSIONS, IMAGE_EXTENSIONS_PDF\n\u001B[0;32m      7\u001B[0m \u001B[38;5;28;01mfrom\u001B[39;00m\u001B[38;5;250m \u001B[39m\u001B[38;5;21;01mutils\u001B[39;00m\u001B[38;5;21;01m.\u001B[39;00m\u001B[38;5;21;01mutils\u001B[39;00m\u001B[38;5;250m \u001B[39m\u001B[38;5;28;01mimport\u001B[39;00m save_json, load_json, fuzzy_match\n\u001B[0;32m      9\u001B[0m \u001B[38;5;66;03m# Main Functions\u001B[39;00m\n",
      "\u001B[1;31mModuleNotFoundError\u001B[0m: No module named 'utils.params'"
     ]
    }
   ],
   "execution_count": 1
  },
  {
   "metadata": {},
   "cell_type": "code",
   "outputs": [],
   "execution_count": null,
   "source": "",
   "id": "f2f6b34f4600de4c"
  }
 ],
 "metadata": {
  "kernelspec": {
   "display_name": "Python 3",
   "language": "python",
   "name": "python3"
  },
  "language_info": {
   "codemirror_mode": {
    "name": "ipython",
    "version": 2
   },
   "file_extension": ".py",
   "mimetype": "text/x-python",
   "name": "python",
   "nbconvert_exporter": "python",
   "pygments_lexer": "ipython2",
   "version": "2.7.6"
  }
 },
 "nbformat": 4,
 "nbformat_minor": 5
}
