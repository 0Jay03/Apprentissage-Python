{
 "cells": [
  {
   "metadata": {},
   "cell_type": "markdown",
   "source": "+ FONCTION A UN ARGUMENT",
   "id": "4bee8a389f31d371"
  },
  {
   "cell_type": "code",
   "id": "initial_id",
   "metadata": {
    "collapsed": true,
    "ExecuteTime": {
     "end_time": "2025-03-04T05:37:14.601690Z",
     "start_time": "2025-03-04T05:37:14.599255Z"
    }
   },
   "source": [
    "# Exercice 1: Fonction qui calcule le double d'un nombre\n",
    "def doubler(x):\n",
    "    return (x*2)"
   ],
   "outputs": [],
   "execution_count": 9
  },
  {
   "metadata": {
    "ExecuteTime": {
     "end_time": "2025-03-04T05:37:16.191400Z",
     "start_time": "2025-03-04T05:37:16.187433Z"
    }
   },
   "cell_type": "code",
   "source": "doubler(4)",
   "id": "3cff3700cd9d028d",
   "outputs": [
    {
     "data": {
      "text/plain": [
       "8"
      ]
     },
     "execution_count": 10,
     "metadata": {},
     "output_type": "execute_result"
    }
   ],
   "execution_count": 10
  },
  {
   "metadata": {
    "ExecuteTime": {
     "end_time": "2025-03-04T06:26:32.140579Z",
     "start_time": "2025-03-04T06:26:32.137068Z"
    }
   },
   "cell_type": "code",
   "source": [
    "# Exercice 2: Écrire une fonction nommée uniques qui prend en argument une liste et renvoie une nouvelle liste contenant les valeurs uniques de cette liste\n",
    "liste = [1, 1, 2, 2, 2, 3, 3, \"Bonjour\"]\n",
    "\n",
    "def uniques(liste):\n",
    "    result = []\n",
    "    for element in liste:\n",
    "        if element not in result:\n",
    "            result.append(element)\n",
    "    return result\n",
    "print(uniques(liste))"
   ],
   "id": "6fdb2b3132e53832",
   "outputs": [
    {
     "name": "stdout",
     "output_type": "stream",
     "text": [
      "[1, 2, 3, 'Bonjour']\n"
     ]
    }
   ],
   "execution_count": 22
  },
  {
   "metadata": {
    "ExecuteTime": {
     "end_time": "2025-03-04T06:38:47.154864Z",
     "start_time": "2025-03-04T06:38:47.151206Z"
    }
   },
   "cell_type": "code",
   "source": [
    "# Exercice 3: Écrire une fonction nommée list_product qui prend en argument une liste de nombres et calcule à l'aide d'une boucle le produit de tous les nombres dans la liste.\n",
    "test_list = [1, 0.12, -54, 12, 0.33, 12]\n",
    "\n",
    "def list_product(test_list): # Il vaut mieux entrer le nom de l'argument diifferent du nom de la variable\n",
    "    x = 1\n",
    "    for element in test_list:\n",
    "        x *= element\n",
    "    return x\n",
    "print(list_product(test_list))"
   ],
   "id": "d7327699ceeca88d",
   "outputs": [
    {
     "name": "stdout",
     "output_type": "stream",
     "text": [
      "-307.9296\n"
     ]
    }
   ],
   "execution_count": 30
  },
  {
   "metadata": {},
   "cell_type": "markdown",
   "source": "* FONCTION A PLUSIEURS ARGUMENTS",
   "id": "151f7aa6b2773dbb"
  },
  {
   "metadata": {
    "ExecuteTime": {
     "end_time": "2025-03-04T07:10:11.006813Z",
     "start_time": "2025-03-04T07:10:11.003295Z"
    }
   },
   "cell_type": "code",
   "source": [
    "                    # Exercice 1: Exercice sur les fonctions à plusieurs arguments\n",
    "# Créer une fonction power4, qui prend en argument un nombre x et renvoit les 4 premières puissances de ce nombre ( x^1,x^2,x^3,x^4 )\n",
    "\n",
    "def power4(x):\n",
    "    for i in range(5):\n",
    "        resultat = x**i\n",
    "    return ()\n",
    "print(power4(x))\n",
    "    "
   ],
   "id": "c58f3325b2fbf8d1",
   "outputs": [
    {
     "name": "stdout",
     "output_type": "stream",
     "text": [
      "1\n"
     ]
    }
   ],
   "execution_count": 33
  },
  {
   "metadata": {
    "ExecuteTime": {
     "end_time": "2025-03-04T07:10:26.477297Z",
     "start_time": "2025-03-04T07:10:26.473422Z"
    }
   },
   "cell_type": "code",
   "source": "power4(2)",
   "id": "872a6e8a55179e82",
   "outputs": [
    {
     "data": {
      "text/plain": [
       "16"
      ]
     },
     "execution_count": 34,
     "metadata": {},
     "output_type": "execute_result"
    }
   ],
   "execution_count": 34
  },
  {
   "metadata": {},
   "cell_type": "code",
   "outputs": [],
   "execution_count": null,
   "source": "",
   "id": "93b90057e479be9d"
  }
 ],
 "metadata": {
  "kernelspec": {
   "display_name": "Python 3",
   "language": "python",
   "name": "python3"
  },
  "language_info": {
   "codemirror_mode": {
    "name": "ipython",
    "version": 2
   },
   "file_extension": ".py",
   "mimetype": "text/x-python",
   "name": "python",
   "nbconvert_exporter": "python",
   "pygments_lexer": "ipython2",
   "version": "2.7.6"
  }
 },
 "nbformat": 4,
 "nbformat_minor": 5
}
