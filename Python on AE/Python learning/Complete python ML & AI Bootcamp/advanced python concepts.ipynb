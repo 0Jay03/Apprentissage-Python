{
 "cells": [
  {
   "metadata": {},
   "cell_type": "markdown",
   "source": "#### COmment start with",
   "id": "1e0ca3c6dc92d743"
  },
  {
   "cell_type": "code",
   "id": "initial_id",
   "metadata": {
    "collapsed": true,
    "ExecuteTime": {
     "end_time": "2025-03-04T13:05:50.841120Z",
     "start_time": "2025-03-04T13:05:50.815148Z"
    }
   },
   "source": [
    "import json\n",
    "\n",
    "x = {\n",
    "    \"name\": \"Alex\",\n",
    "    \"age\": 49,\n",
    "    \"married\": True,\n",
    "    \"children\": (\"Natalia\", \"Bob\"),\n",
    "    \"cars\": [\n",
    "        {\"model\": \"BMW\"},\n",
    "        {\"model\": \"Toyota\"}\n",
    "    ]\n",
    "}\n",
    "\n",
    "print(json.dumps(x, indent=2))"
   ],
   "outputs": [
    {
     "name": "stdout",
     "output_type": "stream",
     "text": [
      "{\n",
      "  \"name\": \"Alex\",\n",
      "  \"age\": 49,\n",
      "  \"married\": true,\n",
      "  \"children\": [\n",
      "    \"Natalia\",\n",
      "    \"Bob\"\n",
      "  ],\n",
      "  \"cars\": [\n",
      "    {\n",
      "      \"model\": \"BMW\"\n",
      "    },\n",
      "    {\n",
      "      \"model\": \"Toyota\"\n",
      "    }\n",
      "  ]\n",
      "}\n"
     ]
    }
   ],
   "execution_count": 2
  },
  {
   "metadata": {},
   "cell_type": "code",
   "outputs": [],
   "execution_count": null,
   "source": "",
   "id": "83b2f476c2399e3"
  }
 ],
 "metadata": {
  "kernelspec": {
   "display_name": "Python 3",
   "language": "python",
   "name": "python3"
  },
  "language_info": {
   "codemirror_mode": {
    "name": "ipython",
    "version": 2
   },
   "file_extension": ".py",
   "mimetype": "text/x-python",
   "name": "python",
   "nbconvert_exporter": "python",
   "pygments_lexer": "ipython2",
   "version": "2.7.6"
  }
 },
 "nbformat": 4,
 "nbformat_minor": 5
}
