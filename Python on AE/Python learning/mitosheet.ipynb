{
 "cells": [
  {
   "cell_type": "code",
   "id": "initial_id",
   "metadata": {
    "collapsed": true,
    "ExecuteTime": {
     "end_time": "2025-02-19T12:28:12.325035Z",
     "start_time": "2025-02-19T12:27:47.933968Z"
    }
   },
   "source": "pip install mitosheet",
   "outputs": [
    {
     "name": "stdout",
     "output_type": "stream",
     "text": [
      "Requirement already satisfied: mitosheet in c:\\users\\brice daleu\\miniconda3\\lib\\site-packages (0.2.14)\n",
      "Requirement already satisfied: jupyterlab~=4.0 in c:\\users\\brice daleu\\miniconda3\\lib\\site-packages (from mitosheet) (4.3.4)\n",
      "Requirement already satisfied: pandas>=0.24.2 in c:\\users\\brice daleu\\miniconda3\\lib\\site-packages (from mitosheet) (2.2.3)\n",
      "Requirement already satisfied: analytics-python in c:\\users\\brice daleu\\miniconda3\\lib\\site-packages (from mitosheet) (1.4.post1)\n",
      "Requirement already satisfied: plotly<6.0.0,>=4.14.3 in c:\\users\\brice daleu\\miniconda3\\lib\\site-packages (from mitosheet) (5.24.1)\n",
      "Requirement already satisfied: chardet>=3.0.4 in c:\\users\\brice daleu\\miniconda3\\lib\\site-packages (from mitosheet) (5.2.0)\n",
      "Requirement already satisfied: openpyxl in c:\\users\\brice daleu\\miniconda3\\lib\\site-packages (from mitosheet) (3.1.5)\n",
      "Requirement already satisfied: packaging in c:\\users\\brice daleu\\miniconda3\\lib\\site-packages (from mitosheet) (23.2)\n",
      "Requirement already satisfied: async-lru>=1.0.0 in c:\\users\\brice daleu\\miniconda3\\lib\\site-packages (from jupyterlab~=4.0->mitosheet) (2.0.4)\n",
      "Requirement already satisfied: httpx>=0.25.0 in c:\\users\\brice daleu\\miniconda3\\lib\\site-packages (from jupyterlab~=4.0->mitosheet) (0.27.0)\n",
      "Requirement already satisfied: ipykernel>=6.5.0 in c:\\users\\brice daleu\\miniconda3\\lib\\site-packages (from jupyterlab~=4.0->mitosheet) (6.29.5)\n",
      "Requirement already satisfied: jinja2>=3.0.3 in c:\\users\\brice daleu\\miniconda3\\lib\\site-packages (from jupyterlab~=4.0->mitosheet) (3.1.5)\n",
      "Requirement already satisfied: jupyter-core in c:\\users\\brice daleu\\miniconda3\\lib\\site-packages (from jupyterlab~=4.0->mitosheet) (5.7.2)\n",
      "Requirement already satisfied: jupyter-lsp>=2.0.0 in c:\\users\\brice daleu\\miniconda3\\lib\\site-packages (from jupyterlab~=4.0->mitosheet) (2.2.0)\n",
      "Requirement already satisfied: jupyter-server<3,>=2.4.0 in c:\\users\\brice daleu\\miniconda3\\lib\\site-packages (from jupyterlab~=4.0->mitosheet) (2.14.1)\n",
      "Requirement already satisfied: jupyterlab-server<3,>=2.27.1 in c:\\users\\brice daleu\\miniconda3\\lib\\site-packages (from jupyterlab~=4.0->mitosheet) (2.27.3)\n",
      "Requirement already satisfied: notebook-shim>=0.2 in c:\\users\\brice daleu\\miniconda3\\lib\\site-packages (from jupyterlab~=4.0->mitosheet) (0.2.3)\n",
      "Requirement already satisfied: setuptools>=40.8.0 in c:\\users\\brice daleu\\miniconda3\\lib\\site-packages (from jupyterlab~=4.0->mitosheet) (68.2.2)\n",
      "Requirement already satisfied: tornado>=6.2.0 in c:\\users\\brice daleu\\miniconda3\\lib\\site-packages (from jupyterlab~=4.0->mitosheet) (6.4.2)\n",
      "Requirement already satisfied: traitlets in c:\\users\\brice daleu\\miniconda3\\lib\\site-packages (from jupyterlab~=4.0->mitosheet) (5.14.3)\n",
      "Requirement already satisfied: numpy>=1.26.0 in c:\\users\\brice daleu\\miniconda3\\lib\\site-packages (from pandas>=0.24.2->mitosheet) (2.2.2)\n",
      "Requirement already satisfied: python-dateutil>=2.8.2 in c:\\users\\brice daleu\\miniconda3\\lib\\site-packages (from pandas>=0.24.2->mitosheet) (2.9.0.post0)\n",
      "Requirement already satisfied: pytz>=2020.1 in c:\\users\\brice daleu\\miniconda3\\lib\\site-packages (from pandas>=0.24.2->mitosheet) (2024.1)\n",
      "Requirement already satisfied: tzdata>=2022.7 in c:\\users\\brice daleu\\miniconda3\\lib\\site-packages (from pandas>=0.24.2->mitosheet) (2023.3)\n",
      "Requirement already satisfied: tenacity>=6.2.0 in c:\\users\\brice daleu\\miniconda3\\lib\\site-packages (from plotly<6.0.0,>=4.14.3->mitosheet) (9.0.0)\n",
      "Requirement already satisfied: requests<3.0,>=2.7 in c:\\users\\brice daleu\\miniconda3\\lib\\site-packages (from analytics-python->mitosheet) (2.31.0)\n",
      "Requirement already satisfied: six>=1.5 in c:\\users\\brice daleu\\miniconda3\\lib\\site-packages (from analytics-python->mitosheet) (1.16.0)\n",
      "Requirement already satisfied: monotonic>=1.5 in c:\\users\\brice daleu\\miniconda3\\lib\\site-packages (from analytics-python->mitosheet) (1.6)\n",
      "Requirement already satisfied: backoff==1.10.0 in c:\\users\\brice daleu\\miniconda3\\lib\\site-packages (from analytics-python->mitosheet) (1.10.0)\n",
      "Requirement already satisfied: et-xmlfile in c:\\users\\brice daleu\\miniconda3\\lib\\site-packages (from openpyxl->mitosheet) (2.0.0)\n",
      "Requirement already satisfied: anyio in c:\\users\\brice daleu\\miniconda3\\lib\\site-packages (from httpx>=0.25.0->jupyterlab~=4.0->mitosheet) (4.6.2)\n",
      "Requirement already satisfied: certifi in c:\\users\\brice daleu\\miniconda3\\lib\\site-packages (from httpx>=0.25.0->jupyterlab~=4.0->mitosheet) (2025.1.31)\n",
      "Requirement already satisfied: httpcore==1.* in c:\\users\\brice daleu\\miniconda3\\lib\\site-packages (from httpx>=0.25.0->jupyterlab~=4.0->mitosheet) (1.0.2)\n",
      "Requirement already satisfied: idna in c:\\users\\brice daleu\\miniconda3\\lib\\site-packages (from httpx>=0.25.0->jupyterlab~=4.0->mitosheet) (3.4)\n",
      "Requirement already satisfied: sniffio in c:\\users\\brice daleu\\miniconda3\\lib\\site-packages (from httpx>=0.25.0->jupyterlab~=4.0->mitosheet) (1.3.0)\n",
      "Requirement already satisfied: h11<0.15,>=0.13 in c:\\users\\brice daleu\\miniconda3\\lib\\site-packages (from httpcore==1.*->httpx>=0.25.0->jupyterlab~=4.0->mitosheet) (0.14.0)\n",
      "Requirement already satisfied: comm>=0.1.1 in c:\\users\\brice daleu\\miniconda3\\lib\\site-packages (from ipykernel>=6.5.0->jupyterlab~=4.0->mitosheet) (0.2.1)\n",
      "Requirement already satisfied: debugpy>=1.6.5 in c:\\users\\brice daleu\\miniconda3\\lib\\site-packages (from ipykernel>=6.5.0->jupyterlab~=4.0->mitosheet) (1.8.11)\n",
      "Requirement already satisfied: ipython>=7.23.1 in c:\\users\\brice daleu\\miniconda3\\lib\\site-packages (from ipykernel>=6.5.0->jupyterlab~=4.0->mitosheet) (8.30.0)\n",
      "Requirement already satisfied: jupyter-client>=6.1.12 in c:\\users\\brice daleu\\miniconda3\\lib\\site-packages (from ipykernel>=6.5.0->jupyterlab~=4.0->mitosheet) (8.6.3)\n",
      "Requirement already satisfied: matplotlib-inline>=0.1 in c:\\users\\brice daleu\\miniconda3\\lib\\site-packages (from ipykernel>=6.5.0->jupyterlab~=4.0->mitosheet) (0.1.6)\n",
      "Requirement already satisfied: nest-asyncio in c:\\users\\brice daleu\\miniconda3\\lib\\site-packages (from ipykernel>=6.5.0->jupyterlab~=4.0->mitosheet) (1.6.0)\n",
      "Requirement already satisfied: psutil in c:\\users\\brice daleu\\miniconda3\\lib\\site-packages (from ipykernel>=6.5.0->jupyterlab~=4.0->mitosheet) (5.9.0)\n",
      "Requirement already satisfied: pyzmq>=24 in c:\\users\\brice daleu\\miniconda3\\lib\\site-packages (from ipykernel>=6.5.0->jupyterlab~=4.0->mitosheet) (26.2.0)\n",
      "Requirement already satisfied: MarkupSafe>=2.0 in c:\\users\\brice daleu\\miniconda3\\lib\\site-packages (from jinja2>=3.0.3->jupyterlab~=4.0->mitosheet) (3.0.2)\n",
      "Requirement already satisfied: platformdirs>=2.5 in c:\\users\\brice daleu\\miniconda3\\lib\\site-packages (from jupyter-core->jupyterlab~=4.0->mitosheet) (3.10.0)\n",
      "Requirement already satisfied: pywin32>=300 in c:\\users\\brice daleu\\miniconda3\\lib\\site-packages (from jupyter-core->jupyterlab~=4.0->mitosheet) (308)\n",
      "Requirement already satisfied: argon2-cffi>=21.1 in c:\\users\\brice daleu\\miniconda3\\lib\\site-packages (from jupyter-server<3,>=2.4.0->jupyterlab~=4.0->mitosheet) (21.3.0)\n",
      "Requirement already satisfied: jupyter-events>=0.9.0 in c:\\users\\brice daleu\\miniconda3\\lib\\site-packages (from jupyter-server<3,>=2.4.0->jupyterlab~=4.0->mitosheet) (0.10.0)\n",
      "Requirement already satisfied: jupyter-server-terminals>=0.4.4 in c:\\users\\brice daleu\\miniconda3\\lib\\site-packages (from jupyter-server<3,>=2.4.0->jupyterlab~=4.0->mitosheet) (0.4.4)\n",
      "Requirement already satisfied: nbconvert>=6.4.4 in c:\\users\\brice daleu\\miniconda3\\lib\\site-packages (from jupyter-server<3,>=2.4.0->jupyterlab~=4.0->mitosheet) (7.16.4)\n",
      "Requirement already satisfied: nbformat>=5.3.0 in c:\\users\\brice daleu\\miniconda3\\lib\\site-packages (from jupyter-server<3,>=2.4.0->jupyterlab~=4.0->mitosheet) (5.10.4)\n",
      "Requirement already satisfied: overrides>=5.0 in c:\\users\\brice daleu\\miniconda3\\lib\\site-packages (from jupyter-server<3,>=2.4.0->jupyterlab~=4.0->mitosheet) (7.4.0)\n",
      "Requirement already satisfied: prometheus-client>=0.9 in c:\\users\\brice daleu\\miniconda3\\lib\\site-packages (from jupyter-server<3,>=2.4.0->jupyterlab~=4.0->mitosheet) (0.21.0)\n",
      "Requirement already satisfied: pywinpty>=2.0.1 in c:\\users\\brice daleu\\miniconda3\\lib\\site-packages (from jupyter-server<3,>=2.4.0->jupyterlab~=4.0->mitosheet) (2.0.14)\n",
      "Requirement already satisfied: send2trash>=1.8.2 in c:\\users\\brice daleu\\miniconda3\\lib\\site-packages (from jupyter-server<3,>=2.4.0->jupyterlab~=4.0->mitosheet) (1.8.2)\n",
      "Requirement already satisfied: terminado>=0.8.3 in c:\\users\\brice daleu\\miniconda3\\lib\\site-packages (from jupyter-server<3,>=2.4.0->jupyterlab~=4.0->mitosheet) (0.17.1)\n",
      "Requirement already satisfied: websocket-client>=1.7 in c:\\users\\brice daleu\\miniconda3\\lib\\site-packages (from jupyter-server<3,>=2.4.0->jupyterlab~=4.0->mitosheet) (1.8.0)\n",
      "Requirement already satisfied: babel>=2.10 in c:\\users\\brice daleu\\miniconda3\\lib\\site-packages (from jupyterlab-server<3,>=2.27.1->jupyterlab~=4.0->mitosheet) (2.16.0)\n",
      "Requirement already satisfied: json5>=0.9.0 in c:\\users\\brice daleu\\miniconda3\\lib\\site-packages (from jupyterlab-server<3,>=2.27.1->jupyterlab~=4.0->mitosheet) (0.9.25)\n",
      "Requirement already satisfied: jsonschema>=4.18.0 in c:\\users\\brice daleu\\miniconda3\\lib\\site-packages (from jupyterlab-server<3,>=2.27.1->jupyterlab~=4.0->mitosheet) (4.23.0)\n",
      "Requirement already satisfied: charset-normalizer<4,>=2 in c:\\users\\brice daleu\\miniconda3\\lib\\site-packages (from requests<3.0,>=2.7->analytics-python->mitosheet) (2.0.4)\n",
      "Requirement already satisfied: urllib3<3,>=1.21.1 in c:\\users\\brice daleu\\miniconda3\\lib\\site-packages (from requests<3.0,>=2.7->analytics-python->mitosheet) (2.1.0)\n",
      "Requirement already satisfied: argon2-cffi-bindings in c:\\users\\brice daleu\\miniconda3\\lib\\site-packages (from argon2-cffi>=21.1->jupyter-server<3,>=2.4.0->jupyterlab~=4.0->mitosheet) (21.2.0)\n",
      "Requirement already satisfied: decorator in c:\\users\\brice daleu\\miniconda3\\lib\\site-packages (from ipython>=7.23.1->ipykernel>=6.5.0->jupyterlab~=4.0->mitosheet) (5.1.1)\n",
      "Requirement already satisfied: jedi>=0.16 in c:\\users\\brice daleu\\miniconda3\\lib\\site-packages (from ipython>=7.23.1->ipykernel>=6.5.0->jupyterlab~=4.0->mitosheet) (0.19.2)\n",
      "Requirement already satisfied: prompt-toolkit<3.1.0,>=3.0.41 in c:\\users\\brice daleu\\miniconda3\\lib\\site-packages (from ipython>=7.23.1->ipykernel>=6.5.0->jupyterlab~=4.0->mitosheet) (3.0.43)\n",
      "Requirement already satisfied: pygments>=2.4.0 in c:\\users\\brice daleu\\miniconda3\\lib\\site-packages (from ipython>=7.23.1->ipykernel>=6.5.0->jupyterlab~=4.0->mitosheet) (2.15.1)\n",
      "Requirement already satisfied: stack-data in c:\\users\\brice daleu\\miniconda3\\lib\\site-packages (from ipython>=7.23.1->ipykernel>=6.5.0->jupyterlab~=4.0->mitosheet) (0.2.0)\n",
      "Requirement already satisfied: colorama in c:\\users\\brice daleu\\miniconda3\\lib\\site-packages (from ipython>=7.23.1->ipykernel>=6.5.0->jupyterlab~=4.0->mitosheet) (0.4.6)\n",
      "Requirement already satisfied: attrs>=22.2.0 in c:\\users\\brice daleu\\miniconda3\\lib\\site-packages (from jsonschema>=4.18.0->jupyterlab-server<3,>=2.27.1->jupyterlab~=4.0->mitosheet) (24.3.0)\n",
      "Requirement already satisfied: jsonschema-specifications>=2023.03.6 in c:\\users\\brice daleu\\miniconda3\\lib\\site-packages (from jsonschema>=4.18.0->jupyterlab-server<3,>=2.27.1->jupyterlab~=4.0->mitosheet) (2023.7.1)\n",
      "Requirement already satisfied: referencing>=0.28.4 in c:\\users\\brice daleu\\miniconda3\\lib\\site-packages (from jsonschema>=4.18.0->jupyterlab-server<3,>=2.27.1->jupyterlab~=4.0->mitosheet) (0.30.2)\n",
      "Requirement already satisfied: rpds-py>=0.7.1 in c:\\users\\brice daleu\\miniconda3\\lib\\site-packages (from jsonschema>=4.18.0->jupyterlab-server<3,>=2.27.1->jupyterlab~=4.0->mitosheet) (0.22.3)\n",
      "Requirement already satisfied: python-json-logger>=2.0.4 in c:\\users\\brice daleu\\miniconda3\\lib\\site-packages (from jupyter-events>=0.9.0->jupyter-server<3,>=2.4.0->jupyterlab~=4.0->mitosheet) (3.2.1)\n",
      "Requirement already satisfied: pyyaml>=5.3 in c:\\users\\brice daleu\\miniconda3\\lib\\site-packages (from jupyter-events>=0.9.0->jupyter-server<3,>=2.4.0->jupyterlab~=4.0->mitosheet) (6.0.2)\n",
      "Requirement already satisfied: rfc3339-validator in c:\\users\\brice daleu\\miniconda3\\lib\\site-packages (from jupyter-events>=0.9.0->jupyter-server<3,>=2.4.0->jupyterlab~=4.0->mitosheet) (0.1.4)\n",
      "Requirement already satisfied: rfc3986-validator>=0.1.1 in c:\\users\\brice daleu\\miniconda3\\lib\\site-packages (from jupyter-events>=0.9.0->jupyter-server<3,>=2.4.0->jupyterlab~=4.0->mitosheet) (0.1.1)\n",
      "Requirement already satisfied: beautifulsoup4 in c:\\users\\brice daleu\\miniconda3\\lib\\site-packages (from nbconvert>=6.4.4->jupyter-server<3,>=2.4.0->jupyterlab~=4.0->mitosheet) (4.12.3)\n",
      "Requirement already satisfied: bleach!=5.0.0 in c:\\users\\brice daleu\\miniconda3\\lib\\site-packages (from nbconvert>=6.4.4->jupyter-server<3,>=2.4.0->jupyterlab~=4.0->mitosheet) (6.2.0)\n",
      "Requirement already satisfied: defusedxml in c:\\users\\brice daleu\\miniconda3\\lib\\site-packages (from nbconvert>=6.4.4->jupyter-server<3,>=2.4.0->jupyterlab~=4.0->mitosheet) (0.7.1)\n",
      "Requirement already satisfied: jupyterlab-pygments in c:\\users\\brice daleu\\miniconda3\\lib\\site-packages (from nbconvert>=6.4.4->jupyter-server<3,>=2.4.0->jupyterlab~=4.0->mitosheet) (0.1.2)\n",
      "Requirement already satisfied: mistune<4,>=2.0.3 in c:\\users\\brice daleu\\miniconda3\\lib\\site-packages (from nbconvert>=6.4.4->jupyter-server<3,>=2.4.0->jupyterlab~=4.0->mitosheet) (2.0.4)\n",
      "Requirement already satisfied: nbclient>=0.5.0 in c:\\users\\brice daleu\\miniconda3\\lib\\site-packages (from nbconvert>=6.4.4->jupyter-server<3,>=2.4.0->jupyterlab~=4.0->mitosheet) (0.8.0)\n",
      "Requirement already satisfied: pandocfilters>=1.4.1 in c:\\users\\brice daleu\\miniconda3\\lib\\site-packages (from nbconvert>=6.4.4->jupyter-server<3,>=2.4.0->jupyterlab~=4.0->mitosheet) (1.5.0)\n",
      "Requirement already satisfied: tinycss2 in c:\\users\\brice daleu\\miniconda3\\lib\\site-packages (from nbconvert>=6.4.4->jupyter-server<3,>=2.4.0->jupyterlab~=4.0->mitosheet) (1.4.0)\n",
      "Requirement already satisfied: fastjsonschema>=2.15 in c:\\users\\brice daleu\\miniconda3\\lib\\site-packages (from nbformat>=5.3.0->jupyter-server<3,>=2.4.0->jupyterlab~=4.0->mitosheet) (2.20.0)\n",
      "Requirement already satisfied: webencodings in c:\\users\\brice daleu\\miniconda3\\lib\\site-packages (from bleach!=5.0.0->nbconvert>=6.4.4->jupyter-server<3,>=2.4.0->jupyterlab~=4.0->mitosheet) (0.5.1)\n",
      "Requirement already satisfied: parso<0.9.0,>=0.8.4 in c:\\users\\brice daleu\\miniconda3\\lib\\site-packages (from jedi>=0.16->ipython>=7.23.1->ipykernel>=6.5.0->jupyterlab~=4.0->mitosheet) (0.8.4)\n",
      "Requirement already satisfied: fqdn in c:\\users\\brice daleu\\miniconda3\\lib\\site-packages (from jsonschema[format-nongpl]>=4.18.0->jupyter-events>=0.9.0->jupyter-server<3,>=2.4.0->jupyterlab~=4.0->mitosheet) (1.5.1)\n",
      "Requirement already satisfied: isoduration in c:\\users\\brice daleu\\miniconda3\\lib\\site-packages (from jsonschema[format-nongpl]>=4.18.0->jupyter-events>=0.9.0->jupyter-server<3,>=2.4.0->jupyterlab~=4.0->mitosheet) (20.11.0)\n",
      "Requirement already satisfied: jsonpointer>1.13 in c:\\users\\brice daleu\\miniconda3\\lib\\site-packages (from jsonschema[format-nongpl]>=4.18.0->jupyter-events>=0.9.0->jupyter-server<3,>=2.4.0->jupyterlab~=4.0->mitosheet) (2.1)\n",
      "Requirement already satisfied: uri-template in c:\\users\\brice daleu\\miniconda3\\lib\\site-packages (from jsonschema[format-nongpl]>=4.18.0->jupyter-events>=0.9.0->jupyter-server<3,>=2.4.0->jupyterlab~=4.0->mitosheet) (1.3.0)\n",
      "Requirement already satisfied: webcolors>=24.6.0 in c:\\users\\brice daleu\\miniconda3\\lib\\site-packages (from jsonschema[format-nongpl]>=4.18.0->jupyter-events>=0.9.0->jupyter-server<3,>=2.4.0->jupyterlab~=4.0->mitosheet) (24.11.1)\n",
      "Requirement already satisfied: wcwidth in c:\\users\\brice daleu\\miniconda3\\lib\\site-packages (from prompt-toolkit<3.1.0,>=3.0.41->ipython>=7.23.1->ipykernel>=6.5.0->jupyterlab~=4.0->mitosheet) (0.2.5)\n",
      "Requirement already satisfied: cffi>=1.0.1 in c:\\users\\brice daleu\\miniconda3\\lib\\site-packages (from argon2-cffi-bindings->argon2-cffi>=21.1->jupyter-server<3,>=2.4.0->jupyterlab~=4.0->mitosheet) (1.16.0)\n",
      "Requirement already satisfied: soupsieve>1.2 in c:\\users\\brice daleu\\miniconda3\\lib\\site-packages (from beautifulsoup4->nbconvert>=6.4.4->jupyter-server<3,>=2.4.0->jupyterlab~=4.0->mitosheet) (2.5)\n",
      "Requirement already satisfied: executing in c:\\users\\brice daleu\\miniconda3\\lib\\site-packages (from stack-data->ipython>=7.23.1->ipykernel>=6.5.0->jupyterlab~=4.0->mitosheet) (0.8.3)\n",
      "Requirement already satisfied: asttokens in c:\\users\\brice daleu\\miniconda3\\lib\\site-packages (from stack-data->ipython>=7.23.1->ipykernel>=6.5.0->jupyterlab~=4.0->mitosheet) (2.0.5)\n",
      "Requirement already satisfied: pure-eval in c:\\users\\brice daleu\\miniconda3\\lib\\site-packages (from stack-data->ipython>=7.23.1->ipykernel>=6.5.0->jupyterlab~=4.0->mitosheet) (0.2.2)\n",
      "Requirement already satisfied: pycparser in c:\\users\\brice daleu\\miniconda3\\lib\\site-packages (from cffi>=1.0.1->argon2-cffi-bindings->argon2-cffi>=21.1->jupyter-server<3,>=2.4.0->jupyterlab~=4.0->mitosheet) (2.21)\n",
      "Requirement already satisfied: arrow>=0.15.0 in c:\\users\\brice daleu\\miniconda3\\lib\\site-packages (from isoduration->jsonschema[format-nongpl]>=4.18.0->jupyter-events>=0.9.0->jupyter-server<3,>=2.4.0->jupyterlab~=4.0->mitosheet) (1.3.0)\n",
      "Requirement already satisfied: types-python-dateutil>=2.8.10 in c:\\users\\brice daleu\\miniconda3\\lib\\site-packages (from arrow>=0.15.0->isoduration->jsonschema[format-nongpl]>=4.18.0->jupyter-events>=0.9.0->jupyter-server<3,>=2.4.0->jupyterlab~=4.0->mitosheet) (2.9.0.20241206)\n",
      "Note: you may need to restart the kernel to use updated packages.\n"
     ]
    }
   ],
   "execution_count": 4
  },
  {
   "metadata": {
    "ExecuteTime": {
     "end_time": "2025-02-19T12:24:04.268360Z",
     "start_time": "2025-02-19T12:23:44.666305Z"
    }
   },
   "cell_type": "code",
   "source": [
    "import pandas as pd\n",
    "equipment = pd.read_csv('losses_equipment.csv')\n",
    "personnel = pd.read_csv('losses_personnel.csv')"
   ],
   "id": "a11b6f7f1144c633",
   "outputs": [
    {
     "ename": "FileNotFoundError",
     "evalue": "[Errno 2] No such file or directory: 'losses_equipment.csv'",
     "output_type": "error",
     "traceback": [
      "\u001B[1;31m---------------------------------------------------------------------------\u001B[0m",
      "\u001B[1;31mFileNotFoundError\u001B[0m                         Traceback (most recent call last)",
      "Cell \u001B[1;32mIn[3], line 2\u001B[0m\n\u001B[0;32m      1\u001B[0m \u001B[38;5;28;01mimport\u001B[39;00m \u001B[38;5;21;01mpandas\u001B[39;00m \u001B[38;5;28;01mas\u001B[39;00m \u001B[38;5;21;01mpd\u001B[39;00m\n\u001B[1;32m----> 2\u001B[0m equipment \u001B[38;5;241m=\u001B[39m pd\u001B[38;5;241m.\u001B[39mread_csv(\u001B[38;5;124m'\u001B[39m\u001B[38;5;124mlosses_equipment.csv\u001B[39m\u001B[38;5;124m'\u001B[39m)\n\u001B[0;32m      3\u001B[0m personnel \u001B[38;5;241m=\u001B[39m pd\u001B[38;5;241m.\u001B[39mread_csv(\u001B[38;5;124m'\u001B[39m\u001B[38;5;124mlosses_personnel.csv\u001B[39m\u001B[38;5;124m'\u001B[39m)\n",
      "File \u001B[1;32m~\\miniconda3\\Lib\\site-packages\\pandas\\io\\parsers\\readers.py:1026\u001B[0m, in \u001B[0;36mread_csv\u001B[1;34m(filepath_or_buffer, sep, delimiter, header, names, index_col, usecols, dtype, engine, converters, true_values, false_values, skipinitialspace, skiprows, skipfooter, nrows, na_values, keep_default_na, na_filter, verbose, skip_blank_lines, parse_dates, infer_datetime_format, keep_date_col, date_parser, date_format, dayfirst, cache_dates, iterator, chunksize, compression, thousands, decimal, lineterminator, quotechar, quoting, doublequote, escapechar, comment, encoding, encoding_errors, dialect, on_bad_lines, delim_whitespace, low_memory, memory_map, float_precision, storage_options, dtype_backend)\u001B[0m\n\u001B[0;32m   1013\u001B[0m kwds_defaults \u001B[38;5;241m=\u001B[39m _refine_defaults_read(\n\u001B[0;32m   1014\u001B[0m     dialect,\n\u001B[0;32m   1015\u001B[0m     delimiter,\n\u001B[1;32m   (...)\u001B[0m\n\u001B[0;32m   1022\u001B[0m     dtype_backend\u001B[38;5;241m=\u001B[39mdtype_backend,\n\u001B[0;32m   1023\u001B[0m )\n\u001B[0;32m   1024\u001B[0m kwds\u001B[38;5;241m.\u001B[39mupdate(kwds_defaults)\n\u001B[1;32m-> 1026\u001B[0m \u001B[38;5;28;01mreturn\u001B[39;00m _read(filepath_or_buffer, kwds)\n",
      "File \u001B[1;32m~\\miniconda3\\Lib\\site-packages\\pandas\\io\\parsers\\readers.py:620\u001B[0m, in \u001B[0;36m_read\u001B[1;34m(filepath_or_buffer, kwds)\u001B[0m\n\u001B[0;32m    617\u001B[0m _validate_names(kwds\u001B[38;5;241m.\u001B[39mget(\u001B[38;5;124m\"\u001B[39m\u001B[38;5;124mnames\u001B[39m\u001B[38;5;124m\"\u001B[39m, \u001B[38;5;28;01mNone\u001B[39;00m))\n\u001B[0;32m    619\u001B[0m \u001B[38;5;66;03m# Create the parser.\u001B[39;00m\n\u001B[1;32m--> 620\u001B[0m parser \u001B[38;5;241m=\u001B[39m TextFileReader(filepath_or_buffer, \u001B[38;5;241m*\u001B[39m\u001B[38;5;241m*\u001B[39mkwds)\n\u001B[0;32m    622\u001B[0m \u001B[38;5;28;01mif\u001B[39;00m chunksize \u001B[38;5;129;01mor\u001B[39;00m iterator:\n\u001B[0;32m    623\u001B[0m     \u001B[38;5;28;01mreturn\u001B[39;00m parser\n",
      "File \u001B[1;32m~\\miniconda3\\Lib\\site-packages\\pandas\\io\\parsers\\readers.py:1620\u001B[0m, in \u001B[0;36mTextFileReader.__init__\u001B[1;34m(self, f, engine, **kwds)\u001B[0m\n\u001B[0;32m   1617\u001B[0m     \u001B[38;5;28mself\u001B[39m\u001B[38;5;241m.\u001B[39moptions[\u001B[38;5;124m\"\u001B[39m\u001B[38;5;124mhas_index_names\u001B[39m\u001B[38;5;124m\"\u001B[39m] \u001B[38;5;241m=\u001B[39m kwds[\u001B[38;5;124m\"\u001B[39m\u001B[38;5;124mhas_index_names\u001B[39m\u001B[38;5;124m\"\u001B[39m]\n\u001B[0;32m   1619\u001B[0m \u001B[38;5;28mself\u001B[39m\u001B[38;5;241m.\u001B[39mhandles: IOHandles \u001B[38;5;241m|\u001B[39m \u001B[38;5;28;01mNone\u001B[39;00m \u001B[38;5;241m=\u001B[39m \u001B[38;5;28;01mNone\u001B[39;00m\n\u001B[1;32m-> 1620\u001B[0m \u001B[38;5;28mself\u001B[39m\u001B[38;5;241m.\u001B[39m_engine \u001B[38;5;241m=\u001B[39m \u001B[38;5;28mself\u001B[39m\u001B[38;5;241m.\u001B[39m_make_engine(f, \u001B[38;5;28mself\u001B[39m\u001B[38;5;241m.\u001B[39mengine)\n",
      "File \u001B[1;32m~\\miniconda3\\Lib\\site-packages\\pandas\\io\\parsers\\readers.py:1880\u001B[0m, in \u001B[0;36mTextFileReader._make_engine\u001B[1;34m(self, f, engine)\u001B[0m\n\u001B[0;32m   1878\u001B[0m     \u001B[38;5;28;01mif\u001B[39;00m \u001B[38;5;124m\"\u001B[39m\u001B[38;5;124mb\u001B[39m\u001B[38;5;124m\"\u001B[39m \u001B[38;5;129;01mnot\u001B[39;00m \u001B[38;5;129;01min\u001B[39;00m mode:\n\u001B[0;32m   1879\u001B[0m         mode \u001B[38;5;241m+\u001B[39m\u001B[38;5;241m=\u001B[39m \u001B[38;5;124m\"\u001B[39m\u001B[38;5;124mb\u001B[39m\u001B[38;5;124m\"\u001B[39m\n\u001B[1;32m-> 1880\u001B[0m \u001B[38;5;28mself\u001B[39m\u001B[38;5;241m.\u001B[39mhandles \u001B[38;5;241m=\u001B[39m get_handle(\n\u001B[0;32m   1881\u001B[0m     f,\n\u001B[0;32m   1882\u001B[0m     mode,\n\u001B[0;32m   1883\u001B[0m     encoding\u001B[38;5;241m=\u001B[39m\u001B[38;5;28mself\u001B[39m\u001B[38;5;241m.\u001B[39moptions\u001B[38;5;241m.\u001B[39mget(\u001B[38;5;124m\"\u001B[39m\u001B[38;5;124mencoding\u001B[39m\u001B[38;5;124m\"\u001B[39m, \u001B[38;5;28;01mNone\u001B[39;00m),\n\u001B[0;32m   1884\u001B[0m     compression\u001B[38;5;241m=\u001B[39m\u001B[38;5;28mself\u001B[39m\u001B[38;5;241m.\u001B[39moptions\u001B[38;5;241m.\u001B[39mget(\u001B[38;5;124m\"\u001B[39m\u001B[38;5;124mcompression\u001B[39m\u001B[38;5;124m\"\u001B[39m, \u001B[38;5;28;01mNone\u001B[39;00m),\n\u001B[0;32m   1885\u001B[0m     memory_map\u001B[38;5;241m=\u001B[39m\u001B[38;5;28mself\u001B[39m\u001B[38;5;241m.\u001B[39moptions\u001B[38;5;241m.\u001B[39mget(\u001B[38;5;124m\"\u001B[39m\u001B[38;5;124mmemory_map\u001B[39m\u001B[38;5;124m\"\u001B[39m, \u001B[38;5;28;01mFalse\u001B[39;00m),\n\u001B[0;32m   1886\u001B[0m     is_text\u001B[38;5;241m=\u001B[39mis_text,\n\u001B[0;32m   1887\u001B[0m     errors\u001B[38;5;241m=\u001B[39m\u001B[38;5;28mself\u001B[39m\u001B[38;5;241m.\u001B[39moptions\u001B[38;5;241m.\u001B[39mget(\u001B[38;5;124m\"\u001B[39m\u001B[38;5;124mencoding_errors\u001B[39m\u001B[38;5;124m\"\u001B[39m, \u001B[38;5;124m\"\u001B[39m\u001B[38;5;124mstrict\u001B[39m\u001B[38;5;124m\"\u001B[39m),\n\u001B[0;32m   1888\u001B[0m     storage_options\u001B[38;5;241m=\u001B[39m\u001B[38;5;28mself\u001B[39m\u001B[38;5;241m.\u001B[39moptions\u001B[38;5;241m.\u001B[39mget(\u001B[38;5;124m\"\u001B[39m\u001B[38;5;124mstorage_options\u001B[39m\u001B[38;5;124m\"\u001B[39m, \u001B[38;5;28;01mNone\u001B[39;00m),\n\u001B[0;32m   1889\u001B[0m )\n\u001B[0;32m   1890\u001B[0m \u001B[38;5;28;01massert\u001B[39;00m \u001B[38;5;28mself\u001B[39m\u001B[38;5;241m.\u001B[39mhandles \u001B[38;5;129;01mis\u001B[39;00m \u001B[38;5;129;01mnot\u001B[39;00m \u001B[38;5;28;01mNone\u001B[39;00m\n\u001B[0;32m   1891\u001B[0m f \u001B[38;5;241m=\u001B[39m \u001B[38;5;28mself\u001B[39m\u001B[38;5;241m.\u001B[39mhandles\u001B[38;5;241m.\u001B[39mhandle\n",
      "File \u001B[1;32m~\\miniconda3\\Lib\\site-packages\\pandas\\io\\common.py:873\u001B[0m, in \u001B[0;36mget_handle\u001B[1;34m(path_or_buf, mode, encoding, compression, memory_map, is_text, errors, storage_options)\u001B[0m\n\u001B[0;32m    868\u001B[0m \u001B[38;5;28;01melif\u001B[39;00m \u001B[38;5;28misinstance\u001B[39m(handle, \u001B[38;5;28mstr\u001B[39m):\n\u001B[0;32m    869\u001B[0m     \u001B[38;5;66;03m# Check whether the filename is to be opened in binary mode.\u001B[39;00m\n\u001B[0;32m    870\u001B[0m     \u001B[38;5;66;03m# Binary mode does not support 'encoding' and 'newline'.\u001B[39;00m\n\u001B[0;32m    871\u001B[0m     \u001B[38;5;28;01mif\u001B[39;00m ioargs\u001B[38;5;241m.\u001B[39mencoding \u001B[38;5;129;01mand\u001B[39;00m \u001B[38;5;124m\"\u001B[39m\u001B[38;5;124mb\u001B[39m\u001B[38;5;124m\"\u001B[39m \u001B[38;5;129;01mnot\u001B[39;00m \u001B[38;5;129;01min\u001B[39;00m ioargs\u001B[38;5;241m.\u001B[39mmode:\n\u001B[0;32m    872\u001B[0m         \u001B[38;5;66;03m# Encoding\u001B[39;00m\n\u001B[1;32m--> 873\u001B[0m         handle \u001B[38;5;241m=\u001B[39m \u001B[38;5;28mopen\u001B[39m(\n\u001B[0;32m    874\u001B[0m             handle,\n\u001B[0;32m    875\u001B[0m             ioargs\u001B[38;5;241m.\u001B[39mmode,\n\u001B[0;32m    876\u001B[0m             encoding\u001B[38;5;241m=\u001B[39mioargs\u001B[38;5;241m.\u001B[39mencoding,\n\u001B[0;32m    877\u001B[0m             errors\u001B[38;5;241m=\u001B[39merrors,\n\u001B[0;32m    878\u001B[0m             newline\u001B[38;5;241m=\u001B[39m\u001B[38;5;124m\"\u001B[39m\u001B[38;5;124m\"\u001B[39m,\n\u001B[0;32m    879\u001B[0m         )\n\u001B[0;32m    880\u001B[0m     \u001B[38;5;28;01melse\u001B[39;00m:\n\u001B[0;32m    881\u001B[0m         \u001B[38;5;66;03m# Binary mode\u001B[39;00m\n\u001B[0;32m    882\u001B[0m         handle \u001B[38;5;241m=\u001B[39m \u001B[38;5;28mopen\u001B[39m(handle, ioargs\u001B[38;5;241m.\u001B[39mmode)\n",
      "\u001B[1;31mFileNotFoundError\u001B[0m: [Errno 2] No such file or directory: 'losses_equipment.csv'"
     ]
    }
   ],
   "execution_count": 3
  },
  {
   "metadata": {},
   "cell_type": "code",
   "outputs": [],
   "execution_count": null,
   "source": "",
   "id": "e6e4c261801123ff"
  },
  {
   "metadata": {},
   "cell_type": "code",
   "outputs": [],
   "execution_count": null,
   "source": "",
   "id": "c3b6ac1b58fd73bc"
  },
  {
   "metadata": {},
   "cell_type": "code",
   "outputs": [],
   "execution_count": null,
   "source": "",
   "id": "21ecae21d36e9456"
  },
  {
   "metadata": {},
   "cell_type": "code",
   "outputs": [],
   "execution_count": null,
   "source": "",
   "id": "2d5c482028a503aa"
  }
 ],
 "metadata": {
  "kernelspec": {
   "display_name": "Python 3",
   "language": "python",
   "name": "python3"
  },
  "language_info": {
   "codemirror_mode": {
    "name": "ipython",
    "version": 2
   },
   "file_extension": ".py",
   "mimetype": "text/x-python",
   "name": "python",
   "nbconvert_exporter": "python",
   "pygments_lexer": "ipython2",
   "version": "2.7.6"
  }
 },
 "nbformat": 4,
 "nbformat_minor": 5
}
