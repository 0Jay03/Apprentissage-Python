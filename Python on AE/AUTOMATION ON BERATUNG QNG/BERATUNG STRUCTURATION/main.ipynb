{
 "cells": [
  {
   "cell_type": "code",
   "id": "initial_id",
   "metadata": {
    "collapsed": true,
    "jupyter": {
     "is_executing": true
    },
    "ExecuteTime": {
     "start_time": "2025-04-04T11:09:36.064154Z"
    }
   },
   "source": [
    "import os\n",
    "import time\n",
    "import logging\n",
    "from watchdog.observers import Observer\n",
    "from watchdog.events import FileSystemEventHandler\n",
    "from add_new_products import add_new_products_to_database\n",
    "import traceback\n",
    "\n",
    "# Configuration du logger\n",
    "log_file = \"log.txt\"\n",
    "logging.basicConfig(\n",
    "    filename=log_file,\n",
    "    level=logging.INFO,\n",
    "    format=\"%(asctime)s - %(levelname)s - %(message)s\",\n",
    "    filemode=\"a\"\n",
    ")\n",
    "\n",
    "# Fichier Excel à surveiller\n",
    "excel_file = \"Eingabehilfe.xlsx\"  # Assurez-vous que le chemin est correct et accessible\n",
    "\n",
    "def process_data():\n",
    "    \"\"\"Lance le traitement des nouveaux produits à partir du fichier Excel.\"\"\"\n",
    "    logging.info(f\"🔄 Lancement du traitement des produits à partir de {excel_file}...\")\n",
    "    try:\n",
    "        add_new_products_to_database()\n",
    "        logging.info(\"✅ Traitement des produits terminé avec succès.\")\n",
    "    except Exception as e:\n",
    "        logging.error(f\"🚨 Erreur pendant le traitement des produits : {e}\")\n",
    "        logging.error(traceback.format_exc())  # 🔥 Ce log montre la ligne exacte de l’erreur\n",
    "\n",
    "class ExcelFileHandler(FileSystemEventHandler):\n",
    "    \"\"\"Classe pour gérer les événements de modification du fichier Excel.\"\"\"\n",
    "\n",
    "    def on_modified(self, event):\n",
    "        if os.path.abspath(event.src_path) == os.path.abspath(excel_file):\n",
    "            logging.info(f\"📂 Modification détectée sur {excel_file}, relance du traitement...\")\n",
    "            process_data()\n",
    "\n",
    "# 🔹 Exécution initiale au démarrage\n",
    "process_data()\n",
    "\n",
    "# 🔹 Initialisation de l'observateur de fichiers\n",
    "event_handler = ExcelFileHandler()\n",
    "observer = Observer()\n",
    "observer.schedule(event_handler, path=os.path.dirname(os.path.abspath(excel_file)), recursive=False)\n",
    "\n",
    "logging.info(f\"👀 Surveillance du fichier {excel_file} en cours...\")\n",
    "observer.start()\n",
    "\n",
    "try:\n",
    "    while True:\n",
    "        time.sleep(1)  # Garde le programme actif\n",
    "except KeyboardInterrupt:\n",
    "    logging.info(\"🛑 Arrêt du programme...\")\n",
    "    observer.stop()\n",
    "    observer.join()\n"
   ],
   "outputs": [
    {
     "name": "stdout",
     "output_type": "stream",
     "text": [
      "▶️ Étape 1: lecture Excel\n"
     ]
    },
    {
     "name": "stderr",
     "output_type": "stream",
     "text": [
      "C:\\Users\\Brice Daleu\\miniconda3\\Lib\\site-packages\\openpyxl\\worksheet\\_reader.py:329: UserWarning: Data Validation extension is not supported and will be removed\n",
      "  warn(msg)\n"
     ]
    },
    {
     "name": "stdout",
     "output_type": "stream",
     "text": [
      "Le fichier JSON a été créé avec succès : output_eingabehilfe.json\n",
      "▶️ Étape 2: appel API\n",
      "API response saved to 'data_beratung.json'.\n",
      "▶️ Étape 3: filtrage API\n",
      "✅ Cleaned JSON saved as cleaned_input.json\n",
      "✅ 2011 materials extracted and saved to 'filtered_materials.json'.\n",
      "▶️ Étape 4: comparaison\n",
      "Found 6 duplicate keys:\n",
      "Key: ('pe 829 kalsit', 'hasit'), Count: 2\n",
      "Key: ('ct17', 'ceresit'), Count: 2\n",
      "Key: ('oekotan grundierung bgr', 'quick-mix'), Count: 2\n",
      "Key: ('gel-grundierung', 'dinova'), Count: 2\n",
      "Key: ('tiefgrund gel e.l.f. farblos', 'relius'), Count: 2\n",
      "Key: ('tec superflex 2k', 'weber'), Count: 2\n",
      "\n",
      "Missing materials saved to 'missing_materials.json'.\n",
      "\n",
      "Found 35 missing materials:\n",
      "Name: CONIPUR 249 FL/1, Manufacturer: Conica\n",
      "Name: Uniopark, Manufacturer: Bauwerk\n",
      "Name: 660 Boden Standard-Spachte, Manufacturer: Mega\n",
      "Name: Estetico Universal, Manufacturer: Knauf\n",
      "Name: Finissimo Universal, Manufacturer: Knauf\n",
      "Name: Alpinaweiß Das Original, Manufacturer: Alpina\n",
      "Name: LUCITE® MultiResist PRO, Manufacturer: Dörken GmbH &Co.KG\n",
      "Name: Decosatin ELF seidenglänzende, wasserverdünnbare Latexfarbe, Manufacturer: Sefra Farben\n",
      "Name: StoPox GH 205, Manufacturer: STO\n",
      "Name: Proterra CEROL Flüssigwachs GE 120, Manufacturer: Hesse\n",
      "Name: Holzschutz Grund, Manufacturer: Alpina\n",
      "Name: OSB 4 TOP Verlegeplatte, Manufacturer: Egger Holzwerkstoffe Wismar GmbH\n",
      "Name: OSB/4 EN300, Manufacturer: Swiss Kronos\n",
      "Name: OSB 4 TOP gerade Kante, Manufacturer: Egger Holzwerkstoffe Wismar GmbH\n",
      "Name: OSB 3 Verlegeplatte, Manufacturer: Egger Holzwerkstoffe Wismar GmbH\n",
      "Name: OSB 3 gerade Kante, Manufacturer: Egger Holzwerkstoffe Wismar GmbH\n",
      "Name: OSB/3 EN300, Manufacturer: Swiss Kronos\n",
      "Name: Eurodekor, Manufacturer: Egger Holzwerkstoffe Wismar GmbH\n",
      "Name: Eurospan, Manufacturer: Egger Holzwerkstoffe Wismar GmbH\n",
      "Name: Meister Paneele. Craft, Manufacturer: Meister Werke Schulte\n",
      "Name: Bauder Emulsion Plus, Manufacturer: Bauder\n",
      "Name: Isovill E-GW-B, Manufacturer: BMI\n",
      "Name: Villas Hydrostop Multi 4, Manufacturer: BMI\n",
      "Name: Villas Hydrostop Multi 5, Manufacturer: BMI\n",
      "Name: Delta-Mauerwerkssperre, Manufacturer: Dörken GmbH &Co.KG\n",
      "Name: Delta-Noppenbahn NB, Manufacturer: Dörken GmbH &Co.KG\n",
      "Name: X-Foam Wafer Dämmplatte, Manufacturer: Ediltec\n",
      "Name: BauderECO, Manufacturer: Bauder\n",
      "Name: thermotec® BEPS-WD 90N, Manufacturer: Mixit Dämmstoffe\n",
      "Name: MW 035 RP, Manufacturer: Akurit\n",
      "Name: MW 035 HP, Manufacturer: Akurit\n",
      "Name: DHF, Manufacturer: Egger Holzwerkstoffe Wismar GmbH\n",
      "Name: AVR Deckenschitt, Manufacturer: Geba\n",
      "Name: Brandschutzdichtmasse Silikon CFS-S SIL, Manufacturer: Hilti Austria\n",
      "Name: PROMASTOP®-CA, Manufacturer: Promat\n",
      "✅ Total images found: 0\n",
      "✅ Total pdf found: 0\n",
      "📜 Log JSON saved at: log_found_images.json\n",
      "📜 Log JSON saved at: log_found_pdf.json\n",
      "▶️ Étape 5: image matching\n",
      "✅ Matching complete. Output saved to missing_materials.json\n"
     ]
    },
    {
     "name": "stderr",
     "output_type": "stream",
     "text": [
      "C:\\Users\\Brice Daleu\\miniconda3\\Lib\\site-packages\\openpyxl\\worksheet\\_reader.py:329: UserWarning: Data Validation extension is not supported and will be removed\n",
      "  warn(msg)\n"
     ]
    },
    {
     "name": "stdout",
     "output_type": "stream",
     "text": [
      "⚠️ Le nom 'uniopark' n'est pas trouvé dans PRODUKTLISTE.xlsx.\n",
      "⚠️ Le nom 'bauder emulsion plus' n'est pas trouvé dans PRODUKTLISTE.xlsx.\n",
      "⚠️ Le nom 'promastop®-ca' n'est pas trouvé dans PRODUKTLISTE.xlsx.\n",
      "✅ Successfully processed 32 items and saved them in brandl_data_to_beratung.json\n"
     ]
    }
   ],
   "execution_count": null
  },
  {
   "metadata": {},
   "cell_type": "code",
   "outputs": [],
   "execution_count": null,
   "source": "",
   "id": "f2f6b34f4600de4c"
  }
 ],
 "metadata": {
  "kernelspec": {
   "display_name": "Python 3",
   "language": "python",
   "name": "python3"
  },
  "language_info": {
   "codemirror_mode": {
    "name": "ipython",
    "version": 2
   },
   "file_extension": ".py",
   "mimetype": "text/x-python",
   "name": "python",
   "nbconvert_exporter": "python",
   "pygments_lexer": "ipython2",
   "version": "2.7.6"
  }
 },
 "nbformat": 4,
 "nbformat_minor": 5
}
