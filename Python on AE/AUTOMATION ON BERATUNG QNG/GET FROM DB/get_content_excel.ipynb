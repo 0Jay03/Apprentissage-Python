{
 "cells": [
  {
   "cell_type": "code",
   "id": "initial_id",
   "metadata": {
    "collapsed": true,
    "ExecuteTime": {
     "end_time": "2025-03-14T08:07:05.856767Z",
     "start_time": "2025-03-14T08:07:05.635173Z"
    }
   },
   "source": [
    "import pandas as pd\n",
    "import json\n",
    "\n",
    "# 1️⃣ Charger le fichier Excel local\n",
    "file_path = \"data.xlsx\"  # Remplace par le chemin de ton fichier Excel\n",
    "df = pd.read_excel(file_path)  # Lire le fichier Excel\n",
    "\n",
    "# 2️⃣ Transformer les données en liste de dictionnaires\n",
    "data_list = df.to_dict(orient=\"records\")  # Convertir les lignes en liste de dictionnaires\n",
    "\n",
    "# 3️⃣ Extraire uniquement les champs \"content\"\n",
    "content_list = [item[\"content\"] for item in data_list if \"content\" in item]\n",
    "\n",
    "# 🔹 Vérification du type des éléments extraits\n",
    "print(\"Type des éléments de content_list :\", type(content_list[0]))  # Vérifie si ce sont des dicts ou des str\n",
    "\n",
    "# 4️⃣ Convertir les chaînes JSON en dictionnaires si nécessaire\n",
    "for i, content in enumerate(content_list):\n",
    "    if isinstance(content, str):  # Si \"content\" est une chaîne, on essaie de le convertir en JSON\n",
    "        try:\n",
    "            # Remplacer les guillemets simples par doubles si nécessaire\n",
    "            if \"'\" in content and '\"' not in content:\n",
    "                content = content.replace(\"'\", '\"')\n",
    "\n",
    "            # Essayer de charger le JSON proprement\n",
    "            content_list[i] = json.loads(content)\n",
    "\n",
    "        except json.JSONDecodeError:\n",
    "            print(f\"❌ Erreur de conversion JSON sur l'élément {i} : {content}\")\n",
    "            continue  # Passer à l'élément suivant\n",
    "\n",
    "# 5️⃣ Convertir les valeurs numériques correctement\n",
    "for content in content_list:\n",
    "    if isinstance(content, dict):  # Vérifier que content est bien un dictionnaire\n",
    "        for key, value in content.items():\n",
    "            if isinstance(value, str) and value.replace(\".\", \"\", 1).isdigit():\n",
    "                content[key] = float(value) if \".\" in value else int(value)\n",
    "\n",
    "# 6️⃣ Enregistrer les données extraites dans un fichier JSON\n",
    "with open(\"excel_content_data.json\", \"w\", encoding=\"utf-8\") as json_file:\n",
    "    json.dump(content_list, json_file, indent=4, ensure_ascii=False)\n",
    "\n",
    "print(f\"✅ {len(content_list)} Données extraites et enregistrées dans excel_content_data.json sans guillemets autour des nombres.\")\n"
   ],
   "outputs": [
    {
     "name": "stdout",
     "output_type": "stream",
     "text": [
      "Type des éléments de content_list : <class 'str'>\n",
      "✅ 6 Données extraites et enregistrées dans excel_content_data.json sans guillemets autour des nombres.\n"
     ]
    }
   ],
   "execution_count": 2
  },
  {
   "metadata": {
    "ExecuteTime": {
     "end_time": "2025-03-12T11:17:03.739555Z",
     "start_time": "2025-03-12T11:17:03.723200Z"
    }
   },
   "cell_type": "code",
   "source": "print(type(\"excel_content_data.json\"))",
   "id": "d42b79c2df0e79e2",
   "outputs": [
    {
     "name": "stdout",
     "output_type": "stream",
     "text": [
      "<class 'str'>\n"
     ]
    }
   ],
   "execution_count": 3
  }
 ],
 "metadata": {
  "kernelspec": {
   "display_name": "Python 3",
   "language": "python",
   "name": "python3"
  },
  "language_info": {
   "codemirror_mode": {
    "name": "ipython",
    "version": 2
   },
   "file_extension": ".py",
   "mimetype": "text/x-python",
   "name": "python",
   "nbconvert_exporter": "python",
   "pygments_lexer": "ipython2",
   "version": "2.7.6"
  }
 },
 "nbformat": 4,
 "nbformat_minor": 5
}
