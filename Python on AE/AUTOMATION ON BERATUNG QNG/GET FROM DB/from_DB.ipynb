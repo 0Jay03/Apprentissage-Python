{
 "cells": [
  {
   "cell_type": "code",
   "id": "initial_id",
   "metadata": {
    "collapsed": true,
    "ExecuteTime": {
     "end_time": "2025-03-11T16:33:03.306606Z",
     "start_time": "2025-03-11T16:32:59.081355Z"
    }
   },
   "source": [
    "import requests\n",
    "\n",
    "# Remplace par l'URL de ton API\n",
    "url = \"https://essential-orelie-devpro13-5241d920.koyeb.app/kapi\"\n",
    "\n",
    "# Si l'API nécessite un token d'authentification :\n",
    "# headers = {\n",
    "#     \"Authorization\": \"Bearer ton_token\",\n",
    "#     \"Content-Type\": \"application/json\"\n",
    "# }\n",
    "\n",
    "# Récupération des données\n",
    "response = requests.get(url)\n",
    "\n",
    "# Vérification du statut de la requête\n",
    "if response.status_code == 200:\n",
    "    data = response.json()  # Convertir la réponse en JSON\n",
    "else:\n",
    "    print(\"Erreur :\", response.status_code, response.text)\n"
   ],
   "outputs": [],
   "execution_count": 3
  },
  {
   "metadata": {
    "ExecuteTime": {
     "end_time": "2025-03-11T17:07:59.161126Z",
     "start_time": "2025-03-11T17:07:59.144284Z"
    }
   },
   "cell_type": "code",
   "source": [
    "import json\n",
    "\n",
    "# Sauvegarde des données dans un fichier JSON\n",
    "with open(\"data.json\", \"w\", encoding=\"utf-8\") as json_file:\n",
    "    json.dump(data, json_file, indent=4, ensure_ascii=False)\n",
    "\n",
    "print(\"Fichier JSON créé avec succès.\")\n"
   ],
   "id": "55af6110e3fbab0c",
   "outputs": [
    {
     "name": "stdout",
     "output_type": "stream",
     "text": [
      "Fichier JSON créé avec succès.\n"
     ]
    }
   ],
   "execution_count": 5
  },
  {
   "metadata": {
    "ExecuteTime": {
     "end_time": "2025-03-11T17:08:39.281343Z",
     "start_time": "2025-03-11T17:08:36.201538Z"
    }
   },
   "cell_type": "code",
   "source": [
    "import pandas as pd\n",
    "\n",
    "# Création d'un DataFrame à partir des données récupérées\n",
    "df = pd.DataFrame(data)  # Vérifie la structure de 'data' pour l'adapter\n",
    "\n",
    "# Affichage des premières lignes\n",
    "print(df.head())\n"
   ],
   "id": "ac6876484759027e",
   "outputs": [
    {
     "name": "stdout",
     "output_type": "stream",
     "text": [
      "                        _id  \\\n",
      "0  67d04103d89d0a6b6852d4a1   \n",
      "1  67d04106d89d0a6b6852d4a3   \n",
      "2  67d0454dd89d0a6b6852d4a7   \n",
      "3  67d04550d89d0a6b6852d4a9   \n",
      "4  67d045d7d89d0a6b6852d4ad   \n",
      "\n",
      "                                             content   status  \\\n",
      "0  {'id': '67003dbddf91d3d21b5a83d2', 'users': 'K...  attente   \n",
      "1  {'id': '67003dbddf91d3d20b5a83d2', 'users': 'C...  attente   \n",
      "2  {'id': '67003dbddf91d3d21b5a83d2', 'users': 'K...  attente   \n",
      "3  {'id': '67003dbddf91d3d20b5a83d2', 'users': 'C...  attente   \n",
      "4  {'id': '67003dbddf91d3d21b5a83d2', 'users': 'K...  attente   \n",
      "\n",
      "                  createdAt                 updatedAt  __v  \n",
      "0  2025-03-11T13:56:19.730Z  2025-03-11T13:56:19.730Z    0  \n",
      "1  2025-03-11T13:56:22.717Z  2025-03-11T13:56:22.717Z    0  \n",
      "2  2025-03-11T14:14:37.293Z  2025-03-11T14:14:37.293Z    0  \n",
      "3  2025-03-11T14:14:40.552Z  2025-03-11T14:14:40.552Z    0  \n",
      "4  2025-03-11T14:16:55.913Z  2025-03-11T14:16:55.913Z    0  \n"
     ]
    }
   ],
   "execution_count": 6
  },
  {
   "metadata": {
    "ExecuteTime": {
     "end_time": "2025-03-11T17:08:43.837300Z",
     "start_time": "2025-03-11T17:08:42.135520Z"
    }
   },
   "cell_type": "code",
   "source": [
    "# Sauvegarde en Excel\n",
    "df.to_excel(\"data.xlsx\", index=False, engine=\"openpyxl\")\n",
    "\n",
    "print(\"Fichier Excel créé avec succès.\")\n"
   ],
   "id": "377114dff49ddf3b",
   "outputs": [
    {
     "name": "stdout",
     "output_type": "stream",
     "text": [
      "Fichier Excel créé avec succès.\n"
     ]
    }
   ],
   "execution_count": 7
  }
 ],
 "metadata": {
  "kernelspec": {
   "display_name": "Python 3",
   "language": "python",
   "name": "python3"
  },
  "language_info": {
   "codemirror_mode": {
    "name": "ipython",
    "version": 2
   },
   "file_extension": ".py",
   "mimetype": "text/x-python",
   "name": "python",
   "nbconvert_exporter": "python",
   "pygments_lexer": "ipython2",
   "version": "2.7.6"
  }
 },
 "nbformat": 4,
 "nbformat_minor": 5
}
