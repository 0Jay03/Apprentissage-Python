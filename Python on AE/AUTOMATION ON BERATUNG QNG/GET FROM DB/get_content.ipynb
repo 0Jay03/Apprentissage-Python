{
 "cells": [
  {
   "cell_type": "code",
   "id": "initial_id",
   "metadata": {
    "collapsed": true,
    "ExecuteTime": {
     "end_time": "2025-03-14T08:03:54.691359Z",
     "start_time": "2025-03-14T08:03:51.402049Z"
    }
   },
   "source": [
    "import requests\n",
    "import json\n",
    "\n",
    "# 1️⃣ Faire une requête à l'API\n",
    "url = \"https://essential-orelie-devpro13-5241d920.koyeb.app/kapi\"  # Remplace par l'URL de ton API\n",
    "response = requests.get(url)\n",
    "\n",
    "# Vérifier si la requête est réussie\n",
    "if response.status_code == 200:\n",
    "    data = response.json()  # Convertir la réponse en JSON\n",
    "    \n",
    "    # Vérifier si la réponse est une liste\n",
    "    if isinstance(data, list):\n",
    "        # 2️⃣ Extraire tous les \"content\"\n",
    "        content_list = [item[\"content\"] for item in data if \"content\" in item]  # Filtrer les éléments contenant \"content\"\n",
    "    else:\n",
    "        # Si c'est un seul dictionnaire\n",
    "        content_list = [data.get(\"content\", {})]  \n",
    "\n",
    "    # 3️⃣ Enregistrer les données dans un fichier JSON\n",
    "    with open(\"content_data.json\", \"w\", encoding=\"utf-8\") as json_file:\n",
    "        json.dump(content_list, json_file, indent=4, ensure_ascii=False)\n",
    "\n",
    "    print(f\"✅ {len(content_list)} Données enregistrées dans content_data.json\")\n",
    "else:\n",
    "    print(f\"❌ Erreur lors de la récupération des données : {response.status_code}\")"
   ],
   "outputs": [
    {
     "name": "stdout",
     "output_type": "stream",
     "text": [
      "✅ 5 Données enregistrées dans content_data.json\n"
     ]
    }
   ],
   "execution_count": 2
  },
  {
   "metadata": {
    "ExecuteTime": {
     "end_time": "2025-03-12T11:17:23.756296Z",
     "start_time": "2025-03-12T11:17:23.740848Z"
    }
   },
   "cell_type": "code",
   "source": "print(type(\"content_data.json\"))",
   "id": "aae95def4135a498",
   "outputs": [
    {
     "name": "stdout",
     "output_type": "stream",
     "text": [
      "<class 'str'>\n"
     ]
    }
   ],
   "execution_count": 3
  }
 ],
 "metadata": {
  "kernelspec": {
   "display_name": "Python 3",
   "language": "python",
   "name": "python3"
  },
  "language_info": {
   "codemirror_mode": {
    "name": "ipython",
    "version": 2
   },
   "file_extension": ".py",
   "mimetype": "text/x-python",
   "name": "python",
   "nbconvert_exporter": "python",
   "pygments_lexer": "ipython2",
   "version": "2.7.6"
  }
 },
 "nbformat": 4,
 "nbformat_minor": 5
}
