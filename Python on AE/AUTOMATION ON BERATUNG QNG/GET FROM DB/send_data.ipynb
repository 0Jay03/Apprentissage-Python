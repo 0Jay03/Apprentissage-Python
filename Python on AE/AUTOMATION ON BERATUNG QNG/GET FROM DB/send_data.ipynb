{
 "cells": [
  {
   "cell_type": "code",
   "id": "initial_id",
   "metadata": {
    "collapsed": true,
    "ExecuteTime": {
     "end_time": "2025-03-14T08:07:54.479096Z",
     "start_time": "2025-03-14T08:07:52.204375Z"
    }
   },
   "source": [
    "import json\n",
    "import requests\n",
    "\n",
    "file = \"pending_data.json\"\n",
    "\n",
    "def send_json_data(api_url, json_file):\n",
    "    try:\n",
    "        # Lire le fichier JSON\n",
    "        with open(json_file, \"r\", encoding=\"utf-8\") as file:\n",
    "            data = json.load(file)\n",
    "\n",
    "        # Vérifier si les données sont bien une liste\n",
    "        if not isinstance(data, list):\n",
    "            print(\"❌ Erreur : Le fichier JSON ne contient pas une liste.\")\n",
    "            return\n",
    "\n",
    "        # Envoyer chaque dictionnaire individuellement\n",
    "        for item in data:\n",
    "            if isinstance(item, dict):  # Vérifie que chaque élément est bien un dictionnaire\n",
    "                response = requests.post(api_url, json=item)\n",
    "\n",
    "                # Vérifier la réponse\n",
    "                if response.status_code == 201:\n",
    "                    print(\"✅ Données envoyées avec succès :\", response.json())\n",
    "                else:\n",
    "                    print(f\"❌ Erreur {response.status_code}: {response.text}\")\n",
    "            else:\n",
    "                print(\"⚠️ Un élément ignoré car il n'est pas un dictionnaire :\", item)\n",
    "\n",
    "    except Exception as e:\n",
    "        print(f\"❌ Erreur lors de l'envoi des données : {e}\")\n",
    "\n",
    "# Exemple d'utilisation :\n",
    "api_endpoint = \"https://essential-orelie-devpro13-5241d920.koyeb.app/kapi/ask-kapi\"  # Remplace par ton URL d'API\n",
    "send_json_data(api_endpoint, file)\n"
   ],
   "outputs": [
    {
     "name": "stdout",
     "output_type": "stream",
     "text": [
      "✅ Données envoyées avec succès : {'content': {'id': '67003dbddf91d3d20b5b87d2', 'users': 'James', 'typeKapi': 'kapi aide', 'montant': 40, 'delais': 10, 'creationKapi': '20 déc. 2024'}, 'status': 'attente', '_id': '67d3e3dbd91209cdef8ae54e', 'createdAt': '2025-03-14T08:07:55.379Z', 'updatedAt': '2025-03-14T08:07:55.379Z', '__v': 0}\n"
     ]
    }
   ],
   "execution_count": 2
  }
 ],
 "metadata": {
  "kernelspec": {
   "display_name": "Python 3",
   "language": "python",
   "name": "python3"
  },
  "language_info": {
   "codemirror_mode": {
    "name": "ipython",
    "version": 2
   },
   "file_extension": ".py",
   "mimetype": "text/x-python",
   "name": "python",
   "nbconvert_exporter": "python",
   "pygments_lexer": "ipython2",
   "version": "2.7.6"
  }
 },
 "nbformat": 4,
 "nbformat_minor": 5
}
