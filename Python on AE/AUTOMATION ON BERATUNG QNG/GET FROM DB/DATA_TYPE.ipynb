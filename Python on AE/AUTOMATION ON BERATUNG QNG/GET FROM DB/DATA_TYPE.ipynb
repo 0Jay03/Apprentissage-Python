{
 "cells": [
  {
   "cell_type": "code",
   "id": "initial_id",
   "metadata": {
    "collapsed": true,
    "ExecuteTime": {
     "end_time": "2025-03-13T08:34:22.615567Z",
     "start_time": "2025-03-13T08:34:22.584553Z"
    }
   },
   "source": [
    "import json\n",
    "data = \"content_data.json\"\n",
    "data"
   ],
   "outputs": [
    {
     "data": {
      "text/plain": [
       "'content_data.json'"
      ]
     },
     "execution_count": 4,
     "metadata": {},
     "output_type": "execute_result"
    }
   ],
   "execution_count": 4
  },
  {
   "metadata": {
    "ExecuteTime": {
     "end_time": "2025-03-13T08:36:11.923956Z",
     "start_time": "2025-03-13T08:36:11.868068Z"
    }
   },
   "cell_type": "code",
   "source": [
    "with open(\"content_data.json\", \"r\", encoding=\"utf-8\") as fichier:\n",
    "    data = json.load(fichier)  # Charger le JSON dans une variable\n",
    "\n",
    "print(data)"
   ],
   "id": "ddfe093367fdd1dd",
   "outputs": [
    {
     "name": "stdout",
     "output_type": "stream",
     "text": [
      "[{'id': '67003cbfcf91d3d20b5a73d2', 'users': 'Fanira', 'typeKapi': 'kapi aide', 'montant': '10.000', 'delais': '7', 'creationKapi': '20 déc. 2024'}, {'id': '67003cbfcf91d3d20b5a73d2', 'users': 'Fanira', 'typeKapi': 'kapi aide', 'montant': '10.000', 'delais': '7', 'creationKapi': '20 déc. 2024'}, {'id': '67003dbddf91d3d20b5a73d2', 'users': 'Delvia', 'typeKapi': 'kapi aide', 'montant': '20.000', 'delais': '7', 'creationKapi': '20 déc. 2024'}, {'id': '67003dbddf91d3d20b5a73d2', 'users': 'Delvia', 'typeKapi': 'kapi aide', 'montant': '20.000', 'delais': '7', 'creationKapi': '20 déc. 2024'}, {'id': '67003dbddf91d3d21b5a83d2', 'users': 'Kardel', 'typeKapi': 'kapi aide', 'montant': '5.000', 'delais': '7', 'creationKapi': '20 déc. 2024'}, {'id': '67003dbddf91d3d21b5a83d2', 'users': 'Kardel', 'typeKapi': 'kapi aide', 'montant': '5.000', 'delais': '7', 'creationKapi': '20 déc. 2024'}, {'id': '67003dbddf91d3d20b5a83d2', 'users': 'Coucou', 'typeKapi': 'kapi aide', 'montant': '10.000', 'delais': '7', 'creationKapi': '20 déc. 2024'}, {'id': '67003dbddf91d3d20b5a83d2', 'users': 'Coucou', 'typeKapi': 'kapi aide', 'montant': '10.000', 'delais': '7', 'creationKapi': '20 déc. 2024'}, {'id': '67003dbddf91d3d20b5a73d2', 'users': 'Delvia', 'typeKapi': 'kapi aide', 'montant': '20.000', 'delais': '7', 'creationKapi': '20 déc. 2024'}, {'id': '67003dbddf91d3d20b5a73d2', 'users': 'Delvia', 'typeKapi': 'kapi aide', 'montant': '20.000', 'delais': '7', 'creationKapi': '20 déc. 2024'}, [{'id': '67003dbddf91d3d20b5b84d2', 'users': 'Coucou', 'typeKapi': 'kapi aide', 'montant': 10, 'delais': 7, 'creationKapi': '20 déc. 2024'}, {'id': '67003dbddf91d3d20b5b85d2', 'users': 'Arllen', 'typeKapi': 'kapi aide', 'montant': 30, 'delais': 7, 'creationKapi': '20 déc. 2024'}], [{'id': '67003dbddf91d3d20b5b84d2', 'users': 'Coucou', 'typeKapi': 'kapi aide', 'montant': 10, 'delais': 7, 'creationKapi': '20 déc. 2024'}, {'id': '67003dbddf91d3d20b5b85d2', 'users': 'Arllen', 'typeKapi': 'kapi aide', 'montant': 30, 'delais': 7, 'creationKapi': '20 déc. 2024'}], [{'id': '67003dbddf91d3d20b5b84d2', 'users': 'Coucou', 'typeKapi': 'kapi aide', 'montant': 10, 'delais': 7, 'creationKapi': '20 déc. 2024'}, {'id': '67003dbddf91d3d20b5b85d2', 'users': 'Arllen', 'typeKapi': 'kapi aide', 'montant': 30, 'delais': 7, 'creationKapi': '20 déc. 2024'}]]\n"
     ]
    }
   ],
   "execution_count": 5
  },
  {
   "metadata": {
    "ExecuteTime": {
     "end_time": "2025-03-13T08:37:02.888077Z",
     "start_time": "2025-03-13T08:37:02.867735Z"
    }
   },
   "cell_type": "code",
   "source": "type(data)",
   "id": "9fca06ac2d22e0aa",
   "outputs": [
    {
     "data": {
      "text/plain": [
       "list"
      ]
     },
     "execution_count": 6,
     "metadata": {},
     "output_type": "execute_result"
    }
   ],
   "execution_count": 6
  },
  {
   "metadata": {
    "ExecuteTime": {
     "end_time": "2025-03-13T08:43:39.729762Z",
     "start_time": "2025-03-13T08:43:39.719826Z"
    }
   },
   "cell_type": "code",
   "source": [
    "el = data[0]\n",
    "el2 = data[1]"
   ],
   "id": "9ce4ab8f769d88e6",
   "outputs": [],
   "execution_count": 15
  },
  {
   "metadata": {
    "ExecuteTime": {
     "end_time": "2025-03-13T08:39:56.478664Z",
     "start_time": "2025-03-13T08:39:56.423548Z"
    }
   },
   "cell_type": "code",
   "source": "type(el)",
   "id": "efc0bcba3c5361c3",
   "outputs": [
    {
     "data": {
      "text/plain": [
       "dict"
      ]
     },
     "execution_count": 10,
     "metadata": {},
     "output_type": "execute_result"
    }
   ],
   "execution_count": 10
  },
  {
   "metadata": {
    "ExecuteTime": {
     "end_time": "2025-03-13T08:43:57.810165Z",
     "start_time": "2025-03-13T08:43:57.801476Z"
    }
   },
   "cell_type": "code",
   "source": [
    "n = el[\"id\"]\n",
    "n2 = el2[\"id\"]"
   ],
   "id": "3c60cd9b18e14879",
   "outputs": [],
   "execution_count": 16
  },
  {
   "metadata": {
    "ExecuteTime": {
     "end_time": "2025-03-13T08:45:39.696065Z",
     "start_time": "2025-03-13T08:45:39.676248Z"
    }
   },
   "cell_type": "code",
   "source": [
    "if n == n2:\n",
    "    print(\"Les chaînes sont identiques.\")\n",
    "else:\n",
    "    print(\"Les chaînes sont différentes.\")"
   ],
   "id": "49cb65a2a699862",
   "outputs": [
    {
     "name": "stdout",
     "output_type": "stream",
     "text": [
      "Les chaînes sont identiques.\n"
     ]
    }
   ],
   "execution_count": 19
  },
  {
   "metadata": {
    "ExecuteTime": {
     "end_time": "2025-03-13T08:41:02.133853Z",
     "start_time": "2025-03-13T08:41:02.111453Z"
    }
   },
   "cell_type": "code",
   "source": "type(n)",
   "id": "dc4ca22c04b3f32d",
   "outputs": [
    {
     "data": {
      "text/plain": [
       "str"
      ]
     },
     "execution_count": 13,
     "metadata": {},
     "output_type": "execute_result"
    }
   ],
   "execution_count": 13
  },
  {
   "metadata": {
    "ExecuteTime": {
     "end_time": "2025-03-13T08:38:33.432181Z",
     "start_time": "2025-03-13T08:38:33.367837Z"
    }
   },
   "cell_type": "code",
   "source": "new_data = dict(data)",
   "id": "113bcbe629ef8cba",
   "outputs": [
    {
     "ename": "ValueError",
     "evalue": "dictionary update sequence element #0 has length 6; 2 is required",
     "output_type": "error",
     "traceback": [
      "\u001B[1;31m---------------------------------------------------------------------------\u001B[0m",
      "\u001B[1;31mValueError\u001B[0m                                Traceback (most recent call last)",
      "Cell \u001B[1;32mIn[7], line 1\u001B[0m\n\u001B[1;32m----> 1\u001B[0m new_data \u001B[38;5;241m=\u001B[39m \u001B[38;5;28mdict\u001B[39m(data)\n",
      "\u001B[1;31mValueError\u001B[0m: dictionary update sequence element #0 has length 6; 2 is required"
     ]
    }
   ],
   "execution_count": 7
  },
  {
   "metadata": {
    "ExecuteTime": {
     "end_time": "2025-03-13T09:58:21.859470Z",
     "start_time": "2025-03-13T09:58:21.839298Z"
    }
   },
   "cell_type": "code",
   "source": [
    "id = data[0][\"id\"]\n",
    "id"
   ],
   "id": "9cb0201bf83ff182",
   "outputs": [
    {
     "data": {
      "text/plain": [
       "'67003cbfcf91d3d20b5a73d2'"
      ]
     },
     "execution_count": 21,
     "metadata": {},
     "output_type": "execute_result"
    }
   ],
   "execution_count": 21
  },
  {
   "metadata": {
    "ExecuteTime": {
     "end_time": "2025-03-13T10:27:48.789184Z",
     "start_time": "2025-03-13T10:27:48.728808Z"
    }
   },
   "cell_type": "code",
   "source": "data[\"id\"]",
   "id": "e50e06131b601979",
   "outputs": [
    {
     "ename": "TypeError",
     "evalue": "list indices must be integers or slices, not str",
     "output_type": "error",
     "traceback": [
      "\u001B[1;31m---------------------------------------------------------------------------\u001B[0m",
      "\u001B[1;31mTypeError\u001B[0m                                 Traceback (most recent call last)",
      "Cell \u001B[1;32mIn[23], line 1\u001B[0m\n\u001B[1;32m----> 1\u001B[0m data[\u001B[38;5;124m\"\u001B[39m\u001B[38;5;124mid\u001B[39m\u001B[38;5;124m\"\u001B[39m]\n",
      "\u001B[1;31mTypeError\u001B[0m: list indices must be integers or slices, not str"
     ]
    }
   ],
   "execution_count": 23
  },
  {
   "metadata": {
    "ExecuteTime": {
     "end_time": "2025-03-13T10:41:21.398107Z",
     "start_time": "2025-03-13T10:41:21.380668Z"
    }
   },
   "cell_type": "code",
   "source": "api_ids = {item[\"users\"] for item in data if \"users\" in item}",
   "id": "b43996ff1b81f686",
   "outputs": [],
   "execution_count": 46
  },
  {
   "metadata": {
    "ExecuteTime": {
     "end_time": "2025-03-13T10:41:23.949405Z",
     "start_time": "2025-03-13T10:41:23.940464Z"
    }
   },
   "cell_type": "code",
   "source": "api_ids",
   "id": "edc7779706a4a3aa",
   "outputs": [
    {
     "data": {
      "text/plain": [
       "{'Coucou', 'Delvia', 'Fanira', 'Kardel'}"
      ]
     },
     "execution_count": 47,
     "metadata": {},
     "output_type": "execute_result"
    }
   ],
   "execution_count": 47
  },
  {
   "metadata": {
    "ExecuteTime": {
     "end_time": "2025-03-13T10:30:21.754682Z",
     "start_time": "2025-03-13T10:30:21.736692Z"
    }
   },
   "cell_type": "code",
   "source": [
    "with open(\"excel_content_data.json\", \"r\", encoding=\"utf-8\") as fichier:\n",
    "    data2 = json.load(fichier)  # Charger le JSON dans une variable\n",
    "\n",
    "data2"
   ],
   "id": "a285306f04f769be",
   "outputs": [
    {
     "data": {
      "text/plain": [
       "[{'id': '67003dbddf91d3d21b5a83d2',\n",
       "  'users': 'Kardel',\n",
       "  'typeKapi': 'kapi aide',\n",
       "  'montant': 5.0,\n",
       "  'delais': 7,\n",
       "  'creationKapi': '20 déc. 2024'},\n",
       " {'id': '67003dbddf91d3d20b5b84d2',\n",
       "  'users': 'Coucou',\n",
       "  'typeKapi': 'kapi aide',\n",
       "  'montant': 10.0,\n",
       "  'delais': 7,\n",
       "  'creationKapi': '20 déc. 2024'},\n",
       " {'id': '67003dbddf91d3d20b5b85d2',\n",
       "  'users': 'Arllen',\n",
       "  'typeKapi': 'kapi aide',\n",
       "  'montant': 30.0,\n",
       "  'delais': 7,\n",
       "  'creationKapi': '20 déc. 2024'},\n",
       " {'id': '67003dbddf91d3d20b5b86d2',\n",
       "  'users': 'Jeff',\n",
       "  'typeKapi': 'kapi aide',\n",
       "  'montant': 40.0,\n",
       "  'delais': 10,\n",
       "  'creationKapi': '20 déc. 2024'},\n",
       " {'id': '67003dbddf91d3d20b5b87d2',\n",
       "  'users': 'Jeff',\n",
       "  'typeKapi': 'kapi aide',\n",
       "  'montant': 40.0,\n",
       "  'delais': 10,\n",
       "  'creationKapi': '20 déc. 2024'},\n",
       " {'id': '67003dbddf91d3d20b5b88d2',\n",
       "  'users': 'Mr Al',\n",
       "  'typeKapi': 'kapi aide',\n",
       "  'montant': 40.0,\n",
       "  'delais': 10,\n",
       "  'creationKapi': '20 déc. 2024'}]"
      ]
     },
     "execution_count": 28,
     "metadata": {},
     "output_type": "execute_result"
    }
   ],
   "execution_count": 28
  },
  {
   "metadata": {},
   "cell_type": "code",
   "outputs": [],
   "execution_count": null,
   "source": "data2",
   "id": "5bf98915a23b2f35"
  },
  {
   "metadata": {
    "ExecuteTime": {
     "end_time": "2025-03-13T10:41:59.650402Z",
     "start_time": "2025-03-13T10:41:59.643225Z"
    }
   },
   "cell_type": "code",
   "source": "api_ids_two = {item[\"users\"] for item in data2 if \"users\" in item}",
   "id": "e9b673b81ad4d4d3",
   "outputs": [],
   "execution_count": 48
  },
  {
   "metadata": {
    "ExecuteTime": {
     "end_time": "2025-03-13T10:42:02.027546Z",
     "start_time": "2025-03-13T10:42:02.013423Z"
    }
   },
   "cell_type": "code",
   "source": "api_ids_two",
   "id": "e2e7a225e27ed538",
   "outputs": [
    {
     "data": {
      "text/plain": [
       "{'Arllen', 'Coucou', 'Jeff', 'Kardel', 'Mr Al'}"
      ]
     },
     "execution_count": 49,
     "metadata": {},
     "output_type": "execute_result"
    }
   ],
   "execution_count": 49
  },
  {
   "metadata": {
    "ExecuteTime": {
     "end_time": "2025-03-13T10:49:36.594501Z",
     "start_time": "2025-03-13T10:49:36.561752Z"
    }
   },
   "cell_type": "code",
   "source": [
    "seen_users = set()\n",
    "excel_pending = [\n",
    "    item for item in data2 \n",
    "    if \"users\" in item and item[\"users\"] not in api_ids and item[\"users\"] not in seen_users and not seen_users.add(item[\"users\"])\n",
    "]\n"
   ],
   "id": "f9b98d0de7f86e4c",
   "outputs": [],
   "execution_count": 56
  },
  {
   "metadata": {
    "ExecuteTime": {
     "end_time": "2025-03-13T11:19:54.507365Z",
     "start_time": "2025-03-13T11:19:54.490802Z"
    }
   },
   "cell_type": "code",
   "source": "seen_users",
   "id": "c3fc11c58614ece2",
   "outputs": [
    {
     "data": {
      "text/plain": [
       "{'Arllen', 'Jeff', 'Mr Al'}"
      ]
     },
     "execution_count": 59,
     "metadata": {},
     "output_type": "execute_result"
    }
   ],
   "execution_count": 59
  },
  {
   "metadata": {
    "ExecuteTime": {
     "end_time": "2025-03-13T10:49:39.736003Z",
     "start_time": "2025-03-13T10:49:39.721476Z"
    }
   },
   "cell_type": "code",
   "source": "excel_pending",
   "id": "3118f6b9ff69ceb9",
   "outputs": [
    {
     "data": {
      "text/plain": [
       "[{'id': '67003dbddf91d3d20b5b85d2',\n",
       "  'users': 'Arllen',\n",
       "  'typeKapi': 'kapi aide',\n",
       "  'montant': 30.0,\n",
       "  'delais': 7,\n",
       "  'creationKapi': '20 déc. 2024'},\n",
       " {'id': '67003dbddf91d3d20b5b86d2',\n",
       "  'users': 'Jeff',\n",
       "  'typeKapi': 'kapi aide',\n",
       "  'montant': 40.0,\n",
       "  'delais': 10,\n",
       "  'creationKapi': '20 déc. 2024'},\n",
       " {'id': '67003dbddf91d3d20b5b88d2',\n",
       "  'users': 'Mr Al',\n",
       "  'typeKapi': 'kapi aide',\n",
       "  'montant': 40.0,\n",
       "  'delais': 10,\n",
       "  'creationKapi': '20 déc. 2024'}]"
      ]
     },
     "execution_count": 57,
     "metadata": {},
     "output_type": "execute_result"
    }
   ],
   "execution_count": 57
  },
  {
   "metadata": {
    "ExecuteTime": {
     "end_time": "2025-03-13T10:49:47.684234Z",
     "start_time": "2025-03-13T10:49:47.671805Z"
    }
   },
   "cell_type": "code",
   "source": "len(excel_pending)",
   "id": "70db4994952ae93a",
   "outputs": [
    {
     "data": {
      "text/plain": [
       "3"
      ]
     },
     "execution_count": 58,
     "metadata": {},
     "output_type": "execute_result"
    }
   ],
   "execution_count": 58
  },
  {
   "metadata": {
    "ExecuteTime": {
     "end_time": "2025-03-13T10:36:35.126941Z",
     "start_time": "2025-03-13T10:36:35.092899Z"
    }
   },
   "cell_type": "code",
   "source": "type(data2)",
   "id": "c40b708ec25cec85",
   "outputs": [
    {
     "data": {
      "text/plain": [
       "list"
      ]
     },
     "execution_count": 43,
     "metadata": {},
     "output_type": "execute_result"
    }
   ],
   "execution_count": 43
  },
  {
   "metadata": {
    "ExecuteTime": {
     "end_time": "2025-03-13T10:47:40.984774Z",
     "start_time": "2025-03-13T10:47:40.973325Z"
    }
   },
   "cell_type": "code",
   "source": "print(\"Éléments dans excel_pending :\", excel_pending)\n",
   "id": "7e5031495df40fcd",
   "outputs": [
    {
     "name": "stdout",
     "output_type": "stream",
     "text": [
      "Éléments dans excel_pending : [{'id': '67003dbddf91d3d20b5b85d2', 'users': 'Arllen', 'typeKapi': 'kapi aide', 'montant': 30.0, 'delais': 7, 'creationKapi': '20 déc. 2024'}, {'id': '67003dbddf91d3d20b5b86d2', 'users': 'Jeff', 'typeKapi': 'kapi aide', 'montant': 40.0, 'delais': 10, 'creationKapi': '20 déc. 2024'}, {'id': '67003dbddf91d3d20b5b87d2', 'users': 'Jeff', 'typeKapi': 'kapi aide', 'montant': 40.0, 'delais': 10, 'creationKapi': '20 déc. 2024'}, {'id': '67003dbddf91d3d20b5b88d2', 'users': 'Mr Al', 'typeKapi': 'kapi aide', 'montant': 40.0, 'delais': 10, 'creationKapi': '20 déc. 2024'}]\n"
     ]
    }
   ],
   "execution_count": 53
  }
 ],
 "metadata": {
  "kernelspec": {
   "display_name": "Python 3",
   "language": "python",
   "name": "python3"
  },
  "language_info": {
   "codemirror_mode": {
    "name": "ipython",
    "version": 2
   },
   "file_extension": ".py",
   "mimetype": "text/x-python",
   "name": "python",
   "nbconvert_exporter": "python",
   "pygments_lexer": "ipython2",
   "version": "2.7.6"
  }
 },
 "nbformat": 4,
 "nbformat_minor": 5
}
