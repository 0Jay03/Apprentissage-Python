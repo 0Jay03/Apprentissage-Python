{
 "cells": [
  {
   "metadata": {
    "ExecuteTime": {
     "end_time": "2025-03-14T08:07:13.291519Z",
     "start_time": "2025-03-14T08:07:13.220153Z"
    }
   },
   "cell_type": "code",
   "source": [
    "import json\n",
    "\n",
    "def comparer_json(api_json_path, excel_json_path, pending_json_path):\n",
    "    \"\"\"\n",
    "    Compare les IDs des fichiers JSON (en tant que chaînes) et extrait les éléments absents du fichier API.\n",
    "    Si aucun élément n'est manquant, affiche un message et arrête l'action.\n",
    "    \"\"\"\n",
    "    # Charger les fichiers JSON en s'assurant qu'ils sont bien convertis en JSON\n",
    "    try:\n",
    "        with open(api_json_path, \"r\", encoding=\"utf-8\") as file:\n",
    "            api_data = json.load(file)\n",
    "        with open(excel_json_path, \"r\", encoding=\"utf-8\") as file:\n",
    "            excel_data = json.load(file)\n",
    "    except json.JSONDecodeError as e:\n",
    "        print(f\"❌ Erreur de décodage JSON : {e}\")\n",
    "        return\n",
    "    except FileNotFoundError as e:\n",
    "        print(f\"❌ Erreur : Fichier non trouvé {e}\")\n",
    "        return\n",
    "\n",
    "    # Vérification des types après chargement\n",
    "    if not isinstance(api_data, list) or not isinstance(excel_data, list):\n",
    "        print(\"❌ Erreur : Les fichiers JSON doivent contenir une liste de dictionnaires.\")\n",
    "        return\n",
    "\n",
    "    ## Extraire tous les IDs de api_data sous forme de chaînes\n",
    "    api_ids = {str(item[\"users\"]) for item in api_data if \"users\" in item and isinstance(item[\"users\"], (str, int))}\n",
    "\n",
    "    # Extraire les éléments de excel_data dont l'ID n'est PAS dans api_ids\n",
    "    seen_users = set()\n",
    "    excel_pending = [\n",
    "        item for item in excel_data\n",
    "        if \"users\" in item and isinstance(item[\"users\"], (str, int)) and str(item[\"users\"]) not in api_ids and str(item[\"users\"]) not in seen_users and not seen_users.add(str(item[\"users\"]))\n",
    "    ]\n",
    "\n",
    "    # Vérifier s'il y a des éléments à enregistrer\n",
    "    if not excel_pending:\n",
    "        print(\"✅ Aucun nouvel élément trouvé. Aucune action requise.\")\n",
    "        return\n",
    "\n",
    "    # Sauvegarde des éléments manquants dans un fichier JSON\n",
    "    with open(pending_json_path, \"w\", encoding=\"utf-8\") as file:\n",
    "        json.dump(excel_pending, file, indent=4, ensure_ascii=False)\n",
    "\n",
    "    print(f\"✅ {len(excel_pending)} éléments enregistrés dans {pending_json_path}\")\n",
    "\n",
    "\n",
    "# 🔹 Exécution de la fonction\n",
    "comparer_json(\"content_data.json\", \"excel_content_data.json\", \"pending_data.json\")\n"
   ],
   "id": "aae5e65f9d66cb42",
   "outputs": [
    {
     "name": "stdout",
     "output_type": "stream",
     "text": [
      "✅ 1 éléments enregistrés dans pending_data.json\n"
     ]
    }
   ],
   "execution_count": 4
  },
  {
   "metadata": {
    "ExecuteTime": {
     "end_time": "2025-03-13T10:55:45.925378Z",
     "start_time": "2025-03-13T10:55:45.917956Z"
    }
   },
   "cell_type": "code",
   "source": "",
   "id": "164680730934c9cb",
   "outputs": [],
   "execution_count": null
  },
  {
   "metadata": {
    "ExecuteTime": {
     "end_time": "2025-03-13T10:55:48.652644Z",
     "start_time": "2025-03-13T10:55:48.641186Z"
    }
   },
   "cell_type": "code",
   "source": "",
   "id": "d0417038f99f3426",
   "outputs": [],
   "execution_count": null
  },
  {
   "metadata": {},
   "cell_type": "markdown",
   "source": "",
   "id": "403728dc13a8550"
  }
 ],
 "metadata": {
  "kernelspec": {
   "display_name": "Python 3",
   "language": "python",
   "name": "python3"
  },
  "language_info": {
   "codemirror_mode": {
    "name": "ipython",
    "version": 2
   },
   "file_extension": ".py",
   "mimetype": "text/x-python",
   "name": "python",
   "nbconvert_exporter": "python",
   "pygments_lexer": "ipython2",
   "version": "2.7.6"
  }
 },
 "nbformat": 4,
 "nbformat_minor": 5
}
