{
 "cells": [
  {
   "cell_type": "code",
   "id": "initial_id",
   "metadata": {
    "collapsed": true,
    "ExecuteTime": {
     "end_time": "2025-03-12T07:54:34.271765Z",
     "start_time": "2025-03-12T07:54:29.637955Z"
    }
   },
   "source": [
    "import requests\n",
    "import json\n",
    "# Remplace par l'URL de ton API\n",
    "url = \"https://essential-orelie-devpro13-5241d920.koyeb.app/kapi\"\n",
    "\n",
    "# Si l'API nécessite un token d'authentification :\n",
    "# headers = {\n",
    "#     \"Authorization\": \"Bearer ton_token\",\n",
    "#     \"Content-Type\": \"application/json\"\n",
    "# }\n",
    "\n",
    "# Récupération des données\n",
    "response = requests.get(url)\n",
    "\n",
    "# Vérification du statut de la requête\n",
    "if response.status_code == 200:\n",
    "    data = response.json()  # Convertir la réponse en JSON\n",
    "else:\n",
    "    print(\"Erreur :\", response.status_code, response.text)"
   ],
   "outputs": [],
   "execution_count": 12
  },
  {
   "metadata": {
    "ExecuteTime": {
     "end_time": "2025-03-12T07:54:36.864775Z",
     "start_time": "2025-03-12T07:54:36.847498Z"
    }
   },
   "cell_type": "code",
   "source": [
    "# Sauvegarde des données dans un fichier JSON\n",
    "with open(\"from_api.json\", \"w\", encoding=\"utf-8\") as json_file:\n",
    "    json.dump(data, json_file, indent=4, ensure_ascii=False)\n",
    "\n",
    "print(\"Fichier JSON créé avec succès.\")"
   ],
   "id": "ef77b10731eae23f",
   "outputs": [
    {
     "name": "stdout",
     "output_type": "stream",
     "text": [
      "Fichier JSON créé avec succès.\n"
     ]
    }
   ],
   "execution_count": 13
  },
  {
   "metadata": {
    "ExecuteTime": {
     "end_time": "2025-03-12T07:59:34.479621Z",
     "start_time": "2025-03-12T07:59:34.461003Z"
    }
   },
   "cell_type": "code",
   "source": "file = \"from_api.json\"",
   "id": "aac893c8efa5d0af",
   "outputs": [],
   "execution_count": 15
  },
  {
   "metadata": {
    "ExecuteTime": {
     "end_time": "2025-03-12T08:01:43.014391Z",
     "start_time": "2025-03-12T08:01:42.695633Z"
    }
   },
   "cell_type": "code",
   "source": [
    "import pandas as pd\n",
    "\n",
    "df = pd.read_json(file)\n",
    "\n",
    "df = df.replace(\"'\", \"\\\"\")\n",
    "df"
   ],
   "id": "3d1c7a4321684fb0",
   "outputs": [
    {
     "data": {
      "text/plain": [
       "                         _id  \\\n",
       "0   67d04103d89d0a6b6852d4a1   \n",
       "1   67d04106d89d0a6b6852d4a3   \n",
       "2   67d0454dd89d0a6b6852d4a7   \n",
       "3   67d04550d89d0a6b6852d4a9   \n",
       "4   67d045d7d89d0a6b6852d4ad   \n",
       "5   67d045dbd89d0a6b6852d4af   \n",
       "6   67d0467ed89d0a6b6852d4b3   \n",
       "7   67d04681d89d0a6b6852d4b5   \n",
       "8   67d04685d89d0a6b6852d4b7   \n",
       "9   67d04cc9d89d0a6b6852d4bb   \n",
       "10  67d04cccd89d0a6b6852d4bd   \n",
       "11  67d04cced89d0a6b6852d4bf   \n",
       "12  67d04dbed89d0a6b6852d4c3   \n",
       "13  67d04dc1d89d0a6b6852d4c5   \n",
       "14  67d04dc5d89d0a6b6852d4c7   \n",
       "15  67d04e1ad89d0a6b6852d4cb   \n",
       "16  67d04e1dd89d0a6b6852d4cd   \n",
       "17  67d04e20d89d0a6b6852d4cf   \n",
       "18  67d04e2bd89d0a6b6852d4d3   \n",
       "19  67d04e2ed89d0a6b6852d4d5   \n",
       "20  67d04e32d89d0a6b6852d4d7   \n",
       "21  67d05abbd89d0a6b6852d4dc   \n",
       "22  67d05abdd89d0a6b6852d4de   \n",
       "23  67d05b19d89d0a6b6852d4e0   \n",
       "24  67d06334d89d0a6b6852d4e4   \n",
       "25  67d06338d89d0a6b6852d4e6   \n",
       "26  67d0633bd89d0a6b6852d4e8   \n",
       "27  67d06744d89d0a6b6852d4ed   \n",
       "28  67d06748d89d0a6b6852d4ef   \n",
       "29  67d0674bd89d0a6b6852d4f1   \n",
       "30  67d068ded89d0a6b6852d4f5   \n",
       "31  67d068e1d89d0a6b6852d4f7   \n",
       "32  67d068e4d89d0a6b6852d4f9   \n",
       "\n",
       "                                              content   status  \\\n",
       "0   {'id': '67003dbddf91d3d21b5a83d2', 'users': 'K...  attente   \n",
       "1   {'id': '67003dbddf91d3d20b5a83d2', 'users': 'C...  attente   \n",
       "2   {'id': '67003dbddf91d3d21b5a83d2', 'users': 'K...  attente   \n",
       "3   {'id': '67003dbddf91d3d20b5a83d2', 'users': 'C...  attente   \n",
       "4   {'id': '67003dbddf91d3d21b5a83d2', 'users': 'K...  attente   \n",
       "5   {'id': '67003dbddf91d3d20b5a83d2', 'users': 'C...  attente   \n",
       "6   {'id': '67003dbddf91d3d21b5a83d2', 'users': 'K...  attente   \n",
       "7   {'id': '67003dbddf91d3d20b5a83d2', 'users': 'C...  attente   \n",
       "8   {'id': '67003dbddf91d3d20b5a73d2', 'users': 'D...  attente   \n",
       "9   {'id': '67003dbddf91d3d21b5a83d2', 'users': 'K...  attente   \n",
       "10  {'id': '67003dbddf91d3d20b5a83d2', 'users': 'C...  attente   \n",
       "11  {'id': '67003dbddf91d3d20b5a73d2', 'users': 'D...  attente   \n",
       "12  {'id': '67003dbddf91d3d21b5a83d2', 'users': 'K...  attente   \n",
       "13  {'id': '67003dbddf91d3d20b5a83d2', 'users': 'C...  attente   \n",
       "14  {'id': '67003dbddf91d3d20b5a73d2', 'users': 'D...  attente   \n",
       "15  {'id': '67003dbddf91d3d21b5a83d2', 'users': 'K...  attente   \n",
       "16  {'id': '67003dbddf91d3d20b5a83d2', 'users': 'C...  attente   \n",
       "17  {'id': '67003dbddf91d3d20b5a73d2', 'users': 'D...  attente   \n",
       "18  {'id': '67003dbddf91d3d21b5a83d2', 'users': 'K...  attente   \n",
       "19  {'id': '67003dbddf91d3d20b5a83d2', 'users': 'C...  attente   \n",
       "20  {'id': '67003dbddf91d3d20b5a73d2', 'users': 'D...  attente   \n",
       "21  {'id': '67003dbddf91d3d21b5a83d2', 'users': 'K...  attente   \n",
       "22  {'id': '67003dbddf91d3d20b5a83d2', 'users': 'C...  attente   \n",
       "23  {'id': '67003dbddf91d3d20b5a73d2', 'users': 'D...  attente   \n",
       "24  {'id': '67003dbddf91d3d21b5a83d2', 'users': 'K...  attente   \n",
       "25  {'id': '67003dbddf91d3d20b5a83d2', 'users': 'C...  attente   \n",
       "26  {'id': '67003dbfdf91d3d20b5a73d2', 'users': 'D...  attente   \n",
       "27  {'id': '67003dbddf91d3d21b5a83d2', 'users': 'K...  attente   \n",
       "28  {'id': '67003dbddf91d3d20b5a83d2', 'users': 'C...  attente   \n",
       "29  {'id': '67003dbfdf91d3d20b5a73d2', 'users': 'D...  attente   \n",
       "30  {'id': '67003dbddf91d3d21b5a83d2', 'users': 'K...  attente   \n",
       "31  {'id': '67003dbddf91d3d20b5a83d2', 'users': 'C...  attente   \n",
       "32  {'id': '67003dbfdf91d3d20b5a73d4', 'users': 'M...  attente   \n",
       "\n",
       "                   createdAt                 updatedAt  __v  \n",
       "0   2025-03-11T13:56:19.730Z  2025-03-11T13:56:19.730Z    0  \n",
       "1   2025-03-11T13:56:22.717Z  2025-03-11T13:56:22.717Z    0  \n",
       "2   2025-03-11T14:14:37.293Z  2025-03-11T14:14:37.293Z    0  \n",
       "3   2025-03-11T14:14:40.552Z  2025-03-11T14:14:40.552Z    0  \n",
       "4   2025-03-11T14:16:55.913Z  2025-03-11T14:16:55.913Z    0  \n",
       "5   2025-03-11T14:16:59.255Z  2025-03-11T14:16:59.255Z    0  \n",
       "6   2025-03-11T14:19:42.792Z  2025-03-11T14:19:42.792Z    0  \n",
       "7   2025-03-11T14:19:45.813Z  2025-03-11T14:19:45.813Z    0  \n",
       "8   2025-03-11T14:19:49.898Z  2025-03-11T14:19:49.898Z    0  \n",
       "9   2025-03-11T14:46:33.238Z  2025-03-11T14:46:33.238Z    0  \n",
       "10  2025-03-11T14:46:36.133Z  2025-03-11T14:46:36.133Z    0  \n",
       "11  2025-03-11T14:46:38.933Z  2025-03-11T14:46:38.933Z    0  \n",
       "12  2025-03-11T14:50:38.130Z  2025-03-11T14:50:38.130Z    0  \n",
       "13  2025-03-11T14:50:41.871Z  2025-03-11T14:50:41.871Z    0  \n",
       "14  2025-03-11T14:50:45.389Z  2025-03-11T14:50:45.389Z    0  \n",
       "15  2025-03-11T14:52:10.213Z  2025-03-11T14:52:10.213Z    0  \n",
       "16  2025-03-11T14:52:13.524Z  2025-03-11T14:52:13.524Z    0  \n",
       "17  2025-03-11T14:52:16.932Z  2025-03-11T14:52:16.932Z    0  \n",
       "18  2025-03-11T14:52:27.371Z  2025-03-11T14:52:27.371Z    0  \n",
       "19  2025-03-11T14:52:30.474Z  2025-03-11T14:52:30.474Z    0  \n",
       "20  2025-03-11T14:52:34.743Z  2025-03-11T14:52:34.743Z    0  \n",
       "21  2025-03-11T15:46:03.399Z  2025-03-11T15:46:03.399Z    0  \n",
       "22  2025-03-11T15:46:05.733Z  2025-03-11T15:46:05.733Z    0  \n",
       "23  2025-03-11T15:47:37.306Z  2025-03-11T15:47:37.306Z    0  \n",
       "24  2025-03-11T16:22:12.669Z  2025-03-11T16:22:12.669Z    0  \n",
       "25  2025-03-11T16:22:16.566Z  2025-03-11T16:22:16.566Z    0  \n",
       "26  2025-03-11T16:22:19.750Z  2025-03-11T16:22:19.750Z    0  \n",
       "27  2025-03-11T16:39:32.918Z  2025-03-11T16:39:32.918Z    0  \n",
       "28  2025-03-11T16:39:36.000Z  2025-03-11T16:39:36.000Z    0  \n",
       "29  2025-03-11T16:39:39.089Z  2025-03-11T16:39:39.089Z    0  \n",
       "30  2025-03-11T16:46:22.891Z  2025-03-11T16:46:22.891Z    0  \n",
       "31  2025-03-11T16:46:25.551Z  2025-03-11T16:46:25.551Z    0  \n",
       "32  2025-03-11T16:46:28.238Z  2025-03-11T16:46:28.238Z    0  "
      ],
      "text/html": [
       "<div>\n",
       "<style scoped>\n",
       "    .dataframe tbody tr th:only-of-type {\n",
       "        vertical-align: middle;\n",
       "    }\n",
       "\n",
       "    .dataframe tbody tr th {\n",
       "        vertical-align: top;\n",
       "    }\n",
       "\n",
       "    .dataframe thead th {\n",
       "        text-align: right;\n",
       "    }\n",
       "</style>\n",
       "<table border=\"1\" class=\"dataframe\">\n",
       "  <thead>\n",
       "    <tr style=\"text-align: right;\">\n",
       "      <th></th>\n",
       "      <th>_id</th>\n",
       "      <th>content</th>\n",
       "      <th>status</th>\n",
       "      <th>createdAt</th>\n",
       "      <th>updatedAt</th>\n",
       "      <th>__v</th>\n",
       "    </tr>\n",
       "  </thead>\n",
       "  <tbody>\n",
       "    <tr>\n",
       "      <th>0</th>\n",
       "      <td>67d04103d89d0a6b6852d4a1</td>\n",
       "      <td>{'id': '67003dbddf91d3d21b5a83d2', 'users': 'K...</td>\n",
       "      <td>attente</td>\n",
       "      <td>2025-03-11T13:56:19.730Z</td>\n",
       "      <td>2025-03-11T13:56:19.730Z</td>\n",
       "      <td>0</td>\n",
       "    </tr>\n",
       "    <tr>\n",
       "      <th>1</th>\n",
       "      <td>67d04106d89d0a6b6852d4a3</td>\n",
       "      <td>{'id': '67003dbddf91d3d20b5a83d2', 'users': 'C...</td>\n",
       "      <td>attente</td>\n",
       "      <td>2025-03-11T13:56:22.717Z</td>\n",
       "      <td>2025-03-11T13:56:22.717Z</td>\n",
       "      <td>0</td>\n",
       "    </tr>\n",
       "    <tr>\n",
       "      <th>2</th>\n",
       "      <td>67d0454dd89d0a6b6852d4a7</td>\n",
       "      <td>{'id': '67003dbddf91d3d21b5a83d2', 'users': 'K...</td>\n",
       "      <td>attente</td>\n",
       "      <td>2025-03-11T14:14:37.293Z</td>\n",
       "      <td>2025-03-11T14:14:37.293Z</td>\n",
       "      <td>0</td>\n",
       "    </tr>\n",
       "    <tr>\n",
       "      <th>3</th>\n",
       "      <td>67d04550d89d0a6b6852d4a9</td>\n",
       "      <td>{'id': '67003dbddf91d3d20b5a83d2', 'users': 'C...</td>\n",
       "      <td>attente</td>\n",
       "      <td>2025-03-11T14:14:40.552Z</td>\n",
       "      <td>2025-03-11T14:14:40.552Z</td>\n",
       "      <td>0</td>\n",
       "    </tr>\n",
       "    <tr>\n",
       "      <th>4</th>\n",
       "      <td>67d045d7d89d0a6b6852d4ad</td>\n",
       "      <td>{'id': '67003dbddf91d3d21b5a83d2', 'users': 'K...</td>\n",
       "      <td>attente</td>\n",
       "      <td>2025-03-11T14:16:55.913Z</td>\n",
       "      <td>2025-03-11T14:16:55.913Z</td>\n",
       "      <td>0</td>\n",
       "    </tr>\n",
       "    <tr>\n",
       "      <th>5</th>\n",
       "      <td>67d045dbd89d0a6b6852d4af</td>\n",
       "      <td>{'id': '67003dbddf91d3d20b5a83d2', 'users': 'C...</td>\n",
       "      <td>attente</td>\n",
       "      <td>2025-03-11T14:16:59.255Z</td>\n",
       "      <td>2025-03-11T14:16:59.255Z</td>\n",
       "      <td>0</td>\n",
       "    </tr>\n",
       "    <tr>\n",
       "      <th>6</th>\n",
       "      <td>67d0467ed89d0a6b6852d4b3</td>\n",
       "      <td>{'id': '67003dbddf91d3d21b5a83d2', 'users': 'K...</td>\n",
       "      <td>attente</td>\n",
       "      <td>2025-03-11T14:19:42.792Z</td>\n",
       "      <td>2025-03-11T14:19:42.792Z</td>\n",
       "      <td>0</td>\n",
       "    </tr>\n",
       "    <tr>\n",
       "      <th>7</th>\n",
       "      <td>67d04681d89d0a6b6852d4b5</td>\n",
       "      <td>{'id': '67003dbddf91d3d20b5a83d2', 'users': 'C...</td>\n",
       "      <td>attente</td>\n",
       "      <td>2025-03-11T14:19:45.813Z</td>\n",
       "      <td>2025-03-11T14:19:45.813Z</td>\n",
       "      <td>0</td>\n",
       "    </tr>\n",
       "    <tr>\n",
       "      <th>8</th>\n",
       "      <td>67d04685d89d0a6b6852d4b7</td>\n",
       "      <td>{'id': '67003dbddf91d3d20b5a73d2', 'users': 'D...</td>\n",
       "      <td>attente</td>\n",
       "      <td>2025-03-11T14:19:49.898Z</td>\n",
       "      <td>2025-03-11T14:19:49.898Z</td>\n",
       "      <td>0</td>\n",
       "    </tr>\n",
       "    <tr>\n",
       "      <th>9</th>\n",
       "      <td>67d04cc9d89d0a6b6852d4bb</td>\n",
       "      <td>{'id': '67003dbddf91d3d21b5a83d2', 'users': 'K...</td>\n",
       "      <td>attente</td>\n",
       "      <td>2025-03-11T14:46:33.238Z</td>\n",
       "      <td>2025-03-11T14:46:33.238Z</td>\n",
       "      <td>0</td>\n",
       "    </tr>\n",
       "    <tr>\n",
       "      <th>10</th>\n",
       "      <td>67d04cccd89d0a6b6852d4bd</td>\n",
       "      <td>{'id': '67003dbddf91d3d20b5a83d2', 'users': 'C...</td>\n",
       "      <td>attente</td>\n",
       "      <td>2025-03-11T14:46:36.133Z</td>\n",
       "      <td>2025-03-11T14:46:36.133Z</td>\n",
       "      <td>0</td>\n",
       "    </tr>\n",
       "    <tr>\n",
       "      <th>11</th>\n",
       "      <td>67d04cced89d0a6b6852d4bf</td>\n",
       "      <td>{'id': '67003dbddf91d3d20b5a73d2', 'users': 'D...</td>\n",
       "      <td>attente</td>\n",
       "      <td>2025-03-11T14:46:38.933Z</td>\n",
       "      <td>2025-03-11T14:46:38.933Z</td>\n",
       "      <td>0</td>\n",
       "    </tr>\n",
       "    <tr>\n",
       "      <th>12</th>\n",
       "      <td>67d04dbed89d0a6b6852d4c3</td>\n",
       "      <td>{'id': '67003dbddf91d3d21b5a83d2', 'users': 'K...</td>\n",
       "      <td>attente</td>\n",
       "      <td>2025-03-11T14:50:38.130Z</td>\n",
       "      <td>2025-03-11T14:50:38.130Z</td>\n",
       "      <td>0</td>\n",
       "    </tr>\n",
       "    <tr>\n",
       "      <th>13</th>\n",
       "      <td>67d04dc1d89d0a6b6852d4c5</td>\n",
       "      <td>{'id': '67003dbddf91d3d20b5a83d2', 'users': 'C...</td>\n",
       "      <td>attente</td>\n",
       "      <td>2025-03-11T14:50:41.871Z</td>\n",
       "      <td>2025-03-11T14:50:41.871Z</td>\n",
       "      <td>0</td>\n",
       "    </tr>\n",
       "    <tr>\n",
       "      <th>14</th>\n",
       "      <td>67d04dc5d89d0a6b6852d4c7</td>\n",
       "      <td>{'id': '67003dbddf91d3d20b5a73d2', 'users': 'D...</td>\n",
       "      <td>attente</td>\n",
       "      <td>2025-03-11T14:50:45.389Z</td>\n",
       "      <td>2025-03-11T14:50:45.389Z</td>\n",
       "      <td>0</td>\n",
       "    </tr>\n",
       "    <tr>\n",
       "      <th>15</th>\n",
       "      <td>67d04e1ad89d0a6b6852d4cb</td>\n",
       "      <td>{'id': '67003dbddf91d3d21b5a83d2', 'users': 'K...</td>\n",
       "      <td>attente</td>\n",
       "      <td>2025-03-11T14:52:10.213Z</td>\n",
       "      <td>2025-03-11T14:52:10.213Z</td>\n",
       "      <td>0</td>\n",
       "    </tr>\n",
       "    <tr>\n",
       "      <th>16</th>\n",
       "      <td>67d04e1dd89d0a6b6852d4cd</td>\n",
       "      <td>{'id': '67003dbddf91d3d20b5a83d2', 'users': 'C...</td>\n",
       "      <td>attente</td>\n",
       "      <td>2025-03-11T14:52:13.524Z</td>\n",
       "      <td>2025-03-11T14:52:13.524Z</td>\n",
       "      <td>0</td>\n",
       "    </tr>\n",
       "    <tr>\n",
       "      <th>17</th>\n",
       "      <td>67d04e20d89d0a6b6852d4cf</td>\n",
       "      <td>{'id': '67003dbddf91d3d20b5a73d2', 'users': 'D...</td>\n",
       "      <td>attente</td>\n",
       "      <td>2025-03-11T14:52:16.932Z</td>\n",
       "      <td>2025-03-11T14:52:16.932Z</td>\n",
       "      <td>0</td>\n",
       "    </tr>\n",
       "    <tr>\n",
       "      <th>18</th>\n",
       "      <td>67d04e2bd89d0a6b6852d4d3</td>\n",
       "      <td>{'id': '67003dbddf91d3d21b5a83d2', 'users': 'K...</td>\n",
       "      <td>attente</td>\n",
       "      <td>2025-03-11T14:52:27.371Z</td>\n",
       "      <td>2025-03-11T14:52:27.371Z</td>\n",
       "      <td>0</td>\n",
       "    </tr>\n",
       "    <tr>\n",
       "      <th>19</th>\n",
       "      <td>67d04e2ed89d0a6b6852d4d5</td>\n",
       "      <td>{'id': '67003dbddf91d3d20b5a83d2', 'users': 'C...</td>\n",
       "      <td>attente</td>\n",
       "      <td>2025-03-11T14:52:30.474Z</td>\n",
       "      <td>2025-03-11T14:52:30.474Z</td>\n",
       "      <td>0</td>\n",
       "    </tr>\n",
       "    <tr>\n",
       "      <th>20</th>\n",
       "      <td>67d04e32d89d0a6b6852d4d7</td>\n",
       "      <td>{'id': '67003dbddf91d3d20b5a73d2', 'users': 'D...</td>\n",
       "      <td>attente</td>\n",
       "      <td>2025-03-11T14:52:34.743Z</td>\n",
       "      <td>2025-03-11T14:52:34.743Z</td>\n",
       "      <td>0</td>\n",
       "    </tr>\n",
       "    <tr>\n",
       "      <th>21</th>\n",
       "      <td>67d05abbd89d0a6b6852d4dc</td>\n",
       "      <td>{'id': '67003dbddf91d3d21b5a83d2', 'users': 'K...</td>\n",
       "      <td>attente</td>\n",
       "      <td>2025-03-11T15:46:03.399Z</td>\n",
       "      <td>2025-03-11T15:46:03.399Z</td>\n",
       "      <td>0</td>\n",
       "    </tr>\n",
       "    <tr>\n",
       "      <th>22</th>\n",
       "      <td>67d05abdd89d0a6b6852d4de</td>\n",
       "      <td>{'id': '67003dbddf91d3d20b5a83d2', 'users': 'C...</td>\n",
       "      <td>attente</td>\n",
       "      <td>2025-03-11T15:46:05.733Z</td>\n",
       "      <td>2025-03-11T15:46:05.733Z</td>\n",
       "      <td>0</td>\n",
       "    </tr>\n",
       "    <tr>\n",
       "      <th>23</th>\n",
       "      <td>67d05b19d89d0a6b6852d4e0</td>\n",
       "      <td>{'id': '67003dbddf91d3d20b5a73d2', 'users': 'D...</td>\n",
       "      <td>attente</td>\n",
       "      <td>2025-03-11T15:47:37.306Z</td>\n",
       "      <td>2025-03-11T15:47:37.306Z</td>\n",
       "      <td>0</td>\n",
       "    </tr>\n",
       "    <tr>\n",
       "      <th>24</th>\n",
       "      <td>67d06334d89d0a6b6852d4e4</td>\n",
       "      <td>{'id': '67003dbddf91d3d21b5a83d2', 'users': 'K...</td>\n",
       "      <td>attente</td>\n",
       "      <td>2025-03-11T16:22:12.669Z</td>\n",
       "      <td>2025-03-11T16:22:12.669Z</td>\n",
       "      <td>0</td>\n",
       "    </tr>\n",
       "    <tr>\n",
       "      <th>25</th>\n",
       "      <td>67d06338d89d0a6b6852d4e6</td>\n",
       "      <td>{'id': '67003dbddf91d3d20b5a83d2', 'users': 'C...</td>\n",
       "      <td>attente</td>\n",
       "      <td>2025-03-11T16:22:16.566Z</td>\n",
       "      <td>2025-03-11T16:22:16.566Z</td>\n",
       "      <td>0</td>\n",
       "    </tr>\n",
       "    <tr>\n",
       "      <th>26</th>\n",
       "      <td>67d0633bd89d0a6b6852d4e8</td>\n",
       "      <td>{'id': '67003dbfdf91d3d20b5a73d2', 'users': 'D...</td>\n",
       "      <td>attente</td>\n",
       "      <td>2025-03-11T16:22:19.750Z</td>\n",
       "      <td>2025-03-11T16:22:19.750Z</td>\n",
       "      <td>0</td>\n",
       "    </tr>\n",
       "    <tr>\n",
       "      <th>27</th>\n",
       "      <td>67d06744d89d0a6b6852d4ed</td>\n",
       "      <td>{'id': '67003dbddf91d3d21b5a83d2', 'users': 'K...</td>\n",
       "      <td>attente</td>\n",
       "      <td>2025-03-11T16:39:32.918Z</td>\n",
       "      <td>2025-03-11T16:39:32.918Z</td>\n",
       "      <td>0</td>\n",
       "    </tr>\n",
       "    <tr>\n",
       "      <th>28</th>\n",
       "      <td>67d06748d89d0a6b6852d4ef</td>\n",
       "      <td>{'id': '67003dbddf91d3d20b5a83d2', 'users': 'C...</td>\n",
       "      <td>attente</td>\n",
       "      <td>2025-03-11T16:39:36.000Z</td>\n",
       "      <td>2025-03-11T16:39:36.000Z</td>\n",
       "      <td>0</td>\n",
       "    </tr>\n",
       "    <tr>\n",
       "      <th>29</th>\n",
       "      <td>67d0674bd89d0a6b6852d4f1</td>\n",
       "      <td>{'id': '67003dbfdf91d3d20b5a73d2', 'users': 'D...</td>\n",
       "      <td>attente</td>\n",
       "      <td>2025-03-11T16:39:39.089Z</td>\n",
       "      <td>2025-03-11T16:39:39.089Z</td>\n",
       "      <td>0</td>\n",
       "    </tr>\n",
       "    <tr>\n",
       "      <th>30</th>\n",
       "      <td>67d068ded89d0a6b6852d4f5</td>\n",
       "      <td>{'id': '67003dbddf91d3d21b5a83d2', 'users': 'K...</td>\n",
       "      <td>attente</td>\n",
       "      <td>2025-03-11T16:46:22.891Z</td>\n",
       "      <td>2025-03-11T16:46:22.891Z</td>\n",
       "      <td>0</td>\n",
       "    </tr>\n",
       "    <tr>\n",
       "      <th>31</th>\n",
       "      <td>67d068e1d89d0a6b6852d4f7</td>\n",
       "      <td>{'id': '67003dbddf91d3d20b5a83d2', 'users': 'C...</td>\n",
       "      <td>attente</td>\n",
       "      <td>2025-03-11T16:46:25.551Z</td>\n",
       "      <td>2025-03-11T16:46:25.551Z</td>\n",
       "      <td>0</td>\n",
       "    </tr>\n",
       "    <tr>\n",
       "      <th>32</th>\n",
       "      <td>67d068e4d89d0a6b6852d4f9</td>\n",
       "      <td>{'id': '67003dbfdf91d3d20b5a73d4', 'users': 'M...</td>\n",
       "      <td>attente</td>\n",
       "      <td>2025-03-11T16:46:28.238Z</td>\n",
       "      <td>2025-03-11T16:46:28.238Z</td>\n",
       "      <td>0</td>\n",
       "    </tr>\n",
       "  </tbody>\n",
       "</table>\n",
       "</div>"
      ]
     },
     "execution_count": 19,
     "metadata": {},
     "output_type": "execute_result"
    }
   ],
   "execution_count": 19
  },
  {
   "metadata": {
    "ExecuteTime": {
     "end_time": "2025-03-12T08:30:57.057265Z",
     "start_time": "2025-03-12T08:30:57.013620Z"
    }
   },
   "cell_type": "code",
   "source": [
    "new_data = []\n",
    "df[\"content\"] = df[\"content\"]\n",
    "# Fonction pour corriger les apostrophes et valider le JSON\n",
    "# def corriger_json(content):\n",
    "#     try:\n",
    "#         # Remplacer les apostrophes par des guillemets\n",
    "#         # content = content.replace(\"'\", '\"')\n",
    "#         # Vérifier si le JSON est valide\n",
    "#         parsed_data = json.loads(content)\n",
    "#         return parsed_data  # Retourner l'objet JSON valide\n",
    "#     except (json.JSONDecodeError, ValueError, SyntaxError) as e:\n",
    "#         logging.error(f\"Erreur JSON lors de la conversion : {content} - {str(e)}\")\n",
    "#         return None  # Retourner None si erreur\n",
    "\n",
    "# Appliquer la fonction à chaque ligne de la colonne 'content'\n",
    "# df[\"content_corrige\"] = df[\"content\"].apply(corriger_json)\n",
    "content = df[\"content\"]\n",
    "content"
   ],
   "id": "36795af226a1343e",
   "outputs": [
    {
     "data": {
      "text/plain": [
       "0     {'id': '67003dbddf91d3d21b5a83d2', 'users': 'K...\n",
       "1     {'id': '67003dbddf91d3d20b5a83d2', 'users': 'C...\n",
       "2     {'id': '67003dbddf91d3d21b5a83d2', 'users': 'K...\n",
       "3     {'id': '67003dbddf91d3d20b5a83d2', 'users': 'C...\n",
       "4     {'id': '67003dbddf91d3d21b5a83d2', 'users': 'K...\n",
       "5     {'id': '67003dbddf91d3d20b5a83d2', 'users': 'C...\n",
       "6     {'id': '67003dbddf91d3d21b5a83d2', 'users': 'K...\n",
       "7     {'id': '67003dbddf91d3d20b5a83d2', 'users': 'C...\n",
       "8     {'id': '67003dbddf91d3d20b5a73d2', 'users': 'D...\n",
       "9     {'id': '67003dbddf91d3d21b5a83d2', 'users': 'K...\n",
       "10    {'id': '67003dbddf91d3d20b5a83d2', 'users': 'C...\n",
       "11    {'id': '67003dbddf91d3d20b5a73d2', 'users': 'D...\n",
       "12    {'id': '67003dbddf91d3d21b5a83d2', 'users': 'K...\n",
       "13    {'id': '67003dbddf91d3d20b5a83d2', 'users': 'C...\n",
       "14    {'id': '67003dbddf91d3d20b5a73d2', 'users': 'D...\n",
       "15    {'id': '67003dbddf91d3d21b5a83d2', 'users': 'K...\n",
       "16    {'id': '67003dbddf91d3d20b5a83d2', 'users': 'C...\n",
       "17    {'id': '67003dbddf91d3d20b5a73d2', 'users': 'D...\n",
       "18    {'id': '67003dbddf91d3d21b5a83d2', 'users': 'K...\n",
       "19    {'id': '67003dbddf91d3d20b5a83d2', 'users': 'C...\n",
       "20    {'id': '67003dbddf91d3d20b5a73d2', 'users': 'D...\n",
       "21    {'id': '67003dbddf91d3d21b5a83d2', 'users': 'K...\n",
       "22    {'id': '67003dbddf91d3d20b5a83d2', 'users': 'C...\n",
       "23    {'id': '67003dbddf91d3d20b5a73d2', 'users': 'D...\n",
       "24    {'id': '67003dbddf91d3d21b5a83d2', 'users': 'K...\n",
       "25    {'id': '67003dbddf91d3d20b5a83d2', 'users': 'C...\n",
       "26    {'id': '67003dbfdf91d3d20b5a73d2', 'users': 'D...\n",
       "27    {'id': '67003dbddf91d3d21b5a83d2', 'users': 'K...\n",
       "28    {'id': '67003dbddf91d3d20b5a83d2', 'users': 'C...\n",
       "29    {'id': '67003dbfdf91d3d20b5a73d2', 'users': 'D...\n",
       "30    {'id': '67003dbddf91d3d21b5a83d2', 'users': 'K...\n",
       "31    {'id': '67003dbddf91d3d20b5a83d2', 'users': 'C...\n",
       "32    {'id': '67003dbfdf91d3d20b5a73d4', 'users': 'M...\n",
       "Name: content, dtype: object"
      ]
     },
     "execution_count": 32,
     "metadata": {},
     "output_type": "execute_result"
    }
   ],
   "execution_count": 32
  },
  {
   "metadata": {
    "ExecuteTime": {
     "end_time": "2025-03-12T08:41:49.182809Z",
     "start_time": "2025-03-12T08:41:49.164696Z"
    }
   },
   "cell_type": "code",
   "source": "type(content)\n",
   "id": "6435c298c1da5604",
   "outputs": [
    {
     "data": {
      "text/plain": [
       "pandas.core.series.Series"
      ]
     },
     "execution_count": 41,
     "metadata": {},
     "output_type": "execute_result"
    }
   ],
   "execution_count": 41
  },
  {
   "metadata": {
    "ExecuteTime": {
     "end_time": "2025-03-12T08:47:15.789374Z",
     "start_time": "2025-03-12T08:47:15.772650Z"
    }
   },
   "cell_type": "code",
   "source": [
    "# Fonction pour nettoyer les données JSON encodées plusieurs fois\n",
    "def nettoyer_json_doublement_encode(x):\n",
    "    try:\n",
    "        while isinstance(x, str):  # Tant que c'est une chaîne, essaye de décoder\n",
    "            x = json.loads(x)\n",
    "        return x\n",
    "    except json.JSONDecodeError:\n",
    "        return None  # En cas d'erreur, retourne None\n",
    "\n",
    "# Appliquer la correction sur toute la colonne\n",
    "content = df[\"content\"].apply(nettoyer_json_doublement_encode)\n",
    "\n",
    "# Vérifier le résultat\n",
    "print(content.iloc[0])  # Doit afficher un vrai dictionnaire  "
   ],
   "id": "dab63119f3df7fef",
   "outputs": [
    {
     "name": "stdout",
     "output_type": "stream",
     "text": [
      "{'id': '67003dbddf91d3d21b5a83d2', 'users': 'Kardel', 'typeKapi': 'kapi aide', 'montant': '5.000', 'delais': '7', 'creationKapi': '20 déc. 2024'}\n"
     ]
    }
   ],
   "execution_count": 46
  },
  {
   "metadata": {
    "ExecuteTime": {
     "end_time": "2025-03-12T08:47:43.278007Z",
     "start_time": "2025-03-12T08:47:43.260759Z"
    }
   },
   "cell_type": "code",
   "source": [
    "# Appliquer la conversion sur toute la colonne\n",
    "new_content = content.apply(lambda x: json.loads(x.replace(\"'\", '\"')) if isinstance(x, str) else x)\n",
    "\n",
    "# Vérifier si tout est bien converti en dictionnaires\n",
    "print(new_content.iloc[0])  # Devrait afficher un vrai dictionnaire"
   ],
   "id": "5dfbb56a3ba2e8b3",
   "outputs": [
    {
     "name": "stdout",
     "output_type": "stream",
     "text": [
      "{'id': '67003dbddf91d3d21b5a83d2', 'users': 'Kardel', 'typeKapi': 'kapi aide', 'montant': '5.000', 'delais': '7', 'creationKapi': '20 déc. 2024'}\n"
     ]
    }
   ],
   "execution_count": 47
  },
  {
   "metadata": {
    "ExecuteTime": {
     "end_time": "2025-03-12T09:24:56.414834Z",
     "start_time": "2025-03-12T09:24:56.400319Z"
    }
   },
   "cell_type": "code",
   "source": [
    "df_ids = new_content.apply(lambda x: x[\"id\"])\n",
    "# df_ids = pd.to_numeric(df_ids, errors='coerce')\n",
    "type(df_ids)\n"
   ],
   "id": "b5f61ad06848d7e8",
   "outputs": [
    {
     "data": {
      "text/plain": [
       "pandas.core.series.Series"
      ]
     },
     "execution_count": 87,
     "metadata": {},
     "output_type": "execute_result"
    }
   ],
   "execution_count": 87
  },
  {
   "metadata": {
    "ExecuteTime": {
     "end_time": "2025-03-12T09:24:59.322213Z",
     "start_time": "2025-03-12T09:24:59.308463Z"
    }
   },
   "cell_type": "code",
   "source": "df_ids",
   "id": "60500f087f99fc02",
   "outputs": [
    {
     "data": {
      "text/plain": [
       "0     67003dbddf91d3d21b5a83d2\n",
       "1     67003dbddf91d3d20b5a83d2\n",
       "2     67003dbddf91d3d21b5a83d2\n",
       "3     67003dbddf91d3d20b5a83d2\n",
       "4     67003dbddf91d3d21b5a83d2\n",
       "5     67003dbddf91d3d20b5a83d2\n",
       "6     67003dbddf91d3d21b5a83d2\n",
       "7     67003dbddf91d3d20b5a83d2\n",
       "8     67003dbddf91d3d20b5a73d2\n",
       "9     67003dbddf91d3d21b5a83d2\n",
       "10    67003dbddf91d3d20b5a83d2\n",
       "11    67003dbddf91d3d20b5a73d2\n",
       "12    67003dbddf91d3d21b5a83d2\n",
       "13    67003dbddf91d3d20b5a83d2\n",
       "14    67003dbddf91d3d20b5a73d2\n",
       "15    67003dbddf91d3d21b5a83d2\n",
       "16    67003dbddf91d3d20b5a83d2\n",
       "17    67003dbddf91d3d20b5a73d2\n",
       "18    67003dbddf91d3d21b5a83d2\n",
       "19    67003dbddf91d3d20b5a83d2\n",
       "20    67003dbddf91d3d20b5a73d2\n",
       "21    67003dbddf91d3d21b5a83d2\n",
       "22    67003dbddf91d3d20b5a83d2\n",
       "23    67003dbddf91d3d20b5a73d2\n",
       "24    67003dbddf91d3d21b5a83d2\n",
       "25    67003dbddf91d3d20b5a83d2\n",
       "26    67003dbfdf91d3d20b5a73d2\n",
       "27    67003dbddf91d3d21b5a83d2\n",
       "28    67003dbddf91d3d20b5a83d2\n",
       "29    67003dbfdf91d3d20b5a73d2\n",
       "30    67003dbddf91d3d21b5a83d2\n",
       "31    67003dbddf91d3d20b5a83d2\n",
       "32    67003dbfdf91d3d20b5a73d4\n",
       "Name: content, dtype: object"
      ]
     },
     "execution_count": 88,
     "metadata": {},
     "output_type": "execute_result"
    }
   ],
   "execution_count": 88
  },
  {
   "metadata": {
    "ExecuteTime": {
     "end_time": "2025-03-12T08:53:42.657181Z",
     "start_time": "2025-03-12T08:53:42.644514Z"
    }
   },
   "cell_type": "code",
   "source": [
    "first_id = df_ids.iloc[0]\n",
    "type(first_id)"
   ],
   "id": "acd29a647b1d1fd2",
   "outputs": [
    {
     "data": {
      "text/plain": [
       "numpy.float64"
      ]
     },
     "execution_count": 57,
     "metadata": {},
     "output_type": "execute_result"
    }
   ],
   "execution_count": 57
  },
  {
   "metadata": {},
   "cell_type": "markdown",
   "source": "## DF FROM EXCEL FILE",
   "id": "481a64bcd5b0e4dd"
  },
  {
   "metadata": {
    "ExecuteTime": {
     "end_time": "2025-03-12T09:55:31.904587Z",
     "start_time": "2025-03-12T09:55:31.764472Z"
    }
   },
   "cell_type": "code",
   "source": [
    "import pandas as pd\n",
    "excel = \"data.xlsx\"\n",
    "df_two = pd.read_excel(excel)"
   ],
   "id": "d25f47d40f33e88b",
   "outputs": [],
   "execution_count": 104
  },
  {
   "metadata": {
    "ExecuteTime": {
     "end_time": "2025-03-12T09:55:34.796486Z",
     "start_time": "2025-03-12T09:55:34.737277Z"
    }
   },
   "cell_type": "code",
   "source": "df_two",
   "id": "71c1bb8ccc53411a",
   "outputs": [
    {
     "data": {
      "text/plain": [
       "                         _id  \\\n",
       "0   67d04103d89d0a6b6852d4a1   \n",
       "1   67d04106d89d0a6b6852d4a3   \n",
       "2   67d0454dd89d0a6b6852d4a7   \n",
       "3   67d04550d89d0a6b6852d4a9   \n",
       "4   67d045d7d89d0a6b6852d4ad   \n",
       "5   67d045dbd89d0a6b6852d4af   \n",
       "6   67d0467ed89d0a6b6852d4b3   \n",
       "7   67d04681d89d0a6b6852d4b5   \n",
       "8   67d04685d89d0a6b6852d4b7   \n",
       "9   67d04cc9d89d0a6b6852d4bb   \n",
       "10  67d04cccd89d0a6b6852d4bd   \n",
       "11  67d04cced89d0a6b6852d4bf   \n",
       "12  67d04dbed89d0a6b6852d4c3   \n",
       "13  67d04dc1d89d0a6b6852d4c5   \n",
       "14  67d04dc5d89d0a6b6852d4c7   \n",
       "15  67d04e1ad89d0a6b6852d4cb   \n",
       "16  67d04e1dd89d0a6b6852d4cd   \n",
       "17  67d04e20d89d0a6b6852d4cf   \n",
       "18  67d04e2bd89d0a6b6852d4d3   \n",
       "19  67d04e2ed89d0a6b6852d4d5   \n",
       "20  67d04e32d89d0a6b6852d4d7   \n",
       "21  67d05abbd89d0a6b6852d4dc   \n",
       "22  67d05abdd89d0a6b6852d4de   \n",
       "23  67d05b19d89d0a6b6852d4e0   \n",
       "24  67d06334d89d0a6b6852d4e4   \n",
       "25  67d06338d89d0a6b6852d4e6   \n",
       "26  67d0633bd89d0a6b6852d4e8   \n",
       "27                       NaN   \n",
       "\n",
       "                                              content   status  \\\n",
       "0   {'id': '67003dbddf91d3d21b5a83d2', 'users': 'K...  attente   \n",
       "1   {'id': '67003dbddf91d3d20b5a83d2', 'users': 'C...  attente   \n",
       "2   {'id': '67003dbddf91d3d21b5a83d2', 'users': 'K...  attente   \n",
       "3   {'id': '67003dbddf91d3d20b5a83d2', 'users': 'C...  attente   \n",
       "4   {'id': '67003dbddf91d3d21b5a83d2', 'users': 'K...  attente   \n",
       "5   {'id': '67003dbddf91d3d20b5a83d2', 'users': 'C...  attente   \n",
       "6   {'id': '67003dbddf91d3d21b5a83d2', 'users': 'K...  attente   \n",
       "7   {'id': '67003dbddf91d3d20b5a83d2', 'users': 'C...  attente   \n",
       "8   {'id': '67003dbddf91d3d20b5a73d2', 'users': 'D...  attente   \n",
       "9   {'id': '67003dbddf91d3d21b5a83d2', 'users': 'K...  attente   \n",
       "10  {'id': '67003dbddf91d3d20b5a83d2', 'users': 'C...  attente   \n",
       "11  {'id': '67003dbddf91d3d20b5a73d2', 'users': 'D...  attente   \n",
       "12  {'id': '67003dbddf91d3d21b5a83d2', 'users': 'K...  attente   \n",
       "13  {'id': '67003dbddf91d3d20b5a83d2', 'users': 'C...  attente   \n",
       "14  {'id': '67003dbddf91d3d20b5a73d2', 'users': 'D...  attente   \n",
       "15  {'id': '67003dbddf91d3d21b5a83d2', 'users': 'K...  attente   \n",
       "16  {'id': '67003dbddf91d3d20b5a83d2', 'users': 'C...  attente   \n",
       "17  {'id': '67003dbddf91d3d20b5a73d2', 'users': 'D...  attente   \n",
       "18  {'id': '67003dbddf91d3d21b5a83d2', 'users': 'K...  attente   \n",
       "19  {'id': '67003dbddf91d3d20b5a83d2', 'users': 'C...  attente   \n",
       "20  {'id': '67003dbddf91d3d20b5a73d2', 'users': 'D...  attente   \n",
       "21  {'id': '67003dbddf91d3d21b5a83d2', 'users': 'K...  attente   \n",
       "22  {'id': '67003dbddf91d3d20b5a83d2', 'users': 'C...  attente   \n",
       "23  {'id': '67003dbddf91d3d20b5a73d2', 'users': 'D...  attente   \n",
       "24  {'id': '67003dbddf91d3d21b5a83d2', 'users': 'K...  attente   \n",
       "25  {'id': '67003dbddf91d3d20b5a83d2', 'users': 'C...  attente   \n",
       "26  {'id': '67003dbfdf91d3d20b5a73d2', 'users': 'D...  attente   \n",
       "27  {'id': '67003dbfdf91d3d00b5a73d2', 'users': 'D...      NaN   \n",
       "\n",
       "                   createdAt                 updatedAt  __v  \n",
       "0   2025-03-11T13:56:19.730Z  2025-03-11T13:56:19.730Z  0.0  \n",
       "1   2025-03-11T13:56:22.717Z  2025-03-11T13:56:22.717Z  0.0  \n",
       "2   2025-03-11T14:14:37.293Z  2025-03-11T14:14:37.293Z  0.0  \n",
       "3   2025-03-11T14:14:40.552Z  2025-03-11T14:14:40.552Z  0.0  \n",
       "4   2025-03-11T14:16:55.913Z  2025-03-11T14:16:55.913Z  0.0  \n",
       "5   2025-03-11T14:16:59.255Z  2025-03-11T14:16:59.255Z  0.0  \n",
       "6   2025-03-11T14:19:42.792Z  2025-03-11T14:19:42.792Z  0.0  \n",
       "7   2025-03-11T14:19:45.813Z  2025-03-11T14:19:45.813Z  0.0  \n",
       "8   2025-03-11T14:19:49.898Z  2025-03-11T14:19:49.898Z  0.0  \n",
       "9   2025-03-11T14:46:33.238Z  2025-03-11T14:46:33.238Z  0.0  \n",
       "10  2025-03-11T14:46:36.133Z  2025-03-11T14:46:36.133Z  0.0  \n",
       "11  2025-03-11T14:46:38.933Z  2025-03-11T14:46:38.933Z  0.0  \n",
       "12  2025-03-11T14:50:38.130Z  2025-03-11T14:50:38.130Z  0.0  \n",
       "13  2025-03-11T14:50:41.871Z  2025-03-11T14:50:41.871Z  0.0  \n",
       "14  2025-03-11T14:50:45.389Z  2025-03-11T14:50:45.389Z  0.0  \n",
       "15  2025-03-11T14:52:10.213Z  2025-03-11T14:52:10.213Z  0.0  \n",
       "16  2025-03-11T14:52:13.524Z  2025-03-11T14:52:13.524Z  0.0  \n",
       "17  2025-03-11T14:52:16.932Z  2025-03-11T14:52:16.932Z  0.0  \n",
       "18  2025-03-11T14:52:27.371Z  2025-03-11T14:52:27.371Z  0.0  \n",
       "19  2025-03-11T14:52:30.474Z  2025-03-11T14:52:30.474Z  0.0  \n",
       "20  2025-03-11T14:52:34.743Z  2025-03-11T14:52:34.743Z  0.0  \n",
       "21  2025-03-11T15:46:03.399Z  2025-03-11T15:46:03.399Z  0.0  \n",
       "22  2025-03-11T15:46:05.733Z  2025-03-11T15:46:05.733Z  0.0  \n",
       "23  2025-03-11T15:47:37.306Z  2025-03-11T15:47:37.306Z  0.0  \n",
       "24  2025-03-11T16:22:12.669Z  2025-03-11T16:22:12.669Z  0.0  \n",
       "25  2025-03-11T16:22:16.566Z  2025-03-11T16:22:16.566Z  0.0  \n",
       "26  2025-03-11T16:22:19.750Z  2025-03-11T16:22:19.750Z  0.0  \n",
       "27                       NaN                       NaN  NaN  "
      ],
      "text/html": [
       "<div>\n",
       "<style scoped>\n",
       "    .dataframe tbody tr th:only-of-type {\n",
       "        vertical-align: middle;\n",
       "    }\n",
       "\n",
       "    .dataframe tbody tr th {\n",
       "        vertical-align: top;\n",
       "    }\n",
       "\n",
       "    .dataframe thead th {\n",
       "        text-align: right;\n",
       "    }\n",
       "</style>\n",
       "<table border=\"1\" class=\"dataframe\">\n",
       "  <thead>\n",
       "    <tr style=\"text-align: right;\">\n",
       "      <th></th>\n",
       "      <th>_id</th>\n",
       "      <th>content</th>\n",
       "      <th>status</th>\n",
       "      <th>createdAt</th>\n",
       "      <th>updatedAt</th>\n",
       "      <th>__v</th>\n",
       "    </tr>\n",
       "  </thead>\n",
       "  <tbody>\n",
       "    <tr>\n",
       "      <th>0</th>\n",
       "      <td>67d04103d89d0a6b6852d4a1</td>\n",
       "      <td>{'id': '67003dbddf91d3d21b5a83d2', 'users': 'K...</td>\n",
       "      <td>attente</td>\n",
       "      <td>2025-03-11T13:56:19.730Z</td>\n",
       "      <td>2025-03-11T13:56:19.730Z</td>\n",
       "      <td>0.0</td>\n",
       "    </tr>\n",
       "    <tr>\n",
       "      <th>1</th>\n",
       "      <td>67d04106d89d0a6b6852d4a3</td>\n",
       "      <td>{'id': '67003dbddf91d3d20b5a83d2', 'users': 'C...</td>\n",
       "      <td>attente</td>\n",
       "      <td>2025-03-11T13:56:22.717Z</td>\n",
       "      <td>2025-03-11T13:56:22.717Z</td>\n",
       "      <td>0.0</td>\n",
       "    </tr>\n",
       "    <tr>\n",
       "      <th>2</th>\n",
       "      <td>67d0454dd89d0a6b6852d4a7</td>\n",
       "      <td>{'id': '67003dbddf91d3d21b5a83d2', 'users': 'K...</td>\n",
       "      <td>attente</td>\n",
       "      <td>2025-03-11T14:14:37.293Z</td>\n",
       "      <td>2025-03-11T14:14:37.293Z</td>\n",
       "      <td>0.0</td>\n",
       "    </tr>\n",
       "    <tr>\n",
       "      <th>3</th>\n",
       "      <td>67d04550d89d0a6b6852d4a9</td>\n",
       "      <td>{'id': '67003dbddf91d3d20b5a83d2', 'users': 'C...</td>\n",
       "      <td>attente</td>\n",
       "      <td>2025-03-11T14:14:40.552Z</td>\n",
       "      <td>2025-03-11T14:14:40.552Z</td>\n",
       "      <td>0.0</td>\n",
       "    </tr>\n",
       "    <tr>\n",
       "      <th>4</th>\n",
       "      <td>67d045d7d89d0a6b6852d4ad</td>\n",
       "      <td>{'id': '67003dbddf91d3d21b5a83d2', 'users': 'K...</td>\n",
       "      <td>attente</td>\n",
       "      <td>2025-03-11T14:16:55.913Z</td>\n",
       "      <td>2025-03-11T14:16:55.913Z</td>\n",
       "      <td>0.0</td>\n",
       "    </tr>\n",
       "    <tr>\n",
       "      <th>5</th>\n",
       "      <td>67d045dbd89d0a6b6852d4af</td>\n",
       "      <td>{'id': '67003dbddf91d3d20b5a83d2', 'users': 'C...</td>\n",
       "      <td>attente</td>\n",
       "      <td>2025-03-11T14:16:59.255Z</td>\n",
       "      <td>2025-03-11T14:16:59.255Z</td>\n",
       "      <td>0.0</td>\n",
       "    </tr>\n",
       "    <tr>\n",
       "      <th>6</th>\n",
       "      <td>67d0467ed89d0a6b6852d4b3</td>\n",
       "      <td>{'id': '67003dbddf91d3d21b5a83d2', 'users': 'K...</td>\n",
       "      <td>attente</td>\n",
       "      <td>2025-03-11T14:19:42.792Z</td>\n",
       "      <td>2025-03-11T14:19:42.792Z</td>\n",
       "      <td>0.0</td>\n",
       "    </tr>\n",
       "    <tr>\n",
       "      <th>7</th>\n",
       "      <td>67d04681d89d0a6b6852d4b5</td>\n",
       "      <td>{'id': '67003dbddf91d3d20b5a83d2', 'users': 'C...</td>\n",
       "      <td>attente</td>\n",
       "      <td>2025-03-11T14:19:45.813Z</td>\n",
       "      <td>2025-03-11T14:19:45.813Z</td>\n",
       "      <td>0.0</td>\n",
       "    </tr>\n",
       "    <tr>\n",
       "      <th>8</th>\n",
       "      <td>67d04685d89d0a6b6852d4b7</td>\n",
       "      <td>{'id': '67003dbddf91d3d20b5a73d2', 'users': 'D...</td>\n",
       "      <td>attente</td>\n",
       "      <td>2025-03-11T14:19:49.898Z</td>\n",
       "      <td>2025-03-11T14:19:49.898Z</td>\n",
       "      <td>0.0</td>\n",
       "    </tr>\n",
       "    <tr>\n",
       "      <th>9</th>\n",
       "      <td>67d04cc9d89d0a6b6852d4bb</td>\n",
       "      <td>{'id': '67003dbddf91d3d21b5a83d2', 'users': 'K...</td>\n",
       "      <td>attente</td>\n",
       "      <td>2025-03-11T14:46:33.238Z</td>\n",
       "      <td>2025-03-11T14:46:33.238Z</td>\n",
       "      <td>0.0</td>\n",
       "    </tr>\n",
       "    <tr>\n",
       "      <th>10</th>\n",
       "      <td>67d04cccd89d0a6b6852d4bd</td>\n",
       "      <td>{'id': '67003dbddf91d3d20b5a83d2', 'users': 'C...</td>\n",
       "      <td>attente</td>\n",
       "      <td>2025-03-11T14:46:36.133Z</td>\n",
       "      <td>2025-03-11T14:46:36.133Z</td>\n",
       "      <td>0.0</td>\n",
       "    </tr>\n",
       "    <tr>\n",
       "      <th>11</th>\n",
       "      <td>67d04cced89d0a6b6852d4bf</td>\n",
       "      <td>{'id': '67003dbddf91d3d20b5a73d2', 'users': 'D...</td>\n",
       "      <td>attente</td>\n",
       "      <td>2025-03-11T14:46:38.933Z</td>\n",
       "      <td>2025-03-11T14:46:38.933Z</td>\n",
       "      <td>0.0</td>\n",
       "    </tr>\n",
       "    <tr>\n",
       "      <th>12</th>\n",
       "      <td>67d04dbed89d0a6b6852d4c3</td>\n",
       "      <td>{'id': '67003dbddf91d3d21b5a83d2', 'users': 'K...</td>\n",
       "      <td>attente</td>\n",
       "      <td>2025-03-11T14:50:38.130Z</td>\n",
       "      <td>2025-03-11T14:50:38.130Z</td>\n",
       "      <td>0.0</td>\n",
       "    </tr>\n",
       "    <tr>\n",
       "      <th>13</th>\n",
       "      <td>67d04dc1d89d0a6b6852d4c5</td>\n",
       "      <td>{'id': '67003dbddf91d3d20b5a83d2', 'users': 'C...</td>\n",
       "      <td>attente</td>\n",
       "      <td>2025-03-11T14:50:41.871Z</td>\n",
       "      <td>2025-03-11T14:50:41.871Z</td>\n",
       "      <td>0.0</td>\n",
       "    </tr>\n",
       "    <tr>\n",
       "      <th>14</th>\n",
       "      <td>67d04dc5d89d0a6b6852d4c7</td>\n",
       "      <td>{'id': '67003dbddf91d3d20b5a73d2', 'users': 'D...</td>\n",
       "      <td>attente</td>\n",
       "      <td>2025-03-11T14:50:45.389Z</td>\n",
       "      <td>2025-03-11T14:50:45.389Z</td>\n",
       "      <td>0.0</td>\n",
       "    </tr>\n",
       "    <tr>\n",
       "      <th>15</th>\n",
       "      <td>67d04e1ad89d0a6b6852d4cb</td>\n",
       "      <td>{'id': '67003dbddf91d3d21b5a83d2', 'users': 'K...</td>\n",
       "      <td>attente</td>\n",
       "      <td>2025-03-11T14:52:10.213Z</td>\n",
       "      <td>2025-03-11T14:52:10.213Z</td>\n",
       "      <td>0.0</td>\n",
       "    </tr>\n",
       "    <tr>\n",
       "      <th>16</th>\n",
       "      <td>67d04e1dd89d0a6b6852d4cd</td>\n",
       "      <td>{'id': '67003dbddf91d3d20b5a83d2', 'users': 'C...</td>\n",
       "      <td>attente</td>\n",
       "      <td>2025-03-11T14:52:13.524Z</td>\n",
       "      <td>2025-03-11T14:52:13.524Z</td>\n",
       "      <td>0.0</td>\n",
       "    </tr>\n",
       "    <tr>\n",
       "      <th>17</th>\n",
       "      <td>67d04e20d89d0a6b6852d4cf</td>\n",
       "      <td>{'id': '67003dbddf91d3d20b5a73d2', 'users': 'D...</td>\n",
       "      <td>attente</td>\n",
       "      <td>2025-03-11T14:52:16.932Z</td>\n",
       "      <td>2025-03-11T14:52:16.932Z</td>\n",
       "      <td>0.0</td>\n",
       "    </tr>\n",
       "    <tr>\n",
       "      <th>18</th>\n",
       "      <td>67d04e2bd89d0a6b6852d4d3</td>\n",
       "      <td>{'id': '67003dbddf91d3d21b5a83d2', 'users': 'K...</td>\n",
       "      <td>attente</td>\n",
       "      <td>2025-03-11T14:52:27.371Z</td>\n",
       "      <td>2025-03-11T14:52:27.371Z</td>\n",
       "      <td>0.0</td>\n",
       "    </tr>\n",
       "    <tr>\n",
       "      <th>19</th>\n",
       "      <td>67d04e2ed89d0a6b6852d4d5</td>\n",
       "      <td>{'id': '67003dbddf91d3d20b5a83d2', 'users': 'C...</td>\n",
       "      <td>attente</td>\n",
       "      <td>2025-03-11T14:52:30.474Z</td>\n",
       "      <td>2025-03-11T14:52:30.474Z</td>\n",
       "      <td>0.0</td>\n",
       "    </tr>\n",
       "    <tr>\n",
       "      <th>20</th>\n",
       "      <td>67d04e32d89d0a6b6852d4d7</td>\n",
       "      <td>{'id': '67003dbddf91d3d20b5a73d2', 'users': 'D...</td>\n",
       "      <td>attente</td>\n",
       "      <td>2025-03-11T14:52:34.743Z</td>\n",
       "      <td>2025-03-11T14:52:34.743Z</td>\n",
       "      <td>0.0</td>\n",
       "    </tr>\n",
       "    <tr>\n",
       "      <th>21</th>\n",
       "      <td>67d05abbd89d0a6b6852d4dc</td>\n",
       "      <td>{'id': '67003dbddf91d3d21b5a83d2', 'users': 'K...</td>\n",
       "      <td>attente</td>\n",
       "      <td>2025-03-11T15:46:03.399Z</td>\n",
       "      <td>2025-03-11T15:46:03.399Z</td>\n",
       "      <td>0.0</td>\n",
       "    </tr>\n",
       "    <tr>\n",
       "      <th>22</th>\n",
       "      <td>67d05abdd89d0a6b6852d4de</td>\n",
       "      <td>{'id': '67003dbddf91d3d20b5a83d2', 'users': 'C...</td>\n",
       "      <td>attente</td>\n",
       "      <td>2025-03-11T15:46:05.733Z</td>\n",
       "      <td>2025-03-11T15:46:05.733Z</td>\n",
       "      <td>0.0</td>\n",
       "    </tr>\n",
       "    <tr>\n",
       "      <th>23</th>\n",
       "      <td>67d05b19d89d0a6b6852d4e0</td>\n",
       "      <td>{'id': '67003dbddf91d3d20b5a73d2', 'users': 'D...</td>\n",
       "      <td>attente</td>\n",
       "      <td>2025-03-11T15:47:37.306Z</td>\n",
       "      <td>2025-03-11T15:47:37.306Z</td>\n",
       "      <td>0.0</td>\n",
       "    </tr>\n",
       "    <tr>\n",
       "      <th>24</th>\n",
       "      <td>67d06334d89d0a6b6852d4e4</td>\n",
       "      <td>{'id': '67003dbddf91d3d21b5a83d2', 'users': 'K...</td>\n",
       "      <td>attente</td>\n",
       "      <td>2025-03-11T16:22:12.669Z</td>\n",
       "      <td>2025-03-11T16:22:12.669Z</td>\n",
       "      <td>0.0</td>\n",
       "    </tr>\n",
       "    <tr>\n",
       "      <th>25</th>\n",
       "      <td>67d06338d89d0a6b6852d4e6</td>\n",
       "      <td>{'id': '67003dbddf91d3d20b5a83d2', 'users': 'C...</td>\n",
       "      <td>attente</td>\n",
       "      <td>2025-03-11T16:22:16.566Z</td>\n",
       "      <td>2025-03-11T16:22:16.566Z</td>\n",
       "      <td>0.0</td>\n",
       "    </tr>\n",
       "    <tr>\n",
       "      <th>26</th>\n",
       "      <td>67d0633bd89d0a6b6852d4e8</td>\n",
       "      <td>{'id': '67003dbfdf91d3d20b5a73d2', 'users': 'D...</td>\n",
       "      <td>attente</td>\n",
       "      <td>2025-03-11T16:22:19.750Z</td>\n",
       "      <td>2025-03-11T16:22:19.750Z</td>\n",
       "      <td>0.0</td>\n",
       "    </tr>\n",
       "    <tr>\n",
       "      <th>27</th>\n",
       "      <td>NaN</td>\n",
       "      <td>{'id': '67003dbfdf91d3d00b5a73d2', 'users': 'D...</td>\n",
       "      <td>NaN</td>\n",
       "      <td>NaN</td>\n",
       "      <td>NaN</td>\n",
       "      <td>NaN</td>\n",
       "    </tr>\n",
       "  </tbody>\n",
       "</table>\n",
       "</div>"
      ]
     },
     "execution_count": 105,
     "metadata": {},
     "output_type": "execute_result"
    }
   ],
   "execution_count": 105
  },
  {
   "metadata": {
    "ExecuteTime": {
     "end_time": "2025-03-12T09:55:49.377912Z",
     "start_time": "2025-03-12T09:55:49.359214Z"
    }
   },
   "cell_type": "code",
   "source": [
    "content_two = df_two[\"content\"]\n",
    "content_two"
   ],
   "id": "73662c1323cff2ac",
   "outputs": [
    {
     "data": {
      "text/plain": [
       "0     {'id': '67003dbddf91d3d21b5a83d2', 'users': 'K...\n",
       "1     {'id': '67003dbddf91d3d20b5a83d2', 'users': 'C...\n",
       "2     {'id': '67003dbddf91d3d21b5a83d2', 'users': 'K...\n",
       "3     {'id': '67003dbddf91d3d20b5a83d2', 'users': 'C...\n",
       "4     {'id': '67003dbddf91d3d21b5a83d2', 'users': 'K...\n",
       "5     {'id': '67003dbddf91d3d20b5a83d2', 'users': 'C...\n",
       "6     {'id': '67003dbddf91d3d21b5a83d2', 'users': 'K...\n",
       "7     {'id': '67003dbddf91d3d20b5a83d2', 'users': 'C...\n",
       "8     {'id': '67003dbddf91d3d20b5a73d2', 'users': 'D...\n",
       "9     {'id': '67003dbddf91d3d21b5a83d2', 'users': 'K...\n",
       "10    {'id': '67003dbddf91d3d20b5a83d2', 'users': 'C...\n",
       "11    {'id': '67003dbddf91d3d20b5a73d2', 'users': 'D...\n",
       "12    {'id': '67003dbddf91d3d21b5a83d2', 'users': 'K...\n",
       "13    {'id': '67003dbddf91d3d20b5a83d2', 'users': 'C...\n",
       "14    {'id': '67003dbddf91d3d20b5a73d2', 'users': 'D...\n",
       "15    {'id': '67003dbddf91d3d21b5a83d2', 'users': 'K...\n",
       "16    {'id': '67003dbddf91d3d20b5a83d2', 'users': 'C...\n",
       "17    {'id': '67003dbddf91d3d20b5a73d2', 'users': 'D...\n",
       "18    {'id': '67003dbddf91d3d21b5a83d2', 'users': 'K...\n",
       "19    {'id': '67003dbddf91d3d20b5a83d2', 'users': 'C...\n",
       "20    {'id': '67003dbddf91d3d20b5a73d2', 'users': 'D...\n",
       "21    {'id': '67003dbddf91d3d21b5a83d2', 'users': 'K...\n",
       "22    {'id': '67003dbddf91d3d20b5a83d2', 'users': 'C...\n",
       "23    {'id': '67003dbddf91d3d20b5a73d2', 'users': 'D...\n",
       "24    {'id': '67003dbddf91d3d21b5a83d2', 'users': 'K...\n",
       "25    {'id': '67003dbddf91d3d20b5a83d2', 'users': 'C...\n",
       "26    {'id': '67003dbfdf91d3d20b5a73d2', 'users': 'D...\n",
       "27    {'id': '67003dbfdf91d3d00b5a73d2', 'users': 'D...\n",
       "Name: content, dtype: object"
      ]
     },
     "execution_count": 106,
     "metadata": {},
     "output_type": "execute_result"
    }
   ],
   "execution_count": 106
  },
  {
   "metadata": {
    "ExecuteTime": {
     "end_time": "2025-03-12T09:55:54.296617Z",
     "start_time": "2025-03-12T09:55:54.278820Z"
    }
   },
   "cell_type": "code",
   "source": [
    "# Fonction pour nettoyer les données JSON encodées plusieurs fois\n",
    "def nettoyer_json_doublement_encode(x):\n",
    "    try:\n",
    "        if isinstance(x, dict):  # Si c'est déjà un dictionnaire, ne rien changer\n",
    "            return x\n",
    "        \n",
    "        while isinstance(x, str):  \n",
    "            x = x.replace(\"'\", '\"')  # Remplace les apostrophes par des guillemets\n",
    "            x = json.loads(x)  # Décoder le JSON\n",
    "        return x\n",
    "    except json.JSONDecodeError:\n",
    "        return x  # Retourne la valeur initiale si échec au lieu de None\n",
    "\n",
    "# Appliquer la correction sur toute la colonne\n",
    "new_df_two = df_two[\"content\"].apply(nettoyer_json_doublement_encode)\n",
    "\n",
    "# Vérifier le résultat\n",
    "print(new_df_two.iloc[0])  # Doit afficher un vrai dictionnaire"
   ],
   "id": "3e9e7cfe592b0599",
   "outputs": [
    {
     "name": "stdout",
     "output_type": "stream",
     "text": [
      "{'id': '67003dbddf91d3d21b5a83d2', 'users': 'Kardel', 'typeKapi': 'kapi aide', 'montant': '5.000', 'delais': '7', 'creationKapi': '20 déc. 2024'}\n"
     ]
    }
   ],
   "execution_count": 107
  },
  {
   "metadata": {
    "ExecuteTime": {
     "end_time": "2025-03-12T09:55:57.469108Z",
     "start_time": "2025-03-12T09:55:57.453171Z"
    }
   },
   "cell_type": "code",
   "source": [
    "# Appliquer la conversion sur toute la colonne\n",
    "new_df_two = new_df_two.apply(lambda x: json.loads(x.replace(\"'\", '\"')) if isinstance(x, str) else x)\n",
    "\n",
    "# Vérifier si tout est bien converti en dictionnaires\n",
    "print(new_df_two.iloc[0])  # Devrait afficher un vrai dictionnaire"
   ],
   "id": "ce6864ef738e8d4f",
   "outputs": [
    {
     "name": "stdout",
     "output_type": "stream",
     "text": [
      "{'id': '67003dbddf91d3d21b5a83d2', 'users': 'Kardel', 'typeKapi': 'kapi aide', 'montant': '5.000', 'delais': '7', 'creationKapi': '20 déc. 2024'}\n"
     ]
    }
   ],
   "execution_count": 108
  },
  {
   "metadata": {
    "ExecuteTime": {
     "end_time": "2025-03-12T09:56:01.783084Z",
     "start_time": "2025-03-12T09:56:01.753500Z"
    }
   },
   "cell_type": "code",
   "source": "new_df_two",
   "id": "c5557e69acd6de22",
   "outputs": [
    {
     "data": {
      "text/plain": [
       "0     {'id': '67003dbddf91d3d21b5a83d2', 'users': 'K...\n",
       "1     {'id': '67003dbddf91d3d20b5a83d2', 'users': 'C...\n",
       "2     {'id': '67003dbddf91d3d21b5a83d2', 'users': 'K...\n",
       "3     {'id': '67003dbddf91d3d20b5a83d2', 'users': 'C...\n",
       "4     {'id': '67003dbddf91d3d21b5a83d2', 'users': 'K...\n",
       "5     {'id': '67003dbddf91d3d20b5a83d2', 'users': 'C...\n",
       "6     {'id': '67003dbddf91d3d21b5a83d2', 'users': 'K...\n",
       "7     {'id': '67003dbddf91d3d20b5a83d2', 'users': 'C...\n",
       "8     {'id': '67003dbddf91d3d20b5a73d2', 'users': 'D...\n",
       "9     {'id': '67003dbddf91d3d21b5a83d2', 'users': 'K...\n",
       "10    {'id': '67003dbddf91d3d20b5a83d2', 'users': 'C...\n",
       "11    {'id': '67003dbddf91d3d20b5a73d2', 'users': 'D...\n",
       "12    {'id': '67003dbddf91d3d21b5a83d2', 'users': 'K...\n",
       "13    {'id': '67003dbddf91d3d20b5a83d2', 'users': 'C...\n",
       "14    {'id': '67003dbddf91d3d20b5a73d2', 'users': 'D...\n",
       "15    {'id': '67003dbddf91d3d21b5a83d2', 'users': 'K...\n",
       "16    {'id': '67003dbddf91d3d20b5a83d2', 'users': 'C...\n",
       "17    {'id': '67003dbddf91d3d20b5a73d2', 'users': 'D...\n",
       "18    {'id': '67003dbddf91d3d21b5a83d2', 'users': 'K...\n",
       "19    {'id': '67003dbddf91d3d20b5a83d2', 'users': 'C...\n",
       "20    {'id': '67003dbddf91d3d20b5a73d2', 'users': 'D...\n",
       "21    {'id': '67003dbddf91d3d21b5a83d2', 'users': 'K...\n",
       "22    {'id': '67003dbddf91d3d20b5a83d2', 'users': 'C...\n",
       "23    {'id': '67003dbddf91d3d20b5a73d2', 'users': 'D...\n",
       "24    {'id': '67003dbddf91d3d21b5a83d2', 'users': 'K...\n",
       "25    {'id': '67003dbddf91d3d20b5a83d2', 'users': 'C...\n",
       "26    {'id': '67003dbfdf91d3d20b5a73d2', 'users': 'D...\n",
       "27    {'id': '67003dbfdf91d3d00b5a73d2', 'users': 'D...\n",
       "Name: content, dtype: object"
      ]
     },
     "execution_count": 109,
     "metadata": {},
     "output_type": "execute_result"
    }
   ],
   "execution_count": 109
  },
  {
   "metadata": {
    "ExecuteTime": {
     "end_time": "2025-03-12T09:25:19.009722Z",
     "start_time": "2025-03-12T09:25:18.893375Z"
    }
   },
   "cell_type": "code",
   "source": [
    "# Supposons que \"id\" est une colonne contenant des nombres sous forme de strings\n",
    "# df_ids_two = pd.to_numeric(new_df_two[\"id\"], errors='coerce')"
   ],
   "id": "d076b386f2515753",
   "outputs": [
    {
     "ename": "KeyError",
     "evalue": "'id'",
     "output_type": "error",
     "traceback": [
      "\u001B[1;31m---------------------------------------------------------------------------\u001B[0m",
      "\u001B[1;31mKeyError\u001B[0m                                  Traceback (most recent call last)",
      "Cell \u001B[1;32mIn[89], line 2\u001B[0m\n\u001B[0;32m      1\u001B[0m \u001B[38;5;66;03m# Supposons que \"id\" est une colonne contenant des nombres sous forme de strings\u001B[39;00m\n\u001B[1;32m----> 2\u001B[0m df_ids_two \u001B[38;5;241m=\u001B[39m pd\u001B[38;5;241m.\u001B[39mto_numeric(new_df_two[\u001B[38;5;124m\"\u001B[39m\u001B[38;5;124mid\u001B[39m\u001B[38;5;124m\"\u001B[39m], errors\u001B[38;5;241m=\u001B[39m\u001B[38;5;124m'\u001B[39m\u001B[38;5;124mcoerce\u001B[39m\u001B[38;5;124m'\u001B[39m)\n\u001B[0;32m      3\u001B[0m df_ids_two\n",
      "File \u001B[1;32m~\\miniconda3\\Lib\\site-packages\\pandas\\core\\series.py:1121\u001B[0m, in \u001B[0;36mSeries.__getitem__\u001B[1;34m(self, key)\u001B[0m\n\u001B[0;32m   1118\u001B[0m     \u001B[38;5;28;01mreturn\u001B[39;00m \u001B[38;5;28mself\u001B[39m\u001B[38;5;241m.\u001B[39m_values[key]\n\u001B[0;32m   1120\u001B[0m \u001B[38;5;28;01melif\u001B[39;00m key_is_scalar:\n\u001B[1;32m-> 1121\u001B[0m     \u001B[38;5;28;01mreturn\u001B[39;00m \u001B[38;5;28mself\u001B[39m\u001B[38;5;241m.\u001B[39m_get_value(key)\n\u001B[0;32m   1123\u001B[0m \u001B[38;5;66;03m# Convert generator to list before going through hashable part\u001B[39;00m\n\u001B[0;32m   1124\u001B[0m \u001B[38;5;66;03m# (We will iterate through the generator there to check for slices)\u001B[39;00m\n\u001B[0;32m   1125\u001B[0m \u001B[38;5;28;01mif\u001B[39;00m is_iterator(key):\n",
      "File \u001B[1;32m~\\miniconda3\\Lib\\site-packages\\pandas\\core\\series.py:1237\u001B[0m, in \u001B[0;36mSeries._get_value\u001B[1;34m(self, label, takeable)\u001B[0m\n\u001B[0;32m   1234\u001B[0m     \u001B[38;5;28;01mreturn\u001B[39;00m \u001B[38;5;28mself\u001B[39m\u001B[38;5;241m.\u001B[39m_values[label]\n\u001B[0;32m   1236\u001B[0m \u001B[38;5;66;03m# Similar to Index.get_value, but we do not fall back to positional\u001B[39;00m\n\u001B[1;32m-> 1237\u001B[0m loc \u001B[38;5;241m=\u001B[39m \u001B[38;5;28mself\u001B[39m\u001B[38;5;241m.\u001B[39mindex\u001B[38;5;241m.\u001B[39mget_loc(label)\n\u001B[0;32m   1239\u001B[0m \u001B[38;5;28;01mif\u001B[39;00m is_integer(loc):\n\u001B[0;32m   1240\u001B[0m     \u001B[38;5;28;01mreturn\u001B[39;00m \u001B[38;5;28mself\u001B[39m\u001B[38;5;241m.\u001B[39m_values[loc]\n",
      "File \u001B[1;32m~\\miniconda3\\Lib\\site-packages\\pandas\\core\\indexes\\range.py:417\u001B[0m, in \u001B[0;36mRangeIndex.get_loc\u001B[1;34m(self, key)\u001B[0m\n\u001B[0;32m    415\u001B[0m         \u001B[38;5;28;01mraise\u001B[39;00m \u001B[38;5;167;01mKeyError\u001B[39;00m(key) \u001B[38;5;28;01mfrom\u001B[39;00m \u001B[38;5;21;01merr\u001B[39;00m\n\u001B[0;32m    416\u001B[0m \u001B[38;5;28;01mif\u001B[39;00m \u001B[38;5;28misinstance\u001B[39m(key, Hashable):\n\u001B[1;32m--> 417\u001B[0m     \u001B[38;5;28;01mraise\u001B[39;00m \u001B[38;5;167;01mKeyError\u001B[39;00m(key)\n\u001B[0;32m    418\u001B[0m \u001B[38;5;28mself\u001B[39m\u001B[38;5;241m.\u001B[39m_check_indexing_error(key)\n\u001B[0;32m    419\u001B[0m \u001B[38;5;28;01mraise\u001B[39;00m \u001B[38;5;167;01mKeyError\u001B[39;00m(key)\n",
      "\u001B[1;31mKeyError\u001B[0m: 'id'"
     ]
    }
   ],
   "execution_count": 89
  },
  {
   "metadata": {
    "ExecuteTime": {
     "end_time": "2025-03-12T09:56:11.521272Z",
     "start_time": "2025-03-12T09:56:11.506903Z"
    }
   },
   "cell_type": "code",
   "source": [
    "df_ids_two = new_df_two.apply(lambda x: x[\"id\"])\n",
    "# df_ids_two = pd.to_numeric(new_df_two, errors='coerce')\n",
    "type(df_ids_two)"
   ],
   "id": "62352dc792b5856d",
   "outputs": [
    {
     "data": {
      "text/plain": [
       "pandas.core.series.Series"
      ]
     },
     "execution_count": 110,
     "metadata": {},
     "output_type": "execute_result"
    }
   ],
   "execution_count": 110
  },
  {
   "metadata": {
    "ExecuteTime": {
     "end_time": "2025-03-12T09:56:15.290262Z",
     "start_time": "2025-03-12T09:56:15.274738Z"
    }
   },
   "cell_type": "code",
   "source": "df_ids_two",
   "id": "52ff2512dc3a7302",
   "outputs": [
    {
     "data": {
      "text/plain": [
       "0     67003dbddf91d3d21b5a83d2\n",
       "1     67003dbddf91d3d20b5a83d2\n",
       "2     67003dbddf91d3d21b5a83d2\n",
       "3     67003dbddf91d3d20b5a83d2\n",
       "4     67003dbddf91d3d21b5a83d2\n",
       "5     67003dbddf91d3d20b5a83d2\n",
       "6     67003dbddf91d3d21b5a83d2\n",
       "7     67003dbddf91d3d20b5a83d2\n",
       "8     67003dbddf91d3d20b5a73d2\n",
       "9     67003dbddf91d3d21b5a83d2\n",
       "10    67003dbddf91d3d20b5a83d2\n",
       "11    67003dbddf91d3d20b5a73d2\n",
       "12    67003dbddf91d3d21b5a83d2\n",
       "13    67003dbddf91d3d20b5a83d2\n",
       "14    67003dbddf91d3d20b5a73d2\n",
       "15    67003dbddf91d3d21b5a83d2\n",
       "16    67003dbddf91d3d20b5a83d2\n",
       "17    67003dbddf91d3d20b5a73d2\n",
       "18    67003dbddf91d3d21b5a83d2\n",
       "19    67003dbddf91d3d20b5a83d2\n",
       "20    67003dbddf91d3d20b5a73d2\n",
       "21    67003dbddf91d3d21b5a83d2\n",
       "22    67003dbddf91d3d20b5a83d2\n",
       "23    67003dbddf91d3d20b5a73d2\n",
       "24    67003dbddf91d3d21b5a83d2\n",
       "25    67003dbddf91d3d20b5a83d2\n",
       "26    67003dbfdf91d3d20b5a73d2\n",
       "27    67003dbfdf91d3d00b5a73d2\n",
       "Name: content, dtype: object"
      ]
     },
     "execution_count": 111,
     "metadata": {},
     "output_type": "execute_result"
    }
   ],
   "execution_count": 111
  },
  {
   "metadata": {},
   "cell_type": "markdown",
   "source": "# FONCTION VERIFICATION DE VALEURS DANS LES DF",
   "id": "2e9632eb6e103f9e"
  },
  {
   "metadata": {
    "ExecuteTime": {
     "end_time": "2025-03-12T10:33:42.322400Z",
     "start_time": "2025-03-12T10:33:42.304366Z"
    }
   },
   "cell_type": "code",
   "source": [
    "# Trouver les valeurs présentes dans df1 mais absentes de df2\n",
    "diff_df1 = df_ids_two[~df_ids_two.isin(df_ids)]\n",
    "\n",
    "# Vérifier si les DataFrames sont identiques\n",
    "if diff_df1.empty:\n",
    "    print(\"✅ Les données sont les mêmes dans les deux DataFrames !\")\n",
    "else:\n",
    "    print(\"❌ Les données sont différentes !\")\n",
    "    print(\"\\n🔹 Valeurs dans df1 mais absentes de df2 :\")\n",
    "    print(diff_df1)\n"
   ],
   "id": "1fc243b56afa5748",
   "outputs": [
    {
     "name": "stdout",
     "output_type": "stream",
     "text": [
      "❌ Les données sont différentes !\n",
      "\n",
      "🔹 Valeurs dans df1 mais absentes de df2 :\n",
      "27    67003dbfdf91d3d00b5a73d2\n",
      "Name: content, dtype: object\n"
     ]
    }
   ],
   "execution_count": 124
  },
  {
   "metadata": {
    "ExecuteTime": {
     "end_time": "2025-03-12T09:56:50.031929Z",
     "start_time": "2025-03-12T09:56:50.008333Z"
    }
   },
   "cell_type": "code",
   "source": "diff_df1",
   "id": "88bbdad7b2cb00b9",
   "outputs": [
    {
     "data": {
      "text/plain": [
       "27    67003dbfdf91d3d00b5a73d2\n",
       "Name: content, dtype: object"
      ]
     },
     "execution_count": 113,
     "metadata": {},
     "output_type": "execute_result"
    }
   ],
   "execution_count": 113
  },
  {
   "metadata": {
    "ExecuteTime": {
     "end_time": "2025-03-12T10:33:36.967448Z",
     "start_time": "2025-03-12T10:33:36.959797Z"
    }
   },
   "cell_type": "code",
   "source": "",
   "id": "172bb505a2f790b2",
   "outputs": [],
   "execution_count": null
  },
  {
   "metadata": {
    "ExecuteTime": {
     "end_time": "2025-03-12T10:33:33.173176Z",
     "start_time": "2025-03-12T10:33:33.152176Z"
    }
   },
   "cell_type": "code",
   "source": "",
   "id": "c064fef54b6f1a0",
   "outputs": [],
   "execution_count": null
  }
 ],
 "metadata": {
  "kernelspec": {
   "display_name": "Python 3",
   "language": "python",
   "name": "python3"
  },
  "language_info": {
   "codemirror_mode": {
    "name": "ipython",
    "version": 2
   },
   "file_extension": ".py",
   "mimetype": "text/x-python",
   "name": "python",
   "nbconvert_exporter": "python",
   "pygments_lexer": "ipython2",
   "version": "2.7.6"
  }
 },
 "nbformat": 4,
 "nbformat_minor": 5
}
