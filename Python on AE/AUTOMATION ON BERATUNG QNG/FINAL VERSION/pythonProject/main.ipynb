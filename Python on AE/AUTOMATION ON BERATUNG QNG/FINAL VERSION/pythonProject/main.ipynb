{
 "cells": [
  {
   "cell_type": "code",
   "id": "initial_id",
   "metadata": {
    "collapsed": true,
    "ExecuteTime": {
     "end_time": "2025-03-14T09:20:25.565653Z",
     "start_time": "2025-03-14T09:20:25.510982Z"
    }
   },
   "source": [
    "import os\n",
    "import time\n",
    "import logging\n",
    "from watchdog.observers import Observer\n",
    "from watchdog.events import FileSystemEventHandler\n"
   ],
   "outputs": [],
   "execution_count": 13
  },
  {
   "metadata": {
    "ExecuteTime": {
     "end_time": "2025-03-14T09:20:27.817080Z",
     "start_time": "2025-03-14T09:20:27.787833Z"
    }
   },
   "cell_type": "code",
   "source": [
    "# Configuration du logger pour écrire dans un fichier log.txt\n",
    "log_file = \"log.txt\"\n",
    "logging.basicConfig(\n",
    "    filename=log_file,  # Enregistre les logs dans ce fichier\n",
    "    level=logging.INFO,  # Niveau de logging\n",
    "    format=\"%(asctime)s - %(levelname)s - %(message)s\",\n",
    "    filemode=\"a\"  # Mode \"append\" pour conserver les anciens logs\n",
    ")"
   ],
   "id": "79da38da08142e38",
   "outputs": [],
   "execution_count": 14
  },
  {
   "metadata": {
    "ExecuteTime": {
     "end_time": "2025-03-14T09:33:30.598572Z",
     "start_time": "2025-03-14T09:32:21.639857Z"
    }
   },
   "cell_type": "code",
   "source": [
    "from pythonProject.get_from_file import read_excel\n",
    "from pythonProject.get_from_api import fetch_data\n",
    "import json\n",
    "from actions import comparer_json\n",
    "from actions import send_json_data\n",
    "\n",
    "excel_file = \"data.xlsx\"\n",
    "sheet_name = \"Sheet1\"\n",
    "api_url = \"https://essential-orelie-devpro13-5241d920.koyeb.app/kapi\" \n",
    "class ExcelFileHandler(FileSystemEventHandler):\n",
    "    \"\"\"Classe pour gérer les événements de modification du fichier Excel.\"\"\"\n",
    "\n",
    "    def on_modified(self, event):\n",
    "        if event.src_path == os.path.abspath(excel_file):\n",
    "            logging.info(f\"Le fichier {excel_file} a été modifié, traitement en cours...\")\n",
    "\n",
    "            try:\n",
    "                # Récupération des données depuis l'API\n",
    "                api_data = fetch_data(api_url)  # Assurez-vous que cette fonction existe\n",
    "                with open(\"content_data.json\", \"w\") as api_file:\n",
    "                    json.dump(api_data, api_file)\n",
    "\n",
    "                # Récupération des données depuis le fichier Excel\n",
    "                excel_data = read_excel(excel_file, sheet_name)  # Assurez-vous que cette fonction existe\n",
    "                with open(\"excel_content_data.json\", \"w\") as excel_file_data:\n",
    "                    json.dump(excel_data, excel_file_data)\n",
    "\n",
    "                # Comparaison des données\n",
    "                comparer_json(\"content_data.json\", \"excel_content_data.json\", \"pending_data.json\")\n",
    "\n",
    "                # Vérification si des données doivent être envoyées\n",
    "                with open(\"pending_data.json\") as f:\n",
    "                    pending_data = json.load(f)\n",
    "                    if pending_data:\n",
    "                        logging.info(\"Nouvelles données détectées, envoi en cours...\")\n",
    "                        api_endpoint = \"https://essential-orelie-devpro13-5241d920.koyeb.app/kapi/ask-kapi\"\n",
    "                        send_json_data(api_endpoint, \"pending_data.json\")\n",
    "                    else:\n",
    "                        logging.info(\"Aucune nouvelle donnée à envoyer.\")\n",
    "\n",
    "            except Exception as e:\n",
    "                logging.error(f\"Erreur lors du traitement du fichier : {e}\")\n",
    "\n",
    "# Initialisation de l'observateur de fichiers\n",
    "event_handler = ExcelFileHandler()\n",
    "observer = Observer()\n",
    "observer.schedule(event_handler, path=os.path.dirname(os.path.abspath(excel_file)), recursive=False)\n",
    "\n",
    "logging.info(f\"Surveillance du fichier {excel_file} en cours...\")\n",
    "observer.start()\n",
    "\n",
    "try:\n",
    "    while True:\n",
    "        time.sleep(1)  # Garde le programme actif\n",
    "except KeyboardInterrupt:\n",
    "    logging.info(\"Arrêt du programme...\")\n",
    "    observer.stop()\n",
    "    observer.join()"
   ],
   "id": "d9df4da1b3bb163b",
   "outputs": [
    {
     "name": "stdout",
     "output_type": "stream",
     "text": [
      "❌ Erreur : Fichier non trouvé [Errno 2] No such file or directory: 'api_data.json'\n",
      "❌ Erreur lors de l'envoi des données : [Errno 2] No such file or directory: 'pending_data.json'\n",
      "❌ Erreur : Fichier non trouvé [Errno 2] No such file or directory: 'api_data.json'\n",
      "❌ Erreur lors de l'envoi des données : [Errno 2] No such file or directory: 'pending_data.json'\n",
      "✅ 1 éléments enregistrés dans pending_data.json\n",
      "✅ Données envoyées avec succès : {'content': {'id': '67003dbddf91d3d20b5b88d2', 'users': 'Mr Ali', 'typeKapi': 'kapi aide', 'montant': 40, 'delais': 10, 'creationKapi': '20 déc. 2024'}, 'status': 'attente', '_id': '67d3f7c7d91209cdef8ae55f', 'createdAt': '2025-03-14T09:32:55.081Z', 'updatedAt': '2025-03-14T09:32:55.081Z', '__v': 0}\n",
      "✅ Aucun nouvel élément trouvé. Aucune action requise.\n",
      "✅ Données envoyées avec succès : {'content': {'id': '67003dbddf91d3d20b5b88d2', 'users': 'Mr Ali', 'typeKapi': 'kapi aide', 'montant': 40, 'delais': 10, 'creationKapi': '20 déc. 2024'}, 'status': 'attente', '_id': '67d3f7cdd91209cdef8ae562', 'createdAt': '2025-03-14T09:33:01.021Z', 'updatedAt': '2025-03-14T09:33:01.021Z', '__v': 0}\n"
     ]
    }
   ],
   "execution_count": 19
  }
 ],
 "metadata": {
  "kernelspec": {
   "display_name": "Python 3",
   "language": "python",
   "name": "python3"
  },
  "language_info": {
   "codemirror_mode": {
    "name": "ipython",
    "version": 2
   },
   "file_extension": ".py",
   "mimetype": "text/x-python",
   "name": "python",
   "nbconvert_exporter": "python",
   "pygments_lexer": "ipython2",
   "version": "2.7.6"
  }
 },
 "nbformat": 4,
 "nbformat_minor": 5
}
