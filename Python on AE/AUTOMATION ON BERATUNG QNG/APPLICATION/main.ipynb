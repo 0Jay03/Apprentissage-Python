{
 "cells": [
  {
   "cell_type": "code",
   "id": "initial_id",
   "metadata": {
    "collapsed": true,
    "ExecuteTime": {
     "end_time": "2025-03-12T12:03:08.910169Z",
     "start_time": "2025-03-12T12:03:08.887669Z"
    }
   },
   "source": [
    "# main.ipynb\n",
    "import os\n",
    "import time\n",
    "import logging\n",
    "from watchdog.observers import Observer\n",
    "from watchdog.events import FileSystemEventHandler\n",
    "from data_processor import get_existing_ids\n",
    "from data_processor import extract_and_save_data\n",
    "from api_client import send_data_to_api"
   ],
   "outputs": [],
   "execution_count": 2
  },
  {
   "metadata": {
    "ExecuteTime": {
     "end_time": "2025-03-12T12:03:12.339887Z",
     "start_time": "2025-03-12T12:03:12.324094Z"
    }
   },
   "cell_type": "code",
   "source": [
    "# Configuration du logger pour écrire dans un fichier log.txt\n",
    "log_file = \"log.txt\"\n",
    "logging.basicConfig(\n",
    "    filename=log_file,  # Enregistre les logs dans ce fichier\n",
    "    level=logging.INFO,  # Niveau de logging\n",
    "    format=\"%(asctime)s - %(levelname)s - %(message)s\",\n",
    "    filemode=\"a\"  # Mode \"append\" pour conserver les anciens logs\n",
    ")"
   ],
   "id": "ea564c4c91c8c525",
   "outputs": [],
   "execution_count": 3
  },
  {
   "metadata": {
    "ExecuteTime": {
     "end_time": "2025-03-12T12:47:03.874887Z",
     "start_time": "2025-03-12T12:47:03.285441Z"
    }
   },
   "cell_type": "code",
   "source": [
    "# Paramètres\n",
    "excel_file = \"data.xlsx\"\n",
    "sheet_name = \"Sheet1\"\n",
    "\n",
    "class ExcelFileHandler(FileSystemEventHandler):\n",
    "    \"\"\" Classe pour gérer les événements de modification du fichier Excel \"\"\"\n",
    "\n",
    "    def on_modified(self, event):\n",
    "        if event.src_path == os.path.abspath(excel_file):\n",
    "            logging.info(f\"Le fichier {excel_file} a été modifié, traitement en cours...\")\n",
    "\n",
    "            # Récupérer les ID existants via l'API\n",
    "            existing_ids = get_existing_ids()\n",
    "\n",
    "            # Extraire et filtrer les nouvelles données\n",
    "            extract_and_save_data(excel_file, sheet_name, existing_ids)\n",
    "\n",
    "            # Envoyer les données à l'API\n",
    "            send_data_to_api()\n",
    "\n",
    "# Démarrer l'observation du fichier\n",
    "event_handler = ExcelFileHandler()\n",
    "observer = Observer()\n",
    "observer.schedule(event_handler, path=os.path.dirname(os.path.abspath(excel_file)), recursive=False)\n",
    "\n",
    "logging.info(f\"Surveillance du fichier {excel_file} en cours...\")\n",
    "observer.start()\n",
    "\n",
    "logging.info(\"Le fichier Excel a été modifié, récupération des ID existants...\")\n",
    "\n",
    "# Récupérer les ID existants via l'API\n",
    "existing_ids = get_existing_ids()  # 🔹 Appel de la fonction ici\n",
    "\n",
    "logging.info(\"Extraction des nouvelles données en cours...\")\n",
    "\n",
    "# Extraire et filtrer les nouvelles données (en excluant celles déjà dans l'API)\n",
    "extract_and_save_data(excel_file, sheet_name, existing_ids)  # 🔹 Passer `existing_ids`\n",
    "\n",
    "logging.info(\"Données enregistrées dans pending_data.json.\")\n",
    "\n",
    "# Envoyer les données depuis le fichier JSON vers l'API\n",
    "send_data_to_api()\n",
    "\n",
    "try:\n",
    "    while True:\n",
    "        time.sleep(1)  # Garde le programme actif\n",
    "except KeyboardInterrupt:\n",
    "    logging.info(\"Arrêt du programme...\")\n",
    "    observer.stop()\n",
    "    observer.join()"
   ],
   "id": "cac4c109710f2f47",
   "outputs": [
    {
     "ename": "NameError",
     "evalue": "name 'get_existing_ids' is not defined",
     "output_type": "error",
     "traceback": [
      "\u001B[1;31m---------------------------------------------------------------------------\u001B[0m",
      "\u001B[1;31mNameError\u001B[0m                                 Traceback (most recent call last)",
      "Cell \u001B[1;32mIn[8], line 32\u001B[0m\n\u001B[0;32m     29\u001B[0m logging\u001B[38;5;241m.\u001B[39minfo(\u001B[38;5;124m\"\u001B[39m\u001B[38;5;124mLe fichier Excel a été modifié, récupération des ID existants...\u001B[39m\u001B[38;5;124m\"\u001B[39m)\n\u001B[0;32m     31\u001B[0m \u001B[38;5;66;03m# Récupérer les ID existants via l'API\u001B[39;00m\n\u001B[1;32m---> 32\u001B[0m existing_ids \u001B[38;5;241m=\u001B[39m get_existing_ids()  \u001B[38;5;66;03m# 🔹 Appel de la fonction ici\u001B[39;00m\n\u001B[0;32m     34\u001B[0m logging\u001B[38;5;241m.\u001B[39minfo(\u001B[38;5;124m\"\u001B[39m\u001B[38;5;124mExtraction des nouvelles données en cours...\u001B[39m\u001B[38;5;124m\"\u001B[39m)\n\u001B[0;32m     36\u001B[0m \u001B[38;5;66;03m# Extraire et filtrer les nouvelles données (en excluant celles déjà dans l'API)\u001B[39;00m\n",
      "\u001B[1;31mNameError\u001B[0m: name 'get_existing_ids' is not defined"
     ]
    }
   ],
   "execution_count": 8
  }
 ],
 "metadata": {
  "kernelspec": {
   "display_name": "Python 3",
   "language": "python",
   "name": "python3"
  },
  "language_info": {
   "codemirror_mode": {
    "name": "ipython",
    "version": 2
   },
   "file_extension": ".py",
   "mimetype": "text/x-python",
   "name": "python",
   "nbconvert_exporter": "python",
   "pygments_lexer": "ipython2",
   "version": "2.7.6"
  }
 },
 "nbformat": 4,
 "nbformat_minor": 5
}
