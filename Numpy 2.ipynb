{
 "cells": [
  {
   "metadata": {},
   "cell_type": "markdown",
   "source": "# Redimensionnement d'un array",
   "id": "65ffdd72e9ff6d0a"
  },
  {
   "cell_type": "code",
   "id": "initial_id",
   "metadata": {
    "collapsed": true,
    "ExecuteTime": {
     "end_time": "2025-03-10T12:31:45.645463Z",
     "start_time": "2025-03-10T12:31:44.834081Z"
    }
   },
   "source": "import numpy as np",
   "outputs": [],
   "execution_count": 2
  },
  {
   "metadata": {
    "ExecuteTime": {
     "end_time": "2025-03-10T08:53:18.596782Z",
     "start_time": "2025-03-10T08:53:18.583763Z"
    }
   },
   "cell_type": "code",
   "source": [
    "x = np.array([i for i in range(1,11)]) # Création d'un array à partir d'une liste à 10 éléments\n",
    "x                                       # Affichage de X"
   ],
   "id": "9d0a3a5774a2b04d",
   "outputs": [
    {
     "data": {
      "text/plain": [
       "array([ 1,  2,  3,  4,  5,  6,  7,  8,  9, 10])"
      ]
     },
     "execution_count": 6,
     "metadata": {},
     "output_type": "execute_result"
    }
   ],
   "execution_count": 6
  },
  {
   "metadata": {
    "ExecuteTime": {
     "end_time": "2025-03-10T08:53:29.688406Z",
     "start_time": "2025-03-10T08:53:29.680445Z"
    }
   },
   "cell_type": "code",
   "source": "x.shape                                 # Affichage des dimensions de X",
   "id": "37f850f04bbc0ae6",
   "outputs": [
    {
     "data": {
      "text/plain": [
       "(10,)"
      ]
     },
     "execution_count": 7,
     "metadata": {},
     "output_type": "execute_result"
    }
   ],
   "execution_count": 7
  },
  {
   "metadata": {
    "ExecuteTime": {
     "end_time": "2025-03-10T08:53:59.202268Z",
     "start_time": "2025-03-10T08:53:59.185084Z"
    }
   },
   "cell_type": "code",
   "source": "x.reshape(2,5)                          # Reshaping de l'array en une matrice à 2 lignes et 5 colonnes",
   "id": "90a5b68eb1d73627",
   "outputs": [
    {
     "data": {
      "text/plain": [
       "array([[ 1,  2,  3,  4,  5],\n",
       "       [ 6,  7,  8,  9, 10]])"
      ]
     },
     "execution_count": 8,
     "metadata": {},
     "output_type": "execute_result"
    }
   ],
   "execution_count": 8
  },
  {
   "metadata": {
    "ExecuteTime": {
     "end_time": "2025-03-10T08:55:02.328863Z",
     "start_time": "2025-03-10T08:54:58.101909Z"
    }
   },
   "cell_type": "code",
   "source": "x.reshape(3,3)",
   "id": "26c001893e15f1ac",
   "outputs": [
    {
     "ename": "ValueError",
     "evalue": "cannot reshape array of size 10 into shape (3,3)",
     "output_type": "error",
     "traceback": [
      "\u001B[1;31m---------------------------------------------------------------------------\u001B[0m",
      "\u001B[1;31mValueError\u001B[0m                                Traceback (most recent call last)",
      "Cell \u001B[1;32mIn[9], line 1\u001B[0m\n\u001B[1;32m----> 1\u001B[0m \u001B[43mx\u001B[49m\u001B[38;5;241;43m.\u001B[39;49m\u001B[43mreshape\u001B[49m\u001B[43m(\u001B[49m\u001B[38;5;241;43m3\u001B[39;49m\u001B[43m,\u001B[49m\u001B[38;5;241;43m3\u001B[39;49m\u001B[43m)\u001B[49m\n",
      "\u001B[1;31mValueError\u001B[0m: cannot reshape array of size 10 into shape (3,3)"
     ]
    }
   ],
   "execution_count": 9
  },
  {
   "metadata": {},
   "cell_type": "code",
   "outputs": [],
   "execution_count": null,
   "source": "",
   "id": "908345405a2cd0ab"
  },
  {
   "metadata": {},
   "cell_type": "markdown",
   "source": [
    "NOTE\n",
    "\n",
    "La shape d'un array correspond à ses dimensions.\n",
    "De manière équivalente, redimensionner un array est connu sous le nom de reshaping.\n",
    "\n",
    "\n",
    "\n",
    "# Exercice 1: le jeu de données digits du module scikit-learn\n",
    "\n",
    "Dans la suite, nous allons brièvement explorer le jeu de données digits du module scikit-learn, un module Python permettant de développer des modèles de machine learning.\n",
    "\n",
    "Le jeu de données digits contient 1797 images de chiffres manuscrits allant de 0 à 9.\n",
    "\n",
    "L'objectif de ce jeu de données est de trouver un algorithme de machine learning capable de lire des chiffres manuscrits.\n",
    "\n",
    "Les images de ce jeu de données ont une résolution de 8x8 pixels en échelle de gris.\n",
    "\n",
    "Lancer la cellule suivante pour charger le jeu de données digits du module scikit-learn.\n"
   ],
   "id": "91d42ad58cf3c1d2"
  },
  {
   "metadata": {
    "ExecuteTime": {
     "end_time": "2025-03-10T09:39:01.817453Z",
     "start_time": "2025-03-10T09:39:01.655299Z"
    }
   },
   "cell_type": "code",
   "source": [
    "# La fonction load_digits permet de charger le jeu de données \"digits\" dans un array\n",
    "from sklearn.datasets import load_digits\n",
    "\n",
    "# La fonction load_digits renvoie un dictionnaire contenant\n",
    "# les données ainsi que d'autres informations sur le jeu de données\n",
    "digits = load_digits()\n",
    "\n",
    "# Les données des images se trouvent dans la clé \"data\"\n",
    "X = digits['data']\n",
    "X"
   ],
   "id": "3ed53896a584e00c",
   "outputs": [
    {
     "data": {
      "text/plain": [
       "array([[ 0.,  0.,  5., ...,  0.,  0.,  0.],\n",
       "       [ 0.,  0.,  0., ..., 10.,  0.,  0.],\n",
       "       [ 0.,  0.,  0., ..., 16.,  9.,  0.],\n",
       "       ...,\n",
       "       [ 0.,  0.,  1., ...,  6.,  0.,  0.],\n",
       "       [ 0.,  0.,  2., ..., 12.,  0.,  0.],\n",
       "       [ 0.,  0., 10., ..., 12.,  1.,  0.]], shape=(1797, 64))"
      ]
     },
     "execution_count": 29,
     "metadata": {},
     "output_type": "execute_result"
    }
   ],
   "execution_count": 29
  },
  {
   "metadata": {
    "ExecuteTime": {
     "end_time": "2025-03-10T09:41:19.471841Z",
     "start_time": "2025-03-10T09:41:19.463443Z"
    }
   },
   "cell_type": "code",
   "source": "digits.keys()",
   "id": "a92b99919fce4f26",
   "outputs": [
    {
     "data": {
      "text/plain": [
       "dict_keys(['data', 'target', 'frame', 'feature_names', 'target_names', 'images', 'DESCR'])"
      ]
     },
     "execution_count": 30,
     "metadata": {},
     "output_type": "execute_result"
    }
   ],
   "execution_count": 30
  },
  {
   "metadata": {
    "ExecuteTime": {
     "end_time": "2025-03-10T09:42:47.764199Z",
     "start_time": "2025-03-10T09:42:47.755982Z"
    }
   },
   "cell_type": "code",
   "source": "print(digits['DESCR'])",
   "id": "aafe8567310d4f4",
   "outputs": [
    {
     "name": "stdout",
     "output_type": "stream",
     "text": [
      ".. _digits_dataset:\n",
      "\n",
      "Optical recognition of handwritten digits dataset\n",
      "--------------------------------------------------\n",
      "\n",
      "**Data Set Characteristics:**\n",
      "\n",
      ":Number of Instances: 1797\n",
      ":Number of Attributes: 64\n",
      ":Attribute Information: 8x8 image of integer pixels in the range 0..16.\n",
      ":Missing Attribute Values: None\n",
      ":Creator: E. Alpaydin (alpaydin '@' boun.edu.tr)\n",
      ":Date: July; 1998\n",
      "\n",
      "This is a copy of the test set of the UCI ML hand-written digits datasets\n",
      "https://archive.ics.uci.edu/ml/datasets/Optical+Recognition+of+Handwritten+Digits\n",
      "\n",
      "The data set contains images of hand-written digits: 10 classes where\n",
      "each class refers to a digit.\n",
      "\n",
      "Preprocessing programs made available by NIST were used to extract\n",
      "normalized bitmaps of handwritten digits from a preprinted form. From a\n",
      "total of 43 people, 30 contributed to the training set and different 13\n",
      "to the test set. 32x32 bitmaps are divided into nonoverlapping blocks of\n",
      "4x4 and the number of on pixels are counted in each block. This generates\n",
      "an input matrix of 8x8 where each element is an integer in the range\n",
      "0..16. This reduces dimensionality and gives invariance to small\n",
      "distortions.\n",
      "\n",
      "For info on NIST preprocessing routines, see M. D. Garris, J. L. Blue, G.\n",
      "T. Candela, D. L. Dimmick, J. Geist, P. J. Grother, S. A. Janet, and C.\n",
      "L. Wilson, NIST Form-Based Handprint Recognition System, NISTIR 5469,\n",
      "1994.\n",
      "\n",
      ".. dropdown:: References\n",
      "\n",
      "  - C. Kaynak (1995) Methods of Combining Multiple Classifiers and Their\n",
      "    Applications to Handwritten Digit Recognition, MSc Thesis, Institute of\n",
      "    Graduate Studies in Science and Engineering, Bogazici University.\n",
      "  - E. Alpaydin, C. Kaynak (1998) Cascading Classifiers, Kybernetika.\n",
      "  - Ken Tang and Ponnuthurai N. Suganthan and Xi Yao and A. Kai Qin.\n",
      "    Linear dimensionalityreduction using relevance weighted LDA. School of\n",
      "    Electrical and Electronic Engineering Nanyang Technological University.\n",
      "    2005.\n",
      "  - Claudio Gentile. A New Approximate Maximal Margin Classification\n",
      "    Algorithm. NIPS. 2000.\n",
      "\n"
     ]
    }
   ],
   "execution_count": 33
  },
  {
   "metadata": {
    "ExecuteTime": {
     "end_time": "2025-03-10T09:12:54.099066Z",
     "start_time": "2025-03-10T09:12:54.085478Z"
    }
   },
   "cell_type": "code",
   "source": "print(X.shape)",
   "id": "62dc6ae2eb9dc331",
   "outputs": [
    {
     "name": "stdout",
     "output_type": "stream",
     "text": [
      "(1797, 64)\n"
     ]
    }
   ],
   "execution_count": 13
  },
  {
   "metadata": {},
   "cell_type": "code",
   "outputs": [],
   "execution_count": null,
   "source": "",
   "id": "48bfdcb3cb859cec"
  },
  {
   "metadata": {},
   "cell_type": "markdown",
   "source": [
    "> L'array X contenant les images a les dimensions **1797 x 64**, ce qui ne correspond pas du tout aux dimensions des images.\n",
    ">\n",
    "> En fait, les 1797 images de dimensions 8x8 **ont été redimensionnées en vecteurs de taille 8x8 = 64** pour les rendre **compatibles** avec les algorithmes de scikit-learn **qui ne sont pas capables de traiter des données matricielles**.\n",
    ">\n",
    "> Ensuite, les 1797 vecteurs ont été **empilés dans une matrice** pour former X.\n",
    "Cela permet d'avoir **tout le jeu de données dans une seule matrice**.\n",
    "Chaque ligne de X correspond donc à une image qui a été transformée en vecteur.\n",
    ">\n",
    ">Si nous voulons visualiser les images, nous devons redimensionner les vecteurs de 64 éléments en matrices de dimensions 8x8.\n",
    "En effet, les fonctions pour afficher des images ne peuvent traiter que des matrices et non des vecteurs.\n",
    ">\n",
    "> Pour afficher les images contenues dans X, nous allons redimensionner X pour obtenir un array de dimensions 1797x8x8."
   ],
   "id": "562b0ac2a7f36490"
  },
  {
   "metadata": {
    "ExecuteTime": {
     "end_time": "2025-03-10T10:12:29.467127Z",
     "start_time": "2025-03-10T10:12:29.456266Z"
    }
   },
   "cell_type": "code",
   "source": [
    "X_reshaped = X.reshape((1797, 8, 8))\n",
    "\n",
    "print(X_reshaped.shape)\n",
    "\n",
    "img = X_reshaped[1100]\n",
    "\n",
    "print(img)"
   ],
   "id": "8a2aff0f954ad536",
   "outputs": [
    {
     "name": "stdout",
     "output_type": "stream",
     "text": [
      "(1797, 8, 8)\n",
      "[[ 0.  1. 12. 15. 10.  2.  0.  0.]\n",
      " [ 0.  4. 14.  1.  6. 12.  2.  0.]\n",
      " [ 0.  7. 15.  0.  1. 14.  4.  0.]\n",
      " [ 0.  3. 15. 12. 15. 10.  0.  0.]\n",
      " [ 0.  0.  3. 15.  1.  0.  0.  0.]\n",
      " [ 0.  0.  0.  3. 13.  1.  0.  0.]\n",
      " [ 0.  0.  0.  0. 10.  6.  0.  0.]\n",
      " [ 0.  0. 11. 12. 13.  4.  0.  0.]]\n"
     ]
    }
   ],
   "execution_count": 57
  },
  {
   "metadata": {},
   "cell_type": "markdown",
   "source": "* Lancer la cellule suivante pour afficher img. De quel chiffre s'agit-il ?",
   "id": "b6b92c023e17defc"
  },
  {
   "metadata": {
    "ExecuteTime": {
     "end_time": "2025-03-10T10:12:25.085651Z",
     "start_time": "2025-03-10T10:12:24.901075Z"
    }
   },
   "cell_type": "code",
   "source": [
    "import matplotlib.pyplot as plt\n",
    "_ = plt.imshow(img, cmap = 'gray')\n",
    "_ = plt.axis(\"off\")"
   ],
   "id": "d8a304089b59dfad",
   "outputs": [
    {
     "data": {
      "text/plain": [
       "<Figure size 640x480 with 1 Axes>"
      ],
      "image/png": "[encoded data removed]"
     },
     "metadata": {},
     "output_type": "display_data"
    }
   ],
   "execution_count": 56
  },
  {
   "metadata": {
    "ExecuteTime": {
     "end_time": "2025-03-10T10:12:34.612760Z",
     "start_time": "2025-03-10T10:12:34.426967Z"
    }
   },
   "cell_type": "code",
   "source": [
    "img_1 = X_reshaped[0]\n",
    "import matplotlib.pyplot as plt\n",
    "_ = plt.imshow(img_1, cmap = 'gray')\n",
    "_ = plt.axis(\"off\")"
   ],
   "id": "35af878b9afd9b9",
   "outputs": [
    {
     "data": {
      "text/plain": [
       "<Figure size 640x480 with 1 Axes>"
      ],
      "image/png": "[encoded data removed]"
     },
     "metadata": {},
     "output_type": "display_data"
    }
   ],
   "execution_count": 58
  },
  {
   "metadata": {
    "ExecuteTime": {
     "end_time": "2025-03-10T09:51:12.877135Z",
     "start_time": "2025-03-10T09:51:12.742064Z"
    }
   },
   "cell_type": "code",
   "source": [
    "img_2 = X_reshaped[400]\n",
    "import matplotlib.pyplot as plt\n",
    "_ = plt.imshow(img_2, cmap = 'gray')\n",
    "_ = plt.axis(\"off\")"
   ],
   "id": "ce7afbf8f6b639fd",
   "outputs": [
    {
     "data": {
      "text/plain": [
       "<Figure size 640x480 with 1 Axes>"
      ],
      "image/png": "[encoded data removed]"
     },
     "metadata": {},
     "output_type": "display_data"
    }
   ],
   "execution_count": 39
  },
  {
   "metadata": {},
   "cell_type": "code",
   "outputs": [],
   "execution_count": null,
   "source": "",
   "id": "d6069924520ae640"
  },
  {
   "metadata": {},
   "cell_type": "markdown",
   "source": "# Cocatenation des arrays",
   "id": "415ad9d01a364eca"
  },
  {
   "metadata": {
    "ExecuteTime": {
     "end_time": "2025-03-10T09:55:13.269897Z",
     "start_time": "2025-03-10T09:55:13.258380Z"
    }
   },
   "cell_type": "code",
   "source": [
    "x_1 = np.ones(shape = (2,3))\n",
    "x_2 = np.zeros(shape = (2,3))\n",
    "print(x_1)\n",
    "print(\"----------\")\n",
    "print(x_2)\n",
    "\n"
   ],
   "id": "2d49c8014612651b",
   "outputs": [
    {
     "name": "stdout",
     "output_type": "stream",
     "text": [
      "[[1. 1. 1.]\n",
      " [1. 1. 1.]]\n",
      "----------\n",
      "[[0. 0. 0.]\n",
      " [0. 0. 0.]]\n"
     ]
    }
   ],
   "execution_count": 40
  },
  {
   "metadata": {
    "ExecuteTime": {
     "end_time": "2025-03-10T10:07:49.597555Z",
     "start_time": "2025-03-10T10:07:49.584239Z"
    }
   },
   "cell_type": "code",
   "source": [
    "x_3 = np.concatenate([x_1,x_2], axis = 0)# axis = 0 signifie qu'on aligne nos deux matrices suivants les lignes et axis = 1 signifie suivant les colones \n",
    "print(x_3)\n",
    "print('-----')\n",
    "x_3.shape                # on a une matrice de 4 lignes et 3 colonnes"
   ],
   "id": "645af37663882dcc",
   "outputs": [
    {
     "name": "stdout",
     "output_type": "stream",
     "text": [
      "[[1. 1. 1.]\n",
      " [1. 1. 1.]\n",
      " [0. 0. 0.]\n",
      " [0. 0. 0.]]\n",
      "-----\n"
     ]
    },
    {
     "data": {
      "text/plain": [
       "(4, 3)"
      ]
     },
     "execution_count": 52,
     "metadata": {},
     "output_type": "execute_result"
    }
   ],
   "execution_count": 52
  },
  {
   "metadata": {
    "ExecuteTime": {
     "end_time": "2025-03-10T10:07:51.997175Z",
     "start_time": "2025-03-10T10:07:51.987970Z"
    }
   },
   "cell_type": "code",
   "source": [
    "x_4 = np.concatenate([x_1,x_2], axis = 1)\n",
    "print(x_4)"
   ],
   "id": "1cf7a8d81cdbdd51",
   "outputs": [
    {
     "name": "stdout",
     "output_type": "stream",
     "text": [
      "[[1. 1. 1. 0. 0. 0.]\n",
      " [1. 1. 1. 0. 0. 0.]]\n"
     ]
    }
   ],
   "execution_count": 53
  },
  {
   "metadata": {
    "ExecuteTime": {
     "end_time": "2025-03-10T10:07:53.667590Z",
     "start_time": "2025-03-10T10:07:53.657679Z"
    }
   },
   "cell_type": "code",
   "source": "x_4.shape              # On a une matrice de 2 lignes et 6 colonnes",
   "id": "e7b951f25c2f5543",
   "outputs": [
    {
     "data": {
      "text/plain": [
       "(2, 6)"
      ]
     },
     "execution_count": 54,
     "metadata": {},
     "output_type": "execute_result"
    }
   ],
   "execution_count": 54
  },
  {
   "metadata": {},
   "cell_type": "markdown",
   "source": [
    "Les arrays à concaténer doivent être renseignés sous forme d'une liste ou d'un tuple.\n",
    "\n",
    "L'argument 'axis' définit sur quelle dimension les arrays doivent être concaténés. Il faut que, excepté sur cette dimension, les arrays soient de même taille.\n",
    "\n",
    "# Exercice: Concaténation d'arrays\n",
    "\n",
    "> Stocker l'image contenue à l'indice 560 de X_reshaped dans un array nommé img1.\n",
    "> \n",
    "> Stocker l'image contenue à l'indice 561 de X_reshaped dans un array nommé img2.\n",
    "> \n",
    "> Concaténer les arrays img1 et img2 verticalement dans un array nommé img3 (c'est-à-dire sur l'axe des lignes).\n",
    "\n"
   ],
   "id": "c8867a49d5197647"
  },
  {
   "metadata": {
    "ExecuteTime": {
     "end_time": "2025-03-10T10:16:05.612947Z",
     "start_time": "2025-03-10T10:16:05.599557Z"
    }
   },
   "cell_type": "code",
   "source": [
    "img1 = X_reshaped[560]\n",
    "\n",
    "img2 = X_reshaped[561]\n",
    "img3 = np.concatenate([img1, img2], axis = 0)\n",
    "img3"
   ],
   "id": "1e7a3b46c640f24c",
   "outputs": [
    {
     "data": {
      "text/plain": [
       "array([[ 0.,  0.,  3., 15., 16., 16.,  6.,  0.],\n",
       "       [ 0.,  0.,  3., 14.,  7., 15.,  3.,  0.],\n",
       "       [ 0.,  0.,  0.,  0.,  4., 14.,  0.,  0.],\n",
       "       [ 0.,  0.,  2.,  9., 15., 16., 14.,  0.],\n",
       "       [ 0.,  0.,  7., 16., 14.,  6.,  2.,  0.],\n",
       "       [ 0.,  0.,  0.,  8.,  8.,  0.,  0.,  0.],\n",
       "       [ 0.,  0.,  2., 16.,  2.,  0.,  0.,  0.],\n",
       "       [ 0.,  0.,  5., 12.,  0.,  0.,  0.,  0.],\n",
       "       [ 0.,  0.,  1., 10., 15., 10.,  0.,  0.],\n",
       "       [ 0.,  1., 13., 11.,  8., 12.,  0.,  0.],\n",
       "       [ 0.,  2.,  9.,  0., 13.,  6.,  0.,  0.],\n",
       "       [ 0.,  0.,  0.,  0., 16.,  1.,  0.,  0.],\n",
       "       [ 0.,  0.,  0.,  0., 14., 10.,  1.,  0.],\n",
       "       [ 0.,  0.,  0.,  0.,  1.,  9., 10.,  0.],\n",
       "       [ 0.,  0., 13.,  7.,  0.,  2., 16.,  0.],\n",
       "       [ 0.,  0.,  2., 11., 15., 16., 12.,  0.]])"
      ]
     },
     "execution_count": 64,
     "metadata": {},
     "output_type": "execute_result"
    }
   ],
   "execution_count": 64
  },
  {
   "metadata": {},
   "cell_type": "code",
   "outputs": [],
   "execution_count": null,
   "source": "",
   "id": "e0a969ee8cfc4081"
  },
  {
   "metadata": {},
   "cell_type": "markdown",
   "source": "* Lancer la cellule suivante pour afficher le résultat de la concaténation.",
   "id": "ce78ec92df98068a"
  },
  {
   "metadata": {
    "ExecuteTime": {
     "end_time": "2025-03-10T10:17:13.618523Z",
     "start_time": "2025-03-10T10:17:11.872405Z"
    }
   },
   "cell_type": "code",
   "source": [
    "# Affichage de la première image\n",
    "plt.subplot(1, 3, 1)\n",
    "_ = plt.imshow(img1, cmap = 'gray')\n",
    "_ = plt.axis(\"off\")\n",
    "_ = plt.title(\"Image 1\")\n",
    "\n",
    "# Affichage de la deuxième image\n",
    "plt.subplot(1, 3, 2)\n",
    "_ = plt.imshow(img2, cmap = 'gray')\n",
    "_ = plt.axis(\"off\")\n",
    "_ = plt.title(\"Image 2\")\n",
    "\n",
    "# Affichage de la concaténatin des images\n",
    "plt.subplot(1, 3, 3)\n",
    "_ = plt.imshow(img3, cmap = 'gray')\n",
    "_ = plt.axis(\"off\")\n",
    "_ = plt.title(\"Concaténation Verticale\")\n",
    "\n",
    "# Redimensionnement de l'affichage\n",
    "fig = plt.gcf()\n",
    "fig.set_size_inches((10,6))"
   ],
   "id": "b574207379e07e6b",
   "outputs": [
    {
     "data": {
      "text/plain": [
       "<Figure size 1000x600 with 3 Axes>"
      ],
      "image/png": "[encoded data removed]"
     },
     "metadata": {},
     "output_type": "display_data"
    }
   ],
   "execution_count": 65
  },
  {
   "metadata": {},
   "cell_type": "markdown",
   "source": "# Opérateurs arithmétiques\n",
   "id": "47c22afb8810e156"
  },
  {
   "metadata": {
    "ExecuteTime": {
     "end_time": "2025-03-10T10:50:53.133982Z",
     "start_time": "2025-03-10T10:50:53.126937Z"
    }
   },
   "cell_type": "code",
   "source": [
    "x1 = np.array([1, 2])\n",
    "x2 = np.array([3, 4])"
   ],
   "id": "763c0177a7ffd60",
   "outputs": [],
   "execution_count": 66
  },
  {
   "metadata": {
    "ExecuteTime": {
     "end_time": "2025-03-10T10:51:16.862925Z",
     "start_time": "2025-03-10T10:51:16.853633Z"
    }
   },
   "cell_type": "code",
   "source": "2*x1",
   "id": "72dff2ae0f00371f",
   "outputs": [
    {
     "data": {
      "text/plain": [
       "array([2, 4])"
      ]
     },
     "execution_count": 67,
     "metadata": {},
     "output_type": "execute_result"
    }
   ],
   "execution_count": 67
  },
  {
   "metadata": {
    "ExecuteTime": {
     "end_time": "2025-03-10T10:51:36.210997Z",
     "start_time": "2025-03-10T10:51:36.202422Z"
    }
   },
   "cell_type": "code",
   "source": "x1*2",
   "id": "352f174132f327e6",
   "outputs": [
    {
     "data": {
      "text/plain": [
       "array([2, 4])"
      ]
     },
     "execution_count": 68,
     "metadata": {},
     "output_type": "execute_result"
    }
   ],
   "execution_count": 68
  },
  {
   "metadata": {
    "ExecuteTime": {
     "end_time": "2025-03-10T10:53:53.804309Z",
     "start_time": "2025-03-10T10:53:53.796230Z"
    }
   },
   "cell_type": "code",
   "source": "[1,2]*2",
   "id": "43a9226199fd078a",
   "outputs": [
    {
     "data": {
      "text/plain": [
       "[1, 2, 1, 2]"
      ]
     },
     "execution_count": 69,
     "metadata": {},
     "output_type": "execute_result"
    }
   ],
   "execution_count": 69
  },
  {
   "metadata": {},
   "cell_type": "code",
   "outputs": [],
   "execution_count": null,
   "source": "",
   "id": "c7db183ea89832d9"
  },
  {
   "metadata": {},
   "cell_type": "markdown",
   "source": [
    "## Multiplication de 2 array\n",
    "\n",
    "- Utilisez la fonction `np.random.randint` pour créer 2 array `array_aleatoire_1` et `array_aleatoire_2` de nombres aléatoires dont la `size` est égale à `(8,8,3)` et dont les valeurs vont entre 1 et 45. En cas de doute sur comment utiliser cette fonction, lire la documentation [ici](https://numpy.org/doc/stable/reference/random/generated/numpy.random.randint.html)\n",
    "- Multipliez ces deux arrayx entre elles et stockez le résultat dans l'array `resultat_multiplication`\n",
    "- Utilisez la fonction `np.sum` pour sommer les valeurs à l'intérieur de la variable `resultat_multiplication`\n",
    "\n",
    "Notez bien, votre code doit commencer avec la ligne suivante\n",
    "`np.random.seed(32)`. Ceci permettra d'avoir des résultats reproductibles.\n",
    "\n",
    "Qu'obtenez-vous?"
   ],
   "id": "d0176c65b9e2e71"
  },
  {
   "metadata": {
    "ExecuteTime": {
     "end_time": "2025-03-10T12:40:56.875956Z",
     "start_time": "2025-03-10T12:40:56.866611Z"
    }
   },
   "cell_type": "code",
   "source": [
    "\n",
    "np.random.seed(32)\n",
    "array_aleatoire_1 = np.random.randint(1, 45, size = (8, 8, 3))\n",
    "print(array_aleatoire_1)\n"
   ],
   "id": "40c02d4eacf9d25a",
   "outputs": [
    {
     "name": "stdout",
     "output_type": "stream",
     "text": [
      "[[[24 44  6]\n",
      "  [25 20  8]\n",
      "  [26  4 38]\n",
      "  [43 10  5]\n",
      "  [12 18  4]\n",
      "  [ 2 35 36]\n",
      "  [25 43 19]\n",
      "  [11 21 37]]\n",
      "\n",
      " [[37  6 39]\n",
      "  [14 12 12]\n",
      "  [27 30 30]\n",
      "  [27  1 12]\n",
      "  [ 7 31  5]\n",
      "  [42 31 17]\n",
      "  [20 38 11]\n",
      "  [36 25 12]]\n",
      "\n",
      " [[30 44 12]\n",
      "  [35 42 44]\n",
      "  [ 5 29 21]\n",
      "  [19 18 35]\n",
      "  [17 19 15]\n",
      "  [26  7 15]\n",
      "  [32  1 15]\n",
      "  [42 16  2]]\n",
      "\n",
      " [[15 20 34]\n",
      "  [13  8 41]\n",
      "  [15  7  7]\n",
      "  [43 35 41]\n",
      "  [18 37  9]\n",
      "  [26 10 19]\n",
      "  [18 32 19]\n",
      "  [33  5  1]]\n",
      "\n",
      " [[ 8  1 31]\n",
      "  [36 19 21]\n",
      "  [ 9  3 38]\n",
      "  [ 9 15 29]\n",
      "  [26 19 44]\n",
      "  [20  7  6]\n",
      "  [31 34  7]\n",
      "  [16 44  2]]\n",
      "\n",
      " [[ 1 30 37]\n",
      "  [42 39 20]\n",
      "  [31  8 42]\n",
      "  [39  7  1]\n",
      "  [26 34 37]\n",
      "  [17 14 13]\n",
      "  [ 4 14 38]\n",
      "  [11  5 39]]\n",
      "\n",
      " [[ 6 41 10]\n",
      "  [11 21 41]\n",
      "  [32  1 41]\n",
      "  [31 37 23]\n",
      "  [16 15 36]\n",
      "  [11 34 10]\n",
      "  [11 37 20]\n",
      "  [38 16 35]]\n",
      "\n",
      " [[36 38 37]\n",
      "  [23 14 10]\n",
      "  [31 23 39]\n",
      "  [40  5  1]\n",
      "  [17 11 30]\n",
      "  [16 27 22]\n",
      "  [42 23 33]\n",
      "  [38 29 25]]]\n"
     ]
    }
   ],
   "execution_count": 15
  },
  {
   "metadata": {
    "ExecuteTime": {
     "end_time": "2025-03-10T12:41:00.839987Z",
     "start_time": "2025-03-10T12:41:00.828054Z"
    }
   },
   "cell_type": "code",
   "source": [
    "array_aleatoire_2 = np.random.randint(1, 45, size = (8, 8, 3))\n",
    "print(array_aleatoire_2)"
   ],
   "id": "7765e09f0a8de9b7",
   "outputs": [
    {
     "name": "stdout",
     "output_type": "stream",
     "text": [
      "[[[ 9 33 35]\n",
      "  [28 44  5]\n",
      "  [37 22 25]\n",
      "  [30 33  3]\n",
      "  [16 17  3]\n",
      "  [ 2 41 40]\n",
      "  [19 26 25]\n",
      "  [ 1 41 28]]\n",
      "\n",
      " [[ 6 31 33]\n",
      "  [23 34 35]\n",
      "  [13  4 23]\n",
      "  [27 43 31]\n",
      "  [14 24 21]\n",
      "  [ 8  1  5]\n",
      "  [14 16 33]\n",
      "  [ 3  7 34]]\n",
      "\n",
      " [[12 16 22]\n",
      "  [26 12 26]\n",
      "  [26 16 29]\n",
      "  [18 25 44]\n",
      "  [31 43 13]\n",
      "  [22 19 33]\n",
      "  [40 28 10]\n",
      "  [22 12 43]]\n",
      "\n",
      " [[25 42 21]\n",
      "  [ 3 15 10]\n",
      "  [ 3 15 30]\n",
      "  [12 15 26]\n",
      "  [ 7 14  9]\n",
      "  [ 6 21 18]\n",
      "  [ 8 37 21]\n",
      "  [19 44 19]]\n",
      "\n",
      " [[10 16  8]\n",
      "  [37  9 15]\n",
      "  [44 30 43]\n",
      "  [36 13 37]\n",
      "  [43 29 17]\n",
      "  [41  3 30]\n",
      "  [42 15 21]\n",
      "  [40 15 28]]\n",
      "\n",
      " [[ 3 26  4]\n",
      "  [21 12  6]\n",
      "  [25 12 27]\n",
      "  [23 30 31]\n",
      "  [24 38 19]\n",
      "  [ 7 18  8]\n",
      "  [16 25 31]\n",
      "  [21 31 13]]\n",
      "\n",
      " [[ 2 36 41]\n",
      "  [11 16 43]\n",
      "  [44  8  2]\n",
      "  [39 23  9]\n",
      "  [ 7 27 23]\n",
      "  [39 39 12]\n",
      "  [41 10 37]\n",
      "  [11 32 20]]\n",
      "\n",
      " [[28 37  2]\n",
      "  [41  5 30]\n",
      "  [26 37 19]\n",
      "  [22 10 32]\n",
      "  [ 8 34 29]\n",
      "  [15 35 15]\n",
      "  [41 35 15]\n",
      "  [38 35 35]]]\n"
     ]
    }
   ],
   "execution_count": 16
  },
  {
   "metadata": {
    "ExecuteTime": {
     "end_time": "2025-03-10T12:41:03.179253Z",
     "start_time": "2025-03-10T12:41:03.161908Z"
    }
   },
   "cell_type": "code",
   "source": [
    "resultat_multiplication = array_aleatoire_1 * array_aleatoire_2\n",
    "resultat_multiplication"
   ],
   "id": "3768f8af121ff1f2",
   "outputs": [
    {
     "data": {
      "text/plain": [
       "array([[[ 216, 1452,  210],\n",
       "        [ 700,  880,   40],\n",
       "        [ 962,   88,  950],\n",
       "        [1290,  330,   15],\n",
       "        [ 192,  306,   12],\n",
       "        [   4, 1435, 1440],\n",
       "        [ 475, 1118,  475],\n",
       "        [  11,  861, 1036]],\n",
       "\n",
       "       [[ 222,  186, 1287],\n",
       "        [ 322,  408,  420],\n",
       "        [ 351,  120,  690],\n",
       "        [ 729,   43,  372],\n",
       "        [  98,  744,  105],\n",
       "        [ 336,   31,   85],\n",
       "        [ 280,  608,  363],\n",
       "        [ 108,  175,  408]],\n",
       "\n",
       "       [[ 360,  704,  264],\n",
       "        [ 910,  504, 1144],\n",
       "        [ 130,  464,  609],\n",
       "        [ 342,  450, 1540],\n",
       "        [ 527,  817,  195],\n",
       "        [ 572,  133,  495],\n",
       "        [1280,   28,  150],\n",
       "        [ 924,  192,   86]],\n",
       "\n",
       "       [[ 375,  840,  714],\n",
       "        [  39,  120,  410],\n",
       "        [  45,  105,  210],\n",
       "        [ 516,  525, 1066],\n",
       "        [ 126,  518,   81],\n",
       "        [ 156,  210,  342],\n",
       "        [ 144, 1184,  399],\n",
       "        [ 627,  220,   19]],\n",
       "\n",
       "       [[  80,   16,  248],\n",
       "        [1332,  171,  315],\n",
       "        [ 396,   90, 1634],\n",
       "        [ 324,  195, 1073],\n",
       "        [1118,  551,  748],\n",
       "        [ 820,   21,  180],\n",
       "        [1302,  510,  147],\n",
       "        [ 640,  660,   56]],\n",
       "\n",
       "       [[   3,  780,  148],\n",
       "        [ 882,  468,  120],\n",
       "        [ 775,   96, 1134],\n",
       "        [ 897,  210,   31],\n",
       "        [ 624, 1292,  703],\n",
       "        [ 119,  252,  104],\n",
       "        [  64,  350, 1178],\n",
       "        [ 231,  155,  507]],\n",
       "\n",
       "       [[  12, 1476,  410],\n",
       "        [ 121,  336, 1763],\n",
       "        [1408,    8,   82],\n",
       "        [1209,  851,  207],\n",
       "        [ 112,  405,  828],\n",
       "        [ 429, 1326,  120],\n",
       "        [ 451,  370,  740],\n",
       "        [ 418,  512,  700]],\n",
       "\n",
       "       [[1008, 1406,   74],\n",
       "        [ 943,   70,  300],\n",
       "        [ 806,  851,  741],\n",
       "        [ 880,   50,   32],\n",
       "        [ 136,  374,  870],\n",
       "        [ 240,  945,  330],\n",
       "        [1722,  805,  495],\n",
       "        [1444, 1015,  875]]], dtype=int32)"
      ]
     },
     "execution_count": 17,
     "metadata": {},
     "output_type": "execute_result"
    }
   ],
   "execution_count": 17
  },
  {
   "metadata": {
    "ExecuteTime": {
     "end_time": "2025-03-10T12:43:32.929894Z",
     "start_time": "2025-03-10T12:43:32.923103Z"
    }
   },
   "cell_type": "code",
   "source": [
    "resultat_somme = np.sum(resultat_multiplication)\n",
    "print(resultat_somme)"
   ],
   "id": "7806fb8e3d1af1d8",
   "outputs": [
    {
     "name": "stdout",
     "output_type": "stream",
     "text": [
      "99256\n"
     ]
    }
   ],
   "execution_count": 21
  },
  {
   "metadata": {},
   "cell_type": "code",
   "outputs": [],
   "execution_count": null,
   "source": "",
   "id": "1b95353fad6916b9"
  },
  {
   "metadata": {},
   "cell_type": "markdown",
   "source": [
    "## Addition de 2 array\n",
    "\n",
    "En utilisant les variables `array_aleatoire_1` et `array_aleatoire_2`:\n",
    "  - Sommez les et stockez le résultat dans la variable `resultat_addition`\n",
    "  - Utilisez la fonction `np.prod` pour multiplier tous les chiffres de l'array `resultat addition` entre eux\n",
    "\n",
    "  Quel est le résultat?"
   ],
   "id": "bc1514ed32867d48"
  },
  {
   "metadata": {
    "ExecuteTime": {
     "end_time": "2025-03-10T12:46:48.018030Z",
     "start_time": "2025-03-10T12:46:48.007391Z"
    }
   },
   "cell_type": "code",
   "source": [
    "resultat_addition = array_aleatoire_1 + array_aleatoire_2\n",
    "print(resultat_addition)"
   ],
   "id": "39f1eca1762d0481",
   "outputs": [
    {
     "name": "stdout",
     "output_type": "stream",
     "text": [
      "[[[33 77 41]\n",
      "  [53 64 13]\n",
      "  [63 26 63]\n",
      "  [73 43  8]\n",
      "  [28 35  7]\n",
      "  [ 4 76 76]\n",
      "  [44 69 44]\n",
      "  [12 62 65]]\n",
      "\n",
      " [[43 37 72]\n",
      "  [37 46 47]\n",
      "  [40 34 53]\n",
      "  [54 44 43]\n",
      "  [21 55 26]\n",
      "  [50 32 22]\n",
      "  [34 54 44]\n",
      "  [39 32 46]]\n",
      "\n",
      " [[42 60 34]\n",
      "  [61 54 70]\n",
      "  [31 45 50]\n",
      "  [37 43 79]\n",
      "  [48 62 28]\n",
      "  [48 26 48]\n",
      "  [72 29 25]\n",
      "  [64 28 45]]\n",
      "\n",
      " [[40 62 55]\n",
      "  [16 23 51]\n",
      "  [18 22 37]\n",
      "  [55 50 67]\n",
      "  [25 51 18]\n",
      "  [32 31 37]\n",
      "  [26 69 40]\n",
      "  [52 49 20]]\n",
      "\n",
      " [[18 17 39]\n",
      "  [73 28 36]\n",
      "  [53 33 81]\n",
      "  [45 28 66]\n",
      "  [69 48 61]\n",
      "  [61 10 36]\n",
      "  [73 49 28]\n",
      "  [56 59 30]]\n",
      "\n",
      " [[ 4 56 41]\n",
      "  [63 51 26]\n",
      "  [56 20 69]\n",
      "  [62 37 32]\n",
      "  [50 72 56]\n",
      "  [24 32 21]\n",
      "  [20 39 69]\n",
      "  [32 36 52]]\n",
      "\n",
      " [[ 8 77 51]\n",
      "  [22 37 84]\n",
      "  [76  9 43]\n",
      "  [70 60 32]\n",
      "  [23 42 59]\n",
      "  [50 73 22]\n",
      "  [52 47 57]\n",
      "  [49 48 55]]\n",
      "\n",
      " [[64 75 39]\n",
      "  [64 19 40]\n",
      "  [57 60 58]\n",
      "  [62 15 33]\n",
      "  [25 45 59]\n",
      "  [31 62 37]\n",
      "  [83 58 48]\n",
      "  [76 64 60]]]\n"
     ]
    }
   ],
   "execution_count": 23
  },
  {
   "metadata": {
    "ExecuteTime": {
     "end_time": "2025-03-10T12:47:48.505840Z",
     "start_time": "2025-03-10T12:47:48.498354Z"
    }
   },
   "cell_type": "code",
   "source": [
    "resultat = np.prod(resultat_addition)\n",
    "print(resultat)"
   ],
   "id": "e78aaed108cb991e",
   "outputs": [
    {
     "name": "stdout",
     "output_type": "stream",
     "text": [
      "0\n"
     ]
    }
   ],
   "execution_count": 26
  },
  {
   "metadata": {},
   "cell_type": "code",
   "outputs": [],
   "execution_count": null,
   "source": "",
   "id": "f27af4cb2bd1b035"
  },
  {
   "metadata": {},
   "cell_type": "markdown",
   "source": "## Itération sur les éléments d'un array",
   "id": "bcfe6b998f2fed6"
  },
  {
   "metadata": {},
   "cell_type": "code",
   "outputs": [],
   "execution_count": null,
   "source": "",
   "id": "2a667b4fb6cd592f"
  },
  {
   "metadata": {},
   "cell_type": "code",
   "outputs": [],
   "execution_count": null,
   "source": "",
   "id": "18849e2b1fc8280"
  },
  {
   "metadata": {},
   "cell_type": "code",
   "outputs": [],
   "execution_count": null,
   "source": "",
   "id": "425fc0aa6a063401"
  },
  {
   "metadata": {},
   "cell_type": "code",
   "outputs": [],
   "execution_count": null,
   "source": "",
   "id": "1488c4ab39de22a2"
  },
  {
   "metadata": {},
   "cell_type": "code",
   "outputs": [],
   "execution_count": null,
   "source": "",
   "id": "3f6ffde44f5a307"
  }
 ],
 "metadata": {
  "kernelspec": {
   "display_name": "Python 3",
   "language": "python",
   "name": "python3"
  },
  "language_info": {
   "codemirror_mode": {
    "name": "ipython",
    "version": 2
   },
   "file_extension": ".py",
   "mimetype": "text/x-python",
   "name": "python",
   "nbconvert_exporter": "python",
   "pygments_lexer": "ipython2",
   "version": "2.7.6"
  }
 },
 "nbformat": 4,
 "nbformat_minor": 5
}
