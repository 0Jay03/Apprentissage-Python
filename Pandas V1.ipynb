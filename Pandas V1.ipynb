{
 "cells": [
  {
   "metadata": {
    "ExecuteTime": {
     "end_time": "2025-03-11T06:32:07.563916Z",
     "start_time": "2025-03-11T06:32:07.300043Z"
    }
   },
   "cell_type": "code",
   "source": [
    "import numpy as np\n",
    "import pandas as pd"
   ],
   "id": "c167dcb35adc1ec7",
   "outputs": [],
   "execution_count": 3
  },
  {
   "metadata": {},
   "cell_type": "markdown",
   "source": [
    "## DataFrame\n",
    "\n",
    ">Création d'un DataFrame à partir d'un array NumPy\n",
    "\n",
    "Il est possible de créer directement un DataFrame à partir d'un array NumPy grâce au constructeur DataFrame().\n",
    "\n",
    "L'inconvénient de cette méthode est qu'elle n'est pas très pratique et le type des données est obligatoirement le même pour toutes les colonnes.\n",
    "> \n",
    "pd.DataFrame(data, index, columns, ...)\n",
    "\n",
    "+ Le paramètre data contient les données à mettre en forme (array NumPy, liste, dictionnaire ou un autre DataFrame).\n",
    "\n",
    "+ Le paramètre index, si précisé, doit être une liste contenant les indices des entrées.\n",
    "\n",
    "+ Le paramètre columns, si précisé, doit être une liste contenant le nom des colonnes."
   ],
   "id": "b6a643733fc2c56d"
  },
  {
   "cell_type": "code",
   "id": "initial_id",
   "metadata": {
    "collapsed": true,
    "ExecuteTime": {
     "end_time": "2025-03-11T06:32:17.516118Z",
     "start_time": "2025-03-11T06:32:17.505088Z"
    }
   },
   "source": [
    "# Création d'un array NumPy \n",
    "array = np.array([[1, 2, 3, 4], \n",
    "                  [5, 6, 7, 8], \n",
    "                  [9, 10, 11, 12]])\n",
    " \n",
    "# Instanciation d'un DataFrame \n",
    "df = pd.DataFrame(data = array,                   # Les données à mettre en forme\n",
    "                  index = ['i_1', 'i_2', 'i_3'],  # Les indices de chaque entrée\n",
    "                  columns = ['A', 'B', 'C', 'D']) # Le nom des colonnes\n",
    "df\n"
   ],
   "outputs": [
    {
     "data": {
      "text/plain": [
       "     A   B   C   D\n",
       "i_1  1   2   3   4\n",
       "i_2  5   6   7   8\n",
       "i_3  9  10  11  12"
      ],
      "text/html": [
       "<div>\n",
       "<style scoped>\n",
       "    .dataframe tbody tr th:only-of-type {\n",
       "        vertical-align: middle;\n",
       "    }\n",
       "\n",
       "    .dataframe tbody tr th {\n",
       "        vertical-align: top;\n",
       "    }\n",
       "\n",
       "    .dataframe thead th {\n",
       "        text-align: right;\n",
       "    }\n",
       "</style>\n",
       "<table border=\"1\" class=\"dataframe\">\n",
       "  <thead>\n",
       "    <tr style=\"text-align: right;\">\n",
       "      <th></th>\n",
       "      <th>A</th>\n",
       "      <th>B</th>\n",
       "      <th>C</th>\n",
       "      <th>D</th>\n",
       "    </tr>\n",
       "  </thead>\n",
       "  <tbody>\n",
       "    <tr>\n",
       "      <th>i_1</th>\n",
       "      <td>1</td>\n",
       "      <td>2</td>\n",
       "      <td>3</td>\n",
       "      <td>4</td>\n",
       "    </tr>\n",
       "    <tr>\n",
       "      <th>i_2</th>\n",
       "      <td>5</td>\n",
       "      <td>6</td>\n",
       "      <td>7</td>\n",
       "      <td>8</td>\n",
       "    </tr>\n",
       "    <tr>\n",
       "      <th>i_3</th>\n",
       "      <td>9</td>\n",
       "      <td>10</td>\n",
       "      <td>11</td>\n",
       "      <td>12</td>\n",
       "    </tr>\n",
       "  </tbody>\n",
       "</table>\n",
       "</div>"
      ]
     },
     "execution_count": 5,
     "metadata": {},
     "output_type": "execute_result"
    }
   ],
   "execution_count": 5
  },
  {
   "metadata": {},
   "cell_type": "code",
   "outputs": [],
   "execution_count": null,
   "source": [
    "Ceci produit le DataFramesuivant :\n",
    "\n",
    "|     |   A   |   B   |   C   |   D   |\n",
    "|----:|-------|-------|-------|-------|\n",
    "| i_1 |   1   |   2   |   3   |   4   |\n",
    "| i_2 |   5   |   6   |   7   |   8   |\n",
    "| i_3 |   9   |  10   |  11   |  12   |"
   ],
   "id": "58ec69fa1e76b058"
  },
  {
   "metadata": {},
   "cell_type": "markdown",
   "source": [
    "> Création d'un DataFrame à partir d'un dictionnaire\n",
    "\n",
    "+ Grâce à cette technique, les colonnes peuvent être de type différent et sont déjà définie lors de la création du DataFrame."
   ],
   "id": "7eab4735f377c70e"
  },
  {
   "metadata": {
    "ExecuteTime": {
     "end_time": "2025-03-11T06:36:33.419744Z",
     "start_time": "2025-03-11T06:36:33.411566Z"
    }
   },
   "cell_type": "code",
   "source": [
    "# Création d'un dictionnaire\n",
    "dictionnaire = {'A': [1, 5, 9], \n",
    "                'B': [2, 6, 10],\n",
    "                'C': [3, 7, 11],\n",
    "                'D': [4, 8, 12]}\n",
    " \n",
    "# Instanciation d'un DataFrame \n",
    "df = pd.DataFrame(data = dictionnaire,\n",
    "                  index = ['i_1', 'i_2', 'i_3'])\n",
    "df"
   ],
   "id": "789ceb39f54b8582",
   "outputs": [
    {
     "data": {
      "text/plain": [
       "     A   B   C   D\n",
       "i_1  1   2   3   4\n",
       "i_2  5   6   7   8\n",
       "i_3  9  10  11  12"
      ],
      "text/html": [
       "<div>\n",
       "<style scoped>\n",
       "    .dataframe tbody tr th:only-of-type {\n",
       "        vertical-align: middle;\n",
       "    }\n",
       "\n",
       "    .dataframe tbody tr th {\n",
       "        vertical-align: top;\n",
       "    }\n",
       "\n",
       "    .dataframe thead th {\n",
       "        text-align: right;\n",
       "    }\n",
       "</style>\n",
       "<table border=\"1\" class=\"dataframe\">\n",
       "  <thead>\n",
       "    <tr style=\"text-align: right;\">\n",
       "      <th></th>\n",
       "      <th>A</th>\n",
       "      <th>B</th>\n",
       "      <th>C</th>\n",
       "      <th>D</th>\n",
       "    </tr>\n",
       "  </thead>\n",
       "  <tbody>\n",
       "    <tr>\n",
       "      <th>i_1</th>\n",
       "      <td>1</td>\n",
       "      <td>2</td>\n",
       "      <td>3</td>\n",
       "      <td>4</td>\n",
       "    </tr>\n",
       "    <tr>\n",
       "      <th>i_2</th>\n",
       "      <td>5</td>\n",
       "      <td>6</td>\n",
       "      <td>7</td>\n",
       "      <td>8</td>\n",
       "    </tr>\n",
       "    <tr>\n",
       "      <th>i_3</th>\n",
       "      <td>9</td>\n",
       "      <td>10</td>\n",
       "      <td>11</td>\n",
       "      <td>12</td>\n",
       "    </tr>\n",
       "  </tbody>\n",
       "</table>\n",
       "</div>"
      ]
     },
     "execution_count": 6,
     "metadata": {},
     "output_type": "execute_result"
    }
   ],
   "execution_count": 6
  },
  {
   "metadata": {},
   "cell_type": "code",
   "outputs": [],
   "execution_count": null,
   "source": "",
   "id": "d57ffd2438a3908b"
  }
 ],
 "metadata": {
  "kernelspec": {
   "display_name": "Python 3",
   "language": "python",
   "name": "python3"
  },
  "language_info": {
   "codemirror_mode": {
    "name": "ipython",
    "version": 2
   },
   "file_extension": ".py",
   "mimetype": "text/x-python",
   "name": "python",
   "nbconvert_exporter": "python",
   "pygments_lexer": "ipython2",
   "version": "2.7.6"
  }
 },
 "nbformat": 4,
 "nbformat_minor": 5
}
