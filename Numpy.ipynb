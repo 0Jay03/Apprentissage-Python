{
 "cells": [
  {
   "cell_type": "code",
   "id": "initial_id",
   "metadata": {
    "collapsed": true,
    "ExecuteTime": {
     "end_time": "2025-03-10T08:39:19.188177Z",
     "start_time": "2025-03-10T08:39:17.098276Z"
    }
   },
   "source": "import numpy as np",
   "outputs": [],
   "execution_count": 1
  },
  {
   "metadata": {
    "ExecuteTime": {
     "end_time": "2025-03-10T08:39:19.841485Z",
     "start_time": "2025-03-10T08:39:19.818394Z"
    }
   },
   "cell_type": "code",
   "source": "np.array([1,2,3])",
   "id": "17784486aeed6bac",
   "outputs": [
    {
     "data": {
      "text/plain": [
       "array([1, 2, 3])"
      ]
     },
     "execution_count": 2,
     "metadata": {},
     "output_type": "execute_result"
    }
   ],
   "execution_count": 2
  },
  {
   "metadata": {
    "ExecuteTime": {
     "end_time": "2025-03-10T08:39:21.813260Z",
     "start_time": "2025-03-10T08:39:21.795086Z"
    }
   },
   "cell_type": "code",
   "source": "np.ones(shape = (5,5))",
   "id": "5047a981524e77e2",
   "outputs": [
    {
     "data": {
      "text/plain": [
       "array([[1., 1., 1., 1., 1.],\n",
       "       [1., 1., 1., 1., 1.],\n",
       "       [1., 1., 1., 1., 1.],\n",
       "       [1., 1., 1., 1., 1.],\n",
       "       [1., 1., 1., 1., 1.]])"
      ]
     },
     "execution_count": 3,
     "metadata": {},
     "output_type": "execute_result"
    }
   ],
   "execution_count": 3
  },
  {
   "metadata": {
    "ExecuteTime": {
     "end_time": "2025-03-10T08:39:24.526283Z",
     "start_time": "2025-03-10T08:39:24.512595Z"
    }
   },
   "cell_type": "code",
   "source": "np.zeros(shape = (5,5))",
   "id": "96f33fa7cbdc300b",
   "outputs": [
    {
     "data": {
      "text/plain": [
       "array([[0., 0., 0., 0., 0.],\n",
       "       [0., 0., 0., 0., 0.],\n",
       "       [0., 0., 0., 0., 0.],\n",
       "       [0., 0., 0., 0., 0.],\n",
       "       [0., 0., 0., 0., 0.]])"
      ]
     },
     "execution_count": 4,
     "metadata": {},
     "output_type": "execute_result"
    }
   ],
   "execution_count": 4
  },
  {
   "metadata": {
    "ExecuteTime": {
     "end_time": "2025-03-10T08:39:24.965209Z",
     "start_time": "2025-03-10T08:39:24.957666Z"
    }
   },
   "cell_type": "code",
   "source": [
    "# Pour acceder  aux elements de notre matrice avec les outils de array\n",
    "a = np.ones(shape = (4,4))"
   ],
   "id": "c39f8889f01914ff",
   "outputs": [],
   "execution_count": 5
  },
  {
   "metadata": {
    "ExecuteTime": {
     "end_time": "2025-03-10T08:39:25.286543Z",
     "start_time": "2025-03-10T08:39:25.275058Z"
    }
   },
   "cell_type": "code",
   "source": "a",
   "id": "2f86bb6730837e34",
   "outputs": [
    {
     "data": {
      "text/plain": [
       "array([[1., 1., 1., 1.],\n",
       "       [1., 1., 1., 1.],\n",
       "       [1., 1., 1., 1.],\n",
       "       [1., 1., 1., 1.]])"
      ]
     },
     "execution_count": 6,
     "metadata": {},
     "output_type": "execute_result"
    }
   ],
   "execution_count": 6
  },
  {
   "metadata": {
    "ExecuteTime": {
     "end_time": "2025-03-10T08:39:25.594131Z",
     "start_time": "2025-03-10T08:39:25.584856Z"
    }
   },
   "cell_type": "code",
   "source": "a[3,2] = 999",
   "id": "94fe55c70790872f",
   "outputs": [],
   "execution_count": 7
  },
  {
   "metadata": {
    "ExecuteTime": {
     "end_time": "2025-03-10T08:39:27.435763Z",
     "start_time": "2025-03-10T08:39:27.399006Z"
    }
   },
   "cell_type": "code",
   "source": "a",
   "id": "c62a6e7f476ec640",
   "outputs": [
    {
     "data": {
      "text/plain": [
       "array([[  1.,   1.,   1.,   1.],\n",
       "       [  1.,   1.,   1.,   1.],\n",
       "       [  1.,   1.,   1.,   1.],\n",
       "       [  1.,   1., 999.,   1.]])"
      ]
     },
     "execution_count": 8,
     "metadata": {},
     "output_type": "execute_result"
    }
   ],
   "execution_count": 8
  },
  {
   "metadata": {
    "ExecuteTime": {
     "end_time": "2025-03-10T08:39:30.726891Z",
     "start_time": "2025-03-10T08:39:30.687392Z"
    }
   },
   "cell_type": "code",
   "source": "a[3, ]      # Ici ca nous affiche tout la ligne 4 de notre matrice car elles sont comptées de 0 a 3 pour faire 4",
   "id": "6ea7bc0ec3529fd",
   "outputs": [
    {
     "data": {
      "text/plain": [
       "array([  1.,   1., 999.,   1.])"
      ]
     },
     "execution_count": 9,
     "metadata": {},
     "output_type": "execute_result"
    }
   ],
   "execution_count": 9
  },
  {
   "metadata": {
    "ExecuteTime": {
     "end_time": "2025-03-10T08:39:33.429928Z",
     "start_time": "2025-03-10T08:39:33.420213Z"
    }
   },
   "cell_type": "code",
   "source": "a[:,2]",
   "id": "ec0d234debe8a001",
   "outputs": [
    {
     "data": {
      "text/plain": [
       "array([  1.,   1.,   1., 999.])"
      ]
     },
     "execution_count": 10,
     "metadata": {},
     "output_type": "execute_result"
    }
   ],
   "execution_count": 10
  },
  {
   "metadata": {
    "ExecuteTime": {
     "end_time": "2025-03-10T08:39:33.748779Z",
     "start_time": "2025-03-10T08:39:33.744202Z"
    }
   },
   "cell_type": "code",
   "source": "",
   "id": "e13c63a832dcb24a",
   "outputs": [],
   "execution_count": null
  },
  {
   "metadata": {},
   "cell_type": "markdown",
   "source": [
    "**Exercice**\n",
    "La matrice suivante est dite diagonale par blocs parce que chaque bloc de 3x3 contient le même chiffre.\n",
    "\n",
    "```\n",
    "              [1, 1, 1, 0, 0, 0]\n",
    "              [1, 1, 1, 0, 0, 0]\n",
    "              [1, 1, 1, 0, 0, 0]\n",
    "              [0, 0, 0, -1, -1, -1]\n",
    "              [0, 0, 0, -1, -1, -1]\n",
    "              [0, 0, 0, -1, -1, -1]\n",
    "```\n",
    "\n",
    "*  En utilisant le constructeur `np.array` et cette matrice comme argument, créez une nouvelle instance de `array` et assignez là à la variable X.\n",
    "\n",
    "*  Recréez cette matrice en utilisant le slicing. Pour cela,\n",
    "  1.  Créez une matrice de taille 6x6 pleine de zéros. Vous pourrez utilisez le constructeur `np.zeros` pour cela. Notez qu'il se comporte exactement comme le constructeur `np.ones` qu'on a vu en cours.\n",
    "  2. En utilisant le slicing,\n",
    "    - assignez au premier bloc 3x3 la valeure 1\n",
    "    - Assignez au dernier bloc 3x3 la valeur 1"
   ],
   "id": "bf6cc8afa5b9bce8"
  },
  {
   "metadata": {
    "ExecuteTime": {
     "end_time": "2025-03-10T08:39:33.958707Z",
     "start_time": "2025-03-10T08:39:33.950533Z"
    }
   },
   "cell_type": "code",
   "source": [
    "# créons cette matrice avec array\n",
    "x = np.array([\n",
    "    [1, 1, 1, 0, 0, 0],\n",
    "    [1, 1, 1, 0, 0, 0],\n",
    "    [1, 1, 1, 0, 0, 0],\n",
    "    [0, 0, 0, -1, -1, -1],\n",
    "    [0, 0, 0, -1, -1, -1],\n",
    "    [0, 0, 0, -1, -1, -1]\n",
    "])"
   ],
   "id": "e9c5cdda12d7b145",
   "outputs": [],
   "execution_count": 11
  },
  {
   "metadata": {
    "ExecuteTime": {
     "end_time": "2025-03-10T08:39:34.360749Z",
     "start_time": "2025-03-10T08:39:34.347590Z"
    }
   },
   "cell_type": "code",
   "source": "x",
   "id": "c3cb4c6525fa605a",
   "outputs": [
    {
     "data": {
      "text/plain": [
       "array([[ 1,  1,  1,  0,  0,  0],\n",
       "       [ 1,  1,  1,  0,  0,  0],\n",
       "       [ 1,  1,  1,  0,  0,  0],\n",
       "       [ 0,  0,  0, -1, -1, -1],\n",
       "       [ 0,  0,  0, -1, -1, -1],\n",
       "       [ 0,  0,  0, -1, -1, -1]])"
      ]
     },
     "execution_count": 12,
     "metadata": {},
     "output_type": "execute_result"
    }
   ],
   "execution_count": 12
  },
  {
   "metadata": {
    "ExecuteTime": {
     "end_time": "2025-03-10T08:39:34.980295Z",
     "start_time": "2025-03-10T08:39:34.966812Z"
    }
   },
   "cell_type": "code",
   "source": [
    "# Creons une matrice 6x6 plaine de 0\n",
    "\n",
    "np.zeros(shape = (6,6))"
   ],
   "id": "9dd7a752dd61cb35",
   "outputs": [
    {
     "data": {
      "text/plain": [
       "array([[0., 0., 0., 0., 0., 0.],\n",
       "       [0., 0., 0., 0., 0., 0.],\n",
       "       [0., 0., 0., 0., 0., 0.],\n",
       "       [0., 0., 0., 0., 0., 0.],\n",
       "       [0., 0., 0., 0., 0., 0.],\n",
       "       [0., 0., 0., 0., 0., 0.]])"
      ]
     },
     "execution_count": 13,
     "metadata": {},
     "output_type": "execute_result"
    }
   ],
   "execution_count": 13
  },
  {
   "metadata": {
    "ExecuteTime": {
     "end_time": "2025-03-10T08:39:35.676814Z",
     "start_time": "2025-03-10T08:39:35.670193Z"
    }
   },
   "cell_type": "code",
   "source": [
    "# en Utilisant le slicing ajoutons des matrices de 3x3 de 1 au premier et dernier bloc\n",
    "\n",
    "premier_bloc = np.zeros(shape = (6,6)) # On affecte notre matrice de 6x6 de 0 a la variable premier_bloc"
   ],
   "id": "abe25072ad2cefd8",
   "outputs": [],
   "execution_count": 14
  },
  {
   "metadata": {
    "ExecuteTime": {
     "end_time": "2025-03-10T08:39:35.823117Z",
     "start_time": "2025-03-10T08:39:35.815645Z"
    }
   },
   "cell_type": "code",
   "source": "premier_bloc[0:3,0:3] = np.ones(shape= (3,3)) # Ici on dit a l'aide de [0:3,0:3] que nous situes sur les 3ere lignes et colones on dit quon affectes une matrice 3x3 de 1",
   "id": "c933bb8875072273",
   "outputs": [],
   "execution_count": 15
  },
  {
   "metadata": {
    "ExecuteTime": {
     "end_time": "2025-03-10T08:39:37.552561Z",
     "start_time": "2025-03-10T08:39:37.541465Z"
    }
   },
   "cell_type": "code",
   "source": "premier_bloc # On affiche premier_bloc où la 1ere, 2e, 3e lignes et colones  ont été remplacés par 1, 1, 1",
   "id": "d7052bdac42dfe02",
   "outputs": [
    {
     "data": {
      "text/plain": [
       "array([[1., 1., 1., 0., 0., 0.],\n",
       "       [1., 1., 1., 0., 0., 0.],\n",
       "       [1., 1., 1., 0., 0., 0.],\n",
       "       [0., 0., 0., 0., 0., 0.],\n",
       "       [0., 0., 0., 0., 0., 0.],\n",
       "       [0., 0., 0., 0., 0., 0.]])"
      ]
     },
     "execution_count": 16,
     "metadata": {},
     "output_type": "execute_result"
    }
   ],
   "execution_count": 16
  },
  {
   "metadata": {
    "ExecuteTime": {
     "end_time": "2025-03-10T08:39:43.703188Z",
     "start_time": "2025-03-10T08:39:43.695216Z"
    }
   },
   "cell_type": "code",
   "source": "premier_bloc[3:6,3:6] = np.ones(shape = (3,3)) # Cest le meme principe ici on cherche les 3 dernieres lignes et 3 dernieres colonnes pour remplacer par np.onces(shapes=(3,3)) qui donne une matrice 3x3 de 1",
   "id": "b5d6d2e43e6fc48f",
   "outputs": [],
   "execution_count": 17
  },
  {
   "metadata": {
    "ExecuteTime": {
     "end_time": "2025-03-10T08:39:48.772220Z",
     "start_time": "2025-03-10T08:39:48.754982Z"
    }
   },
   "cell_type": "code",
   "source": "premier_bloc",
   "id": "66a7a97452a479f0",
   "outputs": [
    {
     "data": {
      "text/plain": [
       "array([[1., 1., 1., 0., 0., 0.],\n",
       "       [1., 1., 1., 0., 0., 0.],\n",
       "       [1., 1., 1., 0., 0., 0.],\n",
       "       [0., 0., 0., 1., 1., 1.],\n",
       "       [0., 0., 0., 1., 1., 1.],\n",
       "       [0., 0., 0., 1., 1., 1.]])"
      ]
     },
     "execution_count": 18,
     "metadata": {},
     "output_type": "execute_result"
    }
   ],
   "execution_count": 18
  },
  {
   "metadata": {
    "ExecuteTime": {
     "end_time": "2025-03-10T08:39:56.943451Z",
     "start_time": "2025-03-10T08:39:56.764617Z"
    }
   },
   "cell_type": "code",
   "source": [
    "# Une autre methode pour faire cet exercice\n",
    "# Creation de la matrice dim 6\n",
    "A = np.array([[1, 1, 1, 0, 0, 0],\n",
    "              [1, 1, 1, 0, 0, 0],\n",
    "              [1, 1, 1, 0, 0, 0],\n",
    "              [0, 0, 0, -1, -1, -1],\n",
    "              [0, 0, 0, -1, -1, -1],\n",
    "              [0, 0, 0, -1, -1, -1]])\n",
    "# Creation d'une matrice de dimensions 6  remplies de zeros\n",
    "A = np.zeros(shape = (6,6))"
   ],
   "id": "11de9108930f9748",
   "outputs": [],
   "execution_count": 19
  },
  {
   "metadata": {
    "ExecuteTime": {
     "end_time": "2025-03-10T08:39:59.410803Z",
     "start_time": "2025-03-10T08:39:58.719498Z"
    }
   },
   "cell_type": "code",
   "source": "A",
   "id": "9501d3c39d18f7b9",
   "outputs": [
    {
     "data": {
      "text/plain": [
       "array([[0., 0., 0., 0., 0., 0.],\n",
       "       [0., 0., 0., 0., 0., 0.],\n",
       "       [0., 0., 0., 0., 0., 0.],\n",
       "       [0., 0., 0., 0., 0., 0.],\n",
       "       [0., 0., 0., 0., 0., 0.],\n",
       "       [0., 0., 0., 0., 0., 0.]])"
      ]
     },
     "execution_count": 20,
     "metadata": {},
     "output_type": "execute_result"
    }
   ],
   "execution_count": 20
  },
  {
   "metadata": {
    "ExecuteTime": {
     "end_time": "2025-03-10T08:40:00.945796Z",
     "start_time": "2025-03-10T08:40:00.934729Z"
    }
   },
   "cell_type": "code",
   "source": [
    "# Assignation de la valeur 1 au premier bloc\n",
    "A[:3,:3] = 1"
   ],
   "id": "d5c030be8e88b326",
   "outputs": [],
   "execution_count": 21
  },
  {
   "metadata": {
    "ExecuteTime": {
     "end_time": "2025-03-10T08:40:02.697429Z",
     "start_time": "2025-03-10T08:40:02.485146Z"
    }
   },
   "cell_type": "code",
   "source": "A",
   "id": "daaf0ad70c64491",
   "outputs": [
    {
     "data": {
      "text/plain": [
       "array([[1., 1., 1., 0., 0., 0.],\n",
       "       [1., 1., 1., 0., 0., 0.],\n",
       "       [1., 1., 1., 0., 0., 0.],\n",
       "       [0., 0., 0., 0., 0., 0.],\n",
       "       [0., 0., 0., 0., 0., 0.],\n",
       "       [0., 0., 0., 0., 0., 0.]])"
      ]
     },
     "execution_count": 22,
     "metadata": {},
     "output_type": "execute_result"
    }
   ],
   "execution_count": 22
  },
  {
   "metadata": {
    "ExecuteTime": {
     "end_time": "2025-03-10T08:40:03.084489Z",
     "start_time": "2025-03-10T08:40:03.072283Z"
    }
   },
   "cell_type": "code",
   "source": [
    "# Assignation de la valeur -1 au second bloc diagonal\n",
    "A[3:,3:] = -1"
   ],
   "id": "ec3aa1d634f71b60",
   "outputs": [],
   "execution_count": 23
  },
  {
   "metadata": {
    "ExecuteTime": {
     "end_time": "2025-03-10T08:40:30.381530Z",
     "start_time": "2025-03-10T08:40:30.369614Z"
    }
   },
   "cell_type": "code",
   "source": "A",
   "id": "415dd2397155aa9e",
   "outputs": [
    {
     "data": {
      "text/plain": [
       "array([[ 1.,  1.,  1.,  0.,  0.,  0.],\n",
       "       [ 1.,  1.,  1.,  0.,  0.,  0.],\n",
       "       [ 1.,  1.,  1.,  0.,  0.,  0.],\n",
       "       [ 0.,  0.,  0., -1., -1., -1.],\n",
       "       [ 0.,  0.,  0., -1., -1., -1.],\n",
       "       [ 0.,  0.,  0., -1., -1., -1.]])"
      ]
     },
     "execution_count": 43,
     "metadata": {},
     "output_type": "execute_result"
    }
   ],
   "execution_count": 43
  },
  {
   "metadata": {
    "ExecuteTime": {
     "end_time": "2025-03-10T08:40:04.030779Z",
     "start_time": "2025-03-10T08:40:04.021985Z"
    }
   },
   "cell_type": "code",
   "source": [
    "# Affichage de la matrice\n",
    "print(A)"
   ],
   "id": "95fcbc750218cb01",
   "outputs": [
    {
     "name": "stdout",
     "output_type": "stream",
     "text": [
      "[[ 1.  1.  1.  0.  0.  0.]\n",
      " [ 1.  1.  1.  0.  0.  0.]\n",
      " [ 1.  1.  1.  0.  0.  0.]\n",
      " [ 0.  0.  0. -1. -1. -1.]\n",
      " [ 0.  0.  0. -1. -1. -1.]\n",
      " [ 0.  0.  0. -1. -1. -1.]]\n"
     ]
    }
   ],
   "execution_count": 25
  },
  {
   "metadata": {
    "ExecuteTime": {
     "end_time": "2025-03-10T08:40:04.885405Z",
     "start_time": "2025-03-10T08:40:04.868102Z"
    }
   },
   "cell_type": "code",
   "source": "                                            # FIN EXERCICE SUR  Création et Indexation",
   "id": "471ba8b59579df5e",
   "outputs": [],
   "execution_count": 26
  },
  {
   "metadata": {},
   "cell_type": "markdown",
   "source": [
    "* EXERCICE 2\n",
    "* (b) À l'aide des constructeurs et du slicing des arrays, créer et afficher la matrice suivante :\n",
    "\n",
    "\n",
    "\n",
    "```\n",
    "              [0, 1, 2, 3, 4, 5],\n",
    "              [0, 1, 2, 3, 4, 5],\n",
    "              [0, 1, 2, 3, 4, 5],\n",
    "              [0, 1, 2, 3, 4, 5],\n",
    "              [0, 1, 2, 3, 4, 5]\n",
    "```\n",
    "\n",
    "Indices:\n",
    "  - Pour cela, essayez de ne pas recopier les valeurs directement dans le constructeur\n",
    "  - Vous pouvez par exemple commencer à partir d'une matrice 6x6 pleine de 0\n",
    "  - Remarquer, par exemple, que les colonnes vont de 0 à 5 et que vous savez générez ce genre de suite de chiffres entiers"
   ],
   "id": "4731d1f3886c2221"
  },
  {
   "metadata": {
    "ExecuteTime": {
     "end_time": "2025-03-10T08:40:05.652116Z",
     "start_time": "2025-03-10T08:40:05.636297Z"
    }
   },
   "cell_type": "code",
   "source": [
    "X = np.zeros([6,6])\n",
    "X"
   ],
   "id": "b3f76c0df3696f89",
   "outputs": [
    {
     "data": {
      "text/plain": [
       "array([[0., 0., 0., 0., 0., 0.],\n",
       "       [0., 0., 0., 0., 0., 0.],\n",
       "       [0., 0., 0., 0., 0., 0.],\n",
       "       [0., 0., 0., 0., 0., 0.],\n",
       "       [0., 0., 0., 0., 0., 0.],\n",
       "       [0., 0., 0., 0., 0., 0.]])"
      ]
     },
     "execution_count": 27,
     "metadata": {},
     "output_type": "execute_result"
    }
   ],
   "execution_count": 27
  },
  {
   "metadata": {
    "ExecuteTime": {
     "end_time": "2025-03-10T08:40:06.195592Z",
     "start_time": "2025-03-10T08:40:06.177740Z"
    }
   },
   "cell_type": "code",
   "source": [
    "X[0:, 0:] = range(6)\n",
    "X"
   ],
   "id": "2361767199a37403",
   "outputs": [
    {
     "data": {
      "text/plain": [
       "array([[0., 1., 2., 3., 4., 5.],\n",
       "       [0., 1., 2., 3., 4., 5.],\n",
       "       [0., 1., 2., 3., 4., 5.],\n",
       "       [0., 1., 2., 3., 4., 5.],\n",
       "       [0., 1., 2., 3., 4., 5.],\n",
       "       [0., 1., 2., 3., 4., 5.]])"
      ]
     },
     "execution_count": 28,
     "metadata": {},
     "output_type": "execute_result"
    }
   ],
   "execution_count": 28
  },
  {
   "metadata": {
    "ExecuteTime": {
     "end_time": "2025-03-10T08:40:06.722090Z",
     "start_time": "2025-03-10T08:40:06.687324Z"
    }
   },
   "cell_type": "code",
   "source": [
    "# Deuxieme methode\n",
    "B = np.zeros(shape = (6,6))\n",
    "for i in range(6):\n",
    "    B[:, i] = i\n",
    "print(B)\n",
    "    "
   ],
   "id": "470e843ca96a6b0b",
   "outputs": [
    {
     "name": "stdout",
     "output_type": "stream",
     "text": [
      "[[0. 1. 2. 3. 4. 5.]\n",
      " [0. 1. 2. 3. 4. 5.]\n",
      " [0. 1. 2. 3. 4. 5.]\n",
      " [0. 1. 2. 3. 4. 5.]\n",
      " [0. 1. 2. 3. 4. 5.]\n",
      " [0. 1. 2. 3. 4. 5.]]\n"
     ]
    }
   ],
   "execution_count": 29
  },
  {
   "metadata": {
    "ExecuteTime": {
     "end_time": "2025-03-10T08:40:07.406003Z",
     "start_time": "2025-03-10T08:40:07.375500Z"
    }
   },
   "cell_type": "code",
   "source": [
    "# Troisieme solution\n",
    "M = np.zeros(shape = (6, 6))\n",
    "\n",
    "# On remplace chaque ligne par 'np.array([0, 1, 2, 3, 4, 5])''\n",
    "for i in range(6):\n",
    "    M[i,:] = np.array([0, 1, 2, 3, 4, 5])\n",
    "\n",
    "# Affichage de la matrice\n",
    "print(M)"
   ],
   "id": "26d49152e91303e",
   "outputs": [
    {
     "name": "stdout",
     "output_type": "stream",
     "text": [
      "[[0. 1. 2. 3. 4. 5.]\n",
      " [0. 1. 2. 3. 4. 5.]\n",
      " [0. 1. 2. 3. 4. 5.]\n",
      " [0. 1. 2. 3. 4. 5.]\n",
      " [0. 1. 2. 3. 4. 5.]\n",
      " [0. 1. 2. 3. 4. 5.]]\n"
     ]
    }
   ],
   "execution_count": 30
  },
  {
   "metadata": {
    "ExecuteTime": {
     "end_time": "2025-03-10T08:40:08.292058Z",
     "start_time": "2025-03-10T08:40:08.280751Z"
    }
   },
   "cell_type": "code",
   "source": "",
   "id": "9f4c95432b379754",
   "outputs": [],
   "execution_count": null
  },
  {
   "metadata": {},
   "cell_type": "markdown",
   "source": [
    "Opération sur les array\n",
    "\n",
    "Le module numpy contient des fonctions mathématiques de base telles que :\n",
    "\n",
    "| Fonction                 | Fonction Numpy       |\n",
    "|--------------------------|----------------------|\n",
    "| exp(x)                   | np.exp(x)            |\n",
    "| log(x)                   | np.log(x)            |\n",
    "| sin(x)                   | np.sin(x)            |\n",
    "| cos(x)                   | np.cos(x)            |\n",
    "| Arrondi à n décimales    | np.round(x, decimals=n) |"
   ],
   "id": "34c0f8cd09d623df"
  },
  {
   "metadata": {
    "ExecuteTime": {
     "end_time": "2025-03-10T08:40:08.730419Z",
     "start_time": "2025-03-10T08:40:08.697708Z"
    }
   },
   "cell_type": "code",
   "source": [
    "x = np.array([_/100 for _ in range(300)])\n",
    "x"
   ],
   "id": "f511ce361adbe059",
   "outputs": [
    {
     "data": {
      "text/plain": [
       "array([0.  , 0.01, 0.02, 0.03, 0.04, 0.05, 0.06, 0.07, 0.08, 0.09, 0.1 ,\n",
       "       0.11, 0.12, 0.13, 0.14, 0.15, 0.16, 0.17, 0.18, 0.19, 0.2 , 0.21,\n",
       "       0.22, 0.23, 0.24, 0.25, 0.26, 0.27, 0.28, 0.29, 0.3 , 0.31, 0.32,\n",
       "       0.33, 0.34, 0.35, 0.36, 0.37, 0.38, 0.39, 0.4 , 0.41, 0.42, 0.43,\n",
       "       0.44, 0.45, 0.46, 0.47, 0.48, 0.49, 0.5 , 0.51, 0.52, 0.53, 0.54,\n",
       "       0.55, 0.56, 0.57, 0.58, 0.59, 0.6 , 0.61, 0.62, 0.63, 0.64, 0.65,\n",
       "       0.66, 0.67, 0.68, 0.69, 0.7 , 0.71, 0.72, 0.73, 0.74, 0.75, 0.76,\n",
       "       0.77, 0.78, 0.79, 0.8 , 0.81, 0.82, 0.83, 0.84, 0.85, 0.86, 0.87,\n",
       "       0.88, 0.89, 0.9 , 0.91, 0.92, 0.93, 0.94, 0.95, 0.96, 0.97, 0.98,\n",
       "       0.99, 1.  , 1.01, 1.02, 1.03, 1.04, 1.05, 1.06, 1.07, 1.08, 1.09,\n",
       "       1.1 , 1.11, 1.12, 1.13, 1.14, 1.15, 1.16, 1.17, 1.18, 1.19, 1.2 ,\n",
       "       1.21, 1.22, 1.23, 1.24, 1.25, 1.26, 1.27, 1.28, 1.29, 1.3 , 1.31,\n",
       "       1.32, 1.33, 1.34, 1.35, 1.36, 1.37, 1.38, 1.39, 1.4 , 1.41, 1.42,\n",
       "       1.43, 1.44, 1.45, 1.46, 1.47, 1.48, 1.49, 1.5 , 1.51, 1.52, 1.53,\n",
       "       1.54, 1.55, 1.56, 1.57, 1.58, 1.59, 1.6 , 1.61, 1.62, 1.63, 1.64,\n",
       "       1.65, 1.66, 1.67, 1.68, 1.69, 1.7 , 1.71, 1.72, 1.73, 1.74, 1.75,\n",
       "       1.76, 1.77, 1.78, 1.79, 1.8 , 1.81, 1.82, 1.83, 1.84, 1.85, 1.86,\n",
       "       1.87, 1.88, 1.89, 1.9 , 1.91, 1.92, 1.93, 1.94, 1.95, 1.96, 1.97,\n",
       "       1.98, 1.99, 2.  , 2.01, 2.02, 2.03, 2.04, 2.05, 2.06, 2.07, 2.08,\n",
       "       2.09, 2.1 , 2.11, 2.12, 2.13, 2.14, 2.15, 2.16, 2.17, 2.18, 2.19,\n",
       "       2.2 , 2.21, 2.22, 2.23, 2.24, 2.25, 2.26, 2.27, 2.28, 2.29, 2.3 ,\n",
       "       2.31, 2.32, 2.33, 2.34, 2.35, 2.36, 2.37, 2.38, 2.39, 2.4 , 2.41,\n",
       "       2.42, 2.43, 2.44, 2.45, 2.46, 2.47, 2.48, 2.49, 2.5 , 2.51, 2.52,\n",
       "       2.53, 2.54, 2.55, 2.56, 2.57, 2.58, 2.59, 2.6 , 2.61, 2.62, 2.63,\n",
       "       2.64, 2.65, 2.66, 2.67, 2.68, 2.69, 2.7 , 2.71, 2.72, 2.73, 2.74,\n",
       "       2.75, 2.76, 2.77, 2.78, 2.79, 2.8 , 2.81, 2.82, 2.83, 2.84, 2.85,\n",
       "       2.86, 2.87, 2.88, 2.89, 2.9 , 2.91, 2.92, 2.93, 2.94, 2.95, 2.96,\n",
       "       2.97, 2.98, 2.99])"
      ]
     },
     "execution_count": 31,
     "metadata": {},
     "output_type": "execute_result"
    }
   ],
   "execution_count": 31
  },
  {
   "metadata": {
    "ExecuteTime": {
     "end_time": "2025-03-10T08:40:09.152870Z",
     "start_time": "2025-03-10T08:40:09.135815Z"
    }
   },
   "cell_type": "code",
   "source": "np.exp(x)",
   "id": "30bdad6efb149bcb",
   "outputs": [
    {
     "data": {
      "text/plain": [
       "array([ 1.        ,  1.01005017,  1.02020134,  1.03045453,  1.04081077,\n",
       "        1.0512711 ,  1.06183655,  1.07250818,  1.08328707,  1.09417428,\n",
       "        1.10517092,  1.11627807,  1.12749685,  1.13882838,  1.1502738 ,\n",
       "        1.16183424,  1.17351087,  1.18530485,  1.19721736,  1.2092496 ,\n",
       "        1.22140276,  1.23367806,  1.24607673,  1.25860001,  1.27124915,\n",
       "        1.28402542,  1.29693009,  1.30996445,  1.32312981,  1.33642749,\n",
       "        1.34985881,  1.36342511,  1.37712776,  1.39096813,  1.40494759,\n",
       "        1.41906755,  1.43332941,  1.44773461,  1.46228459,  1.47698079,\n",
       "        1.4918247 ,  1.50681779,  1.52196156,  1.53725752,  1.55270722,\n",
       "        1.56831219,  1.58407398,  1.59999419,  1.6160744 ,  1.63231622,\n",
       "        1.64872127,  1.66529119,  1.68202765,  1.69893231,  1.71600686,\n",
       "        1.73325302,  1.7506725 ,  1.76826705,  1.78603843,  1.80398842,\n",
       "        1.8221188 ,  1.8404314 ,  1.85892804,  1.87761058,  1.89648088,\n",
       "        1.91554083,  1.93479233,  1.95423732,  1.97387773,  1.99371553,\n",
       "        2.01375271,  2.03399126,  2.05443321,  2.07508061,  2.09593551,\n",
       "        2.11700002,  2.13827622,  2.15976625,  2.18147227,  2.20339643,\n",
       "        2.22554093,  2.24790799,  2.27049984,  2.29331874,  2.31636698,\n",
       "        2.33964685,  2.36316069,  2.38691085,  2.41089971,  2.43512965,\n",
       "        2.45960311,  2.48432253,  2.50929039,  2.53450918,  2.55998142,\n",
       "        2.58570966,  2.61169647,  2.63794446,  2.66445624,  2.69123447,\n",
       "        2.71828183,  2.74560102,  2.77319476,  2.80106583,  2.82921701,\n",
       "        2.85765112,  2.88637099,  2.9153795 ,  2.94467955,  2.97427407,\n",
       "        3.00416602,  3.03435839,  3.0648542 ,  3.0956565 ,  3.12676837,\n",
       "        3.15819291,  3.18993328,  3.22199264,  3.2543742 ,  3.28708121,\n",
       "        3.32011692,  3.35348465,  3.38718773,  3.42122954,  3.45561346,\n",
       "        3.49034296,  3.52542149,  3.56085256,  3.59663973,  3.63278656,\n",
       "        3.66929667,  3.70617371,  3.74342138,  3.78104339,  3.81904351,\n",
       "        3.85742553,  3.8961933 ,  3.9353507 ,  3.97490163,  4.01485005,\n",
       "        4.05519997,  4.0959554 ,  4.13712044,  4.17869919,  4.22069582,\n",
       "        4.26311452,  4.30595953,  4.34923514,  4.39294568,  4.43709552,\n",
       "        4.48168907,  4.52673079,  4.5722252 ,  4.61817682,  4.66459027,\n",
       "        4.71147018,  4.75882125,  4.80664819,  4.85495581,  4.90374893,\n",
       "        4.95303242,  5.00281123,  5.05309032,  5.10387472,  5.15516951,\n",
       "        5.20697983,  5.25931084,  5.3121678 ,  5.36555597,  5.41948071,\n",
       "        5.47394739,  5.52896148,  5.58452846,  5.64065391,  5.69734342,\n",
       "        5.75460268,  5.81243739,  5.87085336,  5.92985642,  5.98945247,\n",
       "        6.04964746,  6.11044743,  6.17185845,  6.23388666,  6.29653826,\n",
       "        6.35981952,  6.42373677,  6.4882964 ,  6.55350486,  6.61936868,\n",
       "        6.68589444,  6.7530888 ,  6.82095847,  6.88951024,  6.95875097,\n",
       "        7.02868758,  7.09932707,  7.17067649,  7.24274299,  7.31553376,\n",
       "        7.3890561 ,  7.46331735,  7.53832493,  7.61408636,  7.6906092 ,\n",
       "        7.76790111,  7.84596981,  7.92482312,  8.00446891,  8.08491516,\n",
       "        8.16616991,  8.24824128,  8.33113749,  8.41486681,  8.49943763,\n",
       "        8.5848584 ,  8.67113766,  8.75828404,  8.84630626,  8.93521311,\n",
       "        9.0250135 ,  9.11571639,  9.20733087,  9.29986608,  9.39333129,\n",
       "        9.48773584,  9.58308917,  9.67940081,  9.77668041,  9.87493768,\n",
       "        9.97418245, 10.07442466, 10.17567431, 10.27794153, 10.38123656,\n",
       "       10.48556972, 10.59095145, 10.69739228, 10.80490286, 10.91349394,\n",
       "       11.02317638, 11.13396115, 11.24585931, 11.35888208, 11.47304074,\n",
       "       11.58834672, 11.70481154, 11.82244685, 11.94126442, 12.06127612,\n",
       "       12.18249396, 12.30493006, 12.42859666, 12.55350614, 12.67967097,\n",
       "       12.80710378, 12.93581732, 13.06582444, 13.19713816, 13.3297716 ,\n",
       "       13.46373804, 13.59905085, 13.73572359, 13.8737699 , 14.01320361,\n",
       "       14.15403865, 14.2962891 , 14.43996919, 14.5850933 , 14.73167592,\n",
       "       14.87973172, 15.02927551, 15.18032224, 15.33288702, 15.4869851 ,\n",
       "       15.64263188, 15.79984295, 15.95863401, 16.11902095, 16.2810198 ,\n",
       "       16.44464677, 16.60991822, 16.77685067, 16.94546082, 17.11576554,\n",
       "       17.28778184, 17.46152694, 17.6370182 , 17.81427318, 17.9933096 ,\n",
       "       18.17414537, 18.35679857, 18.54128746, 18.7276305 , 18.91584631,\n",
       "       19.10595373, 19.29797176, 19.4919196 , 19.68781664, 19.88568249])"
      ]
     },
     "execution_count": 32,
     "metadata": {},
     "output_type": "execute_result"
    }
   ],
   "execution_count": 32
  },
  {
   "metadata": {
    "ExecuteTime": {
     "end_time": "2025-03-10T08:40:09.658309Z",
     "start_time": "2025-03-10T08:40:09.650265Z"
    }
   },
   "cell_type": "code",
   "source": "print(x.ndim)",
   "id": "569a6b7cb0de7eb8",
   "outputs": [
    {
     "name": "stdout",
     "output_type": "stream",
     "text": [
      "1\n"
     ]
    }
   ],
   "execution_count": 33
  },
  {
   "metadata": {
    "ExecuteTime": {
     "end_time": "2025-03-10T08:40:09.906349Z",
     "start_time": "2025-03-10T08:40:09.898589Z"
    }
   },
   "cell_type": "code",
   "source": "",
   "id": "540a9e1300a1824c",
   "outputs": [],
   "execution_count": null
  },
  {
   "metadata": {},
   "cell_type": "markdown",
   "source": [
    "Exercice 1. sur les operations sur les array\n",
    "\n",
    "* (a) Définir une fonction f prenant en argument un array X et permettant de calculer en une seule ligne de code la fonction suivante :\n",
    "> f(x)=exp(sin(x)+cos(x))\n",
    "\n",
    "\n",
    "* (b) Afficher les 10 premiers éléments du résultat arrondi à 2 décimales de la fonction f appliquée à l'array X ci-dessous  "
   ],
   "id": "d583ac9a8cc45147"
  },
  {
   "metadata": {
    "ExecuteTime": {
     "end_time": "2025-03-10T08:40:10.222256Z",
     "start_time": "2025-03-10T08:40:10.202331Z"
    }
   },
   "cell_type": "code",
   "source": [
    "# On affiche notre matrice de 0, 0.01, 0.02 etc... jusqua 100 elements du meme format\n",
    "X = np.array([i/100 for i in range(100)])\n",
    "print(X)"
   ],
   "id": "9dc4ff85043be443",
   "outputs": [
    {
     "name": "stdout",
     "output_type": "stream",
     "text": [
      "[0.   0.01 0.02 0.03 0.04 0.05 0.06 0.07 0.08 0.09 0.1  0.11 0.12 0.13\n",
      " 0.14 0.15 0.16 0.17 0.18 0.19 0.2  0.21 0.22 0.23 0.24 0.25 0.26 0.27\n",
      " 0.28 0.29 0.3  0.31 0.32 0.33 0.34 0.35 0.36 0.37 0.38 0.39 0.4  0.41\n",
      " 0.42 0.43 0.44 0.45 0.46 0.47 0.48 0.49 0.5  0.51 0.52 0.53 0.54 0.55\n",
      " 0.56 0.57 0.58 0.59 0.6  0.61 0.62 0.63 0.64 0.65 0.66 0.67 0.68 0.69\n",
      " 0.7  0.71 0.72 0.73 0.74 0.75 0.76 0.77 0.78 0.79 0.8  0.81 0.82 0.83\n",
      " 0.84 0.85 0.86 0.87 0.88 0.89 0.9  0.91 0.92 0.93 0.94 0.95 0.96 0.97\n",
      " 0.98 0.99]\n"
     ]
    }
   ],
   "execution_count": 34
  },
  {
   "metadata": {
    "ExecuteTime": {
     "end_time": "2025-03-10T08:40:10.654036Z",
     "start_time": "2025-03-10T08:40:10.628010Z"
    }
   },
   "cell_type": "code",
   "source": [
    "# On definit une fonction f(X) et on retourne ce quelle devra faire\n",
    "\n",
    "def f(X):\n",
    "    return np.exp(np.sin(X) + np.cos(X))\n",
    "\n",
    "print(f(X))"
   ],
   "id": "96a87c408b1f971c",
   "outputs": [
    {
     "name": "stdout",
     "output_type": "stream",
     "text": [
      "[2.71828183 2.74546328 2.7726365  2.79979313 2.8269247  2.85402258\n",
      " 2.88107805 2.90808226 2.93502626 2.96190097 2.98869723 3.01540575\n",
      " 3.04201719 3.06852207 3.09491088 3.12117399 3.14730172 3.17328432\n",
      " 3.19911198 3.22477484 3.25026298 3.27556645 3.30067526 3.32557941\n",
      " 3.35026887 3.37473358 3.39896349 3.42294856 3.44667875 3.47014403\n",
      " 3.4933344  3.51623989 3.53885058 3.56115657 3.58314805 3.60481525\n",
      " 3.62614847 3.6471381  3.66777461 3.68804857 3.70795064 3.72747161\n",
      " 3.74660237 3.76533394 3.78365748 3.80156429 3.81904581 3.83609366\n",
      " 3.8526996  3.86885558 3.8845537  3.89978629 3.91454584 3.92882505\n",
      " 3.94261683 3.9559143  3.96871081 3.98099992 3.99277543 4.00403139\n",
      " 4.01476208 4.02496203 4.03462604 4.04374914 4.05232666 4.06035417\n",
      " 4.06782754 4.0747429  4.08109667 4.08688554 4.0921065  4.09675684\n",
      " 4.10083414 4.10433625 4.10726136 4.10960793 4.11137473 4.11256083\n",
      " 4.11316563 4.11318879 4.1126303  4.11149047 4.10976988 4.10746944\n",
      " 4.10459035 4.10113412 4.09710256 4.09249777 4.08732214 4.08157839\n",
      " 4.07526949 4.06839873 4.06096966 4.05298612 4.04445224 4.03537242\n",
      " 4.02575131 4.01559385 4.00490523 3.99369089]\n"
     ]
    }
   ],
   "execution_count": 35
  },
  {
   "metadata": {
    "ExecuteTime": {
     "end_time": "2025-03-10T08:40:11.251304Z",
     "start_time": "2025-03-10T08:40:11.192764Z"
    }
   },
   "cell_type": "code",
   "source": [
    "# On arrondi les 10 premiers elements a 2 chiffres apres la virgule\n",
    "\n",
    "result = f(X)\n",
    "\n",
    "valeur_arrondi = np.round(result, decimals = 2) # On rappelle que la syntaxe doit etre np.round(nom_var, decimals = nombre de chiffre après la virgule)\n",
    "\n",
    "print(valeur_arrondi[:10]) # L indexation fonctionne bien ici et pour acceder aux 10 premiers elements on a :10\n"
   ],
   "id": "8fd99e58ada28e0",
   "outputs": [
    {
     "name": "stdout",
     "output_type": "stream",
     "text": [
      "[2.72 2.75 2.77 2.8  2.83 2.85 2.88 2.91 2.94 2.96]\n"
     ]
    }
   ],
   "execution_count": 36
  },
  {
   "metadata": {
    "ExecuteTime": {
     "end_time": "2025-03-10T08:40:11.771291Z",
     "start_time": "2025-03-10T08:40:11.764647Z"
    }
   },
   "cell_type": "code",
   "source": "",
   "id": "e36d39190b5ef250",
   "outputs": [],
   "execution_count": null
  },
  {
   "metadata": {},
   "cell_type": "markdown",
   "source": [
    "* (c) Définir une fonction f_python qui effectue la même opération sur chaque élément de X à l'aide d'une boucle for.\n",
    "> Les dimensions d'un array X peuvent être récupérées à l'aide de l'attribut shape de X qui est un tuple : shape = X.shape.\n",
    ">\n",
    "> Pour un array à une dimension, le nombre d'éléments contenus dans cet array correspond au premier élément de sa shape : n = X.shape[0]."
   ],
   "id": "7b93303680f0020f"
  },
  {
   "metadata": {
    "ExecuteTime": {
     "end_time": "2025-03-10T08:40:12.200949Z",
     "start_time": "2025-03-10T08:40:12.177995Z"
    }
   },
   "cell_type": "code",
   "source": [
    "une_liste = [i/100 for i in range(100)]\n",
    "#une_liste"
   ],
   "id": "79713ea9aa4029de",
   "outputs": [],
   "execution_count": 37
  },
  {
   "metadata": {
    "ExecuteTime": {
     "end_time": "2025-03-10T08:40:12.611170Z",
     "start_time": "2025-03-10T08:40:12.581300Z"
    }
   },
   "cell_type": "code",
   "source": [
    "# Ici on utilise la defintion de la fonction et on utilise la boucle for \n",
    "import math\n",
    "\n",
    "def f_python():\n",
    "    \n",
    "    resultats = []\n",
    "    \n",
    "    for i in une_liste:\n",
    "        \n",
    "        resultat = math.exp(math.sin(i) + math.cos(i))\n",
    "        \n",
    "        resultats.append(resultat)\n",
    "        \n",
    "    return resultats\n",
    "#print(f_python())"
   ],
   "id": "861b5b364f8a0ee5",
   "outputs": [],
   "execution_count": 38
  },
  {
   "metadata": {
    "ExecuteTime": {
     "end_time": "2025-03-10T08:40:13.038966Z",
     "start_time": "2025-03-10T08:40:13.028927Z"
    }
   },
   "cell_type": "code",
   "source": [
    "# Autre methode en utilisant les listes , celle ci utilise la comprehension de liste\n",
    "\n",
    "import math\n",
    "\n",
    "une_liste = [i / 100 for i in range(100)]\n",
    "\n",
    "f_python = [math.exp(math.sin(i) + math.cos(i)) for i in une_liste]\n",
    "\n",
    "# print(f_python)"
   ],
   "id": "d5386ba91e6e1f4e",
   "outputs": [],
   "execution_count": 39
  },
  {
   "metadata": {
    "ExecuteTime": {
     "end_time": "2025-03-10T08:40:13.621468Z",
     "start_time": "2025-03-10T08:40:13.610181Z"
    }
   },
   "cell_type": "code",
   "source": [
    "# Les deux versions ci dessus sont juste mais on na pas utilisé X.shape\n",
    "\n",
    "def f_python(X):\n",
    "    \n",
    "    n = X.shape[0]\n",
    "    \n",
    "    for i in range(n):\n",
    "        \n",
    "        X[i] = np.exp(np.sin(X[i]) + np.cos(X[i]))\n",
    "print(X)"
   ],
   "id": "191faabf8f385ab0",
   "outputs": [
    {
     "name": "stdout",
     "output_type": "stream",
     "text": [
      "[0.   0.01 0.02 0.03 0.04 0.05 0.06 0.07 0.08 0.09 0.1  0.11 0.12 0.13\n",
      " 0.14 0.15 0.16 0.17 0.18 0.19 0.2  0.21 0.22 0.23 0.24 0.25 0.26 0.27\n",
      " 0.28 0.29 0.3  0.31 0.32 0.33 0.34 0.35 0.36 0.37 0.38 0.39 0.4  0.41\n",
      " 0.42 0.43 0.44 0.45 0.46 0.47 0.48 0.49 0.5  0.51 0.52 0.53 0.54 0.55\n",
      " 0.56 0.57 0.58 0.59 0.6  0.61 0.62 0.63 0.64 0.65 0.66 0.67 0.68 0.69\n",
      " 0.7  0.71 0.72 0.73 0.74 0.75 0.76 0.77 0.78 0.79 0.8  0.81 0.82 0.83\n",
      " 0.84 0.85 0.86 0.87 0.88 0.89 0.9  0.91 0.92 0.93 0.94 0.95 0.96 0.97\n",
      " 0.98 0.99]\n"
     ]
    }
   ],
   "execution_count": 40
  },
  {
   "metadata": {
    "ExecuteTime": {
     "end_time": "2025-03-10T08:40:14.228864Z",
     "start_time": "2025-03-10T08:40:14.219047Z"
    }
   },
   "cell_type": "code",
   "source": [
    "n = X.shape[0]\n",
    "n"
   ],
   "id": "2c2737743234328e",
   "outputs": [
    {
     "data": {
      "text/plain": [
       "100"
      ]
     },
     "execution_count": 41,
     "metadata": {},
     "output_type": "execute_result"
    }
   ],
   "execution_count": 41
  },
  {
   "metadata": {
    "ExecuteTime": {
     "end_time": "2025-03-10T08:40:14.885807Z",
     "start_time": "2025-03-10T08:40:14.876106Z"
    }
   },
   "cell_type": "code",
   "source": "",
   "id": "d300a76ce710261e",
   "outputs": [],
   "execution_count": null
  },
  {
   "metadata": {},
   "cell_type": "markdown",
   "source": [
    "Exemple de la rapidité d'exécution sur un array de 10M de valeurs\n",
    "\n",
    "Test de comparaison à faire avec une boucle for"
   ],
   "id": "45a9890a12287d17"
  },
  {
   "metadata": {
    "ExecuteTime": {
     "end_time": "2025-03-10T08:40:29.378796Z",
     "start_time": "2025-03-10T08:40:15.160009Z"
    }
   },
   "cell_type": "code",
   "source": [
    "from time import time\n",
    "\n",
    "# Création d'un array à 10 millions de valeurs\n",
    "X = np.array([i/1e7 for i in range(int(1e7))])\n",
    "\n",
    "heure_debut = time()\n",
    "f(X)\n",
    "heure_fin = time()\n",
    "\n",
    "temps = heure_fin - heure_debut\n",
    "\n",
    "print(\"Le calcul de f avec une boucle for a pris\", temps, \"secondes\")"
   ],
   "id": "f983d1f6629da78e",
   "outputs": [
    {
     "name": "stdout",
     "output_type": "stream",
     "text": [
      "Le calcul de f avec une boucle for a pris 2.991016387939453 secondes\n"
     ]
    }
   ],
   "execution_count": 42
  },
  {
   "metadata": {
    "ExecuteTime": {
     "end_time": "2025-03-10T08:40:29.490170Z",
     "start_time": "2025-03-10T08:40:29.472741Z"
    }
   },
   "cell_type": "code",
   "source": "",
   "id": "e52c9a7b9e646bc1",
   "outputs": [],
   "execution_count": null
  },
  {
   "metadata": {},
   "cell_type": "markdown",
   "source": [
    "# Support - Manipulation: indexation conditionnelle d'un array\n",
    " Une technique plus avancée pour l indexation des array \n",
    " + Création d'un array de dimension 3x3\n",
    "X = np.array([[-1, 0, 30],\n",
    "              [-2, 3, -5],\n",
    "              [5, -5, 10]])\n",
    "On assigne a tous les elements neg la valeur 0\n"
   ],
   "id": "b7f8f30ddbce957"
  },
  {
   "metadata": {
    "ExecuteTime": {
     "end_time": "2025-03-10T08:42:51.888346Z",
     "start_time": "2025-03-10T08:42:51.878543Z"
    }
   },
   "cell_type": "code",
   "source": [
    "P = np.array([[-1, 0, 30],\n",
    "              [-2, 3, -5],\n",
    "              [5, -5, 10]])"
   ],
   "id": "5bf31b1d08f436fe",
   "outputs": [],
   "execution_count": 44
  },
  {
   "metadata": {
    "ExecuteTime": {
     "end_time": "2025-03-10T08:46:10.938401Z",
     "start_time": "2025-03-10T08:46:10.907692Z"
    }
   },
   "cell_type": "code",
   "source": [
    "P[P<0] = 0\n",
    "P"
   ],
   "id": "4522e0f666bdc4b8",
   "outputs": [
    {
     "data": {
      "text/plain": [
       "array([[ 0,  0, 30],\n",
       "       [ 0,  3,  0],\n",
       "       [ 5,  0, 10]])"
      ]
     },
     "execution_count": 49,
     "metadata": {},
     "output_type": "execute_result"
    }
   ],
   "execution_count": 49
  },
  {
   "metadata": {
    "ExecuteTime": {
     "end_time": "2025-03-10T08:44:59.861924Z",
     "start_time": "2025-03-10T08:44:59.855551Z"
    }
   },
   "cell_type": "code",
   "source": "",
   "id": "52fae10e51cb3e75",
   "outputs": [],
   "execution_count": null
  },
  {
   "metadata": {
    "ExecuteTime": {
     "end_time": "2025-03-10T08:46:20.977402Z",
     "start_time": "2025-03-10T08:46:20.972929Z"
    }
   },
   "cell_type": "code",
   "source": "",
   "id": "3e7cf6673c08319",
   "outputs": [],
   "execution_count": null
  },
  {
   "metadata": {},
   "cell_type": "code",
   "outputs": [],
   "execution_count": null,
   "source": "",
   "id": "bdeabd00784112e"
  }
 ],
 "metadata": {
  "kernelspec": {
   "display_name": "Python 3",
   "language": "python",
   "name": "python3"
  },
  "language_info": {
   "codemirror_mode": {
    "name": "ipython",
    "version": 2
   },
   "file_extension": ".py",
   "mimetype": "text/x-python",
   "name": "python",
   "nbconvert_exporter": "python",
   "pygments_lexer": "ipython2",
   "version": "2.7.6"
  }
 },
 "nbformat": 4,
 "nbformat_minor": 5
}
