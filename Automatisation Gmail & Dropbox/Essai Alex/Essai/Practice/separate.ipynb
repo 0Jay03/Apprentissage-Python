{
 "cells": [
  {
   "cell_type": "code",
   "id": "initial_id",
   "metadata": {
    "collapsed": true,
    "ExecuteTime": {
     "end_time": "2025-05-08T13:28:25.839294Z",
     "start_time": "2025-05-08T13:28:25.811300Z"
    }
   },
   "source": [
    "import os\n",
    "import shutil\n",
    "import pdfplumber\n",
    "\n",
    "# Répertoire contenant les fichiers PDF à analyser\n",
    "repertoire_source = 'C:/Users/user/Downloads/Rechnung_2025 - Copie'\n",
    "\n",
    "# Répertoires de destination\n",
    "dossier_benz = os.path.join(repertoire_source, \"Benz\")\n",
    "dossier_wurth = os.path.join(repertoire_source, \"Würth\")\n",
    "dossier_ADKO = os.path.join(repertoire_source, \"ADKO\")\n",
    "dossier_BTI_BEFESTIGUNGSTECHNIK = os.path.join(repertoire_source, \"BTI BEFESTIGUNGSTECHNIK\")\n",
    "dossier_FISCHER = os.path.join(repertoire_source, \"FISCHER\")\n",
    "dossier_SCHRADE = os.path.join(repertoire_source, \"SCHRADE\")\n",
    "dossier_autres = os.path.join(repertoire_source, \"Autres\")\n",
    "\n",
    "# Crée les dossiers s'ils n'existent pas\n",
    "os.makedirs(dossier_ADKO, exist_ok=True)\n",
    "os.makedirs(dossier_BTI_BEFESTIGUNGSTECHNIK, exist_ok=True)\n",
    "os.makedirs(dossier_FISCHER, exist_ok=True)\n",
    "os.makedirs(dossier_SCHRADE, exist_ok=True)\n",
    "os.makedirs(dossier_autres, exist_ok=True)\n",
    "\n",
    "# Parcours des fichiers dans le dossier source\n",
    "for fichier in os.listdir(repertoire_source):\n",
    "    if fichier.lower().endswith(\".pdf\"):\n",
    "        chemin_pdf = os.path.join(repertoire_source, fichier)\n",
    "\n",
    "        try:\n",
    "            with pdfplumber.open(chemin_pdf) as pdf:\n",
    "                texte_complet = \"\"\n",
    "                for page in pdf.pages:\n",
    "                    texte_complet += page.extract_text() or \"\"\n",
    "                pdf.close()  # fermeture explicite ici\n",
    "                if \"ADKO\" in texte_complet:\n",
    "                    shutil.move(chemin_pdf, os.path.join(dossier_ADKO, fichier))\n",
    "                    print(f\"✅ Déplacé vers ADKO : {fichier}\")\n",
    "                elif \"BTI BEFESTIGUNGSTECHNIK\" in texte_complet:\n",
    "                    shutil.move(chemin_pdf, os.path.join(dossier_BTI_BEFESTIGUNGSTECHNIK, fichier))\n",
    "                    print(f\"✅ Déplacé vers BTI BEFESTIGUNGSTECHNIK : {fichier}\")\n",
    "                elif \"FISCHER\" in texte_complet:\n",
    "                    shutil.move(chemin_pdf, os.path.join(dossier_FISCHER, fichier))\n",
    "                    print(f\"✅ Déplacé vers FISCHER : {fichier}\")\n",
    "                elif \"Schrade\" in texte_complet:\n",
    "                    shutil.move(chemin_pdf, os.path.join(dossier_SCHRADE, fichier))\n",
    "                    print(f\"✅ Déplacé vers Schrade : {fichier}\")\n",
    "                else:\n",
    "                    shutil.move(chemin_pdf, os.path.join(dossier_autres, fichier))\n",
    "                    print(f\"📁 Déplacé vers Autres : {fichier}\")\n",
    "\n",
    "        except Exception as e:\n",
    "            print(f\"❌ Erreur avec {fichier} : {e}\")\n",
    "import logging\n",
    "logging.getLogger(\"pdfplumber\").setLevel(logging.CRITICAL)\n",
    "logging.getLogger(\"PyPDF2\").setLevel(logging.CRITICAL)\n",
    "\n"
   ],
   "outputs": [],
   "execution_count": 25
  },
  {
   "metadata": {},
   "cell_type": "code",
   "outputs": [],
   "execution_count": null,
   "source": "",
   "id": "6933302774ef651d"
  },
  {
   "metadata": {
    "ExecuteTime": {
     "end_time": "2025-05-08T13:29:24.143681Z",
     "start_time": "2025-05-08T13:29:24.125567Z"
    }
   },
   "cell_type": "code",
   "source": [
    "import os\n",
    "import shutil\n",
    "import pdfplumber\n",
    "\n",
    "# Répertoire contenant les fichiers PDF à analyser\n",
    "repertoire_source = \"C:/Users/user/Downloads/Lieferung_2025 - Copie\"\n",
    "\n",
    "# Répertoires de destination\n",
    "dossier_benz = os.path.join(repertoire_source, \"Benz\")\n",
    "dossier_wurth = os.path.join(repertoire_source, \"Würth\")\n",
    "dossier_autres = os.path.join(repertoire_source, \"Autres\")\n",
    "\n",
    "# Crée les dossiers s'ils n'existent pas\n",
    "os.makedirs(dossier_benz, exist_ok=True)\n",
    "os.makedirs(dossier_wurth, exist_ok=True)\n",
    "os.makedirs(dossier_autres, exist_ok=True)\n",
    "\n",
    "# Parcours des fichiers dans le dossier source\n",
    "for fichier in os.listdir(repertoire_source):\n",
    "    if fichier.lower().endswith(\".pdf\"):\n",
    "        chemin_pdf = os.path.join(repertoire_source, fichier)\n",
    "\n",
    "        try:\n",
    "            with pdfplumber.open(chemin_pdf) as pdf:\n",
    "                texte_complet = \"\"\n",
    "                for page in pdf.pages:\n",
    "                    texte_complet += page.extract_text() or \"\"\n",
    "                pdf.close()  # fermeture explicite ici\n",
    "                if \"BENZ GmbH\" in texte_complet:\n",
    "                    shutil.move(chemin_pdf, os.path.join(dossier_benz, fichier))\n",
    "                    print(f\"✅ Déplacé vers Benz : {fichier}\")\n",
    "                elif \"Würth GmbH\" in texte_complet:\n",
    "                    shutil.move(chemin_pdf, os.path.join(dossier_wurth, fichier))\n",
    "                    print(f\"✅ Déplacé vers Würth : {fichier}\")\n",
    "                else:\n",
    "                    shutil.move(chemin_pdf, os.path.join(dossier_autres, fichier))\n",
    "                    print(f\"📁 Déplacé vers Autres : {fichier}\")\n",
    "\n",
    "        except Exception as e:\n",
    "            print(f\"❌ Erreur avec {fichier} : {e}\")\n",
    "\n",
    "import logging\n",
    "logging.getLogger(\"pdfplumber\").setLevel(logging.CRITICAL)\n",
    "logging.getLogger(\"PyPDF2\").setLevel(logging.CRITICAL)\n",
    "\n"
   ],
   "id": "6a70c97d3a8b2d7c",
   "outputs": [],
   "execution_count": 26
  },
  {
   "metadata": {},
   "cell_type": "code",
   "outputs": [],
   "execution_count": null,
   "source": "",
   "id": "67097b6fed594a25"
  },
  {
   "metadata": {},
   "cell_type": "code",
   "outputs": [],
   "execution_count": null,
   "source": "",
   "id": "8eae1c6e0de70d87"
  }
 ],
 "metadata": {
  "kernelspec": {
   "display_name": "Python 3",
   "language": "python",
   "name": "python3"
  },
  "language_info": {
   "codemirror_mode": {
    "name": "ipython",
    "version": 2
   },
   "file_extension": ".py",
   "mimetype": "text/x-python",
   "name": "python",
   "nbconvert_exporter": "python",
   "pygments_lexer": "ipython2",
   "version": "2.7.6"
  }
 },
 "nbformat": 4,
 "nbformat_minor": 5
}
