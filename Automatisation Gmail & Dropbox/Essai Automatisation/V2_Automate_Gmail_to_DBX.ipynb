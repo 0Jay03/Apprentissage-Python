{
 "cells": [
  {
   "metadata": {},
   "cell_type": "markdown",
   "source": "# REQUIREMENTS:",
   "id": "28c393b1bfebee14"
  },
  {
   "metadata": {
    "ExecuteTime": {
     "end_time": "2025-04-12T08:38:05.627307Z",
     "start_time": "2025-04-12T08:38:05.611613Z"
    }
   },
   "cell_type": "code",
   "source": [
    "# Cellule 1 : Paramètres utilisateurs\n",
    "\n",
    "# Remplis les informations ci-dessous\n",
    "EMAIL = \"sergealexai@gmail.com\"\n",
    "\n",
    "PASSWORD = \"fdli szqv wtqj uwyu\" # Il s'agit ici du mot de passe des applications\n",
    "\n",
    "DROPBOX_ACCESS_TOKEN = \"sl.u.AFo9z0CrAzJ3D82XrrqT4nCdSHLx-XmaqL4OC2ZHt76HUnjcA08NEA7XlYpPmEfJX17tTDeyrn6h2glEgiYNSjb7HLFQ6wSfiTlZMuSE1VTpihJDEmq_VJA80-Kjqz1DptSWul5AkpwaymXzwtFezmCueid8yq0fT1XEvFHPscSOA9Y7TmAQJopcMvU4QWjX22tz1OKOwFzIzQm6Oajt7OY2wSQJ6hY37OJS5od94yVJrYDxvZxNUnKC6O11uiWcP8kqUVUJ0BKU0E09b359PjRkUAmSw-pRAQ24Bvkj_l8NTG87j8PRxeSz9DSXdhlSlYxxxJD5epV_TKBxsMURE1G6E7B-8r4Gi7Mq7hdN-aEFab6vGI5iipWoFtxVzYQn_w5isb2AIcAPnjUoiVyYMvxsTIerOwoZKlYS1iA6NYfj6y7yR5585kbWLu9DCK--VlKNhI8mPpR4SNnf4z9YpZWh4Kk_gcbYsIs18m6iqVOhzmqqIDNu-OkR5g1HS2ZMhfxW27CgcKnG3zlmev9aLhnSmxfQD5wvrbbz1ydG4kNLZIBWzJqGNwB3pLlnLX7Z1ydoZuy7HM7_BtwRm3dIwElSBmeE8ecqNqkowaRp0Xdu0rCCnRCaJA8MuLDp0D4sWmE1WypLlfTuLeINR5YPn31NmLuMMd-cUIB2Pqf7RrOEakd7_x_sKHGxVJvOSqUFB6vAZvsvFsRp5GB9ubRzfXPwMLMti8omdONGjZ19zrGkO678SRSrtUX-gXKB8Mc0kpoJ18yrGQLVKuiOEy4oUv033S8jX2KWLcTK8g_vFbNyx_BpFSeo3pqd_Zr3Jesxu96PhOrCgJK8wOxwMA_eml4LyrUMmClrzxephzHFuLU3wrV_vQuiVskiRE5T-vEp2Ex0BPsq1nHc4rXJP16hILazt-TNx4gQJoU66ObLHTxIQHTjOKuJ-G-Jpd8vB48xi8skyw404XmE0-PS3hYGOrigiwuNuxIDoafTwvmIMu3bdGllkSWw_P9qrSmQAklH-ZtuSmpQ-87bx5Y14KoF88OXwAfQTo505YoDaP6HxHN-ipQeEN5okYYNcMpRCmch_PBTFMrwQY2AaxwQKnMpgnNdnhwU6raVg_UJ0KKQUj1ycKICCknk4Mv1A5UfbJECT5pLPNlSMzQVDdHu9MO1OfZBW9ypP0OpXrBZX7x1V2iaf9xrwRFq7wGyXab0s24m29FmL9465Y76xInOpQLAJjnLcZnatQCb4m8n4p3umc2ISNveoS4yAsaLlBtlwwwUg8sqPIgfOy_9xaV0-GgNNaNNdW8iDP1bu3E9-AgF-fuzXLqrQwpdgVU4xrM3wP9e9m6gOtrZqo5NyDfBOqGNBjGhhmucsttyEwJdtUW0SPMIae1U31O6ruFFXtTdOmVlxbBQEcET7mwSpXE0YDJawWb5mCfQeXIPHNfk-OsCNXPwtQ\"\n",
    "\n",
    "DROPBOX_FOLDER = \"/Dossier1/Dossier1.1\""
   ],
   "id": "5b504d3725ae7671",
   "outputs": [],
   "execution_count": 52
  },
  {
   "metadata": {},
   "cell_type": "markdown",
   "source": [
    "# Step 01:\n",
    "## Connexion vers le compte mail"
   ],
   "id": "a382cfe014e9d910"
  },
  {
   "cell_type": "code",
   "id": "initial_id",
   "metadata": {
    "collapsed": true,
    "ExecuteTime": {
     "end_time": "2025-04-12T08:38:17.238445Z",
     "start_time": "2025-04-12T08:38:07.987990Z"
    }
   },
   "source": [
    "# Cellule 2 : Connexion à Gmail \n",
    "import imaplib\n",
    "import os\n",
    "import email\n",
    "from email.header import decode_header\n",
    "import re\n",
    "try:\n",
    "    status, data = imap.fetch(num, \"(RFC822)\")\n",
    "except Exception as e:\n",
    "    print(f\"🔁 Connexion perdue, tentative de reconnexion... ({e})\")\n",
    "    imap = imaplib.IMAP4_SSL(\"imap.gmail.com\")\n",
    "    imap.login(EMAIL, PASSWORD)\n",
    "    imap.select(\"inbox\")\n",
    "    status, data = imap.fetch(num, \"(RFC822)\")\n",
    "\n",
    "           # Sélectionne la boîte de réception"
   ],
   "outputs": [
    {
     "name": "stdout",
     "output_type": "stream",
     "text": [
      "🔁 Connexion perdue, tentative de reconnexion... (socket error: [WinError 10054] Une connexion existante a dû être fermée par l’hôte distant)\n"
     ]
    }
   ],
   "execution_count": 53
  },
  {
   "metadata": {
    "ExecuteTime": {
     "end_time": "2025-04-12T06:45:36.258022Z",
     "start_time": "2025-04-12T06:45:33.920744Z"
    }
   },
   "cell_type": "code",
   "source": [
    "# Connexion IMAP à Gmail\n",
    "imap = imaplib.IMAP4_SSL(\"imap.gmail.com\")\n",
    "imap.login(EMAIL, PASSWORD)\n",
    "imap.select(\"inbox\") "
   ],
   "id": "e40cf85fc924e1cd",
   "outputs": [
    {
     "data": {
      "text/plain": [
       "('OK', [b'7'])"
      ]
     },
     "execution_count": 17,
     "metadata": {},
     "output_type": "execute_result"
    }
   ],
   "execution_count": 17
  },
  {
   "metadata": {},
   "cell_type": "markdown",
   "source": [
    "# Step 02:\n",
    "## Envoi des fichiers vers un emplacement Local (Creer un dossier pour chaque document attache (pdf) qui aura pour nom l'objet du mail + (si possible) la date)\n"
   ],
   "id": "8e76dadc4f6eefc"
  },
  {
   "metadata": {
    "ExecuteTime": {
     "end_time": "2025-04-12T08:38:17.284776Z",
     "start_time": "2025-04-12T08:38:17.264876Z"
    }
   },
   "cell_type": "code",
   "source": [
    "# 📁 Dossier racine local pour les pièces jointes PDF\n",
    "pdf_folder = \"pdf_attachments\"\n",
    "\n",
    "# 📁 Création du dossier local avec structure : pdf_attachments/<expéditeur>/<objet du mail>\n",
    "local_folder_path = os.path.join(pdf_folder, sender_cleaned, subject_cleaned)\n",
    "os.makedirs(local_folder_path, exist_ok=True)\n",
    "\n",
    "# 📄 Chemin complet du fichier PDF local\n",
    "local_pdf_path = os.path.join(local_folder_path, decoded_name.replace(\"/\", \"_\"))\n",
    "\n",
    "# 🚫 Vérifie si le fichier existe déjà\n",
    "if not os.path.exists(local_pdf_path):\n",
    "    # 💾 Enregistrement local du fichier PDF\n",
    "    with open(local_pdf_path, \"wb\") as f:\n",
    "        f.write(part.get_payload(decode=True))\n",
    "    print(f\"✅ PDF enregistré localement : {local_pdf_path}\")\n",
    "else:\n",
    "    print(f\"⏭️ Fichier déjà existant, non enregistré : {local_pdf_path}\")\n"
   ],
   "id": "d7bce95aac8d0a2a",
   "outputs": [
    {
     "name": "stdout",
     "output_type": "stream",
     "text": [
      "✅ PDF enregistré localement : pdf_attachments\\shababizetre@gmail.com\\Re_ Organigramme\\2024-12-04 Kontakte Testphase (1).pdf\n"
     ]
    }
   ],
   "execution_count": 54
  },
  {
   "metadata": {
    "ExecuteTime": {
     "end_time": "2025-04-12T07:28:05.321579Z",
     "start_time": "2025-04-12T07:28:05.309354Z"
    }
   },
   "cell_type": "code",
   "source": "\n",
   "id": "8fba2e4b5d3bf647",
   "outputs": [],
   "execution_count": 39
  },
  {
   "metadata": {},
   "cell_type": "markdown",
   "source": [
    "# Step 03:\n",
    "## Recuperation des mails contenant des fichiers attaches (.pdf)"
   ],
   "id": "2a817bf45ab5663b"
  },
  {
   "metadata": {
    "ExecuteTime": {
     "end_time": "2025-04-12T08:38:43.374672Z",
     "start_time": "2025-04-12T08:38:26.419296Z"
    }
   },
   "cell_type": "code",
   "source": [
    "import email\n",
    "from email.header import decode_header\n",
    "import re\n",
    "import dropbox\n",
    "\n",
    "# 🧹 Fonction pour nettoyer les noms (enlever les caractères interdits dans les noms de dossier/fichier)\n",
    "def clean_name(name):\n",
    "    name = name.strip()  # Supprime les espaces autour\n",
    "    name = re.sub(r'[\\\\\\\\/:*?\"<>|]', \"_\", name)  # Remplace les caractères interdits par \"_\"\n",
    "    return name[:100]  # Limite à 100 caractères (Dropbox peut avoir des limites)\n",
    "\n",
    "# Recherche tous les emails dans la boîte\n",
    "status, messages = imap.search(None, \"ALL\")\n",
    "mail_ids = messages[0].split()\n",
    "\n",
    "count_mails_with_pdf = 0\n",
    "\n",
    "for num in mail_ids:\n",
    "    status, data = imap.fetch(num, \"(RFC822)\")\n",
    "    if status != \"OK\":\n",
    "        continue\n",
    "\n",
    "    msg = email.message_from_bytes(data[0][1])\n",
    "    \n",
    " # 🏷️ Récupération de l'objet du mail\n",
    "    subject_raw = msg.get(\"Subject\", \"Sans_Sujet\")  # Si pas d'objet, mettre \"Sans_Sujet\"\n",
    "    subject, encoding = decode_header(subject_raw)[0]  # Décodage si encodé MIME\n",
    "    if isinstance(subject, bytes):\n",
    "        subject = subject.decode(encoding or \"utf-8\", errors=\"ignore\")\n",
    "    subject_cleaned = clean_name(subject)  # Nettoyage de l'objet pour usage en nom de dossier\n",
    "\n",
    "    # 👤 Récupération de l'expéditeur\n",
    "    sender_raw = msg.get(\"From\", \"Inconnu\")  # Si pas d'expéditeur, mettre \"Inconnu\"\n",
    "    sender, sender_encoding = decode_header(sender_raw)[0]\n",
    "    if isinstance(sender, bytes):\n",
    "        sender = sender.decode(sender_encoding or \"utf-8\", errors=\"ignore\")\n",
    "\n",
    "    # 📧 Extraire une adresse e-mail de l’expéditeur\n",
    "    match = re.search(r'[\\w\\.-]+@[\\w\\.-]+', sender)\n",
    "    sender_identifier = match.group(0) if match else sender\n",
    "    sender_cleaned = clean_name(sender_identifier)  # Nettoyage du nom/email de l’expéditeur\n",
    "\n",
    "    has_pdf = False  # On suppose qu'on n'a pas encore trouvé de PDF\n",
    "    \n",
    "    # Parcours des parties du mail\n",
    "    for part in msg.walk():\n",
    "        content_disposition = part.get(\"Content-Disposition\", \"\")\n",
    "        if part.get_content_maintype() == \"multipart\":\n",
    "            continue\n",
    "            \n",
    "        if \"attachment\" in content_disposition:\n",
    "            filename = part.get_filename()\n",
    "            \n",
    "            if filename:\n",
    "                decoded_name, encoding = decode_header(filename)[0]\n",
    "                \n",
    "                if isinstance(decoded_name, bytes):\n",
    "                    decoded_name = decoded_name.decode(encoding or \"utf-8\", errors=\"ignore\")\n",
    "                decoded_name = clean_name(decoded_name)  # Nettoie le nom du fichier\n",
    "                \n",
    "                if decoded_name.lower().endswith(\".pdf\"):\n",
    "                    has_pdf = True\n",
    "                    \n",
    "                    filepath = os.path.join(pdf_folder, decoded_name.replace(\"/\", \"_\"))\n",
    "                    \n",
    "                    with open(filepath, \"wb\") as f:\n",
    "                        f.write(part.get_payload(decode=True))\n",
    "    \n",
    "    if has_pdf:\n",
    "        count_mails_with_pdf += 1\n",
    "\n",
    "print(f\"📩 Nombre de mails avec au moins un fichier PDF : {count_mails_with_pdf}\")"
   ],
   "id": "b36ff589da65aff1",
   "outputs": [
    {
     "name": "stdout",
     "output_type": "stream",
     "text": [
      "📩 Nombre de mails avec au moins un fichier PDF : 5\n"
     ]
    }
   ],
   "execution_count": 55
  },
  {
   "metadata": {},
   "cell_type": "markdown",
   "source": [
    "# Step 04:\n",
    "## Connexion vers DropBox"
   ],
   "id": "81a9888a0be0e9aa"
  },
  {
   "metadata": {
    "ExecuteTime": {
     "end_time": "2025-04-10T12:13:22.553224Z",
     "start_time": "2025-04-10T12:13:22.541590Z"
    }
   },
   "cell_type": "code",
   "source": [
    "import dropbox\n",
    "\n",
    " # Crée une connexion à Dropbox avec l'API Token / création d'un client DBX\n",
    "dbx = dropbox.Dropbox(DROPBOX_ACCESS_TOKEN)\n",
    "\n",
    "# Générer le Refresh Token via un script\n",
    "APP_KEY = 'al5ocuvjwjua885'\n",
    "APP_SECRET = 'sng2v6rnp1tvuyp'\n",
    "# Étape 1 – Génération du lien avec les bons scopes\n",
    "auth_flow = dropbox.DropboxOAuth2FlowNoRedirect(\n",
    "    APP_KEY,\n",
    "    APP_SECRET,\n",
    "    token_access_type='offline',\n",
    "    scope=['files.metadata.read', 'files.content.write']\n",
    ")\n",
    "\n",
    "authorize_url = auth_flow.start()\n",
    "print(\"👉 Va sur ce lien, autorise l’accès, et copie le code affiché :\")\n",
    "print(authorize_url)\n"
   ],
   "id": "9214db80bdd378eb",
   "outputs": [
    {
     "name": "stdout",
     "output_type": "stream",
     "text": [
      "👉 Va sur ce lien, autorise l’accès, et copie le code affiché :\n",
      "https://www.dropbox.com/oauth2/authorize?response_type=code&client_id=al5ocuvjwjua885&token_access_type=offline&scope=files.metadata.read+files.content.write\n"
     ]
    }
   ],
   "execution_count": 9
  },
  {
   "metadata": {
    "ExecuteTime": {
     "end_time": "2025-04-10T12:14:29.586905Z",
     "start_time": "2025-04-10T12:14:26.956827Z"
    }
   },
   "cell_type": "code",
   "source": [
    "# Utilisation du refresh_token affiché comme nouveau token permanent\n",
    "\n",
    "# Étape 2 – Coller ici le code affiché après l'autorisation Dropbox\n",
    "auth_code = \"dUYhAQDQ-o4AAAAAAAAAIofu8N-gn_f4GAvHy5gEg40\"\n",
    "\n",
    "oauth_result = auth_flow.finish(auth_code)\n",
    "\n",
    "print(\"✅ Access Token :\", oauth_result.access_token)\n",
    "print(\"🔁 Refresh Token :\", oauth_result.refresh_token)\n",
    "print(\"🧑 Compte :\", oauth_result.account_id)"
   ],
   "id": "76ff9729969ca9ae",
   "outputs": [
    {
     "name": "stdout",
     "output_type": "stream",
     "text": [
      "✅ Access Token : sl.u.AFq1PvXk0vyK3Zgcxk0EvdpY0gUxRQfphiU8QttkFILVkhBmBAZWjN3ezkNzOSUzAPBzHX7hOMZwYCMU-8KapHTWT_i8eogfvc1zY_PJA3ZF8PHpFKQl1nuyfj9-enJiKYNuUjUFe8KneFl0qdm4JvmMRRjqGC0fx3tjJmwdJZYOvEuR39OqmEoMTLYrnDWuP08tYNj6pfZ0m06T3AfPVQYdR0UK4LplYGQ1REf40jpqXSiLm7PKmC73wUtEthWocgPLbI_YhyvZq-JeYGeyr2JW1kvVgGFcAfJdPxgXeBCBC-koZ7uKdSSAAUlt1muRTLFN4XAj2i3CPZcWoCN7_G1n-QB60Zke3W29yAlZIz2dUxiCJmdXPF7LmwIcIwnuVxSxiwDiQxJl-or23jDb4eJDlKPGJOsoLnteeuTITyNF08FxVDeWhb365cN5cXjQseJfZe5MMa3P7SGDWBbsxXFd81WN7E7TD1yd0RZKVU9LzPoXsGtovQBkfooIPVjbLoc0x1IhQM1uN2t1Dgnst-bq5Hp2RspT2i6nlDMYuL5rDDZPRYwZo7C4iG3YZ3hWYrZH8ZQcWgDG_XLcMGBbdf_ksO5_Dwk-IMwZje5ZU0BlPW0vsMAvX6sah-hNoyv4a5hUkpDT8yJUHN9k5c5bhpxf0Ij6QoKbuok4jUUn0mGO8YleM_CN9GfxIQaUYogYyAW-m14ML6fsSHXyA8yYUaMvmShQ4O11o6OyYefJDeI5OIdipgd3qSxEg80EFyetZeo_zC4a0mfevRbdXKVBsnrcAyFMwMQ0Pl5ZpDV8sQy_rZHSq2xUg_I6Nc5Kr6nb6hYEdVn2dmivLiuPrAup3HSmg4ANJ_r-DJHu1etxdKxtbSJnTmzOwXKTYUdYs73G6H3X0ZLA3gGNMl-Ab8xZJrBUdTTGSO5pNw5GzV5T2kucyUGhz6W6XBQdnIsOsyR4JGi_bCgFF7aOtq-6Sek99SAHIKBpSBVq3m4DmHoKYLE59npEs5LkATSHVBaLE-MpJcXgInqiZnDAVQ1WQ68AHoEa9L5Tf706aROdTrxZFhmNoi4V4vaQoj3k2PIUDwBEuvUA-m3smm_ekqA9Rqnj_aXbMjePB_aKn5Fy3NVYCs9E_r5SB7-zLezWc-SggmjQ4wLEyIkar9D6ad0j3Zxot_VLmG9TUocSuIaDOaR7iHvJrq5y7zcaMefC8oLmmnTv2TYHrv0n55T2aocshDU1Wtdu84G_sE4VYqWkN1BXQ7mfisTvXIi3ldEccfdQ-JmlzsnbGUZt0DNizoTHXFLiCqSXqJBFVyYhwLzb05RGIhzMFX4yQnR2UeDaILgs5WQBZp1ES19sdczSoPAaf_2xN5YqFKMiwrN-7keUN4GrAFks5GVsD5hV0XpW1doZIvXiM17DtwtFSq4Hkc6qp0iUMu6in2MTd-EHsJrRNAsfCD04iw\n",
      "🔁 Refresh Token : 0JPHLZuUJhYAAAAAAAAAAQsvkBktRVRdK4Km7K5q_Q_we-PD3AE9u0bA8Th5p_xS\n",
      "🧑 Compte : dbid:AADYo5nc_0xGXNqaFidNngcYRyVdzz4uAhQ\n"
     ]
    }
   ],
   "execution_count": 10
  },
  {
   "metadata": {},
   "cell_type": "markdown",
   "source": [
    "# Step 05:\n",
    "## Envoi des Fichiers vers DROPBOX (En appliquant la meme logique que celle de l'enregistrement Local)"
   ],
   "id": "f0a65b391bffa4ca"
  },
  {
   "metadata": {
    "ExecuteTime": {
     "end_time": "2025-04-12T08:39:57.731619Z",
     "start_time": "2025-04-12T08:38:50.097298Z"
    }
   },
   "cell_type": "code",
   "source": [
    "# Importation vers Dropbox \n",
    "APP_KEY = 'al5ocuvjwjua885'\n",
    "APP_SECRET = 'sng2v6rnp1tvuyp'\n",
    "REFRESH_TOKEN = \"0JPHLZuUJhYAAAAAAAAAAQsvkBktRVRdK4Km7K5q_Q_we-PD3AE9u0bA8Th5p_xS\"\n",
    "\n",
    "# Connexion avec refresh token\n",
    "dbx = dropbox.Dropbox(\n",
    "    oauth2_refresh_token=REFRESH_TOKEN,\n",
    "    app_key=APP_KEY,\n",
    "    app_secret=APP_SECRET\n",
    ")\n",
    "# 🏷️ Récupération de l'objet du mail\n",
    "subject_raw = msg.get(\"Subject\", \"Sans_Sujet\")  # Si pas d'objet, mettre \"Sans_Sujet\"\n",
    "subject, encoding = decode_header(subject_raw)[0]  # Décodage si encodé MIME\n",
    "if isinstance(subject, bytes):\n",
    "    subject = subject.decode(encoding or \"utf-8\", errors=\"ignore\")\n",
    "    subject_cleaned = clean_name(subject)  # Nettoyage de l'objet pour usage en nom de dossier\n",
    "\n",
    "    # 👤 Récupération de l'expéditeur\n",
    "    sender_raw = msg.get(\"From\", \"Inconnu\")  # Si pas d'expéditeur, mettre \"Inconnu\"\n",
    "    sender, sender_encoding = decode_header(sender_raw)[0]\n",
    "    if isinstance(sender, bytes):\n",
    "        sender = sender.decode(sender_encoding or \"utf-8\", errors=\"ignore\")\n",
    "\n",
    "    # 📧 Extraire une adresse e-mail de l’expéditeur\n",
    "    match = re.search(r'[\\w\\.-]+@[\\w\\.-]+', sender)\n",
    "    sender_identifier = match.group(0) if match else sender\n",
    "    sender_cleaned = clean_name(sender_identifier)  # Nettoyage du nom/email de l’expéditeur\n",
    "\n",
    "    has_pdf = False  # On suppose qu'on n'a pas encore trouvé de PDF\n",
    "    \n",
    "# Dossier local où sont les fichiers PDF\n",
    "local_pdf_folder = \"pdf_attachments\"\n",
    "\n",
    "# Dossier cible dans Dropbox (par exemple \"/MailsPDF\")\n",
    "dropbox_target_folder = \"/Dossier1/Dossier1.1\"\n",
    "\n",
    "# Parcourt tous les fichiers PDF enregistrés localement\n",
    "for filename in os.listdir(local_pdf_folder):\n",
    "    if filename.lower().endswith(\".pdf\"):\n",
    "        local_path = os.path.join(local_pdf_folder, filename)\n",
    "        dropbox_path = f\"/MailsWithPDF/{sender_cleaned}/{subject_cleaned}/{decoded_name}\"\n",
    "\n",
    "        with open(local_path, \"rb\") as f:\n",
    "            dbx.files_upload(f.read(), dropbox_path, mode=dropbox.files.WriteMode.overwrite)\n",
    "        print(f\"✅ Fichier envoyé sur Dropbox : {filename}\")"
   ],
   "id": "415a4de77de6a937",
   "outputs": [
    {
     "name": "stdout",
     "output_type": "stream",
     "text": [
      "✅ Fichier envoyé sur Dropbox : 2024-12-04 Kontakte Testphase (1).pdf\n",
      "✅ Fichier envoyé sur Dropbox : Factures M. AMBASSA.pdf\n",
      "✅ Fichier envoyé sur Dropbox : fiche de paie mai-juillet24 NL - Extracted pages.pdf\n",
      "✅ Fichier envoyé sur Dropbox : fiche de paie mai-juillet24 NL - Extracted pages_2.pdf\n",
      "✅ Fichier envoyé sur Dropbox : fiche de paie mai-juillet24 NL - Extracted pages_3.pdf\n",
      "✅ Fichier envoyé sur Dropbox : fiche de paie mai-juillet24 NL - Extracted pages_4.pdf\n",
      "✅ Fichier envoyé sur Dropbox : fiche de paie mai-juillet24 NL - Extracted pages_5.pdf\n",
      "✅ Fichier envoyé sur Dropbox : fiche de paie mai-juillet24 NL - Extracted pages_6 fr.pdf\n",
      "✅ Fichier envoyé sur Dropbox : fiche de paie mai-juillet24 NL - Extracted pages_6.pdf\n",
      "✅ Fichier envoyé sur Dropbox : Nouvellenoticeoffice2021proplus.pdf\n",
      "✅ Fichier envoyé sur Dropbox : OPIS GEC FR MADEX -TP.pdf\n"
     ]
    }
   ],
   "execution_count": 56
  },
  {
   "metadata": {},
   "cell_type": "code",
   "outputs": [],
   "execution_count": null,
   "source": "",
   "id": "34af5f1fcf3e75b1"
  },
  {
   "metadata": {},
   "cell_type": "code",
   "outputs": [],
   "execution_count": null,
   "source": "",
   "id": "f76a56e86507eba1"
  },
  {
   "metadata": {},
   "cell_type": "code",
   "outputs": [],
   "execution_count": null,
   "source": "",
   "id": "db1251eee70d6eac"
  },
  {
   "metadata": {},
   "cell_type": "code",
   "outputs": [],
   "execution_count": null,
   "source": "",
   "id": "b2670013bc37d19"
  },
  {
   "metadata": {},
   "cell_type": "code",
   "outputs": [],
   "execution_count": null,
   "source": "",
   "id": "b2e5c6080d4b01a5"
  },
  {
   "metadata": {},
   "cell_type": "code",
   "outputs": [],
   "execution_count": null,
   "source": "",
   "id": "cbac94f68656107f"
  },
  {
   "metadata": {},
   "cell_type": "code",
   "outputs": [],
   "execution_count": null,
   "source": "",
   "id": "37775e7fca87808f"
  },
  {
   "metadata": {},
   "cell_type": "code",
   "outputs": [],
   "execution_count": null,
   "source": "",
   "id": "a10238b749f1173b"
  },
  {
   "metadata": {},
   "cell_type": "code",
   "outputs": [],
   "execution_count": null,
   "source": "",
   "id": "83ddd7a38148a918"
  },
  {
   "metadata": {},
   "cell_type": "code",
   "outputs": [],
   "execution_count": null,
   "source": "",
   "id": "fd855923548fbcf4"
  },
  {
   "metadata": {},
   "cell_type": "code",
   "outputs": [],
   "execution_count": null,
   "source": "",
   "id": "833c8fa8405bd98a"
  },
  {
   "metadata": {},
   "cell_type": "code",
   "outputs": [],
   "execution_count": null,
   "source": "",
   "id": "17453342dc2fe5bb"
  },
  {
   "metadata": {},
   "cell_type": "code",
   "outputs": [],
   "execution_count": null,
   "source": "",
   "id": "1f39320188681f3a"
  },
  {
   "metadata": {},
   "cell_type": "code",
   "outputs": [],
   "execution_count": null,
   "source": "",
   "id": "a05e05f2f8641a05"
  },
  {
   "metadata": {},
   "cell_type": "code",
   "outputs": [],
   "execution_count": null,
   "source": "",
   "id": "77446be93c882578"
  },
  {
   "metadata": {},
   "cell_type": "code",
   "outputs": [],
   "execution_count": null,
   "source": "",
   "id": "6d1aa21e60a7040b"
  },
  {
   "metadata": {},
   "cell_type": "code",
   "outputs": [],
   "execution_count": null,
   "source": "",
   "id": "7bd92f34a89334b5"
  },
  {
   "metadata": {},
   "cell_type": "code",
   "outputs": [],
   "execution_count": null,
   "source": "",
   "id": "100c90276616801f"
  },
  {
   "metadata": {},
   "cell_type": "code",
   "outputs": [],
   "execution_count": null,
   "source": "",
   "id": "2f554527ff899f89"
  },
  {
   "metadata": {},
   "cell_type": "code",
   "outputs": [],
   "execution_count": null,
   "source": "",
   "id": "a1ecc7f12a7d3086"
  },
  {
   "metadata": {},
   "cell_type": "code",
   "outputs": [],
   "execution_count": null,
   "source": "",
   "id": "9f2b4804a95f885b"
  },
  {
   "metadata": {},
   "cell_type": "code",
   "outputs": [],
   "execution_count": null,
   "source": "",
   "id": "78b1c975e548536"
  },
  {
   "metadata": {},
   "cell_type": "code",
   "outputs": [],
   "execution_count": null,
   "source": "",
   "id": "dee8e3d79b249c32"
  }
 ],
 "metadata": {
  "kernelspec": {
   "display_name": "Python 3",
   "language": "python",
   "name": "python3"
  },
  "language_info": {
   "codemirror_mode": {
    "name": "ipython",
    "version": 2
   },
   "file_extension": ".py",
   "mimetype": "text/x-python",
   "name": "python",
   "nbconvert_exporter": "python",
   "pygments_lexer": "ipython2",
   "version": "2.7.6"
  }
 },
 "nbformat": 4,
 "nbformat_minor": 5
}
