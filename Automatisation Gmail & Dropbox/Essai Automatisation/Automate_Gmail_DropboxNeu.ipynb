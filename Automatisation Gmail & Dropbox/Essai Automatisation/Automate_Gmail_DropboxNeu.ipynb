{
 "cells": [
  {
   "cell_type": "code",
   "id": "initial_id",
   "metadata": {
    "collapsed": true,
    "ExecuteTime": {
     "end_time": "2025-04-09T08:50:26.469044Z",
     "start_time": "2025-04-09T08:49:58.737379Z"
    }
   },
   "source": [
    "# Cellule 0: Importation des librairies nécessaires\n",
    "\n",
    "import imapclient\n",
    "import mail\n",
    "!pip install PyPDF2\n",
    "from PyPDF2 import PdfReader\n",
    "!pip show PyPDF2\n",
    "!pip install imap-tools dropbox\n",
    "!pip install imapclient"
   ],
   "outputs": [
    {
     "name": "stdout",
     "output_type": "stream",
     "text": [
      "Defaulting to user installation because normal site-packages is not writeable\n",
      "Requirement already satisfied: PyPDF2 in c:\\users\\user\\appdata\\roaming\\python\\python313\\site-packages (3.0.1)\n"
     ]
    },
    {
     "name": "stderr",
     "output_type": "stream",
     "text": [
      "\n",
      "[notice] A new release of pip is available: 24.3.1 -> 25.0.1\n",
      "[notice] To update, run: python.exe -m pip install --upgrade pip\n"
     ]
    },
    {
     "name": "stdout",
     "output_type": "stream",
     "text": [
      "Name: PyPDF2\n",
      "Version: 3.0.1\n",
      "Summary: A pure-python PDF library capable of splitting, merging, cropping, and transforming PDF files\n",
      "Home-page: \n",
      "Author: \n",
      "Author-email: Mathieu Fenniak <biziqe@mathieu.fenniak.net>\n",
      "License: \n",
      "Location: C:\\Users\\user\\AppData\\Roaming\\Python\\Python313\\site-packages\n",
      "Requires: \n",
      "Required-by: \n",
      "Defaulting to user installation because normal site-packages is not writeable\n",
      "Requirement already satisfied: imap-tools in c:\\users\\user\\appdata\\roaming\\python\\python313\\site-packages (1.10.0)\n",
      "Requirement already satisfied: dropbox in c:\\users\\user\\appdata\\roaming\\python\\python313\\site-packages (12.0.2)\n",
      "Requirement already satisfied: requests>=2.16.2 in c:\\users\\user\\appdata\\roaming\\python\\python313\\site-packages (from dropbox) (2.32.3)\n",
      "Requirement already satisfied: six>=1.12.0 in c:\\users\\user\\appdata\\roaming\\python\\python313\\site-packages (from dropbox) (1.17.0)\n",
      "Requirement already satisfied: stone<3.3.3,>=2 in c:\\users\\user\\appdata\\roaming\\python\\python313\\site-packages (from dropbox) (3.3.1)\n",
      "Requirement already satisfied: charset-normalizer<4,>=2 in c:\\users\\user\\appdata\\roaming\\python\\python313\\site-packages (from requests>=2.16.2->dropbox) (3.4.1)\n",
      "Requirement already satisfied: idna<4,>=2.5 in c:\\users\\user\\appdata\\roaming\\python\\python313\\site-packages (from requests>=2.16.2->dropbox) (3.10)\n",
      "Requirement already satisfied: urllib3<3,>=1.21.1 in c:\\users\\user\\appdata\\roaming\\python\\python313\\site-packages (from requests>=2.16.2->dropbox) (2.3.0)\n",
      "Requirement already satisfied: certifi>=2017.4.17 in c:\\users\\user\\appdata\\roaming\\python\\python313\\site-packages (from requests>=2.16.2->dropbox) (2025.1.31)\n",
      "Requirement already satisfied: ply>=3.4 in c:\\users\\user\\appdata\\roaming\\python\\python313\\site-packages (from stone<3.3.3,>=2->dropbox) (3.11)\n"
     ]
    },
    {
     "name": "stderr",
     "output_type": "stream",
     "text": [
      "\n",
      "[notice] A new release of pip is available: 24.3.1 -> 25.0.1\n",
      "[notice] To update, run: python.exe -m pip install --upgrade pip\n",
      "\n",
      "[notice] A new release of pip is available: 24.3.1 -> 25.0.1\n",
      "[notice] To update, run: python.exe -m pip install --upgrade pip\n"
     ]
    },
    {
     "name": "stdout",
     "output_type": "stream",
     "text": [
      "Defaulting to user installation because normal site-packages is not writeable\n",
      "Requirement already satisfied: imapclient in c:\\program files\\python313\\lib\\site-packages (3.0.1)\n"
     ]
    }
   ],
   "execution_count": 1
  },
  {
   "metadata": {
    "ExecuteTime": {
     "end_time": "2025-04-10T09:33:03.261657Z",
     "start_time": "2025-04-10T09:33:03.248993Z"
    }
   },
   "cell_type": "code",
   "source": [
    "# Cellule 1 : Importation des bibliothèques nécessaires\n",
    "\n",
    "import imaplib\n",
    "import email\n",
    "from email.header import decode_header\n",
    "import os\n",
    "import dropbox"
   ],
   "id": "7ea6a7396cb00d28",
   "outputs": [],
   "execution_count": 9
  },
  {
   "metadata": {
    "ExecuteTime": {
     "end_time": "2025-04-10T09:33:05.446185Z",
     "start_time": "2025-04-10T09:33:05.437912Z"
    }
   },
   "cell_type": "code",
   "source": [
    "# Cellule 2 : Paramètres utilisateurs\n",
    "\n",
    "# Remplis les informations ci-dessous\n",
    "EMAIL = \"sergealexai@gmail.com\"\n",
    "\n",
    "PASSWORD = \"fdli szqv wtqj uwyu\" # Il s'agit ici du mot de passe des applications\n",
    "\n",
    "DROPBOX_ACCESS_TOKEN = \"sl.u.AFo9z0CrAzJ3D82XrrqT4nCdSHLx-XmaqL4OC2ZHt76HUnjcA08NEA7XlYpPmEfJX17tTDeyrn6h2glEgiYNSjb7HLFQ6wSfiTlZMuSE1VTpihJDEmq_VJA80-Kjqz1DptSWul5AkpwaymXzwtFezmCueid8yq0fT1XEvFHPscSOA9Y7TmAQJopcMvU4QWjX22tz1OKOwFzIzQm6Oajt7OY2wSQJ6hY37OJS5od94yVJrYDxvZxNUnKC6O11uiWcP8kqUVUJ0BKU0E09b359PjRkUAmSw-pRAQ24Bvkj_l8NTG87j8PRxeSz9DSXdhlSlYxxxJD5epV_TKBxsMURE1G6E7B-8r4Gi7Mq7hdN-aEFab6vGI5iipWoFtxVzYQn_w5isb2AIcAPnjUoiVyYMvxsTIerOwoZKlYS1iA6NYfj6y7yR5585kbWLu9DCK--VlKNhI8mPpR4SNnf4z9YpZWh4Kk_gcbYsIs18m6iqVOhzmqqIDNu-OkR5g1HS2ZMhfxW27CgcKnG3zlmev9aLhnSmxfQD5wvrbbz1ydG4kNLZIBWzJqGNwB3pLlnLX7Z1ydoZuy7HM7_BtwRm3dIwElSBmeE8ecqNqkowaRp0Xdu0rCCnRCaJA8MuLDp0D4sWmE1WypLlfTuLeINR5YPn31NmLuMMd-cUIB2Pqf7RrOEakd7_x_sKHGxVJvOSqUFB6vAZvsvFsRp5GB9ubRzfXPwMLMti8omdONGjZ19zrGkO678SRSrtUX-gXKB8Mc0kpoJ18yrGQLVKuiOEy4oUv033S8jX2KWLcTK8g_vFbNyx_BpFSeo3pqd_Zr3Jesxu96PhOrCgJK8wOxwMA_eml4LyrUMmClrzxephzHFuLU3wrV_vQuiVskiRE5T-vEp2Ex0BPsq1nHc4rXJP16hILazt-TNx4gQJoU66ObLHTxIQHTjOKuJ-G-Jpd8vB48xi8skyw404XmE0-PS3hYGOrigiwuNuxIDoafTwvmIMu3bdGllkSWw_P9qrSmQAklH-ZtuSmpQ-87bx5Y14KoF88OXwAfQTo505YoDaP6HxHN-ipQeEN5okYYNcMpRCmch_PBTFMrwQY2AaxwQKnMpgnNdnhwU6raVg_UJ0KKQUj1ycKICCknk4Mv1A5UfbJECT5pLPNlSMzQVDdHu9MO1OfZBW9ypP0OpXrBZX7x1V2iaf9xrwRFq7wGyXab0s24m29FmL9465Y76xInOpQLAJjnLcZnatQCb4m8n4p3umc2ISNveoS4yAsaLlBtlwwwUg8sqPIgfOy_9xaV0-GgNNaNNdW8iDP1bu3E9-AgF-fuzXLqrQwpdgVU4xrM3wP9e9m6gOtrZqo5NyDfBOqGNBjGhhmucsttyEwJdtUW0SPMIae1U31O6ruFFXtTdOmVlxbBQEcET7mwSpXE0YDJawWb5mCfQeXIPHNfk-OsCNXPwtQ\"\n",
    "\n",
    "DROPBOX_FOLDER = \"/Dossier1/Dossier1.1\""
   ],
   "id": "524838fa29d6f4b7",
   "outputs": [],
   "execution_count": 10
  },
  {
   "metadata": {
    "ExecuteTime": {
     "end_time": "2025-04-10T09:33:08.760255Z",
     "start_time": "2025-04-10T09:33:08.747517Z"
    }
   },
   "cell_type": "code",
   "outputs": [],
   "source": [
    "# Cellule 3 : Connexion à Dropbox\n",
    "\n",
    "# Crée une connexion à Dropbox avec l'API Token / création d'un client DBX\n",
    "dbx = dropbox.Dropbox(DROPBOX_ACCESS_TOKEN)"
   ],
   "id": "2ae81520da3020d7",
   "execution_count": null
  },
  {
   "metadata": {
    "ExecuteTime": {
     "end_time": "2025-04-10T09:32:29.584744Z",
     "start_time": "2025-04-10T09:32:29.573314Z"
    }
   },
   "cell_type": "code",
   "source": [
    "# Cellule 3.1 : Générer le Refresh Token via un script\n",
    "APP_KEY = 'al5ocuvjwjua885'\n",
    "APP_SECRET = 'sng2v6rnp1tvuyp'\n",
    "# Étape 1 – Génération du lien avec les bons scopes\n",
    "auth_flow = dropbox.DropboxOAuth2FlowNoRedirect(\n",
    "    APP_KEY,\n",
    "    APP_SECRET,\n",
    "    token_access_type='offline',\n",
    "    scope=['files.metadata.read', 'files.content.write']\n",
    ")\n",
    "\n",
    "authorize_url = auth_flow.start()\n",
    "print(\"👉 Va sur ce lien, autorise l’accès, et copie le code affiché :\")\n",
    "print(authorize_url)"
   ],
   "id": "cfd092f3ca3b332f",
   "outputs": [
    {
     "name": "stdout",
     "output_type": "stream",
     "text": [
      "👉 Va sur ce lien, autorise l’accès, et copie le code affiché :\n",
      "https://www.dropbox.com/oauth2/authorize?response_type=code&client_id=al5ocuvjwjua885&token_access_type=offline&scope=files.metadata.read+files.content.write\n"
     ]
    }
   ],
   "execution_count": 7
  },
  {
   "metadata": {
    "ExecuteTime": {
     "end_time": "2025-04-10T09:37:39.555839Z",
     "start_time": "2025-04-10T09:37:37.629203Z"
    }
   },
   "cell_type": "code",
   "source": [
    "# Cellule 3.2 : Utilisation du refresh_token affiché comme nouveau token permanent\n",
    "# Étape 2 – Coller ici le code affiché après l'autorisation Dropbox\n",
    "auth_code = \"dUYhAQDQ-o4AAAAAAAAAIFRwk3IGQdiKQhiCNUEEuuw\"\n",
    "\n",
    "oauth_result = auth_flow.finish(auth_code)\n",
    "\n",
    "print(\"✅ Access Token :\", oauth_result.access_token)\n",
    "print(\"🔁 Refresh Token :\", oauth_result.refresh_token)\n",
    "print(\"🧑 Compte :\", oauth_result.account_id)\n"
   ],
   "id": "6d0c4b5f3a7b4766",
   "outputs": [
    {
     "name": "stdout",
     "output_type": "stream",
     "text": [
      "✅ Access Token : sl.u.AFpMnaQsJ2Pw6j1RHoQdmhATixhBKfDE_D9YOTCcyeu63lx_EOkh_oR5bbWHig-lwJeTxZAvY1RMaVJDVNNDVcm9ges4WMu7AZI8Y88yOhyYo22We0I7dCz9sneXF2rqSbRnLFhFqSpiCR4tyBG4etDAp7FA5Xvj93jkwiiTKOkj8O-b9hs7c_vQbu8pQxoK06-cTm1PyboUM7_3hxS0mCdiZMq_ZAa83_Psw6MheYEYgC12Wmw11dSGlEqrxj5chTI1rXNZrGNS4c6dENtR4U65c1dNJbQvt6OEU6GqS_9wid224BJoeq8H_5hh9Kj8ONS4hDd6HkNbgbvn-OvGw1kk65Bn_jI82H_-s02bCxFSKTttvo1pO013KavqpIKnEDaaRZOdLYfZ34yzwa35mNL1n7LMqD1OmDevG-tj456uSIb9Zkc7LPN0GrgymOHCc1LpH7FH2zKIzfn3q4EDMOsCTNTO3zssbEDpO8F_OrPwCVaQZO2rTOBu7ZIr86fiyjZfY-EUmclr5WR_7y_G2Dniq72vhw2lON6MAnT9wfndvjJQec38eG8PdKi5DU7YPAw44FvvNxPtiwd0JVHmF595aVYDR-UH2wHO128WBtqMcltEMrCSPLihhnmFmvdeJ2paNSrtaubkCD5GcDkD7G6ECXG6mldHHlsORyKwV0-btmMbe8hYI_zqCcNv7trT03P5gJVD7hWqFP59LtkhbXyDoC-SqwraKFr7Tk1-UloFheOSM7jh24YPT0ma52QakK-4W9dejulVmXWh5SzK1Gm0-rrrbqlklkx72vI15X46i3ccX7GcIxW1HRL0HRBi2S0nULdHJyTTryBgRiSmHYH_iU-29cXy0DwJ5PehERLy6Az7pRB-i-c7Pf_Q8rfrNOz-HxCCeXikK72h2Atxw_9cKDsJFFPn9Hq-HTdexATceUHfneWUz3u-mINjuw4bZAbTtFKE1s7q7ADnQvvUYsN8fmzaOJR5H-_iB6ZqLEB2lpmVuopamU87YIfeC4U81Ov6KtWAigH94lTF4e6DdW-TFU2dZAwFJ5mfqdqckFqo8m6PqkCCt-IJF_Z8v04fUJFKIXIVd-AwvNu2dD2M-HBs_3FPHgyAefCVQ4t6L6uRdVWAMJ1P1sl67c5i6z_Awecb-tRNXmKL1jwbBVptpydeiKyoBcdnfJpU1UlVqn3hFBnR00ovox084gm-WIAmPVkZJtYuGJ7-trA7uMUopZuqlkcR-oQjcJaGMtBGMNAp5vxnWblBUulYliT-8oLWkgtWSqRdbpeZ5SQ_gtNKSJoxltuTjXLMU8htcxB7ykLWbepst9NFl72FjKIaTCycAi8VKYoMEYVoZPKhudaXWPnJEZ7CKuvZD9x-ltLro_h93kvFH_lweL9RAWXQ8AyC1MryoVwVNbbVZO88TTf88Z8SF-0ph0Qhm-AKcIKN3JFqSQ\n",
      "🔁 Refresh Token : W9gdIpwul9sAAAAAAAAAAWIrgyidFUkkNT5VX6_YwX__iD8Dyrn5F7ZljfUVXc13\n",
      "🧑 Compte : dbid:AADYo5nc_0xGXNqaFidNngcYRyVdzz4uAhQ\n"
     ]
    }
   ],
   "execution_count": 13
  },
  {
   "metadata": {
    "ExecuteTime": {
     "end_time": "2025-04-10T15:30:42.319105Z",
     "start_time": "2025-04-10T15:30:38.641799Z"
    }
   },
   "cell_type": "code",
   "source": [
    "# Cellule 4 : Connexion à Gmail \n",
    "\n",
    "# Connexion IMAP à Gmail\n",
    "imap = imaplib.IMAP4_SSL(\"imap.gmail.com\")\n",
    "imap.login(EMAIL, PASSWORD)\n",
    "imap.select(\"inbox\")            # Sélectionne la boîte de réception"
   ],
   "id": "2ee25d03aeec39af",
   "outputs": [
    {
     "data": {
      "text/plain": [
       "('OK', [b'7'])"
      ]
     },
     "execution_count": 22,
     "metadata": {},
     "output_type": "execute_result"
    }
   ],
   "execution_count": 22
  },
  {
   "metadata": {
    "ExecuteTime": {
     "end_time": "2025-04-10T15:31:28.365512Z",
     "start_time": "2025-04-10T15:30:44.858954Z"
    }
   },
   "cell_type": "code",
   "source": [
    "# 📥 Bibliothèques pour lire les mails\n",
    "import email\n",
    "from email.header import decode_header\n",
    "import os\n",
    "import re  # Pour nettoyer les noms de dossier/fichier\n",
    "\n",
    "# 📁 Dossier local où les fichiers PDF seront enregistrés temporairement\n",
    "pdf_folder = \"pdf_attachments\"\n",
    "os.makedirs(pdf_folder, exist_ok=True)  # Crée le dossier s'il n'existe pas\n",
    "\n",
    "# 🧹 Fonction pour nettoyer les noms (enlever les caractères interdits dans les noms de dossier/fichier)\n",
    "def clean_name(name):\n",
    "    name = name.strip()  # Supprime les espaces autour\n",
    "    name = re.sub(r'[\\\\\\\\/:*?\"<>|]', \"_\", name)  # Remplace les caractères interdits par \"_\"\n",
    "    return name[:100]  # Limite à 100 caractères (Dropbox peut avoir des limites)\n",
    "\n",
    "# 🔢 Compteur de mails avec au moins un PDF\n",
    "count_mails_with_pdf = 0\n",
    "\n",
    "# 📬 Parcourt tous les identifiants des mails à traiter\n",
    "for num in mail_ids:\n",
    "    status, data = imap.fetch(num, \"(RFC822)\")  # Récupère tout le contenu du mail (RFC822)\n",
    "    if status != \"OK\":\n",
    "        continue  # Ignore ce mail s'il n'a pas été bien récupéré\n",
    "\n",
    "    msg = email.message_from_bytes(data[0][1])  # Convertit le message brut en un objet email\n",
    "\n",
    "    # 🏷️ Récupération de l'objet du mail\n",
    "    subject_raw = msg.get(\"Subject\", \"Sans_Sujet\")  # Si pas d'objet, mettre \"Sans_Sujet\"\n",
    "    subject, encoding = decode_header(subject_raw)[0]  # Décodage si encodé MIME\n",
    "    if isinstance(subject, bytes):\n",
    "        subject = subject.decode(encoding or \"utf-8\", errors=\"ignore\")\n",
    "    subject_cleaned = clean_name(subject)  # Nettoyage de l'objet pour usage en nom de dossier\n",
    "\n",
    "    # 👤 Récupération de l'expéditeur\n",
    "    sender_raw = msg.get(\"From\", \"Inconnu\")  # Si pas d'expéditeur, mettre \"Inconnu\"\n",
    "    sender, sender_encoding = decode_header(sender_raw)[0]\n",
    "    if isinstance(sender, bytes):\n",
    "        sender = sender.decode(sender_encoding or \"utf-8\", errors=\"ignore\")\n",
    "\n",
    "    # 📧 Extraire une adresse e-mail de l’expéditeur\n",
    "    match = re.search(r'[\\w\\.-]+@[\\w\\.-]+', sender)\n",
    "    sender_identifier = match.group(0) if match else sender\n",
    "    sender_cleaned = clean_name(sender_identifier)  # Nettoyage du nom/email de l’expéditeur\n",
    "\n",
    "    has_pdf = False  # On suppose qu'on n'a pas encore trouvé de PDF\n",
    "\n",
    "    # 🔍 Parcourt les différentes parties du mail (texte, pièces jointes, etc.)\n",
    "    for part in msg.walk():\n",
    "        content_disposition = part.get(\"Content-Disposition\", \"\")  # Vérifie si c'est une pièce jointe\n",
    "\n",
    "        if part.get_content_maintype() == \"multipart\":\n",
    "            continue  # Ignore les parties multiples (non utiles ici)\n",
    "\n",
    "        if \"attachment\" in content_disposition:  # Si c'est une pièce jointe\n",
    "            filename = part.get_filename()  # Nom du fichier\n",
    "            \n",
    "            if filename and filename.lower().endswith(\".pdf\"):  # Vérifie si c'est un fichier PDF\n",
    "                \n",
    "                decoded_name, encoding = decode_header(filename)[0]\n",
    "                \n",
    "                if isinstance(decoded_name, bytes):\n",
    "                    decoded_name = decoded_name.decode(encoding or \"utf-8\", errors=\"ignore\")\n",
    "                decoded_name = clean_name(decoded_name)  # Nettoie le nom du fichier\n",
    "\n",
    "                # 💾 Chemin local temporaire pour le fichier\n",
    "                local_pdf_path = os.path.join(pdf_folder, decoded_name.replace(\"/\", \"_\"))\n",
    "                with open(local_pdf_path, \"wb\") as f:\n",
    "                    f.write(part.get_payload(decode=True))  # Enregistre le contenu du fichier PDF\n",
    "\n",
    "                has_pdf = True  # Marque qu’on a trouvé un PDF\n",
    "\n",
    "                # 📤 Construction du chemin Dropbox : Expéditeur > Objet > Nom PDF\n",
    "                dropbox_path = f\"/MailsWithPDF/{sender_cleaned}/{subject_cleaned}/{decoded_name}\"\n",
    "\n",
    "                # 🚀 Envoi du fichier PDF sur Dropbox\n",
    "                with open(local_pdf_path, \"rb\") as f:\n",
    "                    dbx.files_upload(f.read(), dropbox_path, mode=dropbox.files.WriteMode.overwrite)\n",
    "\n",
    "                print(f\"✅ PDF envoyé sur Dropbox : {dropbox_path}\")\n",
    "\n",
    "    # ✅ Si au moins un PDF a été trouvé pour ce mail, on compte ce mail\n",
    "    if has_pdf:\n",
    "        count_mails_with_pdf += 1\n",
    "\n",
    "# 📊 Affiche le nombre total de mails avec au moins un PDF\n",
    "print(f\"📬 Total de mails avec au moins un PDF : {count_mails_with_pdf}\")\n"
   ],
   "id": "91db17fde73e08ef",
   "outputs": [
    {
     "name": "stdout",
     "output_type": "stream",
     "text": [
      "✅ PDF envoyé sur Dropbox : /MailsWithPDF/grees.lincoln@gmail.com/Fwd_ Test automate DBX/fiche de paie mai-juillet24 NL - Extracted pages_6 fr.pdf\n",
      "✅ PDF envoyé sur Dropbox : /MailsWithPDF/grees.lincoln@gmail.com/Fwd_ Test automate DBX/fiche de paie mai-juillet24 NL - Extracted pages_5.pdf\n",
      "✅ PDF envoyé sur Dropbox : /MailsWithPDF/grees.lincoln@gmail.com/Fwd_ Test automate DBX/fiche de paie mai-juillet24 NL - Extracted pages_6.pdf\n",
      "✅ PDF envoyé sur Dropbox : /MailsWithPDF/grees.lincoln@gmail.com/Fwd_ Test automate DBX/fiche de paie mai-juillet24 NL - Extracted pages.pdf\n",
      "✅ PDF envoyé sur Dropbox : /MailsWithPDF/grees.lincoln@gmail.com/Fwd_ Test automate DBX/fiche de paie mai-juillet24 NL - Extracted pages_2.pdf\n",
      "✅ PDF envoyé sur Dropbox : /MailsWithPDF/grees.lincoln@gmail.com/Fwd_ Test automate DBX/fiche de paie mai-juillet24 NL - Extracted pages_3.pdf\n",
      "✅ PDF envoyé sur Dropbox : /MailsWithPDF/grees.lincoln@gmail.com/Fwd_ Test automate DBX/fiche de paie mai-juillet24 NL - Extracted pages_4.pdf\n",
      "✅ PDF envoyé sur Dropbox : /MailsWithPDF/grees.lincoln@gmail.com/Fwd_ Clé d’Activation pour Office pro 2021/Nouvellenoticeoffice2021proplus.pdf\n",
      "✅ PDF envoyé sur Dropbox : /MailsWithPDF/greesserge@gmail.com/Test/OPIS GEC FR MADEX -TP.pdf\n",
      "✅ PDF envoyé sur Dropbox : /MailsWithPDF/greesserge@gmail.com/Facture/Factures M. AMBASSA.pdf\n",
      "📬 Total de mails avec au moins un PDF : 4\n"
     ]
    }
   ],
   "execution_count": 23
  },
  {
   "metadata": {
    "ExecuteTime": {
     "end_time": "2025-04-10T12:28:34.022595Z",
     "start_time": "2025-04-10T12:27:36.872705Z"
    }
   },
   "cell_type": "code",
   "source": [
    "# Cellule 5 : Enregistrement local, récupération de tous les emails, trie pour stocker les mails avec des pieces jointes(PDF).\n",
    "import email\n",
    "from email.header import decode_header\n",
    "import os\n",
    "\n",
    "# Dossier local pour enregistrer les PDF\n",
    "pdf_folder = \"pdf_attachments\"\n",
    "os.makedirs(pdf_folder, exist_ok=True)\n",
    "\n",
    "# 📦 Code commenté : extraire les PDF et les envoyer sur Dropbox, organisés par objet de mail (l'objet de chaque mails sera un dossier et les pdf a l'interieur les fichiers)\n",
    "import re\n",
    "from email.header import decode_header\n",
    "\n",
    "# Fonction pour nettoyer un objet de mail (subject) afin de l’utiliser comme nom de dossier\n",
    "def clean_subject(subject):\n",
    "    subject = subject.strip()\n",
    "    # Remplace les caractères spéciaux interdits dans les noms de fichiers ou dossiers (Windows/Dropbox)\n",
    "    subject = re.sub(r'[\\\\\\\\/:*?\"<>|]', \"_\", subject)\n",
    "    # Limite la longueur à 100 caractères pour éviter les erreurs Dropbox\n",
    "    return subject[:100]\n",
    "\n",
    "# Variable pour compter les mails contenant au moins un PDF\n",
    "count_mails_with_pdf = 0\n",
    "\n",
    "# Parcourt chaque email trouvé précédemment\n",
    "for num in mail_ids:\n",
    "    status, data = imap.fetch(num, \"(RFC822)\")  # Récupère le contenu complet du mail\n",
    "    if status != \"OK\":\n",
    "        continue  # Ignore les mails mal récupérés\n",
    "\n",
    "    # Convertit le mail en objet exploitable avec email.message\n",
    "    msg = email.message_from_bytes(data[0][1])\n",
    "\n",
    "    # 📩 Extraction de l’objet du mail (subject)\n",
    "    subject_raw = msg.get(\"Subject\", \"Sans_Sujet\")  # Si aucun objet, on met \"Sans_Sujet\"\n",
    "    subject, encoding = decode_header(subject_raw)[0]  # Décodage si encodé MIME\n",
    "    if isinstance(subject, bytes):\n",
    "        subject = subject.decode(encoding or \"utf-8\", errors=\"ignore\")\n",
    "\n",
    "    # Nettoyage du sujet pour l’utiliser comme nom de dossier Dropbox\n",
    "    subject_cleaned = clean_subject(subject)\n",
    "\n",
    "    has_pdf = False  # Pour savoir si on a trouvé un PDF dans ce mail\n",
    "\n",
    "    # 🔍 Parcourt chaque \"partie\" du mail (le texte, les pièces jointes, etc.)\n",
    "    for part in msg.walk():\n",
    "        content_disposition = part.get(\"Content-Disposition\", \"\")\n",
    "\n",
    "        # Ignore les parties qui sont juste du texte ou HTML\n",
    "        if part.get_content_maintype() == \"multipart\":\n",
    "            continue\n",
    "\n",
    "        # On ne veut que les pièces jointes\n",
    "        if \"attachment\" in content_disposition:\n",
    "            filename = part.get_filename()\n",
    "            if filename and filename.lower().endswith(\".pdf\"):\n",
    "                # Décodage correct du nom de fichier\n",
    "                decoded_name, enc = decode_header(filename)[0]\n",
    "                if isinstance(decoded_name, bytes):\n",
    "                    decoded_name = decoded_name.decode(enc or \"utf-8\", errors=\"ignore\")\n",
    "\n",
    "                # ✅ Enregistrement local du fichier PDF\n",
    "                local_pdf_path = os.path.join(pdf_folder, decoded_name.replace(\"/\", \"_\"))\n",
    "                with open(local_pdf_path, \"wb\") as f:\n",
    "                    f.write(part.get_payload(decode=True))\n",
    "\n",
    "                has_pdf = True  # On marque qu’un PDF a été trouvé\n",
    "\n",
    "                # 📤 Préparation du chemin Dropbox (dossier = sujet du mail)\n",
    "                dropbox_path = f\"/MailsPDF/{subject_cleaned}/{decoded_name}\"\n",
    "\n",
    "                # 🔼 Envoi du fichier vers Dropbox\n",
    "                with open(local_pdf_path, \"rb\") as f:\n",
    "                    dbx.files_upload(f.read(), dropbox_path, mode=dropbox.files.WriteMode.overwrite)\n",
    "\n",
    "                print(f\"✅ PDF envoyé sur Dropbox : {dropbox_path}\")\n",
    "\n",
    "    if has_pdf:\n",
    "        count_mails_with_pdf += 1  # On incrémente le compteur global\n",
    "\n",
    "# Affiche le total à la fin\n",
    "print(f\"📬 Total de mails avec au moins un PDF : {count_mails_with_pdf}\")\n"
   ],
   "id": "adaeb0f6549570e4",
   "outputs": [
    {
     "name": "stdout",
     "output_type": "stream",
     "text": [
      "✅ PDF envoyé sur Dropbox : /MailsPDF/Fwd_ Test automate DBX/fiche de paie mai-juillet24 NL - Extracted pages_6 fr.pdf\n",
      "✅ PDF envoyé sur Dropbox : /MailsPDF/Fwd_ Test automate DBX/fiche de paie mai-juillet24 NL - Extracted pages_5.pdf\n",
      "✅ PDF envoyé sur Dropbox : /MailsPDF/Fwd_ Test automate DBX/fiche de paie mai-juillet24 NL - Extracted pages_6.pdf\n",
      "✅ PDF envoyé sur Dropbox : /MailsPDF/Fwd_ Test automate DBX/fiche de paie mai-juillet24 NL - Extracted pages.pdf\n",
      "✅ PDF envoyé sur Dropbox : /MailsPDF/Fwd_ Test automate DBX/fiche de paie mai-juillet24 NL - Extracted pages_2.pdf\n",
      "✅ PDF envoyé sur Dropbox : /MailsPDF/Fwd_ Test automate DBX/fiche de paie mai-juillet24 NL - Extracted pages_3.pdf\n",
      "✅ PDF envoyé sur Dropbox : /MailsPDF/Fwd_ Test automate DBX/fiche de paie mai-juillet24 NL - Extracted pages_4.pdf\n",
      "✅ PDF envoyé sur Dropbox : /MailsPDF/Fwd_ Clé d’Activation pour Office pro 2021/Nouvellenoticeoffice2021proplus.pdf\n",
      "✅ PDF envoyé sur Dropbox : /MailsPDF/Test/OPIS GEC FR MADEX -TP.pdf\n",
      "✅ PDF envoyé sur Dropbox : /MailsPDF/Facture/Factures M. AMBASSA.pdf\n",
      "📬 Total de mails avec au moins un PDF : 4\n"
     ]
    }
   ],
   "execution_count": 19
  },
  {
   "metadata": {
    "ExecuteTime": {
     "end_time": "2025-04-10T09:39:43.241315Z",
     "start_time": "2025-04-10T09:38:57.046800Z"
    }
   },
   "cell_type": "code",
   "source": [
    "# Cellule 6 : Importation vers Dropbox \n",
    "APP_KEY = 'al5ocuvjwjua885'\n",
    "APP_SECRET = 'sng2v6rnp1tvuyp'\n",
    "REFRESH_TOKEN = \"W9gdIpwul9sAAAAAAAAAAWIrgyidFUkkNT5VX6_YwX__iD8Dyrn5F7ZljfUVXc13\"\n",
    "\n",
    "# Connexion avec refresh token\n",
    "dbx = dropbox.Dropbox(\n",
    "    oauth2_refresh_token=REFRESH_TOKEN,\n",
    "    app_key=APP_KEY,\n",
    "    app_secret=APP_SECRET\n",
    ")\n",
    "\n",
    "# Dossier local où sont les fichiers PDF\n",
    "local_pdf_folder = \"pdf_attachments\"\n",
    "\n",
    "# Dossier cible dans Dropbox (par exemple \"/MailsPDF\")\n",
    "dropbox_target_folder = \"/Dossier1/Dossier1.1\"\n",
    "\n",
    "# Parcourt tous les fichiers PDF enregistrés localement\n",
    "for filename in os.listdir(local_pdf_folder):\n",
    "    if filename.lower().endswith(\".pdf\"):\n",
    "        local_path = os.path.join(local_pdf_folder, filename)\n",
    "        dropbox_path = f\"{dropbox_target_folder}/{filename}\"\n",
    "\n",
    "        with open(local_path, \"rb\") as f:\n",
    "            dbx.files_upload(f.read(), dropbox_path, mode=dropbox.files.WriteMode.overwrite)\n",
    "        print(f\"✅ Fichier envoyé sur Dropbox : {filename}\")"
   ],
   "id": "46443ec3d6da5f53",
   "outputs": [
    {
     "name": "stdout",
     "output_type": "stream",
     "text": [
      "✅ Fichier envoyé sur Dropbox : Factures M. AMBASSA.pdf\n",
      "✅ Fichier envoyé sur Dropbox : fiche de paie mai-juillet24 NL - Extracted pages.pdf\n",
      "✅ Fichier envoyé sur Dropbox : fiche de paie mai-juillet24 NL - Extracted pages_2.pdf\n",
      "✅ Fichier envoyé sur Dropbox : fiche de paie mai-juillet24 NL - Extracted pages_3.pdf\n",
      "✅ Fichier envoyé sur Dropbox : fiche de paie mai-juillet24 NL - Extracted pages_4.pdf\n",
      "✅ Fichier envoyé sur Dropbox : fiche de paie mai-juillet24 NL - Extracted pages_5.pdf\n",
      "✅ Fichier envoyé sur Dropbox : fiche de paie mai-juillet24 NL - Extracted pages_6 fr.pdf\n",
      "✅ Fichier envoyé sur Dropbox : fiche de paie mai-juillet24 NL - Extracted pages_6.pdf\n",
      "✅ Fichier envoyé sur Dropbox : Nouvellenoticeoffice2021proplus.pdf\n",
      "✅ Fichier envoyé sur Dropbox : OPIS GEC FR MADEX -TP.pdf\n"
     ]
    }
   ],
   "execution_count": 16
  },
  {
   "metadata": {
    "ExecuteTime": {
     "end_time": "2025-04-10T12:26:29.526009Z",
     "start_time": "2025-04-10T12:26:27.444630Z"
    }
   },
   "cell_type": "code",
   "source": [
    "# 📦 Code commenté : extraire les PDF et les envoyer sur Dropbox, organisés par objet de mail (l'objet de chaque mails sera un dossier et les pdf a l'interieur les fichiers)\n",
    "import re\n",
    "from email.header import decode_header\n",
    "\n",
    "# Fonction pour nettoyer un objet de mail (subject) afin de l’utiliser comme nom de dossier\n",
    "def clean_subject(subject):\n",
    "    subject = subject.strip()\n",
    "    # Remplace les caractères spéciaux interdits dans les noms de fichiers ou dossiers (Windows/Dropbox)\n",
    "    subject = re.sub(r'[\\\\\\\\/:*?\"<>|]', \"_\", subject)\n",
    "    # Limite la longueur à 100 caractères pour éviter les erreurs Dropbox\n",
    "    return subject[:100]\n",
    "\n",
    "# Variable pour compter les mails contenant au moins un PDF\n",
    "count_mails_with_pdf = 0\n",
    "\n",
    "# Parcourt chaque email trouvé précédemment\n",
    "for num in mail_ids:\n",
    "    status, data = imap.fetch(num, \"(RFC822)\")  # Récupère le contenu complet du mail\n",
    "    if status != \"OK\":\n",
    "        continue  # Ignore les mails mal récupérés\n",
    "\n",
    "    # Convertit le mail en objet exploitable avec email.message\n",
    "    msg = email.message_from_bytes(data[0][1])\n",
    "\n",
    "    # 📩 Extraction de l’objet du mail (subject)\n",
    "    subject_raw = msg.get(\"Subject\", \"Sans_Sujet\")  # Si aucun objet, on met \"Sans_Sujet\"\n",
    "    subject, encoding = decode_header(subject_raw)[0]  # Décodage si encodé MIME\n",
    "    if isinstance(subject, bytes):\n",
    "        subject = subject.decode(encoding or \"utf-8\", errors=\"ignore\")\n",
    "\n",
    "    # Nettoyage du sujet pour l’utiliser comme nom de dossier Dropbox\n",
    "    subject_cleaned = clean_subject(subject)\n",
    "\n",
    "    has_pdf = False  # Pour savoir si on a trouvé un PDF dans ce mail\n",
    "\n",
    "    # 🔍 Parcourt chaque \"partie\" du mail (le texte, les pièces jointes, etc.)\n",
    "    for part in msg.walk():\n",
    "        content_disposition = part.get(\"Content-Disposition\", \"\")\n",
    "\n",
    "        # Ignore les parties qui sont juste du texte ou HTML\n",
    "        if part.get_content_maintype() == \"multipart\":\n",
    "            continue\n",
    "\n",
    "        # On ne veut que les pièces jointes\n",
    "        if \"attachment\" in content_disposition:\n",
    "            filename = part.get_filename()\n",
    "            if filename and filename.lower().endswith(\".pdf\"):\n",
    "                # Décodage correct du nom de fichier\n",
    "                decoded_name, enc = decode_header(filename)[0]\n",
    "                if isinstance(decoded_name, bytes):\n",
    "                    decoded_name = decoded_name.decode(enc or \"utf-8\", errors=\"ignore\")\n",
    "\n",
    "                # ✅ Enregistrement local du fichier PDF\n",
    "                local_pdf_path = os.path.join(pdf_folder, decoded_name.replace(\"/\", \"_\"))\n",
    "                with open(local_pdf_path, \"wb\") as f:\n",
    "                    f.write(part.get_payload(decode=True))\n",
    "\n",
    "                has_pdf = True  # On marque qu’un PDF a été trouvé\n",
    "\n",
    "                # 📤 Préparation du chemin Dropbox (dossier = sujet du mail)\n",
    "                dropbox_path = f\"/MailsPDF/{subject_cleaned}/{decoded_name}\"\n",
    "\n",
    "                # 🔼 Envoi du fichier vers Dropbox\n",
    "                with open(local_pdf_path, \"rb\") as f:\n",
    "                    dbx.files_upload(f.read(), dropbox_path, mode=dropbox.files.WriteMode.overwrite)\n",
    "\n",
    "                print(f\"✅ PDF envoyé sur Dropbox : {dropbox_path}\")\n",
    "\n",
    "    if has_pdf:\n",
    "        count_mails_with_pdf += 1  # On incrémente le compteur global\n",
    "\n",
    "# Affiche le total à la fin\n",
    "print(f\"📬 Total de mails avec au moins un PDF : {count_mails_with_pdf}\")"
   ],
   "id": "3efc20d61b5862e8",
   "outputs": [
    {
     "ename": "abort",
     "evalue": "command: FETCH => socket error: EOF",
     "output_type": "error",
     "traceback": [
      "\u001B[1;31m---------------------------------------------------------------------------\u001B[0m",
      "\u001B[1;31mabort\u001B[0m                                     Traceback (most recent call last)",
      "File \u001B[1;32mC:\\Program Files\\Python313\\Lib\\imaplib.py:1056\u001B[0m, in \u001B[0;36mIMAP4._command_complete\u001B[1;34m(self, name, tag)\u001B[0m\n\u001B[0;32m   1055\u001B[0m \u001B[38;5;28;01mtry\u001B[39;00m:\n\u001B[1;32m-> 1056\u001B[0m     typ, data \u001B[38;5;241m=\u001B[39m \u001B[38;5;28;43mself\u001B[39;49m\u001B[38;5;241;43m.\u001B[39;49m\u001B[43m_get_tagged_response\u001B[49m\u001B[43m(\u001B[49m\u001B[43mtag\u001B[49m\u001B[43m,\u001B[49m\u001B[43m \u001B[49m\u001B[43mexpect_bye\u001B[49m\u001B[38;5;241;43m=\u001B[39;49m\u001B[43mlogout\u001B[49m\u001B[43m)\u001B[49m\n\u001B[0;32m   1057\u001B[0m \u001B[38;5;28;01mexcept\u001B[39;00m \u001B[38;5;28mself\u001B[39m\u001B[38;5;241m.\u001B[39mabort \u001B[38;5;28;01mas\u001B[39;00m val:\n",
      "File \u001B[1;32mC:\\Program Files\\Python313\\Lib\\imaplib.py:1182\u001B[0m, in \u001B[0;36mIMAP4._get_tagged_response\u001B[1;34m(self, tag, expect_bye)\u001B[0m\n\u001B[0;32m   1181\u001B[0m \u001B[38;5;28;01mtry\u001B[39;00m:\n\u001B[1;32m-> 1182\u001B[0m     \u001B[38;5;28;43mself\u001B[39;49m\u001B[38;5;241;43m.\u001B[39;49m\u001B[43m_get_response\u001B[49m\u001B[43m(\u001B[49m\u001B[43m)\u001B[49m\n\u001B[0;32m   1183\u001B[0m \u001B[38;5;28;01mexcept\u001B[39;00m \u001B[38;5;28mself\u001B[39m\u001B[38;5;241m.\u001B[39mabort \u001B[38;5;28;01mas\u001B[39;00m val:\n",
      "File \u001B[1;32mC:\\Program Files\\Python313\\Lib\\imaplib.py:1084\u001B[0m, in \u001B[0;36mIMAP4._get_response\u001B[1;34m(self)\u001B[0m\n\u001B[0;32m   1077\u001B[0m \u001B[38;5;28;01mdef\u001B[39;00m\u001B[38;5;250m \u001B[39m\u001B[38;5;21m_get_response\u001B[39m(\u001B[38;5;28mself\u001B[39m):\n\u001B[0;32m   1078\u001B[0m \n\u001B[0;32m   1079\u001B[0m     \u001B[38;5;66;03m# Read response and store.\u001B[39;00m\n\u001B[0;32m   1080\u001B[0m     \u001B[38;5;66;03m#\u001B[39;00m\n\u001B[0;32m   1081\u001B[0m     \u001B[38;5;66;03m# Returns None for continuation responses,\u001B[39;00m\n\u001B[0;32m   1082\u001B[0m     \u001B[38;5;66;03m# otherwise first response line received.\u001B[39;00m\n\u001B[1;32m-> 1084\u001B[0m     resp \u001B[38;5;241m=\u001B[39m \u001B[38;5;28;43mself\u001B[39;49m\u001B[38;5;241;43m.\u001B[39;49m\u001B[43m_get_line\u001B[49m\u001B[43m(\u001B[49m\u001B[43m)\u001B[49m\n\u001B[0;32m   1086\u001B[0m     \u001B[38;5;66;03m# Command completion response?\u001B[39;00m\n",
      "File \u001B[1;32mC:\\Program Files\\Python313\\Lib\\imaplib.py:1194\u001B[0m, in \u001B[0;36mIMAP4._get_line\u001B[1;34m(self)\u001B[0m\n\u001B[0;32m   1193\u001B[0m \u001B[38;5;28;01mif\u001B[39;00m \u001B[38;5;129;01mnot\u001B[39;00m line:\n\u001B[1;32m-> 1194\u001B[0m     \u001B[38;5;28;01mraise\u001B[39;00m \u001B[38;5;28mself\u001B[39m\u001B[38;5;241m.\u001B[39mabort(\u001B[38;5;124m'\u001B[39m\u001B[38;5;124msocket error: EOF\u001B[39m\u001B[38;5;124m'\u001B[39m)\n\u001B[0;32m   1196\u001B[0m \u001B[38;5;66;03m# Protocol mandates all lines terminated by CRLF\u001B[39;00m\n",
      "\u001B[1;31mabort\u001B[0m: socket error: EOF",
      "\nDuring handling of the above exception, another exception occurred:\n",
      "\u001B[1;31mabort\u001B[0m                                     Traceback (most recent call last)",
      "Cell \u001B[1;32mIn[17], line 18\u001B[0m\n\u001B[0;32m     16\u001B[0m \u001B[38;5;66;03m# Parcourt chaque email trouvé précédemment\u001B[39;00m\n\u001B[0;32m     17\u001B[0m \u001B[38;5;28;01mfor\u001B[39;00m num \u001B[38;5;129;01min\u001B[39;00m mail_ids:\n\u001B[1;32m---> 18\u001B[0m     status, data \u001B[38;5;241m=\u001B[39m \u001B[43mimap\u001B[49m\u001B[38;5;241;43m.\u001B[39;49m\u001B[43mfetch\u001B[49m\u001B[43m(\u001B[49m\u001B[43mnum\u001B[49m\u001B[43m,\u001B[49m\u001B[43m \u001B[49m\u001B[38;5;124;43m\"\u001B[39;49m\u001B[38;5;124;43m(RFC822)\u001B[39;49m\u001B[38;5;124;43m\"\u001B[39;49m\u001B[43m)\u001B[49m  \u001B[38;5;66;03m# Récupère le contenu complet du mail\u001B[39;00m\n\u001B[0;32m     19\u001B[0m     \u001B[38;5;28;01mif\u001B[39;00m status \u001B[38;5;241m!=\u001B[39m \u001B[38;5;124m\"\u001B[39m\u001B[38;5;124mOK\u001B[39m\u001B[38;5;124m\"\u001B[39m:\n\u001B[0;32m     20\u001B[0m         \u001B[38;5;28;01mcontinue\u001B[39;00m  \u001B[38;5;66;03m# Ignore les mails mal récupérés\u001B[39;00m\n",
      "File \u001B[1;32mC:\\Program Files\\Python313\\Lib\\imaplib.py:557\u001B[0m, in \u001B[0;36mIMAP4.fetch\u001B[1;34m(self, message_set, message_parts)\u001B[0m\n\u001B[0;32m    547\u001B[0m \u001B[38;5;250m\u001B[39m\u001B[38;5;124;03m\"\"\"Fetch (parts of) messages.\u001B[39;00m\n\u001B[0;32m    548\u001B[0m \n\u001B[0;32m    549\u001B[0m \u001B[38;5;124;03m(typ, [data, ...]) = <instance>.fetch(message_set, message_parts)\u001B[39;00m\n\u001B[1;32m   (...)\u001B[0m\n\u001B[0;32m    554\u001B[0m \u001B[38;5;124;03m'data' are tuples of message part envelope and data.\u001B[39;00m\n\u001B[0;32m    555\u001B[0m \u001B[38;5;124;03m\"\"\"\u001B[39;00m\n\u001B[0;32m    556\u001B[0m name \u001B[38;5;241m=\u001B[39m \u001B[38;5;124m'\u001B[39m\u001B[38;5;124mFETCH\u001B[39m\u001B[38;5;124m'\u001B[39m\n\u001B[1;32m--> 557\u001B[0m typ, dat \u001B[38;5;241m=\u001B[39m \u001B[38;5;28;43mself\u001B[39;49m\u001B[38;5;241;43m.\u001B[39;49m\u001B[43m_simple_command\u001B[49m\u001B[43m(\u001B[49m\u001B[43mname\u001B[49m\u001B[43m,\u001B[49m\u001B[43m \u001B[49m\u001B[43mmessage_set\u001B[49m\u001B[43m,\u001B[49m\u001B[43m \u001B[49m\u001B[43mmessage_parts\u001B[49m\u001B[43m)\u001B[49m\n\u001B[0;32m    558\u001B[0m \u001B[38;5;28;01mreturn\u001B[39;00m \u001B[38;5;28mself\u001B[39m\u001B[38;5;241m.\u001B[39m_untagged_response(typ, dat, name)\n",
      "File \u001B[1;32mC:\\Program Files\\Python313\\Lib\\imaplib.py:1239\u001B[0m, in \u001B[0;36mIMAP4._simple_command\u001B[1;34m(self, name, *args)\u001B[0m\n\u001B[0;32m   1237\u001B[0m \u001B[38;5;28;01mdef\u001B[39;00m\u001B[38;5;250m \u001B[39m\u001B[38;5;21m_simple_command\u001B[39m(\u001B[38;5;28mself\u001B[39m, name, \u001B[38;5;241m*\u001B[39margs):\n\u001B[1;32m-> 1239\u001B[0m     \u001B[38;5;28;01mreturn\u001B[39;00m \u001B[38;5;28;43mself\u001B[39;49m\u001B[38;5;241;43m.\u001B[39;49m\u001B[43m_command_complete\u001B[49m\u001B[43m(\u001B[49m\u001B[43mname\u001B[49m\u001B[43m,\u001B[49m\u001B[43m \u001B[49m\u001B[38;5;28;43mself\u001B[39;49m\u001B[38;5;241;43m.\u001B[39;49m\u001B[43m_command\u001B[49m\u001B[43m(\u001B[49m\u001B[43mname\u001B[49m\u001B[43m,\u001B[49m\u001B[43m \u001B[49m\u001B[38;5;241;43m*\u001B[39;49m\u001B[43margs\u001B[49m\u001B[43m)\u001B[49m\u001B[43m)\u001B[49m\n",
      "File \u001B[1;32mC:\\Program Files\\Python313\\Lib\\imaplib.py:1058\u001B[0m, in \u001B[0;36mIMAP4._command_complete\u001B[1;34m(self, name, tag)\u001B[0m\n\u001B[0;32m   1056\u001B[0m     typ, data \u001B[38;5;241m=\u001B[39m \u001B[38;5;28mself\u001B[39m\u001B[38;5;241m.\u001B[39m_get_tagged_response(tag, expect_bye\u001B[38;5;241m=\u001B[39mlogout)\n\u001B[0;32m   1057\u001B[0m \u001B[38;5;28;01mexcept\u001B[39;00m \u001B[38;5;28mself\u001B[39m\u001B[38;5;241m.\u001B[39mabort \u001B[38;5;28;01mas\u001B[39;00m val:\n\u001B[1;32m-> 1058\u001B[0m     \u001B[38;5;28;01mraise\u001B[39;00m \u001B[38;5;28mself\u001B[39m\u001B[38;5;241m.\u001B[39mabort(\u001B[38;5;124m'\u001B[39m\u001B[38;5;124mcommand: \u001B[39m\u001B[38;5;132;01m%s\u001B[39;00m\u001B[38;5;124m => \u001B[39m\u001B[38;5;132;01m%s\u001B[39;00m\u001B[38;5;124m'\u001B[39m \u001B[38;5;241m%\u001B[39m (name, val))\n\u001B[0;32m   1059\u001B[0m \u001B[38;5;28;01mexcept\u001B[39;00m \u001B[38;5;28mself\u001B[39m\u001B[38;5;241m.\u001B[39merror \u001B[38;5;28;01mas\u001B[39;00m val:\n\u001B[0;32m   1060\u001B[0m     \u001B[38;5;28;01mraise\u001B[39;00m \u001B[38;5;28mself\u001B[39m\u001B[38;5;241m.\u001B[39merror(\u001B[38;5;124m'\u001B[39m\u001B[38;5;124mcommand: \u001B[39m\u001B[38;5;132;01m%s\u001B[39;00m\u001B[38;5;124m => \u001B[39m\u001B[38;5;132;01m%s\u001B[39;00m\u001B[38;5;124m'\u001B[39m \u001B[38;5;241m%\u001B[39m (name, val))\n",
      "\u001B[1;31mabort\u001B[0m: command: FETCH => socket error: EOF"
     ]
    }
   ],
   "execution_count": 17
  },
  {
   "metadata": {},
   "cell_type": "code",
   "outputs": [],
   "execution_count": null,
   "source": "",
   "id": "972329baf0349b1a"
  },
  {
   "metadata": {},
   "cell_type": "code",
   "outputs": [],
   "execution_count": null,
   "source": [
    "# 🔁 Exemple d'extraction d'un identifiant unique par mail\n",
    "message_id = msg.get(\"Message-ID\", f\"mail_{num.decode()}\")  # Fallback sur l'ID du mail IMAP\n",
    "message_id_cleaned = re.sub(r'[<>:\"/\\\\|?*]', \"_\", message_id)[:50]  # Nettoyage\n",
    "\n",
    "# 📝 Création du nom de fichier unique\n",
    "unique_filename = f\"{message_id_cleaned}_{decoded_name.replace('/', '_')}\"\n",
    "local_pdf_path = os.path.join(local_folder_path, unique_filename)\n",
    "\n",
    "# Vérifie si le fichier existe déjà\n",
    "if not os.path.exists(local_pdf_path):\n",
    "    with open(local_pdf_path, \"wb\") as f:\n",
    "        f.write(part.get_payload(decode=True))\n",
    "    print(f\"✅ PDF enregistré localement : {local_pdf_path}\")\n",
    "\n"
   ],
   "id": "a7d1cce510d5e524"
  },
  {
   "metadata": {},
   "cell_type": "code",
   "outputs": [],
   "execution_count": null,
   "source": [
    "# Dossier local pour enregistrer les PDF\n",
    "pdf_folder = \"pdf_attachments\"\n",
    "\n",
    "# 📁 Création du chemin local équivalent à celui de Dropbox\n",
    "local_folder_path = os.path.join(pdf_folder, sender_cleaned, subject_cleaned)\n",
    "os.makedirs(local_folder_path, exist_ok=True)  # Crée le dossier s’il n'existe pas\n",
    "\n",
    "# 📄 Chemin complet du fichier PDF à enregistrer localement\n",
    "local_pdf_path = os.path.join(local_folder_path, decoded_name.replace(\"/\", \"_\"))\n",
    "\n",
    "# Enregistrement du fichier local\n",
    "\n",
    "with open(local_pdf_path, \"wb\") as f:\n",
    "    f.write(part.get_payload(decode=True))"
   ],
   "id": "3f29b20bcbda4a84"
  },
  {
   "metadata": {},
   "cell_type": "code",
   "outputs": [],
   "execution_count": null,
   "source": "",
   "id": "f9fa0d49f46b0803"
  },
  {
   "metadata": {},
   "cell_type": "code",
   "outputs": [],
   "execution_count": null,
   "source": "",
   "id": "11415243a0fc27f"
  }
 ],
 "metadata": {
  "kernelspec": {
   "display_name": "Python 3",
   "language": "python",
   "name": "python3"
  },
  "language_info": {
   "codemirror_mode": {
    "name": "ipython",
    "version": 2
   },
   "file_extension": ".py",
   "mimetype": "text/x-python",
   "name": "python",
   "nbconvert_exporter": "python",
   "pygments_lexer": "ipython2",
   "version": "2.7.6"
  }
 },
 "nbformat": 4,
 "nbformat_minor": 5
}
