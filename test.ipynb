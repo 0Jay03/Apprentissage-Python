{
 "cells": [
  {
   "cell_type": "code",
   "id": "initial_id",
   "metadata": {
    "collapsed": true,
    "ExecuteTime": {
     "end_time": "2025-02-06T11:33:03.909078Z",
     "start_time": "2025-02-06T11:33:03.899494Z"
    }
   },
   "source": [
    "def myname(nom):\n",
    "    print(f\"Je SUIS {nom}\")\n",
    "    \n",
    "myname(\"  A\"\n",
    "       lex\")"
   ],
   "outputs": [
    {
     "name": "stdout",
     "output_type": "stream",
     "text": [
      "Je SUIS alex\n"
     ]
    }
   ],
   "execution_count": 1
  },
  {
   "metadata": {},
   "cell_type": "code",
   "outputs": [],
   "execution_count": null,
   "source": [
    "x=5\n",
    "    type(x)\\\n",
    "        x= Hello world\\\n",
    "    \n",
    "        "
   ],
   "id": "d67b3dce6ddeacd4"
  },
  {
   "metadata": {
    "ExecuteTime": {
     "end_time": "2025-03-12T09:32:29.256168Z",
     "start_time": "2025-03-12T09:32:29.244619Z"
    }
   },
   "cell_type": "code",
   "source": [
    "x = [1,2,3]\n",
    "a=[]\n",
    "a[len(a:)] = [x]"
   ],
   "id": "531963f07f6b6635",
   "outputs": [
    {
     "ename": "SyntaxError",
     "evalue": "invalid syntax (2971710262.py, line 3)",
     "output_type": "error",
     "traceback": [
      "\u001B[1;36m  Cell \u001B[1;32mIn[4], line 3\u001B[1;36m\u001B[0m\n\u001B[1;33m    a[len(a:)] = [x]\u001B[0m\n\u001B[1;37m           ^\u001B[0m\n\u001B[1;31mSyntaxError\u001B[0m\u001B[1;31m:\u001B[0m invalid syntax\n"
     ]
    }
   ],
   "execution_count": 4
  },
  {
   "metadata": {},
   "cell_type": "code",
   "outputs": [],
   "execution_count": null,
   "source": "",
   "id": "19ec6bd09fadd5c"
  },
  {
   "metadata": {},
   "cell_type": "code",
   "outputs": [],
   "execution_count": null,
   "source": "",
   "id": "569ebedd496c8a6c"
  },
  {
   "metadata": {},
   "cell_type": "code",
   "outputs": [],
   "execution_count": null,
   "source": "",
   "id": "c722e8c8530310be"
  }
 ],
 "metadata": {
  "kernelspec": {
   "display_name": "Python 3",
   "language": "python",
   "name": "python3"
  },
  "language_info": {
   "codemirror_mode": {
    "name": "ipython",
    "version": 2
   },
   "file_extension": ".py",
   "mimetype": "text/x-python",
   "name": "python",
   "nbconvert_exporter": "python",
   "pygments_lexer": "ipython2",
   "version": "2.7.6"
  }
 },
 "nbformat": 4,
 "nbformat_minor": 5
}
