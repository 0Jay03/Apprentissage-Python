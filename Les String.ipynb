{
 "cells": [
  {
   "cell_type": "code",
   "execution_count": 1,
   "id": "initial_id",
   "metadata": {
    "ExecuteTime": {
     "end_time": "2025-02-18T10:39:45.442162Z",
     "start_time": "2025-02-18T10:39:45.427435Z"
    },
    "collapsed": true,
    "jupyter": {
     "outputs_hidden": true
    }
   },
   "outputs": [
    {
     "name": "stdout",
     "output_type": "stream",
     "text": [
      "Ceci est mon premier tweet sur les string\n"
     ]
    }
   ],
   "source": [
    "from tornado.util import unicode_type\n",
    "\n",
    "# Un string commence toujours par un \" ou '\n",
    "tweet = 'Ceci est mon premier tweet sur les string'\n",
    "print(tweet)"
   ]
  },
  {
   "cell_type": "code",
   "execution_count": 2,
   "id": "f8b7187981a721e4",
   "metadata": {
    "ExecuteTime": {
     "end_time": "2025-02-18T10:40:15.047712Z",
     "start_time": "2025-02-18T10:40:15.029691Z"
    }
   },
   "outputs": [
    {
     "data": {
      "text/plain": [
       "['Ceci', 'est', 'mon', 'premier', 'tweet', 'sur', 'les', 'string']"
      ]
     },
     "execution_count": 2,
     "metadata": {},
     "output_type": "execute_result"
    }
   ],
   "source": [
    "tweet.split()"
   ]
  },
  {
   "cell_type": "code",
   "execution_count": 3,
   "id": "8647e298ea6b3123",
   "metadata": {
    "ExecuteTime": {
     "end_time": "2025-02-18T10:42:14.436200Z",
     "start_time": "2025-02-18T10:42:14.424341Z"
    }
   },
   "outputs": [
    {
     "ename": "SyntaxError",
     "evalue": "invalid syntax (3252040487.py, line 1)",
     "output_type": "error",
     "traceback": [
      "\u001B[1;36m  Cell \u001B[1;32mIn[3], line 1\u001B[1;36m\u001B[0m\n\u001B[1;33m    autre_tweet = ''Ceci tient a voir si les string\u001B[0m\n\u001B[1;37m                    ^\u001B[0m\n\u001B[1;31mSyntaxError\u001B[0m\u001B[1;31m:\u001B[0m invalid syntax\n"
     ]
    }
   ],
   "source": [
    "autre_tweet = ''Ceci tient a voir si les string \n",
    "sont gérés avec 2 apostrophes''"
   ]
  },
  {
   "cell_type": "code",
   "execution_count": 4,
   "id": "2c948e7fdede8f44",
   "metadata": {
    "ExecuteTime": {
     "end_time": "2025-02-18T10:42:34.452376Z",
     "start_time": "2025-02-18T10:42:34.440892Z"
    }
   },
   "outputs": [
    {
     "ename": "_IncompleteInputError",
     "evalue": "incomplete input (605925872.py, line 1)",
     "output_type": "error",
     "traceback": [
      "\u001B[1;36m  Cell \u001B[1;32mIn[4], line 1\u001B[1;36m\u001B[0m\n\u001B[1;33m    autre_tweet = '''Ceci tient a voir si les string\u001B[0m\n\u001B[1;37m                  ^\u001B[0m\n\u001B[1;31m_IncompleteInputError\u001B[0m\u001B[1;31m:\u001B[0m incomplete input\n"
     ]
    }
   ],
   "source": [
    "autre_tweet = '''Ceci tient a voir si les string \n",
    "sont gérés avec 2 apostrophes'''"
   ]
  },
  {
   "cell_type": "code",
   "execution_count": 1,
   "id": "bc7136dd28593af0",
   "metadata": {
    "ExecuteTime": {
     "end_time": "2025-02-18T10:43:32.322100Z",
     "start_time": "2025-02-18T10:43:32.314034Z"
    }
   },
   "outputs": [
    {
     "name": "stdout",
     "output_type": "stream",
     "text": [
      "Ceci tient a voir si les string \n",
      "sont gérés avec 2 apostrophes\n"
     ]
    }
   ],
   "source": [
    "autre_tweet = '''Ceci tient a voir si les string \n",
    "sont gérés avec 2 apostrophes'''\n",
    "\n",
    "\n",
    "print(autre_tweet)"
   ]
  },
  {
   "cell_type": "code",
   "execution_count": 7,
   "id": "1b1ff1634bbd198e",
   "metadata": {
    "ExecuteTime": {
     "end_time": "2025-02-18T10:48:47.314835Z",
     "start_time": "2025-02-18T10:48:47.303421Z"
    }
   },
   "outputs": [],
   "source": [
    "## Les chaines de caracteres ne gerent pas les 2' mais uniquement a partir de 3' ou 3\" et ce nest qu'a ce niveau qu'on peut aller a la ligne autant de fois qu'on veut, la methode Split permet de decouper le string en different mot et ceci est determiné paer les espaces entre chaque mot"
   ]
  },
  {
   "cell_type": "code",
   "execution_count": 2,
   "id": "c5056824236df501",
   "metadata": {},
   "outputs": [
    {
     "name": "stdout",
     "output_type": "stream",
     "text": [
      "Hello world\n"
     ]
    }
   ],
   "source": [
    "print(\"Hello world\")"
   ]
  },
  {
   "cell_type": "code",
   "id": "579a4f2c2922b3d6",
   "metadata": {
    "ExecuteTime": {
     "end_time": "2025-02-19T09:30:10.126285Z",
     "start_time": "2025-02-19T09:30:10.115036Z"
    }
   },
   "source": "print(tweet)",
   "outputs": [
    {
     "name": "stdout",
     "output_type": "stream",
     "text": [
      "Ceci est mon premier tweet sur les string\n"
     ]
    }
   ],
   "execution_count": 24
  },
  {
   "cell_type": "code",
   "id": "490e1235dd5b6a5a",
   "metadata": {
    "ExecuteTime": {
     "end_time": "2025-02-19T09:33:44.100426Z",
     "start_time": "2025-02-19T09:33:44.086854Z"
    }
   },
   "source": [
    "liste_de_mots = tweet.split()\n",
    "print(liste_de_mots)"
   ],
   "outputs": [
    {
     "name": "stdout",
     "output_type": "stream",
     "text": [
      "['Ceci', 'est', 'mon', 'premier', 'tweet', 'sur', 'les', 'string']\n"
     ]
    }
   ],
   "execution_count": 28
  },
  {
   "cell_type": "code",
   "id": "e19cacd88bc72d7b",
   "metadata": {
    "ExecuteTime": {
     "end_time": "2025-02-19T09:35:04.528482Z",
     "start_time": "2025-02-19T09:35:04.510107Z"
    }
   },
   "source": "\"  \".join(liste_de_mots[:5])\n",
   "outputs": [
    {
     "data": {
      "text/plain": [
       "'Ceci est mon premier tweet'"
      ]
     },
     "execution_count": 33,
     "metadata": {},
     "output_type": "execute_result"
    }
   ],
   "execution_count": 33
  },
  {
   "cell_type": "code",
   "id": "4d29b04a9542924d",
   "metadata": {
    "ExecuteTime": {
     "end_time": "2025-02-19T10:23:58.788681Z",
     "start_time": "2025-02-19T10:23:58.775360Z"
    }
   },
   "source": [
    "# Exercise\n",
    "# On crée notre chaine de caractères\n",
    "definition_chaine_de_caracteres = \"\"\"\n",
    "En informatique, une chaîne de caractères est à la fois\n",
    "conceptuellement une suite ordonnée de caractères \n",
    "et physiquement une suite ordonnée d'unités de code (code unit).\n",
    "La chaîne de caractères est un type de donnée\n",
    "dans de nombreux langages informatiques. \n",
    "La traduction en anglais est string.\n",
    "\"\"\"\n",
    "# 1- Creons une liste de sous-caracteres\n",
    "divise_par_la_lettre_e = definition_chaine_de_caracteres.split(\"e\")\n",
    "print(divise_par_la_lettre_e)"
   ],
   "outputs": [
    {
     "name": "stdout",
     "output_type": "stream",
     "text": [
      "['\\nEn informatiqu', ', un', ' chaîn', ' d', ' caractèr', 's ', 'st à la fois\\nconc', 'ptu', 'll', 'm', 'nt un', ' suit', ' ordonné', ' d', ' caractèr', 's \\n', 't physiqu', 'm', 'nt un', ' suit', ' ordonné', \" d'unités d\", ' cod', ' (cod', ' unit).\\nLa chaîn', ' d', ' caractèr', 's ', 'st un typ', ' d', ' donné', '\\ndans d', ' nombr', 'ux langag', 's informatiqu', 's. \\nLa traduction ', 'n anglais ', 'st string.\\n']\n"
     ]
    }
   ],
   "execution_count": 51
  },
  {
   "cell_type": "code",
   "id": "70839e452d86f60c",
   "metadata": {
    "ExecuteTime": {
     "end_time": "2025-02-19T10:24:06.049616Z",
     "start_time": "2025-02-19T10:24:06.036549Z"
    }
   },
   "source": [
    "# Cree une liste de sous-caracteres en divisant par le .\n",
    "divise_par_le_point = definition_chaine_de_caracteres.split(\".\")\n",
    "print(divise_par_le_point)"
   ],
   "outputs": [
    {
     "name": "stdout",
     "output_type": "stream",
     "text": [
      "[\"\\nEn informatique, une chaîne de caractères est à la fois\\nconceptuellement une suite ordonnée de caractères \\net physiquement une suite ordonnée d'unités de code (code unit)\", '\\nLa chaîne de caractères est un type de donnée\\ndans de nombreux langages informatiques', ' \\nLa traduction en anglais est string', '\\n']\n"
     ]
    }
   ],
   "execution_count": 52
  },
  {
   "cell_type": "code",
   "id": "9fcdd2a272cfbee2",
   "metadata": {
    "ExecuteTime": {
     "end_time": "2025-02-19T10:27:06.517438Z",
     "start_time": "2025-02-19T10:27:06.504902Z"
    }
   },
   "source": [
    "# Cree la var pour diviser le 1er string\n",
    "divise_par_rapport_a_espace = divise_par_le_point[0].split()\n",
    "print(divise_par_rapport_a_espace)"
   ],
   "outputs": [
    {
     "name": "stdout",
     "output_type": "stream",
     "text": [
      "['En', 'informatique,', 'une', 'chaîne', 'de', 'caractères', 'est', 'à', 'la', 'fois', 'conceptuellement', 'une', 'suite', 'ordonnée', 'de', 'caractères', 'et', 'physiquement', 'une', 'suite', 'ordonnée', \"d'unités\", 'de', 'code', '(code', 'unit)']\n"
     ]
    }
   ],
   "execution_count": 56
  },
  {
   "cell_type": "code",
   "id": "b8106e125142dd45",
   "metadata": {
    "ExecuteTime": {
     "end_time": "2025-02-19T10:24:17.726887Z",
     "start_time": "2025-02-19T10:24:17.716323Z"
    }
   },
   "source": [
    "caractere_recolle = (\"/\").join(divise_par_rapport_a_espace)\n",
    "print(caractere_recolle)\n"
   ],
   "outputs": [
    {
     "name": "stdout",
     "output_type": "stream",
     "text": [
      "En/informatique,/une/chaîne/de/caractères/est/à/la/fois/conceptuellement/une/suite/ordonnée/de/caractères/et/physiquement/une/suite/ordonnée/d'unités/de/code/(code/unit)\n"
     ]
    }
   ],
   "execution_count": 54
  },
  {
   "cell_type": "code",
   "id": "6266616d4384a407",
   "metadata": {
    "ExecuteTime": {
     "end_time": "2025-02-19T10:31:43.602618Z",
     "start_time": "2025-02-19T10:31:43.592983Z"
    }
   },
   "source": [
    "# La methode STRIP\n",
    "\n",
    "string_avec_espaces = \"    Ceci est mon premier string avec plusieurs espaces pour la methode strip    \"\n",
    "print(string_avec_espaces)\n"
   ],
   "outputs": [
    {
     "name": "stdout",
     "output_type": "stream",
     "text": [
      "    Ceci est mon premier string avec plusieurs espaces pour la methode strip    \n"
     ]
    }
   ],
   "execution_count": 57
  },
  {
   "cell_type": "code",
   "id": "20a57a7416151b57",
   "metadata": {
    "ExecuteTime": {
     "end_time": "2025-02-19T10:32:57.364302Z",
     "start_time": "2025-02-19T10:32:57.350394Z"
    }
   },
   "source": "string_avec_espaces.strip()",
   "outputs": [
    {
     "data": {
      "text/plain": [
       "'Ceci est mon premier string avec plusieurs espaces pour la methode strip'"
      ]
     },
     "execution_count": 60,
     "metadata": {},
     "output_type": "execute_result"
    }
   ],
   "execution_count": 60
  },
  {
   "cell_type": "code",
   "id": "ab8955f8ee13bb1e",
   "metadata": {
    "ExecuteTime": {
     "end_time": "2025-02-19T10:35:14.067062Z",
     "start_time": "2025-02-19T10:35:14.051793Z"
    }
   },
   "source": "string_avec_espaces.rstrip()",
   "outputs": [
    {
     "data": {
      "text/plain": [
       "'    Ceci est mon premier string avec plusieurs espaces pour la methode strip'"
      ]
     },
     "execution_count": 61,
     "metadata": {},
     "output_type": "execute_result"
    }
   ],
   "execution_count": 61
  },
  {
   "cell_type": "code",
   "id": "557842d037c32c59",
   "metadata": {
    "ExecuteTime": {
     "end_time": "2025-02-19T10:35:31.675484Z",
     "start_time": "2025-02-19T10:35:31.661486Z"
    }
   },
   "source": "string_avec_espaces.lstrip()",
   "outputs": [
    {
     "data": {
      "text/plain": [
       "'Ceci est mon premier string avec plusieurs espaces pour la methode strip    '"
      ]
     },
     "execution_count": 62,
     "metadata": {},
     "output_type": "execute_result"
    }
   ],
   "execution_count": 62
  },
  {
   "cell_type": "code",
   "id": "11b1bf41799f7dc",
   "metadata": {
    "ExecuteTime": {
     "end_time": "2025-02-21T08:32:46.717432Z",
     "start_time": "2025-02-21T08:32:46.707379Z"
    }
   },
   "source": [
    "# Exercice sur les methodes lstrip, rstrip, strip\n",
    "\n",
    "# Dans cet exercice, on va extraire les informations de l'adresse du quartier général de Udemy à San Francisco. La variable adresse_udemy contient l'adresse de Udemy. À partir de cette variable et en utilisant les méthodes split et strip\n",
    "\n",
    "# Supposons qu'on a reçu cette addresse\n",
    "adresse_udemy = \"\"\"\n",
    "\n",
    "\n",
    "Udemy\n",
    "600 Harrison St – 3rd Floor \n",
    "San Francisco,  CA 94107, United States\n",
    "\"\"\"\n",
    "\n",
    "# Extraire les donnees \"nom\"\n",
    "print(adresse_udemy)"
   ],
   "outputs": [
    {
     "name": "stdout",
     "output_type": "stream",
     "text": [
      "\n",
      "\n",
      "\n",
      "Udemy\n",
      "600 Harrison St – 3rd Floor \n",
      "San Francisco,  CA 94107, United States\n",
      "\n"
     ]
    }
   ],
   "execution_count": 4
  },
  {
   "cell_type": "code",
   "id": "af18d9edda2020f0",
   "metadata": {
    "ExecuteTime": {
     "end_time": "2025-02-21T08:32:51.473339Z",
     "start_time": "2025-02-21T08:32:51.463033Z"
    }
   },
   "source": [
    "nom = adresse_udemy.strip().split(\"\\n\")[0]\n",
    "print(nom)"
   ],
   "outputs": [
    {
     "name": "stdout",
     "output_type": "stream",
     "text": [
      "Udemy\n"
     ]
    }
   ],
   "execution_count": 5
  },
  {
   "cell_type": "code",
   "id": "ff1c030ac34662a5",
   "metadata": {
    "ExecuteTime": {
     "end_time": "2025-02-21T08:32:53.946941Z",
     "start_time": "2025-02-21T08:32:53.937551Z"
    }
   },
   "source": [
    "rue = adresse_udemy.strip().split(\"\\n\")[1]\n",
    "print(rue)"
   ],
   "outputs": [
    {
     "name": "stdout",
     "output_type": "stream",
     "text": [
      "600 Harrison St – 3rd Floor \n"
     ]
    }
   ],
   "execution_count": 6
  },
  {
   "cell_type": "code",
   "id": "e4f75d335b7259a8",
   "metadata": {
    "ExecuteTime": {
     "end_time": "2025-02-21T08:33:00.910767Z",
     "start_time": "2025-02-21T08:33:00.899498Z"
    }
   },
   "source": [
    "etat_codepostal_pays = adresse_udemy.strip().split(\"\\n\")[2]\n",
    "print(etat_codepostal_pays)"
   ],
   "outputs": [
    {
     "name": "stdout",
     "output_type": "stream",
     "text": [
      "San Francisco,  CA 94107, United States\n"
     ]
    }
   ],
   "execution_count": 8
  },
  {
   "cell_type": "code",
   "id": "3bed33edd6146ca1",
   "metadata": {
    "ExecuteTime": {
     "end_time": "2025-02-21T08:33:03.460813Z",
     "start_time": "2025-02-21T08:33:03.444313Z"
    }
   },
   "source": " etat_codepostal_pays.split()\n",
   "outputs": [
    {
     "data": {
      "text/plain": [
       "['San', 'Francisco,', 'CA', '94107,', 'United', 'States']"
      ]
     },
     "execution_count": 9,
     "metadata": {},
     "output_type": "execute_result"
    }
   ],
   "execution_count": 9
  },
  {
   "cell_type": "code",
   "id": "926f2cf03a363695",
   "metadata": {
    "ExecuteTime": {
     "end_time": "2025-02-21T08:33:48.776276Z",
     "start_time": "2025-02-21T08:33:48.766755Z"
    }
   },
   "source": [
    "etat = etat_codepostal_pays.split()[:2]\n",
    "print(etat)"
   ],
   "outputs": [
    {
     "name": "stdout",
     "output_type": "stream",
     "text": [
      "['San', 'Francisco,']\n"
     ]
    }
   ],
   "execution_count": 11
  },
  {
   "cell_type": "code",
   "id": "f15c0345d62e278",
   "metadata": {
    "ExecuteTime": {
     "end_time": "2025-02-19T11:07:38.851065Z",
     "start_time": "2025-02-19T11:07:38.841741Z"
    }
   },
   "source": [
    "etat1 = \" \".join(etat_codepostal_pays.split()[:2])\n",
    "print(\"etat:\", etat)\n"
   ],
   "outputs": [
    {
     "name": "stdout",
     "output_type": "stream",
     "text": [
      "etat: San Francisco,\n"
     ]
    }
   ],
   "execution_count": 91
  },
  {
   "cell_type": "code",
   "id": "400a9ad315498283",
   "metadata": {
    "ExecuteTime": {
     "end_time": "2025-02-21T08:34:10.366303Z",
     "start_time": "2025-02-21T08:34:10.312943Z"
    }
   },
   "source": [
    "code_postal1 = \" \".join(etat_codepostal_pays.split()[2:4])\n",
    "print(\"code postal:\", code_postal)"
   ],
   "outputs": [
    {
     "ename": "NameError",
     "evalue": "name 'code_postal' is not defined",
     "output_type": "error",
     "traceback": [
      "\u001B[1;31m---------------------------------------------------------------------------\u001B[0m",
      "\u001B[1;31mNameError\u001B[0m                                 Traceback (most recent call last)",
      "Cell \u001B[1;32mIn[12], line 2\u001B[0m\n\u001B[0;32m      1\u001B[0m code_postal1 \u001B[38;5;241m=\u001B[39m \u001B[38;5;124m\"\u001B[39m\u001B[38;5;124m \u001B[39m\u001B[38;5;124m\"\u001B[39m\u001B[38;5;241m.\u001B[39mjoin(etat_codepostal_pays\u001B[38;5;241m.\u001B[39msplit()[\u001B[38;5;241m2\u001B[39m:\u001B[38;5;241m4\u001B[39m])\n\u001B[1;32m----> 2\u001B[0m \u001B[38;5;28mprint\u001B[39m(\u001B[38;5;124m\"\u001B[39m\u001B[38;5;124mcode postal:\u001B[39m\u001B[38;5;124m\"\u001B[39m, \u001B[43mcode_postal\u001B[49m)\n",
      "\u001B[1;31mNameError\u001B[0m: name 'code_postal' is not defined"
     ]
    }
   ],
   "execution_count": 12
  },
  {
   "cell_type": "code",
   "id": "2f0bddd4f57d7886",
   "metadata": {
    "ExecuteTime": {
     "end_time": "2025-02-19T11:10:19.809048Z",
     "start_time": "2025-02-19T11:10:19.796604Z"
    }
   },
   "source": [
    "pays1 = \" \".join(etat_codepostal_pays.split()[4:6])\n",
    "print(\"pays\", pays)"
   ],
   "outputs": [
    {
     "name": "stdout",
     "output_type": "stream",
     "text": [
      "pays United States\n"
     ]
    }
   ],
   "execution_count": 96
  },
  {
   "cell_type": "code",
   "id": "1ad3f5a25b364b97",
   "metadata": {
    "ExecuteTime": {
     "end_time": "2025-02-19T11:18:08.925453Z",
     "start_time": "2025-02-19T11:18:08.911591Z"
    }
   },
   "source": "etat_codepostal_pays.split(\",\")",
   "outputs": [
    {
     "data": {
      "text/plain": [
       "['San Francisco', '  CA 94107', ' United States']"
      ]
     },
     "execution_count": 105,
     "metadata": {},
     "output_type": "execute_result"
    }
   ],
   "execution_count": 105
  },
  {
   "cell_type": "code",
   "execution_count": null,
   "id": "294106431a93475a",
   "metadata": {},
   "outputs": [],
   "source": [
    "etat = etat_codepostal_pays.split(\",\")[0]\n",
    "print(etat)"
   ]
  },
  {
   "cell_type": "code",
   "id": "ccd326bc3384a6a",
   "metadata": {
    "ExecuteTime": {
     "end_time": "2025-02-19T12:42:36.551401Z",
     "start_time": "2025-02-19T12:42:36.536394Z"
    }
   },
   "source": [
    "txt = \",,,,,rrrrtttggg......babana....rrrr\"\n",
    "x = txt.strip(\",.grt\")\n",
    "print(x)\n"
   ],
   "outputs": [
    {
     "name": "stdout",
     "output_type": "stream",
     "text": [
      "babana\n"
     ]
    }
   ],
   "execution_count": 113
  },
  {
   "metadata": {},
   "cell_type": "markdown",
   "source": "",
   "id": "ec0ebdd93eab0f1"
  },
  {
   "cell_type": "code",
   "id": "dbe10c7faf9d09f5",
   "metadata": {
    "ExecuteTime": {
     "end_time": "2025-02-21T08:38:42.406501Z",
     "start_time": "2025-02-21T08:38:42.395541Z"
    }
   },
   "source": [
    "#Concatenation des String (Operattion sur les chaines de caracteres )\n",
    "message = \"Bonjour PRENOM, vous recevrez votre colis à l'adresse ADRESSE\""
   ],
   "outputs": [],
   "execution_count": 14
  },
  {
   "cell_type": "code",
   "id": "1301f58e7ceaa0ba",
   "metadata": {
    "ExecuteTime": {
     "end_time": "2025-02-21T08:38:39.966037Z",
     "start_time": "2025-02-21T08:38:39.950903Z"
    }
   },
   "source": [
    "\n",
    "prenom = 'Serge'\n",
    "adresse = \"\"\"Pk10\n",
    "10e avenue, Beedi\n",
    "101012 Visca BARCA\n",
    "Espagne\n",
    "\"\"\""
   ],
   "outputs": [],
   "execution_count": 13
  },
  {
   "cell_type": "code",
   "id": "2b003518e0bd753c",
   "metadata": {
    "ExecuteTime": {
     "end_time": "2025-02-21T08:41:24.577835Z",
     "start_time": "2025-02-21T08:41:24.568860Z"
    }
   },
   "source": "print(\"Bonjour \" + prenom + \", vous recevrez votre colis à l'adresse \" + adresse)",
   "outputs": [
    {
     "name": "stdout",
     "output_type": "stream",
     "text": [
      "Bonjour Serge, vous recevrez votre colis à l'adresse Pk10\n",
      "10e avenue, Beedi\n",
      "101012 Visca BARCA\n",
      "Espagne\n",
      "\n"
     ]
    }
   ],
   "execution_count": 17
  },
  {
   "cell_type": "code",
   "id": "c958b989300228f6",
   "metadata": {
    "ExecuteTime": {
     "end_time": "2025-02-21T10:46:55.888727Z",
     "start_time": "2025-02-21T10:46:55.875917Z"
    }
   },
   "source": [
    "# Utilisation de la methode .format\n",
    "print(\"Bonjour {}, vous recevrez votre colis à {}\".format(prenom, adresse))"
   ],
   "outputs": [
    {
     "name": "stdout",
     "output_type": "stream",
     "text": [
      "Bonjour Serge, vous recevrez votre colis à Pk10\n",
      "10e avenue, Beedi\n",
      "101012 Visca BARCA\n",
      "Espagne\n",
      "\n"
     ]
    }
   ],
   "execution_count": 21
  },
  {
   "cell_type": "code",
   "id": "17bde97859469e93",
   "metadata": {
    "ExecuteTime": {
     "end_time": "2025-02-21T10:49:07.931427Z",
     "start_time": "2025-02-21T10:49:07.913756Z"
    }
   },
   "source": [
    "#string{}.format(nom des variables)\n",
    "print(\"Bonjour {a}, vous recevrez votre colis à {b}\".format(a = prenom, b = adresse))"
   ],
   "outputs": [
    {
     "name": "stdout",
     "output_type": "stream",
     "text": [
      "Bonjour Serge, vous recevrez votre colis à Pk10\n",
      "10e avenue, Beedi\n",
      "101012 Visca BARCA\n",
      "Espagne\n",
      "\n"
     ]
    }
   ],
   "execution_count": 22
  },
  {
   "cell_type": "code",
   "id": "d8b7c2746510dc84",
   "metadata": {
    "ExecuteTime": {
     "end_time": "2025-02-21T11:14:05.020653Z",
     "start_time": "2025-02-21T11:14:05.000172Z"
    }
   },
   "source": [
    "# Utilisation de f\"string\"\n",
    "print(f\"Bonjour {prenom}, vous recevrez votre colis à {adresse}\")"
   ],
   "outputs": [
    {
     "name": "stdout",
     "output_type": "stream",
     "text": [
      "Bonjour Serge, vous recevrez votre colis à Pk10\n",
      "10e avenue, Beedi\n",
      "101012 Visca BARCA\n",
      "Espagne\n",
      "\n"
     ]
    }
   ],
   "execution_count": 23
  },
  {
   "cell_type": "code",
   "id": "12ec9ab3d075085a",
   "metadata": {
    "ExecuteTime": {
     "end_time": "2025-02-21T11:25:41.099034Z",
     "start_time": "2025-02-21T11:25:41.093854Z"
    }
   },
   "source": [
    "# Exercice sur la concatenation des string\n",
    "string_1 = \"Ceci est\"\n",
    "string_2 = \"un message\"\n",
    "string_3 = \"important\""
   ],
   "outputs": [],
   "execution_count": 31
  },
  {
   "cell_type": "code",
   "id": "dedb6703779f611e",
   "metadata": {
    "ExecuteTime": {
     "end_time": "2025-02-21T11:25:43.004197Z",
     "start_time": "2025-02-21T11:25:42.997151Z"
    }
   },
   "source": [
    "addition_string = string_1 + string_2 + string_3\n",
    "print(addition_string)"
   ],
   "outputs": [
    {
     "name": "stdout",
     "output_type": "stream",
     "text": [
      "Ceci est un message important \n"
     ]
    }
   ],
   "execution_count": 32
  },
  {
   "cell_type": "code",
   "id": "38a6d976fea33b4d",
   "metadata": {
    "ExecuteTime": {
     "end_time": "2025-02-21T11:40:20.064051Z",
     "start_time": "2025-02-21T11:40:20.057112Z"
    }
   },
   "source": [
    "# Ajoutons les espaces\n",
    "addition_string = string_1 + \"\" + string_2+string_3\n",
    "print(addition_string)"
   ],
   "outputs": [
    {
     "name": "stdout",
     "output_type": "stream",
     "text": [
      "Ceci est un message important \n"
     ]
    }
   ],
   "execution_count": 51
  },
  {
   "cell_type": "code",
   "id": "517d3f30bcc3b280",
   "metadata": {
    "ExecuteTime": {
     "end_time": "2025-02-21T12:47:07.821091Z",
     "start_time": "2025-02-21T12:47:07.813179Z"
    }
   },
   "source": [
    "format_string = \"{} {} {}\".format(string_1,string_2,string_3)\n",
    "print(format_string)"
   ],
   "outputs": [
    {
     "name": "stdout",
     "output_type": "stream",
     "text": [
      "Ceci est  un message  important \n"
     ]
    }
   ],
   "execution_count": 53
  },
  {
   "cell_type": "code",
   "id": "6b9bd4788cd3779f",
   "metadata": {
    "ExecuteTime": {
     "end_time": "2025-02-21T12:50:53.071072Z",
     "start_time": "2025-02-21T12:50:53.062917Z"
    }
   },
   "source": [
    "f_string = f\"{string_1.strip()} {string_2.strip()} {string_3.strip()}\"\n",
    "print(f_string)"
   ],
   "outputs": [
    {
     "name": "stdout",
     "output_type": "stream",
     "text": [
      "Ceci est un message important\n"
     ]
    }
   ],
   "execution_count": 61
  },
  {
   "cell_type": "code",
   "id": "e042a56493d40f2f",
   "metadata": {
    "ExecuteTime": {
     "end_time": "2025-02-21T12:59:20.304373Z",
     "start_time": "2025-02-21T12:59:20.292595Z"
    }
   },
   "source": [
    "# Les chaines de caracteres : autres methodes\n",
    "# 1- Methode Startswith, Endswith\n",
    "un_string = \"ceci est un message important.\""
   ],
   "outputs": [],
   "execution_count": 62
  },
  {
   "cell_type": "code",
   "id": "106dcbbc2514f92f",
   "metadata": {
    "ExecuteTime": {
     "end_time": "2025-02-21T13:00:42.938134Z",
     "start_time": "2025-02-21T13:00:42.927007Z"
    }
   },
   "source": "un_string.startswith(\"ceci\")",
   "outputs": [
    {
     "data": {
      "text/plain": [
       "True"
      ]
     },
     "execution_count": 65,
     "metadata": {},
     "output_type": "execute_result"
    }
   ],
   "execution_count": 65
  },
  {
   "cell_type": "code",
   "id": "fc522894a71140dc",
   "metadata": {
    "ExecuteTime": {
     "end_time": "2025-02-21T13:01:50.933863Z",
     "start_time": "2025-02-21T13:01:50.925922Z"
    }
   },
   "source": "un_string.endswith('d')",
   "outputs": [
    {
     "data": {
      "text/plain": [
       "False"
      ]
     },
     "execution_count": 70,
     "metadata": {},
     "output_type": "execute_result"
    }
   ],
   "execution_count": 70
  },
  {
   "cell_type": "code",
   "execution_count": null,
   "id": "bbafaebaf77adf37",
   "metadata": {},
   "outputs": [],
   "source": [
    "# 2 les methodes Isdigit, Isalpha, isalnum\n",
    "# isdigit verifie : qu'un string ne contient que des chiffres\n",
    "#isalpha verifie : que ce ne sont que des lettres\n",
    "#isalnum continet des caracteres alpha num"
   ]
  },
  {
   "cell_type": "code",
   "id": "df650e52363c7a1b",
   "metadata": {
    "ExecuteTime": {
     "end_time": "2025-02-21T13:11:29.619087Z",
     "start_time": "2025-02-21T13:11:29.611461Z"
    }
   },
   "source": "un_string.isdigit()",
   "outputs": [
    {
     "data": {
      "text/plain": [
       "False"
      ]
     },
     "execution_count": 71,
     "metadata": {},
     "output_type": "execute_result"
    }
   ],
   "execution_count": 71
  },
  {
   "cell_type": "code",
   "id": "7c657a768e951f69",
   "metadata": {
    "ExecuteTime": {
     "end_time": "2025-02-21T13:11:53.443553Z",
     "start_time": "2025-02-21T13:11:53.433993Z"
    }
   },
   "source": "un_string.isalnum()",
   "outputs": [
    {
     "data": {
      "text/plain": [
       "False"
      ]
     },
     "execution_count": 72,
     "metadata": {},
     "output_type": "execute_result"
    }
   ],
   "execution_count": 72
  },
  {
   "cell_type": "code",
   "id": "8025852706776c20",
   "metadata": {
    "ExecuteTime": {
     "end_time": "2025-02-21T13:12:22.053111Z",
     "start_time": "2025-02-21T13:12:22.041964Z"
    }
   },
   "source": "un_string.isalpha()",
   "outputs": [
    {
     "data": {
      "text/plain": [
       "False"
      ]
     },
     "execution_count": 73,
     "metadata": {},
     "output_type": "execute_result"
    }
   ],
   "execution_count": 73
  },
  {
   "cell_type": "code",
   "id": "74462144117f91eb",
   "metadata": {
    "ExecuteTime": {
     "end_time": "2025-02-21T13:16:39.060025Z",
     "start_time": "2025-02-21T13:16:39.037803Z"
    }
   },
   "source": "\"ceci \".isalpha()",
   "outputs": [
    {
     "data": {
      "text/plain": [
       "False"
      ]
     },
     "execution_count": 74,
     "metadata": {},
     "output_type": "execute_result"
    }
   ],
   "execution_count": 74
  },
  {
   "cell_type": "code",
   "id": "fe8743c73a277001",
   "metadata": {
    "ExecuteTime": {
     "end_time": "2025-02-21T13:20:38.825111Z",
     "start_time": "2025-02-21T13:20:38.813854Z"
    }
   },
   "source": "\"ceci\".isalpha()",
   "outputs": [
    {
     "data": {
      "text/plain": [
       "True"
      ]
     },
     "execution_count": 78,
     "metadata": {},
     "output_type": "execute_result"
    }
   ],
   "execution_count": 78
  },
  {
   "metadata": {},
   "cell_type": "markdown",
   "source": "# Exercices sur les méthodes des string\n",
   "id": "c60ec20cd2cdf281"
  },
  {
   "cell_type": "code",
   "id": "40ac22596bab4d6a",
   "metadata": {
    "ExecuteTime": {
     "end_time": "2025-02-21T13:34:27.115355Z",
     "start_time": "2025-02-21T13:34:27.109334Z"
    }
   },
   "source": "liste_de_valeurs = [\"udemy\", 600, \"Harrison St 3rd Floor\", \"San Francisco\", \"CA 94107\", \"United States\"]",
   "outputs": [],
   "execution_count": 79
  },
  {
   "metadata": {
    "ExecuteTime": {
     "end_time": "2025-02-21T13:41:57.387800Z",
     "start_time": "2025-02-21T13:41:57.360325Z"
    }
   },
   "cell_type": "code",
   "source": "\"/\".join(liste_de_valeurs)",
   "id": "8975975a467da4e2",
   "outputs": [
    {
     "ename": "TypeError",
     "evalue": "sequence item 1: expected str instance, int found",
     "output_type": "error",
     "traceback": [
      "\u001B[1;31m---------------------------------------------------------------------------\u001B[0m",
      "\u001B[1;31mTypeError\u001B[0m                                 Traceback (most recent call last)",
      "Cell \u001B[1;32mIn[83], line 1\u001B[0m\n\u001B[1;32m----> 1\u001B[0m \u001B[38;5;124;43m\"\u001B[39;49m\u001B[38;5;124;43m/\u001B[39;49m\u001B[38;5;124;43m\"\u001B[39;49m\u001B[38;5;241;43m.\u001B[39;49m\u001B[43mjoin\u001B[49m\u001B[43m(\u001B[49m\u001B[43mliste_de_valeurs\u001B[49m\u001B[43m)\u001B[49m\n",
      "\u001B[1;31mTypeError\u001B[0m: sequence item 1: expected str instance, int found"
     ]
    }
   ],
   "execution_count": 83
  },
  {
   "metadata": {
    "ExecuteTime": {
     "end_time": "2025-02-21T13:42:44.178167Z",
     "start_time": "2025-02-21T13:42:44.172255Z"
    }
   },
   "cell_type": "code",
   "source": "liste_de_valeurs_transformee = [\"udemy\", \"600\", \"Harrison St 3rd Floor\", \"San Francisco\", \"CA 94107\", \"United States\"]",
   "id": "260f5d6ddc76780b",
   "outputs": [],
   "execution_count": 84
  },
  {
   "metadata": {
    "ExecuteTime": {
     "end_time": "2025-02-21T13:43:04.302640Z",
     "start_time": "2025-02-21T13:43:04.286783Z"
    }
   },
   "cell_type": "code",
   "source": "\"/\".join(liste_de_valeurs_transformee)",
   "id": "40db9fcba422dc69",
   "outputs": [
    {
     "data": {
      "text/plain": [
       "'udemy/600/Harrison St 3rd Floor/San Francisco/CA 94107/United States'"
      ]
     },
     "execution_count": 86,
     "metadata": {},
     "output_type": "execute_result"
    }
   ],
   "execution_count": 86
  },
  {
   "metadata": {
    "ExecuteTime": {
     "end_time": "2025-02-21T13:47:32.932672Z",
     "start_time": "2025-02-21T13:47:32.917940Z"
    }
   },
   "cell_type": "code",
   "source": [
    "# Verifions que le code postal contient bien des chiffres et des lettres\n",
    "code_postal = liste_de_valeurs_transformee[-2]\n",
    "print(code_postal)"
   ],
   "id": "1d60b4284b4fea91",
   "outputs": [
    {
     "name": "stdout",
     "output_type": "stream",
     "text": [
      "CA 94107\n"
     ]
    }
   ],
   "execution_count": 89
  },
  {
   "metadata": {
    "ExecuteTime": {
     "end_time": "2025-02-21T13:48:49.544132Z",
     "start_time": "2025-02-21T13:48:49.536335Z"
    }
   },
   "cell_type": "code",
   "source": [
    "code_postal_contient_que_des_chiffres = code_postal.isalnum()\n",
    "print(code_postal_contient_que_des_chiffres)"
   ],
   "id": "a4634c83a82b8035",
   "outputs": [
    {
     "name": "stdout",
     "output_type": "stream",
     "text": [
      "False\n"
     ]
    }
   ],
   "execution_count": 91
  },
  {
   "metadata": {
    "ExecuteTime": {
     "end_time": "2025-02-21T13:50:20.325251Z",
     "start_time": "2025-02-21T13:50:20.318652Z"
    }
   },
   "cell_type": "code",
   "source": [
    "# Verifions que le nom du pays ne contient que des lettres\n",
    "nom_pays = liste_de_valeurs_transformee[-1]\n",
    "print(nom_pays)"
   ],
   "id": "45709bd8f8489fa7",
   "outputs": [
    {
     "name": "stdout",
     "output_type": "stream",
     "text": [
      "United States\n"
     ]
    }
   ],
   "execution_count": 92
  },
  {
   "metadata": {
    "ExecuteTime": {
     "end_time": "2025-02-21T13:51:47.146767Z",
     "start_time": "2025-02-21T13:51:47.140182Z"
    }
   },
   "cell_type": "code",
   "source": [
    "nom_pays_contient_que_des_lettres = nom_pays.isalpha()\n",
    "print(nom_pays_contient_que_des_lettres)"
   ],
   "id": "4e16eefd9c560809",
   "outputs": [
    {
     "name": "stdout",
     "output_type": "stream",
     "text": [
      "False\n"
     ]
    }
   ],
   "execution_count": 94
  },
  {
   "metadata": {
    "ExecuteTime": {
     "end_time": "2025-02-21T13:58:54.417566Z",
     "start_time": "2025-02-21T13:58:54.404918Z"
    }
   },
   "cell_type": "code",
   "source": [
    "code_postal_liste = code_postal.split()\n",
    "print(code_postal_liste)"
   ],
   "id": "901d6d0bbd048a77",
   "outputs": [
    {
     "name": "stdout",
     "output_type": "stream",
     "text": [
      "['CA', '94107']\n"
     ]
    }
   ],
   "execution_count": 97
  },
  {
   "metadata": {
    "ExecuteTime": {
     "end_time": "2025-02-21T13:59:49.095191Z",
     "start_time": "2025-02-21T13:59:49.086733Z"
    }
   },
   "cell_type": "code",
   "source": "\"\".join(code_postal_liste)",
   "id": "3b627f5e57965dd6",
   "outputs": [
    {
     "data": {
      "text/plain": [
       "'CA94107'"
      ]
     },
     "execution_count": 98,
     "metadata": {},
     "output_type": "execute_result"
    }
   ],
   "execution_count": 98
  },
  {
   "metadata": {},
   "cell_type": "code",
   "outputs": [],
   "execution_count": null,
   "source": "",
   "id": "e3aea65fb6ce983c"
  },
  {
   "metadata": {},
   "cell_type": "code",
   "outputs": [],
   "execution_count": null,
   "source": "",
   "id": "41a16d2212a9f05e"
  },
  {
   "metadata": {},
   "cell_type": "code",
   "outputs": [],
   "execution_count": null,
   "source": "",
   "id": "4c1107319abc0b13"
  },
  {
   "metadata": {},
   "cell_type": "code",
   "outputs": [],
   "execution_count": null,
   "source": "",
   "id": "b5a3e8ba029ec6b6"
  },
  {
   "metadata": {},
   "cell_type": "code",
   "outputs": [],
   "execution_count": null,
   "source": "",
   "id": "f02a2b0860a2b2fd"
  }
 ],
 "metadata": {
  "kernelspec": {
   "display_name": "Python 3 (ipykernel)",
   "language": "python",
   "name": "python3"
  },
  "language_info": {
   "codemirror_mode": {
    "name": "ipython",
    "version": 3
   },
   "file_extension": ".py",
   "mimetype": "text/x-python",
   "name": "python",
   "nbconvert_exporter": "python",
   "pygments_lexer": "ipython3",
   "version": "3.13.2"
  }
 },
 "nbformat": 4,
 "nbformat_minor": 5
}
