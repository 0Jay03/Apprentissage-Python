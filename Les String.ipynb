{
 "cells": [
  {
   "cell_type": "code",
   "id": "initial_id",
   "metadata": {
    "collapsed": true,
    "ExecuteTime": {
     "end_time": "2025-02-18T10:39:45.442162Z",
     "start_time": "2025-02-18T10:39:45.427435Z"
    }
   },
   "source": [
    "# Un string commence toujours par un \" ou '\n",
    "tweet = 'Ceci est mon premier tweet sur les string'\n",
    "print(tweet)"
   ],
   "outputs": [
    {
     "name": "stdout",
     "output_type": "stream",
     "text": [
      "Ceci est mon premier tweet sur les string\n"
     ]
    }
   ],
   "execution_count": 1
  },
  {
   "metadata": {
    "ExecuteTime": {
     "end_time": "2025-02-18T10:40:15.047712Z",
     "start_time": "2025-02-18T10:40:15.029691Z"
    }
   },
   "cell_type": "code",
   "source": "tweet.split()",
   "id": "f8b7187981a721e4",
   "outputs": [
    {
     "data": {
      "text/plain": [
       "['Ceci', 'est', 'mon', 'premier', 'tweet', 'sur', 'les', 'string']"
      ]
     },
     "execution_count": 2,
     "metadata": {},
     "output_type": "execute_result"
    }
   ],
   "execution_count": 2
  },
  {
   "metadata": {
    "ExecuteTime": {
     "end_time": "2025-02-18T10:42:14.436200Z",
     "start_time": "2025-02-18T10:42:14.424341Z"
    }
   },
   "cell_type": "code",
   "source": [
    "autre_tweet = ''Ceci tient a voir si les string \n",
    "sont gérés avec 2 apostrophes''"
   ],
   "id": "8647e298ea6b3123",
   "outputs": [
    {
     "ename": "SyntaxError",
     "evalue": "invalid syntax (3252040487.py, line 1)",
     "output_type": "error",
     "traceback": [
      "\u001B[1;36m  Cell \u001B[1;32mIn[3], line 1\u001B[1;36m\u001B[0m\n\u001B[1;33m    autre_tweet = ''Ceci tient a voir si les string\u001B[0m\n\u001B[1;37m                    ^\u001B[0m\n\u001B[1;31mSyntaxError\u001B[0m\u001B[1;31m:\u001B[0m invalid syntax\n"
     ]
    }
   ],
   "execution_count": 3
  },
  {
   "metadata": {
    "ExecuteTime": {
     "end_time": "2025-02-18T10:55:29.734321Z",
     "start_time": "2025-02-18T10:55:29.718872Z"
    }
   },
   "cell_type": "code",
   "source": [
    "autre_tweet = '''Ceci tient a voir si les string \n",
    "sont gérés avec 2 apostrophes'''"
   ],
   "id": "2c948e7fdede8f44",
   "outputs": [],
   "execution_count": 8
  },
  {
   "metadata": {
    "ExecuteTime": {
     "end_time": "2025-02-18T10:43:32.322100Z",
     "start_time": "2025-02-18T10:43:32.314034Z"
    }
   },
   "cell_type": "code",
   "source": [
    "autre_tweet = '''Ceci tient a voir si les string \n",
    "sont gérés avec 2 apostrophes'''\n",
    "\n",
    "print(autre_tweet)"
   ],
   "id": "bc7136dd28593af0",
   "outputs": [
    {
     "name": "stdout",
     "output_type": "stream",
     "text": [
      "Ceci tient a voir si les string \n",
      "sont gérés avec 2 apostrophes\n"
     ]
    }
   ],
   "execution_count": 6
  },
  {
   "metadata": {
    "ExecuteTime": {
     "end_time": "2025-02-18T10:48:47.314835Z",
     "start_time": "2025-02-18T10:48:47.303421Z"
    }
   },
   "cell_type": "code",
   "source": "## Les chaines de caracteres ne gerent pas les 2' mais uniquement a partir de 3' ou 3\" et ce nest qu'a ce niveau qu'on peut aller a la ligne autant de fois qu'on veut, la methode Split permet de decouper le string en different mot et ceci est determiné paer les espaces entre chaque mot. Ne jamais laisser 2' a la fin ceci cree une erreur pour le reste du code qui vient apres",
   "id": "1b1ff1634bbd198e",
   "outputs": [],
   "execution_count": 7
  },
  {
   "metadata": {
    "ExecuteTime": {
     "end_time": "2025-02-18T11:12:59.738749Z",
     "start_time": "2025-02-18T11:12:59.722039Z"
    }
   },
   "cell_type": "code",
   "source": [
    "un_paragrahe = \"C'est terrible quand une personne a vraiment du talent en tant qu'artiste ou musicien mais est obligée de vendre des appareils de cuisine. Ne résistez pas à votre nature, développez-la, continuez à grandir et à vous améliorer, essayez d'identifier vos talents et de les utiliser, cherchez dans votre cœur.\"\n",
    "print(un_paragrahe)"
   ],
   "id": "c5056824236df501",
   "outputs": [
    {
     "name": "stdout",
     "output_type": "stream",
     "text": [
      "C'est terrible quand une personne a vraiment du talent en tant qu'artiste ou musicien mais est obligée de vendre des appareils de cuisine. Ne résistez pas à votre nature, développez-la, continuez à grandir et à vous améliorer, essayez d'identifier vos talents et de les utiliser, cherchez dans votre cœur.\n"
     ]
    }
   ],
   "execution_count": 9
  },
  {
   "metadata": {
    "ExecuteTime": {
     "end_time": "2025-02-18T11:34:11.805632Z",
     "start_time": "2025-02-18T11:34:11.775888Z"
    }
   },
   "cell_type": "code",
   "source": [
    "des_phrases = un_paragrahe.split(\".\")\n",
    "des_phrases[1]"
   ],
   "id": "579a4f2c2922b3d6",
   "outputs": [
    {
     "data": {
      "text/plain": [
       "\" Ne résistez pas à votre nature, développez-la, continuez à grandir et à vous améliorer, essayez d'identifier vos talents et de les utiliser, cherchez dans votre cœur\""
      ]
     },
     "execution_count": 14,
     "metadata": {},
     "output_type": "execute_result"
    }
   ],
   "execution_count": 14
  },
  {
   "metadata": {
    "ExecuteTime": {
     "end_time": "2025-02-18T11:39:35.961613Z",
     "start_time": "2025-02-18T11:39:35.943821Z"
    }
   },
   "cell_type": "code",
   "source": "des_phrases[1].split(\"o\")",
   "id": "490e1235dd5b6a5a",
   "outputs": [
    {
     "data": {
      "text/plain": [
       "[' Ne résistez pas à v',\n",
       " 'tre nature, dével',\n",
       " 'ppez-la, c',\n",
       " 'ntinuez à grandir et à v',\n",
       " 'us améli',\n",
       " \"rer, essayez d'identifier v\",\n",
       " 's talents et de les utiliser, cherchez dans v',\n",
       " 'tre cœur']"
      ]
     },
     "execution_count": 18,
     "metadata": {},
     "output_type": "execute_result"
    }
   ],
   "execution_count": 18
  },
  {
   "metadata": {
    "ExecuteTime": {
     "end_time": "2025-02-18T12:38:10.043842Z",
     "start_time": "2025-02-18T12:38:10.026022Z"
    }
   },
   "cell_type": "code",
   "source": [
    "phrase_avec_retour_a_la_ligne = \"\"\"ceci est une premiere ligne\n",
    "ceci est la deuxieme ligne\n",
    "ceci est la troisieme ligne\n",
    "\"\"\"\n",
    "phrase_avec_retour_a_la_ligne.split(\"\\n\")"
   ],
   "id": "e19cacd88bc72d7b",
   "outputs": [
    {
     "data": {
      "text/plain": [
       "['ceci est une premiere ligne',\n",
       " 'ceci est la deuxieme ligne',\n",
       " 'ceci est la troisieme ligne',\n",
       " '']"
      ]
     },
     "execution_count": 21,
     "metadata": {},
     "output_type": "execute_result"
    }
   ],
   "execution_count": 21
  },
  {
   "metadata": {},
   "cell_type": "code",
   "outputs": [],
   "execution_count": null,
   "source": "",
   "id": "4d29b04a9542924d"
  },
  {
   "metadata": {},
   "cell_type": "code",
   "outputs": [],
   "execution_count": null,
   "source": "",
   "id": "70839e452d86f60c"
  },
  {
   "metadata": {},
   "cell_type": "code",
   "outputs": [],
   "execution_count": null,
   "source": "",
   "id": "9fcdd2a272cfbee2"
  },
  {
   "metadata": {},
   "cell_type": "code",
   "outputs": [],
   "execution_count": null,
   "source": "",
   "id": "b8106e125142dd45"
  },
  {
   "metadata": {},
   "cell_type": "code",
   "outputs": [],
   "execution_count": null,
   "source": "",
   "id": "6266616d4384a407"
  },
  {
   "metadata": {},
   "cell_type": "code",
   "outputs": [],
   "execution_count": null,
   "source": "",
   "id": "20a57a7416151b57"
  },
  {
   "metadata": {},
   "cell_type": "code",
   "outputs": [],
   "execution_count": null,
   "source": "",
   "id": "ab8955f8ee13bb1e"
  },
  {
   "metadata": {},
   "cell_type": "code",
   "outputs": [],
   "execution_count": null,
   "source": "",
   "id": "557842d037c32c59"
  },
  {
   "metadata": {},
   "cell_type": "code",
   "outputs": [],
   "execution_count": null,
   "source": "",
   "id": "11b1bf41799f7dc"
  },
  {
   "metadata": {},
   "cell_type": "code",
   "outputs": [],
   "execution_count": null,
   "source": "",
   "id": "af18d9edda2020f0"
  },
  {
   "metadata": {},
   "cell_type": "code",
   "outputs": [],
   "execution_count": null,
   "source": "",
   "id": "ff1c030ac34662a5"
  },
  {
   "metadata": {},
   "cell_type": "code",
   "outputs": [],
   "execution_count": null,
   "source": "",
   "id": "e4f75d335b7259a8"
  },
  {
   "metadata": {},
   "cell_type": "code",
   "outputs": [],
   "execution_count": null,
   "source": "",
   "id": "3bed33edd6146ca1"
  },
  {
   "metadata": {},
   "cell_type": "code",
   "outputs": [],
   "execution_count": null,
   "source": "",
   "id": "926f2cf03a363695"
  },
  {
   "metadata": {},
   "cell_type": "code",
   "outputs": [],
   "execution_count": null,
   "source": "",
   "id": "f15c0345d62e278"
  },
  {
   "metadata": {},
   "cell_type": "code",
   "outputs": [],
   "execution_count": null,
   "source": "",
   "id": "400a9ad315498283"
  },
  {
   "metadata": {},
   "cell_type": "code",
   "outputs": [],
   "execution_count": null,
   "source": "",
   "id": "2f0bddd4f57d7886"
  },
  {
   "metadata": {},
   "cell_type": "code",
   "outputs": [],
   "execution_count": null,
   "source": "",
   "id": "1ad3f5a25b364b97"
  },
  {
   "metadata": {},
   "cell_type": "code",
   "outputs": [],
   "execution_count": null,
   "source": "",
   "id": "294106431a93475a"
  },
  {
   "metadata": {},
   "cell_type": "code",
   "outputs": [],
   "execution_count": null,
   "source": "",
   "id": "ccd326bc3384a6a"
  },
  {
   "metadata": {},
   "cell_type": "code",
   "outputs": [],
   "execution_count": null,
   "source": "",
   "id": "dbe10c7faf9d09f5"
  },
  {
   "metadata": {},
   "cell_type": "code",
   "outputs": [],
   "execution_count": null,
   "source": "",
   "id": "1301f58e7ceaa0ba"
  },
  {
   "metadata": {},
   "cell_type": "code",
   "outputs": [],
   "execution_count": null,
   "source": "",
   "id": "2b003518e0bd753c"
  },
  {
   "metadata": {},
   "cell_type": "code",
   "outputs": [],
   "execution_count": null,
   "source": "",
   "id": "c958b989300228f6"
  },
  {
   "metadata": {},
   "cell_type": "code",
   "outputs": [],
   "execution_count": null,
   "source": "",
   "id": "17bde97859469e93"
  },
  {
   "metadata": {},
   "cell_type": "code",
   "outputs": [],
   "execution_count": null,
   "source": "",
   "id": "d8b7c2746510dc84"
  },
  {
   "metadata": {},
   "cell_type": "code",
   "outputs": [],
   "execution_count": null,
   "source": "",
   "id": "12ec9ab3d075085a"
  },
  {
   "metadata": {},
   "cell_type": "code",
   "outputs": [],
   "execution_count": null,
   "source": "",
   "id": "dedb6703779f611e"
  },
  {
   "metadata": {},
   "cell_type": "code",
   "outputs": [],
   "execution_count": null,
   "source": "",
   "id": "38a6d976fea33b4d"
  },
  {
   "metadata": {},
   "cell_type": "code",
   "outputs": [],
   "execution_count": null,
   "source": "",
   "id": "517d3f30bcc3b280"
  },
  {
   "metadata": {},
   "cell_type": "code",
   "outputs": [],
   "execution_count": null,
   "source": "",
   "id": "6b9bd4788cd3779f"
  },
  {
   "metadata": {},
   "cell_type": "code",
   "outputs": [],
   "execution_count": null,
   "source": "",
   "id": "e042a56493d40f2f"
  },
  {
   "metadata": {},
   "cell_type": "code",
   "outputs": [],
   "execution_count": null,
   "source": "",
   "id": "106dcbbc2514f92f"
  },
  {
   "metadata": {},
   "cell_type": "code",
   "outputs": [],
   "execution_count": null,
   "source": "",
   "id": "fc522894a71140dc"
  },
  {
   "metadata": {},
   "cell_type": "code",
   "outputs": [],
   "execution_count": null,
   "source": "",
   "id": "bbafaebaf77adf37"
  },
  {
   "metadata": {},
   "cell_type": "code",
   "outputs": [],
   "execution_count": null,
   "source": "",
   "id": "df650e52363c7a1b"
  },
  {
   "metadata": {},
   "cell_type": "code",
   "outputs": [],
   "execution_count": null,
   "source": "",
   "id": "7c657a768e951f69"
  },
  {
   "metadata": {},
   "cell_type": "code",
   "outputs": [],
   "execution_count": null,
   "source": "",
   "id": "8025852706776c20"
  },
  {
   "metadata": {},
   "cell_type": "code",
   "outputs": [],
   "execution_count": null,
   "source": "",
   "id": "74462144117f91eb"
  },
  {
   "metadata": {},
   "cell_type": "code",
   "outputs": [],
   "execution_count": null,
   "source": "",
   "id": "fe8743c73a277001"
  },
  {
   "metadata": {},
   "cell_type": "code",
   "outputs": [],
   "execution_count": null,
   "source": "",
   "id": "40ac22596bab4d6a"
  }
 ],
 "metadata": {
  "kernelspec": {
   "display_name": "Python 3",
   "language": "python",
   "name": "python3"
  },
  "language_info": {
   "codemirror_mode": {
    "name": "ipython",
    "version": 2
   },
   "file_extension": ".py",
   "mimetype": "text/x-python",
   "name": "python",
   "nbconvert_exporter": "python",
   "pygments_lexer": "ipython2",
   "version": "2.7.6"
  }
 },
 "nbformat": 4,
 "nbformat_minor": 5
}
