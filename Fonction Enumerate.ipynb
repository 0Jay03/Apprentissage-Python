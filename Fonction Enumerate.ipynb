{
 "cells": [
  {
   "metadata": {},
   "cell_type": "markdown",
   "source": "Fonction ENUMERATE",
   "id": "e9cf8d58f7a62db6"
  },
  {
   "cell_type": "code",
   "id": "initial_id",
   "metadata": {
    "collapsed": true,
    "ExecuteTime": {
     "end_time": "2025-02-28T09:31:01.043089Z",
     "start_time": "2025-02-28T09:31:01.025185Z"
    }
   },
   "source": [
    "prenoms = [\"Alice\", \"Bob\", \"Charlie\", \"Dina\"]\n",
    "numero = list(enumerate(prenoms, start =1)) # Start ici permet d initier le compteur de depart au num 1"
   ],
   "outputs": [],
   "execution_count": 13
  },
  {
   "metadata": {
    "ExecuteTime": {
     "end_time": "2025-02-28T09:31:02.446717Z",
     "start_time": "2025-02-28T09:31:02.438602Z"
    }
   },
   "cell_type": "code",
   "source": [
    "for num, nom in numero: # Ici on recupere le numero et le prenom\n",
    "    print(f\"{num}. {nom}\") # Affichage propre avec le formatage"
   ],
   "id": "101bc1e1a6b387d3",
   "outputs": [
    {
     "name": "stdout",
     "output_type": "stream",
     "text": [
      "1. Alice\n",
      "2. Bob\n",
      "3. Charlie\n",
      "4. Dina\n"
     ]
    }
   ],
   "execution_count": 14
  },
  {
   "metadata": {},
   "cell_type": "code",
   "outputs": [],
   "execution_count": null,
   "source": [
    "# SYNTAXE: Cette fonction permet d acceder a l index d un element dans une sequence\n",
    "#for index, element in enumerate(sequence):"
   ],
   "id": "1c8df3bd9e5fcd24"
  },
  {
   "metadata": {
    "ExecuteTime": {
     "end_time": "2025-02-28T09:41:17.390706Z",
     "start_time": "2025-02-28T09:41:17.381998Z"
    }
   },
   "cell_type": "code",
   "source": [
    "# Par exemple, si nous souhaitons afficher les différentes positions du mot \"le\" dans un texte :\n",
    "texte = [\"le\", \"mot\", \"le\", \"est\", \"le\", \"mot\", \"dont\", \"nous\", \"cherchons\", \"la\", \"position\"]\n",
    "\n",
    "# Pour chaque mot du texte\n",
    "for position, mot in enumerate(texte):\n",
    "    # Si le mot = \"le\"\n",
    "    if mot == \"le\":\n",
    "        # On affiche sa position:\n",
    "        print(position)\n",
    "        "
   ],
   "id": "88ce2f62df6f8b9c",
   "outputs": [
    {
     "name": "stdout",
     "output_type": "stream",
     "text": [
      "0\n",
      "2\n",
      "4\n"
     ]
    }
   ],
   "execution_count": 19
  },
  {
   "metadata": {
    "ExecuteTime": {
     "end_time": "2025-02-28T09:46:19.250896Z",
     "start_time": "2025-02-28T09:46:19.241512Z"
    }
   },
   "cell_type": "code",
   "source": [
    "# EXERCICE 1: Utilisez la fonction enumerate et une boucle for pour afficher chaque élément de la liste accompagné de son indice.\n",
    "\n",
    "liste = ['a', 'b', 'c', 'd', 'e']\n",
    "numero = list(enumerate(liste))\n",
    "for number, element in numero:\n",
    "    print(f\"{number}. {element}\")"
   ],
   "id": "41ee13734a3e3353",
   "outputs": [
    {
     "name": "stdout",
     "output_type": "stream",
     "text": [
      "0. a\n",
      "1. b\n",
      "2. c\n",
      "3. d\n",
      "4. e\n"
     ]
    }
   ],
   "execution_count": 21
  },
  {
   "metadata": {
    "ExecuteTime": {
     "end_time": "2025-02-28T09:53:11.667623Z",
     "start_time": "2025-02-28T09:53:11.656860Z"
    }
   },
   "cell_type": "code",
   "source": [
    "# EXERCICE 2: Modifiez le code ci-dessus pour n'afficher que les éléments pairs de la liste, ainsi que leur indice. \n",
    "# pour vérifier si l'élément est pair, utilisez l'opérateur modulo %. Si l'élément est pair (c'est-à-dire si element % 2 == 0 est vrai)\n",
    "\n",
    "liste = [2, 5, 8, 10, 13, 16]\n",
    "for nmbr, elemt in enumerate(liste):\n",
    "    if elemt %2 == 0:\n",
    "        print(f\"{nmbr}. {elemt}\")"
   ],
   "id": "ec13f2cd0888f62a",
   "outputs": [
    {
     "name": "stdout",
     "output_type": "stream",
     "text": [
      "0. 2\n",
      "2. 8\n",
      "3. 10\n",
      "5. 16\n"
     ]
    }
   ],
   "execution_count": 23
  },
  {
   "metadata": {
    "ExecuteTime": {
     "end_time": "2025-02-28T10:11:17.071627Z",
     "start_time": "2025-02-28T10:11:17.060667Z"
    }
   },
   "cell_type": "code",
   "source": [
    "# EXERCICE 3: Déterminer l'indice du maximum de la liste L à l'aide de la fonction enumerate. Pour trouver ce maximum, il suffit de stocker le plus grand élément vu en parcourant la liste.\n",
    "            # Afficher l'indice du maximum de la liste\n",
    "\n",
    "L = [22,65,75,93,64,47,91,53,86,53,88,17,94,39]\n",
    "indice_max = 0\n",
    "valeur_max = 0\n",
    "for indice, valeur in enumerate(L):\n",
    "    if indice_max < valeur:\n",
    "        indice_max = valeur\n",
    "        valeur_max = indice\n",
    "print(valeur_max)\n",
    "        \n",
    "    "
   ],
   "id": "ff153bd1d9303662",
   "outputs": [
    {
     "name": "stdout",
     "output_type": "stream",
     "text": [
      "12\n"
     ]
    }
   ],
   "execution_count": 29
  },
  {
   "metadata": {
    "ExecuteTime": {
     "end_time": "2025-02-28T10:22:41.993697Z",
     "start_time": "2025-02-28T10:22:41.983427Z"
    }
   },
   "cell_type": "code",
   "source": [
    "# Le code ci apres est FAUX \n",
    "L = [22,65,75,93,64,47,91,53,86,53,88,17,94,39]\n",
    "index_max = -1\n",
    "valeur_max = [] # De plus Il faut l'initialiser avec une valeur très petite, comme float('-inf') ceci signifie quon initialise a -infini\n",
    "for index, valeur in enumerate(L):\n",
    "    if index > index_max: # Ici compare l'indice au maximum actuel, alors qu'il faut comparer la valeur.\n",
    "        index_max = index\n",
    "        valeur_max = valeur\n",
    "print(f\"l´indice maximum de la liste est: {index_max} \")"
   ],
   "id": "544638fc47f91843",
   "outputs": [
    {
     "name": "stdout",
     "output_type": "stream",
     "text": [
      "l´indice maximum de la liste est: 13 \n"
     ]
    }
   ],
   "execution_count": 31
  },
  {
   "metadata": {
    "ExecuteTime": {
     "end_time": "2025-02-28T10:25:06.645782Z",
     "start_time": "2025-02-28T10:25:06.636952Z"
    }
   },
   "cell_type": "code",
   "source": [
    "# CORRECTION\n",
    "L = [22, 65, 75, 93, 64, 47, 91, 53, 86, 53, 88, 17, 94, 39]\n",
    "\n",
    "index_max = -1\n",
    "valeur_max = float('-inf')  # Initialisation avec une valeur très basse\n",
    "\n",
    "for index, valeur in enumerate(L):\n",
    "    if valeur > valeur_max:  # Comparer la valeur et non l'index\n",
    "        valeur_max = valeur\n",
    "        index_max = index  # Stocker l'indice de la plus grande valeur\n",
    "\n",
    "print(f\"L'indice du maximum de la liste est: {index_max}\")"
   ],
   "id": "80ca35977ae43fb3",
   "outputs": [
    {
     "name": "stdout",
     "output_type": "stream",
     "text": [
      "L'indice du maximum de la liste est: 12\n"
     ]
    }
   ],
   "execution_count": 32
  },
  {
   "metadata": {},
   "cell_type": "code",
   "outputs": [],
   "execution_count": null,
   "source": "# EXERCICE 4: Écris un programme qui prend une liste de nombres et remplace chaque nombre impair par son indice en utilisant enumerate().",
   "id": "ada1f6b06ebc69fa"
  },
  {
   "metadata": {},
   "cell_type": "code",
   "outputs": [],
   "execution_count": null,
   "source": "",
   "id": "68db3c8d1c4454cf"
  },
  {
   "metadata": {
    "ExecuteTime": {
     "end_time": "2025-03-03T14:57:00.408277Z",
     "start_time": "2025-03-03T14:57:00.399031Z"
    }
   },
   "cell_type": "code",
   "source": [
    "liste_produits = [\"telephone\", \"tablettes\", \"ordinateurs\"]\n",
    "stocks_produits = [120, 23, 39]"
   ],
   "id": "3344f4ba62b0843c",
   "outputs": [],
   "execution_count": 1
  },
  {
   "metadata": {
    "ExecuteTime": {
     "end_time": "2025-03-03T15:02:48.418193Z",
     "start_time": "2025-03-03T15:02:48.408840Z"
    }
   },
   "cell_type": "code",
   "source": [
    "for index, nom_produits in enumerate(liste_produits):\n",
    "    print(f\"Produit {nom_produits}, stock {stocks_produits [index]}\")"
   ],
   "id": "b8a598814603acd9",
   "outputs": [
    {
     "name": "stdout",
     "output_type": "stream",
     "text": [
      "Produit telephone, stock 120\n",
      "Produit tablettes, stock 23\n",
      "Produit ordinateurs, stock 39\n"
     ]
    }
   ],
   "execution_count": 6
  },
  {
   "metadata": {},
   "cell_type": "code",
   "outputs": [],
   "execution_count": null,
   "source": "",
   "id": "b6fcb3095f62af91"
  },
  {
   "metadata": {
    "ExecuteTime": {
     "end_time": "2025-03-03T15:11:55.008162Z",
     "start_time": "2025-03-03T15:11:54.998276Z"
    }
   },
   "cell_type": "code",
   "source": "list(zip(liste_produits, stocks_produits))",
   "id": "2d2cfb7092c962ae",
   "outputs": [
    {
     "data": {
      "text/plain": [
       "[('telephone', 120), ('tablettes', 23), ('ordinateurs', 39)]"
      ]
     },
     "execution_count": 12,
     "metadata": {},
     "output_type": "execute_result"
    }
   ],
   "execution_count": 12
  },
  {
   "metadata": {
    "ExecuteTime": {
     "end_time": "2025-03-03T15:15:01.369786Z",
     "start_time": "2025-03-03T15:15:01.363450Z"
    }
   },
   "cell_type": "code",
   "source": [
    "revenus = [1200, 2000, 1500, 0, 1000, 4500, 1200, 500, 1350, 2200, 1650, 1300, 2300]\n",
    "depenses = [1000, 1700, 2000, 700, 1200, 3500, 200, 500, 1000, 3500, 1350, 1050, 1850]\n",
    "economies = []"
   ],
   "id": "181d739d788daa95",
   "outputs": [],
   "execution_count": 18
  },
  {
   "metadata": {
    "ExecuteTime": {
     "end_time": "2025-03-03T15:35:01.107969Z",
     "start_time": "2025-03-03T15:35:01.041098Z"
    }
   },
   "cell_type": "code",
   "source": [
    "\n",
    "for entrees, sorties in zip(revenus, depenses):\n",
    "  economie = entrees - sorties\n",
    "  economies = economie.append(economie)\n",
    "print(economies)\n"
   ],
   "id": "b97ed86fdb7c4731",
   "outputs": [
    {
     "ename": "TypeError",
     "evalue": "'int' object is not iterable",
     "output_type": "error",
     "traceback": [
      "\u001B[1;31m---------------------------------------------------------------------------\u001B[0m",
      "\u001B[1;31mTypeError\u001B[0m                                 Traceback (most recent call last)",
      "Cell \u001B[1;32mIn[28], line 1\u001B[0m\n\u001B[1;32m----> 1\u001B[0m \u001B[38;5;28;01mfor\u001B[39;00m entrees, sorties \u001B[38;5;129;01min\u001B[39;00m \u001B[38;5;28;43mzip\u001B[39;49m\u001B[43m(\u001B[49m\u001B[43mrevenus\u001B[49m\u001B[43m,\u001B[49m\u001B[43m \u001B[49m\u001B[43mdepenses\u001B[49m\u001B[43m)\u001B[49m:\n\u001B[0;32m      2\u001B[0m   economie \u001B[38;5;241m=\u001B[39m entrees \u001B[38;5;241m-\u001B[39m sorties\n\u001B[0;32m      3\u001B[0m   economies \u001B[38;5;241m=\u001B[39m economie\u001B[38;5;241m.\u001B[39mappend(economie)\n",
      "\u001B[1;31mTypeError\u001B[0m: 'int' object is not iterable"
     ]
    }
   ],
   "execution_count": 28
  },
  {
   "metadata": {
    "ExecuteTime": {
     "end_time": "2025-03-03T15:18:36.763127Z",
     "start_time": "2025-03-03T15:18:36.753400Z"
    }
   },
   "cell_type": "code",
   "source": [
    "revenus = [1200, 2000, 1500, 0, 1000, 4500, 1200, 500, 1350, 2200, 1650, 1300, 2300]\n",
    "depenses = [1000, 1700, 2000, 700, 1200, 3500, 200, 500, 1000, 3500, 1350, 1050, 1850]\n",
    "economies = []\n",
    "\n",
    "for revenus, depenses in zip(revenus, depenses):\n",
    "  economie = revenus - depenses\n",
    "  economies.append(economie)\n",
    "print(economies)"
   ],
   "id": "d170af5546300c2a",
   "outputs": [
    {
     "name": "stdout",
     "output_type": "stream",
     "text": [
      "[200, 300, -500, -700, -200, 1000, 1000, 0, 350, -1300, 300, 250, 450]\n"
     ]
    }
   ],
   "execution_count": 26
  },
  {
   "metadata": {},
   "cell_type": "code",
   "outputs": [],
   "execution_count": null,
   "source": "",
   "id": "84ea8b6b7ac24676"
  },
  {
   "metadata": {},
   "cell_type": "code",
   "outputs": [],
   "execution_count": null,
   "source": "",
   "id": "e86fb1b8337eb502"
  },
  {
   "metadata": {},
   "cell_type": "code",
   "outputs": [],
   "execution_count": null,
   "source": "",
   "id": "9606c9604762143d"
  },
  {
   "metadata": {},
   "cell_type": "code",
   "outputs": [],
   "execution_count": null,
   "source": "",
   "id": "39fb82d37e3357f1"
  },
  {
   "metadata": {},
   "cell_type": "code",
   "outputs": [],
   "execution_count": null,
   "source": "",
   "id": "2874a8e02c6ee39d"
  },
  {
   "metadata": {},
   "cell_type": "code",
   "outputs": [],
   "execution_count": null,
   "source": "",
   "id": "2b41bb70a7cb2356"
  },
  {
   "metadata": {},
   "cell_type": "code",
   "outputs": [],
   "execution_count": null,
   "source": "",
   "id": "28c21774116d1842"
  },
  {
   "metadata": {},
   "cell_type": "code",
   "outputs": [],
   "execution_count": null,
   "source": "",
   "id": "7c8ecd1c1698ca11"
  },
  {
   "metadata": {},
   "cell_type": "code",
   "outputs": [],
   "execution_count": null,
   "source": "",
   "id": "1631868aa45878e6"
  },
  {
   "metadata": {},
   "cell_type": "code",
   "outputs": [],
   "execution_count": null,
   "source": "",
   "id": "31ad3870199ffef7"
  },
  {
   "metadata": {},
   "cell_type": "code",
   "outputs": [],
   "execution_count": null,
   "source": "",
   "id": "e1768b1dfddc31e8"
  },
  {
   "metadata": {},
   "cell_type": "code",
   "outputs": [],
   "execution_count": null,
   "source": "",
   "id": "7c500b6a3649d7d4"
  }
 ],
 "metadata": {
  "kernelspec": {
   "display_name": "Python 3",
   "language": "python",
   "name": "python3"
  },
  "language_info": {
   "codemirror_mode": {
    "name": "ipython",
    "version": 2
   },
   "file_extension": ".py",
   "mimetype": "text/x-python",
   "name": "python",
   "nbconvert_exporter": "python",
   "pygments_lexer": "ipython2",
   "version": "2.7.6"
  }
 },
 "nbformat": 4,
 "nbformat_minor": 5
}
