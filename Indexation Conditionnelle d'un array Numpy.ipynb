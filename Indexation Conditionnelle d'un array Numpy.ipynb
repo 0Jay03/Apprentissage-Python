{
 "cells": [
  {
   "metadata": {
    "ExecuteTime": {
     "end_time": "2025-03-08T01:51:08.420165Z",
     "start_time": "2025-03-08T01:51:08.355615Z"
    }
   },
   "cell_type": "code",
   "source": "import numpy as np",
   "id": "114d78831942c4fc",
   "outputs": [],
   "execution_count": 5
  },
  {
   "metadata": {},
   "cell_type": "markdown",
   "source": [
    "* Nous disposons de données d'un supermarché américain qui se prépare pour le Black Friday, une journée où les commerces américains proposent de très grandes réduction pour finir leurs saisons.\n",
    "\n",
    "Ces données sont distribuées sur 3 arrays :\n",
    "\n",
    ">* items : Le nom des objets qui seront en promotion.\n",
    "* quantities : Le stock disponible pour chaque objet en promotion.\n",
    "* discounts : La réduction de prix de chaque objet. Les objets peuvent avoir une réduction de 25, 50, 75 ou 90 pourcents.\n",
    "\n",
    "* Lancer la cellule suivante pour instancier les arrays contenant les données du supermarché"
   ],
   "id": "3e8bd3e76bcd0af5"
  },
  {
   "metadata": {},
   "cell_type": "markdown",
   "source": "",
   "id": "26bda7b361bf1d4a"
  },
  {
   "metadata": {
    "ExecuteTime": {
     "end_time": "2025-03-08T02:23:57.210384Z",
     "start_time": "2025-03-08T02:23:57.203577Z"
    }
   },
   "cell_type": "code",
   "source": [
    "items = np.array([\"grid paper\",\"plate\",\"rubber band\",\"key chain\",\"bread\",\"speakers\",\"chocolate\",\n",
    "                  \"fridge\",\"bowl\",\"shirt\",\"truck\",\"canvas\",\"monitor\",\"piano\",\"sailboat\",\"clamp\",\n",
    "                  \"spring\",\"picture frame\",\"knife\",\"hanger\",\"pool stick\",\"buckel\",\"vase\",\"wagon\",\n",
    "                  \"balloon\",\"thread\",\"couch\",\"drawer\",\"packing peanuts\",\"bottle\",\"needle\",\n",
    "                  \"rusty nail\",\"blanket\",\"lamp\",\"box\",\"cookie jar\",\"washing machine\",\"paint brush\",\n",
    "                  \"puddle\",\"sketch pad\",\"sandal\",\"doll\",\"floor\",\"sidewalk\",\"sand paper\",\"stockings\",\n",
    "                  \"bag\",\"perfume\",\"magnet\",\"fake flowers\",\"street lights\",\"carrots\",\"purse\",\"thermostat\",\n",
    "                  \"candle\",\"mouse pad\",\"remote\",\"clothes\",\"rubber duck\",\"hair brush\",\"computer\",\"toe ring\",\n",
    "                  \"scotch tape\",\"nail file\",\"window\",\"table\",\"model car\",\"toothbrush\",\"shoes\",\"leg warmers\",\n",
    "                  \"cat\",\"pillow\",\"rug\",\"hair tie\",\"phone\",\"tooth picks\",\"brocolli\",\"newspaper\",\"towel\",\n",
    "                  \"watch\",\"lotion\",\"apple\",\"pants\",\"air freshener\",\"pen\",\"lace\",\"car\",\"headphones\",\n",
    "                  \"charger\",\"toilet\",\"candy wrapper\",\"soy sauce packet\",\"sticky note\",\"shoe lace\",\n",
    "                  \"zipper\",\"soda can\",\"bed\",\"cell phone\",\"lip gloss\",\"thermometer\"])\n",
    "\n",
    "quantities = np.array([310, 455, 295, 613, 812, 907, 564, 904, 829, 167, 517, 272, 416,\n",
    "                       14, 251, 476, 757, 343, 472,  71, 160, 996, 182, 721, 565, 582,\n",
    "                       279,  66, 297, 800, 914,  69, 498, 885, 114, 876, 635, 295, 146,\n",
    "                       601, 941, 100, 370, 467, 423, 101, 504, 298, 757, 291, 163, 970,\n",
    "                       921, 953, 458, 381, 692, 393, 749, 285, 454, 174,  37, 289, 863,\n",
    "                       885, 331, 585, 678, 834, 349, 732, 149, 486, 993, 869, 967, 537,\n",
    "                       220,  15, 457, 483, 387, 180, 579, 155, 134, 163, 314, 334, 429,\n",
    "                       154,  18, 426, 363, 146, 454, 902, 145,  95])\n",
    "\n",
    "discounts = np.array([25, 25, 50, 25, 50, 50, 50, 25, 50, 50, 25, 25, 25, 25, 50, 75, 25,\n",
    "                      50, 50, 50, 25, 25, 25, 25, 75, 50, 25, 25, 25, 25, 90, 50, 25, 25,\n",
    "                      25, 50, 50, 25, 25, 75, 75, 50, 25, 25, 50, 25, 90, 90, 50, 90, 25,\n",
    "                      25, 25, 25, 25, 25, 25, 50, 25, 25, 75, 50, 50, 25, 50, 25, 25, 50,\n",
    "                      25, 75, 25, 25, 50, 25, 25, 50, 75, 25, 25, 90, 25, 75, 25, 25, 25,\n",
    "                      25, 25, 25, 50, 50, 75, 25, 50, 25, 25, 50, 25, 25, 25, 75])"
   ],
   "id": "b6b1f77ab24da271",
   "outputs": [],
   "execution_count": 9
  },
  {
   "metadata": {},
   "cell_type": "markdown",
   "source": "* À l'aide d'une indexation conditionnelle sur items et quantities, afficher le nom et la quantité des objets qui auront une réduction de 90%.",
   "id": "1185165457a69292"
  },
  {
   "cell_type": "code",
   "id": "initial_id",
   "metadata": {
    "collapsed": true,
    "ExecuteTime": {
     "end_time": "2025-03-08T02:34:02.376244Z",
     "start_time": "2025-03-08T02:34:02.372748Z"
    }
   },
   "source": [
    "reduction = discounts == 90\n",
    "items_filtres = items[reduction]\n",
    "quantities_filtres = quantities[reduction]\n",
    "print(f\"les objets {items_filtres} ayant des quantités respectives de {quantities_filtres} auront des reductions de 90%\")\n"
   ],
   "outputs": [
    {
     "name": "stdout",
     "output_type": "stream",
     "text": [
      "les objets ['needle' 'bag' 'perfume' 'fake flowers' 'watch'] ayant des quantités respectives de [914 504 298 291  15] auront des reductions de 90%\n"
     ]
    }
   ],
   "execution_count": 11
  },
  {
   "metadata": {},
   "cell_type": "code",
   "outputs": [],
   "execution_count": null,
   "source": "",
   "id": "a62481c1ccf9e32b"
  },
  {
   "metadata": {},
   "cell_type": "markdown",
   "source": [
    "Vous voulez vous acheter un nouveau téléphone portable (\"cell phone\") et des enceintes sonores (\"speakers\").\n",
    "\n",
    "* Déterminer à l'aide d'une indexation conditionnelle sur discounts la réduction qui leur sera accordée."
   ],
   "id": "a258dc28fc92afef"
  },
  {
   "metadata": {
    "ExecuteTime": {
     "end_time": "2025-03-08T02:45:29.899Z",
     "start_time": "2025-03-08T02:45:29.896049Z"
    }
   },
   "cell_type": "code",
   "source": [
    "reduction_telephone = discounts[items == 'cell phone']\n",
    "print(reduction_telephone[0])"
   ],
   "id": "e98d0ea689452dc",
   "outputs": [
    {
     "name": "stdout",
     "output_type": "stream",
     "text": [
      "25\n"
     ]
    }
   ],
   "execution_count": 22
  },
  {
   "metadata": {
    "ExecuteTime": {
     "end_time": "2025-03-08T02:46:20.728899Z",
     "start_time": "2025-03-08T02:46:20.725299Z"
    }
   },
   "cell_type": "code",
   "source": [
    "reduction_enceinte = discounts[items == 'speakers']\n",
    "print(reduction_enceinte[0])"
   ],
   "id": "d3fc8abc3f5acfa2",
   "outputs": [
    {
     "name": "stdout",
     "output_type": "stream",
     "text": [
      "50\n"
     ]
    }
   ],
   "execution_count": 23
  },
  {
   "metadata": {
    "ExecuteTime": {
     "end_time": "2025-03-08T02:49:22.906938Z",
     "start_time": "2025-03-08T02:49:22.903844Z"
    }
   },
   "cell_type": "code",
   "source": [
    "petite_quantite = items[quantities < 50]\n",
    "print(petite_quantite)"
   ],
   "id": "8c6635b8c9a561a0",
   "outputs": [
    {
     "name": "stdout",
     "output_type": "stream",
     "text": [
      "['piano' 'scotch tape' 'watch' 'sticky note']\n"
     ]
    }
   ],
   "execution_count": 27
  },
  {
   "metadata": {
    "ExecuteTime": {
     "end_time": "2025-03-08T02:53:29.322615Z",
     "start_time": "2025-03-08T02:53:29.319700Z"
    }
   },
   "cell_type": "code",
   "source": [
    "reductions = discounts[quantities < 50]\n",
    "print(reductions)"
   ],
   "id": "6b87b6787f541331",
   "outputs": [
    {
     "name": "stdout",
     "output_type": "stream",
     "text": [
      "[25 50 90 50]\n"
     ]
    }
   ],
   "execution_count": 33
  },
  {
   "metadata": {
    "ExecuteTime": {
     "end_time": "2025-03-08T02:54:00.515827Z",
     "start_time": "2025-03-08T02:54:00.512406Z"
    }
   },
   "cell_type": "code",
   "source": "print(items[quantities < 50], discounts[quantities < 50])",
   "id": "c44261004434bdf9",
   "outputs": [
    {
     "name": "stdout",
     "output_type": "stream",
     "text": [
      "['piano' 'scotch tape' 'watch' 'sticky note'] [25 50 90 50]\n"
     ]
    }
   ],
   "execution_count": 35
  },
  {
   "metadata": {},
   "cell_type": "code",
   "outputs": [],
   "execution_count": null,
   "source": "",
   "id": "df3e35c50b9e0fbb"
  },
  {
   "metadata": {},
   "cell_type": "markdown",
   "source": [
    "# Exercice : Articles en Promotion\n",
    "Tu travailles sur une base de données contenant des articles, leurs prix et leurs stocks. Ton objectif est de trouver et afficher les articles qui sont en rupture de stock ou qui ont un prix inférieur à 20 €.\n",
    "\n",
    "Données :\n",
    "+ articles = np.array([\"Ordinateur\", \"Téléphone\", \"Casque\", \"Clavier\", \"Souris\", \"Écran\"])\n",
    "\n",
    "+ prix = np.array([1200, 800, 15, 30, 10, 250])\n",
    "\n",
    "+ stock = np.array([5, 2, 0, 10, 0, 3])\n",
    "\n",
    "* Instructions :\n",
    "\n",
    "Trouve les articles qui ont un stock de 0 (stock == 0).\n",
    "\n",
    "Trouve les articles dont le prix est inférieur à 20 € (prix < 20).\n",
    "\n",
    "Affiche les noms des articles concernés."
   ],
   "id": "14b0ba10f3637f67"
  },
  {
   "metadata": {
    "ExecuteTime": {
     "end_time": "2025-03-08T02:59:48.200611Z",
     "start_time": "2025-03-08T02:59:48.196994Z"
    }
   },
   "cell_type": "code",
   "source": [
    "articles = np.array([\"Ordinateur\", \"Téléphone\", \"Casque\", \"Clavier\", \"Souris\", \"Écran\"])\n",
    "prix = np.array([1200, 800, 15, 30, 10, 250])\n",
    "stock = np.array([5, 2, 0, 10, 0, 3])\n",
    "print(articles)\n",
    "print(prix)\n",
    "print(stock)"
   ],
   "id": "a12fed2a807f01de",
   "outputs": [
    {
     "name": "stdout",
     "output_type": "stream",
     "text": [
      "['Ordinateur' 'Téléphone' 'Casque' 'Clavier' 'Souris' 'Écran']\n",
      "[1200  800   15   30   10  250]\n",
      "[ 5  2  0 10  0  3]\n"
     ]
    }
   ],
   "execution_count": 40
  },
  {
   "metadata": {
    "ExecuteTime": {
     "end_time": "2025-03-08T03:08:08.191565Z",
     "start_time": "2025-03-08T03:08:08.188302Z"
    }
   },
   "cell_type": "code",
   "source": "print(articles[ stock == 0])",
   "id": "ca81f03fba0e1279",
   "outputs": [
    {
     "name": "stdout",
     "output_type": "stream",
     "text": [
      "['Casque' 'Souris']\n"
     ]
    }
   ],
   "execution_count": 51
  },
  {
   "metadata": {
    "ExecuteTime": {
     "end_time": "2025-03-08T03:02:48.649897Z",
     "start_time": "2025-03-08T03:02:48.646131Z"
    }
   },
   "cell_type": "code",
   "source": "print(articles[prix<20])",
   "id": "8bec4801bbfaacbc",
   "outputs": [
    {
     "name": "stdout",
     "output_type": "stream",
     "text": [
      "['Casque' 'Souris']\n"
     ]
    }
   ],
   "execution_count": 43
  },
  {
   "metadata": {
    "ExecuteTime": {
     "end_time": "2025-03-08T03:06:19.883914Z",
     "start_time": "2025-03-08T03:06:19.880236Z"
    }
   },
   "cell_type": "code",
   "source": "print(f\"Articles en rupture de stock: {articles[ stock == 0]} \\nArticles à moins de 20 euros: {articles[prix < 20]}\")",
   "id": "4a4a2d0e78250806",
   "outputs": [
    {
     "name": "stdout",
     "output_type": "stream",
     "text": [
      "Articles en rupture de stock: ['Casque' 'Souris'] \n",
      "Articles à moins de 20 euros: ['Casque' 'Souris']\n"
     ]
    }
   ],
   "execution_count": 47
  },
  {
   "metadata": {
    "ExecuteTime": {
     "end_time": "2025-03-08T03:10:48.310292Z",
     "start_time": "2025-03-08T03:10:48.306376Z"
    }
   },
   "cell_type": "code",
   "source": "print(f\"Articles en rupture de stock: {', '.join(articles[ stock == 0])} \\nArticles à moins de 20 euros: {', '.join(articles[prix < 20])}\")",
   "id": "c5729fb7b9a43dd7",
   "outputs": [
    {
     "name": "stdout",
     "output_type": "stream",
     "text": [
      "Articles en rupture de stock: Casque, Souris \n",
      "Articles à moins de 20 euros: Casque, Souris\n"
     ]
    }
   ],
   "execution_count": 52
  },
  {
   "metadata": {},
   "cell_type": "code",
   "outputs": [],
   "execution_count": null,
   "source": "",
   "id": "7a4e76f031cd2809"
  },
  {
   "metadata": {},
   "cell_type": "markdown",
   "source": [
    "# Exercice Avancé : Analyse des Ventes\n",
    "\n",
    "Tu travailles sur un tableau contenant des articles, leurs prix, leurs stocks, et le nombre d'unités vendues.\n",
    "\n",
    "import numpy as np\n",
    "\n",
    "articles = np.array([\"Ordinateur\", \"Téléphone\", \"Casque\", \"Clavier\", \"Souris\", \"Écran\"])\n",
    "\n",
    "prix = np.array([1200, 800, 15, 30, 10, 250])  # Prix en euros\n",
    "\n",
    "stock = np.array([5, 2, 0, 10, 0, 3])  # Stock restant\n",
    "\n",
    "ventes = np.array([50, 40, 200, 150, 300, 80])  # Nombre d'unités vendues\n",
    "\n",
    "+ Objectifs :\n",
    "\n",
    "1. Affiche les articles qui ont un stock inférieur à 5 et un prix supérieur à 100 €.\n",
    "\n",
    "2. Affiche les articles les plus populaires (ventes > 100 unités).\n",
    "\n",
    "3. Calcule et affiche le chiffre d'affaires total (somme des ventes × prix).\n",
    "\n",
    "4. Trouve l’article ayant généré le chiffre d’affaires le plus élevé.\n",
    "\n",
    "5. Trouve l’article ayant le pire taux de vente (ventes / (ventes + stock)) et affiche son nom.\n",
    "\n",
    "* Indice : Utilise np.argmax() et np.argmin() pour trouver les articles avec les valeurs max et min.\n",
    "\n",
    "* Défi Bonus :\n",
    "Ajoute une remise de 10% sur les articles ayant un stock supérieur à 5 et affiche leurs nouveaux prix."
   ],
   "id": "2405d84a87be25fa"
  },
  {
   "metadata": {
    "ExecuteTime": {
     "end_time": "2025-03-08T03:15:37.883751Z",
     "start_time": "2025-03-08T03:15:37.880147Z"
    }
   },
   "cell_type": "code",
   "source": [
    "articles = np.array([\"Ordinateur\", \"Téléphone\", \"Casque\", \"Clavier\", \"Souris\", \"Écran\"])\n",
    "\n",
    "prix = np.array([1200, 800, 15, 30, 10, 250])  # Prix en euros\n",
    "\n",
    "stock = np.array([5, 2, 0, 10, 0, 3])  # Stock restant\n",
    "\n",
    "ventes = np.array([50, 40, 200, 150, 300, 80])  # Nombre d'unités vendues"
   ],
   "id": "5a2264a71b0e547a",
   "outputs": [],
   "execution_count": 53
  },
  {
   "metadata": {
    "ExecuteTime": {
     "end_time": "2025-03-08T03:40:55.693263Z",
     "start_time": "2025-03-08T03:40:55.690080Z"
    }
   },
   "cell_type": "code",
   "source": [
    "faible_stock_cher = (stock < 5) & (prix >100) \n",
    "mask = articles[faible_stock_cher]\n",
    "print(f\"Articles avec faible stock et prix élevé : {', '.join(mask)}\")\n"
   ],
   "id": "95869b6fde692a22",
   "outputs": [
    {
     "name": "stdout",
     "output_type": "stream",
     "text": [
      "Articles avec faible stock et prix élevé : Téléphone, Écran\n"
     ]
    }
   ],
   "execution_count": 71
  },
  {
   "metadata": {
    "ExecuteTime": {
     "end_time": "2025-03-08T03:43:21.444018Z",
     "start_time": "2025-03-08T03:43:21.440636Z"
    }
   },
   "cell_type": "code",
   "source": [
    "populaire = articles[ ventes > 100]\n",
    "print(f\"Articles populaires: {', '.join(populaire)}\")"
   ],
   "id": "a74112950af6c32d",
   "outputs": [
    {
     "name": "stdout",
     "output_type": "stream",
     "text": [
      "Articles populaires: Casque, Clavier, Souris\n"
     ]
    }
   ],
   "execution_count": 74
  },
  {
   "metadata": {
    "ExecuteTime": {
     "end_time": "2025-03-08T03:46:48.395944Z",
     "start_time": "2025-03-08T03:46:48.392261Z"
    }
   },
   "cell_type": "code",
   "source": [
    "prix_total = ventes * prix\n",
    "chiffre_affaire = sum(prix_total)\n",
    "print(chiffre_affaire)\n"
   ],
   "id": "e7ebb12691cdc04f",
   "outputs": [
    {
     "name": "stdout",
     "output_type": "stream",
     "text": [
      "122500\n"
     ]
    }
   ],
   "execution_count": 76
  },
  {
   "metadata": {},
   "cell_type": "code",
   "outputs": [],
   "execution_count": null,
   "source": "",
   "id": "a62426c80781eb58"
  }
 ],
 "metadata": {
  "kernelspec": {
   "display_name": "Python 3",
   "language": "python",
   "name": "python3"
  },
  "language_info": {
   "codemirror_mode": {
    "name": "ipython",
    "version": 2
   },
   "file_extension": ".py",
   "mimetype": "text/x-python",
   "name": "python",
   "nbconvert_exporter": "python",
   "pygments_lexer": "ipython2",
   "version": "2.7.6"
  }
 },
 "nbformat": 4,
 "nbformat_minor": 5
}
