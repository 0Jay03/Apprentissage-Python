{
 "cells": [
  {
   "metadata": {},
   "cell_type": "markdown",
   "source": [
    "# La Boucle WHILE (Tant que )\n",
    "Le mot-clé while signifie \"tant que\" en anglais. La boucle while permet de répéter un bloc d'instructions tant que la condition de départ est vraie (ou jusqu'à ce qu'elle soit fausse).\n",
    "\n",
    "Par exemple, pour déterminer l'indice du mot \"trouvé\" dans une liste de mots, il suffit de parcourir tous les indices de la liste jusqu'à trouver la chaîne \"trouvé\" :\n",
    "- La liste de mots dans laquelle nous voulons trouver le mot \"trouvé\".\n",
    "phrase = ['La', 'boucle', 'while', 'parcourt', 'tous', 'les', 'éléments', 'de', 'la', 'liste', \"jusqu'à\", 'ce', \"qu'elle\", 'ait', 'trouvé', 'ce', \"qu'elle\", 'cherche', '.']\n",
    " \n",
    "- La variable i va stocker l'indice dans lequel nous sommes\n",
    "i=0\n",
    " \n",
    "- Tant que le mot à l'indice où nous sommes est différent de \"trouvé\"\n",
    "while phrase[i] != 'trouvé':\n",
    "    - On incrémente la valeur de i de 1 pour passer à l'indice suivant\n",
    "    i += 1\n",
    " \n",
    "- La boucle s'arrête lorsque nous avons trouvé le bon mot\n",
    "print(\"Le mot 'trouvé' est à l'indice\", i)\n",
    ">>>> Le mot 'trouvé' est à l'indice 14\n",
    " \n",
    "La structure générale d'une boucle while est la suivante :\n",
    "\n",
    "while condition:\n",
    "    instruction1\n",
    "    ...\n",
    "    instructionN\n",
    " \n",
    "autre_instruction\n",
    "\n",
    "À chaque itération de la boucle while, la condition est évaluée. Si la condition est vérifiée, le bloc d'instructions est exécuté, sinon la boucle se termine.\n",
    "\n",
    "Les lignes en dehors du bloc d'instruction ne font pas partie de la boucle, elles ne sont donc exécutées qu'une fois la boucle terminée.\n",
    "\n",
    "Si la condition est fausse dès le départ, le bloc d'instruction n’est jamais exécuté.\n",
    "\n",
    "Inversement, si la condition reste toujours vraie, le bloc d'instruction est exécuté indéfiniment. Il est donc important de s'assurer que la boucle va se terminer avant de l'exécuter.\n",
    "\n"
   ],
   "id": "8788b77806c8abf6"
  },
  {
   "metadata": {
    "ExecuteTime": {
     "end_time": "2025-02-25T12:44:12.157729Z",
     "start_time": "2025-02-25T12:44:12.149491Z"
    }
   },
   "cell_type": "code",
   "source": "phrase = ['La', 'boucle', 'while', 'parcourt', 'tous', 'les', 'éléments', 'de', 'la', 'liste', \"jusqu'à\", 'ce', \"qu'elle\", 'ait', 'trouvé', 'ce', \"qu'elle\", 'cherche', '.']",
   "id": "a9fdb0ecdd551f92",
   "outputs": [],
   "execution_count": 1
  },
  {
   "cell_type": "code",
   "id": "initial_id",
   "metadata": {
    "collapsed": true,
    "ExecuteTime": {
     "end_time": "2025-02-25T12:47:41.176458Z",
     "start_time": "2025-02-25T12:47:41.168866Z"
    }
   },
   "source": [
    "i = 0\n",
    "while phrase[i] != \"ait\":\n",
    "    i += 1\n",
    "print(\"le mot 'ait' est a l indice:\", i)"
   ],
   "outputs": [
    {
     "name": "stdout",
     "output_type": "stream",
     "text": [
      "le mot 'ait' est a l indice: 13\n"
     ]
    }
   ],
   "execution_count": 4
  },
  {
   "metadata": {
    "ExecuteTime": {
     "end_time": "2025-02-25T13:05:26.164720Z",
     "start_time": "2025-02-25T13:05:26.155793Z"
    }
   },
   "cell_type": "code",
   "source": [
    "i = 1\n",
    "while i <= 10:\n",
    "    print(i)\n",
    "    i = i+1\n",
    " "
   ],
   "id": "dfbdff2ce7056558",
   "outputs": [
    {
     "name": "stdout",
     "output_type": "stream",
     "text": [
      "1\n",
      "2\n",
      "3\n",
      "4\n",
      "5\n",
      "6\n",
      "7\n",
      "8\n",
      "9\n",
      "10\n"
     ]
    }
   ],
   "execution_count": 29
  },
  {
   "metadata": {
    "ExecuteTime": {
     "end_time": "2025-02-25T13:22:48.851349Z",
     "start_time": "2025-02-25T13:22:48.844032Z"
    }
   },
   "cell_type": "code",
   "source": [
    "#Nous disposons d'une liste contenant les temps effectués par des athlètes lors d'une course de 100m. Les résultats sont triés par ordre croissant.\n",
    "\n",
    "results = [9.81, 9.89, 9.91, 9.93, 9.94, 9.95, 9.96, 9.97, 9.98, 10.03, 10.04, 10.05, 10.06, 10.08, 10.11, 10.23]"
   ],
   "id": "f08a70b2bbcfd255",
   "outputs": [],
   "execution_count": 48
  },
  {
   "metadata": {
    "ExecuteTime": {
     "end_time": "2025-02-25T13:48:19.681550Z",
     "start_time": "2025-02-25T13:48:19.671015Z"
    }
   },
   "cell_type": "code",
   "source": "",
   "id": "440e15c9e8e26b97",
   "outputs": [],
   "execution_count": null
  },
  {
   "metadata": {
    "ExecuteTime": {
     "end_time": "2025-02-25T13:23:47.940232Z",
     "start_time": "2025-02-25T13:23:47.928935Z"
    }
   },
   "cell_type": "code",
   "source": [
    "# Liste des résultats des athlètes\n",
    "results = [9.81, 9.89, 9.91, 9.93, 9.94, 9.95, 9.96, 9.97, 9.98, 10.03, 10.04, 10.05, 10.06, 10.08, 10.11, 10.23]\n",
    "\n",
    "# Initialisation des variables\n",
    "i = 0  # Index de la liste\n",
    "count = 0  # Compteur d'athlètes sous les 10s\n",
    "\n",
    "# Boucle while pour parcourir la liste et afficher les temps < 10s\n",
    "while i < len(results) and results[i] < 10:\n",
    "    print(results[i])  # Affichage du temps\n",
    "    count += 1  # Incrémentation du compteur\n",
    "    i += 1  # Passage au temps suivant\n",
    "\n",
    "# Affichage du nombre de coureurs sous les 10s\n",
    "print(f\"Nombre de coureurs ayant un temps inférieur à 10s : {count}\")\n"
   ],
   "id": "cbb77b10b9ebb13a",
   "outputs": [
    {
     "name": "stdout",
     "output_type": "stream",
     "text": [
      "9.81\n",
      "9.89\n",
      "9.91\n",
      "9.93\n",
      "9.94\n",
      "9.95\n",
      "9.96\n",
      "9.97\n",
      "9.98\n",
      "Nombre de coureurs ayant un temps inférieur à 10s : 9\n"
     ]
    }
   ],
   "execution_count": 52
  },
  {
   "metadata": {
    "ExecuteTime": {
     "end_time": "2025-02-25T14:11:26.682134Z",
     "start_time": "2025-02-25T14:11:26.668710Z"
    }
   },
   "cell_type": "code",
   "source": [
    "# Liste des résultats des athlètes\n",
    "results = [9.81, 9.89, 9.91, 9.93, 9.94, 9.95, 9.96, 9.97, 9.98, 10.03, 10.04, 10.05, 10.06, 10.08, 10.11, 10.23]\n",
    "i = 0\n",
    "while results[i] < 10:\n",
    "    print(results[i])\n",
    "    i += 1\n",
    "print(f\"le nombre de ayant un score inferieur a 10s est de {i}\")"
   ],
   "id": "d52201e9ae8ffdad",
   "outputs": [
    {
     "name": "stdout",
     "output_type": "stream",
     "text": [
      "9.81\n",
      "9.89\n",
      "9.91\n",
      "9.93\n",
      "9.94\n",
      "9.95\n",
      "9.96\n",
      "9.97\n",
      "9.98\n"
     ]
    }
   ],
   "execution_count": 29
  },
  {
   "metadata": {
    "ExecuteTime": {
     "end_time": "2025-02-25T13:58:17.978472Z",
     "start_time": "2025-02-25T13:58:17.968125Z"
    }
   },
   "cell_type": "code",
   "source": "",
   "id": "ead61c3003a85bf5",
   "outputs": [],
   "execution_count": null
  },
  {
   "metadata": {},
   "cell_type": "markdown",
   "source": [
    "# Exercice : Filtrer les notes supérieures à la moyenne\n",
    "- Nous avons une liste des notes obtenues par des étudiants. Affiche les notes supérieures ou égales à la moyenne (10/20) et compte combien d'étudiants ont réussi."
   ],
   "id": "2d079fdec865851d"
  },
  {
   "metadata": {
    "ExecuteTime": {
     "end_time": "2025-02-25T14:05:42.281539Z",
     "start_time": "2025-02-25T14:05:42.274551Z"
    }
   },
   "cell_type": "code",
   "source": [
    "notes = [8, 12, 15, 9, 10, 18, 7, 13, 11, 14, 5, 19, 6]\n",
    "\n",
    "# TODO: Utiliser une boucle while pour afficher les notes ≥ 10\n",
    "# TODO: Compter le nombre d'étudiants qui ont réussi\n"
   ],
   "id": "b9d73104c1c36cbf",
   "outputs": [],
   "execution_count": 23
  },
  {
   "metadata": {
    "ExecuteTime": {
     "end_time": "2025-02-25T14:16:23.775130Z",
     "start_time": "2025-02-25T14:16:23.763486Z"
    }
   },
   "cell_type": "code",
   "source": [
    "notes = [8, 12, 15, 9, 10, 18, 7, 13, 11, 14, 5, 19, 6]\n",
    "i = 0\n",
    "while notes[i] >= 10:\n",
    "    print(notes[i])\n",
    "    i += 1\n",
    "print(f\"le nombre d eleve qui ont une moyenne superieure a 10/20 est de {i}\")"
   ],
   "id": "4ce2a3e11d68429c",
   "outputs": [
    {
     "name": "stdout",
     "output_type": "stream",
     "text": [
      "le nombre d eleve qui ont une moyenne superieure a 10/20 est de 0\n"
     ]
    }
   ],
   "execution_count": 47
  },
  {
   "metadata": {},
   "cell_type": "code",
   "outputs": [],
   "execution_count": null,
   "source": "",
   "id": "848fc55fbc674a6e"
  },
  {
   "metadata": {},
   "cell_type": "code",
   "outputs": [],
   "execution_count": null,
   "source": "",
   "id": "8247eaf411606fae"
  },
  {
   "metadata": {},
   "cell_type": "code",
   "outputs": [],
   "execution_count": null,
   "source": "",
   "id": "f12197f2f652e130"
  },
  {
   "metadata": {},
   "cell_type": "code",
   "outputs": [],
   "execution_count": null,
   "source": "",
   "id": "7c626321ed890594"
  },
  {
   "metadata": {},
   "cell_type": "code",
   "outputs": [],
   "execution_count": null,
   "source": "",
   "id": "58523a10e6f4582c"
  },
  {
   "metadata": {},
   "cell_type": "code",
   "outputs": [],
   "execution_count": null,
   "source": "",
   "id": "6a3bd385a0b67b4a"
  },
  {
   "metadata": {},
   "cell_type": "code",
   "outputs": [],
   "execution_count": null,
   "source": "",
   "id": "d90e46a85b6c8a75"
  },
  {
   "metadata": {},
   "cell_type": "code",
   "outputs": [],
   "execution_count": null,
   "source": "",
   "id": "3ccfb32d34246824"
  },
  {
   "metadata": {},
   "cell_type": "code",
   "outputs": [],
   "execution_count": null,
   "source": "",
   "id": "daa2875544d404b2"
  },
  {
   "metadata": {},
   "cell_type": "code",
   "outputs": [],
   "execution_count": null,
   "source": "",
   "id": "2e4e38c807ac78c3"
  },
  {
   "metadata": {},
   "cell_type": "code",
   "outputs": [],
   "execution_count": null,
   "source": "",
   "id": "29a351f0a0d8e76b"
  },
  {
   "metadata": {},
   "cell_type": "code",
   "outputs": [],
   "execution_count": null,
   "source": "",
   "id": "6a933f57ed46c581"
  },
  {
   "metadata": {},
   "cell_type": "code",
   "outputs": [],
   "execution_count": null,
   "source": "",
   "id": "999cfa178af2647d"
  }
 ],
 "metadata": {
  "kernelspec": {
   "display_name": "Python 3",
   "language": "python",
   "name": "python3"
  },
  "language_info": {
   "codemirror_mode": {
    "name": "ipython",
    "version": 2
   },
   "file_extension": ".py",
   "mimetype": "text/x-python",
   "name": "python",
   "nbconvert_exporter": "python",
   "pygments_lexer": "ipython2",
   "version": "2.7.6"
  }
 },
 "nbformat": 4,
 "nbformat_minor": 5
}
