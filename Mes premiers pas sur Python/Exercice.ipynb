{
 "cells": [
  {
   "cell_type": "code",
   "id": "initial_id",
   "metadata": {
    "collapsed": true,
    "ExecuteTime": {
     "end_time": "2025-03-06T09:12:12.255578Z",
     "start_time": "2025-03-06T09:12:12.248485Z"
    }
   },
   "source": [
    "# création du dictionnaire livres\n",
    "livres = {\n",
    "    \"Le petit prince\": {\"titre\": \"Le petit prince\", \"auteur\": \"Antoine de Saint-Exupéry\", \"prix\": 10.99, \"stock\": 5},\n",
    "    \"Fleur de tonnerre\": {\"titre\": \"Fleur de tonnerre\", \"auteur\": \"Jean Teulé\", \"prix\": 40.99, \"stock\": 15},\n",
    "    \"Pere riche, pere pauvre\": {\"titre\": \"Pere riche, pere pauvre\", \"auteur\": \"Robert Kyosaki\", \"prix\": 70.99, \"stock\": 3}\n",
    "}\n"
   ],
   "outputs": [],
   "execution_count": 17
  },
  {
   "metadata": {
    "ExecuteTime": {
     "end_time": "2025-03-06T09:13:09.626217Z",
     "start_time": "2025-03-06T09:13:09.618819Z"
    }
   },
   "cell_type": "code",
   "source": [
    "def afficher_livres(dictionnaire_livres):\n",
    "    for livre, details_livre in dictionnaire_livres.items():\n",
    "        print (f\"Titre: {details_livre['titre']}, Auteur: {details_livre['auteur']}, Prix: {details_livre['prix']}, Stock: {details_livre['stock']}\")"
   ],
   "id": "5384805dc4943749",
   "outputs": [],
   "execution_count": 23
  },
  {
   "metadata": {
    "ExecuteTime": {
     "end_time": "2025-03-06T09:13:11.688790Z",
     "start_time": "2025-03-06T09:13:11.679715Z"
    }
   },
   "cell_type": "code",
   "source": "afficher_livres(livres)",
   "id": "4ecce0ab3927e4a6",
   "outputs": [
    {
     "name": "stdout",
     "output_type": "stream",
     "text": [
      "Titre: Le petit prince, Auteur: Antoine de Saint-Exupéry, Prix: 10.99, Stock: 5\n",
      "Titre: Fleur de tonnerre, Auteur: Jean Teulé, Prix: 40.99, Stock: 15\n",
      "Titre: Pere riche, pere pauvre, Auteur: Robert Kyosaki, Prix: 70.99, Stock: 3\n"
     ]
    }
   ],
   "execution_count": 24
  },
  {
   "metadata": {
    "ExecuteTime": {
     "end_time": "2025-03-06T09:34:04.575324Z",
     "start_time": "2025-03-06T09:34:04.567680Z"
    }
   },
   "cell_type": "code",
   "source": [
    "def rechercher_livre(dictionnaire_livres, titre_livre):\n",
    "    new_titre = titre_livre.capitalize()\n",
    "    if new_titre in dictionnaire_livres:\n",
    "        details_livre = dictionnaire_livres[new_titre]\n",
    "        print (f\"Titre: {details_livre['titre']}, Auteur: {details_livre['auteur']}, Prix: {details_livre['prix']}, Stock: {details_livre['stock']}\")\n",
    "    else: \n",
    "        print(f\"Titre: {new_titre}, n'existe pas dans la liste des livres\")"
   ],
   "id": "69944db47bbcc93",
   "outputs": [],
   "execution_count": 66
  },
  {
   "metadata": {
    "ExecuteTime": {
     "end_time": "2025-03-06T09:34:06.841158Z",
     "start_time": "2025-03-06T09:34:06.832686Z"
    }
   },
   "cell_type": "code",
   "source": "rechercher_livre(livres,\"fleur de tonnerre\")",
   "id": "34a93d86a2239337",
   "outputs": [
    {
     "name": "stdout",
     "output_type": "stream",
     "text": [
      "Titre: Fleur de tonnerre, Auteur: Jean Teulé, Prix: 40.99, Stock: 15\n"
     ]
    }
   ],
   "execution_count": 67
  },
  {
   "metadata": {
    "ExecuteTime": {
     "end_time": "2025-03-06T09:34:12.527699Z",
     "start_time": "2025-03-06T09:34:12.519015Z"
    }
   },
   "cell_type": "code",
   "source": "rechercher_livre(livres, \"Le petit prince\")",
   "id": "2eb4d3d3a76c9248",
   "outputs": [
    {
     "name": "stdout",
     "output_type": "stream",
     "text": [
      "Titre: Le petit prince, Auteur: Antoine de Saint-Exupéry, Prix: 10.99, Stock: 5\n"
     ]
    }
   ],
   "execution_count": 68
  },
  {
   "metadata": {
    "ExecuteTime": {
     "end_time": "2025-03-06T09:34:14.466119Z",
     "start_time": "2025-03-06T09:34:14.457388Z"
    }
   },
   "cell_type": "code",
   "source": "rechercher_livre(livres, \"Sous la cendre le feu\")",
   "id": "13d042a181465a7f",
   "outputs": [
    {
     "name": "stdout",
     "output_type": "stream",
     "text": [
      "Titre: Sous la cendre le feu, n'existe pas dans la liste des livres\n"
     ]
    }
   ],
   "execution_count": 69
  },
  {
   "metadata": {
    "ExecuteTime": {
     "end_time": "2025-03-06T09:34:16.591153Z",
     "start_time": "2025-03-06T09:34:16.583266Z"
    }
   },
   "cell_type": "code",
   "source": "rechercher_livre(livres, \"Pere riche, pere pauvre\")",
   "id": "512d0eb576ad1d10",
   "outputs": [
    {
     "name": "stdout",
     "output_type": "stream",
     "text": [
      "Titre: Pere riche, pere pauvre, Auteur: Robert Kyosaki, Prix: 70.99, Stock: 3\n"
     ]
    }
   ],
   "execution_count": 70
  },
  {
   "metadata": {},
   "cell_type": "code",
   "outputs": [],
   "execution_count": null,
   "source": "",
   "id": "c51abc483dffbec9"
  },
  {
   "metadata": {},
   "cell_type": "markdown",
   "source": [
    "* Exercice: Site de E-commerce\n",
    "\n",
    "Vous travaillez pour un site e-commerce.\n",
    "\n",
    "Écrivez une fonction calculer_total qui prend en entrée le prix d'un produit et la quantité commandée, et qui calcule le total de la commande. Si le total est supérieur à 100 euros, la fonction doit appliquer une réduction de 10% sur le prix total.\n",
    "\n",
    "Ensuite, écrivez une fonction ajouter_frais_livraison qui prend en entrée le prix total de la commande et qui ajoute les frais de livraison en fonction du pays de destination. Cette fonction doit retourner ce nouveau prix.\n",
    "\n",
    "Si le pays de destination est la France, les frais de livraison sont de 5 euros.\n",
    "\n",
    "Si le pays de destination est l'Espagne, les frais de livraison sont de 10 euros.\n",
    "\n",
    "Si le pays de destination est les Etats-Unis, les frais de livraison sont de 15 euros.\n",
    "\n",
    "Si le pays de destination est l'Australie, les frais de livraison sont de 20 euros.\n",
    "\n",
    "Dans tous les autres cas, les frais de livraison sont de 30 euros\n",
    "\n",
    "Enfin, écrivez une fonction passer_commande qui prend en entrée le prix d'un produit, la quantité commandée et le pays de destination, et qui calcule le total de la commande avec les frais de livraison et la réduction éventuelle. La fonction doit retourner le total de la commande."
   ],
   "id": "8d8abc28712e5cf4"
  },
  {
   "metadata": {
    "ExecuteTime": {
     "end_time": "2025-03-06T12:22:39.114226Z",
     "start_time": "2025-03-06T12:22:39.106955Z"
    }
   },
   "cell_type": "code",
   "source": [
    "def calculer_total():\n",
    "    prix = float(input(\"Entrez le prix unitaire de votre produit: \"))\n",
    "    quantite = float(input(\"Entrez la quantité de produit souhaité: \"))\n",
    "    prix_total = prix * quantite\n",
    "    if prix_total > 100:\n",
    "        prix_reduit = prix_total - prix_total * 0.1\n",
    "        return prix_reduit\n",
    "    else: \n",
    "        return prix_total"
   ],
   "id": "af3bc942ea5530a",
   "outputs": [],
   "execution_count": 147
  },
  {
   "metadata": {
    "ExecuteTime": {
     "end_time": "2025-03-06T12:22:49.893852Z",
     "start_time": "2025-03-06T12:22:42.061443Z"
    }
   },
   "cell_type": "code",
   "source": "total = calculer_total()\n",
   "id": "d5865ecc437122d0",
   "outputs": [],
   "execution_count": 148
  },
  {
   "metadata": {
    "ExecuteTime": {
     "end_time": "2025-03-06T12:22:54.797546Z",
     "start_time": "2025-03-06T12:22:54.787317Z"
    }
   },
   "cell_type": "code",
   "source": "total",
   "id": "4c63087a2ddb92e1",
   "outputs": [
    {
     "data": {
      "text/plain": [
       "2250.0"
      ]
     },
     "execution_count": 149,
     "metadata": {},
     "output_type": "execute_result"
    }
   ],
   "execution_count": 149
  },
  {
   "metadata": {
    "ExecuteTime": {
     "end_time": "2025-03-06T12:20:47.081838Z",
     "start_time": "2025-03-06T12:20:47.074957Z"
    }
   },
   "cell_type": "code",
   "source": [
    "def printer(value):\n",
    "    print(value)\n",
    "    \n",
    "printer(total)"
   ],
   "id": "c595edb9394569e6",
   "outputs": [
    {
     "name": "stdout",
     "output_type": "stream",
     "text": [
      "None\n"
     ]
    }
   ],
   "execution_count": 144
  },
  {
   "metadata": {
    "ExecuteTime": {
     "end_time": "2025-03-12T09:35:36.348227Z",
     "start_time": "2025-03-12T09:35:32.861625Z"
    }
   },
   "cell_type": "code",
   "source": [
    "def ajouter_frais_livraison(prix_total):\n",
    "    pays = input(\"Dans quel pays est-ce que vous souhaitez etre livrés ! \")\n",
    "    frais_livraison = {\n",
    "        \"France\": 5,\n",
    "        \"Espagne\": 10,\n",
    "        \"Etats-Unis\": 15,\n",
    "        \"Australie\": 20,\n",
    "        \"Autres pays\": 30,\n",
    "    }\n",
    "    frais = frais_livraison.get(pays,30)\n",
    "    \n",
    "    prix_total_avec_livraison = prix_total + frais\n",
    "    \n",
    "    return prix_total_avec_livraison\n",
    "ajouter_frais_livraison(2250)"
   ],
   "id": "edd36647f67d2f5d",
   "outputs": [
    {
     "ename": "KeyboardInterrupt",
     "evalue": "Interrupted by user",
     "output_type": "error",
     "traceback": [
      "\u001B[1;31m---------------------------------------------------------------------------\u001B[0m",
      "\u001B[1;31mKeyboardInterrupt\u001B[0m                         Traceback (most recent call last)",
      "Cell \u001B[1;32mIn[1], line 15\u001B[0m\n\u001B[0;32m     12\u001B[0m     prix_total_avec_livraison \u001B[38;5;241m=\u001B[39m prix_total \u001B[38;5;241m+\u001B[39m frais\n\u001B[0;32m     14\u001B[0m     \u001B[38;5;28;01mreturn\u001B[39;00m prix_total_avec_livraison\n\u001B[1;32m---> 15\u001B[0m \u001B[43majouter_frais_livraison\u001B[49m\u001B[43m(\u001B[49m\u001B[38;5;241;43m2250\u001B[39;49m\u001B[43m)\u001B[49m\n",
      "Cell \u001B[1;32mIn[1], line 2\u001B[0m, in \u001B[0;36majouter_frais_livraison\u001B[1;34m(prix_total)\u001B[0m\n\u001B[0;32m      1\u001B[0m \u001B[38;5;28;01mdef\u001B[39;00m\u001B[38;5;250m \u001B[39m\u001B[38;5;21majouter_frais_livraison\u001B[39m(prix_total):\n\u001B[1;32m----> 2\u001B[0m     pays \u001B[38;5;241m=\u001B[39m \u001B[38;5;28;43minput\u001B[39;49m\u001B[43m(\u001B[49m\u001B[38;5;124;43m\"\u001B[39;49m\u001B[38;5;124;43mDans quel pays est-ce que vous souhaitez etre livrés ! \u001B[39;49m\u001B[38;5;124;43m\"\u001B[39;49m\u001B[43m)\u001B[49m\n\u001B[0;32m      3\u001B[0m     frais_livraison \u001B[38;5;241m=\u001B[39m {\n\u001B[0;32m      4\u001B[0m         \u001B[38;5;124m\"\u001B[39m\u001B[38;5;124mFrance\u001B[39m\u001B[38;5;124m\"\u001B[39m: \u001B[38;5;241m5\u001B[39m,\n\u001B[0;32m      5\u001B[0m         \u001B[38;5;124m\"\u001B[39m\u001B[38;5;124mEspagne\u001B[39m\u001B[38;5;124m\"\u001B[39m: \u001B[38;5;241m10\u001B[39m,\n\u001B[1;32m   (...)\u001B[0m\n\u001B[0;32m      8\u001B[0m         \u001B[38;5;124m\"\u001B[39m\u001B[38;5;124mAutres pays\u001B[39m\u001B[38;5;124m\"\u001B[39m: \u001B[38;5;241m30\u001B[39m,\n\u001B[0;32m      9\u001B[0m     }\n\u001B[0;32m     10\u001B[0m     frais \u001B[38;5;241m=\u001B[39m frais_livraison\u001B[38;5;241m.\u001B[39mget(pays,\u001B[38;5;241m30\u001B[39m)\n",
      "File \u001B[1;32m~\\AppData\\Roaming\\Python\\Python313\\site-packages\\ipykernel\\kernelbase.py:1282\u001B[0m, in \u001B[0;36mKernel.raw_input\u001B[1;34m(self, prompt)\u001B[0m\n\u001B[0;32m   1280\u001B[0m     msg \u001B[38;5;241m=\u001B[39m \u001B[38;5;124m\"\u001B[39m\u001B[38;5;124mraw_input was called, but this frontend does not support input requests.\u001B[39m\u001B[38;5;124m\"\u001B[39m\n\u001B[0;32m   1281\u001B[0m     \u001B[38;5;28;01mraise\u001B[39;00m StdinNotImplementedError(msg)\n\u001B[1;32m-> 1282\u001B[0m \u001B[38;5;28;01mreturn\u001B[39;00m \u001B[38;5;28;43mself\u001B[39;49m\u001B[38;5;241;43m.\u001B[39;49m\u001B[43m_input_request\u001B[49m\u001B[43m(\u001B[49m\n\u001B[0;32m   1283\u001B[0m \u001B[43m    \u001B[49m\u001B[38;5;28;43mstr\u001B[39;49m\u001B[43m(\u001B[49m\u001B[43mprompt\u001B[49m\u001B[43m)\u001B[49m\u001B[43m,\u001B[49m\n\u001B[0;32m   1284\u001B[0m \u001B[43m    \u001B[49m\u001B[38;5;28;43mself\u001B[39;49m\u001B[38;5;241;43m.\u001B[39;49m\u001B[43m_parent_ident\u001B[49m\u001B[43m[\u001B[49m\u001B[38;5;124;43m\"\u001B[39;49m\u001B[38;5;124;43mshell\u001B[39;49m\u001B[38;5;124;43m\"\u001B[39;49m\u001B[43m]\u001B[49m\u001B[43m,\u001B[49m\n\u001B[0;32m   1285\u001B[0m \u001B[43m    \u001B[49m\u001B[38;5;28;43mself\u001B[39;49m\u001B[38;5;241;43m.\u001B[39;49m\u001B[43mget_parent\u001B[49m\u001B[43m(\u001B[49m\u001B[38;5;124;43m\"\u001B[39;49m\u001B[38;5;124;43mshell\u001B[39;49m\u001B[38;5;124;43m\"\u001B[39;49m\u001B[43m)\u001B[49m\u001B[43m,\u001B[49m\n\u001B[0;32m   1286\u001B[0m \u001B[43m    \u001B[49m\u001B[43mpassword\u001B[49m\u001B[38;5;241;43m=\u001B[39;49m\u001B[38;5;28;43;01mFalse\u001B[39;49;00m\u001B[43m,\u001B[49m\n\u001B[0;32m   1287\u001B[0m \u001B[43m\u001B[49m\u001B[43m)\u001B[49m\n",
      "File \u001B[1;32m~\\AppData\\Roaming\\Python\\Python313\\site-packages\\ipykernel\\kernelbase.py:1325\u001B[0m, in \u001B[0;36mKernel._input_request\u001B[1;34m(self, prompt, ident, parent, password)\u001B[0m\n\u001B[0;32m   1322\u001B[0m \u001B[38;5;28;01mexcept\u001B[39;00m \u001B[38;5;167;01mKeyboardInterrupt\u001B[39;00m:\n\u001B[0;32m   1323\u001B[0m     \u001B[38;5;66;03m# re-raise KeyboardInterrupt, to truncate traceback\u001B[39;00m\n\u001B[0;32m   1324\u001B[0m     msg \u001B[38;5;241m=\u001B[39m \u001B[38;5;124m\"\u001B[39m\u001B[38;5;124mInterrupted by user\u001B[39m\u001B[38;5;124m\"\u001B[39m\n\u001B[1;32m-> 1325\u001B[0m     \u001B[38;5;28;01mraise\u001B[39;00m \u001B[38;5;167;01mKeyboardInterrupt\u001B[39;00m(msg) \u001B[38;5;28;01mfrom\u001B[39;00m\u001B[38;5;250m \u001B[39m\u001B[38;5;28;01mNone\u001B[39;00m\n\u001B[0;32m   1326\u001B[0m \u001B[38;5;28;01mexcept\u001B[39;00m \u001B[38;5;167;01mException\u001B[39;00m:\n\u001B[0;32m   1327\u001B[0m     \u001B[38;5;28mself\u001B[39m\u001B[38;5;241m.\u001B[39mlog\u001B[38;5;241m.\u001B[39mwarning(\u001B[38;5;124m\"\u001B[39m\u001B[38;5;124mInvalid Message:\u001B[39m\u001B[38;5;124m\"\u001B[39m, exc_info\u001B[38;5;241m=\u001B[39m\u001B[38;5;28;01mTrue\u001B[39;00m)\n",
      "\u001B[1;31mKeyboardInterrupt\u001B[0m: Interrupted by user"
     ]
    }
   ],
   "execution_count": 1
  },
  {
   "metadata": {
    "ExecuteTime": {
     "end_time": "2025-03-06T12:23:15.207766Z",
     "start_time": "2025-03-06T12:22:59.389208Z"
    }
   },
   "cell_type": "code",
   "source": "prix_total_avec_livraison = ajouter_frais_livraison(calculer_total())",
   "id": "8708bf9981da7b84",
   "outputs": [],
   "execution_count": 150
  },
  {
   "metadata": {
    "ExecuteTime": {
     "end_time": "2025-03-06T12:23:34.972981Z",
     "start_time": "2025-03-06T12:23:34.965483Z"
    }
   },
   "cell_type": "code",
   "source": "prix_total_avec_livraison",
   "id": "51c67a4e70c378af",
   "outputs": [
    {
     "data": {
      "text/plain": [
       "2255.0"
      ]
     },
     "execution_count": 151,
     "metadata": {},
     "output_type": "execute_result"
    }
   ],
   "execution_count": 151
  },
  {
   "metadata": {
    "ExecuteTime": {
     "end_time": "2025-03-06T11:53:04.153708Z",
     "start_time": "2025-03-06T11:53:04.147149Z"
    }
   },
   "cell_type": "code",
   "source": [
    "\n",
    "def passer_commande(prix, quantite, pays):\n",
    "    \n",
    "    prix_sans_frais_livraison = calculer_total(prix, quantite)\n",
    "    "
   ],
   "id": "a0de02e09218c209",
   "outputs": [],
   "execution_count": 125
  },
  {
   "metadata": {},
   "cell_type": "code",
   "outputs": [],
   "execution_count": null,
   "source": "",
   "id": "5ff6dab30743eb0"
  }
 ],
 "metadata": {
  "kernelspec": {
   "display_name": "Python 3",
   "language": "python",
   "name": "python3"
  },
  "language_info": {
   "codemirror_mode": {
    "name": "ipython",
    "version": 2
   },
   "file_extension": ".py",
   "mimetype": "text/x-python",
   "name": "python",
   "nbconvert_exporter": "python",
   "pygments_lexer": "ipython2",
   "version": "2.7.6"
  }
 },
 "nbformat": 4,
 "nbformat_minor": 5
}
