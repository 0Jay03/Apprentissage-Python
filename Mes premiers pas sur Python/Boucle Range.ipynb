{
 "cells": [
  {
   "cell_type": "code",
   "id": "initial_id",
   "metadata": {
    "collapsed": true,
    "ExecuteTime": {
     "end_time": "2025-02-26T11:08:50.068281Z",
     "start_time": "2025-02-26T11:08:50.058042Z"
    }
   },
   "source": [
    "liste_de_prenoms = [\"Adam\", \"Christophe\", \"Florian\"]\n",
    "liste_de_langues = [ \"Français\", \"Anglais\", \"Espagnol\"]\n",
    "for prenom in liste_de_prenoms:\n",
    "    for langues in liste_de_langues:\n",
    "        print(prenom, \":\", langues)"
   ],
   "outputs": [
    {
     "name": "stdout",
     "output_type": "stream",
     "text": [
      "Adam : Français\n",
      "Adam : Anglais\n",
      "Adam : Espagnol\n",
      "Christophe : Français\n",
      "Christophe : Anglais\n",
      "Christophe : Espagnol\n",
      "Florian : Français\n",
      "Florian : Anglais\n",
      "Florian : Espagnol\n"
     ]
    }
   ],
   "execution_count": 1
  },
  {
   "metadata": {
    "ExecuteTime": {
     "end_time": "2025-02-26T11:15:08.423146Z",
     "start_time": "2025-02-26T11:15:08.417969Z"
    }
   },
   "cell_type": "code",
   "source": "",
   "id": "a8d3f0f18f57c33a",
   "outputs": [],
   "execution_count": null
  },
  {
   "metadata": {
    "ExecuteTime": {
     "end_time": "2025-02-26T11:14:56.708758Z",
     "start_time": "2025-02-26T11:14:56.699631Z"
    }
   },
   "cell_type": "code",
   "source": [
    "liste_de_langues = [\n",
    "    [\"Français\", \"Espagnol\", \"Italien\"],\n",
    "    [\"Néerlandais\", \"Allemand\", \"Anglais\"]\n",
    "]\n",
    "for groupe_de_langues in liste_de_langues:\n",
    "    for langues in groupe_de_langues:\n",
    "        print(langues)"
   ],
   "id": "7a6d53f7306d170c",
   "outputs": [
    {
     "name": "stdout",
     "output_type": "stream",
     "text": [
      "Français\n",
      "Espagnol\n",
      "Italien\n",
      "Néerlandais\n",
      "Allemand\n",
      "Anglais\n"
     ]
    }
   ],
   "execution_count": 10
  },
  {
   "metadata": {
    "ExecuteTime": {
     "end_time": "2025-02-26T15:13:55.734866Z",
     "start_time": "2025-02-26T15:13:55.722193Z"
    }
   },
   "cell_type": "code",
   "source": [
    "text = ['Le', 'Brésil,', 'seule', 'équipe', 'à', 'avoir', 'disputé', 'toutes',\n",
    "        'les', 'phases', 'finales', 'de', 'la', 'compétition,', 'détient', 'le', 'record',\n",
    "        'avec', 'cinq', 'titres', 'mondiaux', 'et', \"s'est\", 'acquis', 'le', 'droit', 'de',\n",
    "        'conserver', 'la', 'Coupe', 'Jules-Rimet', 'en', '1970', 'après', 'sa', '3e',\n",
    "        'victoire', 'finale', 'dans', 'la', 'compétition,', 'avec', 'Pelé', 'seul',\n",
    "        'joueur', 'triple', 'champion', 'du', 'monde.', \"l'\", \"Italie\", 'et',\n",
    "        \"l'\", \"Allemagne\", 'comptent', 'quatre', 'trophées.', \"l'\", \"Uruguay,\", 'vainqueur',\n",
    "        'à', 'domicile', 'de', 'la', 'première', 'édition,', \"l'\", \"Argentine\", 'et',\n",
    "        'la', 'France', 'ont', 'gagné', 'chacune', 'deux', 'fois', 'la', 'Coupe,',\n",
    "        \"l'\", \"Angleterre\", 'et', \"l'\", \"Espagne\", 'une', 'fois.', 'La', 'dernière', 'édition',\n",
    "        \"s'est\", 'déroulée', 'en', 'Russie', 'en', '2018,', 'la', 'prochaine', 'doit',\n",
    "        'avoir', 'lieu', 'au', 'Qatar', 'en', '2022.', 'Celle', 'de', '2026,', 'aux',\n",
    "        'États-Unis,', 'au', 'Canada', 'et', 'au', 'Mexique)', 'sera', 'la', 'première',\n",
    "        'édition', 'à', '48', 'équipes', 'participantes.', 'La', 'Coupe', 'du', 'monde',\n",
    "        'de', 'football', 'est', \"l'\", \"événement\", 'sportif', 'le', 'plus', 'regardé', 'à',\n",
    "        'la', 'télévision', 'dans', 'le', 'monde', 'avec', 'les', 'Jeux', 'olympiques',\n",
    "        'et', 'la', 'Coupe', 'du', 'monde', 'de', 'cricket.']\n",
    "\n",
    "cardinalite_lettre_a = 0\n",
    "for mot in text:\n",
    "  for lettre in mot:\n",
    "      if lettre == \"a\":\n",
    "          cardinalite_lettre_a += 1\n",
    "print(cardinalite_lettre_a)"
   ],
   "id": "b633822d5206c696",
   "outputs": [
    {
     "name": "stdout",
     "output_type": "stream",
     "text": [
      "52\n"
     ]
    }
   ],
   "execution_count": 50
  },
  {
   "metadata": {},
   "cell_type": "code",
   "outputs": [],
   "execution_count": null,
   "source": [
    "# (a) Stocker dans une liste nommée puissances_trois les 10 premières puissances de 3.\n",
    "puissances_trois = [3**k for k in range(10)]\n",
    "print(puissances_trois)"
   ],
   "id": "649135dd65482743"
  },
  {
   "metadata": {},
   "cell_type": "code",
   "outputs": [],
   "execution_count": null,
   "source": [
    "# (b) Une liste liste_nombres vous est donnée. Créer une nouvelle liste liste_double contenant le double de chacun de ses éléments.\n",
    "liste_nombres = [10, 12, 7, 3, 26, 2, 19]\n",
    "liste_double = [nombres*2 for nombres in liste_nombres]\n",
    "print(liste_double)"
   ],
   "id": "85c75b23f4547c7b"
  },
  {
   "metadata": {},
   "cell_type": "code",
   "outputs": [],
   "execution_count": null,
   "source": "# (c) À partir de liste_nombres, créer une liste liste_pairs qui pour chaque nombre de liste_nombres indique \"pair\" si le nombre est pair, et \"impair\" sinon. La parité peut être testée à l'aide de l'opérateur modulo %",
   "id": "abdd5626e24ca8f7"
  },
  {
   "metadata": {},
   "cell_type": "code",
   "outputs": [],
   "execution_count": null,
   "source": [
    "liste_pairs = [\"pair\" if nombres %2 ==0 else \"impair\" for  nombres in liste_nombres ]\n",
    "print(liste_pairs)"
   ],
   "id": "8bbaa3b8e92b6812"
  },
  {
   "metadata": {},
   "cell_type": "code",
   "outputs": [],
   "execution_count": null,
   "source": "",
   "id": "9d5bb55a66797297"
  },
  {
   "metadata": {
    "ExecuteTime": {
     "end_time": "2025-03-06T14:27:15.823587Z",
     "start_time": "2025-03-06T14:27:15.809264Z"
    }
   },
   "cell_type": "code",
   "source": "list(range(7))",
   "id": "88417c0c568cfe84",
   "outputs": [
    {
     "data": {
      "text/plain": [
       "[0, 1, 2, 3, 4, 5, 6]"
      ]
     },
     "execution_count": 3,
     "metadata": {},
     "output_type": "execute_result"
    }
   ],
   "execution_count": 3
  },
  {
   "metadata": {},
   "cell_type": "code",
   "outputs": [],
   "execution_count": null,
   "source": "",
   "id": "f91efbbcc200c72d"
  },
  {
   "metadata": {},
   "cell_type": "code",
   "outputs": [],
   "execution_count": null,
   "source": "",
   "id": "845ef0cc6a6b1376"
  },
  {
   "metadata": {},
   "cell_type": "code",
   "outputs": [],
   "execution_count": null,
   "source": "",
   "id": "813bc0e6db428803"
  },
  {
   "metadata": {},
   "cell_type": "code",
   "outputs": [],
   "execution_count": null,
   "source": "",
   "id": "1a4f0291e041592a"
  },
  {
   "metadata": {},
   "cell_type": "code",
   "outputs": [],
   "execution_count": null,
   "source": "\n",
   "id": "9c300100093ad1bb"
  },
  {
   "metadata": {
    "ExecuteTime": {
     "end_time": "2025-02-26T12:21:20.882812Z",
     "start_time": "2025-02-26T12:21:20.875346Z"
    }
   },
   "cell_type": "code",
   "source": "",
   "id": "697ceabd2b6b2412",
   "outputs": [],
   "execution_count": null
  },
  {
   "metadata": {},
   "cell_type": "code",
   "outputs": [],
   "execution_count": null,
   "source": "",
   "id": "664fce271db04321"
  }
 ],
 "metadata": {
  "kernelspec": {
   "display_name": "Python 3",
   "language": "python",
   "name": "python3"
  },
  "language_info": {
   "codemirror_mode": {
    "name": "ipython",
    "version": 2
   },
   "file_extension": ".py",
   "mimetype": "text/x-python",
   "name": "python",
   "nbconvert_exporter": "python",
   "pygments_lexer": "ipython2",
   "version": "2.7.6"
  }
 },
 "nbformat": 4,
 "nbformat_minor": 5
}
