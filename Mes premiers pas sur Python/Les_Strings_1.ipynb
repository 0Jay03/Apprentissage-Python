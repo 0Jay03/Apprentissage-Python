{
  "nbformat": 4,
  "nbformat_minor": 0,
  "metadata": {
    "colab": {
      "provenance": []
    },
    "kernelspec": {
      "name": "python3",
      "display_name": "Python 3"
    },
    "language_info": {
      "name": "python"
    }
  },
  "cells": [
    {
      "cell_type": "markdown",
      "source": [
        "# Définition\n",
        "Les string, en informatique, représentent une chaîne de caractères délimitée par le symbole `'` ou `\"`.\n",
        "Un string peut contenir différents types de données, tel que:\n",
        "- un chiffre, par exemple `un_nombre = \"2\"`\n",
        "- du texte, par exemple `un_texte = \"ceci est une chaine de caracteres\"`\n",
        "- la représentation d'une image\n",
        "- ...etc\n",
        "\n",
        "Si le texte que l'on veut représenter contient plusieurs lignes, on peut l'entourer par le caractère `'''` ou `\"\"\"`."
      ],
      "metadata": {
        "id": "dNAZ9qgnegHz"
      }
    },
    {
      "cell_type": "code",
      "source": [
        "un_nombre = \"2\"\n",
        "un_texte = 'ceci est une chaîne de caractères'\n",
        "un_poeme_avec_plusieurs_lignes = \"\"\"\n",
        "Les sanglots longs\n",
        "Des violons\n",
        "De l’automne\n",
        "Blessent mon coeur\n",
        "D’une langueur\n",
        "Monotone.\n",
        "\"\"\"\n",
        "\n",
        "print(\"un nombre\", un_nombre)\n",
        "print(\"------\")\n",
        "print(\"un texte\", un_texte)\n",
        "print(\"------\")\n",
        "print(\"un poeme\", un_poeme_avec_plusieurs_lignes)"
      ],
      "metadata": {
        "colab": {
          "base_uri": "https://localhost:8080/"
        },
        "id": "x0hZsw9ZfP8D",
        "outputId": "069ff3a7-45f9-44bb-c032-8c58f9d1f816"
      },
      "execution_count": 3,
      "outputs": [
        {
          "output_type": "stream",
          "name": "stdout",
          "text": [
            "un nombre 2\n",
            "------\n",
            "un texte ceci est une chaîne de caractères\n",
            "------\n",
            "un poeme \n",
            "Les sanglots longs\n",
            "Des violons\n",
            "De l’automne\n",
            "Blessent mon coeur\n",
            "D’une langueur\n",
            "Monotone.\n",
            "\n"
          ]
        }
      ]
    },
    {
      "cell_type": "markdown",
      "source": [
        "# Exercices sur les méthodes des string"
      ],
      "metadata": {
        "id": "yQVwuQsifSND"
      }
    },
    {
      "cell_type": "code",
      "source": [
        "liste_de_valeurs = [\"udemy\", 600, \"Harrison St 3rd Floor\", \"San Francisco\", \"CA 94107\", \"United States\"]"
      ],
      "metadata": {
        "id": "4LCxq5Qlf63g"
      },
      "execution_count": 6,
      "outputs": []
    },
    {
      "cell_type": "markdown",
      "source": [
        "1. Transformez la liste ci-dessus en un seul string oú les différents éléments sont séparés par le charactère `/`"
      ],
      "metadata": {
        "id": "RdD8lc5egkXM"
      }
    },
    {
      "cell_type": "code",
      "source": [
        "# @title\n",
        "# Ce code ne fonctionne pas parce que la 2eme valeur de liste_de_valeurs est en réalité un nombre\n",
        "# Pour vous en convaincre, exécutez ce code!\n",
        "\" / \".join(liste_de_valeurs)"
      ],
      "metadata": {
        "id": "n1K4iAO-g9wT"
      },
      "execution_count": null,
      "outputs": []
    },
    {
      "cell_type": "code",
      "source": [
        "# @title\n",
        "# Il faut donc transformer le chiffre 600 en un string\n",
        "liste_de_valeurs_transformee = [\"udemy\", \"600\", \"Harrison St 3rd Floor\", \"San Francisco\", \"CA 94107\", \"United States\"]\n",
        "\" / \".join(liste_de_valeurs_transformee)"
      ],
      "metadata": {
        "id": "Av_UuzW1gd9o"
      },
      "execution_count": null,
      "outputs": []
    },
    {
      "cell_type": "markdown",
      "source": [
        "2. Vérifiez que:\n",
        "   - le code postal contient bien des chiffres et des lettres\n",
        "   - le nom du pays ne contient que des lettres\n",
        "\n",
        "Si vous trouvez que ce n'est pas le cas, utilisez les méthodes des string pour les modifier de telles sortes que les vérifications ci-dessus soient vraies."
      ],
      "metadata": {
        "id": "IPckporpiHwU"
      }
    },
    {
      "cell_type": "code",
      "source": [
        "# @title\n",
        "# Le code postal est l'avant dernier élément de la liste, on peut donc faire\n",
        "print(\"Le code postal est constitué de chiffres et de lettres\", liste_de_valeurs[-2].isalnum())\n",
        "\n",
        "# Le code retourne la valeur False à cause du caractère \"espace\" qui sépare CA de 94107\n",
        "# Si on veut qu'il ne contienne que des chiffres et des lettres, on peut faire ceci\n",
        "# on crée une variable pour que ce soit plus facile à manipuler\n",
        "code_postal_original = liste_de_valeurs[-2]\n",
        "print(\"Code postal original\", code_postal_original)\n",
        "\n",
        "# on utilise la méthode split pour séparer les 2 parties du code postal\n",
        "code_postal_en_liste = code_postal_original.split()\n",
        "print(\"Code postal en liste, sans espaces\", code_postal_en_liste)\n",
        "\n",
        "# on utilise la méthode join pour les combiner ensemble\n",
        "# Attention à ne pas réintroduire l'espace ici!\n",
        "code_postal_avec_chiffres_et_lettres_uniquement = \"\".join(code_postal_en_liste)\n",
        "print(\"Code postal sans espaces\", code_postal_avec_chiffres_et_lettres_uniquement)\n",
        "\n",
        "\n",
        "print(\"Le code postal ne contient que des chiffres et des lettres\", code_postal_avec_chiffres_et_lettres_uniquement.isalnum())\n",
        "\n",
        "# Faites pareil pour le nom du pays :)"
      ],
      "metadata": {
        "cellView": "form",
        "id": "_BcfR-NKhNqN"
      },
      "execution_count": null,
      "outputs": []
    },
    {
      "cell_type": "markdown",
      "source": [
        "3. Affichez l'adresse de la compagnie Udemy comme si vous lui envoyiez un courrier en suivant le format suivant\n",
        "\n",
        "À l'adresse de NOM\n",
        "\n",
        "NUMERO_DE_RUE NOM_DE_RUE\n",
        "\n",
        "CODE_POSTAL - NOM_DE_VILLE\n",
        "\n",
        "NOM_DU_PAYS"
      ],
      "metadata": {
        "id": "GM_tr1DxkkAF"
      }
    },
    {
      "cell_type": "code",
      "source": [
        "# Pour cette question, on peut simplement utiliser un f-string et un string long\n",
        "# Remarquez que le f-string ne se plaint pas du fait que le code postal est un chiffre\n",
        "# Le f-string s'occupe de transformer le chiffre en string!\n",
        "\n",
        "print(f\"\"\"\n",
        "À l'adresse de {liste_de_valeurs[0]}\n",
        "{liste_de_valeurs[1]} {liste_de_valeurs[2]}\n",
        "{liste_de_valeurs[4]} - {liste_de_valeurs[3]}\n",
        "{liste_de_valeurs[-1]}\n",
        "\"\"\")"
      ],
      "metadata": {
        "colab": {
          "base_uri": "https://localhost:8080/"
        },
        "id": "MCiTzG-Tilaw",
        "outputId": "c0ab6653-deb5-4f7d-a195-ecae64059f88"
      },
      "execution_count": 19,
      "outputs": [
        {
          "output_type": "stream",
          "name": "stdout",
          "text": [
            "\n",
            "À l'adresse de udemy\n",
            "600 Harrison St 3rd Floor\n",
            "CA 94107 - San Francisco\n",
            "United States\n",
            "\n"
          ]
        }
      ]
    },
    {
      "cell_type": "markdown",
      "source": [
        "4. Vous remarquerez que le nom de l'entreprise est en lettres minuscules:\n",
        "  - utilisez la méthode `upper()` pour le transformer en un mot avec des majuscules\n",
        "  - utilisez ensuite la méthode `capitalize()` pour transformer uniquement la 1ere lettre en majuscule"
      ],
      "metadata": {
        "id": "ZGJjpDeglqj1"
      }
    },
    {
      "cell_type": "code",
      "source": [
        "# La méthode upper\n",
        "print(\"Le nom de l'entreprise en majuscules:\",liste_de_valeurs[0].upper())\n",
        "\n",
        "# La méthode capitalize\n",
        "print(\"Le nom de l'entreprise avec la 1ere lettre en majuscule:\", liste_de_valeurs[0].capitalize())"
      ],
      "metadata": {
        "colab": {
          "base_uri": "https://localhost:8080/"
        },
        "id": "Qn15_qvEiq4w",
        "outputId": "b709f4f6-3d23-4710-9fc9-9b3bfb271239"
      },
      "execution_count": 26,
      "outputs": [
        {
          "output_type": "stream",
          "name": "stdout",
          "text": [
            "Le nom de l'entreprise en majuscules: UDEMY\n",
            "Le nom de l'entreprise avec la 1ere lettre en majuscule: Udemy\n"
          ]
        }
      ]
    },
    {
      "cell_type": "code",
      "source": [],
      "metadata": {
        "id": "syCUE2_Yl09a"
      },
      "execution_count": null,
      "outputs": []
    }
  ]
}