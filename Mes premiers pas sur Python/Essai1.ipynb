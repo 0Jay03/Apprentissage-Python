{
 "cells": [
  {
   "cell_type": "code",
   "id": "initial_id",
   "metadata": {
    "collapsed": true,
    "ExecuteTime": {
     "end_time": "2025-02-07T11:24:09.474492Z",
     "start_time": "2025-02-07T11:24:09.457099Z"
    }
   },
   "source": [
    "from operator import truediv\n",
    "\n",
    "x=1\n",
    "type(x)"
   ],
   "outputs": [
    {
     "data": {
      "text/plain": [
       "int"
      ]
     },
     "execution_count": 1,
     "metadata": {},
     "output_type": "execute_result"
    }
   ],
   "execution_count": 1
  },
  {
   "metadata": {
    "ExecuteTime": {
     "end_time": "2025-02-07T11:27:45.699151Z",
     "start_time": "2025-02-07T11:27:45.687148Z"
    }
   },
   "cell_type": "code",
   "source": [
    "x= (\"Hello World\")\n",
    "type(x)"
   ],
   "id": "eb7bb72fca38d73e",
   "outputs": [
    {
     "data": {
      "text/plain": [
       "str"
      ]
     },
     "execution_count": 8,
     "metadata": {},
     "output_type": "execute_result"
    }
   ],
   "execution_count": 8
  },
  {
   "metadata": {
    "ExecuteTime": {
     "end_time": "2025-02-14T10:25:54.783651Z",
     "start_time": "2025-02-14T10:25:54.775959Z"
    }
   },
   "cell_type": "code",
   "source": [
    "x=2.5\n",
    "type(x)\n",
    "x= True"
   ],
   "id": "be4c9a0fbcffce94",
   "outputs": [],
   "execution_count": 1
  },
  {
   "metadata": {},
   "cell_type": "code",
   "outputs": [],
   "execution_count": null,
   "source": "",
   "id": "93049b28b2ffad8"
  },
  {
   "metadata": {
    "ExecuteTime": {
     "end_time": "2025-02-07T11:35:42.004137Z",
     "start_time": "2025-02-07T11:35:41.973956Z"
    }
   },
   "cell_type": "code",
   "source": [
    "x= False\n",
    "type(x)"
   ],
   "id": "7414f65443bbb07c",
   "outputs": [
    {
     "data": {
      "text/plain": [
       "bool"
      ]
     },
     "execution_count": 15,
     "metadata": {},
     "output_type": "execute_result"
    }
   ],
   "execution_count": 15
  },
  {
   "metadata": {},
   "cell_type": "markdown",
   "source": "",
   "id": "d877e92c17403dfb"
  },
  {
   "metadata": {
    "ExecuteTime": {
     "end_time": "2025-02-12T09:48:05.791290Z",
     "start_time": "2025-02-12T09:48:05.783250Z"
    }
   },
   "cell_type": "code",
   "source": [
    "ma_variable = 123456789\n",
    "ma_variable_fois_2 = ma_variable * 2\n",
    "#Afficher les deux variables\n",
    "print(ma_variable)\n",
    "print(ma_variable_fois_2)"
   ],
   "id": "f855473d9ff02f99",
   "outputs": [
    {
     "name": "stdout",
     "output_type": "stream",
     "text": [
      "123456789\n",
      "246913578\n"
     ]
    }
   ],
   "execution_count": 3
  }
 ],
 "metadata": {
  "kernelspec": {
   "display_name": "Python 3",
   "language": "python",
   "name": "python3"
  },
  "language_info": {
   "codemirror_mode": {
    "name": "ipython",
    "version": 2
   },
   "file_extension": ".py",
   "mimetype": "text/x-python",
   "name": "python",
   "nbconvert_exporter": "python",
   "pygments_lexer": "ipython2",
   "version": "2.7.6"
  }
 },
 "nbformat": 4,
 "nbformat_minor": 5
}
