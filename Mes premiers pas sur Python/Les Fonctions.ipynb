{
 "cells": [
  {
   "metadata": {},
   "cell_type": "markdown",
   "source": "+ FONCTION A UN ARGUMENT",
   "id": "4bee8a389f31d371"
  },
  {
   "cell_type": "code",
   "id": "initial_id",
   "metadata": {
    "collapsed": true,
    "ExecuteTime": {
     "end_time": "2025-03-04T05:37:14.601690Z",
     "start_time": "2025-03-04T05:37:14.599255Z"
    }
   },
   "source": [
    "# Exercice 1: Fonction qui calcule le double d'un nombre\n",
    "def doubler(x):\n",
    "    return (x*2)"
   ],
   "outputs": [],
   "execution_count": 9
  },
  {
   "metadata": {
    "ExecuteTime": {
     "end_time": "2025-03-04T05:37:16.191400Z",
     "start_time": "2025-03-04T05:37:16.187433Z"
    }
   },
   "cell_type": "code",
   "source": "doubler(4)",
   "id": "3cff3700cd9d028d",
   "outputs": [
    {
     "data": {
      "text/plain": [
       "8"
      ]
     },
     "execution_count": 10,
     "metadata": {},
     "output_type": "execute_result"
    }
   ],
   "execution_count": 10
  },
  {
   "metadata": {
    "ExecuteTime": {
     "end_time": "2025-03-04T06:26:32.140579Z",
     "start_time": "2025-03-04T06:26:32.137068Z"
    }
   },
   "cell_type": "code",
   "source": [
    "# Exercice 2: Écrire une fonction nommée uniques qui prend en argument une liste et renvoie une nouvelle liste contenant les valeurs uniques de cette liste\n",
    "liste = [1, 1, 2, 2, 2, 3, 3, \"Bonjour\"]\n",
    "\n",
    "def uniques(liste):\n",
    "    result = []\n",
    "    for element in liste:\n",
    "        if element not in result:\n",
    "            result.append(element)\n",
    "    return result\n",
    "print(uniques(liste))"
   ],
   "id": "6fdb2b3132e53832",
   "outputs": [
    {
     "name": "stdout",
     "output_type": "stream",
     "text": [
      "[1, 2, 3, 'Bonjour']\n"
     ]
    }
   ],
   "execution_count": 22
  },
  {
   "metadata": {
    "ExecuteTime": {
     "end_time": "2025-03-04T06:38:47.154864Z",
     "start_time": "2025-03-04T06:38:47.151206Z"
    }
   },
   "cell_type": "code",
   "source": [
    "# Exercice 3: Écrire une fonction nommée list_product qui prend en argument une liste de nombres et calcule à l'aide d'une boucle le produit de tous les nombres dans la liste.\n",
    "test_list = [1, 0.12, -54, 12, 0.33, 12]\n",
    "\n",
    "def list_product(test_list): # Il vaut mieux entrer le nom de l'argument diifferent du nom de la variable\n",
    "    x = 1\n",
    "    for element in test_list:\n",
    "        x *= element\n",
    "    return x\n",
    "print(list_product(test_list))"
   ],
   "id": "d7327699ceeca88d",
   "outputs": [
    {
     "name": "stdout",
     "output_type": "stream",
     "text": [
      "-307.9296\n"
     ]
    }
   ],
   "execution_count": 30
  },
  {
   "metadata": {},
   "cell_type": "markdown",
   "source": "* FONCTION A PLUSIEURS ARGUMENTS",
   "id": "151f7aa6b2773dbb"
  },
  {
   "metadata": {
    "ExecuteTime": {
     "end_time": "2025-03-04T10:58:33.834498Z",
     "start_time": "2025-03-04T10:58:33.822662Z"
    }
   },
   "cell_type": "code",
   "source": [
    "                    # Exercice 4: Exercice sur les fonctions à plusieurs arguments\n",
    "# Créer une fonction power4, qui prend en argument un nombre x et renvoit les 4 premières puissances de ce nombre ( x^1,x^2,x^3,x^4 )\n",
    "\n",
    "def power4(x):\n",
    "    return tuple(x**i for i in range(1,5))\n",
    "print(power4(8))\n",
    "    "
   ],
   "id": "c58f3325b2fbf8d1",
   "outputs": [
    {
     "name": "stdout",
     "output_type": "stream",
     "text": [
      "(8, 64, 512, 4096)\n"
     ]
    }
   ],
   "execution_count": 31
  },
  {
   "metadata": {
    "ExecuteTime": {
     "end_time": "2025-03-04T10:54:08.985168Z",
     "start_time": "2025-03-04T10:54:08.966946Z"
    }
   },
   "cell_type": "code",
   "source": [
    "# Tester cette fonction sur x = 8 et stocker les résultats dans x_1, x_2, x_3 et x_4.\n",
    "power4(8)\n",
    "x_1, x_2, x_3, x_4 = list(power4(8))\n",
    "print(f\"x_1 = {x_1}, x_2 = {x_2}, x_3 = {x_3}, x_4 = {x_4}\")"
   ],
   "id": "872a6e8a55179e82",
   "outputs": [
    {
     "name": "stdout",
     "output_type": "stream",
     "text": [
      "x_1 = 8, x_2 = 64, x_3 = 512, x_4 = 4096\n"
     ]
    }
   ],
   "execution_count": 24
  },
  {
   "metadata": {
    "ExecuteTime": {
     "end_time": "2025-03-04T10:54:36.110109Z",
     "start_time": "2025-03-04T10:54:36.100838Z"
    }
   },
   "cell_type": "code",
   "source": [
    "# Créer une fonction power_diff prenant en argument 4 nombres x_1, x_2, x_3 et x_4 et qui renvoie la différence entre x_2 et x_1, la différence entre x_3 et x_2 et la différence entre x_4 et x_3.\n",
    "\n",
    "def power_diff(x_1, x_2, x_3, x_4):\n",
    "    diff_1 = x_2 - x_1\n",
    "    diff_2 = x_3 - x_2\n",
    "    diff_3 = x_4 - x_3\n",
    "    return(diff_1, diff_2, diff_3)\n",
    "\n",
    "x_1, x_2,  x_3, x_4 = power4(8)\n",
    "resultats = power_diff(x_1, x_2, x_3, x_4)\n",
    "\n",
    "print(resultats)"
   ],
   "id": "93b90057e479be9d",
   "outputs": [
    {
     "name": "stdout",
     "output_type": "stream",
     "text": [
      "(56, 448, 3584)\n"
     ]
    }
   ],
   "execution_count": 29
  },
  {
   "metadata": {
    "ExecuteTime": {
     "end_time": "2025-03-04T11:26:02.276573Z",
     "start_time": "2025-03-04T11:26:02.266552Z"
    }
   },
   "cell_type": "code",
   "source": [
    "# Correction\n",
    "def power4(x):\n",
    "    return x**1, x**2, x**3, x**4\n",
    "\n",
    "x_1, x_2, x_3, x_4 = power4(8)\n",
    "\n",
    "def power_diff(y_1, y_2, y_3, y_4):\n",
    "    return y_2-y_1, y_3-y_2, y_4-y_3\n",
    "\n",
    "print(power_diff(x_1, x_2, x_3, x_4)) # Different affichage du resultat\n",
    "print(power_diff(*power4(8))) # ici on peut ajouter une etoile *\n"
   ],
   "id": "956f0ff199e74398",
   "outputs": [
    {
     "name": "stdout",
     "output_type": "stream",
     "text": [
      "(56, 448, 3584)\n",
      "(56, 448, 3584)\n"
     ]
    }
   ],
   "execution_count": 34
  },
  {
   "metadata": {},
   "cell_type": "markdown",
   "source": "+ FONCTION RECURSIVE",
   "id": "49f8cf52f549df40"
  },
  {
   "metadata": {},
   "cell_type": "code",
   "outputs": [],
   "execution_count": null,
   "source": [
    "                                    # Exercice 5: premiere fonction recursive\n",
    "def factorielle(n):\n",
    "    if n == 0:\n",
    "        return 1\n",
    "    else:\n",
    "        return n * factorielle(n-1)"
   ],
   "id": "b870adf42475587b"
  },
  {
   "metadata": {},
   "cell_type": "code",
   "outputs": [],
   "execution_count": null,
   "source": "",
   "id": "3193db4f7a9ea5e9"
  }
 ],
 "metadata": {
  "kernelspec": {
   "display_name": "Python 3",
   "language": "python",
   "name": "python3"
  },
  "language_info": {
   "codemirror_mode": {
    "name": "ipython",
    "version": 2
   },
   "file_extension": ".py",
   "mimetype": "text/x-python",
   "name": "python",
   "nbconvert_exporter": "python",
   "pygments_lexer": "ipython2",
   "version": "2.7.6"
  }
 },
 "nbformat": 4,
 "nbformat_minor": 5
}
